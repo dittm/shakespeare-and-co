{
 "cells": [
  {
   "cell_type": "markdown",
   "metadata": {
    "id": "oulL-Ho0eVDr"
   },
   "source": [
    "# Numbers and charts for \"_Shakespeare and Company Project_  Datasets\"\n",
    "\n",
    "## setup"
   ]
  },
  {
   "cell_type": "code",
<<<<<<< Updated upstream
   "execution_count": 1,
=======
   "execution_count": 15,
>>>>>>> Stashed changes
   "metadata": {
    "colab": {
     "base_uri": "https://localhost:8080/"
    },
    "id": "BULu_Ng7eeip",
    "outputId": "fe1d5d04-1ab4-47e6-b3cd-9a7806d6ae25",
    "ExecuteTime": {
     "end_time": "2024-05-13T08:50:17.985843Z",
     "start_time": "2024-05-13T08:50:14.489716100Z"
    }
   },
   "outputs": [
    {
     "name": "stderr",
     "output_type": "stream",
     "text": [
<<<<<<< Updated upstream
      "C:\\Users\\dittmann\\AppData\\Local\\Temp\\ipykernel_4424\\3365563468.py:13: DtypeWarning: Columns (20) have mixed types. Specify dtype option on import or set low_memory=False.\n",
=======
      "C:\\Users\\dittm\\AppData\\Local\\Temp\\ipykernel_16720\\3004853848.py:13: DtypeWarning: Columns (20) have mixed types. Specify dtype option on import or set low_memory=False.\n",
>>>>>>> Stashed changes
      "  events_df = pd.read_csv(csv_paths['events'])\n"
     ]
    }
   ],
   "source": [
    "import pandas as pd\n",
    "\n",
    "# load data as csv from local copies of 1.2 version\n",
    "csv_paths = {\n",
    "    'members': '../data/SCoData_members_v1.2_2022_01.csv',\n",
    "    'books':  '../data/SCoData_books_v1.2_2022_01.csv',\n",
    "    'events': '../data/SCoData_events_v1.2_2022_01.csv',\n",
    "}\n",
    "\n",
    "# load members, books, events as csv\n",
    "members_df = pd.read_csv(csv_paths['members'])\n",
    "books_df = pd.read_csv(csv_paths['books'])\n",
    "events_df = pd.read_csv(csv_paths['events'])\n"
   ]
  },
  {
   "cell_type": "markdown",
   "metadata": {
    "id": "IMJPrwADfWAU"
   },
   "source": [
    "\n",
    "# members\n"
   ]
  },
  {
   "cell_type": "markdown",
   "metadata": {
    "id": "hBsHyWeRfdfJ"
   },
   "source": [
    "## overview - demographics\n"
   ]
  },
  {
   "cell_type": "code",
<<<<<<< Updated upstream
   "execution_count": 2,
=======
   "execution_count": 16,
>>>>>>> Stashed changes
   "metadata": {
    "colab": {
     "base_uri": "https://localhost:8080/"
    },
    "id": "cPO4eZLne9X4",
    "outputId": "03ee9b0d-f0b7-480f-939f-3408e3ad01ee",
    "ExecuteTime": {
     "end_time": "2024-05-13T08:50:17.985843Z",
     "start_time": "2024-05-13T08:50:14.933895800Z"
    }
   },
   "outputs": [
    {
     "name": "stdout",
     "output_type": "stream",
     "text": [
      "5235 members\n"
     ]
    }
   ],
   "source": [
    "total_members = len(members_df)\n",
    "print('%d members' % len(members_df))"
   ]
  },
  {
   "cell_type": "code",
<<<<<<< Updated upstream
   "execution_count": 3,
=======
   "execution_count": 17,
>>>>>>> Stashed changes
   "metadata": {
    "id": "kMKrslZyhEkP",
    "ExecuteTime": {
     "end_time": "2024-05-13T08:50:17.994608600Z",
     "start_time": "2024-05-13T08:50:14.948362Z"
    }
   },
   "outputs": [],
   "source": [
    "def percent_known(df, field):\n",
    "  total = len(df)\n",
    "  with_field = len(members_df[members_df[field].notnull()])\n",
    "  print('%d with %s : %.00f%%' % (with_field, field, (with_field/total)*100))\n",
    "  return with_field"
   ]
  },
  {
   "cell_type": "code",
<<<<<<< Updated upstream
   "execution_count": 4,
=======
   "execution_count": 18,
>>>>>>> Stashed changes
   "metadata": {
    "colab": {
     "base_uri": "https://localhost:8080/"
    },
    "id": "uharV6Bmg6jr",
    "outputId": "7794c202-1052-4283-e509-f4002ceaa732",
    "ExecuteTime": {
     "end_time": "2024-05-13T08:50:17.994608600Z",
     "start_time": "2024-05-13T08:50:14.960370700Z"
    }
   },
   "outputs": [
    {
     "name": "stdout",
     "output_type": "stream",
     "text": [
      "3673 with title : 70%\n",
      "4039 with gender : 77%\n",
      "561 with birth_year : 11%\n",
      "544 with death_year : 10%\n",
      "581 with nationalities : 11%\n",
      "520 with viaf_url : 10%\n",
      "358 with wikipedia_url : 7%\n",
      "{'title': 3673, 'gender': 4039, 'birth_year': 561, 'death_year': 544, 'nationalities': 581, 'viaf_url': 520, 'wikipedia_url': 358}\n"
     ]
    }
   ],
   "source": [
    "total_known = {}\n",
    "for field in ['title', 'gender', 'birth_year', 'death_year', 'nationalities', 'viaf_url', 'wikipedia_url']:\n",
    "    total_known[field] = percent_known(members_df, field)\n",
    "\n",
    "print(total_known)"
   ]
  },
  {
   "cell_type": "code",
<<<<<<< Updated upstream
   "execution_count": 5,
=======
   "execution_count": 19,
>>>>>>> Stashed changes
   "metadata": {
    "colab": {
     "base_uri": "https://localhost:8080/",
     "height": 269
    },
    "id": "rzzEETgohfPO",
    "outputId": "1691b9cd-1619-4e6b-9514-1ebedb42387c",
    "ExecuteTime": {
     "end_time": "2024-05-13T08:50:17.994608600Z",
     "start_time": "2024-05-13T08:50:15.007246300Z"
    }
   },
   "outputs": [
    {
     "data": {
      "text/plain": "               total  percent\ngender          4039    77.15\ntitle           3673    70.16\nnationalities    581    11.10\nbirth_year       561    10.72\ndeath_year       544    10.39\nviaf_url         520     9.93\nwikipedia_url    358     6.84",
      "text/html": "<div>\n<style scoped>\n    .dataframe tbody tr th:only-of-type {\n        vertical-align: middle;\n    }\n\n    .dataframe tbody tr th {\n        vertical-align: top;\n    }\n\n    .dataframe thead th {\n        text-align: right;\n    }\n</style>\n<table border=\"1\" class=\"dataframe\">\n  <thead>\n    <tr style=\"text-align: right;\">\n      <th></th>\n      <th>total</th>\n      <th>percent</th>\n    </tr>\n  </thead>\n  <tbody>\n    <tr>\n      <th>gender</th>\n      <td>4039</td>\n      <td>77.15</td>\n    </tr>\n    <tr>\n      <th>title</th>\n      <td>3673</td>\n      <td>70.16</td>\n    </tr>\n    <tr>\n      <th>nationalities</th>\n      <td>581</td>\n      <td>11.10</td>\n    </tr>\n    <tr>\n      <th>birth_year</th>\n      <td>561</td>\n      <td>10.72</td>\n    </tr>\n    <tr>\n      <th>death_year</th>\n      <td>544</td>\n      <td>10.39</td>\n    </tr>\n    <tr>\n      <th>viaf_url</th>\n      <td>520</td>\n      <td>9.93</td>\n    </tr>\n    <tr>\n      <th>wikipedia_url</th>\n      <td>358</td>\n      <td>6.84</td>\n    </tr>\n  </tbody>\n</table>\n</div>"
     },
<<<<<<< Updated upstream
     "execution_count": 5,
=======
     "execution_count": 19,
>>>>>>> Stashed changes
     "metadata": {},
     "output_type": "execute_result"
    }
   ],
   "source": [
    "known = pd.DataFrame({'total': total_known})\n",
    "known['percent'] = (known['total'] / len(members_df))*100\n",
    "known = known.sort_values(by=['total'], ascending=False)\n",
    "known.percent = known.percent.round(2)\n",
    "known"
   ]
  },
  {
   "cell_type": "code",
<<<<<<< Updated upstream
   "execution_count": 6,
=======
   "execution_count": 20,
>>>>>>> Stashed changes
   "metadata": {
    "colab": {
     "base_uri": "https://localhost:8080/",
     "height": 337
    },
    "id": "oGXbcEihIm5p",
    "outputId": "8fb92dce-b906-4cec-a83a-616049dca8e9",
    "ExecuteTime": {
     "end_time": "2024-05-13T08:50:18.150880800Z",
     "start_time": "2024-05-13T08:50:15.022875600Z"
    }
   },
   "outputs": [
    {
     "data": {
<<<<<<< Updated upstream
      "image/png": "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",
      "text/plain": [
       "<Figure size 600x400 with 1 Axes>"
      ]
=======
      "text/plain": "<Figure size 600x400 with 1 Axes>",
      "image/png": "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\n"
>>>>>>> Stashed changes
     },
     "metadata": {},
     "output_type": "display_data"
    }
   ],
   "source": [
    "import matplotlib\n",
    "total_members = len(members_df.index)\n",
    "known_unknown = pd.DataFrame()\n",
    "known_unknown['known'] = known['total']\n",
    "\n",
    "known_unknown['unknown'] = known.total.apply(lambda x: total_members - x)\n",
    "\n",
    "known_unknown.plot(kind='bar', title='Known and unknown demographic information ', stacked=True, color=['#47C2C2', 'lightgray'], figsize=(6,4))\n",
    "matplotlib.pyplot.savefig('known_unknown_demographics.svg')"
   ]
  },
  {
   "cell_type": "code",
<<<<<<< Updated upstream
   "execution_count": 7,
=======
   "execution_count": 21,
>>>>>>> Stashed changes
   "metadata": {
    "colab": {
     "base_uri": "https://localhost:8080/",
     "height": 749
    },
    "id": "TorHXqiTiEfj",
    "outputId": "8645091d-2eae-43c9-ff34-37b2126b76a3",
    "ExecuteTime": {
     "end_time": "2024-05-13T08:50:18.150880800Z",
     "start_time": "2024-05-13T08:50:15.525266600Z"
    }
   },
   "outputs": [
    {
     "name": "stdout",
     "output_type": "stream",
     "text": [
      "1,183 members with no demographic info\n"
     ]
    },
    {
     "data": {
      "text/plain": "                                                    uri            name  \\\n2     https://shakespeareandco.princeton.edu/members...           Abdul   \n4     https://shakespeareandco.princeton.edu/members...          Abelin   \n8     https://shakespeareandco.princeton.edu/members...  L. C. Abrahams   \n11    https://shakespeareandco.princeton.edu/members...         Accursi   \n12    https://shakespeareandco.princeton.edu/members...       Achenbach   \n...                                                 ...             ...   \n5210  https://shakespeareandco.princeton.edu/members...           Young   \n5211  https://shakespeareandco.princeton.edu/members...           Young   \n5212  https://shakespeareandco.princeton.edu/members...           Young   \n5222  https://shakespeareandco.princeton.edu/members...        Zakorska   \n5230  https://shakespeareandco.princeton.edu/members...         Ziegler   \n\n            sort_name title gender  is_organization  has_card  birth_year  \\\n2               Abdul   NaN    NaN            False     False         NaN   \n4              Abelin   NaN    NaN            False     False         NaN   \n8     Abrahams, L. C.   NaN    NaN            False     False         NaN   \n11            Accursi   NaN    NaN            False     False         NaN   \n12          Achenbach   NaN    NaN            False     False         NaN   \n...               ...   ...    ...              ...       ...         ...   \n5210            Young   NaN    NaN            False     False         NaN   \n5211            Young   NaN    NaN            False     False         NaN   \n5212            Young   NaN    NaN            False     False         NaN   \n5222         Zakorska   NaN    NaN            False     False         NaN   \n5230          Ziegler   NaN    NaN            False     False         NaN   \n\n      death_year membership_years viaf_url wikipedia_url nationalities  \\\n2            NaN             1941      NaN           NaN           NaN   \n4            NaN             1933      NaN           NaN           NaN   \n8            NaN             1937      NaN           NaN           NaN   \n11           NaN             1941      NaN           NaN           NaN   \n12           NaN             1939      NaN           NaN           NaN   \n...          ...              ...      ...           ...           ...   \n5210         NaN        1929;1930      NaN           NaN           NaN   \n5211         NaN             1939      NaN           NaN           NaN   \n5212         NaN             1936      NaN           NaN           NaN   \n5222         NaN             1927      NaN           NaN           NaN   \n5230         NaN             1928      NaN           NaN           NaN   \n\n                                             addresses postal_codes  \\\n2                                                  NaN          NaN   \n4                                                  NaN          NaN   \n8     Hôtel du Luxembourg, 12 rue Royer-Collard, Paris        75005   \n11                                                 NaN          NaN   \n12                                                 NaN          NaN   \n...                                                ...          ...   \n5210                                               NaN          NaN   \n5211                                               NaN          NaN   \n5212                                               NaN          NaN   \n5222                                               NaN          NaN   \n5230                                               NaN          NaN   \n\n     arrondissements        coordinates  \\\n2                NaN                NaN   \n4                NaN                NaN   \n8                  5  48.84586, 2.34182   \n11               NaN                NaN   \n12               NaN                NaN   \n...              ...                ...   \n5210             NaN                NaN   \n5211             NaN                NaN   \n5212             NaN                NaN   \n5222             NaN                NaN   \n5230             NaN                NaN   \n\n                                                  notes  \\\n2                                                   NaN   \n4                                                   NaN   \n8     The Shakespeare and Company <a href=\"https://s...   \n11                                                  NaN   \n12                                                  NaN   \n...                                                 ...   \n5210                                                NaN   \n5211                                                NaN   \n5212                                                NaN   \n5222                                                NaN   \n5230                                                NaN   \n\n                               updated  \n2            2019-12-22T01:57:37+00:00  \n4            2019-12-22T01:57:48+00:00  \n8            2021-08-15T00:40:29+00:00  \n11           2019-12-22T01:58:25+00:00  \n12    2021-10-22T15:22:26.589958+00:00  \n...                                ...  \n5210         2019-11-19T14:47:39+00:00  \n5211         2019-11-19T14:47:39+00:00  \n5212         2019-11-19T14:47:39+00:00  \n5222         2019-11-19T14:47:39+00:00  \n5230         2019-11-19T14:47:39+00:00  \n\n[1183 rows x 19 columns]",
      "text/html": "<div>\n<style scoped>\n    .dataframe tbody tr th:only-of-type {\n        vertical-align: middle;\n    }\n\n    .dataframe tbody tr th {\n        vertical-align: top;\n    }\n\n    .dataframe thead th {\n        text-align: right;\n    }\n</style>\n<table border=\"1\" class=\"dataframe\">\n  <thead>\n    <tr style=\"text-align: right;\">\n      <th></th>\n      <th>uri</th>\n      <th>name</th>\n      <th>sort_name</th>\n      <th>title</th>\n      <th>gender</th>\n      <th>is_organization</th>\n      <th>has_card</th>\n      <th>birth_year</th>\n      <th>death_year</th>\n      <th>membership_years</th>\n      <th>viaf_url</th>\n      <th>wikipedia_url</th>\n      <th>nationalities</th>\n      <th>addresses</th>\n      <th>postal_codes</th>\n      <th>arrondissements</th>\n      <th>coordinates</th>\n      <th>notes</th>\n      <th>updated</th>\n    </tr>\n  </thead>\n  <tbody>\n    <tr>\n      <th>2</th>\n      <td>https://shakespeareandco.princeton.edu/members...</td>\n      <td>Abdul</td>\n      <td>Abdul</td>\n      <td>NaN</td>\n      <td>NaN</td>\n      <td>False</td>\n      <td>False</td>\n      <td>NaN</td>\n      <td>NaN</td>\n      <td>1941</td>\n      <td>NaN</td>\n      <td>NaN</td>\n      <td>NaN</td>\n      <td>NaN</td>\n      <td>NaN</td>\n      <td>NaN</td>\n      <td>NaN</td>\n      <td>NaN</td>\n      <td>2019-12-22T01:57:37+00:00</td>\n    </tr>\n    <tr>\n      <th>4</th>\n      <td>https://shakespeareandco.princeton.edu/members...</td>\n      <td>Abelin</td>\n      <td>Abelin</td>\n      <td>NaN</td>\n      <td>NaN</td>\n      <td>False</td>\n      <td>False</td>\n      <td>NaN</td>\n      <td>NaN</td>\n      <td>1933</td>\n      <td>NaN</td>\n      <td>NaN</td>\n      <td>NaN</td>\n      <td>NaN</td>\n      <td>NaN</td>\n      <td>NaN</td>\n      <td>NaN</td>\n      <td>NaN</td>\n      <td>2019-12-22T01:57:48+00:00</td>\n    </tr>\n    <tr>\n      <th>8</th>\n      <td>https://shakespeareandco.princeton.edu/members...</td>\n      <td>L. C. Abrahams</td>\n      <td>Abrahams, L. C.</td>\n      <td>NaN</td>\n      <td>NaN</td>\n      <td>False</td>\n      <td>False</td>\n      <td>NaN</td>\n      <td>NaN</td>\n      <td>1937</td>\n      <td>NaN</td>\n      <td>NaN</td>\n      <td>NaN</td>\n      <td>Hôtel du Luxembourg, 12 rue Royer-Collard, Paris</td>\n      <td>75005</td>\n      <td>5</td>\n      <td>48.84586, 2.34182</td>\n      <td>The Shakespeare and Company &lt;a href=\"https://s...</td>\n      <td>2021-08-15T00:40:29+00:00</td>\n    </tr>\n    <tr>\n      <th>11</th>\n      <td>https://shakespeareandco.princeton.edu/members...</td>\n      <td>Accursi</td>\n      <td>Accursi</td>\n      <td>NaN</td>\n      <td>NaN</td>\n      <td>False</td>\n      <td>False</td>\n      <td>NaN</td>\n      <td>NaN</td>\n      <td>1941</td>\n      <td>NaN</td>\n      <td>NaN</td>\n      <td>NaN</td>\n      <td>NaN</td>\n      <td>NaN</td>\n      <td>NaN</td>\n      <td>NaN</td>\n      <td>NaN</td>\n      <td>2019-12-22T01:58:25+00:00</td>\n    </tr>\n    <tr>\n      <th>12</th>\n      <td>https://shakespeareandco.princeton.edu/members...</td>\n      <td>Achenbach</td>\n      <td>Achenbach</td>\n      <td>NaN</td>\n      <td>NaN</td>\n      <td>False</td>\n      <td>False</td>\n      <td>NaN</td>\n      <td>NaN</td>\n      <td>1939</td>\n      <td>NaN</td>\n      <td>NaN</td>\n      <td>NaN</td>\n      <td>NaN</td>\n      <td>NaN</td>\n      <td>NaN</td>\n      <td>NaN</td>\n      <td>NaN</td>\n      <td>2021-10-22T15:22:26.589958+00:00</td>\n    </tr>\n    <tr>\n      <th>...</th>\n      <td>...</td>\n      <td>...</td>\n      <td>...</td>\n      <td>...</td>\n      <td>...</td>\n      <td>...</td>\n      <td>...</td>\n      <td>...</td>\n      <td>...</td>\n      <td>...</td>\n      <td>...</td>\n      <td>...</td>\n      <td>...</td>\n      <td>...</td>\n      <td>...</td>\n      <td>...</td>\n      <td>...</td>\n      <td>...</td>\n      <td>...</td>\n    </tr>\n    <tr>\n      <th>5210</th>\n      <td>https://shakespeareandco.princeton.edu/members...</td>\n      <td>Young</td>\n      <td>Young</td>\n      <td>NaN</td>\n      <td>NaN</td>\n      <td>False</td>\n      <td>False</td>\n      <td>NaN</td>\n      <td>NaN</td>\n      <td>1929;1930</td>\n      <td>NaN</td>\n      <td>NaN</td>\n      <td>NaN</td>\n      <td>NaN</td>\n      <td>NaN</td>\n      <td>NaN</td>\n      <td>NaN</td>\n      <td>NaN</td>\n      <td>2019-11-19T14:47:39+00:00</td>\n    </tr>\n    <tr>\n      <th>5211</th>\n      <td>https://shakespeareandco.princeton.edu/members...</td>\n      <td>Young</td>\n      <td>Young</td>\n      <td>NaN</td>\n      <td>NaN</td>\n      <td>False</td>\n      <td>False</td>\n      <td>NaN</td>\n      <td>NaN</td>\n      <td>1939</td>\n      <td>NaN</td>\n      <td>NaN</td>\n      <td>NaN</td>\n      <td>NaN</td>\n      <td>NaN</td>\n      <td>NaN</td>\n      <td>NaN</td>\n      <td>NaN</td>\n      <td>2019-11-19T14:47:39+00:00</td>\n    </tr>\n    <tr>\n      <th>5212</th>\n      <td>https://shakespeareandco.princeton.edu/members...</td>\n      <td>Young</td>\n      <td>Young</td>\n      <td>NaN</td>\n      <td>NaN</td>\n      <td>False</td>\n      <td>False</td>\n      <td>NaN</td>\n      <td>NaN</td>\n      <td>1936</td>\n      <td>NaN</td>\n      <td>NaN</td>\n      <td>NaN</td>\n      <td>NaN</td>\n      <td>NaN</td>\n      <td>NaN</td>\n      <td>NaN</td>\n      <td>NaN</td>\n      <td>2019-11-19T14:47:39+00:00</td>\n    </tr>\n    <tr>\n      <th>5222</th>\n      <td>https://shakespeareandco.princeton.edu/members...</td>\n      <td>Zakorska</td>\n      <td>Zakorska</td>\n      <td>NaN</td>\n      <td>NaN</td>\n      <td>False</td>\n      <td>False</td>\n      <td>NaN</td>\n      <td>NaN</td>\n      <td>1927</td>\n      <td>NaN</td>\n      <td>NaN</td>\n      <td>NaN</td>\n      <td>NaN</td>\n      <td>NaN</td>\n      <td>NaN</td>\n      <td>NaN</td>\n      <td>NaN</td>\n      <td>2019-11-19T14:47:39+00:00</td>\n    </tr>\n    <tr>\n      <th>5230</th>\n      <td>https://shakespeareandco.princeton.edu/members...</td>\n      <td>Ziegler</td>\n      <td>Ziegler</td>\n      <td>NaN</td>\n      <td>NaN</td>\n      <td>False</td>\n      <td>False</td>\n      <td>NaN</td>\n      <td>NaN</td>\n      <td>1928</td>\n      <td>NaN</td>\n      <td>NaN</td>\n      <td>NaN</td>\n      <td>NaN</td>\n      <td>NaN</td>\n      <td>NaN</td>\n      <td>NaN</td>\n      <td>NaN</td>\n      <td>2019-11-19T14:47:39+00:00</td>\n    </tr>\n  </tbody>\n</table>\n<p>1183 rows × 19 columns</p>\n</div>"
     },
<<<<<<< Updated upstream
     "execution_count": 7,
=======
     "execution_count": 21,
>>>>>>> Stashed changes
     "metadata": {},
     "output_type": "execute_result"
    }
   ],
   "source": [
    "unknown = members_df\n",
    "for field in ['title', 'gender', 'birth_year', 'death_year', 'nationalities', 'viaf_url', 'wikipedia_url']:\n",
    "  unknown = unknown[unknown[field].isnull()]\n",
    "\n",
    "print(f'{len(unknown):,} members with no demographic info')\n",
    "unknown"
   ]
  },
  {
   "cell_type": "markdown",
   "metadata": {
    "id": "RRQtyyvLk57K"
   },
   "source": [
    "## membership years"
   ]
  },
  {
   "cell_type": "code",
<<<<<<< Updated upstream
   "execution_count": 8,
=======
   "execution_count": 22,
>>>>>>> Stashed changes
   "metadata": {
    "colab": {
     "base_uri": "https://localhost:8080/",
     "height": 1000
    },
    "id": "89Dq4hfhj6wj",
    "outputId": "1e812ebc-cf89-492b-f7b2-a18715232c0e",
    "ExecuteTime": {
     "end_time": "2024-05-13T08:50:18.166581900Z",
     "start_time": "2024-05-13T08:50:15.562531300Z"
    }
   },
   "outputs": [
    {
     "name": "stdout",
     "output_type": "stream",
     "text": [
      "58 members with no membership years\n"
     ]
    },
    {
     "data": {
      "text/plain": "                                                    uri  \\\n101   https://shakespeareandco.princeton.edu/members...   \n136   https://shakespeareandco.princeton.edu/members...   \n152   https://shakespeareandco.princeton.edu/members...   \n210   https://shakespeareandco.princeton.edu/members...   \n215   https://shakespeareandco.princeton.edu/members...   \n371   https://shakespeareandco.princeton.edu/members...   \n392   https://shakespeareandco.princeton.edu/members...   \n501   https://shakespeareandco.princeton.edu/members...   \n604   https://shakespeareandco.princeton.edu/members...   \n632   https://shakespeareandco.princeton.edu/members...   \n648   https://shakespeareandco.princeton.edu/members...   \n710   https://shakespeareandco.princeton.edu/members...   \n761   https://shakespeareandco.princeton.edu/members...   \n797   https://shakespeareandco.princeton.edu/members...   \n873   https://shakespeareandco.princeton.edu/members...   \n1099  https://shakespeareandco.princeton.edu/members...   \n1101  https://shakespeareandco.princeton.edu/members...   \n1111  https://shakespeareandco.princeton.edu/members...   \n1125  https://shakespeareandco.princeton.edu/members...   \n1147  https://shakespeareandco.princeton.edu/members...   \n1155  https://shakespeareandco.princeton.edu/members...   \n1184  https://shakespeareandco.princeton.edu/members...   \n1227  https://shakespeareandco.princeton.edu/members...   \n1261  https://shakespeareandco.princeton.edu/members...   \n1428  https://shakespeareandco.princeton.edu/members...   \n1429  https://shakespeareandco.princeton.edu/members...   \n1436  https://shakespeareandco.princeton.edu/members...   \n1467  https://shakespeareandco.princeton.edu/members...   \n1509  https://shakespeareandco.princeton.edu/members...   \n1561  https://shakespeareandco.princeton.edu/members...   \n1647  https://shakespeareandco.princeton.edu/members...   \n1682  https://shakespeareandco.princeton.edu/members...   \n1757  https://shakespeareandco.princeton.edu/members...   \n1765  https://shakespeareandco.princeton.edu/members...   \n1992  https://shakespeareandco.princeton.edu/members...   \n2045  https://shakespeareandco.princeton.edu/members...   \n2190  https://shakespeareandco.princeton.edu/members...   \n2245  https://shakespeareandco.princeton.edu/members...   \n2293  https://shakespeareandco.princeton.edu/members...   \n2324  https://shakespeareandco.princeton.edu/members...   \n2353  https://shakespeareandco.princeton.edu/members...   \n2381  https://shakespeareandco.princeton.edu/members...   \n2435  https://shakespeareandco.princeton.edu/members...   \n2590  https://shakespeareandco.princeton.edu/members...   \n2800  https://shakespeareandco.princeton.edu/members...   \n2988  https://shakespeareandco.princeton.edu/members...   \n3149  https://shakespeareandco.princeton.edu/members...   \n3162  https://shakespeareandco.princeton.edu/members...   \n3194  https://shakespeareandco.princeton.edu/members...   \n3338  https://shakespeareandco.princeton.edu/members...   \n3436  https://shakespeareandco.princeton.edu/members...   \n3579  https://shakespeareandco.princeton.edu/members...   \n3926  https://shakespeareandco.princeton.edu/members...   \n4152  https://shakespeareandco.princeton.edu/members...   \n4247  https://shakespeareandco.princeton.edu/members...   \n4920  https://shakespeareandco.princeton.edu/members...   \n5109  https://shakespeareandco.princeton.edu/members...   \n5175  https://shakespeareandco.princeton.edu/members...   \n\n                                           name                sort_name  \\\n101                                Louis Aragon            Aragon, Louis   \n136                                 Louis Atlas             Atlas, Louis   \n152                             Jacob Auslander         Auslander, Jacob   \n210                                  Mme Baquis              Baquis, Mme   \n215                                Jean Barbier            Barbier, Jean   \n371                                   Miss Best               Best, Miss   \n392                                 Hans Bieler             Bieler, Hans   \n501                                  Mlle Boscq              Boscq, Mlle   \n604                             Catherine Brody         Brody, Catherine   \n632   Colette Brull-Ulmann / Mlle Colette Brull    Brull-Ulmann, Colette   \n648                                      Bryher                   Bryher   \n710                         Mlle Busson-Leblanc     Busson-Leblanc, Mlle   \n761                            Maria Canavaggia        Canavaggia, Maria   \n797                               Carl Cartland           Cartland, Carl   \n873                        Mme Martin Chauffier    Chauffier, Mme Martin   \n1099                                 Mr. Crozet              Crozet, Mr.   \n1101                                 Mme Cuénod              Cuénod, Mme   \n1111                             Henry Cummings          Cummings, Henry   \n1125                             Edward Cushing          Cushing, Edward   \n1147                           Reymonde Darling        Darling, Reymonde   \n1155                                René Daumal             Daumal, René   \n1184                                  Miss Daws               Daws, Miss   \n1227                                Mme Degains             Degains, Mme   \n1261                                  Mrs. Dell               Dell, Mrs.   \n1428                         Mrs. J. F. Douglas      Douglas, Mrs. J. F.   \n1429                              V. A. Douglas           Douglas, V. A.   \n1436                                 Mr. Doyley              Doyley, Mr.   \n1467                                 Mr. Dufour              Dufour, Mr.   \n1509                                Luc Durtain             Durtain, Luc   \n1561                             E. Eisenschitz          Eisenschitz, E.   \n1647                               Emmanuel Fay            Fay, Emmanuel   \n1682                               R. S. Finney            Finney, R. S.   \n1757                               M. Fournerey            Fournerey, M.   \n1765                                  Mlle Foyé               Foyé, Mlle   \n1992                     Herbert Sherman Gorman  Gorman, Herbert Sherman   \n2045                               A. K. Griggs            Griggs, A. K.   \n2190                             Allanah Harper          Harper, Allanah   \n2245                                  Jane Heap               Heap, Jane   \n2293                                 Mr. Hersch              Hersch, Mr.   \n2324                              G. W. Higgins           Higgins, G. W.   \n2353                              Leigh Hoffman           Hoffman, Leigh   \n2381                             Bernard Hommel          Hommel, Bernard   \n2435                               Alice Hughes            Hughes, Alice   \n2590                               Louis Jouvet            Jouvet, Louis   \n2800                             Valery Larbaud          Larbaud, Valery   \n2988                                   Mme Lion                Lion, Mme   \n3149                               Mme Mannette            Mannette, Mme   \n3162                            George Margolin         Margolin, George   \n3194                       Juan Ramón Masoliver    Masoliver, Juan Ramón   \n3338                             Mlle Mercoiret          Mercoiret, Mlle   \n3436                                Mme le Moal             Moal, Mme le   \n3579                            Margaret Newitt         Newitt, Margaret   \n3926                             G. E. Pulsford          Pulsford, G. E.   \n4152                              Jules Romains           Romains, Jules   \n4247                                 Erik Satie              Satie, Erik   \n4920                                Mrs. Visser             Visser, Mrs.   \n5109                               Romer Wilson            Wilson, Romer   \n5175                               Julia Wright            Wright, Julia   \n\n     title  gender  is_organization  has_card  birth_year  death_year  \\\n101    NaN    Male            False      True      1897.0      1982.0   \n136    NaN    Male            False     False         NaN         NaN   \n152    Mr.    Male            False     False         NaN         NaN   \n210    Mme  Female            False     False         NaN         NaN   \n215     M.    Male            False     False         NaN         NaN   \n371   Miss  Female            False     False         NaN         NaN   \n392    Dr.    Male            False     False         NaN         NaN   \n501   Mlle  Female            False     False         NaN         NaN   \n604   Miss  Female            False     False         NaN         NaN   \n632   Mlle  Female            False      True      1920.0         NaN   \n648    NaN  Female            False      True      1894.0      1983.0   \n710   Mlle  Female            False     False         NaN         NaN   \n761   Mlle  Female            False     False      1896.0      1976.0   \n797    Mr.    Male            False     False         NaN         NaN   \n873    Mme  Female            False     False         NaN         NaN   \n1099   Mr.    Male            False     False         NaN         NaN   \n1101   Mme  Female            False     False         NaN         NaN   \n1111   Mr.    Male            False     False         NaN         NaN   \n1125   Mr.    Male            False     False         NaN         NaN   \n1147  Mlle  Female            False     False         NaN         NaN   \n1155   NaN    Male            False      True      1908.0      1944.0   \n1184  Miss  Female            False     False         NaN         NaN   \n1227   Mme  Female            False     False         NaN         NaN   \n1261  Mrs.  Female            False     False         NaN         NaN   \n1428  Mrs.  Female            False     False         NaN         NaN   \n1429  Miss  Female            False     False         NaN         NaN   \n1436   Mr.    Male            False     False         NaN         NaN   \n1467   Mr.    Male            False      True         NaN         NaN   \n1509    M.    Male            False     False      1881.0      1959.0   \n1561  Mlle  Female            False     False         NaN         NaN   \n1647   Mr.    Male            False     False         NaN         NaN   \n1682   NaN     NaN            False     False         NaN         NaN   \n1757    M.    Male            False      True         NaN         NaN   \n1765  Mlle  Female            False     False         NaN         NaN   \n1992   NaN    Male            False     False      1893.0      1954.0   \n2045   Mr.    Male            False     False         NaN         NaN   \n2190   NaN  Female            False      True      1904.0      1992.0   \n2245  Miss  Female            False     False      1883.0      1964.0   \n2293   Mr.    Male            False     False         NaN         NaN   \n2324   Mr.    Male            False     False         NaN         NaN   \n2353   NaN    Male            False     False         NaN         NaN   \n2381   NaN    Male            False      True      1925.0      2013.0   \n2435  Miss  Female            False     False         NaN         NaN   \n2590    M.    Male            False     False      1887.0      1951.0   \n2800   NaN    Male            False      True      1881.0      1957.0   \n2988   Mme  Female            False     False         NaN         NaN   \n3149   Mme  Female            False     False         NaN         NaN   \n3162   Mr.    Male            False     False         NaN         NaN   \n3194   NaN    Male            False      True      1910.0      1997.0   \n3338  Mlle  Female            False     False         NaN         NaN   \n3436   Mme  Female            False      True         NaN         NaN   \n3579   NaN  Female            False     False      1914.0      1985.0   \n3926   Mr.    Male            False      True         NaN         NaN   \n4152   NaN    Male            False      True      1885.0      1972.0   \n4247   NaN    Male            False      True      1866.0      1925.0   \n4920  Mrs.  Female            False      True         NaN         NaN   \n5109   NaN  Female            False      True      1891.0      1930.0   \n5175  Miss  Female            False      True      1942.0         NaN   \n\n     membership_years                                     viaf_url  \\\n101               NaN                 http://viaf.org/viaf/8178518   \n136               NaN                                          NaN   \n152               NaN                                          NaN   \n210               NaN                                          NaN   \n215               NaN                                          NaN   \n371               NaN                                          NaN   \n392               NaN                                          NaN   \n501               NaN                                          NaN   \n604               NaN                                          NaN   \n632               NaN  http://viaf.org/viaf/166152138619610981032/   \n648               NaN               http://viaf.org/viaf/111923629   \n710               NaN                                          NaN   \n761               NaN               http://viaf.org/viaf/51686702/   \n797               NaN                                          NaN   \n873               NaN                                          NaN   \n1099              NaN                                          NaN   \n1101              NaN                                          NaN   \n1111              NaN                                          NaN   \n1125              NaN                                          NaN   \n1147              NaN                                          NaN   \n1155              NaN                http://viaf.org/viaf/24600269   \n1184              NaN                                          NaN   \n1227              NaN                                          NaN   \n1261              NaN                                          NaN   \n1428              NaN                                          NaN   \n1429              NaN                                          NaN   \n1436              NaN                                          NaN   \n1467              NaN                                          NaN   \n1509              NaN                http://viaf.org/viaf/7453684/   \n1561              NaN                                          NaN   \n1647              NaN                                          NaN   \n1682              NaN                                          NaN   \n1757              NaN                                          NaN   \n1765              NaN                                          NaN   \n1992              NaN               http://viaf.org/viaf/37071397/   \n2045              NaN                                          NaN   \n2190              NaN                http://viaf.org/viaf/93079137   \n2245              NaN                http://viaf.org/viaf/8303119/   \n2293              NaN                                          NaN   \n2324              NaN                                          NaN   \n2353              NaN                                          NaN   \n2381              NaN                                          NaN   \n2435              NaN                                          NaN   \n2590              NaN               http://viaf.org/viaf/41841996/   \n2800              NaN                   http://viaf.org/viaf/13334   \n2988              NaN                                          NaN   \n3149              NaN                                          NaN   \n3162              NaN                                          NaN   \n3194              NaN                http://viaf.org/viaf/60665573   \n3338              NaN                                          NaN   \n3436              NaN                                          NaN   \n3579              NaN                                          NaN   \n3926              NaN                                          NaN   \n4152              NaN                http://viaf.org/viaf/37053052   \n4247              NaN                http://viaf.org/viaf/88805508   \n4920              NaN                                          NaN   \n5109              NaN                http://viaf.org/viaf/35347214   \n5175              NaN                http://viaf.org/viaf/88105289   \n\n                                          wikipedia_url  \\\n101           http://en.wikipedia.org/wiki/Louis_Aragon   \n136                                                 NaN   \n152                                                 NaN   \n210                                                 NaN   \n215                                                 NaN   \n371                                                 NaN   \n392                                                 NaN   \n501                                                 NaN   \n604                                                 NaN   \n632   https://fr.wikipedia.org/wiki/Colette_Brull-Ul...   \n648     https://en.wikipedia.org/wiki/Bryher_(novelist)   \n710                                                 NaN   \n761      https://en.wikipedia.org/wiki/Marie_Canavaggia   \n797                                                 NaN   \n873                                                 NaN   \n1099                                                NaN   \n1101                                                NaN   \n1111                                                NaN   \n1125                                                NaN   \n1147                                                NaN   \n1155     https://en.wikipedia.org/wiki/Ren%C3%A9_Daumal   \n1184                                                NaN   \n1227                                                NaN   \n1261                                                NaN   \n1428                                                NaN   \n1429                                                NaN   \n1436                                                NaN   \n1467                                                NaN   \n1509          https://fr.wikipedia.org/wiki/Luc_Durtain   \n1561                                                NaN   \n1647                                                NaN   \n1682                                                NaN   \n1757                                                NaN   \n1765                                                NaN   \n1992       https://es.wikipedia.org/wiki/Herbert_Gorman   \n2045                                                NaN   \n2190       https://en.wikipedia.org/wiki/Allanah_Harper   \n2245            https://en.wikipedia.org/wiki/Jane_Heap   \n2293                                                NaN   \n2324                                                NaN   \n2353                                                NaN   \n2381                                                NaN   \n2435                                                NaN   \n2590         https://en.wikipedia.org/wiki/Louis_Jouvet   \n2800        http://en.wikipedia.org/wiki/Valery_Larbaud   \n2988                                                NaN   \n3149                                                NaN   \n3162                                                NaN   \n3194  https://es.wikipedia.org/wiki/Juan_Ram%C3%B3n_...   \n3338                                                NaN   \n3436                                                NaN   \n3579                                                NaN   \n3926                                                NaN   \n4152         http://en.wikipedia.org/wiki/Jules_Romains   \n4247            http://en.wikipedia.org/wiki/Erik_Satie   \n4920                                                NaN   \n5109         https://en.wikipedia.org/wiki/Romer_Wilson   \n5175                                                NaN   \n\n              nationalities  \\\n101                  France   \n136                     NaN   \n152                     NaN   \n210                     NaN   \n215                     NaN   \n371                     NaN   \n392                     NaN   \n501                     NaN   \n604                     NaN   \n632                  France   \n648          United Kingdom   \n710                     NaN   \n761                  France   \n797                     NaN   \n873                     NaN   \n1099                    NaN   \n1101                    NaN   \n1111                    NaN   \n1125                    NaN   \n1147                    NaN   \n1155                 France   \n1184                    NaN   \n1227                    NaN   \n1261                    NaN   \n1428                    NaN   \n1429                    NaN   \n1436                    NaN   \n1467                 France   \n1509                 France   \n1561                    NaN   \n1647                    NaN   \n1682                    NaN   \n1757                    NaN   \n1765                    NaN   \n1992          United States   \n2045                    NaN   \n2190         United Kingdom   \n2245          United States   \n2293                    NaN   \n2324                    NaN   \n2353                    NaN   \n2381          United States   \n2435                    NaN   \n2590                 France   \n2800                 France   \n2988                    NaN   \n3149                    NaN   \n3162                    NaN   \n3194                  Spain   \n3338                    NaN   \n3436                    NaN   \n3579  Canada;United Kingdom   \n3926                    NaN   \n4152                 France   \n4247                 France   \n4920                    NaN   \n5109         United Kingdom   \n5175          United States   \n\n                                              addresses postal_codes  \\\n101              12 rue Saint-Pierre, Neuilly-sur-Seine        92200   \n136                        16 rue Jacques Callot, Paris        75006   \n152                        244 boulevard Raspail, Paris        75014   \n210        Hôtel l'Aiglon, 232 boulevard Raspail, Paris        75014   \n215         École Polytechnique, 5 rue Descartes, Paris        75005   \n371                125 avenue des Champs-Élysées, Paris        75008   \n392     Crystal Hotel Paris, 24 rue Saint-Benoît, Paris        75006   \n501   Lycée de jeunes filles, 6 rue Bourg les Bourgs...        29000   \n604                 9 rue de la Grande Chaumière, Paris        75006   \n632                  1 avenue du Général Maistre, Paris        75014   \n648                                                 NaN          NaN   \n710                   5 cité du Cardinal Lemoine, Paris        75005   \n761                      16 square de Port-Royal, Paris        75013   \n797                              35 rue Delambre, Paris        75014   \n873                           48 boulevard Soult, Paris        75012   \n1099                                                NaN          NaN   \n1101                               99 rue du Bac, Paris        75007   \n1111           Hotel de Paris, 6 rue de Verneuil, Paris        75007   \n1125                                                NaN          NaN   \n1147  Hôtel des Saints-Pères, 65 rue des Saints-Père...        75006   \n1155              La Nouvelle Revue Française, Sartilly        50530   \n1184            61 bis rue Notre Dame des Champs, Paris        75006   \n1227                             38 rue Dombasle, Paris        75015   \n1261         Hotel West End, 7 rue Clément Marot, Paris        75008   \n1428                         31 rue de Vaugirard, Paris        75006   \n1429                  151 boulevard de l'Hôpital, Paris        75013   \n1436  Hôtel Saint Germain des Prés, 36 rue Bonaparte...        75006   \n1467                      16 avenue Victor Hugo, Vanves        92170   \n1509  20 boulevard Barbès, Paris;La Bastide de Saint...  75018;83990   \n1561                     Les Minimes, La Valette-du-Var          NaN   \n1647                                                NaN          NaN   \n1682                  71 rue du Cardinal Lemoine, Paris        75005   \n1757  18 rue des Carmes, Orléans;Lycée Louis-le-Gran...  45000;75005   \n1765                       214 boulevard Raspail, Paris        75014   \n1992                                                NaN          NaN   \n2045                     61 rue des Saints-Pères, Paris        75006   \n2190                              14 rue Cassini, Paris        75014   \n2245                   Hotel Jacob, 44 rue Jacob, Paris        75006   \n2293                21 rue du Parc de Montsouris, Paris        75014   \n2324                             7 rue Lachelier, Paris        75013   \n2353                             5 rue Lamartine, Paris        75009   \n2381                           12 rue de l'Odéon, Paris        75006   \n2435                                20 rue Cujas, Paris        75005   \n2590  Comédie des Champs-Élysées / Théâtre des Champ...        75008   \n2800  71 rue du Cardinal Lemoine, Paris;Hiawatha Eas...       75005;   \n2988                         1 rue de la Planche, Paris        75007   \n3149      École normale supérieure, 45 rue d'Ulm, Paris        75005   \n3162                 Hôtel Racine, 23 rue Racine, Paris        75006   \n3194                       11 rue Claude Bernard, Paris        75005   \n3338                  12 boulevard de Port-Royal, Paris        75005   \n3436                                                NaN          NaN   \n3579                             1 rue Dupuytren, Paris        75006   \n3926                        6 rue Antoine Dubois, Paris        75006   \n4152  27 avenue René Coty, Paris;27 rue du Parc-de-M...  75014;75014   \n4247       34 rue Cauchy, Arcueil;Arcueil-Cachan, Paris       94110;   \n4920                 206 boulevard Saint-Germain, Paris        75007   \n5109   Hôtel Récamier, 3 bis place Saint-Sulpice, Paris        75006   \n5175                   14 rue Monsieur le Prince, Paris        75006   \n\n     arrondissements                           coordinates  \\\n101              NaN                     48.88241, 2.27120   \n136                6                     48.85536, 2.33694   \n152               14                     48.83832, 2.33068   \n210               14                     48.83966, 2.33008   \n215                5                     48.84716, 2.34874   \n371                8                     48.87251, 2.29788   \n392                6                     48.85445, 2.33271   \n501              NaN                    47.99391, -4.11150   \n604                6                     48.84226, 2.33080   \n632               14                     48.82538, 2.31392   \n648              NaN                                   NaN   \n710                5                     48.84870, 2.35303   \n761               13                     48.83684, 2.34356   \n797               14                     48.84135, 2.32606   \n873               12                     48.84078, 2.40925   \n1099             NaN                                   NaN   \n1101               7                     48.85320, 2.32389   \n1111               7                     48.85737, 2.33161   \n1125             NaN                                   NaN   \n1147               6                     48.85334, 2.33001   \n1155             NaN                    48.74121, -1.44656   \n1184               6                     48.84381, 2.33108   \n1227              15                     48.83577, 2.29928   \n1261               8                     48.86715, 2.30379   \n1428               6                     48.84807, 2.33085   \n1429              13                     48.83391, 2.35756   \n1436               6                     48.85509, 2.33358   \n1467             NaN                     48.82281, 2.28716   \n1509             18;   48.88497, 2.34971;43.26557, 6.63869   \n1561             NaN                                   NaN   \n1647             NaN                                   NaN   \n1682               5                     48.84554, 2.35023   \n1757              ;5   47.90176, 1.90050;48.84842, 2.34522   \n1765              14                     48.84116, 2.32975   \n1992             NaN                                   NaN   \n2045               6                     48.85364, 2.33006   \n2190              14                     48.83728, 2.33692   \n2245               6                     48.85596, 2.33333   \n2293              14                     48.82272, 2.33443   \n2324              13                     48.81982, 2.36587   \n2353               9                     48.87650, 2.34367   \n2381               6                     48.85092, 2.33845   \n2435               5                     48.84820, 2.34202   \n2590               8                     48.86571, 2.30314   \n2800              5;  48.84554, 2.35023;50.83421, -0.27156   \n2988               7                     48.85334, 2.32556   \n3149               5                     48.84184, 2.34403   \n3162               6                     48.84995, 2.33947   \n3194               5                     48.83882, 2.34924   \n3338               5                     48.83716, 2.35016   \n3436             NaN                                   NaN   \n3579               6                     48.85165, 2.33964   \n3926               6                     48.85126, 2.33967   \n4152           14;14                    48.82908, 2.33473;   \n4247               ;                    48.80369, 2.33400;   \n4920               7                     48.85528, 2.32902   \n5109               6                     48.85074, 2.33427   \n5175               6                     48.85045, 2.33953   \n\n                                                  notes  \\\n101                                                 NaN   \n136   According to the Shakespeare and Company [addr...   \n152   The Shakespeare and Company <a href=\"https://s...   \n210   The Shakespeare and Company <a href=\"https://s...   \n215   The Shakespeare and Company <a href=\"https://s...   \n371   The Shakespeare and Company <a href=\"https://s...   \n392   The Shakespeare and Company <a href=\"https://s...   \n501   The Shakespeare and Company <a href=\"https://s...   \n604   The Shakespeare and Company <a href=\"https://s...   \n632                                                 NaN   \n648                                                 NaN   \n710   The Shakespeare and Company <a href=\"https://s...   \n761   The Shakespeare and Company <a href=\"https://s...   \n797   The Shakespeare and Company <a href=\"https://s...   \n873   According to the Shakespeare and Company [addr...   \n1099  The Shakespeare and Company <a href=\"https://s...   \n1101  The Shakespeare and Company <a href=\"https://s...   \n1111  According to the Shakespeare and Company [addr...   \n1125  The Shakespeare and Company <a href=\"https://s...   \n1147  The Shakespeare and Company <a href=\"https://s...   \n1155                                                NaN   \n1184  The Shakespeare and Company <a href=\"https://s...   \n1227  The Shakespeare and Company <a href=\"https://s...   \n1261  The Shakespeare and Company <a href=\"https://s...   \n1428  The Shakespeare and Company <a href=\"https://s...   \n1429  The Shakespeare and Company <a href=\"https://s...   \n1436  The Shakepeare and Company <a href=\"https://sh...   \n1467                                                NaN   \n1509  The Shakespeare and Company <a href=\"https://s...   \n1561  According to the Shakespeare and Company [addr...   \n1647  The Shakespeare and Company <a href=\"https://s...   \n1682  The Shakespeare and Company <a href=\"https://s...   \n1757                                                NaN   \n1765  The Shakespeare and Company <a href=\"https://s...   \n1992  The Shakespeare and Company <a href=\"https://s...   \n2045  The Shakespeare and Company <a href=\"https://s...   \n2190                                                NaN   \n2245  The Shakespeare and Company <a href=\"https://s...   \n2293  The Shakespeare and Company <a href=\"https://s...   \n2324  According to the Shakespeare and Company [addr...   \n2353  The Shakespeare and Company <a href=\"https://s...   \n2381                                                NaN   \n2435  The Shakespeare and Company <a href=\"https://s...   \n2590  According to the Shakespeare and Company [addr...   \n2800                                                NaN   \n2988  The Shakespeare and Company <a href=\"https://s...   \n3149  The Shakespeare and Company <a href=\"https://s...   \n3162  The Shakespeare and Company <a href=\"https://s...   \n3194                                                NaN   \n3338  The Shakespeare and Company <a href=\"https://s...   \n3436                                                NaN   \n3579  According to the Shakespeare and Company [addr...   \n3926                                                NaN   \n4152                                                NaN   \n4247                                                NaN   \n4920                                                NaN   \n5109                                                NaN   \n5175                                                NaN   \n\n                               updated  \n101          2020-12-28T15:46:16+00:00  \n136   2021-09-23T12:11:31.262776+00:00  \n152   2021-10-28T17:47:21.441317+00:00  \n210          2021-08-15T01:50:35+00:00  \n215   2021-11-22T13:16:42.333372+00:00  \n371   2021-10-28T13:12:01.090477+00:00  \n392          2021-08-02T01:31:28+00:00  \n501          2021-07-27T00:13:44+00:00  \n604          2021-07-28T18:06:55+00:00  \n632          2021-02-28T13:54:56+00:00  \n648          2021-02-28T13:56:07+00:00  \n710          2021-08-02T21:07:35+00:00  \n761          2021-08-05T01:03:02+00:00  \n797   2021-10-28T13:11:20.441505+00:00  \n873   2021-09-23T12:11:48.969085+00:00  \n1099         2021-08-12T14:08:37+00:00  \n1101         2021-08-12T14:13:59+00:00  \n1111  2021-09-23T12:14:20.341830+00:00  \n1125         2021-08-13T01:13:31+00:00  \n1147         2021-08-17T00:46:46+00:00  \n1155         2021-02-28T19:17:44+00:00  \n1184  2021-10-28T13:10:00.115639+00:00  \n1227  2021-11-26T03:16:22.479387+00:00  \n1261         2021-08-19T12:38:36+00:00  \n1428         2021-08-22T17:48:04+00:00  \n1429         2021-08-22T17:52:19+00:00  \n1436         2021-08-21T11:38:17+00:00  \n1467         2021-08-23T01:35:58+00:00  \n1509         2021-08-22T21:02:47+00:00  \n1561  2021-09-23T12:16:20.123442+00:00  \n1647         2021-08-27T18:47:57+00:00  \n1682         2021-08-29T18:46:05+00:00  \n1757         2021-08-29T16:27:07+00:00  \n1765         2021-08-29T16:45:35+00:00  \n1992         2021-09-06T01:42:59+00:00  \n2045         2021-09-05T19:30:30+00:00  \n2190         2020-07-19T18:30:26+00:00  \n2245         2021-09-16T02:38:23+00:00  \n2293  2021-11-22T13:28:47.569604+00:00  \n2324  2021-09-23T12:15:26.177226+00:00  \n2353  2021-11-21T18:07:58.679615+00:00  \n2381  2021-11-19T13:15:28.525057+00:00  \n2435         2021-09-15T01:58:19+00:00  \n2590  2021-09-21T02:02:41.087820+00:00  \n2800  2021-09-27T03:55:20.823664+00:00  \n2988  2021-11-16T15:36:38.655056+00:00  \n3149  2021-10-05T03:30:52.510015+00:00  \n3162  2021-10-16T12:59:25.003943+00:00  \n3194         2019-11-19T14:47:34+00:00  \n3338  2021-10-09T00:02:10.519235+00:00  \n3436         2021-01-01T17:36:41+00:00  \n3579  2021-12-01T01:35:50.727805+00:00  \n3926         2020-01-01T20:35:51+00:00  \n4152         2020-08-01T22:20:37+00:00  \n4247         2019-11-19T14:47:37+00:00  \n4920  2021-11-19T13:30:03.089596+00:00  \n5109  2021-11-19T14:15:45.426887+00:00  \n5175         2019-12-29T01:37:56+00:00  ",
      "text/html": "<div>\n<style scoped>\n    .dataframe tbody tr th:only-of-type {\n        vertical-align: middle;\n    }\n\n    .dataframe tbody tr th {\n        vertical-align: top;\n    }\n\n    .dataframe thead th {\n        text-align: right;\n    }\n</style>\n<table border=\"1\" class=\"dataframe\">\n  <thead>\n    <tr style=\"text-align: right;\">\n      <th></th>\n      <th>uri</th>\n      <th>name</th>\n      <th>sort_name</th>\n      <th>title</th>\n      <th>gender</th>\n      <th>is_organization</th>\n      <th>has_card</th>\n      <th>birth_year</th>\n      <th>death_year</th>\n      <th>membership_years</th>\n      <th>viaf_url</th>\n      <th>wikipedia_url</th>\n      <th>nationalities</th>\n      <th>addresses</th>\n      <th>postal_codes</th>\n      <th>arrondissements</th>\n      <th>coordinates</th>\n      <th>notes</th>\n      <th>updated</th>\n    </tr>\n  </thead>\n  <tbody>\n    <tr>\n      <th>101</th>\n      <td>https://shakespeareandco.princeton.edu/members...</td>\n      <td>Louis Aragon</td>\n      <td>Aragon, Louis</td>\n      <td>NaN</td>\n      <td>Male</td>\n      <td>False</td>\n      <td>True</td>\n      <td>1897.0</td>\n      <td>1982.0</td>\n      <td>NaN</td>\n      <td>http://viaf.org/viaf/8178518</td>\n      <td>http://en.wikipedia.org/wiki/Louis_Aragon</td>\n      <td>France</td>\n      <td>12 rue Saint-Pierre, Neuilly-sur-Seine</td>\n      <td>92200</td>\n      <td>NaN</td>\n      <td>48.88241, 2.27120</td>\n      <td>NaN</td>\n      <td>2020-12-28T15:46:16+00:00</td>\n    </tr>\n    <tr>\n      <th>136</th>\n      <td>https://shakespeareandco.princeton.edu/members...</td>\n      <td>Louis Atlas</td>\n      <td>Atlas, Louis</td>\n      <td>NaN</td>\n      <td>Male</td>\n      <td>False</td>\n      <td>False</td>\n      <td>NaN</td>\n      <td>NaN</td>\n      <td>NaN</td>\n      <td>NaN</td>\n      <td>NaN</td>\n      <td>NaN</td>\n      <td>16 rue Jacques Callot, Paris</td>\n      <td>75006</td>\n      <td>6</td>\n      <td>48.85536, 2.33694</td>\n      <td>According to the Shakespeare and Company [addr...</td>\n      <td>2021-09-23T12:11:31.262776+00:00</td>\n    </tr>\n    <tr>\n      <th>152</th>\n      <td>https://shakespeareandco.princeton.edu/members...</td>\n      <td>Jacob Auslander</td>\n      <td>Auslander, Jacob</td>\n      <td>Mr.</td>\n      <td>Male</td>\n      <td>False</td>\n      <td>False</td>\n      <td>NaN</td>\n      <td>NaN</td>\n      <td>NaN</td>\n      <td>NaN</td>\n      <td>NaN</td>\n      <td>NaN</td>\n      <td>244 boulevard Raspail, Paris</td>\n      <td>75014</td>\n      <td>14</td>\n      <td>48.83832, 2.33068</td>\n      <td>The Shakespeare and Company &lt;a href=\"https://s...</td>\n      <td>2021-10-28T17:47:21.441317+00:00</td>\n    </tr>\n    <tr>\n      <th>210</th>\n      <td>https://shakespeareandco.princeton.edu/members...</td>\n      <td>Mme Baquis</td>\n      <td>Baquis, Mme</td>\n      <td>Mme</td>\n      <td>Female</td>\n      <td>False</td>\n      <td>False</td>\n      <td>NaN</td>\n      <td>NaN</td>\n      <td>NaN</td>\n      <td>NaN</td>\n      <td>NaN</td>\n      <td>NaN</td>\n      <td>Hôtel l'Aiglon, 232 boulevard Raspail, Paris</td>\n      <td>75014</td>\n      <td>14</td>\n      <td>48.83966, 2.33008</td>\n      <td>The Shakespeare and Company &lt;a href=\"https://s...</td>\n      <td>2021-08-15T01:50:35+00:00</td>\n    </tr>\n    <tr>\n      <th>215</th>\n      <td>https://shakespeareandco.princeton.edu/members...</td>\n      <td>Jean Barbier</td>\n      <td>Barbier, Jean</td>\n      <td>M.</td>\n      <td>Male</td>\n      <td>False</td>\n      <td>False</td>\n      <td>NaN</td>\n      <td>NaN</td>\n      <td>NaN</td>\n      <td>NaN</td>\n      <td>NaN</td>\n      <td>NaN</td>\n      <td>École Polytechnique, 5 rue Descartes, Paris</td>\n      <td>75005</td>\n      <td>5</td>\n      <td>48.84716, 2.34874</td>\n      <td>The Shakespeare and Company &lt;a href=\"https://s...</td>\n      <td>2021-11-22T13:16:42.333372+00:00</td>\n    </tr>\n    <tr>\n      <th>371</th>\n      <td>https://shakespeareandco.princeton.edu/members...</td>\n      <td>Miss Best</td>\n      <td>Best, Miss</td>\n      <td>Miss</td>\n      <td>Female</td>\n      <td>False</td>\n      <td>False</td>\n      <td>NaN</td>\n      <td>NaN</td>\n      <td>NaN</td>\n      <td>NaN</td>\n      <td>NaN</td>\n      <td>NaN</td>\n      <td>125 avenue des Champs-Élysées, Paris</td>\n      <td>75008</td>\n      <td>8</td>\n      <td>48.87251, 2.29788</td>\n      <td>The Shakespeare and Company &lt;a href=\"https://s...</td>\n      <td>2021-10-28T13:12:01.090477+00:00</td>\n    </tr>\n    <tr>\n      <th>392</th>\n      <td>https://shakespeareandco.princeton.edu/members...</td>\n      <td>Hans Bieler</td>\n      <td>Bieler, Hans</td>\n      <td>Dr.</td>\n      <td>Male</td>\n      <td>False</td>\n      <td>False</td>\n      <td>NaN</td>\n      <td>NaN</td>\n      <td>NaN</td>\n      <td>NaN</td>\n      <td>NaN</td>\n      <td>NaN</td>\n      <td>Crystal Hotel Paris, 24 rue Saint-Benoît, Paris</td>\n      <td>75006</td>\n      <td>6</td>\n      <td>48.85445, 2.33271</td>\n      <td>The Shakespeare and Company &lt;a href=\"https://s...</td>\n      <td>2021-08-02T01:31:28+00:00</td>\n    </tr>\n    <tr>\n      <th>501</th>\n      <td>https://shakespeareandco.princeton.edu/members...</td>\n      <td>Mlle Boscq</td>\n      <td>Boscq, Mlle</td>\n      <td>Mlle</td>\n      <td>Female</td>\n      <td>False</td>\n      <td>False</td>\n      <td>NaN</td>\n      <td>NaN</td>\n      <td>NaN</td>\n      <td>NaN</td>\n      <td>NaN</td>\n      <td>NaN</td>\n      <td>Lycée de jeunes filles, 6 rue Bourg les Bourgs...</td>\n      <td>29000</td>\n      <td>NaN</td>\n      <td>47.99391, -4.11150</td>\n      <td>The Shakespeare and Company &lt;a href=\"https://s...</td>\n      <td>2021-07-27T00:13:44+00:00</td>\n    </tr>\n    <tr>\n      <th>604</th>\n      <td>https://shakespeareandco.princeton.edu/members...</td>\n      <td>Catherine Brody</td>\n      <td>Brody, Catherine</td>\n      <td>Miss</td>\n      <td>Female</td>\n      <td>False</td>\n      <td>False</td>\n      <td>NaN</td>\n      <td>NaN</td>\n      <td>NaN</td>\n      <td>NaN</td>\n      <td>NaN</td>\n      <td>NaN</td>\n      <td>9 rue de la Grande Chaumière, Paris</td>\n      <td>75006</td>\n      <td>6</td>\n      <td>48.84226, 2.33080</td>\n      <td>The Shakespeare and Company &lt;a href=\"https://s...</td>\n      <td>2021-07-28T18:06:55+00:00</td>\n    </tr>\n    <tr>\n      <th>632</th>\n      <td>https://shakespeareandco.princeton.edu/members...</td>\n      <td>Colette Brull-Ulmann / Mlle Colette Brull</td>\n      <td>Brull-Ulmann, Colette</td>\n      <td>Mlle</td>\n      <td>Female</td>\n      <td>False</td>\n      <td>True</td>\n      <td>1920.0</td>\n      <td>NaN</td>\n      <td>NaN</td>\n      <td>http://viaf.org/viaf/166152138619610981032/</td>\n      <td>https://fr.wikipedia.org/wiki/Colette_Brull-Ul...</td>\n      <td>France</td>\n      <td>1 avenue du Général Maistre, Paris</td>\n      <td>75014</td>\n      <td>14</td>\n      <td>48.82538, 2.31392</td>\n      <td>NaN</td>\n      <td>2021-02-28T13:54:56+00:00</td>\n    </tr>\n    <tr>\n      <th>648</th>\n      <td>https://shakespeareandco.princeton.edu/members...</td>\n      <td>Bryher</td>\n      <td>Bryher</td>\n      <td>NaN</td>\n      <td>Female</td>\n      <td>False</td>\n      <td>True</td>\n      <td>1894.0</td>\n      <td>1983.0</td>\n      <td>NaN</td>\n      <td>http://viaf.org/viaf/111923629</td>\n      <td>https://en.wikipedia.org/wiki/Bryher_(novelist)</td>\n      <td>United Kingdom</td>\n      <td>NaN</td>\n      <td>NaN</td>\n      <td>NaN</td>\n      <td>NaN</td>\n      <td>NaN</td>\n      <td>2021-02-28T13:56:07+00:00</td>\n    </tr>\n    <tr>\n      <th>710</th>\n      <td>https://shakespeareandco.princeton.edu/members...</td>\n      <td>Mlle Busson-Leblanc</td>\n      <td>Busson-Leblanc, Mlle</td>\n      <td>Mlle</td>\n      <td>Female</td>\n      <td>False</td>\n      <td>False</td>\n      <td>NaN</td>\n      <td>NaN</td>\n      <td>NaN</td>\n      <td>NaN</td>\n      <td>NaN</td>\n      <td>NaN</td>\n      <td>5 cité du Cardinal Lemoine, Paris</td>\n      <td>75005</td>\n      <td>5</td>\n      <td>48.84870, 2.35303</td>\n      <td>The Shakespeare and Company &lt;a href=\"https://s...</td>\n      <td>2021-08-02T21:07:35+00:00</td>\n    </tr>\n    <tr>\n      <th>761</th>\n      <td>https://shakespeareandco.princeton.edu/members...</td>\n      <td>Maria Canavaggia</td>\n      <td>Canavaggia, Maria</td>\n      <td>Mlle</td>\n      <td>Female</td>\n      <td>False</td>\n      <td>False</td>\n      <td>1896.0</td>\n      <td>1976.0</td>\n      <td>NaN</td>\n      <td>http://viaf.org/viaf/51686702/</td>\n      <td>https://en.wikipedia.org/wiki/Marie_Canavaggia</td>\n      <td>France</td>\n      <td>16 square de Port-Royal, Paris</td>\n      <td>75013</td>\n      <td>13</td>\n      <td>48.83684, 2.34356</td>\n      <td>The Shakespeare and Company &lt;a href=\"https://s...</td>\n      <td>2021-08-05T01:03:02+00:00</td>\n    </tr>\n    <tr>\n      <th>797</th>\n      <td>https://shakespeareandco.princeton.edu/members...</td>\n      <td>Carl Cartland</td>\n      <td>Cartland, Carl</td>\n      <td>Mr.</td>\n      <td>Male</td>\n      <td>False</td>\n      <td>False</td>\n      <td>NaN</td>\n      <td>NaN</td>\n      <td>NaN</td>\n      <td>NaN</td>\n      <td>NaN</td>\n      <td>NaN</td>\n      <td>35 rue Delambre, Paris</td>\n      <td>75014</td>\n      <td>14</td>\n      <td>48.84135, 2.32606</td>\n      <td>The Shakespeare and Company &lt;a href=\"https://s...</td>\n      <td>2021-10-28T13:11:20.441505+00:00</td>\n    </tr>\n    <tr>\n      <th>873</th>\n      <td>https://shakespeareandco.princeton.edu/members...</td>\n      <td>Mme Martin Chauffier</td>\n      <td>Chauffier, Mme Martin</td>\n      <td>Mme</td>\n      <td>Female</td>\n      <td>False</td>\n      <td>False</td>\n      <td>NaN</td>\n      <td>NaN</td>\n      <td>NaN</td>\n      <td>NaN</td>\n      <td>NaN</td>\n      <td>NaN</td>\n      <td>48 boulevard Soult, Paris</td>\n      <td>75012</td>\n      <td>12</td>\n      <td>48.84078, 2.40925</td>\n      <td>According to the Shakespeare and Company [addr...</td>\n      <td>2021-09-23T12:11:48.969085+00:00</td>\n    </tr>\n    <tr>\n      <th>1099</th>\n      <td>https://shakespeareandco.princeton.edu/members...</td>\n      <td>Mr. Crozet</td>\n      <td>Crozet, Mr.</td>\n      <td>Mr.</td>\n      <td>Male</td>\n      <td>False</td>\n      <td>False</td>\n      <td>NaN</td>\n      <td>NaN</td>\n      <td>NaN</td>\n      <td>NaN</td>\n      <td>NaN</td>\n      <td>NaN</td>\n      <td>NaN</td>\n      <td>NaN</td>\n      <td>NaN</td>\n      <td>NaN</td>\n      <td>The Shakespeare and Company &lt;a href=\"https://s...</td>\n      <td>2021-08-12T14:08:37+00:00</td>\n    </tr>\n    <tr>\n      <th>1101</th>\n      <td>https://shakespeareandco.princeton.edu/members...</td>\n      <td>Mme Cuénod</td>\n      <td>Cuénod, Mme</td>\n      <td>Mme</td>\n      <td>Female</td>\n      <td>False</td>\n      <td>False</td>\n      <td>NaN</td>\n      <td>NaN</td>\n      <td>NaN</td>\n      <td>NaN</td>\n      <td>NaN</td>\n      <td>NaN</td>\n      <td>99 rue du Bac, Paris</td>\n      <td>75007</td>\n      <td>7</td>\n      <td>48.85320, 2.32389</td>\n      <td>The Shakespeare and Company &lt;a href=\"https://s...</td>\n      <td>2021-08-12T14:13:59+00:00</td>\n    </tr>\n    <tr>\n      <th>1111</th>\n      <td>https://shakespeareandco.princeton.edu/members...</td>\n      <td>Henry Cummings</td>\n      <td>Cummings, Henry</td>\n      <td>Mr.</td>\n      <td>Male</td>\n      <td>False</td>\n      <td>False</td>\n      <td>NaN</td>\n      <td>NaN</td>\n      <td>NaN</td>\n      <td>NaN</td>\n      <td>NaN</td>\n      <td>NaN</td>\n      <td>Hotel de Paris, 6 rue de Verneuil, Paris</td>\n      <td>75007</td>\n      <td>7</td>\n      <td>48.85737, 2.33161</td>\n      <td>According to the Shakespeare and Company [addr...</td>\n      <td>2021-09-23T12:14:20.341830+00:00</td>\n    </tr>\n    <tr>\n      <th>1125</th>\n      <td>https://shakespeareandco.princeton.edu/members...</td>\n      <td>Edward Cushing</td>\n      <td>Cushing, Edward</td>\n      <td>Mr.</td>\n      <td>Male</td>\n      <td>False</td>\n      <td>False</td>\n      <td>NaN</td>\n      <td>NaN</td>\n      <td>NaN</td>\n      <td>NaN</td>\n      <td>NaN</td>\n      <td>NaN</td>\n      <td>NaN</td>\n      <td>NaN</td>\n      <td>NaN</td>\n      <td>NaN</td>\n      <td>The Shakespeare and Company &lt;a href=\"https://s...</td>\n      <td>2021-08-13T01:13:31+00:00</td>\n    </tr>\n    <tr>\n      <th>1147</th>\n      <td>https://shakespeareandco.princeton.edu/members...</td>\n      <td>Reymonde Darling</td>\n      <td>Darling, Reymonde</td>\n      <td>Mlle</td>\n      <td>Female</td>\n      <td>False</td>\n      <td>False</td>\n      <td>NaN</td>\n      <td>NaN</td>\n      <td>NaN</td>\n      <td>NaN</td>\n      <td>NaN</td>\n      <td>NaN</td>\n      <td>Hôtel des Saints-Pères, 65 rue des Saints-Père...</td>\n      <td>75006</td>\n      <td>6</td>\n      <td>48.85334, 2.33001</td>\n      <td>The Shakespeare and Company &lt;a href=\"https://s...</td>\n      <td>2021-08-17T00:46:46+00:00</td>\n    </tr>\n    <tr>\n      <th>1155</th>\n      <td>https://shakespeareandco.princeton.edu/members...</td>\n      <td>René Daumal</td>\n      <td>Daumal, René</td>\n      <td>NaN</td>\n      <td>Male</td>\n      <td>False</td>\n      <td>True</td>\n      <td>1908.0</td>\n      <td>1944.0</td>\n      <td>NaN</td>\n      <td>http://viaf.org/viaf/24600269</td>\n      <td>https://en.wikipedia.org/wiki/Ren%C3%A9_Daumal</td>\n      <td>France</td>\n      <td>La Nouvelle Revue Française, Sartilly</td>\n      <td>50530</td>\n      <td>NaN</td>\n      <td>48.74121, -1.44656</td>\n      <td>NaN</td>\n      <td>2021-02-28T19:17:44+00:00</td>\n    </tr>\n    <tr>\n      <th>1184</th>\n      <td>https://shakespeareandco.princeton.edu/members...</td>\n      <td>Miss Daws</td>\n      <td>Daws, Miss</td>\n      <td>Miss</td>\n      <td>Female</td>\n      <td>False</td>\n      <td>False</td>\n      <td>NaN</td>\n      <td>NaN</td>\n      <td>NaN</td>\n      <td>NaN</td>\n      <td>NaN</td>\n      <td>NaN</td>\n      <td>61 bis rue Notre Dame des Champs, Paris</td>\n      <td>75006</td>\n      <td>6</td>\n      <td>48.84381, 2.33108</td>\n      <td>The Shakespeare and Company &lt;a href=\"https://s...</td>\n      <td>2021-10-28T13:10:00.115639+00:00</td>\n    </tr>\n    <tr>\n      <th>1227</th>\n      <td>https://shakespeareandco.princeton.edu/members...</td>\n      <td>Mme Degains</td>\n      <td>Degains, Mme</td>\n      <td>Mme</td>\n      <td>Female</td>\n      <td>False</td>\n      <td>False</td>\n      <td>NaN</td>\n      <td>NaN</td>\n      <td>NaN</td>\n      <td>NaN</td>\n      <td>NaN</td>\n      <td>NaN</td>\n      <td>38 rue Dombasle, Paris</td>\n      <td>75015</td>\n      <td>15</td>\n      <td>48.83577, 2.29928</td>\n      <td>The Shakespeare and Company &lt;a href=\"https://s...</td>\n      <td>2021-11-26T03:16:22.479387+00:00</td>\n    </tr>\n    <tr>\n      <th>1261</th>\n      <td>https://shakespeareandco.princeton.edu/members...</td>\n      <td>Mrs. Dell</td>\n      <td>Dell, Mrs.</td>\n      <td>Mrs.</td>\n      <td>Female</td>\n      <td>False</td>\n      <td>False</td>\n      <td>NaN</td>\n      <td>NaN</td>\n      <td>NaN</td>\n      <td>NaN</td>\n      <td>NaN</td>\n      <td>NaN</td>\n      <td>Hotel West End, 7 rue Clément Marot, Paris</td>\n      <td>75008</td>\n      <td>8</td>\n      <td>48.86715, 2.30379</td>\n      <td>The Shakespeare and Company &lt;a href=\"https://s...</td>\n      <td>2021-08-19T12:38:36+00:00</td>\n    </tr>\n    <tr>\n      <th>1428</th>\n      <td>https://shakespeareandco.princeton.edu/members...</td>\n      <td>Mrs. J. F. Douglas</td>\n      <td>Douglas, Mrs. J. F.</td>\n      <td>Mrs.</td>\n      <td>Female</td>\n      <td>False</td>\n      <td>False</td>\n      <td>NaN</td>\n      <td>NaN</td>\n      <td>NaN</td>\n      <td>NaN</td>\n      <td>NaN</td>\n      <td>NaN</td>\n      <td>31 rue de Vaugirard, Paris</td>\n      <td>75006</td>\n      <td>6</td>\n      <td>48.84807, 2.33085</td>\n      <td>The Shakespeare and Company &lt;a href=\"https://s...</td>\n      <td>2021-08-22T17:48:04+00:00</td>\n    </tr>\n    <tr>\n      <th>1429</th>\n      <td>https://shakespeareandco.princeton.edu/members...</td>\n      <td>V. A. Douglas</td>\n      <td>Douglas, V. A.</td>\n      <td>Miss</td>\n      <td>Female</td>\n      <td>False</td>\n      <td>False</td>\n      <td>NaN</td>\n      <td>NaN</td>\n      <td>NaN</td>\n      <td>NaN</td>\n      <td>NaN</td>\n      <td>NaN</td>\n      <td>151 boulevard de l'Hôpital, Paris</td>\n      <td>75013</td>\n      <td>13</td>\n      <td>48.83391, 2.35756</td>\n      <td>The Shakespeare and Company &lt;a href=\"https://s...</td>\n      <td>2021-08-22T17:52:19+00:00</td>\n    </tr>\n    <tr>\n      <th>1436</th>\n      <td>https://shakespeareandco.princeton.edu/members...</td>\n      <td>Mr. Doyley</td>\n      <td>Doyley, Mr.</td>\n      <td>Mr.</td>\n      <td>Male</td>\n      <td>False</td>\n      <td>False</td>\n      <td>NaN</td>\n      <td>NaN</td>\n      <td>NaN</td>\n      <td>NaN</td>\n      <td>NaN</td>\n      <td>NaN</td>\n      <td>Hôtel Saint Germain des Prés, 36 rue Bonaparte...</td>\n      <td>75006</td>\n      <td>6</td>\n      <td>48.85509, 2.33358</td>\n      <td>The Shakepeare and Company &lt;a href=\"https://sh...</td>\n      <td>2021-08-21T11:38:17+00:00</td>\n    </tr>\n    <tr>\n      <th>1467</th>\n      <td>https://shakespeareandco.princeton.edu/members...</td>\n      <td>Mr. Dufour</td>\n      <td>Dufour, Mr.</td>\n      <td>Mr.</td>\n      <td>Male</td>\n      <td>False</td>\n      <td>True</td>\n      <td>NaN</td>\n      <td>NaN</td>\n      <td>NaN</td>\n      <td>NaN</td>\n      <td>NaN</td>\n      <td>France</td>\n      <td>16 avenue Victor Hugo, Vanves</td>\n      <td>92170</td>\n      <td>NaN</td>\n      <td>48.82281, 2.28716</td>\n      <td>NaN</td>\n      <td>2021-08-23T01:35:58+00:00</td>\n    </tr>\n    <tr>\n      <th>1509</th>\n      <td>https://shakespeareandco.princeton.edu/members...</td>\n      <td>Luc Durtain</td>\n      <td>Durtain, Luc</td>\n      <td>M.</td>\n      <td>Male</td>\n      <td>False</td>\n      <td>False</td>\n      <td>1881.0</td>\n      <td>1959.0</td>\n      <td>NaN</td>\n      <td>http://viaf.org/viaf/7453684/</td>\n      <td>https://fr.wikipedia.org/wiki/Luc_Durtain</td>\n      <td>France</td>\n      <td>20 boulevard Barbès, Paris;La Bastide de Saint...</td>\n      <td>75018;83990</td>\n      <td>18;</td>\n      <td>48.88497, 2.34971;43.26557, 6.63869</td>\n      <td>The Shakespeare and Company &lt;a href=\"https://s...</td>\n      <td>2021-08-22T21:02:47+00:00</td>\n    </tr>\n    <tr>\n      <th>1561</th>\n      <td>https://shakespeareandco.princeton.edu/members...</td>\n      <td>E. Eisenschitz</td>\n      <td>Eisenschitz, E.</td>\n      <td>Mlle</td>\n      <td>Female</td>\n      <td>False</td>\n      <td>False</td>\n      <td>NaN</td>\n      <td>NaN</td>\n      <td>NaN</td>\n      <td>NaN</td>\n      <td>NaN</td>\n      <td>NaN</td>\n      <td>Les Minimes, La Valette-du-Var</td>\n      <td>NaN</td>\n      <td>NaN</td>\n      <td>NaN</td>\n      <td>According to the Shakespeare and Company [addr...</td>\n      <td>2021-09-23T12:16:20.123442+00:00</td>\n    </tr>\n    <tr>\n      <th>1647</th>\n      <td>https://shakespeareandco.princeton.edu/members...</td>\n      <td>Emmanuel Fay</td>\n      <td>Fay, Emmanuel</td>\n      <td>Mr.</td>\n      <td>Male</td>\n      <td>False</td>\n      <td>False</td>\n      <td>NaN</td>\n      <td>NaN</td>\n      <td>NaN</td>\n      <td>NaN</td>\n      <td>NaN</td>\n      <td>NaN</td>\n      <td>NaN</td>\n      <td>NaN</td>\n      <td>NaN</td>\n      <td>NaN</td>\n      <td>The Shakespeare and Company &lt;a href=\"https://s...</td>\n      <td>2021-08-27T18:47:57+00:00</td>\n    </tr>\n    <tr>\n      <th>1682</th>\n      <td>https://shakespeareandco.princeton.edu/members...</td>\n      <td>R. S. Finney</td>\n      <td>Finney, R. S.</td>\n      <td>NaN</td>\n      <td>NaN</td>\n      <td>False</td>\n      <td>False</td>\n      <td>NaN</td>\n      <td>NaN</td>\n      <td>NaN</td>\n      <td>NaN</td>\n      <td>NaN</td>\n      <td>NaN</td>\n      <td>71 rue du Cardinal Lemoine, Paris</td>\n      <td>75005</td>\n      <td>5</td>\n      <td>48.84554, 2.35023</td>\n      <td>The Shakespeare and Company &lt;a href=\"https://s...</td>\n      <td>2021-08-29T18:46:05+00:00</td>\n    </tr>\n    <tr>\n      <th>1757</th>\n      <td>https://shakespeareandco.princeton.edu/members...</td>\n      <td>M. Fournerey</td>\n      <td>Fournerey, M.</td>\n      <td>M.</td>\n      <td>Male</td>\n      <td>False</td>\n      <td>True</td>\n      <td>NaN</td>\n      <td>NaN</td>\n      <td>NaN</td>\n      <td>NaN</td>\n      <td>NaN</td>\n      <td>NaN</td>\n      <td>18 rue des Carmes, Orléans;Lycée Louis-le-Gran...</td>\n      <td>45000;75005</td>\n      <td>;5</td>\n      <td>47.90176, 1.90050;48.84842, 2.34522</td>\n      <td>NaN</td>\n      <td>2021-08-29T16:27:07+00:00</td>\n    </tr>\n    <tr>\n      <th>1765</th>\n      <td>https://shakespeareandco.princeton.edu/members...</td>\n      <td>Mlle Foyé</td>\n      <td>Foyé, Mlle</td>\n      <td>Mlle</td>\n      <td>Female</td>\n      <td>False</td>\n      <td>False</td>\n      <td>NaN</td>\n      <td>NaN</td>\n      <td>NaN</td>\n      <td>NaN</td>\n      <td>NaN</td>\n      <td>NaN</td>\n      <td>214 boulevard Raspail, Paris</td>\n      <td>75014</td>\n      <td>14</td>\n      <td>48.84116, 2.32975</td>\n      <td>The Shakespeare and Company &lt;a href=\"https://s...</td>\n      <td>2021-08-29T16:45:35+00:00</td>\n    </tr>\n    <tr>\n      <th>1992</th>\n      <td>https://shakespeareandco.princeton.edu/members...</td>\n      <td>Herbert Sherman Gorman</td>\n      <td>Gorman, Herbert Sherman</td>\n      <td>NaN</td>\n      <td>Male</td>\n      <td>False</td>\n      <td>False</td>\n      <td>1893.0</td>\n      <td>1954.0</td>\n      <td>NaN</td>\n      <td>http://viaf.org/viaf/37071397/</td>\n      <td>https://es.wikipedia.org/wiki/Herbert_Gorman</td>\n      <td>United States</td>\n      <td>NaN</td>\n      <td>NaN</td>\n      <td>NaN</td>\n      <td>NaN</td>\n      <td>The Shakespeare and Company &lt;a href=\"https://s...</td>\n      <td>2021-09-06T01:42:59+00:00</td>\n    </tr>\n    <tr>\n      <th>2045</th>\n      <td>https://shakespeareandco.princeton.edu/members...</td>\n      <td>A. K. Griggs</td>\n      <td>Griggs, A. K.</td>\n      <td>Mr.</td>\n      <td>Male</td>\n      <td>False</td>\n      <td>False</td>\n      <td>NaN</td>\n      <td>NaN</td>\n      <td>NaN</td>\n      <td>NaN</td>\n      <td>NaN</td>\n      <td>NaN</td>\n      <td>61 rue des Saints-Pères, Paris</td>\n      <td>75006</td>\n      <td>6</td>\n      <td>48.85364, 2.33006</td>\n      <td>The Shakespeare and Company &lt;a href=\"https://s...</td>\n      <td>2021-09-05T19:30:30+00:00</td>\n    </tr>\n    <tr>\n      <th>2190</th>\n      <td>https://shakespeareandco.princeton.edu/members...</td>\n      <td>Allanah Harper</td>\n      <td>Harper, Allanah</td>\n      <td>NaN</td>\n      <td>Female</td>\n      <td>False</td>\n      <td>True</td>\n      <td>1904.0</td>\n      <td>1992.0</td>\n      <td>NaN</td>\n      <td>http://viaf.org/viaf/93079137</td>\n      <td>https://en.wikipedia.org/wiki/Allanah_Harper</td>\n      <td>United Kingdom</td>\n      <td>14 rue Cassini, Paris</td>\n      <td>75014</td>\n      <td>14</td>\n      <td>48.83728, 2.33692</td>\n      <td>NaN</td>\n      <td>2020-07-19T18:30:26+00:00</td>\n    </tr>\n    <tr>\n      <th>2245</th>\n      <td>https://shakespeareandco.princeton.edu/members...</td>\n      <td>Jane Heap</td>\n      <td>Heap, Jane</td>\n      <td>Miss</td>\n      <td>Female</td>\n      <td>False</td>\n      <td>False</td>\n      <td>1883.0</td>\n      <td>1964.0</td>\n      <td>NaN</td>\n      <td>http://viaf.org/viaf/8303119/</td>\n      <td>https://en.wikipedia.org/wiki/Jane_Heap</td>\n      <td>United States</td>\n      <td>Hotel Jacob, 44 rue Jacob, Paris</td>\n      <td>75006</td>\n      <td>6</td>\n      <td>48.85596, 2.33333</td>\n      <td>The Shakespeare and Company &lt;a href=\"https://s...</td>\n      <td>2021-09-16T02:38:23+00:00</td>\n    </tr>\n    <tr>\n      <th>2293</th>\n      <td>https://shakespeareandco.princeton.edu/members...</td>\n      <td>Mr. Hersch</td>\n      <td>Hersch, Mr.</td>\n      <td>Mr.</td>\n      <td>Male</td>\n      <td>False</td>\n      <td>False</td>\n      <td>NaN</td>\n      <td>NaN</td>\n      <td>NaN</td>\n      <td>NaN</td>\n      <td>NaN</td>\n      <td>NaN</td>\n      <td>21 rue du Parc de Montsouris, Paris</td>\n      <td>75014</td>\n      <td>14</td>\n      <td>48.82272, 2.33443</td>\n      <td>The Shakespeare and Company &lt;a href=\"https://s...</td>\n      <td>2021-11-22T13:28:47.569604+00:00</td>\n    </tr>\n    <tr>\n      <th>2324</th>\n      <td>https://shakespeareandco.princeton.edu/members...</td>\n      <td>G. W. Higgins</td>\n      <td>Higgins, G. W.</td>\n      <td>Mr.</td>\n      <td>Male</td>\n      <td>False</td>\n      <td>False</td>\n      <td>NaN</td>\n      <td>NaN</td>\n      <td>NaN</td>\n      <td>NaN</td>\n      <td>NaN</td>\n      <td>NaN</td>\n      <td>7 rue Lachelier, Paris</td>\n      <td>75013</td>\n      <td>13</td>\n      <td>48.81982, 2.36587</td>\n      <td>According to the Shakespeare and Company [addr...</td>\n      <td>2021-09-23T12:15:26.177226+00:00</td>\n    </tr>\n    <tr>\n      <th>2353</th>\n      <td>https://shakespeareandco.princeton.edu/members...</td>\n      <td>Leigh Hoffman</td>\n      <td>Hoffman, Leigh</td>\n      <td>NaN</td>\n      <td>Male</td>\n      <td>False</td>\n      <td>False</td>\n      <td>NaN</td>\n      <td>NaN</td>\n      <td>NaN</td>\n      <td>NaN</td>\n      <td>NaN</td>\n      <td>NaN</td>\n      <td>5 rue Lamartine, Paris</td>\n      <td>75009</td>\n      <td>9</td>\n      <td>48.87650, 2.34367</td>\n      <td>The Shakespeare and Company &lt;a href=\"https://s...</td>\n      <td>2021-11-21T18:07:58.679615+00:00</td>\n    </tr>\n    <tr>\n      <th>2381</th>\n      <td>https://shakespeareandco.princeton.edu/members...</td>\n      <td>Bernard Hommel</td>\n      <td>Hommel, Bernard</td>\n      <td>NaN</td>\n      <td>Male</td>\n      <td>False</td>\n      <td>True</td>\n      <td>1925.0</td>\n      <td>2013.0</td>\n      <td>NaN</td>\n      <td>NaN</td>\n      <td>NaN</td>\n      <td>United States</td>\n      <td>12 rue de l'Odéon, Paris</td>\n      <td>75006</td>\n      <td>6</td>\n      <td>48.85092, 2.33845</td>\n      <td>NaN</td>\n      <td>2021-11-19T13:15:28.525057+00:00</td>\n    </tr>\n    <tr>\n      <th>2435</th>\n      <td>https://shakespeareandco.princeton.edu/members...</td>\n      <td>Alice Hughes</td>\n      <td>Hughes, Alice</td>\n      <td>Miss</td>\n      <td>Female</td>\n      <td>False</td>\n      <td>False</td>\n      <td>NaN</td>\n      <td>NaN</td>\n      <td>NaN</td>\n      <td>NaN</td>\n      <td>NaN</td>\n      <td>NaN</td>\n      <td>20 rue Cujas, Paris</td>\n      <td>75005</td>\n      <td>5</td>\n      <td>48.84820, 2.34202</td>\n      <td>The Shakespeare and Company &lt;a href=\"https://s...</td>\n      <td>2021-09-15T01:58:19+00:00</td>\n    </tr>\n    <tr>\n      <th>2590</th>\n      <td>https://shakespeareandco.princeton.edu/members...</td>\n      <td>Louis Jouvet</td>\n      <td>Jouvet, Louis</td>\n      <td>M.</td>\n      <td>Male</td>\n      <td>False</td>\n      <td>False</td>\n      <td>1887.0</td>\n      <td>1951.0</td>\n      <td>NaN</td>\n      <td>http://viaf.org/viaf/41841996/</td>\n      <td>https://en.wikipedia.org/wiki/Louis_Jouvet</td>\n      <td>France</td>\n      <td>Comédie des Champs-Élysées / Théâtre des Champ...</td>\n      <td>75008</td>\n      <td>8</td>\n      <td>48.86571, 2.30314</td>\n      <td>According to the Shakespeare and Company [addr...</td>\n      <td>2021-09-21T02:02:41.087820+00:00</td>\n    </tr>\n    <tr>\n      <th>2800</th>\n      <td>https://shakespeareandco.princeton.edu/members...</td>\n      <td>Valery Larbaud</td>\n      <td>Larbaud, Valery</td>\n      <td>NaN</td>\n      <td>Male</td>\n      <td>False</td>\n      <td>True</td>\n      <td>1881.0</td>\n      <td>1957.0</td>\n      <td>NaN</td>\n      <td>http://viaf.org/viaf/13334</td>\n      <td>http://en.wikipedia.org/wiki/Valery_Larbaud</td>\n      <td>France</td>\n      <td>71 rue du Cardinal Lemoine, Paris;Hiawatha Eas...</td>\n      <td>75005;</td>\n      <td>5;</td>\n      <td>48.84554, 2.35023;50.83421, -0.27156</td>\n      <td>NaN</td>\n      <td>2021-09-27T03:55:20.823664+00:00</td>\n    </tr>\n    <tr>\n      <th>2988</th>\n      <td>https://shakespeareandco.princeton.edu/members...</td>\n      <td>Mme Lion</td>\n      <td>Lion, Mme</td>\n      <td>Mme</td>\n      <td>Female</td>\n      <td>False</td>\n      <td>False</td>\n      <td>NaN</td>\n      <td>NaN</td>\n      <td>NaN</td>\n      <td>NaN</td>\n      <td>NaN</td>\n      <td>NaN</td>\n      <td>1 rue de la Planche, Paris</td>\n      <td>75007</td>\n      <td>7</td>\n      <td>48.85334, 2.32556</td>\n      <td>The Shakespeare and Company &lt;a href=\"https://s...</td>\n      <td>2021-11-16T15:36:38.655056+00:00</td>\n    </tr>\n    <tr>\n      <th>3149</th>\n      <td>https://shakespeareandco.princeton.edu/members...</td>\n      <td>Mme Mannette</td>\n      <td>Mannette, Mme</td>\n      <td>Mme</td>\n      <td>Female</td>\n      <td>False</td>\n      <td>False</td>\n      <td>NaN</td>\n      <td>NaN</td>\n      <td>NaN</td>\n      <td>NaN</td>\n      <td>NaN</td>\n      <td>NaN</td>\n      <td>École normale supérieure, 45 rue d'Ulm, Paris</td>\n      <td>75005</td>\n      <td>5</td>\n      <td>48.84184, 2.34403</td>\n      <td>The Shakespeare and Company &lt;a href=\"https://s...</td>\n      <td>2021-10-05T03:30:52.510015+00:00</td>\n    </tr>\n    <tr>\n      <th>3162</th>\n      <td>https://shakespeareandco.princeton.edu/members...</td>\n      <td>George Margolin</td>\n      <td>Margolin, George</td>\n      <td>Mr.</td>\n      <td>Male</td>\n      <td>False</td>\n      <td>False</td>\n      <td>NaN</td>\n      <td>NaN</td>\n      <td>NaN</td>\n      <td>NaN</td>\n      <td>NaN</td>\n      <td>NaN</td>\n      <td>Hôtel Racine, 23 rue Racine, Paris</td>\n      <td>75006</td>\n      <td>6</td>\n      <td>48.84995, 2.33947</td>\n      <td>The Shakespeare and Company &lt;a href=\"https://s...</td>\n      <td>2021-10-16T12:59:25.003943+00:00</td>\n    </tr>\n    <tr>\n      <th>3194</th>\n      <td>https://shakespeareandco.princeton.edu/members...</td>\n      <td>Juan Ramón Masoliver</td>\n      <td>Masoliver, Juan Ramón</td>\n      <td>NaN</td>\n      <td>Male</td>\n      <td>False</td>\n      <td>True</td>\n      <td>1910.0</td>\n      <td>1997.0</td>\n      <td>NaN</td>\n      <td>http://viaf.org/viaf/60665573</td>\n      <td>https://es.wikipedia.org/wiki/Juan_Ram%C3%B3n_...</td>\n      <td>Spain</td>\n      <td>11 rue Claude Bernard, Paris</td>\n      <td>75005</td>\n      <td>5</td>\n      <td>48.83882, 2.34924</td>\n      <td>NaN</td>\n      <td>2019-11-19T14:47:34+00:00</td>\n    </tr>\n    <tr>\n      <th>3338</th>\n      <td>https://shakespeareandco.princeton.edu/members...</td>\n      <td>Mlle Mercoiret</td>\n      <td>Mercoiret, Mlle</td>\n      <td>Mlle</td>\n      <td>Female</td>\n      <td>False</td>\n      <td>False</td>\n      <td>NaN</td>\n      <td>NaN</td>\n      <td>NaN</td>\n      <td>NaN</td>\n      <td>NaN</td>\n      <td>NaN</td>\n      <td>12 boulevard de Port-Royal, Paris</td>\n      <td>75005</td>\n      <td>5</td>\n      <td>48.83716, 2.35016</td>\n      <td>The Shakespeare and Company &lt;a href=\"https://s...</td>\n      <td>2021-10-09T00:02:10.519235+00:00</td>\n    </tr>\n    <tr>\n      <th>3436</th>\n      <td>https://shakespeareandco.princeton.edu/members...</td>\n      <td>Mme le Moal</td>\n      <td>Moal, Mme le</td>\n      <td>Mme</td>\n      <td>Female</td>\n      <td>False</td>\n      <td>True</td>\n      <td>NaN</td>\n      <td>NaN</td>\n      <td>NaN</td>\n      <td>NaN</td>\n      <td>NaN</td>\n      <td>NaN</td>\n      <td>NaN</td>\n      <td>NaN</td>\n      <td>NaN</td>\n      <td>NaN</td>\n      <td>NaN</td>\n      <td>2021-01-01T17:36:41+00:00</td>\n    </tr>\n    <tr>\n      <th>3579</th>\n      <td>https://shakespeareandco.princeton.edu/members...</td>\n      <td>Margaret Newitt</td>\n      <td>Newitt, Margaret</td>\n      <td>NaN</td>\n      <td>Female</td>\n      <td>False</td>\n      <td>False</td>\n      <td>1914.0</td>\n      <td>1985.0</td>\n      <td>NaN</td>\n      <td>NaN</td>\n      <td>NaN</td>\n      <td>Canada;United Kingdom</td>\n      <td>1 rue Dupuytren, Paris</td>\n      <td>75006</td>\n      <td>6</td>\n      <td>48.85165, 2.33964</td>\n      <td>According to the Shakespeare and Company [addr...</td>\n      <td>2021-12-01T01:35:50.727805+00:00</td>\n    </tr>\n    <tr>\n      <th>3926</th>\n      <td>https://shakespeareandco.princeton.edu/members...</td>\n      <td>G. E. Pulsford</td>\n      <td>Pulsford, G. E.</td>\n      <td>Mr.</td>\n      <td>Male</td>\n      <td>False</td>\n      <td>True</td>\n      <td>NaN</td>\n      <td>NaN</td>\n      <td>NaN</td>\n      <td>NaN</td>\n      <td>NaN</td>\n      <td>NaN</td>\n      <td>6 rue Antoine Dubois, Paris</td>\n      <td>75006</td>\n      <td>6</td>\n      <td>48.85126, 2.33967</td>\n      <td>NaN</td>\n      <td>2020-01-01T20:35:51+00:00</td>\n    </tr>\n    <tr>\n      <th>4152</th>\n      <td>https://shakespeareandco.princeton.edu/members...</td>\n      <td>Jules Romains</td>\n      <td>Romains, Jules</td>\n      <td>NaN</td>\n      <td>Male</td>\n      <td>False</td>\n      <td>True</td>\n      <td>1885.0</td>\n      <td>1972.0</td>\n      <td>NaN</td>\n      <td>http://viaf.org/viaf/37053052</td>\n      <td>http://en.wikipedia.org/wiki/Jules_Romains</td>\n      <td>France</td>\n      <td>27 avenue René Coty, Paris;27 rue du Parc-de-M...</td>\n      <td>75014;75014</td>\n      <td>14;14</td>\n      <td>48.82908, 2.33473;</td>\n      <td>NaN</td>\n      <td>2020-08-01T22:20:37+00:00</td>\n    </tr>\n    <tr>\n      <th>4247</th>\n      <td>https://shakespeareandco.princeton.edu/members...</td>\n      <td>Erik Satie</td>\n      <td>Satie, Erik</td>\n      <td>NaN</td>\n      <td>Male</td>\n      <td>False</td>\n      <td>True</td>\n      <td>1866.0</td>\n      <td>1925.0</td>\n      <td>NaN</td>\n      <td>http://viaf.org/viaf/88805508</td>\n      <td>http://en.wikipedia.org/wiki/Erik_Satie</td>\n      <td>France</td>\n      <td>34 rue Cauchy, Arcueil;Arcueil-Cachan, Paris</td>\n      <td>94110;</td>\n      <td>;</td>\n      <td>48.80369, 2.33400;</td>\n      <td>NaN</td>\n      <td>2019-11-19T14:47:37+00:00</td>\n    </tr>\n    <tr>\n      <th>4920</th>\n      <td>https://shakespeareandco.princeton.edu/members...</td>\n      <td>Mrs. Visser</td>\n      <td>Visser, Mrs.</td>\n      <td>Mrs.</td>\n      <td>Female</td>\n      <td>False</td>\n      <td>True</td>\n      <td>NaN</td>\n      <td>NaN</td>\n      <td>NaN</td>\n      <td>NaN</td>\n      <td>NaN</td>\n      <td>NaN</td>\n      <td>206 boulevard Saint-Germain, Paris</td>\n      <td>75007</td>\n      <td>7</td>\n      <td>48.85528, 2.32902</td>\n      <td>NaN</td>\n      <td>2021-11-19T13:30:03.089596+00:00</td>\n    </tr>\n    <tr>\n      <th>5109</th>\n      <td>https://shakespeareandco.princeton.edu/members...</td>\n      <td>Romer Wilson</td>\n      <td>Wilson, Romer</td>\n      <td>NaN</td>\n      <td>Female</td>\n      <td>False</td>\n      <td>True</td>\n      <td>1891.0</td>\n      <td>1930.0</td>\n      <td>NaN</td>\n      <td>http://viaf.org/viaf/35347214</td>\n      <td>https://en.wikipedia.org/wiki/Romer_Wilson</td>\n      <td>United Kingdom</td>\n      <td>Hôtel Récamier, 3 bis place Saint-Sulpice, Paris</td>\n      <td>75006</td>\n      <td>6</td>\n      <td>48.85074, 2.33427</td>\n      <td>NaN</td>\n      <td>2021-11-19T14:15:45.426887+00:00</td>\n    </tr>\n    <tr>\n      <th>5175</th>\n      <td>https://shakespeareandco.princeton.edu/members...</td>\n      <td>Julia Wright</td>\n      <td>Wright, Julia</td>\n      <td>Miss</td>\n      <td>Female</td>\n      <td>False</td>\n      <td>True</td>\n      <td>1942.0</td>\n      <td>NaN</td>\n      <td>NaN</td>\n      <td>http://viaf.org/viaf/88105289</td>\n      <td>NaN</td>\n      <td>United States</td>\n      <td>14 rue Monsieur le Prince, Paris</td>\n      <td>75006</td>\n      <td>6</td>\n      <td>48.85045, 2.33953</td>\n      <td>NaN</td>\n      <td>2019-12-29T01:37:56+00:00</td>\n    </tr>\n  </tbody>\n</table>\n</div>"
     },
<<<<<<< Updated upstream
     "execution_count": 8,
=======
     "execution_count": 22,
>>>>>>> Stashed changes
     "metadata": {},
     "output_type": "execute_result"
    }
   ],
   "source": [
    "no_membership_years = members_df[members_df['membership_years'].isnull()]\n",
    "print('%d members with no membership years' % len(no_membership_years))\n",
    "no_membership_years\n"
   ]
  },
  {
   "cell_type": "markdown",
   "metadata": {
    "id": "pNfrK9DymXFC"
   },
   "source": [
    "## members from 1.1 no longer included in 1.2"
   ]
  },
  {
   "cell_type": "code",
<<<<<<< Updated upstream
   "execution_count": 9,
=======
   "execution_count": 23,
>>>>>>> Stashed changes
   "metadata": {
    "id": "DF9vmo8Mk-5r",
    "ExecuteTime": {
     "end_time": "2024-05-13T08:50:18.166581900Z",
     "start_time": "2024-05-13T08:50:15.625855500Z"
    }
   },
   "outputs": [],
   "source": [
    "# load 1.0 data from published version\n",
    "# events_v1_df = pd.read_csv('https://dataspace.princeton.edu/bitstream/88435/dsp013484zk85z/2/SCoData_events_v1_2020-07.csv')\n",
    "# books_v1_df = pd.read_csv('https://dataspace.princeton.edu/jspui/bitstream/88435/dsp016w924f76z/6/SCoData_books_v1_2020-07.csv')\n",
    "# members_v1_df = pd.read_csv('https://dataspace.princeton.edu/bitstream/88435/dsp0105741v63x/7/SCoData_members_v1_2020-07.csv')"
   ]
  },
  {
   "cell_type": "code",
<<<<<<< Updated upstream
   "execution_count": 10,
=======
   "execution_count": 24,
>>>>>>> Stashed changes
   "metadata": {
    "colab": {
     "base_uri": "https://localhost:8080/",
     "height": 766
    },
    "id": "K5bn1rdRmVvd",
<<<<<<< Updated upstream
    "outputId": "22bf5894-343d-4273-cc39-03b6e7a990f3"
   },
   "outputs": [
    {
     "ename": "NameError",
     "evalue": "name 'members_v1_df' is not defined",
     "output_type": "error",
     "traceback": [
      "\u001b[1;31m---------------------------------------------------------------------------\u001b[0m",
      "\u001b[1;31mNameError\u001b[0m                                 Traceback (most recent call last)",
      "Cell \u001b[1;32mIn[10], line 1\u001b[0m\n\u001b[1;32m----> 1\u001b[0m removed_members \u001b[38;5;241m=\u001b[39m members_v1_df[\u001b[38;5;241m~\u001b[39mmembers_v1_df\u001b[38;5;241m.\u001b[39muri\u001b[38;5;241m.\u001b[39misin(members_df\u001b[38;5;241m.\u001b[39muri)]\n\u001b[0;32m      2\u001b[0m removed_members\n",
      "\u001b[1;31mNameError\u001b[0m: name 'members_v1_df' is not defined"
     ]
=======
    "outputId": "22bf5894-343d-4273-cc39-03b6e7a990f3",
    "ExecuteTime": {
     "end_time": "2024-05-13T08:50:18.166581900Z",
     "start_time": "2024-05-13T08:50:15.643940500Z"
>>>>>>> Stashed changes
    }
   },
   "outputs": [],
   "source": [
    "#removed_members = members_v1_df[~members_v1_df.uri.isin(members_df.uri)]\n",
    "#removed_members"
   ]
  },
  {
   "cell_type": "markdown",
   "metadata": {
    "id": "oVEiBUjvwWtc"
   },
   "source": [
    "## addresses added in 1.2"
   ]
  },
  {
   "cell_type": "markdown",
   "metadata": {
    "id": "fwTLfi-yA7FX"
   },
   "source": [
    "## members with active subscriptions by month\n"
   ]
  },
  {
   "cell_type": "code",
   "execution_count": 25,
   "metadata": {
    "colab": {
     "base_uri": "https://localhost:8080/",
     "height": 424
    },
    "id": "qy8QzkV_A2jv",
    "outputId": "f908f5b0-beba-4cb6-e1d4-fc6e47882142",
    "ExecuteTime": {
     "end_time": "2024-05-13T08:50:18.166581900Z",
     "start_time": "2024-05-13T08:50:15.672696900Z"
    }
   },
   "outputs": [
    {
     "data": {
      "text/plain": "    month_start  month_end\n0    1919-11-01 1919-12-01\n1    1919-12-01 1920-01-01\n2    1920-01-01 1920-02-01\n3    1920-02-01 1920-03-01\n4    1920-03-01 1920-04-01\n..          ...        ...\n270  1942-05-01 1942-06-01\n271  1942-06-01 1942-07-01\n272  1942-07-01 1942-08-01\n273  1942-08-01 1942-09-01\n274  1942-09-01 1942-10-01\n\n[275 rows x 2 columns]",
      "text/html": "<div>\n<style scoped>\n    .dataframe tbody tr th:only-of-type {\n        vertical-align: middle;\n    }\n\n    .dataframe tbody tr th {\n        vertical-align: top;\n    }\n\n    .dataframe thead th {\n        text-align: right;\n    }\n</style>\n<table border=\"1\" class=\"dataframe\">\n  <thead>\n    <tr style=\"text-align: right;\">\n      <th></th>\n      <th>month_start</th>\n      <th>month_end</th>\n    </tr>\n  </thead>\n  <tbody>\n    <tr>\n      <th>0</th>\n      <td>1919-11-01</td>\n      <td>1919-12-01</td>\n    </tr>\n    <tr>\n      <th>1</th>\n      <td>1919-12-01</td>\n      <td>1920-01-01</td>\n    </tr>\n    <tr>\n      <th>2</th>\n      <td>1920-01-01</td>\n      <td>1920-02-01</td>\n    </tr>\n    <tr>\n      <th>3</th>\n      <td>1920-02-01</td>\n      <td>1920-03-01</td>\n    </tr>\n    <tr>\n      <th>4</th>\n      <td>1920-03-01</td>\n      <td>1920-04-01</td>\n    </tr>\n    <tr>\n      <th>...</th>\n      <td>...</td>\n      <td>...</td>\n    </tr>\n    <tr>\n      <th>270</th>\n      <td>1942-05-01</td>\n      <td>1942-06-01</td>\n    </tr>\n    <tr>\n      <th>271</th>\n      <td>1942-06-01</td>\n      <td>1942-07-01</td>\n    </tr>\n    <tr>\n      <th>272</th>\n      <td>1942-07-01</td>\n      <td>1942-08-01</td>\n    </tr>\n    <tr>\n      <th>273</th>\n      <td>1942-08-01</td>\n      <td>1942-09-01</td>\n    </tr>\n    <tr>\n      <th>274</th>\n      <td>1942-09-01</td>\n      <td>1942-10-01</td>\n    </tr>\n  </tbody>\n</table>\n<p>275 rows × 2 columns</p>\n</div>"
     },
     "execution_count": 25,
     "metadata": {},
     "output_type": "execute_result"
    }
   ],
   "source": [
    "# recalculate active members using month range and unique member URIs\n",
    "from dateutil.relativedelta import relativedelta\n",
    "\n",
    "# regenerate month range; create a dataframe instead of a list\n",
    "month_range = pd.DataFrame(data={'month_start': pd.date_range('1919-11-01','1942-09-01', freq='MS')})\n",
    "one_month = relativedelta(months=1)\n",
    "# use relative delta to calculate one month — this is the start of the next month and should be considered the outer bound of the range\n",
    "month_range['month_end'] = month_range.month_start.apply(lambda x: x + one_month)\n",
    "month_range"
   ]
  },
  {
   "cell_type": "code",
   "execution_count": 26,
   "metadata": {
    "colab": {
     "base_uri": "https://localhost:8080/"
    },
    "id": "CVH-hBcYBQrZ",
    "outputId": "72196c12-add4-404f-880b-ec91ca2509cd",
    "ExecuteTime": {
     "end_time": "2024-05-13T08:50:18.166581900Z",
     "start_time": "2024-05-13T08:50:15.706591300Z"
    }
   },
   "outputs": [],
   "source": [
    "subscription_events = events_df[events_df['event_type'].isin(['Subscription', 'Renewal', 'Supplement'])].copy()\n",
    "subscription_events['start_date_dt'] = pd.to_datetime(subscription_events.start_date, errors='coerce')\n",
    "subscription_events['end_date_dt'] = pd.to_datetime(subscription_events.end_date, errors='coerce')\n"
   ]
  },
  {
   "cell_type": "code",
   "execution_count": 27,
   "metadata": {
    "colab": {
     "base_uri": "https://localhost:8080/",
     "height": 424
    },
    "id": "5s_M_FJuBB4z",
    "outputId": "7b22cfc1-a04a-459f-95e2-5e785e3d2b26",
    "ExecuteTime": {
     "end_time": "2024-05-13T08:50:18.229003700Z",
     "start_time": "2024-05-13T08:50:15.751396200Z"
    }
   },
   "outputs": [
    {
     "data": {
      "text/plain": "    month_start  month_end  total\n0    1919-11-01 1919-12-01     27\n1    1919-12-01 1920-01-01     54\n2    1920-01-01 1920-02-01     73\n3    1920-02-01 1920-03-01     84\n4    1920-03-01 1920-04-01     90\n..          ...        ...    ...\n270  1942-05-01 1942-06-01      5\n271  1942-06-01 1942-07-01      2\n272  1942-07-01 1942-08-01      1\n273  1942-08-01 1942-09-01      1\n274  1942-09-01 1942-10-01      1\n\n[275 rows x 3 columns]",
      "text/html": "<div>\n<style scoped>\n    .dataframe tbody tr th:only-of-type {\n        vertical-align: middle;\n    }\n\n    .dataframe tbody tr th {\n        vertical-align: top;\n    }\n\n    .dataframe thead th {\n        text-align: right;\n    }\n</style>\n<table border=\"1\" class=\"dataframe\">\n  <thead>\n    <tr style=\"text-align: right;\">\n      <th></th>\n      <th>month_start</th>\n      <th>month_end</th>\n      <th>total</th>\n    </tr>\n  </thead>\n  <tbody>\n    <tr>\n      <th>0</th>\n      <td>1919-11-01</td>\n      <td>1919-12-01</td>\n      <td>27</td>\n    </tr>\n    <tr>\n      <th>1</th>\n      <td>1919-12-01</td>\n      <td>1920-01-01</td>\n      <td>54</td>\n    </tr>\n    <tr>\n      <th>2</th>\n      <td>1920-01-01</td>\n      <td>1920-02-01</td>\n      <td>73</td>\n    </tr>\n    <tr>\n      <th>3</th>\n      <td>1920-02-01</td>\n      <td>1920-03-01</td>\n      <td>84</td>\n    </tr>\n    <tr>\n      <th>4</th>\n      <td>1920-03-01</td>\n      <td>1920-04-01</td>\n      <td>90</td>\n    </tr>\n    <tr>\n      <th>...</th>\n      <td>...</td>\n      <td>...</td>\n      <td>...</td>\n    </tr>\n    <tr>\n      <th>270</th>\n      <td>1942-05-01</td>\n      <td>1942-06-01</td>\n      <td>5</td>\n    </tr>\n    <tr>\n      <th>271</th>\n      <td>1942-06-01</td>\n      <td>1942-07-01</td>\n      <td>2</td>\n    </tr>\n    <tr>\n      <th>272</th>\n      <td>1942-07-01</td>\n      <td>1942-08-01</td>\n      <td>1</td>\n    </tr>\n    <tr>\n      <th>273</th>\n      <td>1942-08-01</td>\n      <td>1942-09-01</td>\n      <td>1</td>\n    </tr>\n    <tr>\n      <th>274</th>\n      <td>1942-09-01</td>\n      <td>1942-10-01</td>\n      <td>1</td>\n    </tr>\n  </tbody>\n</table>\n<p>275 rows × 3 columns</p>\n</div>"
     },
     "execution_count": 27,
     "metadata": {},
     "output_type": "execute_result"
    }
   ],
   "source": [
    "def active_membership(d, df_t):\n",
    "    # find all subscription events that overlap with the month\n",
    "    # any overlap = subscription starts before month ends AND subscription ends after month starts\n",
    "    active_subs = df_t[(df_t.start_date_dt <= d.month_end) & (df_t.end_date_dt >= d.month_start)]\n",
    "    # return number of unique member ids\n",
    "    return len(active_subs.member_uris.unique())\n",
    "\n",
    "# generate a new frame with our month ranges and calculate\n",
    "# - total number of active members/accounts for each month\n",
    "active_member_df = month_range.copy()\n",
    "active_member_df['total'] = active_member_df.apply(active_membership, axis=1, args=(subscription_events,))\n",
    "#active_member_df['with_card'] = active_member_df.apply(borrowers_active_membership, axis=1, args=(subscription_events_cardinfo,))\n",
    "\n",
    "active_member_df"
   ]
  },
  {
   "cell_type": "code",
   "execution_count": 28,
   "metadata": {
    "ExecuteTime": {
     "end_time": "2024-05-13T08:50:18.229003700Z",
     "start_time": "2024-05-13T08:50:16.107390100Z"
    }
   },
   "outputs": [],
   "source": [
    "# active_member_df.shape(7)"
   ]
  },
  {
   "cell_type": "code",
   "execution_count": 29,
   "metadata": {
    "colab": {
     "base_uri": "https://localhost:8080/",
     "height": 579
    },
    "id": "C8e62uxdZ3Oh",
    "outputId": "baad9df7-b2ad-4834-de5b-180bde2662cd",
    "ExecuteTime": {
     "end_time": "2024-05-13T08:50:19.308950900Z",
     "start_time": "2024-05-13T08:50:16.112486700Z"
    }
   },
   "outputs": [
    {
     "name": "stderr",
     "output_type": "stream",
     "text": [
      "C:\\Users\\dittm\\AppData\\Local\\Temp\\ipykernel_16720\\2212697213.py:15: MatplotlibDeprecationWarning: Setting data with a non sequence type is deprecated since 3.7 and will be remove two minor releases later\n",
      "  plt.grid(axis='x', color='0.95', data=(gridline, 0))\n"
     ]
    },
    {
     "data": {
      "text/plain": "<Figure size 2500x1000 with 1 Axes>",
      "image/png": "iVBORw0KGgoAAAANSUhEUgAAB8YAAAMFCAYAAAAGNJxZAAAAOXRFWHRTb2Z0d2FyZQBNYXRwbG90bGliIHZlcnNpb24zLjcuMCwgaHR0cHM6Ly9tYXRwbG90bGliLm9yZy88F64QAAAACXBIWXMAAA9hAAAPYQGoP6dpAABv80lEQVR4nOzde5zUdb0/8PdeIPAKhkq2HE1BSllkJUW8UZzwjiiiQlZimankyRtJ5k8wxFumKOYNVOTIDw1PnqSDWpZaopjahpRRoCdxQyVEEA8SsOzvD8/Ob9eFZS/Dzsxnn8/Hw4fDvOfynu9+dnZmX/v+TFFNTU1NAAAAAAAAAECiinPdAAAAAAAAAABsS4JxAAAAAAAAAJImGAcAAAAAAAAgaYJxAAAAAAAAAJImGAcAAAAAAAAgaYJxAAAAAAAAAJImGAcAAAAAAAAgaYJxAAAAAAAAAJImGAcAAGimmpqaXLcAzWLNAgAA0N4JxgEAgOSNGzcuevfu3eh/gwcP3urtrF+/Pq699tqYM2dOs+7/pz/9afTu3Tuqqqq2eJnBgwdH796945JLLtniZU477bTo3bt3TJkypVn331KDBw+OcePGtcl9bc6UKVOid+/ejV7mhRdeiN69e8cLL7zQqvsaN25ck9ZAc9X217t373j22Wc3e5nXXnstc5nG1khLzZ49O66//vrMv5uyHnOhsa/3ihUrYsCAATFkyJBYt27dZi9z0UUXRZ8+feLVV1/dlm0224wZMza7ttavXx8/+tGPYtCgQdG3b9846aST4tFHH93i7XzwwQcxePDg+OlPf9qgVllZGV/96lfjgAMOiIEDB8a4ceNi+fLlzeozm7f/1ltvRf/+/Rs8V61fvz7uuuuuOOaYY6Jfv35x9NFHx2233Rbr169vVq8AAAAtIRgHAACSd/7558dDDz2U+W/QoEGx66671jvvtttu2+rtLF++PKZPnx4bN27cJn0WFxfHr3/96/jnP//ZoFZVVRULFizYJvdbyPbff/946KGHYv/99891K40qLi6Oxx57bLO1uXPnbtP7vuOOO2LVqlXb9D62tW7dusUVV1wRS5cujVtvvbVB/de//nXMnTs3xowZE/vtt18OOty8Rx99tN4fJdR10UUXxb333hsnnnhi3HnnnXHCCSfE+PHj4/77729w2VWrVsU3v/nN+Pvf/96g9sorr8RXv/rVeP/99+O6666La665JpYtWxYjR46MNWvWNKnPbN5+TU1NXH755fHBBx80qF1zzTVxxx13xPDhw+OOO+6IU089NaZNmxYTJkxoUp8AAACtUZrrBgAAALa1f/mXf4l/+Zd/yfx7l112iY4dO0a/fv1y19RmHHjggfHSSy/FM888E0cddVS92ty5c+Nzn/tc/PnPf85Rd/lphx12yLuv4+YceOCB8eSTT8ZVV10VpaX134r72jbN0KFD4/HHH4/7778/TjjhhEwA/sEHH8SECROiX79+cc455+S4y4+8++67MXny5PjJT34SXbp0aVB/9dVX48knn4yLLroozj333IiIOPTQQ6Nz585x4403xsknnxw77bRTREQ8+eSTMWnSpFi7du1m7+uOO+6InXbaKWbMmBE777xz5raOOeaYmDZtWlx00UWN9prt2/+///f/xuuvv97gdlatWhUPPvhgXHrppXH22WdHRMTAgQMjIuKHP/xhXHrppbHLLrs02isAAEBrmBgHAAD4XwsXLoxvfOMbMWDAgDjwwAPj3HPPjcWLF0fERxPb//qv/xoREd/73vfqbY08e/bsGD58ePTr1y/69u0bw4YNa9EUcI8ePaJPnz6bnSyeO3duHH/88Q3O/+c//xk33HBDDBo0KPr06RNDhw5tcN+DBw+O2267La699toYMGBAVFRUxCWXXBL/8z//E3fffXcceeSR0b9//7jgggvivffeq3fdDRs2xNVXXx0HHXRQHHTQQXHZZZfFypUr613mpZdeiq985StxwAEHxMEHH9zgMj/96U9jv/32i9mzZ8fhhx8eRx55ZCxevDjefPPNOO+882LAgAFxwAEHxOmnnx7PPPNMg8f49NNPx4knnhjl5eVx9NFHx3/+539mah/fSn3KlCkxePDgeOqpp+KYY46JAw44IE499dR4/vnnt/4FiIiHHnoovvCFL0Tfvn3jzDPPzGzLvWrVqigvL4+bbrqpwfE/6KCDtrrjwHHHHRerVq2K5557rt75ixYtir/97W9x7LHHNrhOY+ux7mN//vnn4+tf/3occMABceihh8b111+f2dVg8ODB8fe//z0eeeSRBtunL1iwIEaOHBnl5eXxhS98Ie65556tHp8nn3wyvvzlL0dFRUX06dMnjjnmmHjggQea1VPtcbv22mvjsMMOi4qKivje97632Z0SPm7ChAmxww47xBVXXBHV1dUREXHDDTfE+++/H9dff32UlJRk+hw+fHiUl5fHYYcdFldffXWD4Lepj+XBBx+ML37xi3HooYducTv8j7vzzjtj3rx5MWXKlPjiF7/YoP7aa69FRDSoHXzwwbF27drMen7//ffjggsuiIMPPjimTZu22ft6/fXXo3///pnQOiLiE5/4RJSXl8dTTz3VaJ/Zvv0333wzbrzxxpg4cWKD21mzZk2MHDmywbbye+21V+a6AAAA25JgHAAAICLmz58fo0aNik2bNsWkSZPi6quvjrfeeitGjhwZr732Wuy2226Z8PO8887LnJ45c2ZceeWV8a//+q9x1113xQ9/+MPo0KFDjB07NpYtW9bsPo477rh4+umn632O8uuvvx6LFi2K4447rt5la2pqYsyYMfHggw/GWWedFXfccUdUVFTERRddVC88joi47777YtmyZXHzzTfHueeeGz//+c/jlFNOiXnz5sXEiRPjggsuiF/96lcNtql+7LHH4o9//GNcd9118d3vfjeefvrpOP/88zP1F198MUaPHh2dOnWKyZMnx+WXXx6/+93v4mtf+1q9x1BdXR133nlnXH311XHhhRfG3nvvHd/61rdi7dq1ccMNN8Ttt98eXbp0ifPPPz/eeOONej1ceeWVMXr06Ljjjjtit912i3HjxsWiRYu2eAxXrlwZl112WXz5y1+OW265JTp37hzf/OY3449//GOjx/7tt9+OKVOmxIUXXhg33XRTrF69Or72ta/FypUro0uXLvGlL30p5syZEzU1NZnr/OpXv4o1a9bESSed1Oht9+zZM3r16tXgjx7+67/+Kw4++ODYdddd652/tfVY16WXXhr9+/ePO++8M4YOHRr33ntvPPzwwxERcdttt8Wuu+4agwYNioceeih22223zPUmTJgQJ5xwQtx1113Rt2/fuOGGGxoNUp9++ukYM2ZM7L///nH77bfHlClT4tOf/nRMnDgxfv/73ze5p4iIsWPHxkMPPRTf/OY3Y/LkybF69eqYPn16o8cwImLXXXeNyy+/PP70pz/Fgw8+GAsWLIif/OQnMXbs2EzAOmfOnBgzZkzsvffe8eMf/zi+/e1vx6OPPhrnn39+5mvXnMdy8803x2WXXRaXXXZZk3cnGDlyZDzxxBMNdn6oVTsZ/fGty5cuXRoRkfkDhk6dOsV//dd/xfXXXx9du3bd7G117dp1s1ugv/nmm1v9HPls3v6mTZti3Lhxceyxx8aRRx7Z4PI9evSICRMmxN57713v/F/+8pfRoUOHzNcPAABgW7GVOgAAQET86Ec/ih49esS0adMyU6eHH354DBkyJKZMmRKTJ0+Oz33ucxHx0dbstds4v/nmm/H1r389xowZk7mtsrKyGD58ePz+97+PPfbYo1l9HHvssfHDH/4wnnnmmTj66KMj4qNp8YqKivj0pz9d77LPPfdc/Pa3v42bb745E5ofccQR8eGHH8aNN94YJ5xwQmbb7u233z5uvvnmKC0tjUMPPTQeeeSRWL58ecyePTt23HHHGDRoUMyfP79BKLjTTjvFtGnTYocddoiIj0KyMWPGxLPPPhuHH354/OhHP4rPfOYzcdddd2WO2wEHHBDHH398/Md//EecccYZmds699xz4wtf+EJERPzjH/+I1157Lc4999wYNGhQRET07ds3brvttgaTw1dffXUmaOvRo0ccddRR8bvf/S4++9nPbvYYfvjhhzFhwoRMWH3IIYfEl770pbj77rs3+/nUtaqrq+O2227LhJ8HHHBAfOlLX4rp06fHxRdfHKecckrMnTs3XnjhhTjkkEMiIuKRRx6JAQMGRFlZ2RZvt9axxx4b999/f2zYsCE6dOgQER99bWu30q6rKeux1qmnnppZfwMHDownn3wynn766Rg5cmTst99+0bFjx9hll10ahLoXX3xxjBo1KiIi+vXrF7/+9a9j/vz5m51wjohYsmRJnHTSSfH9738/c15FRUUMGDAgXnzxxTjwwAOb1NPixYvjiSeeiCuvvDKzPo444ogYOnRoLFmyZKvHcdiwYfH444/HLbfcErvvvnscdthhmdupqamJG2+8MY444oi48cYbM9fZa6+9YvTo0fHMM8/EF77whWY9lpEjR8Yxxxyz1b7q2meffRqtH3TQQdGjR4+4+uqro3PnzlFeXh6LFi2KG2+8MYqLizPT7R07dmwQJH/cKaecEldccUVMmjQpzj777CguLo7p06fHa6+9Fhs2bGj0utm8/fvvvz/efPPNuPPOOxu9vbqeeOKJ+NnPfhZf+9rX6k2kAwAAbAsmxgEAgHZv7dq1sXDhwjjuuOMyIWTER6HwF7/4xcy2xpszbty4GDt2bKxZsyYWLlwYc+bMiZkzZ0ZEbDWU2pw99tgj+vXrV2+yeO7cuXHCCSc0uOzzzz8fRUVFMWjQoNi4cWPmv8GDB8c//vGPettu9+3bt95nW++6666x9957x4477pg5r0uXLrFmzZp69zFo0KBMKB7x0dbcHTp0iOeeey4+/PDDWLBgQQwaNChqamoy99+jR4/YZ599Yt68efVua999982c7tatW/Ts2TP+z//5PzFu3LiYO3du1NTUxPe+9716l4uI+PznP5853aNHj4j4aAvoLSkpKam37XynTp3iyCOPjJdffnmL14n4/8e+1q677hr9+vXLbH9+6KGHxh577BE/+9nPIiJi+fLlMW/evDj55JMbvd1axx13XKxevTpzewsWLIh33nmnwVRxc9djRUVFvX937959i58XXVfd47rddttFt27dGj2uZ599dlx//fWxdu3aWLRoUTz22GNx9913R0TDtd5YTy+99FJEROajCSIiiouLM38I0hRXXXVV1NTUxNtvvx3XXHNN5vzXX3893n777Rg8eHC974mDDjoodthhh8yabM5j6d27d5P7aqqOHTvGPffcE5/61Kdi9OjR0b9//7jwwgvjO9/5TkR89PVoqlNPPTXGjRsXDz/8cBx55JFxxBFHRFVVVYwcOTI6d+4cER/90Ufd47Fp06as3v7rr78ekydPjokTJ9Z7TmnM448/HpdcckkcdNBBcemllza5HwAAgJYyMQ4AALR7a9asiZqamujWrVuDWrdu3RqExXUtXbo0rrzyypg/f36UlpbG3nvvnQnS6m653RzHHntsTJ48OT788MN444034m9/+9tmJ1ZXrVoVNTU19aZb61q+fHlmyr1uuF2rNtRqzMePSXFxcXTp0iXef//9eP/992PTpk0xderUmDp1aoPrfuITn6j3709+8pOZ00VFRXHvvffGHXfcEb/85S/jkUceiQ4dOsSXvvSlmDBhQnTp0iVz2bohYXHxR3/f3dix3WWXXTIT2XXve/Xq1c16rLXXe+uttzL3PXz48Ljvvvti/Pjx8eijj0anTp2aHOh+5jOfic997nPx+OOPx6BBg2Lu3Llx+OGHN5iUbe567NSpU71/FxcXN2ntffzrv7XrrVy5MsaPHx9PPvlkFBUVxZ577hn9+/ePiIZfj8Z6qv061G4nXuvj28k3ZrfddsvsGLD77rtnzl+1alVEfBScX3XVVQ2ut3z58mY/lrrrNpv23HPPmDlzZrz77ruxatWq2HPPPeOtt96KTZs2NXt6+qyzzoqvfOUrsXTp0ujatWvssssucdlll2W+j4YMGVJvO/STTz45rrvuuqzcfnV1dYwbNy6OOeaYOOyww+p9lvymTZti48aN9f4oJ+Kjj3a44YYb4uCDD47bb789Onbs2KzHCwAA0BKCcQAAoN3bcccdo6ioKFasWNGg9o9//KNeSFvXpk2b4pxzzokOHTrET37yk9hvv/2itLQ0lixZEo8++miL+znmmGPiuuuui2eeeSb+/Oc/xyGHHLLZcG7HHXeM7bbbLmbMmLHZ29lzzz1b3EOtj08QV1dXx3vvvRef/OQnY/vtt4+ioqIYPXp0vQntWlsL3nffffeYMGFCjB8/PhYtWhSPP/54TJ06NXbeeefNhppNVfsHA0VFRZnzVqxYsdWAc3PT0v/4xz/qBbjDhw+PH//4x/Gb3/wm5s6dG8cdd1yT/sCg1nHHHRdTp06Nq666Kh5//PHNTsq2dD1ua5deemm89tprcd9998WBBx4YHTt2jA8//DBmz57drNup/SzrFStW1PuogdpQuzV22mmniIj47ne/GwcffHCDem3gnK3H0lLr1q2LJ554Ig488MDo0aNHZm3+6U9/iojIfFRDUyxcuDDeeuutOOqoo+pt4f6nP/0pczt33HFHrF+/PlPb0ueJt+T233rrrViwYEEsWLAg/vM//7PedW+//fa4/fbb41e/+lWUlZVFTU1NXH311fHAAw/EscceGzfccINQHAAAaDO2UgcAANq97bbbLvr06RNz586N6urqzPlr1qyJp59+OjNJWndb64iI9957L/77v/87RowYUW+r8t/85jcREc3arriu3XffPfr37x+/+MUv4rHHHtts6BwRcfDBB8fatWujpqYmysvLM/8tXrw4fvzjH9eb3Gyp5557rt7tPPHEE7Fx48YYMGBA7LDDDrHffvvF66+/Xu/+e/XqFbfddlujW9BXVlbGoYceGq+88koUFRXF5z73ubjoooti3333jbfffrtVPW/YsCF++9vfZv69bt26+M1vfhMDBw5s9HpvvPFGvPHGG5l/v/XWW1FZWRkDBgzInPfpT386Bg4cGP/+7/8ef/rTn5q8jXqtY489Nt5///24/fbbY/Xq1TF48OAGl2nqemyq2in71nr55Zfj6KOPjkMOOSQTZrZkrdd+Pvvjjz9e7/ynnnqq1T3uvffe8clPfjKqqqrqrcnu3bvHj370o3j11Vez+lhaqkOHDjFx4sT4yU9+kjmvuro6Hnjggdhzzz0bfJxAY373u9/FpZdeWu8PO+bNmxeLFy+OL33pSxHx0XbwdY9HWVlZ1m5/t912i4cffrjBfxERp512Wjz88MOx2267RUTETTfdFA888ECMHj06br75ZqE4AADQpkyMAwAARMQll1wS3/jGN+Lss8+Or3zlK7Fhw4a4++67Y/369fHtb387IiLz2bnPP/987LPPPnHAAQfEpz/96Zg5c2Z07949dtppp3j22Wfj/vvvj4iIDz/8sMX9HHvssXHttddGUVFRDBkyZLOXGTRoUBx00EFx/vnnx/nnnx/77LNPvPLKKzFlypQ4/PDDG2xV3RIrVqyICy64IL761a/G3/72t7jpppvisMMOy4TMF198cZxzzjlxySWXxIknnhjV1dVx7733xoIFC+K8887b4u3ut99+0alTp/jud78bF1xwQXTr1i2ee+65+POf/xxf+9rXWt335ZdfHhdeeGF88pOfjHvuuSfWrl3baD8RH239fv7558dFF10U1dXVccstt0SXLl3izDPPrHe5ESNGxMUXXxx77bVXs0PqHj16RHl5eUybNi2GDBkS22+//WYv15T12FQ77bRTvPrqq/G73/0u+vbt26zr1tW3b9+YM2dO7L///tG9e/eorKyMu+66K4qKipq11vfcc884/fTT4+abb46NGzfG5z73ufjZz34Wf/nLX1rcW62SkpK46KKL4sorr4ySkpL44he/mPlDhHfeeSf233//Vj2W9evXx6uvvhrdu3eP7t27t6rPL3/5y3H//ffH7rvvHvvss0888MAD8fvf/z5uv/32Zv0xw4knnhh33313fOc734lvfOMb8dZbb8V1110XBx54YAwdOrTFPTb19ktKSqK8vHyz191tt90ytT//+c8xderU6NOnTxx77LGxYMGCepft2bPnZj/yAQAAIFsE4wAAABExcODAuO++++LWW2+Niy++ODp27Bif//zn4/rrr49evXpFxEef033WWWfFQw89FE8//XTMmzcvbr/99pg0aVKMGzcuOnbsGD179ow77rgjrrnmmnjppZfiq1/9aov6OeaYY2LSpEnxhS98IbM99McVFxfH3XffHbfcckvcdddd8e6778buu+8eo0ePjjFjxrT4WNR12mmnxbp162LMmDHRsWPHGDp0aIwdOzazTfnhhx8e99xzT9x2223xb//2b9GhQ4fYf//947777ot+/fpt8XY/8YlPxL333hs/+tGPYtKkSfH+++/HXnvtFT/4wQ9i+PDhre57woQJcc0118TKlSvjwAMPjFmzZm11a/nevXvH8ccfHxMmTIg1a9bEwIED4/LLL2/wBwaDBg2KoqKiFvd53HHHxcKFC7e4E0BE09ZjU33961+Pa665Jr7xjW/Efffd16KeIyKuu+66mDhxYkycODEiIvbaa6+46qqr4tFHH42XXnqpWbc1fvz46NatWzzwwAOxevXqOOKII+Lcc8+NyZMnt7i/Wqeeempsv/32MW3atHjooYdiu+22iwMPPDBuvPHG6NGjR6sey/Lly+P000+Pb3/723HBBRe0qs8LLrggioqKYtq0abF69er47Gc/G3fffXccfvjhzbqdXXfdNe6555647rrr4oILLoiddtophg8fHt/5znca7HLREtm6/V/84hdRU1MTf/zjH+P0009vUJ8xY0a93RkAAACyraimpqYm100AAABANkyZMiVuu+22rEwfb8ncuXNj7Nix8fTTT8euu+66ze6H/PTwww/HypUr45xzzsl1KwAAADSDiXEAAABogieffDIWLlwYDz74YAwbNkwo3g598MEHcf/998c111yT61YAAABopqZ/aBUAAAC0Y1VVVTF9+vTo06dPjBs3LtftkAPbb7993HDDDVv8TG0AAADyl63UAQAAAAAAAEiaiXEAAAAAAAAAkiYYBwAAAAAAACBpgnEAAAAAAAAAklaa6waaatOmTbFx48YoLi6OoqKiXLcDAAAAAAAAQA7V1NTEpk2borS0NIqLG58JL5hgfOPGjbFw4cJctwEAAAAAAABAHikvL4+OHTs2epmCCcZrE/7y8vIoKSnJcTcAAAAAAAAA5FJ1dXUsXLhwq9PiEQUUjNdun15SUiIYBwAAAAAAACAiokkfxb316BwAAAAAAAAACphgHAAAAAAAAICkCcYBAAAAAAAASFrBfMY4AAAAAAAAQEqqq6tjw4YNuW4jr3Xo0CFKSkpafTuCcQAAAAAAAIA2VFNTE2+//XasWrUq160UhC5dukT37t2jqKioxbchGAcAAAAAAABoQ7Wh+G677RbbbbddqwLflNXU1MTatWtj+fLlERHxqU99qsW3JRgHAAAAAAAAaCPV1dWZUPyTn/xkrtvJe507d46IiOXLl8duu+3W4m3Vi7PZFAAAAAAAAABbVvuZ4tttt12OOykctceqNZ/HLhgHAAAAAAAAaGO2T2+6bBwrW6kDAAAAAAAA5IFZlVVtdl+jKsra7L7ygYlxAAAAAAAAALbqn//8Z7z99ttNuuzf/va3bdtMMwnGAQAAAAAAANiqL3/5y/Hcc89t9XKvvvpqnHDCCU2+3cGDB8dPf/rT1rS2VYJxAAAAAAAAALbqvffea9Ll1qxZExs2bNjG3TSPYBwAAAAAAACARn3961+PZcuWxfjx4+MHP/hBvPTSS3HGGWfE5z//+Rg8eHBMnjw51q9fH2+++WZ885vfjIiIioqKqKysjA8++CCuuOKKOOqoo6Jfv35xxBFHxJ133tmm/QvGAQAAAAAAAGjUvffeG3vssUdcddVV8ZWvfCXOOuusOOqoo+K5556L++67L37961/HDTfcED169IipU6dGRERlZWVUVFTEjTfeGFVVVfHwww9HZWVlXHHFFXHzzTfHG2+80Wb9C8YBAAAAAAAAaLI5c+ZE796948wzz4yOHTvGnnvuGZdccknMnj07Nm3a1ODyF1xwQUyePDl22GGHePvtt+MTn/hEREQsX768zXoubbN7AgAAAAAAAKDgvfvuu9GjR49655WVlcW6devi3Xff3ezlJ02aFK+++mqUlZVFnz59IiI2G6JvKybGAQAAAAAAAGiyT3/607F06dJ65y1dujQ6duwYO++8c4PLf+c734k+ffrE888/H4888khcfPHFbdVqhmAcAAAAAAAAgK3q2LFjrFmzJo4//vh47bXX4v7774/169fH0qVL46abboqhQ4dGx44dM1ulr1mzJvP/Tp06RUlJSaxcuTKuvvrqiIjYsGFDm/VuK3UAAAAAAACAPDCqoizXLTRqxIgRcfPNN8fChQtj2rRpcdNNN8WUKVOiU6dOccIJJ8SFF14YERH77rtv9O/fP4444oi45ZZb4tprr41rrrkm7r333th5553juOOOi/322y/++te/xuGHH94mvRfV1NTUtMk9tVJ1dXX84Q9/iH79+kVJSUmu2wEAAAAAAABotnXr1sV///d/x2c+85no1KlTrtspCFs6Zs3JkG2lDgAAAAAAAEDSBOMAAAAAAAAAJE0wDgAAAAAAAEDSBOMAAAAAAAAAJE0wDgAAAAAAANDGampqct1CwcjGsRKMAwAAAAAAALSRDh06RETE2rVrc9xJ4ag9VrXHriVKs9UMAAAAAAAAAI0rKSmJLl26xPLlyyMiYrvttouioqIcd5WfampqYu3atbF8+fLo0qVLlJSUtPi2BOMAAAAAAAAAbah79+4REZlwnMZ16dIlc8xaSjAOACRjVmVV5vSoirIcdgIAAAAAsGVFRUXxqU99KnbbbbfYsGFDrtvJax06dGjVpHgtwTgAAAAAAABADpSUlGQl9GXrinPdAAAAAAAAAABsS4JxAAAAAAAAAJImGAcAAAAAAAAgaYJxAAAAAAAAAJImGAcAAAAAAAAgaYJxAAAAAAAAAJImGAcAAAAAAAAgaaW5bgAAoDlmVVZlTo+qKMthJwAAAAAAFAoT4wAAAAAAAAAkTTAOAAAAAAAAQNIE4wAAAAAAAAAkTTAOAAAAAAAAQNIE4wAAAAAAAAAkTTAOAAAAAAAAQNIE4wAAAAAAAAAkTTAOAAAAAAAAQNIE4wAAAAAAAAAkTTAOAAAAAAAAQNIE4wAAAAAAAAAkTTAOAAAAAAAAQNIE4wAAAAAAAAAkTTAOAAAAAAAAQNIE4wAAAAAAAAAkTTAOAAAAAAAAQNIE4wAAAAAAAAAkTTAOAAAAAAAAQNIE4wAAAAAAAAAkTTAOAAAAAAAAQNIE4wAAAAAAAAAkTTAOAAAAAAAAQNIE4wAAAAAAAAAkTTAOAAAAAAAAQNIE4wAAAAAAAAAkTTAOAAAAAAAAQNJKc90AAMDHzaqsypweVVGWt7cJAAAAAEBhMDEOAAAAAAAAQNIE4wAAAAAAAAAkTTAOAAAAAAAAQNIE4wAAAAAAAAAkTTAOAAAAAAAAQNIE4wAAAAAAAAAkTTAOAAAAAAAAQNIE4wAAAAAAAAAkTTAOAAAAAAAAQNIE4wAAAAAAAAAkTTAOAAAAAAAAQNIE4wAAAAAAAAAkTTAOAAAAAAAAQNIE4wAAAAAAAAAkTTAOAAAAAAAAQNIE4wAAAAAAAAAkTTAOAAAAAAAAQNIE4wAAAAAAAAAkTTAOAAAAAAAAQNIE4wAAAAAAAAAkTTAOAAAAAAAAQNJKc90AAIVjVmVV5vSoirIcdgIAAAAAANB0JsYBAAAAAAAASJpgHAAAAAAAAICk2UodgJyyPTsAAAAAALCtmRgHAAAAAAAAIGmCcQAAAAAAAACSJhgHAAAAAAAAIGmCcQAAAAAAAACSJhgHAAAAAAAAIGmCcQAAAAAAAACSJhgHAAAAAAAAIGmluW4AgPTNqqzKnB5VUZbDTgAAAAAAgPbIxDgAAAAAAAAASROMAwAAAAAAAJA0wTgAAAAAAAAASROMAwAAAAAAAJA0wTgAAAAAAAAASROMAwAAAAAAAJA0wTgAAAAAAAAASROMAwAAAAAAAJC00lw3AEAaZlVWZU6PqijLYSfQfI2tX2sbAAAAAKDwmRgHAAAAAAAAIGkmxgGox3QsAAAAAACQGhPjAAAAAAAAACRNMA4AAAAAAABA0gTjQNJmVVbV2xocAAAAAACA9kcwDgAAAAAAAEDSBOMAAAAAAAAAJE0wDgAAAAAAAEDSBOMAAAAAAAAAJE0wDgAAAAAAAEDSBOMAAAAAAAAAJK1ZwfiiRYvirLPOioMPPjgOO+yw+O53vxsrV66MiIgFCxbEqaeeGhUVFTF48OCYPXt2ves+8sgjMWTIkOjXr18MHz48Kisrs/coAAAAAAAAAGALmhyMr1u3Ls4+++yoqKiIZ599Nn7+85/HqlWr4vLLL4/Vq1fHOeecEyeddFK8+OKLMWnSpLj22mvjlVdeiYiIF154ISZOnBjXXXddvPjii3HiiSfGeeedFx9++OE2e2AAAAAAAAAAENGMYHzZsmXx2c9+NsaMGRMdO3aMrl27xumnnx4vvvhi/OIXv4guXbrEGWecEaWlpTFw4MAYOnRozJw5MyIiZs+eHccff3z0798/OnToEKNHj46uXbvG3Llzt9kDAwAAAAAAAICIiNKmXnDvvfeOadOm1TvviSeeiP333z8WL14c++67b71az5494+GHH46IiCVLlsQpp5zSoL5o0aJmN1xdXd3s6wB47miZxo5bW9dov/JpHVqjAAAAAAD5ozm/s21yMF5XTU1NTJ48OZ566ql44IEHYsaMGdG5c+d6l+nUqVOsXbs2IiL+53/+p9F6cyxcuLAlLQPtVfHuERHxhz/8Ibd9FJL/PWYRmzlubV2j/cqndWiNAgAAAAAUvGYH4x988EF873vfiz/96U/xwAMPRO/evaNz586xZs2aepdbt25dbL/99hER0blz51i3bl2DeteuXZvdcHl5eZSUlDT7ekD79NdX3oqIiH79+uW2kQJSe8wiGh63tq7RfuXTOrRGAQAAAADyU3V1dZMHq5sVjC9dujS++c1vxh577BEPP/xw7LLLLhERse+++8a8efPqXXbJkiXRq1eviIjo1atXLF68uEH9yCOPbM7dR0RESUmJYBxoNs8bLdPYcWvrGu1XPq1DaxQAAAAAoDAVN/WCq1evjjPPPDMOPPDAuOeeezKheETEkCFDYsWKFTF9+vTYsGFDzJ8/P+bMmZP5XPERI0bEnDlzYv78+bFhw4aYPn16vPvuuzFkyJDsPyKg3ZlVWRWzKqty3QbkjdrvCd8X255jDQAAAABQGJo8Mf7Tn/40li1bFo899lg8/vjj9WqVlZVx7733xqRJk+LWW2+NXXbZJa644oo45JBDIiJi4MCBMX78+JgwYUK888470bNnz5g6dWp06dIlqw8GAAAAAAAAAD6uycH4WWedFWedddYW6+Xl5fHggw9usT5s2LAYNmxY87oDAAAAAAAAgFZq8lbqAAAAAAAAAFCIBOMAAAAAAAAAJE0wDgAAAAAAAEDSmvwZ4wCkY1ZlVeb0qIqyHHYCAAAAAACw7ZkYBwAAAAAAACBpgnEAAAAAAAAAkiYYBwAAAAAAACBpgnEAAAAAAAAAkiYYBwAAAAAAACBpgnEAAAAAAAAAkiYYBwAAAAAAACBpgnEAgG1kVmVVzKqsynUbAAAAAADtnmAcAAAAAAAAgKQJxgEAAAAAAABIWmmuGwAA2qe6W4yPqijLYScAAAAAAKTOxDgAAAAAAAAASROMAwAAAAAAAJA0wTgAAAAAAAAASROMAwAAAAAAAJA0wTgAAAAAAAAASROMAwAAAAAAAJA0wTgAAAAAAAAASROMAwAAAAAAAJA0wTgAAAAAAAAASROMAwAAAAAAAJC00lw3ADTNrMqqzOlRFWU57AQoZJ5LAAAAAABoj0yMAwAAAAAAAJA0wTgAAAAAAAAASbOVOgAUIFuiAwAAAABA05kYBwAAAAAAACBpJsYBAADqsCsHAAAAQHpMjAMAAAAAAACQNME4AAAAAAAAAEmzlTrkEdt25o/ar4WvQ275ngAAAAAAALLBxDgAAAAAAAAASROMAwAAAAAAAJA0wTgAAAAAAAAASROMAwAAAAAAAJA0wTgAAAAAAAAASSvNdQMAAGTHrMqqzOlRFWU57AQAAAAAIL+YGAcAAAAAAAAgaSbGASBPmf5NW+3X19cWAAAAAGDbMzEOAAAAAAAAQNIE4wAAAAAAAAAkTTAOtFuzKqvqbVUNAAAAAABAmgTjAAAAAAAAACRNMA4AAAAAAABA0gTjAAAAAAAAACRNMA4AAAAAAABA0gTjAAAAAAAAACRNMA4AAAAAAABA0gTjAAAAAAAAACStNNcNAEAKZlVWRUTEqIqyFl2vJdcFAAAAAACaxsQ4AAAAAAAAAEkTjAMAAAAAAACQNFupA8A21tJt1iGbbNsPAAAAALRnJsYBAAAAAAAASJpgHAAAAAAAAICk2UodEpD69ripPz4AAAAAAAC2LRPjAAAAAAAAACRNMA4AAAAAAABA0mylDgBQQGo/XiKbHy3hIysAAAAAgNSZGAcAAAAAAAAgaSbGAShIJlwBAAAAAICmMjEOAAAAAAAAQNIE4wAAAAAAAAAkTTAOAAAAAAAAQNIE4wAAAAAAAAAkTTAOAAAAAAAAQNJKc90AtDezKqsyp0dVlOWwE6C5ar9/fe8CAAAAAEBhMTEOAAAAAAAAQNIE4wAAAAAAAAAkzVbqAM3U2Hb4tsoHAAAAAADIPybGAQAAAAAAAEiaYBwAAAAAAACApNlKHRJna2+gqTxfAAAAAACQKhPjAAAAAAAAACTNxDiQF0yqAgCFwGsWAAAAgMJkYhwAAAAAAACApAnGAQAAAAAAAEiardQBEmWrV7LJeiKbrCfygXUIAAAA0L6YGAcAAAAAAAAgaYJxAAAAAAAAAJJmK3UAALLONtUAAAAAQD4xMQ4AAAAAAABA0gTjAAAAAAAAACTNVuoAAGyRLdEBAAAAgBSYGAcAAAAAAAAgaYJxAIA8M6uyqt6kNgAAAAAArSMYBwAAAAAAACBpgnEAAAAAAAAAklaa6wYA2ou62yKPqijLYSfpc6wBAAAAAIC6TIwDAAAAAAAAkDTBOAAAAAAAAABJs5U6AAB5w0chAAAAAADbgolxAAAAAAAAAJImGAcAAAAAAAAgabZSBwC2Gdtip83Xl2yyngAAAADYlkyMAwAAAAAAAJA0wTgA1DGrsqre1CIAAAAAAFD4BOMAAAAAAAAAJE0wDgAAAAAAAEDSBOMAAAAAAAAAJE0wDgAAAAAAAEDSBOMAAAAAAAAAJK001w0AAABsC7MqqzKnR1WU5bATAAAAAHLNxDgAAAAAAAAASROMAwAAAAAAAJA0W6nDNmDbTgAAAAAAAMgfJsYBAAAAAAAASJpgHAAAAAAAAICk2Uod2jFbvtMeWfcAAAAAAND+mBgHAAAAAAAAIGkmxoFmM3ELAOQLr0sAAAAAaAoT4wAAAAAAAAAkTTAOAAAAAAAAQNIE4wAAAAAAAAAkTTAOAAAAAAAAQNIE4wAAAAAAAAAkTTAOAAAAAAAAQNIE4wAAAAAAAAAkTTAOAAAAAAAAQNJKc90AAABAY2ZVVmVOj6ooy2EnAAAAABQqE+MAAAAAAAAAJM3EOAAABcHUcMvUHrd8OGa+hvkjn9YFAAAAQFswMQ4AAAAAAABA0gTjAAAAAAAAACRNMA4AAAAAAABA0gTjAAAAAAAAACStxcH4ypUrY8iQIfHCCy9kzhs/fnz06dMnKioqMv899NBDmfojjzwSQ4YMiX79+sXw4cOjsrKydd0DAAAAAAAAwFaUtuRKL7/8cowbNy6WLl1a7/yFCxfGxIkT4+STT25wnRdeeCEmTpwYU6dOjb59+8bMmTPjvPPOi6eeeio6d+7csu4BAAAAAAAAYCuaPTH+yCOPxKWXXhoXXXRRvfPXr18ff/3rX6NPnz6bvd7s2bPj+OOPj/79+0eHDh1i9OjR0bVr15g7d27LOgcAAAAAAACAJmj2xPjhhx8eQ4cOjdLS0nrh+KJFi2Ljxo1x6623xssvvxw77rhjnHLKKXH22WdHcXFxLFmyJE455ZR6t9WzZ89YtGhRs+6/urq6uS1DTjW2Zgul1pht8T2ZT499a4+vrY93S+XTcVPbsnzqp62fL9SyW8u3fvJpHbZn+XbM8mnNtOd1mMJjAAAAANqv5vxuo6impqampXfUu3fvmDFjRgwYMCDmzZsXd911V3z729+OioqK+POf/xxjxoyJM888M84+++wYMmRIfOtb34oRI0Zkrj927Njo2LFjTJo0aav3VV1dHX/4wx9a2iq0qb8W7545ve+md9pVraVac3+19bauNbfXbXHcGpNP66JQanXrhbye1PKjVrduPeXvz5/2oLE109byac2093WYT+sCAAAAoLX69esXJSUljV6mRZ8xvjmHHXZYHHbYYZl/9+3bN84888yYO3dunH322dG5c+dYt25dveusW7cuunbt2qz7KS8v3+qDglz76ytvZU7369evXdVaqjX3V1tv61pze90Wx60x+bQuCqVWt17I60ktP2p169bTtq+xZY2tmbaWT2umva/DfFoXAAAAAC1VXV0dCxcubNJlsxaMP/nkk7FixYoYOXJk5rz169dHp06dIiKiV69esXjx4nrXWbJkSRx55JHNup+SkhLBOAWlsfWaeq2l8ukxbO3x5dNxa0w+HTe1LcunftQKu5Zv/RTKz5/U5dsxy6c1057XYQqPAQAAAKApirN1QzU1NXHttdfG888/HzU1NVFZWRkzZsyI008/PSIiRowYEXPmzIn58+fHhg0bYvr06fHuu+/GkCFDstUCAAAAAAAAADSQtYnxIUOGxPe+972YMGFCvPPOO9GtW7e44IILYtiwYRERMXDgwBg/fnym3rNnz5g6dWp06dIlWy0AAAAAAAAAQAOtCsb/8pe/1Pv3yJEj622l/nHDhg3LBOVQ6GZVVmVOj6ooy2EnAEBb8zoAAAAAAApL1rZSBwAAAAAAAIB8JBgHAAAAAAAAIGlZ+4xxAADIFVubkw+sQwAAAID8ZWIcAAAAAAAAgKQJxgEAAAAAAABImq3UAQAgi2ynDQAAAAD5x8Q4AAAAAAAAAEkTjAMAAAAAAACQNME4AAAAAAAAAEkTjAMAAAAAAACQtNJcNwAAALkyq7Iqc3pURVkOOwEAAAAAtiUT4wAAAAAAAAAkTTAOAAAAAAAAQNIE4wAAAAAAAAAkTTAOAAAAAAAAQNIE4wAAAAAAAAAkrTTXDQAQMauyKnN6VEVZDjsBoD2p/fnjZw8AAAAAqTMxDgAAAAAAAEDSBOMAAAAAAAAAJM1W6gAAsBk+5gIAAAAA0mFiHAAAAAAAAICkmRgn79ROZ5nMAgCyweQ3AAAAAGBiHAAAAAAAAICkCcYBAAAAAAAASJpgnIIyq7Kq3naoAAAAAAAAAFsjGAcAAAAAAAAgaYJxAAAAAAAAAJJWmusGAAAAUlf344BGVZTlsBMAAACA9snEOAAAAAAAAABJE4wDAAAAAAAAkDRbqZOM2u0pbU1Je2JbVgAAAAAAgK0zMQ4AAAAAAABA0kyMAwAAJMauMgAAAAD1mRgHAAAAAAAAIGmCcQAAAAAAAACSJhgHAIACN6uyqt7W2QAAAABAfYJxAAAAAAAAAJImGAcAAAAAAAAgaaW5boD2qXarz1EVZTnuBAAAClPd7fO9rgYAAABonIlxAAAAAAAAAJImGAcAAAAAAAAgabZSB7LKlp4AAAAAAADkGxPjAAAAAAAAACRNMA4AAAAAAABA0gTjAAAAAAAAACRNMA4AAAAAAABA0kpz3QDQfsyqrMqcHlVRlsNOAAAAAAAAaE9MjAMAAAAAAACQNME4AAAAAAAAAEkTjAMAAAAAAACQNME4AAAAAAAAAEkTjAMAAAAAAACQNME4AAAAAAAAAEkTjAMAAAAAAACQNME4AAAAAAAAAEkrzXUDAABA/plVWZU5PaqiLIedAAAAAEDrmRgHAAAAAAAAIGkmxmkXTDwBAAAAAABA+2ViHAAAAAAAAICkCcYBAAAAAAAASJqt1AEAAPKUjwQCAAAAyA4T4wAAAAAAAAAkTTAOAAAAAAAAQNJspQ4AAG3EttgAAAAAkBsmxgEAAAAAAABImmAcAAAAAAAAgKQJxgEAAAAAAABImmAcAAAAAAAAgKSV5roByGezKqsyp0dVlOWwEwAAUuU1JwAAAPBxfl+QfSbGAQAAAAAAAEiaYBwAAAAAAACApAnGAQAAAAAAAEiaYBwAAAAAAACApAnGAQAAAAAAAEhaaa4bAKBxsyqrMqdHVZTlsBMAAAAAAIDCZGIcAAAAAAAAgKQJxgEAAAAAAABImq3UaVRLt3C29TMAQPvkdWDhq/0a+voBAAAAKTExDgAAAAAAAEDSBOMAAAAAAAAAJE0wDgAAAAAAAEDSBOMAAAAAAAAAJK001w1QuGZVVmVOj6ooy2EnAAAAAAAAAFtmYhwAAAAAAACApAnGAQAAAAAAAEiaYBwAAAAAAACApAnGAQAAAAAAAEiaYBwAAAAAAACApAnGAQAAAAAAAEiaYBwAAAAAAACApAnGAQAAAAAAAEhaaa4bgFybVVmVOT2qoiyHnQAAFAavnwAAqMvrQwCgEJgYBwAAAAAAACBpJsYBAAAAAAAACoTdWlrGxDgAAAAAAAAASROMAwAAAAAAAJA0wTgAAAAAAAAASROMAwAAAAAAAJA0wTgAAAAAAAAASROMAwAAAAAAAJA0wTgAAAAAAAAASROMAwAAAAAAAJA0wTgAAAAAAAAASROMAwAAAAAAAJA0wTgAAAAAAAAASROMAwAAAAAAAJA0wTgAAAAAAAAASROMAwAAAAAAAJA0wTgAAAAAAAAASROMAwAAAAAAAJC00lw3AAAAAABAfptVWZU5PaqiLIedAAC0jIlxAAAAAAAAAJImGAcAAAAAAAAgaYJxAAAoALMqq+ptXwkAAAAANJ1gHAAAAAAAAICkCcYBAAAAAAAASJpgHAAAAAAAAICkCcYBAAAAAAAASFpprhsAAAAAAIB8NquyKiIiRlWU5bgTaDu16z7C2gfSYGIcAAAAAAAAgKQJxgEAAAAAAABImq3UAQAAAACwbTIA7YKfd+2XiXEAAAAAAAAAkiYYBwAAAAAAACBpgnEAAAAAAAAAkiYYBwAAAAAAACBpgnEAAAAAAAAAklaa6wbIvVmVVZnToyrKctgJAAAAAACQ7+QKQCFq8cT4ypUrY8iQIfHCCy9kzluwYEGceuqpUVFREYMHD47Zs2fXu84jjzwSQ4YMiX79+sXw4cOjsrKy5Z0DAAAAAAAAQBO0KBh/+eWX4/TTT4+lS5dmzlu9enWcc845cdJJJ8WLL74YkyZNimuvvTZeeeWViIh44YUXYuLEiXHdddfFiy++GCeeeGKcd9558eGHH2bnkQAAAAAAAADAZjQ7GH/kkUfi0ksvjYsuuqje+b/4xS+iS5cuccYZZ0RpaWkMHDgwhg4dGjNnzoyIiNmzZ8fxxx8f/fv3jw4dOsTo0aOja9euMXfu3Ow8EgAAAAAAAADYjGZ/xvjhhx8eQ4cOjdLS0nrh+OLFi2Pfffetd9mePXvGww8/HBERS5YsiVNOOaVBfdGiRc26/+rq6ua2TDM0dnxTqOVbP2qFXcu3ftQKu5Zv/agVdi3f+lFrfq0x1pNaPtQAgPR5DbF5qT8+2JL2/H1P2gpl/foe3LLmPP6impqampbeUe/evWPGjBkxYMCA+P73vx8bNmyIG264IVOfPXt23H333fHLX/4yhgwZEt/61rdixIgRmfrYsWOjY8eOMWnSpK3eV3V1dfzhD39oaas04q/Fu2dO77vpnW1eq1tv61pze1XL/1rduvWk1tpa3br1pNbaWt269aTWlNrWWE9q+fD8BMDWtebnPeRavr0GzideI9EetYfvbdqnfFq/7f3nazb169cvSkpKGr1MsyfGt6Rz586xZs2aeuetW7cutt9++0x93bp1Depdu3Zt1v2Ul5dv9UHRPH995a3M6X79+m3zWt16W9ea26ta/tfq1q0ntdbW6tatJ7XW1urWrSe1ptS2xnpSy4fnJwC2rjU/7yHX8u01cD7xGon2qD18b9M+5dP6be8/X7Ohuro6Fi5c2KTLZi0Y33fffWPevHn1zluyZEn06tUrIiJ69eoVixcvblA/8sgjm3U/JSUlgvFtqLFjm0It3/pRK+xavvWjVti1fOtHrbBr+daPWvNrjbGe1PKhBkDTeC6lkHl9sXkpPAZoidS/t2m/8mn9tuefr22lOFs3NGTIkFixYkVMnz49NmzYEPPnz485c+ZkPld8xIgRMWfOnJg/f35s2LAhpk+fHu+++24MGTIkWy0AAAAAAAAAQANZmxjv2rVr3HvvvTFp0qS49dZbY5dddokrrrgiDjnkkIiIGDhwYIwfPz4mTJgQ77zzTvTs2TOmTp0aXbp0yVYLAAAAAAAAANBAq4Lxv/zlL/X+XV5eHg8++OAWLz9s2LAYNmxYa+4SAAAAAAAAAJolaxPjNM+syqrM6VEVZTnsBAAAAIDm8HsdoK7a5wTPBwD5w+s1NidrnzEOAAAAAAAAAPnIxHge8lcsAAAAAADAtiaPANoTE+MAAAAAAAAAJE0wDgAAAAAAAEDSbKUOAAAAAAAA5B3b/ZNNJsYBAAAAAAAASJpgHAAAAAAAAICk2UodAAAAAACAbc622GST9URzmRgHAAAAAAAAIGmCcQAAAAAAAACSZiv1bcgWDgAAAAAAhaH297l+lwtsCzIjyD0T4wAAAAAAAAAkzcQ4AAAAAAAAWdHSyWgT1cC2ZmIcAAAAAAAAgKQJxgEAAAAAAABImq3UAQAAAAAAgHbPlv5pMzEOAAAAAAAAQNIE4wAAAAAAAAAkzVbqAAAAAADthC1iAcg3fjbRVkyMAwAAAAAAAJA0wTgAAAAAAAAASbOVehPYwgEAAAAAAACgcJkYBwAAAAAAACBpgnEAAAAAAAAAkmYr9VayzToAAABA09X+LsXvUQCgbcgxAD5iYhwAAAAAAACApJkYBwAAAACAbaClu2SY8IXC1NLvXd/z0DZMjAMAAAAAAACQNME4AAAAAAAAAEmzlToAAOQB26YBANDetPfXwO398QNAWzMxDgAAAAAAAEDSBOMAAAAAAAAAJE0wDgAAAAAAAEDSBOMAAAAAAAAAJE0wDgAAAAAAAEDSSnPdAAAAAAAA0DSzKqsyp0dVlOWwEwAoLCbGAQAAAAAAAEiaifH/5a/sAAAAAP6/9v67kvb++AHIP342AbSOiXEAAAAAAAAAkiYYBwAAAAAAACBptlIHAAAAIGtas81r7XVtDwtbZ0tloC7PCeQ7a5R8YGIcAAAAAAAAgKQJxgEAAAAAAABImq3UAQAAAKAN2EIUAKBweS1X+EyMAwAAAAAAAJA0wTgAAAAAAAAASbOVOgAAAABAQmz1CgDQkIlxAAAAAAAAAJImGAcAAKBJZlVW1ZtAAwAAACgUgnEAAAAAAAAAkiYYBwAAAAAAACBppbluAAAAAIDCUvdjFUZVlOWwEwAA8oXXiOQ7E+MAAAAAAAAAJE0wDgAAAAAAAEDSbKXeTti+AgAAAAAAAGivTIwDAAAAAAAAkDTBOAAAAAAAAABJs5U6AAAAAAAANEEuPrq29j59VC60jolxAAAAAAAAAJImGAcAAAAAAAAgaYJxAAAAAAAAAJImGAcAAAAAAAAgaaW5bgAAAACA3JhVWZU5PaqiLIedANTn+QkAyDYT4wAAAAAAAAAkTTAOAAAAAAAAQNIE4wAAAAAAAAAkTTAOAAAAAAAAQNIE4wAAAAAAAAAkrTTXDbSlWZVVmdOjKspy2AkAAAAAAAAAbcXEOAAAAAAAAABJE4wDAAAAAAAAkLR2tZU6AAAAAADtk4/aBID2zcQ4AAAAAAAAAEkTjAMAAAAAAACQNME4AAAAAAAAAEkTjAMAAAAAAACQNME4AAAAAAAAAEkTjAMAAAAAAACQNME4AAAAAAAAAEkrzXUDAAAAFL5ZlVWZ06MqynLYCQAAQOt4f0M2WU/5w8Q4AAAAAAAAAEkTjAMAAAAAAACQNFupAwAAANAu2day/ar92vu6AwAp8lpn80yMAwAAAAAAAJA0E+MFxl8yAwAAAKSnsd/5+H0Q0FSeLwBgy0yMAwAAAAAAAJA0wTgAAAAAAAAASbOVOgAAAADA/6rdito21ADQkI9soJCZGAcAAAAAAAAgaYJxAAAAAAAAAJImGAcAAAAAAAAgaYJxAAAAAAAAAJImGAcAAAAAAAAgaaW5bgAAAAAAgIZmVVZlTo+qKMthJ1DYfC+xOamsi9rHUciPAdqKiXEAAAAAAAAAkmZiHAAAAACAgpHKlCfZZV2kzdcXyAYT4wAAAAAAAAAkTTAOAAAAAAAAQNJspQ4AAAAA0AS28oX0+L4GaD9MjAMAAAAAAACQNME4AAAAAAAAAEmzlToAAAAAAEmwLTYAsCUmxgEAAAAAAABImmAcAAAAAAAAgKTZSh0AAAAACpRto/OHrwUAQH4zMQ4AAAAAAABA0gTjAAAAAAAAACTNVuoJsV0TAAAAkKra33v4nQcAAPlGRlcYTIwDAAAAAAAAkDQT4wAAAGxT/nIetj3fZ9CQXQYAAKjLxDgAAAAAAAAASROMAwAAAAAAAJA0W6kDAAAAAEDifOwGAO2diXEAAAAAAAAAkiYYBwAAAAAAACBpgnEAAAAAAAAAkiYYBwAAAAAAACBpgnEAAAAAAAAAkiYYBwAAAAAAACBpgnEAAAAAAAAAklaa6waybVZlVeb0qIqyHHYCAAAAAGxLtb8L9HtAYFuQNwCkxcQ4AAAAAAAAAEkTjAMAAAAAAACQtOS2UgcAAACAWrbBBQAAIkyMAwAAAAAAAJA4wTgAAAAAAAAASROMAwAAAAAAAJA0wTgAAAAAAAAASctqMD537tzYb7/9oqKiIvPf2LFjIyJiwYIFceqpp0ZFRUUMHjw4Zs+enc27BgAAAAAAAIDNKs3mjS1cuDCGDRsW1157bb3zV69eHeecc07827/9W5x++unx4osvxpgxY6J3797Rt2/fbLYAAABAImZVVmVOj6ooy2EnAADkA68PaS5rBqgr68H4scce2+D8X/ziF9GlS5c444wzIiJi4MCBMXTo0Jg5c2azg/Hq6uqsXFatfdbyrR+1wq7lWz9qhV3Lt37UCruWb/2oFXYt3/pRy/9aa6+b7etBe7Qtvs8KpbY1+dRrvh2bQpfKz7ttcX9q+V/Lx34KQXs/Zvn0+POp1ph86jOfjktr5NNjVGt+LRXNeYxFNTU1Ndm4002bNkX//v3j85//fCxZsiSqq6tj0KBBcemll8aPf/zjeOutt2LKlCmZy//7v/97PPzww/Gzn/2sSbdfXV0df/jDH7Z6ub8W7545ve+md9TysFa33ta15vaqlv+1unXrSa21tbp160mttbW6detJrbW1unXrSa21tbr1fFgzjWnp9aA9yqfnmVw8BzUmnx5/Lo536grlNVJL5dN6Sr1Wt57v66k9P1+0h2NWKGsmn2qNyac+c/H81FL59PjVml+rWy/U5/uW6NevX5SUlDR6maxNjK9cuTL222+/OProo+PWW2+N9957Ly677LIYO3Zs7LrrrtG5c+d6l+/UqVOsXbu22fdTXl7e6IP66ytvZU7369dPLQ9rdettXWtur2r5X6tbt57UWlurW7ee1Fpbq1u3ntRaW6tbt57UWlurW8+HNdOYll4P2qN8ep7JxXNQY/Lp8efieKeuUF4jtVQ+rafUa3Xr+b6e2vPzRXs4ZoWyZvKp1ph86jMXz08tlU+PX635tbr1Qn2+b47q6upYuHBhky6btWC8W7duMXPmzMy/O3fuHGPHjo3TTjsthg8fHuvWrat3+XXr1sX222/f7PspKSnZatpf97Jqarm+T7V0a/nWj1ph1/KtH7XCruVbP2qFXcu3ftTyv9ba62b7etAe5dNzQi6egxqTT73m27EpdKn8vNsW96eW/7V87KcQpH7MCmnN5FOtMfnUZz4dl63Jp8ehlt1ae1ScrRtatGhR3HjjjVF3Z/b169dHcXFx9O3bNxYvXlzv8kuWLIlevXpl6+4BAAAAAAAAYLOyFox36dIlZs6cGdOmTYuNGzfGsmXL4oc//GGcfPLJcfTRR8eKFSti+vTpsWHDhpg/f37MmTMnTjnllGzdPQAAAAAAAABsVtaC8e7du8ddd90Vv/rVr+Lggw+OU045JcrLy+PKK6+Mrl27xr333huPP/54DBgwIK644oq44oor4pBDDsnW3QMAAAAAAADAZmXtM8YjIg4++OB48MEHN1srLy/fYg0AAAAAIFWzKqsyp0dVlOWwE8h/vl8A2FayNjEOAAAAAAAAAPlIMA4AAAAAAABA0rK6lToAAAC0BVtsAmxdY8+Vnkfzh68FQOt4Ht2y2mPjuMBHTIwDAAAAAAAAkDTBOAAAAAAAAABJs5U6AAAA0OZs6wg0he1xAWDb8DOW9sjEOAAAAAAAAABJMzEOAAAAOWBCY8scGwBIm5/1AOSCiXEAAAAAAAAAkiYYBwAAAAAAACBptlIHAAAAoKDVbslrO978ZdtkAAByzcQ4AAAAAAAAAEkTjAMAAAAAAACQNFupAwAAAAXDdswAUBhS/5md+uMDSJGJcQAAAAAAAACSJhgHAAAAAAAAIGm2UgcAAAAAMmwPDABAikyMAwAAAAAAAJA0E+MAAADANlE7dWriFNJhmhwAgEJlYhwAAAAAAACApAnGAQAAAAAAAEiardQBAACAJKS+xXPqjw8AAGBbMjEOAAAAAAAAQNIE4wAAAAAAAAAkzVbqAAAAJMV20wAAAMDHmRgHAAAAAAAAIGmCcQAAAAAAAACSZit1AAAA2EZauq277eCB9sRzHgAAbcHEOAAAAAAAAABJMzEOAABAzpgSLHy1X8N8//pZawAAAO2biXEAAAAAAAAAkiYYBwAAAAAAACBptlIHAAAAAFrNRxZA4Wrp96/vewAKiYlxAAAAAAAAAJImGAcAAAAAAAAgabZSBwAAAAAANst26QCkwsQ4AAAAAAAAAEkTjAMAAAAAAACQNME4AAAAAAAAAEkTjAMAAAAAAACQtNJcNwAAAAA03azKqszpURVlOewEAACAQlP7nrI9vp80MQ4AAAAAAABA0gTjAAAAAAAAACRNMA4AAAAAAABA0gTjAAAAAAAAACRNMA4AAAAAAABA0kpz3QAAAAAUslmVVZnToyrKctgJAAAAsCUmxgEAAAAAAABImmAcAAAAAAAAgKQJxgEAAIBGzaqsqrdlPAAALee1FUBuCMYBAAAAAAAASJpgHAAAAAAAAICklea6AQAAAMgHdbezHFVR1uQahc/XFwDIttrXF15bAOQPE+MAAAAAAAAAJM3EOAAAAO1G6pPBqT8+AAAAaCkT4wAAAAAAAAAkTTAOAAAAAAAAQNIKcit1W8MBAAAAAAAA0FQmxgEAAAAAAABImmAcAAAAAAAAgKQJxgEAAAAAAABImmAcAAAAAAAAgKQJxgEAAAAAAABIWmmuGwAAAAC2vVmVVZnToyrKctgJAAAAtD0T4wAAAAAAAAAkzcQ4AAAAtHOmyQEAAEidiXEAAAAAAAAAkiYYBwAAAAAAACBpgnEAAAAAAAAAkiYYBwAAAAAAACBpgnEAAAAAAAAAklaa6wYAAAAA8tWsyqrM6VEVZTnsBAAAYNuqff+T6nsfE+MAAAAAAAAAJE0wDgAAAAAAAEDSBOMAAAAAAAAAJE0wDgAAAAAAAEDSSnPdAAAAAAAfmVVZlTk9qqIsh50AAACkxcQ4AAAAAAAAAEkTjAMAAAAAAACQNME4AAAAAAAAAEkTjAMAAAAAAACQNME4AAAAAAAAAEkTjAMAAAAAAACQNME4AAAAAAAAAEkTjAMAAAAAAACQNME4AAAAAAAAAEkTjAMAAAAAAACQNME4AAAAAAAAAEkrzXUDAAAAAIVoVmVV5vSoirIcdgIAAMDWmBgHAAAAAAAAIGkmxgEAAACyzDQ5AABAfjExDgAAAAAAAEDSBOMAAAAAAAAAJE0wDgAAAAAAAMAWzaqsqveRUYVIMA4AAAAAAABA0gTjAAAAAAAAACStNNcNAAAAALQndbcfHFVRlsNOAAAA2g8T4wAAAAAAAAAkTTAOAAAAAAAAQNIE4wAAAAAAAAAkTTAOAAAAAAAAQNIE4wAAAAAAAAAkTTAOAAAAAAAAQNIE4wAAAAAAAAAkTTAOAAAAAAAAQNIE4wAAAAAAAAAkTTAOAAAAAAAAQNIE4wAAAAAAAAAkTTAOAAAAAAAAQNIE4wAAAAAAAAAkTTAOAAAAAAAAQNIE4wAAAAAAAAAkTTAOAAAAAAAAQNIE4wAAAAAAAAAkTTAOAAAAAAAAQNIE4wAAAAAAAAAkTTAOAAAAAAAAQNIE4wAAAAAAAAAkrTTXDQAAAAAAAABQmGZVVmVOj6ooy2EnjTMxDgAAAAAAAEDSBOMAAAAAAAAAJE0wDgAAAAAAAEDSBOMAAAAAAAAAJE0wDgAAAAAAAEDSBOMAAAAAAAAAJE0wDgAAAAAAAEDSSnPdAAAAAAAAAADpmVVZlTk9qqIsh52YGAcAAAAAAAAgcW0ajL/77rtx/vnnx+c///kYMGBATJo0KTZu3NiWLQAAAAAAAADQzrTpVuoXXnhh7L777vHb3/42VqxYEeedd15Mnz49zj777LZsAwAAAAAAAIAcamyb9abWTuv7qSbfX5tNjL/xxhvxu9/9LsaOHRudO3eOHj16xPnnnx8zZ85sqxYAAAAAAAAAaIfabGJ88eLF0aVLl9h9990z5+2zzz6xbNmyeP/992OnnXZq9Po1NTUREbF+/foortmUOX/9+vX1LqeW/7W69bauNbdXtfyv1a1bT2qtrdWtW09qra3VrVtPaq2t1a1bT2qtrdWtWzNqTanVrVtPaq2t1a1bT2qtrdWtW09qra3VrVtPaq2t1a1bM2qtrdWtW09qTanVrben9VSbJTemqKYpl8qCn/3sZ3HzzTfH008/nTlv6dKlMWTIkHjmmWeie/fujV5//fr1sXDhwm3cJQAAAAAAAACFpLy8PDp27NjoZdpsYny77baLDz/8sN55tf/efvvtt3r90tLSKC8vj+Li4igqKtomPQIAAAAAAABQGGpqamLTpk1RWrr12LvNgvFevXrFqlWrYsWKFdGtW7eIiHjttdeie/fuseOOO271+sXFxVtN+QEAAAAAAADg44rb6o722muv6N+/f1xzzTXxwQcfxJtvvhm33357jBgxoq1aAAAAAAAAAKAdarPPGI+IWLFiRfzgBz+IF154IYqLi+Okk06KSy+9NEpKStqqBQAAAAAAAADamTYNxgEAAAAAAACgrbXZVuoAAAAAAAAAkAuCcQAAAAAAAACSJhgHAAAAAAAAIGmCcQAAAAAAAACSJhgHAAAAAAAAIGlJBePV1dWZ0zU1NTnsJB0bN27MdQvJWb9+fea0ddp6ddeo45kdH374YUTUf06l5X7729/G/Pnzc91GUv75z39mTvu+b73nn38+ZsyYETU1NY5nlnhNum05pq1njWaf903Z5T1T9nnflH3eN2WX903Z531TdnnflH1ek247jmd2WKPZ531Tdnnf1DKluW4gG/7+97/H5MmTY7vttos+ffrEqaeeGkVFRbluq2Bt2rQpNm3aFDNmzIhddtklTjrppFy3lIRly5bFjTfeGEVFRbHzzjvHxRdfHDvssEOu2ypYtd/322+/feyxxx5xzjnn+L5vhdo3dtOmTYsXXngh7rnnnigpKcl1WwVt2bJlMX78+Hj55Zfjuuuuy3U7SVi2bFlMmjQpqquro7i4OG655Zbo0KFDrtsqWH//+99j0qRJ8etf/zrKy8vja1/7Wq5bKnjLli2LW265JTp37hx77bVXjB492s+mVlq2bFnccccd0bVr19hjjz3i9NNPd0xbwfum7PK+Kfu8Z8o+75uyy/um7PO+Kfu8b8ou75uyz/um7PKeKfu8b8ou75uyz/um1in4ifFnnnkmRowYETvuuGN06dIlpk2bFpdcckmsXbs2160VrOLi4ti0aVPcc8898eyzz0ZVVVWuWyp4P//5z+PUU0+NXXfdNY488sh49tlnY+zYsRHx0Q8Gmuehhx6Kk046KXbaaafo1q1bzJgxI5588slct1XQioqKoqioKJ566qmYN29e/OY3v4kI0w8tdf3118fQoUNjzz33jJdffjmOOuqoXLdU8ObPnx8jR46M3XffPUaMGBE9evSId955x19DttC1114bQ4cOjV69esVpp50Whx56aET4y93W+I//+I84+eSTY4cddoidd9457rrrrnjsscdy3VZBe/zxx+OUU06Jzp07R2lpaUydOjW+853vxAcffJDr1gqS903Z531TdnnPlH3eN2Wf903Z5X1T9nnflF3eN2Wf903Z5T1T9nnflH3eN2WX902tV/AT488++2ycfPLJ8d3vfjciIk477bQYNmxY/OQnP4nTTz89OnfunOMOC9OTTz4ZHTt2jDfffDOeeeaZOOOMM3LdUkF75pln4uyzz46zzjorIiJ69uwZp512Wrz33nvRtWvXHHdXeH71q1/F97///TjppJPib3/7W8ybNy969vx/7d15VNV1/sfxF4uAU5pYpgVkDZYLaugkM2YnMpcyVxyUxlYdzQlt0Wp+lR5EypyacqaT2mT78WjmkJaWLaMmYpaMueCW4YIsGS438FIsl3u/vz8c7iBzUZaP3gs8H+d0jhro9/s83+W++X7v93ZSRUWFAgMb/WHNK1wul5xOp1q1aqWBAwdq3rx5uvnmmxUQECDLsrgrso7Wr1+vhIQE97lp27ZtCg8PV5s2bRQUFOTlpWuc0tLSNGDAACUlJUmSwsLCFBQUJIfDQdM6KCsr0x/+8AeFhIToo48+UkREhFJSUtyPWeQYWn/bt2/XY489prFjx6qgoEB79+5V7969vb1Yjdq6deuUkJCgRx99VJKUkJCg2NhY9e7dW3feeadCQkK8u4CNDHPT+cHcZM7GjRuZmQxjbjKPucks5ibzmJvMKCsr07hx4xQcHMzcZBhzk1nMTOYxN50fzE3mMDc1XKN7x3hRUZH7rjy73a4jR47o0ksvlSQ5HA6FhYXp/vvv14oVK3T48GFvLmqjUVRUJIfD4f79qVOntHDhQiUmJioyMlKbNm3S7t27vbiEjU/Vpnl5edqzZ4+uueYa9x26OTk5uvrqqxmaa6lqzz179qikpEQ33HCDDh8+rMTERO3fv1/Tp0/XxIkTlZ+f7+WlbRyq7/f+/v6yLEtHjx7VbbfdJkn6xz/+IUlsp7VQtadlWRo9erSOHj2qf//734qPj9fMmTM1adIkJSYmqqCgwMtL2zhUPd8XFxfr+++/V1RUlLKysjRixAhNmzZNkydP1oMPPqjjx497eWl9X1FRkcrLyxUcHKxXX31VS5cuVUREhCRpx44d7tdS3Flae1X3+/z8fG3fvl3ff/+9vvjiC91777369ttvNW3aNCUlJdG1lqo2/fHHH7Vt2zZFRkZKkkpLSxUaGqqwsDCtXr1a2dnZXlzSxqHqu0SKioqUk5PD3NRAVZu6XC7Z7Xbmpgao2jMnJ4eZyYCqTTMzM5mbDKi+3zM3NUxxcbF7H6+oqNDvf/975qYGqn6+z8rKYm5qgOLiYrlcLgUHB2v+/PnMTQZU3UZzc3O1Y8cO5qYGqNqzcg5lZmqYn376SdLpn+fZ7XbmJgMqm1ZibmqYqj1zc3O1d+9e5qYGajQXxm02mx555BFNmTJFkyZN0saNG9WqVSuFhIQoMzNTktyf6zRlyhQVFxfr66+/lsSHztekatMHHnhA6enpKi8vV+vWrTVp0iSNGTNGf/zjH3Xy5EmlpaW574pEzao33bhxo8LDwxUXF6eIiAj3wenIkSPq0qWL2rRp490F9nGeekZFRWnx4sUKDw9XUVGRJk6cqIyMDM2ePVtHjhzRkiVL2OfPoqb9Xjp908FVV12l2NhY3X777Vq5cqWysrLO+BqcyVNPPz8/RUZG6ujRo3rppZcUHx+vlStX6plnntHBgwf1zjvvMOydhafz/cUXXyzLsrRjxw5t2rRJY8aM0SeffKI5c+bo0KFDeuONN9hGa1C15+TJk5Wenu6+e7TyvN69e3fZbDZJp2+Swdl5OjeFhYXp1ltv1Y4dO/Twww/rzjvv1Nq1a3Xvvfdq1apVevfddyXxmrQmnpp26NBB7dq10+bNm1VSUqKQkBBlZ2erf//+Kigo0Pbt2yXR1BObzabp06frscce06OPPqoTJ07okksukST3Dx+Ym+qmetOTJ0/K399fwcHBmjx5MnNTHXnaRq+66ioNGTJEHTt2ZGaqB09Ne/bsydzUADXt95K0b98+5qY6qtpz2rRpOnHihAIDA3XllVeqoKCAuakeajrfl5SUaOfOncxNdVTZs/K/kydP6oorrpDT6XQ3Y26qG0/baEREhPr27avMzEzmpjry1DMsLEytWrXS119/zcxUT19++aUGDx4sm80mPz8/tWrVSn5+fsxNDVC1aaWWLVsyN9VT9Z4RERHMTQY0irN4Zmam7rzzTl1yySVKTk5WaGio5s+fryNHjmjixIn64osvtGvXLvn7+8vpdMrPz08JCQlatWqVJO7a9cRT0wULFui7776TJA0fPlySFBkZqX79+ikjI0MZGRneXGSfd7amkyZNct+9V1hYqOXLlysmJsbLS+zbPPV89dVX3TfCOBwORUdHa/To0QoICFCPHj2UmJio9evXs8/XwFPThQsXat++fZJOHytLS0vVunVrDRo0SBUVFRo+fLj27NnDY8I8qGmfz8rKUu/eveV0OnXddddp7NixCgoKUs+ePZWYmKi1a9cyRNegpvP9wYMHdffddys1NVUffvihhg4dqoCAAHXr1k1Tp07Vp59+ymMBPahpn6881wcHB0uSTp48qdLSUkl8Pua51LSNZmVl6ZFHHtHjjz+ucePGafz48Wrbtq1uv/12JSYmasWKFZJ4TepJTcfS7OxszZw5U+vWrdMDDzygJ598UnfffbcGDBiguLg4rVmzRhJNq/v66681atQotWzZUvfff78yMjL06quvSpL+9Kc/6bPPPlNmZiZzUx14alr57tAWLVpo6NChkpibautsPadMmaJrrrlGEjNTXXhq+tprr0k6/UNb5qa6O1tT6XRX5qbaO9t+HxMTI4fDwdxUR2c7348fP17//Oc/mZvqoGrP8ePHn7HPBwQEuJsxN9Xe2bbRJ554Qo899hhzUx2crWdycrLWrl3LzFRP+/btk91u17Jly9x/Vjk3cb2pfjw1DQgIYG6qJ089mZsarlG8wvzqq6/Uo0cPpaSkqFOnTnr++ed16NAhHT58WD179lRsbKzmzJmjkpIS9108LpdLnTp1ktPp5A5TDzw1PXDggPuxDP7+/u5u99xzjyQpPT2dxy6dhaemBw8edD/+q/IO082bNysgIEAJCQmSpA8++EDz589XSUmJ15bdF3nqmZWV5d5GW7Ro4f7aym21tLRUv/71r1VeXs6dex7U1LSwsFCSlJWVpbCwMG3ZskUTJkxQSEiI2rdvr6FDh55xTMBpNR1H8/Ly1LZtWz399NN64okn3C+ipdPHgY4dO6qsrIxt1IOazvf5+fm66aabdMstt6i8vFytWrVyf09QUJDCw8PPeJwYTjvXcbTykdX9+/fX5s2bJf33bmh4VtM2+sMPPygwMFBFRUU6evSopP+e9y3L0tVXXy2Hw8F+70FNr58OHz6s7t27a+HChRo1apTat2+vpUuXqm/fvvr555/VpUsXSTzGsrq1a9dqwIABmjNnjvr27auePXuqe/fuKigoUK9evTR48GA9++yzzE114Klpt27ddPz4cfn5+cnf3999PGVuOjdPPaOiotw9KzEz1d65tlHmprrz1LRr1646duyYpNOPq7ziiiuYm2qppv2+oKBAl19+uWbPnq3p06czN9VB9aY9evRQ9+7ddeLECcXExGjw4MEqLS1lbqqlmvb56udy5qbaq+k16bFjxxQUFKSSkhL3R3owN51bTft8QUGBrr/+er355psaMWIEM1MdVJ5vLMtS//79tXDhQh04cECSFB0drVtuuYXrTXV0tqaVcxPXm2rvbD2l//5Mj7mpfnzywrjdbj/jxfDx48cVGhoqh8Mhh8Mhu93ufqyFJD333HM6cuSI/vKXvygjI0OHDx/WmjVr1KtXLwUEBHCHqWrXtHXr1me0qjxYVd65t2HDBj77oYraNq3cTivvME1LS9Ndd92lgoICjRkzRvPmzVO3bt3UsmVLr62LL6jrNupyuZSUlOR+ekRubq5Wr16t2NhYBQUFceeeat+0UmBgoJYvX66ZM2cqOTlZqamp6tq1q/su1OZ+LK3rNhodHa2MjAytXr1aNptNOTk5ev/993XTTTcpODiYbVS1P9/7+/srKChIiYmJysnJ0dy5c7V161ZlZ2dr0aJFuvHGG3XxxRd7eW28r67baOUPysPDw3XFFVcoLS1NEo8Eq6qux9FOnTrpyy+/1JIlS2S325WXl6cvvvhC/fr1U4sWLdjvVfft9IYbbtCwYcM0bNgwderUSYcPH9a2bdvUp08fSZybqvYsLCyUn5+fbrvtNtntdk2cOFEbNmzQihUr3I9STUlJ0Q8//KC5c+cyN9WgNk1XrlzpfuSvdPp46nQ6mZs8qE9PSdqwYQMzUw3q0rTynXezZs3SK6+8wtxUg7o0/fDDD2VZllJTUzVjxgzmJg/q2rNbt27avn27Vq1axdxUg3M1TUtLc5/v165dq8mTJys/P1/PPfccc5MH9T03hYWFMTfVoC5NP/74Y1199dVKS0tjbqpBbfb5qsfRHj16aOTIkRo6dCgzUw3sdrsqKircv6+82P3NN9/onnvuUWxsrJ577jn3/58zZ45yc3OZm86iNk3nzp17xvdU3gTH3PS/6tqz8md6zE3142f50Fn8l19+0axZs5Sfn6/g4GCNHDlSd9xxh7Zt26aLLrpIPXr0kCRt3bpVKSkpev/99xUSEiI/Pz999dVXWrlypfLy8nTs2DHFx8crMTHRy2vkffVpWnWnsSzL/WIkLS1NsbGxXlkPX9KQpjabTfHx8bLb7XK5XBo/frymTp3qzdXxuob0TE1NVWpqqioqKvTjjz/qnnvu0eTJk725Oj6hrk2XLVumX/3qV9q4caMKCws1YsQI99+Vm5uriIgIb62KT2jINrpy5Uq98soratu2rY4ePapx48ZpypQp3lwdn1DfbVSSPvnkEy1btkxlZWUqLCzUyJEjm33Thp7r8/LyNG3aNN18881KTEzk3Q9q2Db6yiuv6L333lP79u11/Phxzk3/0ZDtdOvWrZo7d64sy1J+fr4mTJjQ7Jt66jlw4ED3D7ttNpt27dql2NhY/fzzz3rxxReVnZ2tv//97/ruu++0fPly5efnMzdVUZ+meXl5+vOf/6xrr72Wuama+vZ84okn1KFDB40aNYqZqZr6NM3JydHzzz+vTZs2admyZcxN1dS16V//+lfZbDb17NlTYWFhGjJkiPvvYm6q/36flJSknTt3at68ecxN1dR3v3/hhRf07bffavHixcxNVdR3G3388cfVuXNn5ebmavr06cxNVTTkfL9+/Xq9++676tChA3PTf9S354wZM1RUVKSUlBRmpmqqNx01apRuvvlmhYaGqri4WDNmzNDUqVPldDo1evRovfjiiyooKFB8fLz27dun5cuXc72pmro2femll3TixAndeOONioyMZG6qpr49+/btq/bt22vkyJHMTfXgMxfGT506palTp6pNmzZ6+umntXjxYmVmZioyMlLJyclnfG1iYqLatGlzxl08lXJzc9WuXTuFhIRcoCX3XQ1tWnmQcrlc3AX1Hw1tWlxcrLi4OMXExOipp55q9nfqmtjvLcvS/v371bFjR+6EkrljaXl5OZ89JjM9T506pQMHDqhLly7uC2fNmaltNC8vT+3atXN/TnZz1dCeTqdTAQEB2rhxo3772982+56SmW3UZrPp0KFD6tatG/u9zDQtLi7Wvn37FBUV1eybeuq5e/duRURE6Nlnn1VFRcX/fMbt3r179eCDD2rp0qUKCwuTdPo4etlllzE3qf5Np0yZosWLFys8PFzSmTcVN2f17ZmYmKglS5bo0ksv1ZAhQ9SvXz89+eSTzX5mkszs9+Xl5crOzlZERARzk+rXdPfu3XrkkUf07rvvuvd7h8NxxuPqm6uG7PdLly7VlVdeKZvNpiNHjqhz587N/lwvmTvf5+fn67LLLmv2r/NNnevT09MVExPT7HtKZvb7Y8eOKTc3V127dm32+72JnoWFhTpw4ABz6H94arpnzx6Fh4fr2WefVVlZmYYPH67Vq1crODhYCQkJ2rlzp+Li4pSSkuI+vzM3/Vd9m44ePVrJycnunzUzN53WkJ6zZ8+Ww+HQ0KFDmZvqw/IR6enp1uDBgy273e7+s7feesv63e9+Z3355ZeWZVmWy+Wyvv/+e6tPnz5Wdna2ZVmW9dlnn1kPPfSQlZmZ6Y3F9mkNbbp7925vLLZPa2jTnTt3WoWFhd5YdJ/Efm9efZt+/vnn1kMPPWTt2rXLG4vtsxqyjU6dOpVt1AP2e7PoaV5D93uOo/+LY6lZZ+u5YcMG958VFxe7f33w4EFr5MiRVk5OzgVd1saiIU1zc3Mv6LI2Bg3t6XQ6LZvNdkGX2dex35tHU7PoaV5Dm7pcrgu6vL6Oc7157Pdm0dO8czX96aefrEmTJlnr1q2zBg0aZMXFxVkxMTHWkiVLLMuyrIqKCm8tus9qaFPOTWdqaE+Hw8HcVE9eeRuwy+VScXGxFi1apIKCAkmn37FUXl6u0tJS99ddfPHFOnXqlN588033XSTbtm1T//79FRISovvuu0+zZ8/WgAED3I9fbK7OR9OoqChvrY5POB9Ne/bsqUsuucRbq+RV7PfmmWyanJysAQMGqHv37t5aHa8zvY0OHDiQbZT93ih6mnc+9vvmfByVOJaaVteeb7zxhizL0vvvv6//+7//04oVK5Sdna1Zs2apd+/ezf4xv5L5ppXvIGuuzkdPf39/hYaGemuVvI793jyamkVP885H0+b8TjzO9eax35tFT/Pq0rSoqEhvv/22iouLtXHjRs2aNUtTpkzRihUr9OCDD2rZsmUqLS1t9h+XcD6acm4y0/O9995TaWmpAgMDm/Xc1BBeuTDu7++vgoICzZs3T1999ZUkKTg4WFdddZXeeecdVVRUqKysTAcOHNCkSZPUokULbdq0SZK0Y8cOffTRRxoyZIiioqK0efNmjRw50hur4VNoah5NzaKneTQ1i57m0dQseppHU/NoalZdewYEBGj37t264YYb1KFDBy1fvlyTJ09WdHS0kpKSvLw2voGmZtHTPJqaR1Oz6GkeTc2ip3k0NYue5tW1aWBgoL755hu9/fbbSk9Pd8+dd911l1atWsVj00VT00z2XL16dbPv2VCB5/6S8yM1NVUXXXSRFixYoBtvvFF9+vRRfn6+XnjhBe3atUv79+/XoEGDlJCQoI8//litW7eWdPozG4cMGaKkpCTuhqiGpubR1Cx6mkdTs+hpHk3Noqd5NDWPpmbVtafL5VJkZKRmzpwpm82m4OBgXXTRRd5eDZ9CU7PoaR5NzaOpWfQ0j6Zm0dM8mppFT/Nq23Ts2LH69NNPde211+r666+XJPdnuFd+rjhOo6lZ9PQhF/bJ7acdOnTIGjZsmLV3716rX79+1pw5c9z/Lycnx9qyZYu1b98+y7Isy+l0WsOGDbO2b99uWZZllZSUeGORfR5NzaOpWfQ0j6Zm0dM8mppFT/Noah5NzapPTz6T/exoahY9zaOpeTQ1i57m0dQseppHU7PoaR5NzaOpWfT0LV55lLrT6dT999+vrl27asaMGXrvvfeUmZkpSYqIiJC/v792796t3NxcjR8/Xh07dlTXrl0liUcE1ICm5tHULHqaR1Oz6GkeTc2ip3k0NY+mZtWn53XXXeflpfZtNDWLnubR1DyamkVP82hqFj3No6lZ9DSPpubR1Cx6+hY/y7KsC/2PVv6Tfn5+kqSxY8fq0ksv1bx589SyZUutWbNGr7/+uhwOh2JiYvisjFqgqXk0NYue5tHULHqaR1Oz6GkeTc2jqVn0NI+mZtHTPJqaR1Oz6GkeTc2ip3k0NYue5tHUPJqaRU8fc8Hem+6Bw+GwLMuy9u/fb3Xr1s3617/+5f5/v/zyi2W32721aI0WTc2jqVn0NI+mZtHTPJqaRU/zaGoeTc2ip3k0NYue5tHUPJqaRU/zaGoWPc2jqVn0NI+m5tHULHr6Bq+8Y7wqp9OpgIAATZ8+XRkZGVq9erVCQ0O9uUiNHk3No6lZ9DSPpmbR0zyamkVP82hqHk3Noqd5NDWLnubR1DyamkVP82hqFj3No6lZ9DSPpubR1Cx6ep/XL4y7XC75+/urtLRUa9as0ejRo725OE0CTc2jqVn0NI+mZtHTPJqaRU/zaGoeTc2ip3k0NYue5tHUPJqaRU/zaGoWPc2jqVn0NI+m5tHULHp6n9cvjEunn69f+Wx9mEFT82hqFj3No6lZ9DSPpmbR0zyamkdTs+hpHk3Noqd5NDWPpmbR0zyamkVP82hqFj3No6l5NDWLnt7lExfGAQAAAAAAAAAAAAA4X/y9vQAAAAAAAAAAAAAAAJxPXBgHAAAAAAAAAAAAADRpXBgHAAAAAAAAAAAAADRpXBgHAAAAAAAAAAAAADRpXBgHAAAAAAAAAAAAADRpXBgHAAAAAAAAAAAAADRpXBgHAAAAAAAAAAAAADRpXBgHAAAAAKAJKisr048//ujtxQAAAAAAwCdwYRwAAAAAgCZo3Lhx2rx5syRpy5Yt6ty5s5eXCAAAAAAA7+HCOAAAAAAATdBPP/3k7UUAAAAAAMBncGEcAAAAAIALJC8vT507d9aHH36o/v37Kzo6Wk899ZS2bt2qESNGqFevXrrvvvtks9nkcrm0aNEiDRw4UL/5zW8UHx+v9PR0999166236rXXXtOoUaPUq1cvjRo1St98840kacKECfrhhx80a9YspaSkuL/nzTff1KBBgxQdHa2HH35YxcXFF7wBAAAAAADewIVxAAAAAAAusLS0NK1Zs0bLly/XRx99pGeeeUavv/661q1bp6NHj2rp0qVasGCBlixZopdffllbtmzRhAkTlJiYqMzMTPff88EHH+jll1/W5s2b1aVLFyUnJ0uS3nrrLV155ZWaPXu2kpKS3F+fn5+vjz/+WJ9//rl27NihJUuWXOhVBwAAAADAK7gwDgAAAADABTZhwgS1bNlS1113ndq1a6e4uDi1b99ebdu2VXR0tPLz8/XBBx/ogQceUFRUlAIDA3XHHXfo1ltvVWpqqvvviY+PV8eOHdWyZUsNHz5c2dnZZ/13H3roIQUHB6t9+/bq06ePcnJyzvOaAgAAAADgG7gwDgAAAADABdamTRv3rwMCAtS6dWv37/39/WVZlk6cOKGIiIgzvi88PFz5+fnu31922WXuXwcGBsqyrLP+u6Ghoe5ft2jRQk6ns76rAAAAAABAo8KFcQAAAAAALjA/P79zfk1YWJhyc3PP+LPc3Fxdfvnl52uxAAAAAABosrgwDgAAAACADxozZowWLVqkPXv2yOl06tNPP9X69esVFxdXq+8PCgqS3W4/z0sJAAAAAEDjEOjtBQAAAAAAAP9r/PjxcrlcmjZtmo4fP66OHTtq3rx5iomJqdX3x8fH629/+5t27dqlMWPGnOelBQAAAADAt/lZ5/oAMgAAAAAAAAAAAAAAGjEepQ4AAAAAAAAAAAAAaNK4MA4AAAAAAAAAAAAAaNK4MA4AAAAAAAAAAAAAaNK4MA4AAAAAAAAAAAAAaNK4MA4AAAAAAAAAAAAAaNK4MA4AAAAAAAAAAAAAaNK4MA4AAAAAAAAAAAAAaNK4MA4AAAAAAAAAAAAAaNK4MA4AAAAAAAAAAAAAaNK4MA4AAAAAAAAAAAAAaNK4MA4AAAAAAAAAAAAAaNL+H0gVd+gz2zWrAAAAAElFTkSuQmCC\n"
     },
     "metadata": {},
     "output_type": "display_data"
    }
   ],
   "source": [
    "from matplotlib.dates import DateFormatter\n",
    "import matplotlib.ticker as ticker\n",
    "import matplotlib.pyplot as plt\n",
    "\n",
    "active_member_df['month'] = pd.to_datetime(active_member_df.month_start)\n",
    "ax = active_member_df.plot.bar(x='month', y='total', figsize=(25,10), title='Total Membership by Month and Year, 1919-1942', color=\"#a6cee3\", width=0.4, linewidth=0)\n",
    "\n",
    "# make most of the ticklabels empty so the labels don't get too crowded\n",
    "ticklabels = active_member_df.month.apply(lambda x: x.strftime('%Y') if x.month == 1 else '')\n",
    "gridline = active_member_df.month.apply(lambda x: 1 if x.month == 1 else 0)\n",
    "\n",
    "\n",
    "ax.xaxis.set_major_formatter(ticker.FixedFormatter(ticklabels))\n",
    "plt.gcf().autofmt_xdate()\n",
    "plt.grid(axis='x', color='0.95', data=(gridline, 0))\n",
    "\n",
    "plt.show()\n"
   ]
  },
  {
   "cell_type": "code",
   "execution_count": 30,
   "metadata": {
    "colab": {
     "base_uri": "https://localhost:8080/",
     "height": 363
    },
    "id": "XWnUbsyVBSrC",
    "outputId": "efd6c90f-4ded-4245-a4b6-6a52f2268d43",
    "ExecuteTime": {
     "end_time": "2024-05-13T08:50:19.434520900Z",
     "start_time": "2024-05-13T08:50:18.964337600Z"
    }
   },
   "outputs": [
    {
     "data": {
      "text/plain": "   month_start  month_end  total      month\n74  1926-01-01 1926-02-01    234 1926-01-01\n73  1925-12-01 1926-01-01    231 1925-12-01\n75  1926-02-01 1926-03-01    221 1926-02-01\n72  1925-11-01 1925-12-01    221 1925-11-01\n50  1924-01-01 1924-02-01    213 1924-01-01\n53  1924-04-01 1924-05-01    212 1924-04-01\n52  1924-03-01 1924-04-01    209 1924-03-01\n76  1926-03-01 1926-04-01    206 1926-03-01\n77  1926-04-01 1926-05-01    206 1926-04-01\n51  1924-02-01 1924-03-01    206 1924-02-01",
      "text/html": "<div>\n<style scoped>\n    .dataframe tbody tr th:only-of-type {\n        vertical-align: middle;\n    }\n\n    .dataframe tbody tr th {\n        vertical-align: top;\n    }\n\n    .dataframe thead th {\n        text-align: right;\n    }\n</style>\n<table border=\"1\" class=\"dataframe\">\n  <thead>\n    <tr style=\"text-align: right;\">\n      <th></th>\n      <th>month_start</th>\n      <th>month_end</th>\n      <th>total</th>\n      <th>month</th>\n    </tr>\n  </thead>\n  <tbody>\n    <tr>\n      <th>74</th>\n      <td>1926-01-01</td>\n      <td>1926-02-01</td>\n      <td>234</td>\n      <td>1926-01-01</td>\n    </tr>\n    <tr>\n      <th>73</th>\n      <td>1925-12-01</td>\n      <td>1926-01-01</td>\n      <td>231</td>\n      <td>1925-12-01</td>\n    </tr>\n    <tr>\n      <th>75</th>\n      <td>1926-02-01</td>\n      <td>1926-03-01</td>\n      <td>221</td>\n      <td>1926-02-01</td>\n    </tr>\n    <tr>\n      <th>72</th>\n      <td>1925-11-01</td>\n      <td>1925-12-01</td>\n      <td>221</td>\n      <td>1925-11-01</td>\n    </tr>\n    <tr>\n      <th>50</th>\n      <td>1924-01-01</td>\n      <td>1924-02-01</td>\n      <td>213</td>\n      <td>1924-01-01</td>\n    </tr>\n    <tr>\n      <th>53</th>\n      <td>1924-04-01</td>\n      <td>1924-05-01</td>\n      <td>212</td>\n      <td>1924-04-01</td>\n    </tr>\n    <tr>\n      <th>52</th>\n      <td>1924-03-01</td>\n      <td>1924-04-01</td>\n      <td>209</td>\n      <td>1924-03-01</td>\n    </tr>\n    <tr>\n      <th>76</th>\n      <td>1926-03-01</td>\n      <td>1926-04-01</td>\n      <td>206</td>\n      <td>1926-03-01</td>\n    </tr>\n    <tr>\n      <th>77</th>\n      <td>1926-04-01</td>\n      <td>1926-05-01</td>\n      <td>206</td>\n      <td>1926-04-01</td>\n    </tr>\n    <tr>\n      <th>51</th>\n      <td>1924-02-01</td>\n      <td>1924-03-01</td>\n      <td>206</td>\n      <td>1924-02-01</td>\n    </tr>\n  </tbody>\n</table>\n</div>"
     },
     "execution_count": 30,
     "metadata": {},
     "output_type": "execute_result"
    }
   ],
   "source": [
    "active_member_df.sort_values('total', ascending=False).head(10)"
   ]
  },
  {
   "cell_type": "markdown",
   "metadata": {
    "id": "mEDBqNwtqtWB"
   },
   "source": [
    "# books\n"
   ]
  },
  {
   "cell_type": "markdown",
   "metadata": {
    "id": "_UPQYFs1zvX8"
   },
   "source": [
    "## totals by format"
   ]
  },
  {
   "cell_type": "code",
   "execution_count": 31,
   "metadata": {
    "colab": {
     "base_uri": "https://localhost:8080/",
     "height": 299
    },
    "id": "pxr5_Le0zxZK",
    "outputId": "b7665e75-1578-4e85-9158-75bb7e58a523",
    "ExecuteTime": {
     "end_time": "2024-05-13T08:50:19.881178100Z",
     "start_time": "2024-05-13T08:50:18.995810500Z"
    }
   },
   "outputs": [
    {
     "data": {
      "text/plain": "<Axes: title={'center': 'Book totals by format'}, ylabel='format'>"
     },
     "execution_count": 31,
     "metadata": {},
     "output_type": "execute_result"
    },
    {
     "data": {
      "text/plain": "<Figure size 640x480 with 1 Axes>",
      "image/png": "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\n"
     },
     "metadata": {},
     "output_type": "display_data"
    }
   ],
   "source": [
    "books_df.value_counts(\"format\").sort_values().plot(kind='barh', title='Book totals by format')"
   ]
  },
  {
   "cell_type": "markdown",
   "metadata": {
    "id": "uFnzOWO1q4zJ"
   },
   "source": [
    "## uncertain"
   ]
  },
  {
   "cell_type": "code",
   "execution_count": 32,
   "metadata": {
    "colab": {
     "base_uri": "https://localhost:8080/"
    },
    "id": "40CoSj-_nTU8",
    "outputId": "85b45adb-3f5a-4656-a763-7aad9f19b8d2",
    "ExecuteTime": {
     "end_time": "2024-05-13T08:50:19.881178100Z",
     "start_time": "2024-05-13T08:50:19.481740800Z"
    }
   },
   "outputs": [
    {
     "name": "stdout",
     "output_type": "stream",
     "text": [
      "6020 total books\n",
      "475 books marked uncertain : 8%\n"
     ]
    }
   ],
   "source": [
    "uncertain_books = books_df[books_df.uncertain]\n",
    "total_books = len(books_df)\n",
    "print('%d total books' % total_books)\n",
    "total_uncertain = len(uncertain_books)\n",
    "print('%d books marked uncertain : %.00f%%' % (total_uncertain, (total_uncertain/total_books)*100))"
   ]
  },
  {
   "cell_type": "markdown",
   "metadata": {
    "id": "Ecdcxgxqr0QS"
   },
   "source": [
    "## unknown circulation years"
   ]
  },
  {
   "cell_type": "code",
   "execution_count": 33,
   "metadata": {
    "colab": {
     "base_uri": "https://localhost:8080/",
     "height": 515
    },
    "id": "63jPsaViq_yk",
    "outputId": "511f0463-09e6-49d8-eb24-c67930c857c1",
    "ExecuteTime": {
     "end_time": "2024-05-13T08:50:19.881178100Z",
     "start_time": "2024-05-13T08:50:19.497362800Z"
    }
   },
   "outputs": [
    {
     "name": "stdout",
     "output_type": "stream",
     "text": [
      "32 books with no circulation years\n",
      "1 max event count / 0 min event count\n"
     ]
    },
    {
     "data": {
      "text/plain": "                                                   uri  \\\n185  https://shakespeareandco.princeton.edu/books/b...   \n225  https://shakespeareandco.princeton.edu/books/w...   \n335  https://shakespeareandco.princeton.edu/books/h...   \n559  https://shakespeareandco.princeton.edu/books/f...   \n611  https://shakespeareandco.princeton.edu/books/a...   \n\n                               title                  author editor  \\\n185                    The Professor       Brontë, Charlotte    NaN   \n225                      The Gipsies         Woodcock, Henry    NaN   \n335             Dr. Breen's Practice   Howells, William Dean    NaN   \n559  Boston Cooking-School Cook Book  Farmer, Fannie Merritt    NaN   \n611  Elizabeth and Her German Garden    Arnim, Elizabeth von    NaN   \n\n    translator introduction illustrator photographer    year format  \\\n185        NaN          NaN         NaN          NaN  1857.0   Book   \n225        NaN          NaN         NaN          NaN  1865.0   Book   \n335        NaN          NaN         NaN          NaN  1881.0   Book   \n559        NaN          NaN         NaN          NaN  1896.0   Book   \n611        NaN          NaN         NaN          NaN  1898.0   Book   \n\n     uncertain                                          ebook_url  \\\n185      False  https://archive.org/details/in.ernet.dli.2015....   \n225      False                                                NaN   \n335      False       https://archive.org/details/cu31924022258697   \n559      False  https://archive.org/details/bostoncookingsc00c...   \n611      False  https://archive.org/details/elizabethandher02e...   \n\n    volumes_issues notes  event_count  borrow_count  purchase_count  \\\n185            NaN   NaN            1             1               0   \n225            NaN   NaN            0             0               0   \n335            NaN   NaN            1             1               0   \n559            NaN   NaN            1             1               0   \n611            NaN   NaN            1             0               0   \n\n    circulation_years                    updated  \n185               NaN  2020-05-25T18:33:58+00:00  \n225               NaN  2020-04-30T19:40:20+00:00  \n335               NaN  2021-05-25T01:07:51+00:00  \n559               NaN  2020-07-17T01:17:29+00:00  \n611               NaN  2020-04-30T19:40:20+00:00  ",
      "text/html": "<div>\n<style scoped>\n    .dataframe tbody tr th:only-of-type {\n        vertical-align: middle;\n    }\n\n    .dataframe tbody tr th {\n        vertical-align: top;\n    }\n\n    .dataframe thead th {\n        text-align: right;\n    }\n</style>\n<table border=\"1\" class=\"dataframe\">\n  <thead>\n    <tr style=\"text-align: right;\">\n      <th></th>\n      <th>uri</th>\n      <th>title</th>\n      <th>author</th>\n      <th>editor</th>\n      <th>translator</th>\n      <th>introduction</th>\n      <th>illustrator</th>\n      <th>photographer</th>\n      <th>year</th>\n      <th>format</th>\n      <th>uncertain</th>\n      <th>ebook_url</th>\n      <th>volumes_issues</th>\n      <th>notes</th>\n      <th>event_count</th>\n      <th>borrow_count</th>\n      <th>purchase_count</th>\n      <th>circulation_years</th>\n      <th>updated</th>\n    </tr>\n  </thead>\n  <tbody>\n    <tr>\n      <th>185</th>\n      <td>https://shakespeareandco.princeton.edu/books/b...</td>\n      <td>The Professor</td>\n      <td>Brontë, Charlotte</td>\n      <td>NaN</td>\n      <td>NaN</td>\n      <td>NaN</td>\n      <td>NaN</td>\n      <td>NaN</td>\n      <td>1857.0</td>\n      <td>Book</td>\n      <td>False</td>\n      <td>https://archive.org/details/in.ernet.dli.2015....</td>\n      <td>NaN</td>\n      <td>NaN</td>\n      <td>1</td>\n      <td>1</td>\n      <td>0</td>\n      <td>NaN</td>\n      <td>2020-05-25T18:33:58+00:00</td>\n    </tr>\n    <tr>\n      <th>225</th>\n      <td>https://shakespeareandco.princeton.edu/books/w...</td>\n      <td>The Gipsies</td>\n      <td>Woodcock, Henry</td>\n      <td>NaN</td>\n      <td>NaN</td>\n      <td>NaN</td>\n      <td>NaN</td>\n      <td>NaN</td>\n      <td>1865.0</td>\n      <td>Book</td>\n      <td>False</td>\n      <td>NaN</td>\n      <td>NaN</td>\n      <td>NaN</td>\n      <td>0</td>\n      <td>0</td>\n      <td>0</td>\n      <td>NaN</td>\n      <td>2020-04-30T19:40:20+00:00</td>\n    </tr>\n    <tr>\n      <th>335</th>\n      <td>https://shakespeareandco.princeton.edu/books/h...</td>\n      <td>Dr. Breen's Practice</td>\n      <td>Howells, William Dean</td>\n      <td>NaN</td>\n      <td>NaN</td>\n      <td>NaN</td>\n      <td>NaN</td>\n      <td>NaN</td>\n      <td>1881.0</td>\n      <td>Book</td>\n      <td>False</td>\n      <td>https://archive.org/details/cu31924022258697</td>\n      <td>NaN</td>\n      <td>NaN</td>\n      <td>1</td>\n      <td>1</td>\n      <td>0</td>\n      <td>NaN</td>\n      <td>2021-05-25T01:07:51+00:00</td>\n    </tr>\n    <tr>\n      <th>559</th>\n      <td>https://shakespeareandco.princeton.edu/books/f...</td>\n      <td>Boston Cooking-School Cook Book</td>\n      <td>Farmer, Fannie Merritt</td>\n      <td>NaN</td>\n      <td>NaN</td>\n      <td>NaN</td>\n      <td>NaN</td>\n      <td>NaN</td>\n      <td>1896.0</td>\n      <td>Book</td>\n      <td>False</td>\n      <td>https://archive.org/details/bostoncookingsc00c...</td>\n      <td>NaN</td>\n      <td>NaN</td>\n      <td>1</td>\n      <td>1</td>\n      <td>0</td>\n      <td>NaN</td>\n      <td>2020-07-17T01:17:29+00:00</td>\n    </tr>\n    <tr>\n      <th>611</th>\n      <td>https://shakespeareandco.princeton.edu/books/a...</td>\n      <td>Elizabeth and Her German Garden</td>\n      <td>Arnim, Elizabeth von</td>\n      <td>NaN</td>\n      <td>NaN</td>\n      <td>NaN</td>\n      <td>NaN</td>\n      <td>NaN</td>\n      <td>1898.0</td>\n      <td>Book</td>\n      <td>False</td>\n      <td>https://archive.org/details/elizabethandher02e...</td>\n      <td>NaN</td>\n      <td>NaN</td>\n      <td>1</td>\n      <td>0</td>\n      <td>0</td>\n      <td>NaN</td>\n      <td>2020-04-30T19:40:20+00:00</td>\n    </tr>\n  </tbody>\n</table>\n</div>"
     },
     "execution_count": 33,
     "metadata": {},
     "output_type": "execute_result"
    }
   ],
   "source": [
    " no_circ_years = books_df[books_df['circulation_years'].isnull()]\n",
    "print('%d books with no circulation years' % len(no_circ_years))\n",
    "print('%d max event count / %d min event count' % (max(no_circ_years.event_count), min(no_circ_years.event_count)))\n",
    "no_circ_years.head()"
   ]
  },
  {
   "cell_type": "markdown",
   "metadata": {
    "id": "XDzV2Jexy1Zy"
   },
   "source": [
    "### check books with unknown circulation years"
   ]
  },
  {
   "cell_type": "code",
   "execution_count": 34,
   "metadata": {
    "colab": {
     "base_uri": "https://localhost:8080/",
     "height": 363
    },
    "id": "xyeUN7UayX6G",
    "outputId": "a7b6b627-17a1-4141-b59a-3f05aa88bcd3",
    "ExecuteTime": {
     "end_time": "2024-05-13T08:50:19.881178100Z",
     "start_time": "2024-05-13T08:50:19.582331700Z"
    }
   },
   "outputs": [
    {
     "data": {
      "text/plain": "  start_date start_year    end_date end_year\n0       1920       1920         NaN     None\n1       1921       1921         NaN     None\n2       1922       1922  1922-08-23     1922\n3       1922       1922         NaN     None\n4       1922       1922         NaN     None\n5       1923       1923         NaN     None\n6       1923       1923        1923     1923\n7       1923       1923         NaN     None\n8       1923       1923  1923-11-07     1923\n9       1923       1923         NaN     None",
      "text/html": "<div>\n<style scoped>\n    .dataframe tbody tr th:only-of-type {\n        vertical-align: middle;\n    }\n\n    .dataframe tbody tr th {\n        vertical-align: top;\n    }\n\n    .dataframe thead th {\n        text-align: right;\n    }\n</style>\n<table border=\"1\" class=\"dataframe\">\n  <thead>\n    <tr style=\"text-align: right;\">\n      <th></th>\n      <th>start_date</th>\n      <th>start_year</th>\n      <th>end_date</th>\n      <th>end_year</th>\n    </tr>\n  </thead>\n  <tbody>\n    <tr>\n      <th>0</th>\n      <td>1920</td>\n      <td>1920</td>\n      <td>NaN</td>\n      <td>None</td>\n    </tr>\n    <tr>\n      <th>1</th>\n      <td>1921</td>\n      <td>1921</td>\n      <td>NaN</td>\n      <td>None</td>\n    </tr>\n    <tr>\n      <th>2</th>\n      <td>1922</td>\n      <td>1922</td>\n      <td>1922-08-23</td>\n      <td>1922</td>\n    </tr>\n    <tr>\n      <th>3</th>\n      <td>1922</td>\n      <td>1922</td>\n      <td>NaN</td>\n      <td>None</td>\n    </tr>\n    <tr>\n      <th>4</th>\n      <td>1922</td>\n      <td>1922</td>\n      <td>NaN</td>\n      <td>None</td>\n    </tr>\n    <tr>\n      <th>5</th>\n      <td>1923</td>\n      <td>1923</td>\n      <td>NaN</td>\n      <td>None</td>\n    </tr>\n    <tr>\n      <th>6</th>\n      <td>1923</td>\n      <td>1923</td>\n      <td>1923</td>\n      <td>1923</td>\n    </tr>\n    <tr>\n      <th>7</th>\n      <td>1923</td>\n      <td>1923</td>\n      <td>NaN</td>\n      <td>None</td>\n    </tr>\n    <tr>\n      <th>8</th>\n      <td>1923</td>\n      <td>1923</td>\n      <td>1923-11-07</td>\n      <td>1923</td>\n    </tr>\n    <tr>\n      <th>9</th>\n      <td>1923</td>\n      <td>1923</td>\n      <td>NaN</td>\n      <td>None</td>\n    </tr>\n  </tbody>\n</table>\n</div>"
     },
     "execution_count": 34,
     "metadata": {},
     "output_type": "execute_result"
    }
   ],
   "source": [
    "# check books with unknown circulation years a different way\n",
    "# get year for start / end date\n",
    "events_df['start_year'] = events_df.start_date.apply(lambda x: x.split('-')[0] if  pd.notna(x) else None)\n",
    "events_df['end_year'] = events_df.end_date.apply(lambda x: x.split('-')[0] if  pd.notna(x) else None)\n",
    "events_df[['start_date', 'start_year', 'end_date', 'end_year']].head(10)"
   ]
  },
  {
   "cell_type": "code",
   "execution_count": 35,
   "metadata": {
    "colab": {
     "base_uri": "https://localhost:8080/",
     "height": 363
    },
    "id": "vfhVQtbuy4JZ",
    "outputId": "13624c96-997d-4341-a89a-47d276637fec",
    "ExecuteTime": {
     "end_time": "2024-05-13T08:50:20.626251700Z",
     "start_time": "2024-05-13T08:50:19.787075900Z"
    }
   },
   "outputs": [
    {
     "data": {
      "text/plain": "  start_date start_year    end_date end_year  year\n0       1920       1920         NaN     None  1920\n1       1921       1921         NaN     None  1921\n2       1922       1922  1922-08-23     1922  1922\n3       1922       1922         NaN     None  1922\n4       1922       1922         NaN     None  1922\n5       1923       1923         NaN     None  1923\n6       1923       1923        1923     1923  1923\n7       1923       1923         NaN     None  1923\n8       1923       1923  1923-11-07     1923  1923\n9       1923       1923         NaN     None  1923",
      "text/html": "<div>\n<style scoped>\n    .dataframe tbody tr th:only-of-type {\n        vertical-align: middle;\n    }\n\n    .dataframe tbody tr th {\n        vertical-align: top;\n    }\n\n    .dataframe thead th {\n        text-align: right;\n    }\n</style>\n<table border=\"1\" class=\"dataframe\">\n  <thead>\n    <tr style=\"text-align: right;\">\n      <th></th>\n      <th>start_date</th>\n      <th>start_year</th>\n      <th>end_date</th>\n      <th>end_year</th>\n      <th>year</th>\n    </tr>\n  </thead>\n  <tbody>\n    <tr>\n      <th>0</th>\n      <td>1920</td>\n      <td>1920</td>\n      <td>NaN</td>\n      <td>None</td>\n      <td>1920</td>\n    </tr>\n    <tr>\n      <th>1</th>\n      <td>1921</td>\n      <td>1921</td>\n      <td>NaN</td>\n      <td>None</td>\n      <td>1921</td>\n    </tr>\n    <tr>\n      <th>2</th>\n      <td>1922</td>\n      <td>1922</td>\n      <td>1922-08-23</td>\n      <td>1922</td>\n      <td>1922</td>\n    </tr>\n    <tr>\n      <th>3</th>\n      <td>1922</td>\n      <td>1922</td>\n      <td>NaN</td>\n      <td>None</td>\n      <td>1922</td>\n    </tr>\n    <tr>\n      <th>4</th>\n      <td>1922</td>\n      <td>1922</td>\n      <td>NaN</td>\n      <td>None</td>\n      <td>1922</td>\n    </tr>\n    <tr>\n      <th>5</th>\n      <td>1923</td>\n      <td>1923</td>\n      <td>NaN</td>\n      <td>None</td>\n      <td>1923</td>\n    </tr>\n    <tr>\n      <th>6</th>\n      <td>1923</td>\n      <td>1923</td>\n      <td>1923</td>\n      <td>1923</td>\n      <td>1923</td>\n    </tr>\n    <tr>\n      <th>7</th>\n      <td>1923</td>\n      <td>1923</td>\n      <td>NaN</td>\n      <td>None</td>\n      <td>1923</td>\n    </tr>\n    <tr>\n      <th>8</th>\n      <td>1923</td>\n      <td>1923</td>\n      <td>1923-11-07</td>\n      <td>1923</td>\n      <td>1923</td>\n    </tr>\n    <tr>\n      <th>9</th>\n      <td>1923</td>\n      <td>1923</td>\n      <td>NaN</td>\n      <td>None</td>\n      <td>1923</td>\n    </tr>\n  </tbody>\n</table>\n</div>"
     },
     "execution_count": 35,
     "metadata": {},
     "output_type": "execute_result"
    }
   ],
   "source": [
    "# get year from one or the other\n",
    "events_df['year'] = events_df.apply(lambda row: row.start_year or row.end_year, axis=1)\n",
    "events_df[['start_date', 'start_year', 'end_date', 'end_year', 'year']].head(10)"
   ]
  },
  {
   "cell_type": "code",
   "execution_count": 36,
   "metadata": {
    "colab": {
     "base_uri": "https://localhost:8080/",
     "height": 363
    },
    "id": "OsClLexwzHQA",
    "outputId": "54149299-c198-42bf-f5d8-1d5b37595a6f",
    "ExecuteTime": {
     "end_time": "2024-05-13T08:50:20.626251700Z",
     "start_time": "2024-05-13T08:50:20.562753400Z"
    }
   },
   "outputs": [
    {
     "data": {
      "text/plain": "     start_date start_year    end_date end_year  year\n534         NaN       None     1935-12     1935  1935\n573         NaN       None     1944-06     1944  1944\n616         NaN       None     --02-01               \n1419        NaN       None  1921-05-19     1921  1921\n2196        NaN       None  1922-06-13     1922  1922\n2604        NaN       None  1922-12-15     1922  1922\n3905        NaN       None  1924-03-22     1924  1924\n8109        NaN       None  1927-07-04     1927  1927\n8319        NaN       None  1927-09-23     1927  1927\n8436        NaN       None  1927-10-29     1927  1927",
      "text/html": "<div>\n<style scoped>\n    .dataframe tbody tr th:only-of-type {\n        vertical-align: middle;\n    }\n\n    .dataframe tbody tr th {\n        vertical-align: top;\n    }\n\n    .dataframe thead th {\n        text-align: right;\n    }\n</style>\n<table border=\"1\" class=\"dataframe\">\n  <thead>\n    <tr style=\"text-align: right;\">\n      <th></th>\n      <th>start_date</th>\n      <th>start_year</th>\n      <th>end_date</th>\n      <th>end_year</th>\n      <th>year</th>\n    </tr>\n  </thead>\n  <tbody>\n    <tr>\n      <th>534</th>\n      <td>NaN</td>\n      <td>None</td>\n      <td>1935-12</td>\n      <td>1935</td>\n      <td>1935</td>\n    </tr>\n    <tr>\n      <th>573</th>\n      <td>NaN</td>\n      <td>None</td>\n      <td>1944-06</td>\n      <td>1944</td>\n      <td>1944</td>\n    </tr>\n    <tr>\n      <th>616</th>\n      <td>NaN</td>\n      <td>None</td>\n      <td>--02-01</td>\n      <td></td>\n      <td></td>\n    </tr>\n    <tr>\n      <th>1419</th>\n      <td>NaN</td>\n      <td>None</td>\n      <td>1921-05-19</td>\n      <td>1921</td>\n      <td>1921</td>\n    </tr>\n    <tr>\n      <th>2196</th>\n      <td>NaN</td>\n      <td>None</td>\n      <td>1922-06-13</td>\n      <td>1922</td>\n      <td>1922</td>\n    </tr>\n    <tr>\n      <th>2604</th>\n      <td>NaN</td>\n      <td>None</td>\n      <td>1922-12-15</td>\n      <td>1922</td>\n      <td>1922</td>\n    </tr>\n    <tr>\n      <th>3905</th>\n      <td>NaN</td>\n      <td>None</td>\n      <td>1924-03-22</td>\n      <td>1924</td>\n      <td>1924</td>\n    </tr>\n    <tr>\n      <th>8109</th>\n      <td>NaN</td>\n      <td>None</td>\n      <td>1927-07-04</td>\n      <td>1927</td>\n      <td>1927</td>\n    </tr>\n    <tr>\n      <th>8319</th>\n      <td>NaN</td>\n      <td>None</td>\n      <td>1927-09-23</td>\n      <td>1927</td>\n      <td>1927</td>\n    </tr>\n    <tr>\n      <th>8436</th>\n      <td>NaN</td>\n      <td>None</td>\n      <td>1927-10-29</td>\n      <td>1927</td>\n      <td>1927</td>\n    </tr>\n  </tbody>\n</table>\n</div>"
     },
     "execution_count": 36,
     "metadata": {},
     "output_type": "execute_result"
    }
   ],
   "source": [
    "# confirm logic works for missing start date\n",
    "events_df[['start_date', 'start_year', 'end_date', 'end_year', 'year']][events_df.start_date.isna()].head(10)"
   ]
  },
  {
   "cell_type": "code",
   "execution_count": 37,
   "metadata": {
    "colab": {
     "base_uri": "https://localhost:8080/",
     "height": 974
    },
    "id": "Wi1-_YYf0nv3",
    "outputId": "12f6345e-9c01-4639-8174-5617653d5ca8",
    "ExecuteTime": {
     "end_time": "2024-05-13T08:50:20.856896200Z",
     "start_time": "2024-05-13T08:50:20.593567100Z"
    }
   },
   "outputs": [
    {
     "data": {
      "text/plain": "          event_type start_date end_date  \\\n613           Borrow    --01-27      NaN   \n618      Crossed out    --02-10      NaN   \n621          Generic    --02-28      NaN   \n622          Generic    --02-28      NaN   \n623          Generic    --02-28      NaN   \n...              ...        ...      ...   \n35518  Reimbursement        NaN      NaN   \n35519        Generic        NaN      NaN   \n35520  Reimbursement        NaN      NaN   \n35521        Generic        NaN      NaN   \n35522  Reimbursement        NaN      NaN   \n\n                                             member_uris  \\\n613    https://shakespeareandco.princeton.edu/members...   \n618    https://shakespeareandco.princeton.edu/members...   \n621    https://shakespeareandco.princeton.edu/members...   \n622    https://shakespeareandco.princeton.edu/members...   \n623    https://shakespeareandco.princeton.edu/members...   \n...                                                  ...   \n35518  https://shakespeareandco.princeton.edu/members...   \n35519  https://shakespeareandco.princeton.edu/members...   \n35520  https://shakespeareandco.princeton.edu/members...   \n35521  https://shakespeareandco.princeton.edu/members...   \n35522  https://shakespeareandco.princeton.edu/members...   \n\n               member_names      member_sort_names  subscription_price_paid  \\\n613    Juan Ramón Masoliver  Masoliver, Juan Ramón                      NaN   \n618              Mr. Morgan            Morgan, Mr.                      NaN   \n621            Pierre Denis          Denis, Pierre                      NaN   \n622            Pierre Denis          Denis, Pierre                      NaN   \n623            Pierre Denis          Denis, Pierre                      NaN   \n...                     ...                    ...                      ...   \n35518         Henri Gutmann         Gutmann, Henri                      NaN   \n35519   Antoinette Bernheim   Bernheim, Antoinette                      NaN   \n35520           Mr. Baldwin           Baldwin, Mr.                      NaN   \n35521   Antoinette Bernheim   Bernheim, Antoinette                      NaN   \n35522          M. A. Davies          Davies, M. A.                      NaN   \n\n       subscription_deposit subscription_duration  subscription_duration_days  \\\n613                     NaN                   NaN                         NaN   \n618                     NaN                   NaN                         NaN   \n621                     NaN                   NaN                         NaN   \n622                     NaN                   NaN                         NaN   \n623                     NaN                   NaN                         NaN   \n...                     ...                   ...                         ...   \n35518                   NaN                   NaN                         NaN   \n35519                   NaN                   NaN                         NaN   \n35520                   NaN                   NaN                         NaN   \n35521                   NaN                   NaN                         NaN   \n35522                   NaN                   NaN                         NaN   \n\n       ...            item_authors item_year  \\\n613    ...            Joyce, James       NaN   \n618    ...        Galsworthy, John    1933.0   \n621    ...            Eliot, T. S.    1920.0   \n622    ...                     NaN       NaN   \n623    ...               Euripides    1937.0   \n...    ...                     ...       ...   \n35518  ...                     NaN       NaN   \n35519  ...  Isherwood, Christopher    1938.0   \n35520  ...                     NaN       NaN   \n35521  ...          Forster, E. M.    1907.0   \n35522  ...                     NaN       NaN   \n\n                                              item_notes  \\\n613    Unidentified edition. Early versions of Joyce'...   \n618                                                  NaN   \n621                                                  NaN   \n622                                        Unidentified.   \n623                                                  NaN   \n...                                                  ...   \n35518                                                NaN   \n35519                                                NaN   \n35520                                                NaN   \n35521                                                NaN   \n35522                                                NaN   \n\n                source_type  \\\n613    Lending Library Card   \n618    Lending Library Card   \n621    Lending Library Card   \n622    Lending Library Card   \n623    Lending Library Card   \n...                     ...   \n35518          Address Book   \n35519  Lending Library Card   \n35520          Address Book   \n35521  Lending Library Card   \n35522          Address Book   \n\n                                         source_citation  \\\n613    Sylvia Beach, Juan Ramón Masoliver Lending Lib...   \n618    Sylvia Beach, Mr Morgan Lending Library Card, ...   \n621    Sylvia Beach, Pierre Denis Lending Library Car...   \n622    Sylvia Beach, Pierre Denis Lending Library Car...   \n623    Sylvia Beach, Pierre Denis Lending Library Car...   \n...                                                  ...   \n35518  Sylvia Beach, Address Book 1919–1935, box 69, ...   \n35519  Sylvia Beach, Antoinette Bernheim Lending Libr...   \n35520  Sylvia Beach, Address Book 1919–1935, box 69, ...   \n35521  Sylvia Beach, Antoinette Bernheim Lending Libr...   \n35522  Sylvia Beach, Address Book 1919–1935, box 69, ...   \n\n                                         source_manifest  \\\n613    https://figgy.princeton.edu/concern/scanned_re...   \n618    https://figgy.princeton.edu/concern/scanned_re...   \n621    https://figgy.princeton.edu/concern/scanned_re...   \n622    https://figgy.princeton.edu/concern/scanned_re...   \n623    https://figgy.princeton.edu/concern/scanned_re...   \n...                                                  ...   \n35518                                                NaN   \n35519  https://figgy.princeton.edu/concern/scanned_re...   \n35520                                                NaN   \n35521  https://figgy.princeton.edu/concern/scanned_re...   \n35522                                                NaN   \n\n                                            source_image start_year end_year  \\\n613    https://iiif.princeton.edu/loris/figgy_prod/61...                None   \n618    https://iiif-cloud.princeton.edu/iiif/2/cc%2Ff...                None   \n621    https://iiif.princeton.edu/loris/figgy_prod/b2...                None   \n622    https://iiif.princeton.edu/loris/figgy_prod/b2...                None   \n623    https://iiif.princeton.edu/loris/figgy_prod/b2...                None   \n...                                                  ...        ...      ...   \n35518                                                NaN       None     None   \n35519  https://iiif-cloud.princeton.edu/iiif/2/eb%2F7...       None     None   \n35520                                                NaN       None     None   \n35521  https://iiif-cloud.princeton.edu/iiif/2/eb%2F7...       None     None   \n35522                                                NaN       None     None   \n\n       year  \n613    None  \n618    None  \n621    None  \n622    None  \n623    None  \n...     ...  \n35518  None  \n35519  None  \n35520  None  \n35521  None  \n35522  None  \n\n[410 rows x 31 columns]",
      "text/html": "<div>\n<style scoped>\n    .dataframe tbody tr th:only-of-type {\n        vertical-align: middle;\n    }\n\n    .dataframe tbody tr th {\n        vertical-align: top;\n    }\n\n    .dataframe thead th {\n        text-align: right;\n    }\n</style>\n<table border=\"1\" class=\"dataframe\">\n  <thead>\n    <tr style=\"text-align: right;\">\n      <th></th>\n      <th>event_type</th>\n      <th>start_date</th>\n      <th>end_date</th>\n      <th>member_uris</th>\n      <th>member_names</th>\n      <th>member_sort_names</th>\n      <th>subscription_price_paid</th>\n      <th>subscription_deposit</th>\n      <th>subscription_duration</th>\n      <th>subscription_duration_days</th>\n      <th>...</th>\n      <th>item_authors</th>\n      <th>item_year</th>\n      <th>item_notes</th>\n      <th>source_type</th>\n      <th>source_citation</th>\n      <th>source_manifest</th>\n      <th>source_image</th>\n      <th>start_year</th>\n      <th>end_year</th>\n      <th>year</th>\n    </tr>\n  </thead>\n  <tbody>\n    <tr>\n      <th>613</th>\n      <td>Borrow</td>\n      <td>--01-27</td>\n      <td>NaN</td>\n      <td>https://shakespeareandco.princeton.edu/members...</td>\n      <td>Juan Ramón Masoliver</td>\n      <td>Masoliver, Juan Ramón</td>\n      <td>NaN</td>\n      <td>NaN</td>\n      <td>NaN</td>\n      <td>NaN</td>\n      <td>...</td>\n      <td>Joyce, James</td>\n      <td>NaN</td>\n      <td>Unidentified edition. Early versions of Joyce'...</td>\n      <td>Lending Library Card</td>\n      <td>Sylvia Beach, Juan Ramón Masoliver Lending Lib...</td>\n      <td>https://figgy.princeton.edu/concern/scanned_re...</td>\n      <td>https://iiif.princeton.edu/loris/figgy_prod/61...</td>\n      <td></td>\n      <td>None</td>\n      <td>None</td>\n    </tr>\n    <tr>\n      <th>618</th>\n      <td>Crossed out</td>\n      <td>--02-10</td>\n      <td>NaN</td>\n      <td>https://shakespeareandco.princeton.edu/members...</td>\n      <td>Mr. Morgan</td>\n      <td>Morgan, Mr.</td>\n      <td>NaN</td>\n      <td>NaN</td>\n      <td>NaN</td>\n      <td>NaN</td>\n      <td>...</td>\n      <td>Galsworthy, John</td>\n      <td>1933.0</td>\n      <td>NaN</td>\n      <td>Lending Library Card</td>\n      <td>Sylvia Beach, Mr Morgan Lending Library Card, ...</td>\n      <td>https://figgy.princeton.edu/concern/scanned_re...</td>\n      <td>https://iiif-cloud.princeton.edu/iiif/2/cc%2Ff...</td>\n      <td></td>\n      <td>None</td>\n      <td>None</td>\n    </tr>\n    <tr>\n      <th>621</th>\n      <td>Generic</td>\n      <td>--02-28</td>\n      <td>NaN</td>\n      <td>https://shakespeareandco.princeton.edu/members...</td>\n      <td>Pierre Denis</td>\n      <td>Denis, Pierre</td>\n      <td>NaN</td>\n      <td>NaN</td>\n      <td>NaN</td>\n      <td>NaN</td>\n      <td>...</td>\n      <td>Eliot, T. S.</td>\n      <td>1920.0</td>\n      <td>NaN</td>\n      <td>Lending Library Card</td>\n      <td>Sylvia Beach, Pierre Denis Lending Library Car...</td>\n      <td>https://figgy.princeton.edu/concern/scanned_re...</td>\n      <td>https://iiif.princeton.edu/loris/figgy_prod/b2...</td>\n      <td></td>\n      <td>None</td>\n      <td>None</td>\n    </tr>\n    <tr>\n      <th>622</th>\n      <td>Generic</td>\n      <td>--02-28</td>\n      <td>NaN</td>\n      <td>https://shakespeareandco.princeton.edu/members...</td>\n      <td>Pierre Denis</td>\n      <td>Denis, Pierre</td>\n      <td>NaN</td>\n      <td>NaN</td>\n      <td>NaN</td>\n      <td>NaN</td>\n      <td>...</td>\n      <td>NaN</td>\n      <td>NaN</td>\n      <td>Unidentified.</td>\n      <td>Lending Library Card</td>\n      <td>Sylvia Beach, Pierre Denis Lending Library Car...</td>\n      <td>https://figgy.princeton.edu/concern/scanned_re...</td>\n      <td>https://iiif.princeton.edu/loris/figgy_prod/b2...</td>\n      <td></td>\n      <td>None</td>\n      <td>None</td>\n    </tr>\n    <tr>\n      <th>623</th>\n      <td>Generic</td>\n      <td>--02-28</td>\n      <td>NaN</td>\n      <td>https://shakespeareandco.princeton.edu/members...</td>\n      <td>Pierre Denis</td>\n      <td>Denis, Pierre</td>\n      <td>NaN</td>\n      <td>NaN</td>\n      <td>NaN</td>\n      <td>NaN</td>\n      <td>...</td>\n      <td>Euripides</td>\n      <td>1937.0</td>\n      <td>NaN</td>\n      <td>Lending Library Card</td>\n      <td>Sylvia Beach, Pierre Denis Lending Library Car...</td>\n      <td>https://figgy.princeton.edu/concern/scanned_re...</td>\n      <td>https://iiif.princeton.edu/loris/figgy_prod/b2...</td>\n      <td></td>\n      <td>None</td>\n      <td>None</td>\n    </tr>\n    <tr>\n      <th>...</th>\n      <td>...</td>\n      <td>...</td>\n      <td>...</td>\n      <td>...</td>\n      <td>...</td>\n      <td>...</td>\n      <td>...</td>\n      <td>...</td>\n      <td>...</td>\n      <td>...</td>\n      <td>...</td>\n      <td>...</td>\n      <td>...</td>\n      <td>...</td>\n      <td>...</td>\n      <td>...</td>\n      <td>...</td>\n      <td>...</td>\n      <td>...</td>\n      <td>...</td>\n      <td>...</td>\n    </tr>\n    <tr>\n      <th>35518</th>\n      <td>Reimbursement</td>\n      <td>NaN</td>\n      <td>NaN</td>\n      <td>https://shakespeareandco.princeton.edu/members...</td>\n      <td>Henri Gutmann</td>\n      <td>Gutmann, Henri</td>\n      <td>NaN</td>\n      <td>NaN</td>\n      <td>NaN</td>\n      <td>NaN</td>\n      <td>...</td>\n      <td>NaN</td>\n      <td>NaN</td>\n      <td>NaN</td>\n      <td>Address Book</td>\n      <td>Sylvia Beach, Address Book 1919–1935, box 69, ...</td>\n      <td>NaN</td>\n      <td>NaN</td>\n      <td>None</td>\n      <td>None</td>\n      <td>None</td>\n    </tr>\n    <tr>\n      <th>35519</th>\n      <td>Generic</td>\n      <td>NaN</td>\n      <td>NaN</td>\n      <td>https://shakespeareandco.princeton.edu/members...</td>\n      <td>Antoinette Bernheim</td>\n      <td>Bernheim, Antoinette</td>\n      <td>NaN</td>\n      <td>NaN</td>\n      <td>NaN</td>\n      <td>NaN</td>\n      <td>...</td>\n      <td>Isherwood, Christopher</td>\n      <td>1938.0</td>\n      <td>NaN</td>\n      <td>Lending Library Card</td>\n      <td>Sylvia Beach, Antoinette Bernheim Lending Libr...</td>\n      <td>https://figgy.princeton.edu/concern/scanned_re...</td>\n      <td>https://iiif-cloud.princeton.edu/iiif/2/eb%2F7...</td>\n      <td>None</td>\n      <td>None</td>\n      <td>None</td>\n    </tr>\n    <tr>\n      <th>35520</th>\n      <td>Reimbursement</td>\n      <td>NaN</td>\n      <td>NaN</td>\n      <td>https://shakespeareandco.princeton.edu/members...</td>\n      <td>Mr. Baldwin</td>\n      <td>Baldwin, Mr.</td>\n      <td>NaN</td>\n      <td>NaN</td>\n      <td>NaN</td>\n      <td>NaN</td>\n      <td>...</td>\n      <td>NaN</td>\n      <td>NaN</td>\n      <td>NaN</td>\n      <td>Address Book</td>\n      <td>Sylvia Beach, Address Book 1919–1935, box 69, ...</td>\n      <td>NaN</td>\n      <td>NaN</td>\n      <td>None</td>\n      <td>None</td>\n      <td>None</td>\n    </tr>\n    <tr>\n      <th>35521</th>\n      <td>Generic</td>\n      <td>NaN</td>\n      <td>NaN</td>\n      <td>https://shakespeareandco.princeton.edu/members...</td>\n      <td>Antoinette Bernheim</td>\n      <td>Bernheim, Antoinette</td>\n      <td>NaN</td>\n      <td>NaN</td>\n      <td>NaN</td>\n      <td>NaN</td>\n      <td>...</td>\n      <td>Forster, E. M.</td>\n      <td>1907.0</td>\n      <td>NaN</td>\n      <td>Lending Library Card</td>\n      <td>Sylvia Beach, Antoinette Bernheim Lending Libr...</td>\n      <td>https://figgy.princeton.edu/concern/scanned_re...</td>\n      <td>https://iiif-cloud.princeton.edu/iiif/2/eb%2F7...</td>\n      <td>None</td>\n      <td>None</td>\n      <td>None</td>\n    </tr>\n    <tr>\n      <th>35522</th>\n      <td>Reimbursement</td>\n      <td>NaN</td>\n      <td>NaN</td>\n      <td>https://shakespeareandco.princeton.edu/members...</td>\n      <td>M. A. Davies</td>\n      <td>Davies, M. A.</td>\n      <td>NaN</td>\n      <td>NaN</td>\n      <td>NaN</td>\n      <td>NaN</td>\n      <td>...</td>\n      <td>NaN</td>\n      <td>NaN</td>\n      <td>NaN</td>\n      <td>Address Book</td>\n      <td>Sylvia Beach, Address Book 1919–1935, box 69, ...</td>\n      <td>NaN</td>\n      <td>NaN</td>\n      <td>None</td>\n      <td>None</td>\n      <td>None</td>\n    </tr>\n  </tbody>\n</table>\n<p>410 rows × 31 columns</p>\n</div>"
     },
     "execution_count": 37,
     "metadata": {},
     "output_type": "execute_result"
    }
   ],
   "source": [
    "# how many events with no year?\n",
    "events_df[events_df.year.isna()]"
   ]
  },
  {
   "cell_type": "code",
   "execution_count": 38,
   "metadata": {
    "colab": {
     "base_uri": "https://localhost:8080/",
     "height": 424
    },
    "id": "8ICq4M8RzOjZ",
    "outputId": "8e8cbcab-7dba-4544-ffa7-7ce1efb25ad5",
    "ExecuteTime": {
     "end_time": "2024-05-13T08:50:20.861778500Z",
     "start_time": "2024-05-13T08:50:20.686941500Z"
    }
   },
   "outputs": [
    {
     "data": {
      "text/plain": "                                               item_uri  has_year\n0     https://shakespeareandco.princeton.edu/books/1...         1\n1     https://shakespeareandco.princeton.edu/books/1...         2\n2     https://shakespeareandco.princeton.edu/books/a...         4\n3     https://shakespeareandco.princeton.edu/books/a...         6\n4     https://shakespeareandco.princeton.edu/books/a...         7\n...                                                 ...       ...\n6014  https://shakespeareandco.princeton.edu/books/z...         1\n6015  https://shakespeareandco.princeton.edu/books/z...         5\n6016  https://shakespeareandco.princeton.edu/books/z...         1\n6017  https://shakespeareandco.princeton.edu/books/z...         4\n6018  https://shakespeareandco.princeton.edu/books/z...         2\n\n[6019 rows x 2 columns]",
      "text/html": "<div>\n<style scoped>\n    .dataframe tbody tr th:only-of-type {\n        vertical-align: middle;\n    }\n\n    .dataframe tbody tr th {\n        vertical-align: top;\n    }\n\n    .dataframe thead th {\n        text-align: right;\n    }\n</style>\n<table border=\"1\" class=\"dataframe\">\n  <thead>\n    <tr style=\"text-align: right;\">\n      <th></th>\n      <th>item_uri</th>\n      <th>has_year</th>\n    </tr>\n  </thead>\n  <tbody>\n    <tr>\n      <th>0</th>\n      <td>https://shakespeareandco.princeton.edu/books/1...</td>\n      <td>1</td>\n    </tr>\n    <tr>\n      <th>1</th>\n      <td>https://shakespeareandco.princeton.edu/books/1...</td>\n      <td>2</td>\n    </tr>\n    <tr>\n      <th>2</th>\n      <td>https://shakespeareandco.princeton.edu/books/a...</td>\n      <td>4</td>\n    </tr>\n    <tr>\n      <th>3</th>\n      <td>https://shakespeareandco.princeton.edu/books/a...</td>\n      <td>6</td>\n    </tr>\n    <tr>\n      <th>4</th>\n      <td>https://shakespeareandco.princeton.edu/books/a...</td>\n      <td>7</td>\n    </tr>\n    <tr>\n      <th>...</th>\n      <td>...</td>\n      <td>...</td>\n    </tr>\n    <tr>\n      <th>6014</th>\n      <td>https://shakespeareandco.princeton.edu/books/z...</td>\n      <td>1</td>\n    </tr>\n    <tr>\n      <th>6015</th>\n      <td>https://shakespeareandco.princeton.edu/books/z...</td>\n      <td>5</td>\n    </tr>\n    <tr>\n      <th>6016</th>\n      <td>https://shakespeareandco.princeton.edu/books/z...</td>\n      <td>1</td>\n    </tr>\n    <tr>\n      <th>6017</th>\n      <td>https://shakespeareandco.princeton.edu/books/z...</td>\n      <td>4</td>\n    </tr>\n    <tr>\n      <th>6018</th>\n      <td>https://shakespeareandco.princeton.edu/books/z...</td>\n      <td>2</td>\n    </tr>\n  </tbody>\n</table>\n<p>6019 rows × 2 columns</p>\n</div>"
     },
     "execution_count": 38,
     "metadata": {},
     "output_type": "execute_result"
    }
   ],
   "source": [
    "# group by item uri, get year count\n",
    "events_df['has_year'] = events_df.year.apply(lambda x: 1 if pd.notna(x) else 0)\n",
    "\n",
    "items_by_year = events_df[['item_uri', 'has_year']].groupby('item_uri').sum().reset_index()\n",
    "items_by_year"
   ]
  },
  {
   "cell_type": "code",
   "execution_count": 39,
   "metadata": {
    "colab": {
     "base_uri": "https://localhost:8080/",
     "height": 739
    },
    "id": "11Gy6E7j0GG6",
    "outputId": "3e047346-63eb-4897-f4b3-61e9c88a7785",
    "ExecuteTime": {
     "end_time": "2024-05-13T08:50:20.940588900Z",
     "start_time": "2024-05-13T08:50:20.733895800Z"
    }
   },
   "outputs": [
    {
     "data": {
      "text/plain": "                                               item_uri  has_year\n118   https://shakespeareandco.princeton.edu/books/a...         0\n155   https://shakespeareandco.princeton.edu/books/a...         0\n163   https://shakespeareandco.princeton.edu/books/a...         0\n605   https://shakespeareandco.princeton.edu/books/b...         0\n638   https://shakespeareandco.princeton.edu/books/b...         0\n1163  https://shakespeareandco.princeton.edu/books/c...         0\n1918  https://shakespeareandco.princeton.edu/books/f...         0\n2039  https://shakespeareandco.princeton.edu/books/g...         0\n2347  https://shakespeareandco.princeton.edu/books/h...         0\n2354  https://shakespeareandco.princeton.edu/books/h...         0\n2356  https://shakespeareandco.princeton.edu/books/h...         0\n2362  https://shakespeareandco.princeton.edu/books/h...         0\n2442  https://shakespeareandco.princeton.edu/books/h...         0\n2585  https://shakespeareandco.princeton.edu/books/h...         0\n2703  https://shakespeareandco.princeton.edu/books/h...         0\n3552  https://shakespeareandco.princeton.edu/books/m...         0\n3854  https://shakespeareandco.princeton.edu/books/m...         0\n4787  https://shakespeareandco.princeton.edu/books/s...         0\n5029  https://shakespeareandco.princeton.edu/books/s...         0\n5257  https://shakespeareandco.princeton.edu/books/t...         0\n5500  https://shakespeareandco.princeton.edu/books/v...         0\n5598  https://shakespeareandco.princeton.edu/books/w...         0",
      "text/html": "<div>\n<style scoped>\n    .dataframe tbody tr th:only-of-type {\n        vertical-align: middle;\n    }\n\n    .dataframe tbody tr th {\n        vertical-align: top;\n    }\n\n    .dataframe thead th {\n        text-align: right;\n    }\n</style>\n<table border=\"1\" class=\"dataframe\">\n  <thead>\n    <tr style=\"text-align: right;\">\n      <th></th>\n      <th>item_uri</th>\n      <th>has_year</th>\n    </tr>\n  </thead>\n  <tbody>\n    <tr>\n      <th>118</th>\n      <td>https://shakespeareandco.princeton.edu/books/a...</td>\n      <td>0</td>\n    </tr>\n    <tr>\n      <th>155</th>\n      <td>https://shakespeareandco.princeton.edu/books/a...</td>\n      <td>0</td>\n    </tr>\n    <tr>\n      <th>163</th>\n      <td>https://shakespeareandco.princeton.edu/books/a...</td>\n      <td>0</td>\n    </tr>\n    <tr>\n      <th>605</th>\n      <td>https://shakespeareandco.princeton.edu/books/b...</td>\n      <td>0</td>\n    </tr>\n    <tr>\n      <th>638</th>\n      <td>https://shakespeareandco.princeton.edu/books/b...</td>\n      <td>0</td>\n    </tr>\n    <tr>\n      <th>1163</th>\n      <td>https://shakespeareandco.princeton.edu/books/c...</td>\n      <td>0</td>\n    </tr>\n    <tr>\n      <th>1918</th>\n      <td>https://shakespeareandco.princeton.edu/books/f...</td>\n      <td>0</td>\n    </tr>\n    <tr>\n      <th>2039</th>\n      <td>https://shakespeareandco.princeton.edu/books/g...</td>\n      <td>0</td>\n    </tr>\n    <tr>\n      <th>2347</th>\n      <td>https://shakespeareandco.princeton.edu/books/h...</td>\n      <td>0</td>\n    </tr>\n    <tr>\n      <th>2354</th>\n      <td>https://shakespeareandco.princeton.edu/books/h...</td>\n      <td>0</td>\n    </tr>\n    <tr>\n      <th>2356</th>\n      <td>https://shakespeareandco.princeton.edu/books/h...</td>\n      <td>0</td>\n    </tr>\n    <tr>\n      <th>2362</th>\n      <td>https://shakespeareandco.princeton.edu/books/h...</td>\n      <td>0</td>\n    </tr>\n    <tr>\n      <th>2442</th>\n      <td>https://shakespeareandco.princeton.edu/books/h...</td>\n      <td>0</td>\n    </tr>\n    <tr>\n      <th>2585</th>\n      <td>https://shakespeareandco.princeton.edu/books/h...</td>\n      <td>0</td>\n    </tr>\n    <tr>\n      <th>2703</th>\n      <td>https://shakespeareandco.princeton.edu/books/h...</td>\n      <td>0</td>\n    </tr>\n    <tr>\n      <th>3552</th>\n      <td>https://shakespeareandco.princeton.edu/books/m...</td>\n      <td>0</td>\n    </tr>\n    <tr>\n      <th>3854</th>\n      <td>https://shakespeareandco.princeton.edu/books/m...</td>\n      <td>0</td>\n    </tr>\n    <tr>\n      <th>4787</th>\n      <td>https://shakespeareandco.princeton.edu/books/s...</td>\n      <td>0</td>\n    </tr>\n    <tr>\n      <th>5029</th>\n      <td>https://shakespeareandco.princeton.edu/books/s...</td>\n      <td>0</td>\n    </tr>\n    <tr>\n      <th>5257</th>\n      <td>https://shakespeareandco.princeton.edu/books/t...</td>\n      <td>0</td>\n    </tr>\n    <tr>\n      <th>5500</th>\n      <td>https://shakespeareandco.princeton.edu/books/v...</td>\n      <td>0</td>\n    </tr>\n    <tr>\n      <th>5598</th>\n      <td>https://shakespeareandco.princeton.edu/books/w...</td>\n      <td>0</td>\n    </tr>\n  </tbody>\n</table>\n</div>"
     },
     "execution_count": 39,
     "metadata": {},
     "output_type": "execute_result"
    }
   ],
   "source": [
    "items_by_year[items_by_year.has_year == 0]\n"
   ]
  },
  {
   "cell_type": "code",
   "execution_count": 40,
   "metadata": {
    "colab": {
     "base_uri": "https://localhost:8080/"
    },
    "id": "Pl0Wvo9J0TbG",
    "outputId": "575a31a7-baea-46b4-c758-430307b1e67c",
    "ExecuteTime": {
     "end_time": "2024-05-13T08:50:20.940588900Z",
     "start_time": "2024-05-13T08:50:20.749575800Z"
    }
   },
   "outputs": [
    {
     "data": {
      "text/plain": "(22, 2)"
     },
     "execution_count": 40,
     "metadata": {},
     "output_type": "execute_result"
    }
   ],
   "source": [
    "items_by_year[items_by_year.has_year == 0].shape\n"
   ]
  },
  {
   "cell_type": "markdown",
   "metadata": {
    "id": "RIWipp5Lza81"
   },
   "source": [
    "# events\n"
   ]
  },
  {
   "cell_type": "code",
   "execution_count": 41,
   "metadata": {
    "colab": {
     "base_uri": "https://localhost:8080/"
    },
    "id": "7Bs80CpKr9s-",
    "outputId": "1c626728-be61-4e02-b436-532ca74881a9",
    "ExecuteTime": {
     "end_time": "2024-05-13T08:50:21.128695200Z",
     "start_time": "2024-05-13T08:50:20.765292200Z"
    }
   },
   "outputs": [
    {
     "name": "stdout",
     "output_type": "stream",
     "text": [
      "35523 events\n"
     ]
    }
   ],
   "source": [
    "print('%d events' % len(events_df))"
   ]
  },
  {
   "cell_type": "markdown",
   "source": [],
   "metadata": {
    "collapsed": false
   }
  },
  {
   "cell_type": "markdown",
   "metadata": {
    "id": "pGezR8Pue3YS"
   },
   "source": [
    "## totals by type"
   ]
  },
  {
   "cell_type": "code",
   "execution_count": 42,
   "metadata": {
    "colab": {
     "base_uri": "https://localhost:8080/",
     "height": 426
    },
    "id": "CEiBz9vQacrC",
    "outputId": "b9dc3dc2-3a24-4c23-8357-9d0c7de78b34",
    "ExecuteTime": {
     "end_time": "2024-05-13T08:50:21.238985600Z",
     "start_time": "2024-05-13T08:50:20.797296200Z"
    }
   },
   "outputs": [
    {
     "data": {
      "text/plain": "                 event_type  count\n0                    Borrow  21059\n10             Subscription   4839\n7                   Renewal   4799\n6             Reimbursement   3126\n5                  Purchase    818\n1               Crossed out    285\n2                   Generic    252\n11               Supplement    190\n9          Separate Payment     85\n8                   Request     28\n3                      Gift     26\n4   Periodical Subscription     16",
      "text/html": "<div>\n<style scoped>\n    .dataframe tbody tr th:only-of-type {\n        vertical-align: middle;\n    }\n\n    .dataframe tbody tr th {\n        vertical-align: top;\n    }\n\n    .dataframe thead th {\n        text-align: right;\n    }\n</style>\n<table border=\"1\" class=\"dataframe\">\n  <thead>\n    <tr style=\"text-align: right;\">\n      <th></th>\n      <th>event_type</th>\n      <th>count</th>\n    </tr>\n  </thead>\n  <tbody>\n    <tr>\n      <th>0</th>\n      <td>Borrow</td>\n      <td>21059</td>\n    </tr>\n    <tr>\n      <th>10</th>\n      <td>Subscription</td>\n      <td>4839</td>\n    </tr>\n    <tr>\n      <th>7</th>\n      <td>Renewal</td>\n      <td>4799</td>\n    </tr>\n    <tr>\n      <th>6</th>\n      <td>Reimbursement</td>\n      <td>3126</td>\n    </tr>\n    <tr>\n      <th>5</th>\n      <td>Purchase</td>\n      <td>818</td>\n    </tr>\n    <tr>\n      <th>1</th>\n      <td>Crossed out</td>\n      <td>285</td>\n    </tr>\n    <tr>\n      <th>2</th>\n      <td>Generic</td>\n      <td>252</td>\n    </tr>\n    <tr>\n      <th>11</th>\n      <td>Supplement</td>\n      <td>190</td>\n    </tr>\n    <tr>\n      <th>9</th>\n      <td>Separate Payment</td>\n      <td>85</td>\n    </tr>\n    <tr>\n      <th>8</th>\n      <td>Request</td>\n      <td>28</td>\n    </tr>\n    <tr>\n      <th>3</th>\n      <td>Gift</td>\n      <td>26</td>\n    </tr>\n    <tr>\n      <th>4</th>\n      <td>Periodical Subscription</td>\n      <td>16</td>\n    </tr>\n  </tbody>\n</table>\n</div>"
     },
     "execution_count": 42,
     "metadata": {},
     "output_type": "execute_result"
    }
   ],
   "source": [
    "event_type_total = events_df.groupby([\"event_type\"]).size().reset_index(name='count').sort_values(['count'], ascending=False)\n",
    "event_type_total"
   ]
  },
  {
   "cell_type": "markdown",
   "metadata": {
    "id": "Xni6btO8z4Yo"
   },
   "source": [
    "### membership event total"
   ]
  },
  {
   "cell_type": "code",
   "execution_count": 43,
   "metadata": {
    "colab": {
     "base_uri": "https://localhost:8080/",
     "height": 206
    },
    "id": "sQtmoEF3zmE1",
    "outputId": "34114f0b-1a0a-41d4-c478-68190ff8ee82",
    "ExecuteTime": {
     "end_time": "2024-05-13T08:50:21.238985600Z",
     "start_time": "2024-05-13T08:50:20.813290400Z"
    }
   },
   "outputs": [
    {
     "ename": "NameError",
     "evalue": "name 'event_type_totals' is not defined",
     "output_type": "error",
     "traceback": [
      "\u001B[1;31m---------------------------------------------------------------------------\u001B[0m",
      "\u001B[1;31mNameError\u001B[0m                                 Traceback (most recent call last)",
      "Cell \u001B[1;32mIn[43], line 1\u001B[0m\n\u001B[1;32m----> 1\u001B[0m event_type_total[\u001B[43mevent_type_totals\u001B[49m\u001B[38;5;241m.\u001B[39mevent_type\u001B[38;5;241m.\u001B[39misin([\u001B[38;5;124m'\u001B[39m\u001B[38;5;124mSubscription\u001B[39m\u001B[38;5;124m'\u001B[39m, \u001B[38;5;124m'\u001B[39m\u001B[38;5;124mRenewal\u001B[39m\u001B[38;5;124m'\u001B[39m, \u001B[38;5;124m'\u001B[39m\u001B[38;5;124mReimbursement\u001B[39m\u001B[38;5;124m'\u001B[39m, \u001B[38;5;124m'\u001B[39m\u001B[38;5;124mSupplement\u001B[39m\u001B[38;5;124m'\u001B[39m, \u001B[38;5;124m'\u001B[39m\u001B[38;5;124mSeparate Payment\u001B[39m\u001B[38;5;124m'\u001B[39m])]\n",
      "\u001B[1;31mNameError\u001B[0m: name 'event_type_totals' is not defined"
     ]
    }
   ],
   "source": [
    "event_type_total[event_type_totals.event_type.isin(['Subscription', 'Renewal', 'Reimbursement', 'Supplement', 'Separate Payment'])]"
   ]
  },
  {
   "cell_type": "code",
   "execution_count": null,
   "metadata": {
    "colab": {
     "base_uri": "https://localhost:8080/"
    },
    "id": "V_1Q9ph-z7xO",
    "outputId": "081c6ef5-20c6-4a03-e412-564eeb39a09c",
    "ExecuteTime": {
     "start_time": "2024-05-13T08:50:20.850427800Z"
    }
   },
   "outputs": [],
   "source": [
    "membership_total = event_type_totals[event_type_totals.event_type.isin(['Subscription', 'Renewal', 'Reimbursement', 'Supplement', 'Separate Payment'])]['count'].sum()\n",
    "f'{membership_total:,} total membership events'"
   ]
  },
  {
   "cell_type": "code",
   "execution_count": null,
   "metadata": {
    "colab": {
     "base_uri": "https://localhost:8080/",
     "height": 299
    },
    "id": "8jPbeIFotf1q",
    "outputId": "0e5bcd49-6e37-4c63-a8c6-9609e35c0c69",
    "ExecuteTime": {
     "start_time": "2024-05-13T08:50:20.850427800Z"
    }
   },
   "outputs": [],
   "source": [
    "# number of events by type; generate bar plot using value_counts\n",
    "events_df.value_counts(\"event_type\").sort_values().plot(kind='barh', title='Event totals by type', color='#47C2C2')"
   ]
  },
  {
   "cell_type": "code",
   "execution_count": null,
   "metadata": {
    "colab": {
     "base_uri": "https://localhost:8080/",
     "height": 609
    },
    "id": "LShrPSX3uFDN",
    "outputId": "4c34176b-f292-4dfe-d998-52ba51ad561f",
    "ExecuteTime": {
     "start_time": "2024-05-13T08:50:20.856896200Z"
    }
   },
   "outputs": [],
   "source": [
    "events_df.value_counts(\"event_type\").plot(kind='pie', figsize=(10, 10), title='Event totals by type')"
   ]
  },
  {
   "cell_type": "code",
   "execution_count": null,
   "metadata": {
    "colab": {
     "base_uri": "https://localhost:8080/",
     "height": 283
    },
    "id": "3RZvi-rIc0Wz",
    "outputId": "5e51356a-0091-4324-f63c-a9cd93ed672b",
    "ExecuteTime": {
     "start_time": "2024-05-13T08:50:20.863164Z"
    }
   },
   "outputs": [],
   "source": [
    "# distinguish membership and book activities by color\n",
    "event_type_totals = event_type_totals.sort_values(['count'])\n",
    "membership_events = ['Renewal', 'Subscription', 'Reimbursement', 'Supplement', 'Separate Deposit']\n",
    "# color membership events differently\n",
    "colors = ['lightslategray' if evt in membership_events else '#47C2C2' for evt in event_type_totals.event_type]\n",
    "event_type_totals.plot.barh(x='event_type', y='count', color=colors)"
   ]
  },
  {
   "cell_type": "markdown",
   "metadata": {
    "id": "xGgfuwew-zIG"
   },
   "source": [
    "## event totals by year"
   ]
  },
  {
   "cell_type": "code",
   "execution_count": null,
   "metadata": {
    "colab": {
     "base_uri": "https://localhost:8080/",
     "height": 1000
    },
    "id": "6tJw3rYO-4J0",
    "outputId": "afa317a4-c81e-4392-d0c0-e151fccca2b3",
    "ExecuteTime": {
     "start_time": "2024-05-13T08:50:20.863164Z"
    }
   },
   "outputs": [],
   "source": [
    "events_year = events_df\n",
    "events_year['year'] = events_year.start_date.str.extract(r'(?P<year>(?:\\d{4}|-))')\n",
    "# convert unknown years to None\n",
    "events_year.year.replace('-', None, inplace=True)\n",
    "events_by_year = events_year.groupby([\"year\"]).size().reset_index(name='count').sort_values(['year'])\n",
    "events_by_year"
   ]
  },
  {
   "cell_type": "code",
   "execution_count": null,
   "metadata": {
    "colab": {
     "base_uri": "https://localhost:8080/",
     "height": 528
    },
    "id": "0VwL5d8U-1Q3",
    "outputId": "40ebe22e-3c4d-439b-e605-404450138501",
    "ExecuteTime": {
     "start_time": "2024-05-13T08:50:20.863164Z"
    }
   },
   "outputs": [],
   "source": [
    "plot = events_by_year.plot.bar(x='year', y='count', figsize=(25,8), title='Total events by year', color=\"#47C2C2\")\n",
    "plot.figure.savefig('event_totals_by_year.png')"
   ]
  },
  {
   "cell_type": "markdown",
   "metadata": {
    "id": "D7ESGdNnfv4P"
   },
   "source": [
    "## joint accounts"
   ]
  },
  {
   "cell_type": "code",
   "execution_count": 47,
   "metadata": {
    "colab": {
     "base_uri": "https://localhost:8080/"
    },
    "id": "qxhvRRofdIin",
    "outputId": "c0766d4c-b455-4f04-e830-7aa87218ca68",
    "ExecuteTime": {
     "end_time": "2024-05-13T08:52:30.729910800Z",
     "start_time": "2024-05-13T08:52:30.638520400Z"
    }
   },
   "outputs": [
    {
     "name": "stdout",
     "output_type": "stream",
     "text": [
      "557 events from joint accounts\n",
      "49 joint accounts\n"
     ]
    }
   ],
   "source": [
    "joint_account_events = events_df[events_df['member_uris'].str.contains(\";\")]\n",
    "print('%d events from joint accounts' % len(joint_account_events))\n",
    "print('%d joint accounts' % len(joint_account_events.member_uris.unique()))\n"
   ]
  },
  {
   "cell_type": "markdown",
   "metadata": {
    "id": "bEWFG2wzthgH"
   },
   "source": [
    "## end date known when start date is unknown"
   ]
  },
  {
   "cell_type": "code",
   "execution_count": null,
   "metadata": {
    "colab": {
     "base_uri": "https://localhost:8080/",
     "height": 453
    },
    "id": "m3__Gg2atnsh",
    "outputId": "17f22e20-26ed-4867-d116-8bba152adde3",
    "ExecuteTime": {
     "start_time": "2024-05-13T08:50:20.876176Z"
    }
   },
   "outputs": [],
   "source": [
    "#no_start = events_df.dropna(subset=['start_date'])\n",
    "no_start = events_df.copy()\n",
    "no_start = no_start[~no_start.end_date.isnull()]\n",
    "no_start = no_start[no_start.start_date.isnull()]\n",
    "print('%d events with end date but no start' % len(no_start))\n",
    "no_start.head()"
   ]
  },
  {
   "cell_type": "code",
   "execution_count": null,
   "metadata": {
    "colab": {
     "base_uri": "https://localhost:8080/",
     "height": 81
    },
    "id": "a8LqWtu1vlw_",
    "outputId": "28353d94-aa44-44b8-9532-0705546d9904",
    "ExecuteTime": {
     "start_time": "2024-05-13T08:50:20.876176Z"
    }
   },
   "outputs": [],
   "source": [
    "no_start_type = no_start.groupby([\"event_type\"]).size().reset_index(name='count').sort_values(['count'], ascending=False)\n",
    "no_start_type"
   ]
  },
  {
   "cell_type": "markdown",
   "metadata": {
    "id": "Azt83sL0hRtH"
   },
   "source": [
    "## partial date totals"
   ]
  },
  {
   "cell_type": "code",
   "execution_count": null,
   "metadata": {
    "colab": {
     "base_uri": "https://localhost:8080/",
     "height": 424
    },
    "id": "u3-C-LlXgRnu",
    "outputId": "328caf2c-6dde-4173-f339-2118c7e15f33",
    "ExecuteTime": {
     "start_time": "2024-05-13T08:50:20.876176Z"
    }
   },
   "outputs": [],
   "source": [
    "event_dates = events_df.copy()\n",
    "date_regex = r'(?P<year>(?:\\d{4}|-))-?(?P<month>\\d{2})?-?(?P<day>\\d{2})?'\n",
    "event_dates[['start_year','start_month','start_day']] = event_dates.start_date.str.extract(date_regex, expand=True)\n",
    "event_dates[['end_year','end_month','end_day']] = event_dates.end_date.str.extract(date_regex, expand=True)\n",
    "# convert unknown years to None\n",
    "event_dates.start_year.replace('-', None, inplace=True)\n",
    "event_dates.end_year.replace('-', None, inplace=True)\n",
    "event_dates[['start_date', 'start_year', 'start_month', 'start_day', 'end_date', 'end_year', 'end_month', 'end_day']]"
   ]
  },
  {
   "cell_type": "markdown",
   "metadata": {
    "id": "8DIth_smy44i"
   },
   "source": [
    "### no dates known"
   ]
  },
  {
   "cell_type": "code",
   "execution_count": null,
   "metadata": {
    "colab": {
     "base_uri": "https://localhost:8080/",
     "height": 922
    },
    "id": "ywMBAAKFjSeh",
    "outputId": "13f0a35c-c646-417a-9d35-508cbed8dcbb",
    "ExecuteTime": {
     "start_time": "2024-05-13T08:50:20.894496900Z"
    }
   },
   "outputs": [],
   "source": [
    "no_date = event_dates[event_dates.start_date.isnull() & event_dates.end_date.isnull()]\n",
    "print('%d events with no date' % len(no_date))\n",
    "no_date.head(10)"
   ]
  },
  {
   "cell_type": "markdown",
   "metadata": {
    "id": "Jhb9-TdNzc8A"
   },
   "source": [
    "### year only"
   ]
  },
  {
   "cell_type": "code",
   "execution_count": null,
   "metadata": {
    "colab": {
     "base_uri": "https://localhost:8080/",
     "height": 966
    },
    "id": "Ej_Gs-0Zy9xY",
    "outputId": "1abf57b6-35d6-49b9-c301-df3ada4ae6d7",
    "ExecuteTime": {
     "start_time": "2024-05-13T08:50:20.899512100Z"
    }
   },
   "outputs": [],
   "source": [
    "# remove all events with no start or end date\n",
    "year_only = event_dates[~(event_dates.start_date.isnull() & event_dates.end_date.isnull())]\n",
    "# remove either month known\n",
    "year_only = year_only[year_only.start_month.isnull() & year_only.end_month.isnull()]\n",
    "year_only = year_only[year_only.start_day.isnull() & year_only.end_day.isnull()]\n",
    "print('%d events with year only' % len(year_only))\n",
    "year_only"
   ]
  },
  {
   "cell_type": "markdown",
   "metadata": {
    "id": "eh0NVbzJ1zOf"
   },
   "source": [
    "### year/month only"
   ]
  },
  {
   "cell_type": "code",
   "execution_count": null,
   "metadata": {
    "colab": {
     "base_uri": "https://localhost:8080/",
     "height": 1000
    },
    "id": "Idvpe8Haz8SM",
    "outputId": "707a328d-4523-4d48-c95d-a7b8ddcd85d7",
    "ExecuteTime": {
     "start_time": "2024-05-13T08:50:20.904900700Z"
    }
   },
   "outputs": [],
   "source": [
    "# remove all events with no start or end date\n",
    "yearmonth_only = event_dates[~(event_dates.start_date.isnull() & event_dates.end_date.isnull())]\n",
    "# remove day known\n",
    "yearmonth_only = yearmonth_only[yearmonth_only.start_day.isnull() & yearmonth_only.end_day.isnull()]\n",
    "print('%d events with year/month only' % len(yearmonth_only))\n",
    "yearmonth_only"
   ]
  },
  {
   "cell_type": "markdown",
   "metadata": {
    "id": "7kqF3wWA2Gex"
   },
   "source": [
    "### day/month only"
   ]
  },
  {
   "cell_type": "code",
   "execution_count": null,
   "metadata": {
    "colab": {
     "base_uri": "https://localhost:8080/",
     "height": 1000
    },
    "id": "4ng1Qoge18cH",
    "outputId": "6d01a8f2-0cfa-40d2-daeb-25f4a0d683f7",
    "ExecuteTime": {
     "start_time": "2024-05-13T08:50:20.909956700Z"
    }
   },
   "outputs": [],
   "source": [
    "# remove all events with no start or end date\n",
    "monthday_only = event_dates[~(event_dates.start_date.isnull() & event_dates.end_date.isnull())]\n",
    "# remove year unknown\n",
    "monthday_only = monthday_only[monthday_only.start_year.isnull() & monthday_only.end_year.isnull()]\n",
    "# require either month known\n",
    "monthday_only = monthday_only[~monthday_only.start_month.isnull() | ~monthday_only.end_month.isnull()]\n",
    "# require either day known\n",
    "monthday_only = monthday_only[~monthday_only.start_day.isnull() | ~monthday_only.end_day.isnull()]\n",
    "\n",
    "print('%d events with month/day only' % len(monthday_only))\n",
    "monthday_only"
   ]
  },
  {
   "cell_type": "markdown",
   "metadata": {
    "id": "yWKV_sJt3AdT"
   },
   "source": [
    "### reimbursements unknown or partial"
   ]
  },
  {
   "cell_type": "code",
   "execution_count": null,
   "metadata": {
    "colab": {
     "base_uri": "https://localhost:8080/",
     "height": 1000
    },
    "id": "HmNGxEmd3Cfp",
    "outputId": "8d7adaba-b705-48dc-afc1-85085b992549",
    "ExecuteTime": {
     "start_time": "2024-05-13T08:50:20.913137200Z"
    }
   },
   "outputs": [],
   "source": [
    "reimbursements = event_dates[event_dates.event_type == 'Reimbursement'].copy()\n",
    "reimbursements\n",
    "\n",
    "reimbursements['has_date'] = reimbursements.apply(lambda x: True if (pd.notna(x.start_date) or pd.notna(x.end_date)) else False, axis=1)\n",
    "reimbursements['partial_date'] = reimbursements.start_date.apply(lambda x: True if pd.notna(x) and len(x) < 10  else False)\n",
    "\n",
    "print('%d with no date' % reimbursements[~reimbursements.has_date].shape[0])\n",
    "print('%d with partial date' % reimbursements[reimbursements.partial_date].shape[0])\n",
    "print('%d with partial or no date' % reimbursements[~reimbursements.has_date | reimbursements.partial_date].shape[0])\n",
    "\n",
    "reimbursements[~reimbursements.has_date | reimbursements.partial_date]\n",
    "\n",
    "# # reimbursements['partial_date'] = reimbursements[(reimbursements.start_year.isnull() & reimbursements.end_year.isnull()) | (reimbursements.start_month.isnull() & reimbursements.end_month.isnull()) | (reimbursements.start_day.isnull() & reimbursements.end_day.isnull()) ]\n",
    "\n",
    "# # nodate_reimbursements = reimbursements[(reimbursements.start_date.isnull() & reimbursements.end_date.isnull())]\n",
    "# # print(nodate_reimbursements.shape[0])\n",
    "# nodate_reimbursements.head()\n",
    "# nodate_reimbursements = event_dates[event_dates.start_date.isnull() & event_dates.end_date.isnull()]\n"
   ]
  },
  {
   "cell_type": "markdown",
   "metadata": {
    "id": "MuLMCru23FSD"
   },
   "source": [
    "## borrow status"
   ]
  },
  {
   "cell_type": "code",
   "execution_count": null,
   "metadata": {
    "colab": {
     "base_uri": "https://localhost:8080/",
     "height": 193
    },
    "id": "bFrSuljE2VLk",
    "outputId": "3f421cb2-aa87-4809-cb5c-7c43b6e13220",
    "ExecuteTime": {
     "start_time": "2024-05-13T08:50:20.913137200Z"
    }
   },
   "outputs": [],
   "source": [
    "borrows = events_df[events_df.event_type == 'Borrow']\n",
    "total_borrows = len(borrows)\n",
    "print('{:,} borrowing events'.format(total_borrows))\n",
    "borrow_status_totals = borrows.groupby([\"borrow_status\"]).size().reset_index(name='count').sort_values(['count'], ascending=False)\n",
    "borrow_status_totals['percent'] = borrow_status_totals['count'].apply(lambda x: (x / total_borrows) * 100)\n",
    "borrow_status_totals.percent = borrow_status_totals.percent.round(2)\n",
    "borrow_status_totals"
   ]
  },
  {
   "cell_type": "markdown",
   "metadata": {
    "id": "8jqjyeDL5Azm"
   },
   "source": [
    "## purchase price known"
   ]
  },
  {
   "cell_type": "code",
   "execution_count": null,
   "metadata": {
    "colab": {
     "base_uri": "https://localhost:8080/",
     "height": 967
    },
    "id": "h_CKQAR83VNm",
    "outputId": "fc8d4afa-8d0e-4d6c-d301-46d6db1ec698",
    "ExecuteTime": {
     "start_time": "2024-05-13T08:50:20.926025900Z"
    }
   },
   "outputs": [],
   "source": [
    "purchases = events_df[events_df.event_type == 'Purchase']\n",
    "print('%d total purchases' % len(purchases))\n",
    "noprice_purchases = purchases[purchases['purchase_price'].isnull()]\n",
    "print('%d purchases with no known price' % len(noprice_purchases))\n",
    "noprice_purchases"
   ]
  },
  {
   "cell_type": "markdown",
   "metadata": {
    "id": "_-Iu4fgvDv-K"
   },
   "source": [
    "## reimbursement refund amount known\n"
   ]
  },
  {
   "cell_type": "code",
   "execution_count": null,
   "metadata": {
    "colab": {
     "base_uri": "https://localhost:8080/",
     "height": 1000
    },
    "id": "MNE4cTTZDzKM",
    "outputId": "e077e118-9d4c-402e-ef6a-54e20168b29f",
    "ExecuteTime": {
     "start_time": "2024-05-13T08:50:20.929672100Z"
    }
   },
   "outputs": [],
   "source": [
    "reimbursements = events_df[events_df.event_type == 'Reimbursement']\n",
    "print('%d total reimbursements' % len(reimbursements))\n",
    "noprice_reimbursements = reimbursements[reimbursements['reimbursement_refund'].isnull()]\n",
    "print('%d reimbursements with no known refund' % len(noprice_reimbursements))\n",
    "noprice_reimbursements"
   ]
  },
  {
   "cell_type": "markdown",
   "metadata": {
    "id": "0zGrYK1b8hxT"
   },
   "source": [
    "## subscriptions with no volume"
   ]
  },
  {
   "cell_type": "code",
   "execution_count": null,
   "metadata": {
    "colab": {
     "base_uri": "https://localhost:8080/",
     "height": 965
    },
    "id": "95qzr7TP8hDd",
    "outputId": "49c63033-7da2-4c9a-c97e-b73996480aa4",
    "ExecuteTime": {
     "start_time": "2024-05-13T08:50:20.935909800Z"
    }
   },
   "outputs": [],
   "source": [
    "# only events labeled as subscriptions\n",
    "subs = events_df[events_df.event_type == 'Subscription']\n",
    "subs[subs.subscription_volumes.isna()]"
   ]
  },
  {
   "cell_type": "code",
   "execution_count": null,
   "metadata": {
    "colab": {
     "base_uri": "https://localhost:8080/",
     "height": 965
    },
    "id": "5faCghb19J3D",
    "outputId": "cbc28f08-6746-4f8b-f654-49605c9caaac",
    "ExecuteTime": {
     "start_time": "2024-05-13T08:50:20.940588900Z"
    }
   },
   "outputs": [],
   "source": [
    "# subscriptions and renewals\n",
    "subsrenew = events_df[events_df.event_type.isin(['Subscription', 'Renewal'])]\n",
    "subsrenew[subsrenew.subscription_volumes.isna()]"
   ]
  },
  {
   "cell_type": "code",
   "execution_count": null,
   "metadata": {
    "colab": {
     "base_uri": "https://localhost:8080/",
     "height": 965
    },
    "id": "KMHiqPJU85gc",
    "outputId": "01b46f17-9893-4b46-f19e-a6cbae818f76",
    "ExecuteTime": {
     "start_time": "2024-05-13T08:50:20.948451Z"
    }
   },
   "outputs": [],
   "source": [
    "# all subscription events that coud have subscription volumes\n",
    "allsubs = events_df[events_df.event_type.isin(['Subscription', 'Renewal', 'Supplement'])]\n",
    "allsubs[allsubs.subscription_volumes.isna()]"
   ]
  },
  {
   "cell_type": "markdown",
   "metadata": {
    "id": "nwcoRCkp5zWJ"
   },
   "source": [
    "## currency"
   ]
  },
  {
   "cell_type": "code",
   "execution_count": null,
   "metadata": {
    "colab": {
     "base_uri": "https://localhost:8080/",
     "height": 162
    },
    "id": "JwLNLBLM5EaL",
    "outputId": "2cfa1046-3f45-4e01-dcd9-28da2c92cd25",
    "ExecuteTime": {
     "start_time": "2024-05-13T08:50:20.949125900Z"
    }
   },
   "outputs": [],
   "source": [
    "currency = events_df[~events_df.currency.isnull()]\n",
    "total_currency = len(currency)\n",
    "print('{:,} events with currency'.format(total_currency))\n",
    "currency_totals = currency.groupby([\"currency\"]).size().reset_index(name='count').sort_values(['count'], ascending=False)\n",
    "currency_totals['percent'] = currency_totals['count'].apply(lambda x: (x / total_currency) * 100)\n",
    "currency_totals.percent = currency_totals.percent.round(2)\n",
    "currency_totals"
   ]
  },
  {
   "cell_type": "code",
   "execution_count": null,
   "metadata": {
    "ExecuteTime": {
     "start_time": "2024-05-13T08:50:20.949125900Z"
    }
   },
   "outputs": [],
   "source": [
    "# events recorded with non-Franc currency\n",
    "currency[currency.currency != 'FRF']"
   ]
  },
  {
   "cell_type": "markdown",
   "metadata": {
    "id": "w15LRsRE69w_"
   },
   "source": [
    "## source type"
   ]
  },
  {
   "cell_type": "code",
   "execution_count": null,
   "metadata": {
    "colab": {
     "base_uri": "https://localhost:8080/",
     "height": 457
    },
    "id": "kw7O66IX9grN",
    "outputId": "d5f56b55-688e-4ad7-b713-e355284c4931",
    "ExecuteTime": {
     "start_time": "2024-05-13T08:50:20.949125900Z"
    }
   },
   "outputs": [],
   "source": [
    "total_events = len(events_df)\n",
    "events_df['source_type']\n",
    "source_type = events_df.groupby([\"source_type\"]).size().reset_index(name='count').sort_values(['count'], ascending=False)\n",
    "source_type['percent'] = source_type['count'].apply(lambda x: (x / total_events) * 100)\n",
    "source_type.percent = source_type.percent.round(2)\n",
    "source_type"
   ]
  },
  {
   "cell_type": "code",
   "execution_count": null,
   "metadata": {
    "colab": {
     "base_uri": "https://localhost:8080/",
     "height": 269
    },
    "id": "-_H6neVz6Ieo",
    "outputId": "6a659e27-dd75-4c6f-f467-55c932b45a17",
    "ExecuteTime": {
     "start_time": "2024-05-13T08:50:20.957967400Z"
    }
   },
   "outputs": [],
   "source": [
    "total_events = len(events_df)\n",
    "source_events['uniq_source_type'] = source_events['source_type'].apply(lambda x: (';'.join(sorted(set(x.split(';'))))))\n",
    "source_type = source_events.groupby([\"uniq_source_type\"]).size().reset_index(name='count').sort_values(['count'], ascending=False)\n",
    "source_type['percent'] = source_type['count'].apply(lambda x: (x / total_events) * 100)\n",
    "source_type.percent = source_type.percent.round(2)\n",
    "source_type"
   ]
  },
  {
   "cell_type": "code",
   "execution_count": null,
   "metadata": {
    "colab": {
     "base_uri": "https://localhost:8080/"
    },
    "id": "K-pe18wS7OAk",
    "outputId": "0dc44584-44c9-4445-ab82-9e984d12d563",
    "ExecuteTime": {
     "start_time": "2024-05-13T08:50:20.957967400Z"
    }
   },
   "outputs": [],
   "source": [
    "%%capture\n",
    "pip install matplotlib-venn"
   ]
  },
  {
   "cell_type": "code",
   "execution_count": null,
   "metadata": {
    "colab": {
     "base_uri": "https://localhost:8080/",
     "height": 321
    },
    "id": "17LyUMI0vBmS",
    "outputId": "5a553184-febe-4fbb-ef17-fdc8c0bb19af",
    "ExecuteTime": {
     "start_time": "2024-05-13T08:50:20.957967400Z"
    }
   },
   "outputs": [],
   "source": [
    "import matplotlib\n",
    "from matplotlib_venn import venn3\n",
    "cards = events_df[events_df['source_type'].str.contains('Lending Library Card')]\n",
    "logbooks = events_df[events_df['source_type'].str.contains('Logbook')]\n",
    "addressbook = events_df[events_df['source_type'].str.contains('Address Book')]\n",
    "print('%d cards' % len(list(cards.index)))\n",
    "print('%d logbooks' % len(list(logbooks.index)))\n",
    "print('%d address books' % len(list(addressbook.index)))\n",
    "\n",
    "\n",
    "# use colors from S&co site design: teal, gray, yellow\n",
    "venn_plot = venn3([set(cards.index), set(logbooks.index), set(addressbook.index)], ('Lending Library Cards', 'Logbooks', 'Address Books'), set_colors=('#47C2C2', 'darkgray', '#E09330'), alpha=0.7)\n",
    "#matplotlib.pyplot.savefig('event_source_venn.svg')\n",
    "venn_plot"
   ]
  },
  {
   "cell_type": "code",
   "execution_count": null,
   "metadata": {
    "colab": {
     "base_uri": "https://localhost:8080/",
     "height": 323
    },
    "id": "5JnqkR8Bvlhz",
    "outputId": "5a69d6e9-5732-465c-903e-6a703647a956",
    "ExecuteTime": {
     "start_time": "2024-05-13T08:50:20.966305600Z"
    }
   },
   "outputs": [],
   "source": [
    "# generate the same plots for membership activity\n",
    "membership_events = events_df[events_df.event_type.isin(['Subscription', 'Renewal', 'Supplement', 'Reimbursement'])]\n",
    "\n",
    "membership_cards = membership_events[membership_events['source_type'].str.contains('Lending Library Card')]\n",
    "membership_logbooks = membership_events[membership_events['source_type'].str.contains('Logbook')]\n",
    "membership_addressbook = membership_events[membership_events['source_type'].str.contains('Address Book')]\n",
    "print('%d cards' % len(list(membership_cards.index)))\n",
    "print('%d logbooks' % len(list(membership_logbooks.index)))\n",
    "print('%d address books' % len(list(membership_addressbook.index)))\n",
    "\n",
    "venn_plot = venn3([set(membership_cards.index), set(membership_logbooks.index), set(membership_addressbook.index)], ('Lending Library Cards', 'Logbooks', 'Address Books'))\n",
    "# matplotlib.pyplot.savefig('membership_event_source_venn.svg')\n",
    "venn_plot"
   ]
  },
  {
   "cell_type": "code",
   "execution_count": null,
   "metadata": {
    "colab": {
     "base_uri": "https://localhost:8080/",
     "height": 358
    },
    "id": "FwPRd_Mhc_8V",
    "outputId": "e6a39bfc-f12f-48f6-dd24-e86cc3bd565d",
    "ExecuteTime": {
     "start_time": "2024-05-13T08:50:20.967084600Z"
    }
   },
   "outputs": [],
   "source": [
    "# generate the same plots for book activity\n",
    "book_events = events_df[~events_df.item_uri.isna()]\n",
    "\n",
    "book_cards = book_events[book_events['source_type'].str.contains('Lending Library Card')]\n",
    "book_logbooks = book_events[book_events['source_type'].str.contains('Logbook')]\n",
    "book_addressbook = book_events[book_events['source_type'].str.contains('Address Book')]\n",
    "print('%d cards' % len(list(book_cards.index)))\n",
    "print('%d logbooks' % len(list(book_logbooks.index)))\n",
    "print('%d address books' % len(list(book_addressbook.index)))\n",
    "\n",
    "venn_plot = venn3([set(book_cards.index), set(book_logbooks.index), set(book_addressbook.index)], ('Lending Library Cards', 'Logbooks', 'Address Books'))\n",
    "#TODO: switch to venn plot 2!\n",
    "\n",
    "# matplotlib.pyplot.savefig('book_event_source_venn.svg')\n",
    "venn_plot"
   ]
  },
  {
   "cell_type": "markdown",
   "metadata": {
    "id": "6nF9v--KFPdP"
   },
   "source": [
    "## separate payments\n",
    "\n",
    "(separate deposit in v1.1)"
   ]
  },
  {
   "cell_type": "code",
   "execution_count": null,
   "metadata": {
    "colab": {
     "base_uri": "https://localhost:8080/",
     "height": 424
    },
    "id": "va7vStKBdxug",
    "outputId": "c6f52b96-89df-4865-8ef1-ef03030c5d4a",
    "ExecuteTime": {
     "start_time": "2024-05-13T08:50:20.971681900Z"
    }
   },
   "outputs": [],
   "source": [
    "sep_dep = events_df[events_df.event_type == 'Separate Payment']\n",
    "sep_dep[['start_date', 'end_date', 'member_uris', 'member_sort_names', 'subscription_price_paid', 'subscription_deposit']]"
   ]
  },
  {
   "cell_type": "code",
   "execution_count": null,
   "metadata": {
    "ExecuteTime": {
     "start_time": "2024-05-13T08:50:20.971681900Z"
    }
   },
   "outputs": [],
   "source": []
  }
 ],
 "metadata": {
  "colab": {
   "collapsed_sections": [],
   "name": "SCoDatasetEssay_v1.2.ipynb",
   "provenance": [],
   "toc_visible": true
  },
  "kernelspec": {
   "display_name": "Python 3 (ipykernel)",
   "language": "python",
   "name": "python3"
  },
  "language_info": {
   "codemirror_mode": {
    "name": "ipython",
    "version": 3
   },
   "file_extension": ".py",
   "mimetype": "text/x-python",
   "name": "python",
   "nbconvert_exporter": "python",
   "pygments_lexer": "ipython3",
   "version": "3.11.7"
  }
 },
 "nbformat": 4,
 "nbformat_minor": 4
}
