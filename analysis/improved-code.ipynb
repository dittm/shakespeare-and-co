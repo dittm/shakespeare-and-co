{
 "cells": [
  {
   "cell_type": "code",
   "execution_count": 1,
   "metadata": {
    "collapsed": true
   },
   "outputs": [],
   "source": [
    "import matplotlib.pyplot as plt\n",
    "import seaborn as sns\n",
    "import pandas as pd\n",
    "import numpy as np"
   ]
  },
  {
   "cell_type": "code",
   "execution_count": 2,
   "outputs": [],
   "source": [
    "books = pd.read_csv('../data/SCoData_books_v1.2_2022_01.csv', encoding='utf-8', dtype={'year': 'Int32'})\n",
    "members = pd.read_csv('../data/SCoData_members_v1.2_2022_01.csv', encoding='utf-8')\n",
    "events = pd.read_csv('../data/SCoData_events_v1.2_2022_01.csv', encoding='utf-8', low_memory=False)"
   ],
   "metadata": {
    "collapsed": false
   }
  },
  {
   "cell_type": "code",
   "execution_count": 3,
   "outputs": [],
   "source": [
    "total_members = len(members)\n",
    "total_books = len(books)\n",
    "total_events = len(events)"
   ],
   "metadata": {
    "collapsed": false
   }
  },
  {
   "cell_type": "code",
   "execution_count": 4,
   "outputs": [
    {
     "name": "stdout",
     "output_type": "stream",
     "text": [
      "5235 members\n"
     ]
    }
   ],
   "source": [
    "print('%d members' % len(members))"
   ],
   "metadata": {
    "collapsed": false
   }
  },
  {
   "cell_type": "code",
   "execution_count": 5,
   "outputs": [
    {
     "name": "stdout",
     "output_type": "stream",
     "text": [
      "6020 books\n"
     ]
    }
   ],
   "source": [
    "print('%d books' % len(books))"
   ],
   "metadata": {
    "collapsed": false
   }
  },
  {
   "cell_type": "code",
   "execution_count": 6,
   "outputs": [
    {
     "name": "stdout",
     "output_type": "stream",
     "text": [
      "35523 events\n"
     ]
    }
   ],
   "source": [
    "print('%d events' % len(events))"
   ],
   "metadata": {
    "collapsed": false
   }
  },
  {
   "cell_type": "code",
   "execution_count": 7,
   "outputs": [],
   "source": [
    "def percent_known_members(df, field):\n",
    "  total = len(df)\n",
    "  with_field = len(members[members[field].notnull()])\n",
    "  print('%d with %s : %.00f%%' % (with_field, field, (with_field/total)*100))\n",
    "  return with_field"
   ],
   "metadata": {
    "collapsed": false
   }
  },
  {
   "cell_type": "code",
   "execution_count": 8,
   "outputs": [
    {
     "name": "stdout",
     "output_type": "stream",
     "text": [
      "3673 with title : 70%\n",
      "4039 with gender : 77%\n",
      "561 with birth_year : 11%\n",
      "544 with death_year : 10%\n",
      "581 with nationalities : 11%\n",
      "520 with viaf_url : 10%\n",
      "358 with wikipedia_url : 7%\n",
      "{'title': 3673, 'gender': 4039, 'birth_year': 561, 'death_year': 544, 'nationalities': 581, 'viaf_url': 520, 'wikipedia_url': 358}\n"
     ]
    }
   ],
   "source": [
    "total_known = {}\n",
    "for field in ['title', 'gender', 'birth_year', 'death_year', 'nationalities', 'viaf_url', 'wikipedia_url']:\n",
    "    total_known[field] = percent_known_members(members, field)\n",
    "\n",
    "print(total_known)"
   ],
   "metadata": {
    "collapsed": false
   }
  },
  {
   "cell_type": "code",
   "execution_count": 9,
   "outputs": [],
   "source": [
    "def percent_known_books(df, field):\n",
    "  total = len(df)\n",
    "  with_field = len(books[books[field].notnull()])\n",
    "  print('%d with %s : %.00f%%' % (with_field, field, (with_field/total)*100))\n",
    "  return with_field"
   ],
   "metadata": {
    "collapsed": false
   }
  },
  {
   "cell_type": "code",
   "execution_count": 10,
   "outputs": [
    {
     "data": {
      "text/plain": "Index(['uri', 'title', 'author', 'editor', 'translator', 'introduction',\n       'illustrator', 'photographer', 'year', 'format', 'uncertain',\n       'ebook_url', 'volumes_issues', 'notes', 'event_count', 'borrow_count',\n       'purchase_count', 'circulation_years', 'updated'],\n      dtype='object')"
     },
     "execution_count": 10,
     "metadata": {},
     "output_type": "execute_result"
    }
   ],
   "source": [
    "books.columns"
   ],
   "metadata": {
    "collapsed": false
   }
  },
  {
   "cell_type": "code",
   "execution_count": 11,
   "outputs": [
    {
     "name": "stdout",
     "output_type": "stream",
     "text": [
      "6020 with title : 100%\n",
      "5287 with author : 88%\n",
      "424 with editor : 7%\n",
      "5300 with year : 88%\n",
      "2 with photographer : 0%\n",
      "20 with illustrator : 0%\n",
      "3155 with ebook_url : 52%\n",
      "{'title': 6020, 'author': 5287, 'editor': 424, 'year': 5300, 'photographer': 2, 'illustrator': 20, 'ebook_url': 3155}\n"
     ]
    }
   ],
   "source": [
    "total_known_books = {}\n",
    "for field in ['title', 'author', 'editor', 'year', 'photographer', 'illustrator', 'ebook_url']:\n",
    "    total_known_books[field] = percent_known_books(books, field)\n",
    "\n",
    "print(total_known_books)"
   ],
   "metadata": {
    "collapsed": false
   }
  },
  {
   "cell_type": "code",
   "execution_count": 12,
   "outputs": [],
   "source": [
    "def percent_known_events(df, field):\n",
    "  total = len(df)\n",
    "  with_field = len(events[events[field].notnull()])\n",
    "  print('%d with %s : %.00f%%' % (with_field, field, (with_field/total)*100))\n",
    "  return with_field"
   ],
   "metadata": {
    "collapsed": false
   }
  },
  {
   "cell_type": "code",
   "execution_count": 13,
   "outputs": [
    {
     "data": {
      "text/plain": "Index(['event_type', 'start_date', 'end_date', 'member_uris', 'member_names',\n       'member_sort_names', 'subscription_price_paid', 'subscription_deposit',\n       'subscription_duration', 'subscription_duration_days',\n       'subscription_volumes', 'subscription_category',\n       'subscription_purchase_date', 'reimbursement_refund', 'borrow_status',\n       'borrow_duration_days', 'purchase_price', 'currency', 'item_uri',\n       'item_title', 'item_volume', 'item_authors', 'item_year', 'item_notes',\n       'source_type', 'source_citation', 'source_manifest', 'source_image'],\n      dtype='object')"
     },
     "execution_count": 13,
     "metadata": {},
     "output_type": "execute_result"
    }
   ],
   "source": [
    "events.columns"
   ],
   "metadata": {
    "collapsed": false
   }
  },
  {
   "cell_type": "code",
   "execution_count": 14,
   "outputs": [
    {
     "name": "stdout",
     "output_type": "stream",
     "text": [
      "24002 with source_image : 68%\n",
      "35523 with source_type : 100%\n",
      "35523 with source_citation : 100%\n"
     ]
    }
   ],
   "source": [
    "total_known_events = {}\n",
    "for field in ['source_image', 'source_type', 'source_citation']:\n",
    "    total_known_events[field] = percent_known_events(events, field)"
   ],
   "metadata": {
    "collapsed": false
   }
  },
  {
   "cell_type": "code",
   "execution_count": 15,
   "outputs": [
    {
     "data": {
      "text/plain": "               total  percent\ngender          4039    77.15\ntitle           3673    70.16\nnationalities    581    11.10\nbirth_year       561    10.72\ndeath_year       544    10.39\nviaf_url         520     9.93\nwikipedia_url    358     6.84",
      "text/html": "<div>\n<style scoped>\n    .dataframe tbody tr th:only-of-type {\n        vertical-align: middle;\n    }\n\n    .dataframe tbody tr th {\n        vertical-align: top;\n    }\n\n    .dataframe thead th {\n        text-align: right;\n    }\n</style>\n<table border=\"1\" class=\"dataframe\">\n  <thead>\n    <tr style=\"text-align: right;\">\n      <th></th>\n      <th>total</th>\n      <th>percent</th>\n    </tr>\n  </thead>\n  <tbody>\n    <tr>\n      <th>gender</th>\n      <td>4039</td>\n      <td>77.15</td>\n    </tr>\n    <tr>\n      <th>title</th>\n      <td>3673</td>\n      <td>70.16</td>\n    </tr>\n    <tr>\n      <th>nationalities</th>\n      <td>581</td>\n      <td>11.10</td>\n    </tr>\n    <tr>\n      <th>birth_year</th>\n      <td>561</td>\n      <td>10.72</td>\n    </tr>\n    <tr>\n      <th>death_year</th>\n      <td>544</td>\n      <td>10.39</td>\n    </tr>\n    <tr>\n      <th>viaf_url</th>\n      <td>520</td>\n      <td>9.93</td>\n    </tr>\n    <tr>\n      <th>wikipedia_url</th>\n      <td>358</td>\n      <td>6.84</td>\n    </tr>\n  </tbody>\n</table>\n</div>"
     },
     "execution_count": 15,
     "metadata": {},
     "output_type": "execute_result"
    }
   ],
   "source": [
    "known_members = pd.DataFrame({'total': total_known})\n",
    "known_members['percent'] = (known_members['total'] / len(members))*100\n",
    "known_members = known_members.sort_values(by=['total'], ascending=False)\n",
    "known_members.percent = known_members.percent.round(2)\n",
    "known_members"
   ],
   "metadata": {
    "collapsed": false
   }
  },
  {
   "cell_type": "code",
   "execution_count": 16,
   "outputs": [
    {
     "data": {
      "text/plain": "<Figure size 600x400 with 1 Axes>",
      "image/png": "[encoded data removed]"
     },
     "metadata": {},
     "output_type": "display_data"
    }
   ],
   "source": [
    "import matplotlib\n",
    "total_members = len(members.index)\n",
    "known_unknown_members = pd.DataFrame()\n",
    "known_unknown_members['known'] = known_members['total']\n",
    "\n",
    "known_unknown_members['unknown'] = known_members.total.apply(lambda x: total_members - x)\n",
    "\n",
    "known_unknown_members.plot(kind='bar', title='Known and unknown demographic information ', stacked=True, color=['purple', 'gainsboro'], figsize=(6,4))\n",
    "matplotlib.pyplot.savefig('known_unknown_demographics.svg')"
   ],
   "metadata": {
    "collapsed": false
   }
  }
 ],
 "metadata": {
  "kernelspec": {
   "display_name": "Python 3",
   "language": "python",
   "name": "python3"
  },
  "language_info": {
   "codemirror_mode": {
    "name": "ipython",
    "version": 2
   },
   "file_extension": ".py",
   "mimetype": "text/x-python",
   "name": "python",
   "nbconvert_exporter": "python",
   "pygments_lexer": "ipython2",
   "version": "2.7.6"
  }
 },
 "nbformat": 4,
 "nbformat_minor": 0
}
