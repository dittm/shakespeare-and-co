{
 "cells": [
  {
   "cell_type": "code",
   "execution_count": 14,
   "metadata": {},
   "outputs": [],
   "source": [
    "import matplotlib.pyplot as plt\n",
    "import seaborn as sns\n",
    "import pandas as pd"
   ]
  },
  {
   "cell_type": "code",
   "execution_count": 15,
   "metadata": {},
   "outputs": [],
   "source": [
    "members = pd.read_csv('../data/SCoData_members_v1.2_2022_01.csv', encoding='utf-8', dtype={'year': 'Int32'})"
   ]
  },
  {
   "cell_type": "code",
   "execution_count": 16,
   "metadata": {},
   "outputs": [
    {
     "data": {
      "text/plain": [
       "Index(['uri', 'name', 'sort_name', 'title', 'gender', 'is_organization',\n",
       "       'has_card', 'birth_year', 'death_year', 'membership_years', 'viaf_url',\n",
       "       'wikipedia_url', 'nationalities', 'addresses', 'postal_codes',\n",
       "       'arrondissements', 'coordinates', 'notes', 'updated'],\n",
       "      dtype='object')"
      ]
     },
     "execution_count": 16,
     "metadata": {},
     "output_type": "execute_result"
    }
   ],
   "source": [
    "members.columns"
   ]
  },
  {
   "cell_type": "code",
   "execution_count": 17,
   "metadata": {},
   "outputs": [
    {
     "data": {
      "text/plain": [
       "(5235, 19)"
      ]
     },
     "execution_count": 17,
     "metadata": {},
     "output_type": "execute_result"
    }
   ],
   "source": [
    "members.shape"
   ]
  },
  {
   "cell_type": "code",
   "execution_count": 18,
   "metadata": {},
   "outputs": [
    {
     "data": {
      "text/html": [
       "<div>\n",
       "<style scoped>\n",
       "    .dataframe tbody tr th:only-of-type {\n",
       "        vertical-align: middle;\n",
       "    }\n",
       "\n",
       "    .dataframe tbody tr th {\n",
       "        vertical-align: top;\n",
       "    }\n",
       "\n",
       "    .dataframe thead th {\n",
       "        text-align: right;\n",
       "    }\n",
       "</style>\n",
       "<table border=\"1\" class=\"dataframe\">\n",
       "  <thead>\n",
       "    <tr style=\"text-align: right;\">\n",
       "      <th></th>\n",
       "      <th>uri</th>\n",
       "      <th>name</th>\n",
       "      <th>sort_name</th>\n",
       "      <th>title</th>\n",
       "      <th>gender</th>\n",
       "      <th>is_organization</th>\n",
       "      <th>has_card</th>\n",
       "      <th>birth_year</th>\n",
       "      <th>death_year</th>\n",
       "      <th>membership_years</th>\n",
       "      <th>viaf_url</th>\n",
       "      <th>wikipedia_url</th>\n",
       "      <th>nationalities</th>\n",
       "      <th>addresses</th>\n",
       "      <th>postal_codes</th>\n",
       "      <th>arrondissements</th>\n",
       "      <th>coordinates</th>\n",
       "      <th>notes</th>\n",
       "      <th>updated</th>\n",
       "    </tr>\n",
       "  </thead>\n",
       "  <tbody>\n",
       "    <tr>\n",
       "      <th>2561</th>\n",
       "      <td>https://shakespeareandco.princeton.edu/members...</td>\n",
       "      <td>Johnstone</td>\n",
       "      <td>Johnstone</td>\n",
       "      <td>NaN</td>\n",
       "      <td>NaN</td>\n",
       "      <td>False</td>\n",
       "      <td>False</td>\n",
       "      <td>NaN</td>\n",
       "      <td>NaN</td>\n",
       "      <td>1934</td>\n",
       "      <td>NaN</td>\n",
       "      <td>NaN</td>\n",
       "      <td>NaN</td>\n",
       "      <td>NaN</td>\n",
       "      <td>NaN</td>\n",
       "      <td>NaN</td>\n",
       "      <td>NaN</td>\n",
       "      <td>NaN</td>\n",
       "      <td>2020-10-30T18:09:30+00:00</td>\n",
       "    </tr>\n",
       "    <tr>\n",
       "      <th>1505</th>\n",
       "      <td>https://shakespeareandco.princeton.edu/members...</td>\n",
       "      <td>Jean Duren</td>\n",
       "      <td>Duren, Jean</td>\n",
       "      <td>Mme</td>\n",
       "      <td>Female</td>\n",
       "      <td>False</td>\n",
       "      <td>True</td>\n",
       "      <td>NaN</td>\n",
       "      <td>NaN</td>\n",
       "      <td>1921;1922;1938</td>\n",
       "      <td>NaN</td>\n",
       "      <td>NaN</td>\n",
       "      <td>NaN</td>\n",
       "      <td>72 boulevard du Montparnasse, Paris;114 rue de...</td>\n",
       "      <td>75014;75007</td>\n",
       "      <td>14;7</td>\n",
       "      <td>48.84327, 2.32494;48.85294, 2.32359</td>\n",
       "      <td>NaN</td>\n",
       "      <td>2020-05-02T17:13:43+00:00</td>\n",
       "    </tr>\n",
       "    <tr>\n",
       "      <th>4984</th>\n",
       "      <td>https://shakespeareandco.princeton.edu/members...</td>\n",
       "      <td>Sarah Pressly Watson / Miss S. P. Watson</td>\n",
       "      <td>Watson, Sarah Pressly</td>\n",
       "      <td>Miss</td>\n",
       "      <td>Female</td>\n",
       "      <td>False</td>\n",
       "      <td>True</td>\n",
       "      <td>1885.0</td>\n",
       "      <td>1959.0</td>\n",
       "      <td>1925;1958;1932;1933;1941;1942;1943;1945</td>\n",
       "      <td>http://viaf.org/viaf/65579722</td>\n",
       "      <td>NaN</td>\n",
       "      <td>United States</td>\n",
       "      <td>Foyer international des étudiantes, 93 bouleva...</td>\n",
       "      <td>75005</td>\n",
       "      <td>5</td>\n",
       "      <td>48.84465, 2.33993</td>\n",
       "      <td>NaN</td>\n",
       "      <td>2019-12-29T18:24:41+00:00</td>\n",
       "    </tr>\n",
       "    <tr>\n",
       "      <th>3993</th>\n",
       "      <td>https://shakespeareandco.princeton.edu/members...</td>\n",
       "      <td>Mr. Raymond</td>\n",
       "      <td>Raymond, Mr.</td>\n",
       "      <td>Mr.</td>\n",
       "      <td>Male</td>\n",
       "      <td>False</td>\n",
       "      <td>False</td>\n",
       "      <td>NaN</td>\n",
       "      <td>NaN</td>\n",
       "      <td>1922</td>\n",
       "      <td>NaN</td>\n",
       "      <td>NaN</td>\n",
       "      <td>NaN</td>\n",
       "      <td>NaN</td>\n",
       "      <td>NaN</td>\n",
       "      <td>NaN</td>\n",
       "      <td>NaN</td>\n",
       "      <td>NaN</td>\n",
       "      <td>2019-12-31T05:04:10+00:00</td>\n",
       "    </tr>\n",
       "    <tr>\n",
       "      <th>1325</th>\n",
       "      <td>https://shakespeareandco.princeton.edu/members...</td>\n",
       "      <td>de Rochemont</td>\n",
       "      <td>de Rochemont</td>\n",
       "      <td>NaN</td>\n",
       "      <td>NaN</td>\n",
       "      <td>False</td>\n",
       "      <td>False</td>\n",
       "      <td>NaN</td>\n",
       "      <td>NaN</td>\n",
       "      <td>1932</td>\n",
       "      <td>NaN</td>\n",
       "      <td>NaN</td>\n",
       "      <td>NaN</td>\n",
       "      <td>NaN</td>\n",
       "      <td>NaN</td>\n",
       "      <td>NaN</td>\n",
       "      <td>NaN</td>\n",
       "      <td>NaN</td>\n",
       "      <td>2021-08-23T00:28:45+00:00</td>\n",
       "    </tr>\n",
       "  </tbody>\n",
       "</table>\n",
       "</div>"
      ],
      "text/plain": [
       "                                                    uri  \\\n",
       "2561  https://shakespeareandco.princeton.edu/members...   \n",
       "1505  https://shakespeareandco.princeton.edu/members...   \n",
       "4984  https://shakespeareandco.princeton.edu/members...   \n",
       "3993  https://shakespeareandco.princeton.edu/members...   \n",
       "1325  https://shakespeareandco.princeton.edu/members...   \n",
       "\n",
       "                                          name              sort_name title  \\\n",
       "2561                                 Johnstone              Johnstone   NaN   \n",
       "1505                                Jean Duren            Duren, Jean   Mme   \n",
       "4984  Sarah Pressly Watson / Miss S. P. Watson  Watson, Sarah Pressly  Miss   \n",
       "3993                               Mr. Raymond           Raymond, Mr.   Mr.   \n",
       "1325                              de Rochemont           de Rochemont   NaN   \n",
       "\n",
       "      gender  is_organization  has_card  birth_year  death_year  \\\n",
       "2561     NaN            False     False         NaN         NaN   \n",
       "1505  Female            False      True         NaN         NaN   \n",
       "4984  Female            False      True      1885.0      1959.0   \n",
       "3993    Male            False     False         NaN         NaN   \n",
       "1325     NaN            False     False         NaN         NaN   \n",
       "\n",
       "                             membership_years                       viaf_url  \\\n",
       "2561                                     1934                            NaN   \n",
       "1505                           1921;1922;1938                            NaN   \n",
       "4984  1925;1958;1932;1933;1941;1942;1943;1945  http://viaf.org/viaf/65579722   \n",
       "3993                                     1922                            NaN   \n",
       "1325                                     1932                            NaN   \n",
       "\n",
       "     wikipedia_url  nationalities  \\\n",
       "2561           NaN            NaN   \n",
       "1505           NaN            NaN   \n",
       "4984           NaN  United States   \n",
       "3993           NaN            NaN   \n",
       "1325           NaN            NaN   \n",
       "\n",
       "                                              addresses postal_codes  \\\n",
       "2561                                                NaN          NaN   \n",
       "1505  72 boulevard du Montparnasse, Paris;114 rue de...  75014;75007   \n",
       "4984  Foyer international des étudiantes, 93 bouleva...        75005   \n",
       "3993                                                NaN          NaN   \n",
       "1325                                                NaN          NaN   \n",
       "\n",
       "     arrondissements                          coordinates notes  \\\n",
       "2561             NaN                                  NaN   NaN   \n",
       "1505            14;7  48.84327, 2.32494;48.85294, 2.32359   NaN   \n",
       "4984               5                    48.84465, 2.33993   NaN   \n",
       "3993             NaN                                  NaN   NaN   \n",
       "1325             NaN                                  NaN   NaN   \n",
       "\n",
       "                        updated  \n",
       "2561  2020-10-30T18:09:30+00:00  \n",
       "1505  2020-05-02T17:13:43+00:00  \n",
       "4984  2019-12-29T18:24:41+00:00  \n",
       "3993  2019-12-31T05:04:10+00:00  \n",
       "1325  2021-08-23T00:28:45+00:00  "
      ]
     },
     "execution_count": 18,
     "metadata": {},
     "output_type": "execute_result"
    }
   ],
   "source": [
    "members.sample(5)"
   ]
  },
  {
   "cell_type": "code",
   "execution_count": 19,
   "metadata": {},
   "outputs": [
    {
     "data": {
      "image/png": "[encoded data removed]",
      "text/plain": [
       "<Figure size 1000x500 with 1 Axes>"
      ]
     },
     "metadata": {},
     "output_type": "display_data"
    },
    {
     "name": "stdout",
     "output_type": "stream",
     "text": [
      "Mode of gender distribution: Female\n"
     ]
    }
   ],
   "source": [
    "mode_gender = members['gender'].value_counts().idxmax() # mode\n",
    "\n",
    "# SINCE VALUE_COUNTS DOES NOT COUNT NAN; HOW MANY ARE UNDEFINED????\n",
    "\n",
    "count_gender = members['gender'].value_counts().sort_index()  # operate on series ; count\n",
    "\n",
    "fig, ax = plt.subplots(figsize=(10, 5))\n",
    "\n",
    "count_gender.plot(kind='bar', color='maroon', ax=ax)\n",
    "\n",
    "ax.set_xlabel('Gender')\n",
    "ax.set_ylabel('Count')\n",
    "ax.set_title('Distribution of Gender')\n",
    "\n",
    "plt.show()\n",
    "\n",
    "print(f\"Mode of gender distribution: {mode_gender}\")"
   ]
  },
  {
   "cell_type": "code",
   "execution_count": 20,
   "metadata": {},
   "outputs": [
    {
     "data": {
      "text/plain": [
       "['Female', 'Male', 'Nonbinary']"
      ]
     },
     "execution_count": 20,
     "metadata": {},
     "output_type": "execute_result"
    }
   ],
   "source": [
    "count_gender.index.tolist()"
   ]
  },
  {
   "cell_type": "code",
   "execution_count": 21,
   "metadata": {},
   "outputs": [
    {
     "name": "stdout",
     "output_type": "stream",
     "text": [
      "Entropy of gender distribution: 0.6636712663698797\n"
     ]
    }
   ],
   "source": [
    "from scipy.stats import entropy\n",
    "\n",
    "gender_counts = members['gender'].value_counts(normalize=True)\n",
    "entropy_gender = entropy(gender_counts)\n",
    "\n",
    "print(f\"Entropy of gender distribution: {entropy_gender}\")"
   ]
  },
  {
   "cell_type": "code",
   "execution_count": 22,
   "metadata": {},
   "outputs": [
    {
     "data": {
      "text/plain": [
       "Female       0.624907\n",
       "Male         0.374845\n",
       "Nonbinary    0.000248\n",
       "Name: gender, dtype: float64"
      ]
     },
     "execution_count": 22,
     "metadata": {},
     "output_type": "execute_result"
    }
   ],
   "source": [
    "gender_counts"
   ]
  },
  {
   "cell_type": "code",
   "execution_count": 13,
   "metadata": {},
   "outputs": [
    {
     "name": "stdout",
     "output_type": "stream",
     "text": [
      "Number of undefined gender values: 1196\n"
     ]
    }
   ],
   "source": [
    "undefined_gender_count = members['gender'].isna().sum()\n",
    "print(f\"Number of undefined gender values: {undefined_gender_count}\")"
   ]
  },
  {
   "cell_type": "code",
   "execution_count": 23,
   "metadata": {},
   "outputs": [
    {
     "name": "stdout",
     "output_type": "stream",
     "text": [
      "Number of defined gender values: 4039\n"
     ]
    }
   ],
   "source": [
    "total_defined_gender_count = len(members['gender']) - undefined_gender_count\n",
    "print(f\"Number of defined gender values: {total_defined_gender_count}\")"
   ]
  },
  {
   "cell_type": "code",
   "execution_count": 26,
   "metadata": {},
   "outputs": [
    {
     "name": "stdout",
     "output_type": "stream",
     "text": [
      "Number of total gender values: 5235\n"
     ]
    }
   ],
   "source": [
    "print(f\"Number of total gender values: {len(members['gender'])}\")"
   ]
  }
 ],
 "metadata": {
  "kernelspec": {
   "display_name": "Python 3",
   "language": "python",
   "name": "python3"
  },
  "language_info": {
   "codemirror_mode": {
    "name": "ipython",
    "version": 3
   },
   "file_extension": ".py",
   "mimetype": "text/x-python",
   "name": "python",
   "nbconvert_exporter": "python",
   "pygments_lexer": "ipython3",
   "version": "3.10.9"
  }
 },
 "nbformat": 4,
 "nbformat_minor": 2
}
