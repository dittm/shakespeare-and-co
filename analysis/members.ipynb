{
 "cells": [
  {
   "cell_type": "code",
   "execution_count": 1,
   "metadata": {},
   "outputs": [
    {
     "ename": "ModuleNotFoundError",
     "evalue": "No module named 'matplotlib'",
     "output_type": "error",
     "traceback": [
      "\u001b[1;31m---------------------------------------------------------------------------\u001b[0m",
      "\u001b[1;31mModuleNotFoundError\u001b[0m                       Traceback (most recent call last)",
      "Cell \u001b[1;32mIn[1], line 1\u001b[0m\n\u001b[1;32m----> 1\u001b[0m \u001b[38;5;28;01mimport\u001b[39;00m \u001b[38;5;21;01mmatplotlib\u001b[39;00m\u001b[38;5;21;01m.\u001b[39;00m\u001b[38;5;21;01mpyplot\u001b[39;00m \u001b[38;5;28;01mas\u001b[39;00m \u001b[38;5;21;01mplt\u001b[39;00m\n\u001b[0;32m      2\u001b[0m \u001b[38;5;28;01mimport\u001b[39;00m \u001b[38;5;21;01mseaborn\u001b[39;00m \u001b[38;5;28;01mas\u001b[39;00m \u001b[38;5;21;01msns\u001b[39;00m\n\u001b[0;32m      3\u001b[0m \u001b[38;5;28;01mimport\u001b[39;00m \u001b[38;5;21;01mpandas\u001b[39;00m \u001b[38;5;28;01mas\u001b[39;00m \u001b[38;5;21;01mpd\u001b[39;00m\n",
      "\u001b[1;31mModuleNotFoundError\u001b[0m: No module named 'matplotlib'"
     ]
    }
   ],
   "source": [
    "import matplotlib.pyplot as plt\n",
    "import seaborn as sns\n",
    "import pandas as pd"
   ]
  },
  {
   "cell_type": "code",
   "execution_count": null,
   "metadata": {},
   "outputs": [],
   "source": [
    "members = pd.read_csv('../data/SCoData_members_v1.2_2022_01.csv', encoding='utf-8', dtype={'year': 'Int32'})"
   ]
  },
  {
   "cell_type": "code",
   "execution_count": null,
   "metadata": {},
   "outputs": [],
   "source": [
    "members.columns"
   ]
  },
  {
   "cell_type": "code",
   "execution_count": null,
   "metadata": {},
   "outputs": [],
   "source": [
    "members.shape"
   ]
  },
  {
   "cell_type": "code",
   "execution_count": null,
   "metadata": {},
   "outputs": [],
   "source": [
    "members.sample(5)"
   ]
  },
  {
   "cell_type": "markdown",
   "metadata": {},
   "source": [
    "explanation of gender in the dataset https://docs.google.com/document/d/16O2SFzSe4bv39rrKCY4A9zG1yWbfC6_63kXTAj-oefY/edit"
   ]
  },
  {
   "cell_type": "code",
   "execution_count": null,
   "metadata": {},
   "outputs": [],
   "source": [
    "mode_gender = members['gender'].value_counts().idxmax() # mode\n",
    "\n",
    "# SINCE VALUE_COUNTS DOES NOT COUNT NAN; HOW MANY ARE UNDEFINED????\n",
    "\n",
    "count_gender = members['gender'].value_counts().sort_index()  # operate on series ; count\n",
    "\n",
    "fig, ax = plt.subplots(figsize=(10, 5))\n",
    "\n",
    "count_gender.plot(kind='bar', color='maroon', ax=ax)\n",
    "\n",
    "ax.set_xlabel('Gender')\n",
    "ax.set_ylabel('Count')\n",
    "ax.set_title('Distribution of Gender')\n",
    "\n",
    "plt.show()\n",
    "\n",
    "print(f\"Mode of gender distribution: {mode_gender}\")"
   ]
  },
  {
   "cell_type": "code",
   "execution_count": null,
   "metadata": {},
   "outputs": [],
   "source": [
    "count_gender.index.tolist()"
   ]
  },
  {
   "cell_type": "code",
   "execution_count": null,
   "metadata": {},
   "outputs": [],
   "source": [
    "from scipy.stats import entropy\n",
    "\n",
    "gender_counts = members['gender'].value_counts(normalize=True)\n",
    "entropy_gender = entropy(gender_counts)\n",
    "\n",
    "print(f\"Entropy of gender distribution: {entropy_gender}\")"
   ]
  },
  {
   "cell_type": "code",
   "execution_count": null,
   "metadata": {},
   "outputs": [],
   "source": [
    "gender_counts"
   ]
  },
  {
   "cell_type": "code",
   "execution_count": null,
   "metadata": {},
   "outputs": [],
   "source": [
    "undefined_gender_count = members['gender'].isna().sum()\n",
    "print(f\"Number of undefined gender values: {undefined_gender_count}\")"
   ]
  },
  {
   "cell_type": "code",
   "execution_count": null,
   "metadata": {},
   "outputs": [],
   "source": [
    "total_defined_gender_count = len(members['gender']) - undefined_gender_count\n",
    "print(f\"Number of defined gender values: {total_defined_gender_count}\")"
   ]
  },
  {
   "cell_type": "code",
   "execution_count": null,
   "metadata": {},
   "outputs": [],
   "source": [
    "print(f\"Number of total gender values: {len(members['gender'])}\")"
   ]
  },
  {
   "cell_type": "code",
   "execution_count": null,
   "metadata": {},
   "outputs": [],
   "source": [
    "members[['sort_name','gender','notes']].sample(7)"
   ]
  },
  {
   "cell_type": "code",
   "execution_count": null,
   "metadata": {},
   "outputs": [],
   "source": [
    "unnamed_members_count = (members['sort_name'] == '[unnamed member]').sum()\n",
    "unnamed_members_count"
   ]
  },
  {
   "cell_type": "code",
   "execution_count": null,
   "metadata": {},
   "outputs": [],
   "source": [
    "members[['title']].sample(8)"
   ]
  },
  {
   "cell_type": "code",
   "execution_count": null,
   "metadata": {},
   "outputs": [],
   "source": [
    "mode_title = members['title'].value_counts().idxmax() # mode\n",
    "\n",
    "count_title = members['title'].value_counts().sort_index()  # operate on series ; count\n",
    "\n",
    "fig, ax = plt.subplots(figsize=(10, 5))\n",
    "\n",
    "count_title.plot(kind='bar', color='maroon', ax=ax)\n",
    "\n",
    "ax.set_xlabel('Title')\n",
    "ax.set_ylabel('Count')\n",
    "ax.set_title('Distribution of title')\n",
    "\n",
    "plt.show()\n",
    "\n",
    "print(f\"Mode of title distribution: {mode_title}\")"
   ]
  },
  {
   "cell_type": "code",
   "execution_count": null,
   "metadata": {},
   "outputs": [],
   "source": [
    "mode_nationalities = members['nationalities'].value_counts().idxmax() # mode\n",
    "\n",
    "count_nationalities = members['nationalities'].value_counts().sort_index()  # operate on series ; count\n",
    "\n",
    "fig, ax = plt.subplots(figsize=(10, 5))\n",
    "\n",
    "count_nationalities.plot(kind='bar', color='maroon', ax=ax)\n",
    "\n",
    "ax.set_xlabel('nationalities')\n",
    "ax.set_ylabel('Count')\n",
    "ax.set_title('Distribution of nationalities')\n",
    "\n",
    "plt.show()\n",
    "\n",
    "print(f\"Mode of nationalities distribution: {mode_nationalities}\")"
   ]
  },
  {
   "cell_type": "code",
   "execution_count": null,
   "metadata": {},
   "outputs": [],
   "source": [
    "unknown_nationalities_members_count = members['nationalities'].isna().sum()\n",
    "print(f\"Number of members with unknown nationalities: {unknown_nationalities_members_count}\")"
   ]
  },
  {
   "cell_type": "code",
   "execution_count": null,
   "metadata": {},
   "outputs": [],
   "source": [
    "known_nationalities_members_count = len(members['nationalities']) - unknown_nationalities_members_count\n",
    "print(f\"Number of members with known nationalities: {known_nationalities_members_count}\")"
   ]
  },
  {
   "cell_type": "code",
   "execution_count": null,
   "metadata": {},
   "outputs": [],
   "source": [
    "mode_has_card = members['has_card'].value_counts().idxmax() # mode\n",
    "\n",
    "count_has_card= members['has_card'].value_counts().sort_index()  # operate on series ; count\n",
    "\n",
    "fig, ax = plt.subplots(figsize=(10, 5))\n",
    "\n",
    "count_has_card.plot(kind='bar', color='maroon', ax=ax)\n",
    "\n",
    "ax.set_xlabel('has_card')\n",
    "ax.set_ylabel('Count')\n",
    "ax.set_title('Distribution of has_card')\n",
    "\n",
    "plt.show()\n",
    "\n",
    "print(f\"Mode of has_card distribution: {mode_has_card}\")"
   ]
  },
  {
   "cell_type": "code",
   "execution_count": null,
   "metadata": {},
   "outputs": [],
   "source": [
    "mode_is_organization = members['is_organization'].value_counts().idxmax() # mode\n",
    "\n",
    "count_is_organization = members['is_organization'].value_counts().sort_index()  # operate on series ; count\n",
    "\n",
    "fig, ax = plt.subplots(figsize=(10, 5))\n",
    "\n",
    "count_is_organization.plot(kind='bar', color='maroon', ax=ax)\n",
    "\n",
    "ax.set_xlabel('is_organization')\n",
    "ax.set_ylabel('Count')\n",
    "ax.set_title('Distribution of is_organization')\n",
    "\n",
    "plt.show()\n",
    "\n",
    "print(f\"Mode of is_organization distribution: {mode_is_organization}\")"
   ]
  },
  {
   "cell_type": "code",
   "execution_count": null,
   "metadata": {},
   "outputs": [],
   "source": [
    "count_is_organization # TO DO USE unique"
   ]
  },
  {
   "cell_type": "code",
   "execution_count": null,
   "metadata": {},
   "outputs": [],
   "source": [
    "is_organization_members = members[members['is_organization'] == True]['sort_name'].unique().tolist() # using .unique() bc British Institute appears twice\n",
    "is_organization_members"
   ]
  }
 ],
 "metadata": {
  "kernelspec": {
   "display_name": "Python 3",
   "language": "python",
   "name": "python3"
  },
  "language_info": {
   "codemirror_mode": {
    "name": "ipython",
    "version": 3
   },
   "file_extension": ".py",
   "mimetype": "text/x-python",
   "name": "python",
   "nbconvert_exporter": "python",
   "pygments_lexer": "ipython3",
   "version": "3.12.2"
  }
 },
 "nbformat": 4,
 "nbformat_minor": 2
}
