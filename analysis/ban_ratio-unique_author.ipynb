{
 "cells": [
  {
   "cell_type": "code",
   "execution_count": null,
   "outputs": [],
   "source": [
    "import pandas as pd\n",
    "import numpy as np"
   ],
   "metadata": {
    "collapsed": false
   }
  },
  {
   "cell_type": "code",
   "execution_count": null,
   "outputs": [],
   "source": [
    "sco_books = pd.read_csv('../data/SCoData_books_v1.2_2022_01.csv', encoding='utf-8', dtype={'year': 'Int32'})\n",
    "sco_books.sample(5)"
   ],
   "metadata": {
    "collapsed": false
   }
  },
  {
   "cell_type": "code",
   "execution_count": null,
   "outputs": [],
   "source": [
    "ban_books = pd.read_csv('../data/banned_books.csv', encoding='utf-8', dtype={'date_banned': 'Int32'})\n",
    "ban_books.sample(5)"
   ],
   "metadata": {
    "collapsed": false
   }
  },
  {
   "cell_type": "code",
   "execution_count": null,
   "outputs": [],
   "source": [
    "ban_books.columns"
   ],
   "metadata": {
    "collapsed": false
   }
  },
  {
   "cell_type": "code",
   "execution_count": null,
   "outputs": [],
   "source": [
    "ban_books.shape"
   ],
   "metadata": {
    "collapsed": false
   }
  },
  {
   "cell_type": "code",
   "execution_count": null,
   "outputs": [],
   "source": [
    "ban_books_aut = ban_books[['author']]\n",
    "ban_books_aut.rename(columns={'author':'ban_author'}, inplace=True)\n",
    "ban_books_aut"
   ],
   "metadata": {
    "collapsed": false
   }
  },
  {
   "cell_type": "code",
   "execution_count": null,
   "outputs": [],
   "source": [
    "ban_books_aut_unique = ban_books_aut.drop_duplicates()\n",
    "ban_books_aut_unique.sample(10)"
   ],
   "metadata": {
    "collapsed": false
   }
  },
  {
   "cell_type": "code",
   "execution_count": null,
   "outputs": [],
   "source": [
    "ban_books_aut_unique.shape"
   ],
   "metadata": {
    "collapsed": false
   }
  },
  {
   "cell_type": "code",
   "execution_count": null,
   "outputs": [],
   "source": [
    "sco_books_aut = sco_books[sco_books['format'] == 'Book'][['author', 'title', 'format', 'year']].dropna()\n",
    "sco_books_aut.rename(columns={'author':'sco_author'}, inplace=True)\n",
    "sco_books_aut = sco_books_aut[~sco_books_aut['sco_author'].str.contains(';')] # ~ negates condition\n",
    "sco_books_aut = sco_books_aut[(sco_books_aut['year'] >= 1919) & (sco_books_aut['year'] <= 1941)] # book published between 1919 and 1941\n",
    "sco_books_aut.shape"
   ],
   "metadata": {
    "collapsed": false
   }
  },
  {
   "cell_type": "code",
   "execution_count": null,
   "outputs": [],
   "source": [
    "sco_books_aut_unique = sco_books_aut.drop_duplicates(subset=['sco_author'])\n",
    "sco_books_aut_unique.sample(7)\n",
    "sco_books_aut_unique.shape"
   ],
   "metadata": {
    "collapsed": false
   }
  },
  {
   "cell_type": "code",
   "execution_count": null,
   "outputs": [],
   "source": [
    "sco_books_aut_unique.sample(10)"
   ],
   "metadata": {
    "collapsed": false
   }
  },
  {
   "cell_type": "code",
   "execution_count": null,
   "outputs": [],
   "source": [
    "import matplotlib.pyplot as plt\n",
    "from matplotlib_venn import venn2\n",
    "\n",
    "ban_unique_authors = len(set(ban_books_aut_unique['ban_author']))\n",
    "sco_unique_authors = len(set(sco_books_aut_unique['sco_author']))\n",
    "\n",
    "intersection_authors = len(set(ban_books_aut_unique['ban_author']).intersection(set(sco_books_aut_unique['sco_author'])))\n",
    "\n",
    "venn2(subsets=(ban_unique_authors, sco_unique_authors, intersection_authors),\n",
    "      set_labels=('ban_books', 'sco_books'))\n",
    "\n",
    "plt.title('intersection of authors between ban_books and sco_books')\n",
    "plt.show()"
   ],
   "metadata": {
    "collapsed": false
   }
  },
  {
   "cell_type": "code",
   "execution_count": null,
   "outputs": [],
   "source": [
    "ban_books_aut_unique.rename(columns={'author': 'ban_author'}, inplace=True)\n",
    "\n",
    "sco_books_aut_unique.rename(columns={'author': 'sco\n",
    "import numpy as np"
   ],
   "metadata": {
    "collapsed": false
   }
  },
  {
   "cell_type": "code",
   "execution_count": 62,
   "metadata": {},
   "outputs": [
    {
     "data": {
      "text/html": [
       "<div>\n",
       "<style scoped>\n",
       "    .dataframe tbody tr th:only-of-type {\n",
       "        vertical-align: middle;\n",
       "    }\n",
       "\n",
       "    .dataframe tbody tr th {\n",
       "        vertical-align: top;\n",
       "    }\n",
       "\n",
       "    .dataframe thead th {\n",
       "        text-align: right;\n",
       "    }\n",
       "</style>\n",
       "<table border=\"1\" class=\"dataframe\">\n",
       "  <thead>\n",
       "    <tr style=\"text-align: right;\">\n",
       "      <th></th>\n",
       "      <th>uri</th>\n",
       "      <th>title</th>\n",
       "      <th>author</th>\n",
       "      <th>editor</th>\n",
       "      <th>translator</th>\n",
       "      <th>introduction</th>\n",
       "      <th>illustrator</th>\n",
       "      <th>photographer</th>\n",
       "      <th>year</th>\n",
       "      <th>format</th>\n",
       "      <th>uncertain</th>\n",
       "      <th>ebook_url</th>\n",
       "      <th>volumes_issues</th>\n",
       "      <th>notes</th>\n",
       "      <th>event_count</th>\n",
       "      <th>borrow_count</th>\n",
       "      <th>purchase_count</th>\n",
       "      <th>circulation_years</th>\n",
       "      <th>updated</th>\n",
       "    </tr>\n",
       "  </thead>\n",
       "  <tbody>\n",
       "    <tr>\n",
       "      <th>253</th>\n",
       "      <td>https://shakespeareandco.princeton.edu/books/d...</td>\n",
       "      <td>Lothair</td>\n",
       "      <td>Disraeli, Benjamin</td>\n",
       "      <td>NaN</td>\n",
       "      <td>NaN</td>\n",
       "      <td>NaN</td>\n",
       "      <td>NaN</td>\n",
       "      <td>NaN</td>\n",
       "      <td>1870</td>\n",
       "      <td>Book</td>\n",
       "      <td>False</td>\n",
       "      <td>https://archive.org/details/lothair06disrgoog/...</td>\n",
       "      <td>NaN</td>\n",
       "      <td>NaN</td>\n",
       "      <td>3</td>\n",
       "      <td>2</td>\n",
       "      <td>0</td>\n",
       "      <td>1928;1940;1927</td>\n",
       "      <td>2020-08-11T23:13:15+00:00</td>\n",
       "    </tr>\n",
       "    <tr>\n",
       "      <th>1333</th>\n",
       "      <td>https://shakespeareandco.princeton.edu/books/m...</td>\n",
       "      <td>One of Our Grandmothers</td>\n",
       "      <td>Mayne, Ethel Colburn</td>\n",
       "      <td>NaN</td>\n",
       "      <td>NaN</td>\n",
       "      <td>NaN</td>\n",
       "      <td>NaN</td>\n",
       "      <td>NaN</td>\n",
       "      <td>1916</td>\n",
       "      <td>Book</td>\n",
       "      <td>False</td>\n",
       "      <td>NaN</td>\n",
       "      <td>NaN</td>\n",
       "      <td>NaN</td>\n",
       "      <td>2</td>\n",
       "      <td>2</td>\n",
       "      <td>0</td>\n",
       "      <td>1930;1926</td>\n",
       "      <td>2020-04-30T19:40:17+00:00</td>\n",
       "    </tr>\n",
       "    <tr>\n",
       "      <th>1027</th>\n",
       "      <td>https://shakespeareandco.princeton.edu/books/f...</td>\n",
       "      <td>Dawn O'Hara: The Girl Who Laughed</td>\n",
       "      <td>Ferber, Edna</td>\n",
       "      <td>NaN</td>\n",
       "      <td>NaN</td>\n",
       "      <td>NaN</td>\n",
       "      <td>NaN</td>\n",
       "      <td>NaN</td>\n",
       "      <td>1911</td>\n",
       "      <td>Book</td>\n",
       "      <td>False</td>\n",
       "      <td>https://archive.org/details/cu31924022410736/p...</td>\n",
       "      <td>NaN</td>\n",
       "      <td>NaN</td>\n",
       "      <td>4</td>\n",
       "      <td>4</td>\n",
       "      <td>0</td>\n",
       "      <td>1939;1925;1926</td>\n",
       "      <td>2020-06-07T20:36:46+00:00</td>\n",
       "    </tr>\n",
       "    <tr>\n",
       "      <th>219</th>\n",
       "      <td>https://shakespeareandco.princeton.edu/books/g...</td>\n",
       "      <td>Wives and Daughters</td>\n",
       "      <td>Gaskell, Elizabeth</td>\n",
       "      <td>NaN</td>\n",
       "      <td>NaN</td>\n",
       "      <td>NaN</td>\n",
       "      <td>NaN</td>\n",
       "      <td>NaN</td>\n",
       "      <td>1864</td>\n",
       "      <td>Book</td>\n",
       "      <td>False</td>\n",
       "      <td>https://archive.org/details/wivesanddaughte00u...</td>\n",
       "      <td>NaN</td>\n",
       "      <td>NaN</td>\n",
       "      <td>2</td>\n",
       "      <td>2</td>\n",
       "      <td>0</td>\n",
       "      <td>1924;1926</td>\n",
       "      <td>2020-05-26T03:07:51+00:00</td>\n",
       "    </tr>\n",
       "    <tr>\n",
       "      <th>2547</th>\n",
       "      <td>https://shakespeareandco.princeton.edu/books/m...</td>\n",
       "      <td>Bittern Point</td>\n",
       "      <td>MacFadyen, Virginia</td>\n",
       "      <td>NaN</td>\n",
       "      <td>NaN</td>\n",
       "      <td>NaN</td>\n",
       "      <td>NaN</td>\n",
       "      <td>NaN</td>\n",
       "      <td>1926</td>\n",
       "      <td>Book</td>\n",
       "      <td>False</td>\n",
       "      <td>NaN</td>\n",
       "      <td>NaN</td>\n",
       "      <td>NaN</td>\n",
       "      <td>1</td>\n",
       "      <td>1</td>\n",
       "      <td>0</td>\n",
       "      <td>1926</td>\n",
       "      <td>2020-06-19T01:34:23+00:00</td>\n",
       "    </tr>\n",
       "  </tbody>\n",
       "</table>\n",
       "</div>"
      ],
      "text/plain": [
       "                                                    uri  \\\n",
       "253   https://shakespeareandco.princeton.edu/books/d...   \n",
       "1333  https://shakespeareandco.princeton.edu/books/m...   \n",
       "1027  https://shakespeareandco.princeton.edu/books/f...   \n",
       "219   https://shakespeareandco.princeton.edu/books/g...   \n",
       "2547  https://shakespeareandco.princeton.edu/books/m...   \n",
       "\n",
       "                                  title                author editor  \\\n",
       "253                             Lothair    Disraeli, Benjamin    NaN   \n",
       "1333            One of Our Grandmothers  Mayne, Ethel Colburn    NaN   \n",
       "1027  Dawn O'Hara: The Girl Who Laughed          Ferber, Edna    NaN   \n",
       "219                 Wives and Daughters    Gaskell, Elizabeth    NaN   \n",
       "2547                      Bittern Point   MacFadyen, Virginia    NaN   \n",
       "\n",
       "     translator introduction illustrator photographer  year format  uncertain  \\\n",
       "253         NaN          NaN         NaN          NaN  1870   Book      False   \n",
       "1333        NaN          NaN         NaN          NaN  1916   Book      False   \n",
       "1027        NaN          NaN         NaN          NaN  1911   Book      False   \n",
       "219         NaN          NaN         NaN          NaN  1864   Book      False   \n",
       "2547        NaN          NaN         NaN          NaN  1926   Book      False   \n",
       "\n",
       "                                              ebook_url volumes_issues notes  \\\n",
       "253   https://archive.org/details/lothair06disrgoog/...            NaN   NaN   \n",
       "1333                                                NaN            NaN   NaN   \n",
       "1027  https://archive.org/details/cu31924022410736/p...            NaN   NaN   \n",
       "219   https://archive.org/details/wivesanddaughte00u...            NaN   NaN   \n",
       "2547                                                NaN            NaN   NaN   \n",
       "\n",
       "      event_count  borrow_count  purchase_count circulation_years  \\\n",
       "253             3             2               0    1928;1940;1927   \n",
       "1333            2             2               0         1930;1926   \n",
       "1027            4             4               0    1939;1925;1926   \n",
       "219             2             2               0         1924;1926   \n",
       "2547            1             1               0              1926   \n",
       "\n",
       "                        updated  \n",
       "253   2020-08-11T23:13:15+00:00  \n",
       "1333  2020-04-30T19:40:17+00:00  \n",
       "1027  2020-06-07T20:36:46+00:00  \n",
       "219   2020-05-26T03:07:51+00:00  \n",
       "2547  2020-06-19T01:34:23+00:00  "
      ]
     },
     "execution_count": 62,
     "metadata": {},
     "output_type": "execute_result"
    }
   ],
   "source": [
    "sco_books = pd.read_csv('../data/SCoData_books_v1.2_2022_01.csv', encoding='utf-8', dtype={'year': 'Int32'})\n",
    "sco_books.sample(5)"
   ]
  },
  {
   "cell_type": "code",
   "execution_count": 63,
   "metadata": {},
   "outputs": [
    {
     "data": {
      "text/html": [
       "<div>\n",
       "<style scoped>\n",
       "    .dataframe tbody tr th:only-of-type {\n",
       "        vertical-align: middle;\n",
       "    }\n",
       "\n",
       "    .dataframe tbody tr th {\n",
       "        vertical-align: top;\n",
       "    }\n",
       "\n",
       "    .dataframe thead th {\n",
       "        text-align: right;\n",
       "    }\n",
       "</style>\n",
       "<table border=\"1\" class=\"dataframe\">\n",
       "  <thead>\n",
       "    <tr style=\"text-align: right;\">\n",
       "      <th></th>\n",
       "      <th>title</th>\n",
       "      <th>author</th>\n",
       "      <th>viaf_url</th>\n",
       "      <th>country</th>\n",
       "      <th>date_banned</th>\n",
       "      <th>source</th>\n",
       "      <th>note</th>\n",
       "    </tr>\n",
       "  </thead>\n",
       "  <tbody>\n",
       "    <tr>\n",
       "      <th>58</th>\n",
       "      <td>Women in Love</td>\n",
       "      <td>Lawrence, D. H.</td>\n",
       "      <td>http://viaf.org/viaf/95150359</td>\n",
       "      <td>USA</td>\n",
       "      <td>1922</td>\n",
       "      <td>https://babel.hathitrust.org/cgi/pt?id=mdp.390...</td>\n",
       "      <td>Work was seized but not banned</td>\n",
       "    </tr>\n",
       "    <tr>\n",
       "      <th>166</th>\n",
       "      <td>Going Native</td>\n",
       "      <td>Gogarty, Oliver St. John</td>\n",
       "      <td>http://viaf.org/viaf/32004745</td>\n",
       "      <td>Ireland</td>\n",
       "      <td>1942</td>\n",
       "      <td>https://sites.nd.edu/irish-hesburgh/censorship/</td>\n",
       "      <td>NaN</td>\n",
       "    </tr>\n",
       "    <tr>\n",
       "      <th>202</th>\n",
       "      <td>Little Pitchers</td>\n",
       "      <td>Glenn, Isa</td>\n",
       "      <td>http://viaf.org/viaf/23629021</td>\n",
       "      <td>USA</td>\n",
       "      <td>&lt;NA&gt;</td>\n",
       "      <td>https://archive.org/details/censorshipinbost01...</td>\n",
       "      <td>NaN</td>\n",
       "    </tr>\n",
       "    <tr>\n",
       "      <th>231</th>\n",
       "      <td>The Complete Works of Ralph Waldo Emerson: Com...</td>\n",
       "      <td>Emerson, Ralph Waldo</td>\n",
       "      <td>http://viaf.org/viaf/27079964</td>\n",
       "      <td>NaN</td>\n",
       "      <td>&lt;NA&gt;</td>\n",
       "      <td>NaN</td>\n",
       "      <td>Banned from Harvard</td>\n",
       "    </tr>\n",
       "    <tr>\n",
       "      <th>167</th>\n",
       "      <td>Julie</td>\n",
       "      <td>Stuart, Francis</td>\n",
       "      <td>http://viaf.org/viaf/92675428</td>\n",
       "      <td>Ireland</td>\n",
       "      <td>1939</td>\n",
       "      <td>https://sites.nd.edu/irish-hesburgh/censorship/</td>\n",
       "      <td>NaN</td>\n",
       "    </tr>\n",
       "  </tbody>\n",
       "</table>\n",
       "</div>"
      ],
      "text/plain": [
       "                                                 title  \\\n",
       "58                                       Women in Love   \n",
       "166                                       Going Native   \n",
       "202                                    Little Pitchers   \n",
       "231  The Complete Works of Ralph Waldo Emerson: Com...   \n",
       "167                                              Julie   \n",
       "\n",
       "                       author                       viaf_url  country  \\\n",
       "58            Lawrence, D. H.  http://viaf.org/viaf/95150359      USA   \n",
       "166  Gogarty, Oliver St. John  http://viaf.org/viaf/32004745  Ireland   \n",
       "202                Glenn, Isa  http://viaf.org/viaf/23629021      USA   \n",
       "231      Emerson, Ralph Waldo  http://viaf.org/viaf/27079964      NaN   \n",
       "167           Stuart, Francis  http://viaf.org/viaf/92675428  Ireland   \n",
       "\n",
       "     date_banned                                             source  \\\n",
       "58          1922  https://babel.hathitrust.org/cgi/pt?id=mdp.390...   \n",
       "166         1942    https://sites.nd.edu/irish-hesburgh/censorship/   \n",
       "202         <NA>  https://archive.org/details/censorshipinbost01...   \n",
       "231         <NA>                                                NaN   \n",
       "167         1939    https://sites.nd.edu/irish-hesburgh/censorship/   \n",
       "\n",
       "                               note  \n",
       "58   Work was seized but not banned  \n",
       "166                             NaN  \n",
       "202                             NaN  \n",
       "231             Banned from Harvard  \n",
       "167                             NaN  "
      ]
     },
     "execution_count": 63,
     "metadata": {},
     "output_type": "execute_result"
    }
   ],
   "source": [
    "ban_books = pd.read_csv('../data/banned_books.csv', encoding='utf-8', dtype={'date_banned': 'Int32'})\n",
    "ban_books.sample(5)"
   ]
  },
  {
   "cell_type": "code",
   "execution_count": 64,
   "metadata": {},
   "outputs": [
    {
     "data": {
      "text/plain": [
       "Index(['title', 'author', 'viaf_url', 'country', 'date_banned', 'source',\n",
       "       'note'],\n",
       "      dtype='object')"
      ]
     },
     "execution_count": 64,
     "metadata": {},
     "output_type": "execute_result"
    }
   ],
   "source": [
    "ban_books.columns"
   ]
  },
  {
   "cell_type": "code",
   "execution_count": 65,
   "metadata": {},
   "outputs": [
    {
     "data": {
      "text/plain": [
       "(251, 7)"
      ]
     },
     "execution_count": 65,
     "metadata": {},
     "output_type": "execute_result"
    }
   ],
   "source": [
    "ban_books.shape"
   ]
  },
  {
   "cell_type": "code",
   "execution_count": 66,
   "metadata": {},
   "outputs": [
    {
     "name": "stderr",
     "output_type": "stream",
     "text": [
      "C:\\Users\\dittm\\AppData\\Local\\Temp\\ipykernel_20232\\3768331347.py:2: SettingWithCopyWarning: \n",
      "A value is trying to be set on a copy of a slice from a DataFrame\n",
      "\n",
      "See the caveats in the documentation: https://pandas.pydata.org/pandas-docs/stable/user_guide/indexing.html#returning-a-view-versus-a-copy\n",
      "  ban_books_aut.rename(columns={'author':'ban_author'}, inplace=True)\n"
     ]
    },
    {
     "data": {
      "text/html": [
       "<div>\n",
       "<style scoped>\n",
       "    .dataframe tbody tr th:only-of-type {\n",
       "        vertical-align: middle;\n",
       "    }\n",
       "\n",
       "    .dataframe tbody tr th {\n",
       "        vertical-align: top;\n",
       "    }\n",
       "\n",
       "    .dataframe thead th {\n",
       "        text-align: right;\n",
       "    }\n",
       "</style>\n",
       "<table border=\"1\" class=\"dataframe\">\n",
       "  <thead>\n",
       "    <tr style=\"text-align: right;\">\n",
       "      <th></th>\n",
       "      <th>ban_author</th>\n",
       "    </tr>\n",
       "  </thead>\n",
       "  <tbody>\n",
       "    <tr>\n",
       "      <th>0</th>\n",
       "      <td>Aristophanes</td>\n",
       "    </tr>\n",
       "    <tr>\n",
       "      <th>1</th>\n",
       "      <td>Ovid</td>\n",
       "    </tr>\n",
       "    <tr>\n",
       "      <th>2</th>\n",
       "      <td>Apuleius, Lucius</td>\n",
       "    </tr>\n",
       "    <tr>\n",
       "      <th>3</th>\n",
       "      <td>Shakespeare, William</td>\n",
       "    </tr>\n",
       "    <tr>\n",
       "      <th>4</th>\n",
       "      <td>Shakespeare, William</td>\n",
       "    </tr>\n",
       "    <tr>\n",
       "      <th>...</th>\n",
       "      <td>...</td>\n",
       "    </tr>\n",
       "    <tr>\n",
       "      <th>246</th>\n",
       "      <td>Lofting, Hugh</td>\n",
       "    </tr>\n",
       "    <tr>\n",
       "      <th>247</th>\n",
       "      <td>Dos Passos, John</td>\n",
       "    </tr>\n",
       "    <tr>\n",
       "      <th>248</th>\n",
       "      <td>Aragon, Louis</td>\n",
       "    </tr>\n",
       "    <tr>\n",
       "      <th>249</th>\n",
       "      <td>Stalin, Joseph</td>\n",
       "    </tr>\n",
       "    <tr>\n",
       "      <th>250</th>\n",
       "      <td>Murry, John Middleton</td>\n",
       "    </tr>\n",
       "  </tbody>\n",
       "</table>\n",
       "<p>251 rows × 1 columns</p>\n",
       "</div>"
      ],
      "text/plain": [
       "                ban_author\n",
       "0             Aristophanes\n",
       "1                     Ovid\n",
       "2         Apuleius, Lucius\n",
       "3     Shakespeare, William\n",
       "4     Shakespeare, William\n",
       "..                     ...\n",
       "246          Lofting, Hugh\n",
       "247       Dos Passos, John\n",
       "248          Aragon, Louis\n",
       "249         Stalin, Joseph\n",
       "250  Murry, John Middleton\n",
       "\n",
       "[251 rows x 1 columns]"
      ]
     },
     "execution_count": 66,
     "metadata": {},
     "output_type": "execute_result"
    }
   ],
   "source": [
    "ban_books_aut = ban_books[['author']]\n",
    "ban_books_aut.rename(columns={'author':'ban_author'}, inplace=True)\n",
    "ban_books_aut"
   ]
  },
  {
   "cell_type": "code",
   "execution_count": 67,
   "metadata": {},
   "outputs": [
    {
     "data": {
      "text/html": [
       "<div>\n",
       "<style scoped>\n",
       "    .dataframe tbody tr th:only-of-type {\n",
       "        vertical-align: middle;\n",
       "    }\n",
       "\n",
       "    .dataframe tbody tr th {\n",
       "        vertical-align: top;\n",
       "    }\n",
       "\n",
       "    .dataframe thead th {\n",
       "        text-align: right;\n",
       "    }\n",
       "</style>\n",
       "<table border=\"1\" class=\"dataframe\">\n",
       "  <thead>\n",
       "    <tr style=\"text-align: right;\">\n",
       "      <th></th>\n",
       "      <th>ban_author</th>\n",
       "    </tr>\n",
       "  </thead>\n",
       "  <tbody>\n",
       "    <tr>\n",
       "      <th>122</th>\n",
       "      <td>Hanley, James</td>\n",
       "    </tr>\n",
       "    <tr>\n",
       "      <th>157</th>\n",
       "      <td>Clarke, Austin</td>\n",
       "    </tr>\n",
       "    <tr>\n",
       "      <th>17</th>\n",
       "      <td>Marx, Karl</td>\n",
       "    </tr>\n",
       "    <tr>\n",
       "      <th>129</th>\n",
       "      <td>Mitchell, Margaret</td>\n",
       "    </tr>\n",
       "    <tr>\n",
       "      <th>218</th>\n",
       "      <td>Hauptmann, Gerhart</td>\n",
       "    </tr>\n",
       "    <tr>\n",
       "      <th>199</th>\n",
       "      <td>Footner, Hulbert</td>\n",
       "    </tr>\n",
       "    <tr>\n",
       "      <th>47</th>\n",
       "      <td>Cabell, James Branch</td>\n",
       "    </tr>\n",
       "    <tr>\n",
       "      <th>229</th>\n",
       "      <td>Norris, Frank</td>\n",
       "    </tr>\n",
       "    <tr>\n",
       "      <th>62</th>\n",
       "      <td>Lewis, Sinclair</td>\n",
       "    </tr>\n",
       "    <tr>\n",
       "      <th>38</th>\n",
       "      <td>Dreiser, Theodore</td>\n",
       "    </tr>\n",
       "  </tbody>\n",
       "</table>\n",
       "</div>"
      ],
      "text/plain": [
       "               ban_author\n",
       "122         Hanley, James\n",
       "157        Clarke, Austin\n",
       "17             Marx, Karl\n",
       "129    Mitchell, Margaret\n",
       "218    Hauptmann, Gerhart\n",
       "199      Footner, Hulbert\n",
       "47   Cabell, James Branch\n",
       "229         Norris, Frank\n",
       "62        Lewis, Sinclair\n",
       "38      Dreiser, Theodore"
      ]
     },
     "execution_count": 67,
     "metadata": {},
     "output_type": "execute_result"
    }
   ],
   "source": [
    "ban_books_aut_unique = ban_books_aut.drop_duplicates()\n",
    "ban_books_aut_unique.sample(10)"
   ]
  },
  {
   "cell_type": "code",
   "execution_count": 68,
   "metadata": {},
   "outputs": [
    {
     "data": {
      "text/plain": [
       "(182, 1)"
      ]
     },
     "execution_count": 68,
     "metadata": {},
     "output_type": "execute_result"
    }
   ],
   "source": [
    "ban_books_aut_unique.shape"
   ]
  },
  {
   "cell_type": "code",
   "execution_count": 69,
   "metadata": {},
   "outputs": [
    {
     "data": {
      "text/plain": [
       "(3512, 4)"
      ]
     },
     "execution_count": 69,
     "metadata": {},
     "output_type": "execute_result"
    }
   ],
   "source": [
    "sco_books_aut = sco_books[sco_books['format'] == 'Book'][['author', 'title', 'format', 'year']].dropna()\n",
    "sco_books_aut.rename(columns={'author':'sco_author'}, inplace=True)\n",
    "sco_books_aut = sco_books_aut[~sco_books_aut['sco_author'].str.contains(';')] # ~ negates condition\n",
    "sco_books_aut = sco_books_aut[(sco_books_aut['year'] >= 1919) & (sco_books_aut['year'] <= 1941)] # book published between 1919 and 1941\n",
    "sco_books_aut.shape"
   ]
  },
  {
   "cell_type": "code",
   "execution_count": 70,
   "metadata": {},
   "outputs": [
    {
     "data": {
      "text/plain": [
       "(1453, 4)"
      ]
     },
     "execution_count": 70,
     "metadata": {},
     "output_type": "execute_result"
    }
   ],
   "source": [
    "sco_books_aut_unique = sco_books_aut.drop_duplicates(subset=['sco_author'])\n",
    "sco_books_aut_unique.sample(7)\n",
    "sco_books_aut_unique.shape"
   ]
  },
  {
   "cell_type": "code",
   "execution_count": 71,
   "metadata": {},
   "outputs": [
    {
     "data": {
      "text/html": [
       "<div>\n",
       "<style scoped>\n",
       "    .dataframe tbody tr th:only-of-type {\n",
       "        vertical-align: middle;\n",
       "    }\n",
       "\n",
       "    .dataframe tbody tr th {\n",
       "        vertical-align: top;\n",
       "    }\n",
       "\n",
       "    .dataframe thead th {\n",
       "        text-align: right;\n",
       "    }\n",
       "</style>\n",
       "<table border=\"1\" class=\"dataframe\">\n",
       "  <thead>\n",
       "    <tr style=\"text-align: right;\">\n",
       "      <th></th>\n",
       "      <th>sco_author</th>\n",
       "      <th>title</th>\n",
       "      <th>format</th>\n",
       "      <th>year</th>\n",
       "    </tr>\n",
       "  </thead>\n",
       "  <tbody>\n",
       "    <tr>\n",
       "      <th>5176</th>\n",
       "      <td>Roberts, Denys Kilham</td>\n",
       "      <td>Penguin Parade</td>\n",
       "      <td>Book</td>\n",
       "      <td>1939</td>\n",
       "    </tr>\n",
       "    <tr>\n",
       "      <th>2466</th>\n",
       "      <td>Komroff, Manuel</td>\n",
       "      <td>The Grace of Lambs</td>\n",
       "      <td>Book</td>\n",
       "      <td>1925</td>\n",
       "    </tr>\n",
       "    <tr>\n",
       "      <th>1991</th>\n",
       "      <td>Overton, Grant Martin</td>\n",
       "      <td>When Winter Comes to Main Street</td>\n",
       "      <td>Book</td>\n",
       "      <td>1922</td>\n",
       "    </tr>\n",
       "    <tr>\n",
       "      <th>4198</th>\n",
       "      <td>Graham, Whidden</td>\n",
       "      <td>Crimson Hairs: An Erotic Mystery Story</td>\n",
       "      <td>Book</td>\n",
       "      <td>1934</td>\n",
       "    </tr>\n",
       "    <tr>\n",
       "      <th>1533</th>\n",
       "      <td>Swinburne, Algernon Charles</td>\n",
       "      <td>Selections from A. C. Swinburne</td>\n",
       "      <td>Book</td>\n",
       "      <td>1919</td>\n",
       "    </tr>\n",
       "    <tr>\n",
       "      <th>2347</th>\n",
       "      <td>Wren, Percival Christopher</td>\n",
       "      <td>Beau Geste</td>\n",
       "      <td>Book</td>\n",
       "      <td>1925</td>\n",
       "    </tr>\n",
       "    <tr>\n",
       "      <th>2199</th>\n",
       "      <td>Millin, Sarah Gertrude</td>\n",
       "      <td>God's Stepchildren</td>\n",
       "      <td>Book</td>\n",
       "      <td>1924</td>\n",
       "    </tr>\n",
       "    <tr>\n",
       "      <th>3096</th>\n",
       "      <td>Peterkin, Julia Mood</td>\n",
       "      <td>Scarlet Sister Mary</td>\n",
       "      <td>Book</td>\n",
       "      <td>1928</td>\n",
       "    </tr>\n",
       "    <tr>\n",
       "      <th>2422</th>\n",
       "      <td>Sassoon, Siegfried</td>\n",
       "      <td>Poems</td>\n",
       "      <td>Book</td>\n",
       "      <td>1925</td>\n",
       "    </tr>\n",
       "    <tr>\n",
       "      <th>1581</th>\n",
       "      <td>Dell, Floyd</td>\n",
       "      <td>Were You Ever a Child?</td>\n",
       "      <td>Book</td>\n",
       "      <td>1919</td>\n",
       "    </tr>\n",
       "  </tbody>\n",
       "</table>\n",
       "</div>"
      ],
      "text/plain": [
       "                       sco_author                                   title  \\\n",
       "5176        Roberts, Denys Kilham                          Penguin Parade   \n",
       "2466              Komroff, Manuel                      The Grace of Lambs   \n",
       "1991        Overton, Grant Martin        When Winter Comes to Main Street   \n",
       "4198              Graham, Whidden  Crimson Hairs: An Erotic Mystery Story   \n",
       "1533  Swinburne, Algernon Charles         Selections from A. C. Swinburne   \n",
       "2347   Wren, Percival Christopher                              Beau Geste   \n",
       "2199       Millin, Sarah Gertrude                      God's Stepchildren   \n",
       "3096         Peterkin, Julia Mood                     Scarlet Sister Mary   \n",
       "2422           Sassoon, Siegfried                                   Poems   \n",
       "1581                  Dell, Floyd                  Were You Ever a Child?   \n",
       "\n",
       "     format  year  \n",
       "5176   Book  1939  \n",
       "2466   Book  1925  \n",
       "1991   Book  1922  \n",
       "4198   Book  1934  \n",
       "1533   Book  1919  \n",
       "2347   Book  1925  \n",
       "2199   Book  1924  \n",
       "3096   Book  1928  \n",
       "2422   Book  1925  \n",
       "1581   Book  1919  "
      ]
     },
     "execution_count": 71,
     "metadata": {},
     "output_type": "execute_result"
    }
   ],
   "source": [
    "sco_books_aut_unique.sample(10)"
   ]
  },
  {
   "cell_type": "code",
   "execution_count": 72,
   "metadata": {},
   "outputs": [
    {
     "data": {
      "image/png": "[encoded data removed]",
      "text/plain": [
       "<Figure size 640x480 with 1 Axes>"
      ]
     },
     "metadata": {},
     "output_type": "display_data"
    }
   ],
   "source": [
    "import matplotlib.pyplot as plt\n",
    "from matplotlib_venn import venn2\n",
    "\n",
    "ban_unique_authors = len(set(ban_books_aut_unique['ban_author']))\n",
    "sco_unique_authors = len(set(sco_books_aut_unique['sco_author']))\n",
    "\n",
    "intersection_authors = len(set(ban_books_aut_unique['ban_author']).intersection(set(sco_books_aut_unique['sco_author'])))\n",
    "\n",
    "venn2(subsets=(ban_unique_authors, sco_unique_authors, intersection_authors),\n",
    "      set_labels=('ban_books', 'sco_books'))\n",
    "\n",
    "plt.title('intersection of authors between ban_books and sco_books')\n",
    "plt.show()"
   ]
  },
  {
   "cell_type": "code",
   "execution_count": 73,
   "metadata": {},
   "outputs": [
    {
     "name": "stdout",
     "output_type": "stream",
     "text": [
      "                sco_author        ban_author\n",
      "0                      NaN      Aristophanes\n",
      "1                      NaN              Ovid\n",
      "2                      NaN  Apuleius, Lucius\n",
      "3                      NaN     Defoe, Daniel\n",
      "4                      NaN          Voltaire\n",
      "...                    ...               ...\n",
      "1354  Phelps, William Lyon               NaN\n",
      "1355   Lawrence, Josephine               NaN\n",
      "1356       Lorac, E. C. R.               NaN\n",
      "1357          Marsh, Ngaio               NaN\n",
      "1358       Ferneé, Herbert               NaN\n",
      "\n",
      "[1359 rows x 2 columns]\n"
     ]
    },
    {
     "name": "stderr",
     "output_type": "stream",
     "text": [
      "C:\\Users\\dittm\\AppData\\Local\\Temp\\ipykernel_20232\\887306475.py:1: SettingWithCopyWarning: \n",
      "A value is trying to be set on a copy of a slice from a DataFrame\n",
      "\n",
      "See the caveats in the documentation: https://pandas.pydata.org/pandas-docs/stable/user_guide/indexing.html#returning-a-view-versus-a-copy\n",
      "  ban_books_aut_unique.rename(columns={'author': 'ban_author'}, inplace=True)\n",
      "C:\\Users\\dittm\\AppData\\Local\\Temp\\ipykernel_20232\\887306475.py:3: SettingWithCopyWarning: \n",
      "A value is trying to be set on a copy of a slice from a DataFrame\n",
      "\n",
      "See the caveats in the documentation: https://pandas.pydata.org/pandas-docs/stable/user_guide/indexing.html#returning-a-view-versus-a-copy\n",
      "  sco_books_aut_unique.rename(columns={'author': 'sco_author'}, inplace=True)\n"
     ]
    }
   ],
   "source": [
    "ban_books_aut_unique.rename(columns={'author': 'ban_author'}, inplace=True)\n",
    "\n",
    "sco_books_aut_unique.rename(columns={'author': 'sco_author'}, inplace=True)\n",
    "\n",
    "merged_df = pd.merge(ban_books_aut_unique, sco_books_aut_unique, how='outer', left_on='ban_author', right_on='sco_author')\n",
    "\n",
    "no_intersection_df = merged_df[merged_df['ban_author'].isna() | merged_df['sco_author'].isna()]\n",
    "\n",
    "no_intersection_df.reset_index(drop=True, inplace=True) # to avoid confusion later on\n",
    "no_intersection_df = no_intersection_df[['sco_author','ban_author']]\n",
    "\n",
    "print(no_intersection_df)\n"
   ]
  },
  {
   "cell_type": "code",
   "execution_count": 83,
   "metadata": {},
   "outputs": [
    {
     "data": {
      "text/html": [
       "<div>\n",
       "<style scoped>\n",
       "    .dataframe tbody tr th:only-of-type {\n",
       "        vertical-align: middle;\n",
       "    }\n",
       "\n",
       "    .dataframe tbody tr th {\n",
       "        vertical-align: top;\n",
       "    }\n",
       "\n",
       "    .dataframe thead th {\n",
       "        text-align: right;\n",
       "    }\n",
       "</style>\n",
       "<table border=\"1\" class=\"dataframe\">\n",
       "  <thead>\n",
       "    <tr style=\"text-align: right;\">\n",
       "      <th></th>\n",
       "      <th>sco_author</th>\n",
       "      <th>ban_author</th>\n",
       "    </tr>\n",
       "  </thead>\n",
       "  <tbody>\n",
       "    <tr>\n",
       "      <th>1241</th>\n",
       "      <td>Engstrand, Stuart David</td>\n",
       "      <td>NaN</td>\n",
       "    </tr>\n",
       "    <tr>\n",
       "      <th>685</th>\n",
       "      <td>Strong, Anna Louise</td>\n",
       "      <td>NaN</td>\n",
       "    </tr>\n",
       "    <tr>\n",
       "      <th>697</th>\n",
       "      <td>Hopkins, R. Thurston</td>\n",
       "      <td>NaN</td>\n",
       "    </tr>\n",
       "    <tr>\n",
       "      <th>916</th>\n",
       "      <td>Iles, Francis</td>\n",
       "      <td>NaN</td>\n",
       "    </tr>\n",
       "    <tr>\n",
       "      <th>368</th>\n",
       "      <td>Hamsun, Knut</td>\n",
       "      <td>NaN</td>\n",
       "    </tr>\n",
       "    <tr>\n",
       "      <th>854</th>\n",
       "      <td>Brooke, C. F. Tucker</td>\n",
       "      <td>NaN</td>\n",
       "    </tr>\n",
       "    <tr>\n",
       "      <th>404</th>\n",
       "      <td>Wescott, Glenway</td>\n",
       "      <td>NaN</td>\n",
       "    </tr>\n",
       "    <tr>\n",
       "      <th>1220</th>\n",
       "      <td>Fuller, Timothy</td>\n",
       "      <td>NaN</td>\n",
       "    </tr>\n",
       "    <tr>\n",
       "      <th>703</th>\n",
       "      <td>Tate, Allen</td>\n",
       "      <td>NaN</td>\n",
       "    </tr>\n",
       "    <tr>\n",
       "      <th>1132</th>\n",
       "      <td>Epictetus</td>\n",
       "      <td>NaN</td>\n",
       "    </tr>\n",
       "    <tr>\n",
       "      <th>560</th>\n",
       "      <td>Wilder, Thornton</td>\n",
       "      <td>NaN</td>\n",
       "    </tr>\n",
       "    <tr>\n",
       "      <th>168</th>\n",
       "      <td>Chesterton, G. K.</td>\n",
       "      <td>NaN</td>\n",
       "    </tr>\n",
       "    <tr>\n",
       "      <th>496</th>\n",
       "      <td>Kreymborg, Alfred</td>\n",
       "      <td>NaN</td>\n",
       "    </tr>\n",
       "    <tr>\n",
       "      <th>888</th>\n",
       "      <td>Vallentin, Antonia</td>\n",
       "      <td>NaN</td>\n",
       "    </tr>\n",
       "    <tr>\n",
       "      <th>52</th>\n",
       "      <td>Davis, Richard Harding</td>\n",
       "      <td>NaN</td>\n",
       "    </tr>\n",
       "    <tr>\n",
       "      <th>586</th>\n",
       "      <td>Hughes, Langston</td>\n",
       "      <td>NaN</td>\n",
       "    </tr>\n",
       "    <tr>\n",
       "      <th>634</th>\n",
       "      <td>Stoddard, Lothrop</td>\n",
       "      <td>NaN</td>\n",
       "    </tr>\n",
       "  </tbody>\n",
       "</table>\n",
       "</div>"
      ],
      "text/plain": [
       "                   sco_author ban_author\n",
       "1241  Engstrand, Stuart David        NaN\n",
       "685       Strong, Anna Louise        NaN\n",
       "697      Hopkins, R. Thurston        NaN\n",
       "916             Iles, Francis        NaN\n",
       "368              Hamsun, Knut        NaN\n",
       "854      Brooke, C. F. Tucker        NaN\n",
       "404          Wescott, Glenway        NaN\n",
       "1220          Fuller, Timothy        NaN\n",
       "703               Tate, Allen        NaN\n",
       "1132                Epictetus        NaN\n",
       "560          Wilder, Thornton        NaN\n",
       "168         Chesterton, G. K.        NaN\n",
       "496         Kreymborg, Alfred        NaN\n",
       "888        Vallentin, Antonia        NaN\n",
       "52     Davis, Richard Harding        NaN\n",
       "586          Hughes, Langston        NaN\n",
       "634         Stoddard, Lothrop        NaN"
      ]
     },
     "execution_count": 83,
     "metadata": {},
     "output_type": "execute_result"
    }
   ],
   "source": [
    "no_intersection_df.sample(17)"
   ]
  }
 ],
 "metadata": {
  "kernelspec": {
   "display_name": "base",
   "language": "python",
   "name": "python3"
  },
  "language_info": {
   "codemirror_mode": {
    "name": "ipython",
    "version": 3
   },
   "file_extension": ".py",
   "mimetype": "text/x-python",
   "name": "python",
   "nbconvert_exporter": "python",
   "pygments_lexer": "ipython3",
   "version": "3.10.9"
  }
 },
 "nbformat": 4,
 "nbformat_minor": 2
}
