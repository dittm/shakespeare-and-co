{
 "cells": [
  {
   "cell_type": "code",
   "execution_count": 2,
   "metadata": {},
   "outputs": [],
   "source": [
    "import matplotlib.pyplot as plt\n",
    "import seaborn as sns\n",
    "import pandas as pd"
   ]
  },
  {
   "cell_type": "code",
   "execution_count": 15,
   "metadata": {},
   "outputs": [
    {
     "ename": "ValueError",
     "evalue": "Integer column has NA values in column 15",
     "output_type": "error",
     "traceback": [
      "\u001b[1;31m---------------------------------------------------------------------------\u001b[0m",
      "\u001b[1;31mValueError\u001b[0m                                Traceback (most recent call last)",
      "Cell \u001b[1;32mIn[15], line 35\u001b[0m\n\u001b[0;32m     32\u001b[0m date_columns \u001b[38;5;241m=\u001b[39m [\u001b[38;5;124m'\u001b[39m\u001b[38;5;124mstart_date\u001b[39m\u001b[38;5;124m'\u001b[39m, \u001b[38;5;124m'\u001b[39m\u001b[38;5;124mend_date\u001b[39m\u001b[38;5;124m'\u001b[39m, \u001b[38;5;124m'\u001b[39m\u001b[38;5;124msubscription_purchase_date\u001b[39m\u001b[38;5;124m'\u001b[39m]\n\u001b[0;32m     34\u001b[0m \u001b[38;5;66;03m# Read CSV file with specified data types and parse_dates\u001b[39;00m\n\u001b[1;32m---> 35\u001b[0m events \u001b[38;5;241m=\u001b[39m \u001b[43mpd\u001b[49m\u001b[38;5;241;43m.\u001b[39;49m\u001b[43mread_csv\u001b[49m\u001b[43m(\u001b[49m\u001b[38;5;124;43m'\u001b[39;49m\u001b[38;5;124;43m../data/SCoData_events_v1.2_2022_01.csv\u001b[39;49m\u001b[38;5;124;43m'\u001b[39;49m\u001b[43m,\u001b[49m\u001b[43m \u001b[49m\u001b[43mencoding\u001b[49m\u001b[38;5;241;43m=\u001b[39;49m\u001b[38;5;124;43m'\u001b[39;49m\u001b[38;5;124;43mutf-8\u001b[39;49m\u001b[38;5;124;43m'\u001b[39;49m\u001b[43m,\u001b[49m\u001b[43m \u001b[49m\u001b[43mdtype\u001b[49m\u001b[38;5;241;43m=\u001b[39;49m\u001b[43mdtype_dict\u001b[49m\u001b[43m,\u001b[49m\u001b[43m \u001b[49m\u001b[43mparse_dates\u001b[49m\u001b[38;5;241;43m=\u001b[39;49m\u001b[43mdate_columns\u001b[49m\u001b[43m)\u001b[49m\n\u001b[0;32m     37\u001b[0m \u001b[38;5;66;03m# Fill missing values in 'subscription_duration_days' column with 0\u001b[39;00m\n\u001b[0;32m     38\u001b[0m events[\u001b[38;5;124m'\u001b[39m\u001b[38;5;124msubscription_duration_days\u001b[39m\u001b[38;5;124m'\u001b[39m]\u001b[38;5;241m.\u001b[39mfillna(\u001b[38;5;241m0\u001b[39m, inplace\u001b[38;5;241m=\u001b[39m\u001b[38;5;28;01mTrue\u001b[39;00m)\n",
      "File \u001b[1;32mc:\\Users\\dittm\\anaconda3\\lib\\site-packages\\pandas\\util\\_decorators.py:211\u001b[0m, in \u001b[0;36mdeprecate_kwarg.<locals>._deprecate_kwarg.<locals>.wrapper\u001b[1;34m(*args, **kwargs)\u001b[0m\n\u001b[0;32m    209\u001b[0m     \u001b[38;5;28;01melse\u001b[39;00m:\n\u001b[0;32m    210\u001b[0m         kwargs[new_arg_name] \u001b[38;5;241m=\u001b[39m new_arg_value\n\u001b[1;32m--> 211\u001b[0m \u001b[38;5;28;01mreturn\u001b[39;00m func(\u001b[38;5;241m*\u001b[39margs, \u001b[38;5;241m*\u001b[39m\u001b[38;5;241m*\u001b[39mkwargs)\n",
      "File \u001b[1;32mc:\\Users\\dittm\\anaconda3\\lib\\site-packages\\pandas\\util\\_decorators.py:331\u001b[0m, in \u001b[0;36mdeprecate_nonkeyword_arguments.<locals>.decorate.<locals>.wrapper\u001b[1;34m(*args, **kwargs)\u001b[0m\n\u001b[0;32m    325\u001b[0m \u001b[38;5;28;01mif\u001b[39;00m \u001b[38;5;28mlen\u001b[39m(args) \u001b[38;5;241m>\u001b[39m num_allow_args:\n\u001b[0;32m    326\u001b[0m     warnings\u001b[38;5;241m.\u001b[39mwarn(\n\u001b[0;32m    327\u001b[0m         msg\u001b[38;5;241m.\u001b[39mformat(arguments\u001b[38;5;241m=\u001b[39m_format_argument_list(allow_args)),\n\u001b[0;32m    328\u001b[0m         \u001b[38;5;167;01mFutureWarning\u001b[39;00m,\n\u001b[0;32m    329\u001b[0m         stacklevel\u001b[38;5;241m=\u001b[39mfind_stack_level(),\n\u001b[0;32m    330\u001b[0m     )\n\u001b[1;32m--> 331\u001b[0m \u001b[38;5;28;01mreturn\u001b[39;00m func(\u001b[38;5;241m*\u001b[39margs, \u001b[38;5;241m*\u001b[39m\u001b[38;5;241m*\u001b[39mkwargs)\n",
      "File \u001b[1;32mc:\\Users\\dittm\\anaconda3\\lib\\site-packages\\pandas\\io\\parsers\\readers.py:950\u001b[0m, in \u001b[0;36mread_csv\u001b[1;34m(filepath_or_buffer, sep, delimiter, header, names, index_col, usecols, squeeze, prefix, mangle_dupe_cols, dtype, engine, converters, true_values, false_values, skipinitialspace, skiprows, skipfooter, nrows, na_values, keep_default_na, na_filter, verbose, skip_blank_lines, parse_dates, infer_datetime_format, keep_date_col, date_parser, dayfirst, cache_dates, iterator, chunksize, compression, thousands, decimal, lineterminator, quotechar, quoting, doublequote, escapechar, comment, encoding, encoding_errors, dialect, error_bad_lines, warn_bad_lines, on_bad_lines, delim_whitespace, low_memory, memory_map, float_precision, storage_options)\u001b[0m\n\u001b[0;32m    935\u001b[0m kwds_defaults \u001b[38;5;241m=\u001b[39m _refine_defaults_read(\n\u001b[0;32m    936\u001b[0m     dialect,\n\u001b[0;32m    937\u001b[0m     delimiter,\n\u001b[1;32m   (...)\u001b[0m\n\u001b[0;32m    946\u001b[0m     defaults\u001b[38;5;241m=\u001b[39m{\u001b[38;5;124m\"\u001b[39m\u001b[38;5;124mdelimiter\u001b[39m\u001b[38;5;124m\"\u001b[39m: \u001b[38;5;124m\"\u001b[39m\u001b[38;5;124m,\u001b[39m\u001b[38;5;124m\"\u001b[39m},\n\u001b[0;32m    947\u001b[0m )\n\u001b[0;32m    948\u001b[0m kwds\u001b[38;5;241m.\u001b[39mupdate(kwds_defaults)\n\u001b[1;32m--> 950\u001b[0m \u001b[38;5;28;01mreturn\u001b[39;00m \u001b[43m_read\u001b[49m\u001b[43m(\u001b[49m\u001b[43mfilepath_or_buffer\u001b[49m\u001b[43m,\u001b[49m\u001b[43m \u001b[49m\u001b[43mkwds\u001b[49m\u001b[43m)\u001b[49m\n",
      "File \u001b[1;32mc:\\Users\\dittm\\anaconda3\\lib\\site-packages\\pandas\\io\\parsers\\readers.py:611\u001b[0m, in \u001b[0;36m_read\u001b[1;34m(filepath_or_buffer, kwds)\u001b[0m\n\u001b[0;32m    608\u001b[0m     \u001b[38;5;28;01mreturn\u001b[39;00m parser\n\u001b[0;32m    610\u001b[0m \u001b[38;5;28;01mwith\u001b[39;00m parser:\n\u001b[1;32m--> 611\u001b[0m     \u001b[38;5;28;01mreturn\u001b[39;00m \u001b[43mparser\u001b[49m\u001b[38;5;241;43m.\u001b[39;49m\u001b[43mread\u001b[49m\u001b[43m(\u001b[49m\u001b[43mnrows\u001b[49m\u001b[43m)\u001b[49m\n",
      "File \u001b[1;32mc:\\Users\\dittm\\anaconda3\\lib\\site-packages\\pandas\\io\\parsers\\readers.py:1778\u001b[0m, in \u001b[0;36mTextFileReader.read\u001b[1;34m(self, nrows)\u001b[0m\n\u001b[0;32m   1771\u001b[0m nrows \u001b[38;5;241m=\u001b[39m validate_integer(\u001b[38;5;124m\"\u001b[39m\u001b[38;5;124mnrows\u001b[39m\u001b[38;5;124m\"\u001b[39m, nrows)\n\u001b[0;32m   1772\u001b[0m \u001b[38;5;28;01mtry\u001b[39;00m:\n\u001b[0;32m   1773\u001b[0m     \u001b[38;5;66;03m# error: \"ParserBase\" has no attribute \"read\"\u001b[39;00m\n\u001b[0;32m   1774\u001b[0m     (\n\u001b[0;32m   1775\u001b[0m         index,\n\u001b[0;32m   1776\u001b[0m         columns,\n\u001b[0;32m   1777\u001b[0m         col_dict,\n\u001b[1;32m-> 1778\u001b[0m     ) \u001b[38;5;241m=\u001b[39m \u001b[38;5;28;43mself\u001b[39;49m\u001b[38;5;241;43m.\u001b[39;49m\u001b[43m_engine\u001b[49m\u001b[38;5;241;43m.\u001b[39;49m\u001b[43mread\u001b[49m\u001b[43m(\u001b[49m\u001b[43m  \u001b[49m\u001b[38;5;66;43;03m# type: ignore[attr-defined]\u001b[39;49;00m\n\u001b[0;32m   1779\u001b[0m \u001b[43m        \u001b[49m\u001b[43mnrows\u001b[49m\n\u001b[0;32m   1780\u001b[0m \u001b[43m    \u001b[49m\u001b[43m)\u001b[49m\n\u001b[0;32m   1781\u001b[0m \u001b[38;5;28;01mexcept\u001b[39;00m \u001b[38;5;167;01mException\u001b[39;00m:\n\u001b[0;32m   1782\u001b[0m     \u001b[38;5;28mself\u001b[39m\u001b[38;5;241m.\u001b[39mclose()\n",
      "File \u001b[1;32mc:\\Users\\dittm\\anaconda3\\lib\\site-packages\\pandas\\io\\parsers\\c_parser_wrapper.py:230\u001b[0m, in \u001b[0;36mCParserWrapper.read\u001b[1;34m(self, nrows)\u001b[0m\n\u001b[0;32m    228\u001b[0m \u001b[38;5;28;01mtry\u001b[39;00m:\n\u001b[0;32m    229\u001b[0m     \u001b[38;5;28;01mif\u001b[39;00m \u001b[38;5;28mself\u001b[39m\u001b[38;5;241m.\u001b[39mlow_memory:\n\u001b[1;32m--> 230\u001b[0m         chunks \u001b[38;5;241m=\u001b[39m \u001b[38;5;28;43mself\u001b[39;49m\u001b[38;5;241;43m.\u001b[39;49m\u001b[43m_reader\u001b[49m\u001b[38;5;241;43m.\u001b[39;49m\u001b[43mread_low_memory\u001b[49m\u001b[43m(\u001b[49m\u001b[43mnrows\u001b[49m\u001b[43m)\u001b[49m\n\u001b[0;32m    231\u001b[0m         \u001b[38;5;66;03m# destructive to chunks\u001b[39;00m\n\u001b[0;32m    232\u001b[0m         data \u001b[38;5;241m=\u001b[39m _concatenate_chunks(chunks)\n",
      "File \u001b[1;32mc:\\Users\\dittm\\anaconda3\\lib\\site-packages\\pandas\\_libs\\parsers.pyx:808\u001b[0m, in \u001b[0;36mpandas._libs.parsers.TextReader.read_low_memory\u001b[1;34m()\u001b[0m\n",
      "File \u001b[1;32mc:\\Users\\dittm\\anaconda3\\lib\\site-packages\\pandas\\_libs\\parsers.pyx:890\u001b[0m, in \u001b[0;36mpandas._libs.parsers.TextReader._read_rows\u001b[1;34m()\u001b[0m\n",
      "File \u001b[1;32mc:\\Users\\dittm\\anaconda3\\lib\\site-packages\\pandas\\_libs\\parsers.pyx:1037\u001b[0m, in \u001b[0;36mpandas._libs.parsers.TextReader._convert_column_data\u001b[1;34m()\u001b[0m\n",
      "File \u001b[1;32mc:\\Users\\dittm\\anaconda3\\lib\\site-packages\\pandas\\_libs\\parsers.pyx:1068\u001b[0m, in \u001b[0;36mpandas._libs.parsers.TextReader._convert_tokens\u001b[1;34m()\u001b[0m\n",
      "File \u001b[1;32mc:\\Users\\dittm\\anaconda3\\lib\\site-packages\\pandas\\_libs\\parsers.pyx:1187\u001b[0m, in \u001b[0;36mpandas._libs.parsers.TextReader._convert_with_dtype\u001b[1;34m()\u001b[0m\n",
      "\u001b[1;31mValueError\u001b[0m: Integer column has NA values in column 15"
     ]
    }
   ],
   "source": [
    "import pandas as pd\n",
    "\n",
    "# Define dtype_dict without specifying 'subscription_duration_days'\n",
    "dtype_dict = {\n",
    "    'event_type': 'str',                      # Event type\n",
    "    'member_uris': 'str',                     # URLs related to members\n",
    "    'member_names': 'str',                    # Names of members\n",
    "    'member_sort_names': 'str',               # Sort names of members\n",
    "    'subscription_price_paid': 'float',       # Price paid for subscription\n",
    "    'subscription_deposit': 'float',          # Deposit for subscription\n",
    "    'subscription_duration': 'str',           # Duration of subscription (assuming string for now)\n",
    "    'subscription_volumes': 'str',            # Volumes of subscription\n",
    "    'subscription_category': 'str',           # Category of subscription\n",
    "    'reimbursement_refund': 'float',          # Refund for reimbursement\n",
    "    'borrow_status': 'str',                   # Borrow status\n",
    "    'borrow_duration_days': 'int',            # Duration of borrowing in days\n",
    "    'purchase_price': 'float',                # Purchase price\n",
    "    'currency': 'str',                        # Currency\n",
    "    'item_uri': 'str',                        # URI related to the item\n",
    "    'item_title': 'str',                      # Title of the item\n",
    "    'item_volume': 'str',                     # Volume of the item\n",
    "    'item_authors': 'str',                    # Authors of the item\n",
    "    'item_year': 'Int32',                     # Year of the item\n",
    "    'item_notes': 'str',                      # Notes related to the item\n",
    "    'source_type': 'str',                     # Type of source\n",
    "    'source_citation': 'str',                 # Citation of source\n",
    "    'source_manifest': 'str',                 # Manifest of source\n",
    "    'source_image': 'str',                    # Image of source\n",
    "}\n",
    "\n",
    "# Specify columns to parse as dates\n",
    "date_columns = ['start_date', 'end_date', 'subscription_purchase_date']\n",
    "\n",
    "# Read CSV file with specified data types and parse_dates\n",
    "events = pd.read_csv('../data/SCoData_events_v1.2_2022_01.csv', encoding='utf-8', dtype=dtype_dict, parse_dates=date_columns)\n",
    "\n",
    "# Fill missing values in 'subscription_duration_days' column with 0\n",
    "events['subscription_duration_days'].fillna(0, inplace=True)\n",
    "events['item_year'].fillna(0, inplace=True)\n",
    "\n"
   ]
  },
  {
   "cell_type": "code",
   "execution_count": 5,
   "metadata": {},
   "outputs": [
    {
     "data": {
      "text/plain": [
       "Index(['event_type', 'start_date', 'end_date', 'member_uris', 'member_names',\n",
       "       'member_sort_names', 'subscription_price_paid', 'subscription_deposit',\n",
       "       'subscription_duration', 'subscription_duration_days',\n",
       "       'subscription_volumes', 'subscription_category',\n",
       "       'subscription_purchase_date', 'reimbursement_refund', 'borrow_status',\n",
       "       'borrow_duration_days', 'purchase_price', 'currency', 'item_uri',\n",
       "       'item_title', 'item_volume', 'item_authors', 'item_year', 'item_notes',\n",
       "       'source_type', 'source_citation', 'source_manifest', 'source_image'],\n",
       "      dtype='object')"
      ]
     },
     "execution_count": 5,
     "metadata": {},
     "output_type": "execute_result"
    }
   ],
   "source": [
    "events.columns"
   ]
  },
  {
   "cell_type": "code",
   "execution_count": 7,
   "metadata": {},
   "outputs": [],
   "source": [
    "dtype_dict = {\n",
    "    'event_type': 'str',                      # Event type\n",
    "    'start_date': 'datetime64[ns]',           # Start date of the event\n",
    "    'end_date': 'datetime64[ns]',             # End date of the event\n",
    "    'member_uris': 'str',                     # URLs related to members\n",
    "    'member_names': 'str',                    # Names of members\n",
    "    'member_sort_names': 'str',               # Sort names of members\n",
    "    'subscription_price_paid': 'float',       # Price paid for subscription\n",
    "    'subscription_deposit': 'float',          # Deposit for subscription\n",
    "    'subscription_duration': 'str',           # Duration of subscription (assuming string for now)\n",
    "    'subscription_duration_days': 'int',      # Duration of subscription in days\n",
    "    'subscription_volumes': 'str',            # Volumes of subscription\n",
    "    'subscription_category': 'str',           # Category of subscription\n",
    "    'subscription_purchase_date': 'datetime64[ns]', # Purchase date of subscription\n",
    "    'reimbursement_refund': 'float',          # Refund for reimbursement\n",
    "    'borrow_status': 'str',                   # Borrow status\n",
    "    'borrow_duration_days': 'int',            # Duration of borrowing in days\n",
    "    'purchase_price': 'float',                # Purchase price\n",
    "    'currency': 'str',                        # Currency\n",
    "    'item_uri': 'str',                        # URI related to the item\n",
    "    'item_title': 'str',                      # Title of the item\n",
    "    'item_volume': 'str',                     # Volume of the item\n",
    "    'item_authors': 'str',                    # Authors of the item\n",
    "    'item_year': 'Int32',                     # Year of the item\n",
    "    'item_notes': 'str',                      # Notes related to the item\n",
    "    'source_type': 'str',                     # Type of source\n",
    "    'source_citation': 'str',                 # Citation of source\n",
    "    'source_manifest': 'str',                 # Manifest of source\n",
    "    'source_image': 'str',                    # Image of source\n",
    "}\n"
   ]
  },
  {
   "cell_type": "code",
   "execution_count": 6,
   "metadata": {},
   "outputs": [
    {
     "name": "stdout",
     "output_type": "stream",
     "text": [
      "Columns with mixed types: Index(['event_type', 'start_date', 'end_date', 'member_uris', 'member_names',\n",
      "       'member_sort_names', 'subscription_duration', 'subscription_category',\n",
      "       'subscription_purchase_date', 'borrow_status', 'currency', 'item_uri',\n",
      "       'item_title', 'item_volume', 'item_authors', 'item_notes',\n",
      "       'source_type', 'source_citation', 'source_manifest', 'source_image'],\n",
      "      dtype='object')\n"
     ]
    }
   ],
   "source": [
    "mixed_type_columns = events.columns[events.dtypes == 'object']\n",
    "\n",
    "# Output the columns with mixed types\n",
    "print(\"Columns with mixed types:\", mixed_type_columns)"
   ]
  }
 ],
 "metadata": {
  "kernelspec": {
   "display_name": "base",
   "language": "python",
   "name": "python3"
  },
  "language_info": {
   "codemirror_mode": {
    "name": "ipython",
    "version": 3
   },
   "file_extension": ".py",
   "mimetype": "text/x-python",
   "name": "python",
   "nbconvert_exporter": "python",
   "pygments_lexer": "ipython3",
   "version": "3.10.9"
  }
 },
 "nbformat": 4,
 "nbformat_minor": 2
}
