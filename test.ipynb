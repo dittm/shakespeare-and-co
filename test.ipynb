{
 "cells": [
  {
   "cell_type": "code",
   "execution_count": 2,
   "id": "eee35153",
   "metadata": {},
   "outputs": [],
   "source": [
    "import pandas as pd\n",
    "import numpy as np"
   ]
  },
  {
   "cell_type": "markdown",
   "id": "50b49adf",
   "metadata": {},
   "source": [
    "Let's start by reading in our .csv."
   ]
  },
  {
   "cell_type": "code",
   "execution_count": 17,
   "id": "df2a375d",
   "metadata": {},
   "outputs": [
    {
     "data": {
      "text/html": [
       "<div>\n",
       "<style scoped>\n",
       "    .dataframe tbody tr th:only-of-type {\n",
       "        vertical-align: middle;\n",
       "    }\n",
       "\n",
       "    .dataframe tbody tr th {\n",
       "        vertical-align: top;\n",
       "    }\n",
       "\n",
       "    .dataframe thead th {\n",
       "        text-align: right;\n",
       "    }\n",
       "</style>\n",
       "<table border=\"1\" class=\"dataframe\">\n",
       "  <thead>\n",
       "    <tr style=\"text-align: right;\">\n",
       "      <th></th>\n",
       "      <th>uri</th>\n",
       "      <th>title</th>\n",
       "      <th>author</th>\n",
       "      <th>editor</th>\n",
       "      <th>translator</th>\n",
       "      <th>introduction</th>\n",
       "      <th>illustrator</th>\n",
       "      <th>photographer</th>\n",
       "      <th>year</th>\n",
       "      <th>format</th>\n",
       "      <th>uncertain</th>\n",
       "      <th>ebook_url</th>\n",
       "      <th>volumes_issues</th>\n",
       "      <th>notes</th>\n",
       "      <th>event_count</th>\n",
       "      <th>borrow_count</th>\n",
       "      <th>purchase_count</th>\n",
       "      <th>circulation_years</th>\n",
       "      <th>updated</th>\n",
       "    </tr>\n",
       "  </thead>\n",
       "  <tbody>\n",
       "    <tr>\n",
       "      <th>0</th>\n",
       "      <td>https://shakespeareandco.princeton.edu/books/m...</td>\n",
       "      <td>Le Morte d'Arthur</td>\n",
       "      <td>Malory, Thomas</td>\n",
       "      <td>NaN</td>\n",
       "      <td>NaN</td>\n",
       "      <td>NaN</td>\n",
       "      <td>NaN</td>\n",
       "      <td>NaN</td>\n",
       "      <td>1485</td>\n",
       "      <td>Book</td>\n",
       "      <td>False</td>\n",
       "      <td>https://archive.org/details/mortedarthur02malo</td>\n",
       "      <td>NaN</td>\n",
       "      <td>NaN</td>\n",
       "      <td>7</td>\n",
       "      <td>7</td>\n",
       "      <td>0</td>\n",
       "      <td>1930;1932;1937;1938;1939</td>\n",
       "      <td>2021-11-14T13:57:51.282365+00:00</td>\n",
       "    </tr>\n",
       "    <tr>\n",
       "      <th>1</th>\n",
       "      <td>https://shakespeareandco.princeton.edu/books/m...</td>\n",
       "      <td>Utopia</td>\n",
       "      <td>More, Thomas</td>\n",
       "      <td>NaN</td>\n",
       "      <td>NaN</td>\n",
       "      <td>NaN</td>\n",
       "      <td>NaN</td>\n",
       "      <td>NaN</td>\n",
       "      <td>1516</td>\n",
       "      <td>Book</td>\n",
       "      <td>False</td>\n",
       "      <td>https://archive.org/details/utopiamo00more</td>\n",
       "      <td>NaN</td>\n",
       "      <td>NaN</td>\n",
       "      <td>2</td>\n",
       "      <td>2</td>\n",
       "      <td>0</td>\n",
       "      <td>1930;1950;1951</td>\n",
       "      <td>2021-10-31T17:47:49.103296+00:00</td>\n",
       "    </tr>\n",
       "    <tr>\n",
       "      <th>2</th>\n",
       "      <td>https://shakespeareandco.princeton.edu/books/n...</td>\n",
       "      <td>Gorboduc</td>\n",
       "      <td>Norton, Thomas</td>\n",
       "      <td>NaN</td>\n",
       "      <td>NaN</td>\n",
       "      <td>NaN</td>\n",
       "      <td>NaN</td>\n",
       "      <td>NaN</td>\n",
       "      <td>1561</td>\n",
       "      <td>Book</td>\n",
       "      <td>False</td>\n",
       "      <td>NaN</td>\n",
       "      <td>NaN</td>\n",
       "      <td>NaN</td>\n",
       "      <td>1</td>\n",
       "      <td>1</td>\n",
       "      <td>0</td>\n",
       "      <td>1950</td>\n",
       "      <td>2020-06-29T03:49:47+00:00</td>\n",
       "    </tr>\n",
       "    <tr>\n",
       "      <th>3</th>\n",
       "      <td>https://shakespeareandco.princeton.edu/books/l...</td>\n",
       "      <td>Euphues: The Anatomy of Wit</td>\n",
       "      <td>Lyly, John</td>\n",
       "      <td>NaN</td>\n",
       "      <td>NaN</td>\n",
       "      <td>NaN</td>\n",
       "      <td>NaN</td>\n",
       "      <td>NaN</td>\n",
       "      <td>1578</td>\n",
       "      <td>Book</td>\n",
       "      <td>False</td>\n",
       "      <td>https://archive.org/details/cu31924013122084</td>\n",
       "      <td>NaN</td>\n",
       "      <td>NaN</td>\n",
       "      <td>1</td>\n",
       "      <td>1</td>\n",
       "      <td>0</td>\n",
       "      <td>1941</td>\n",
       "      <td>2021-06-05T15:37:07+00:00</td>\n",
       "    </tr>\n",
       "    <tr>\n",
       "      <th>4</th>\n",
       "      <td>https://shakespeareandco.princeton.edu/books/s...</td>\n",
       "      <td>The Shepheard's Calendar</td>\n",
       "      <td>Spenser, Edmund</td>\n",
       "      <td>NaN</td>\n",
       "      <td>NaN</td>\n",
       "      <td>NaN</td>\n",
       "      <td>NaN</td>\n",
       "      <td>NaN</td>\n",
       "      <td>1579</td>\n",
       "      <td>Book</td>\n",
       "      <td>False</td>\n",
       "      <td>https://archive.org/details/shepheardscalend00...</td>\n",
       "      <td>NaN</td>\n",
       "      <td>NaN</td>\n",
       "      <td>1</td>\n",
       "      <td>1</td>\n",
       "      <td>0</td>\n",
       "      <td>1941</td>\n",
       "      <td>2021-11-06T12:26:04.482734+00:00</td>\n",
       "    </tr>\n",
       "    <tr>\n",
       "      <th>5</th>\n",
       "      <td>https://shakespeareandco.princeton.edu/books/l...</td>\n",
       "      <td>Rosalynde: A Novel</td>\n",
       "      <td>Lodge, Thomas</td>\n",
       "      <td>NaN</td>\n",
       "      <td>NaN</td>\n",
       "      <td>NaN</td>\n",
       "      <td>NaN</td>\n",
       "      <td>NaN</td>\n",
       "      <td>1590</td>\n",
       "      <td>Book</td>\n",
       "      <td>False</td>\n",
       "      <td>https://archive.org/details/rosalynde00lodg</td>\n",
       "      <td>NaN</td>\n",
       "      <td>NaN</td>\n",
       "      <td>8</td>\n",
       "      <td>8</td>\n",
       "      <td>0</td>\n",
       "      <td>1939;1940;1941;1942</td>\n",
       "      <td>2021-11-07T18:38:23.667066+00:00</td>\n",
       "    </tr>\n",
       "    <tr>\n",
       "      <th>6</th>\n",
       "      <td>https://shakespeareandco.princeton.edu/books/g...</td>\n",
       "      <td>The Defence of Conny-Catching</td>\n",
       "      <td>Greene, Robert</td>\n",
       "      <td>NaN</td>\n",
       "      <td>NaN</td>\n",
       "      <td>NaN</td>\n",
       "      <td>NaN</td>\n",
       "      <td>NaN</td>\n",
       "      <td>1592</td>\n",
       "      <td>Book</td>\n",
       "      <td>False</td>\n",
       "      <td>NaN</td>\n",
       "      <td>NaN</td>\n",
       "      <td>NaN</td>\n",
       "      <td>2</td>\n",
       "      <td>2</td>\n",
       "      <td>0</td>\n",
       "      <td>1939;1940</td>\n",
       "      <td>2020-04-30T19:40:17+00:00</td>\n",
       "    </tr>\n",
       "    <tr>\n",
       "      <th>7</th>\n",
       "      <td>https://shakespeareandco.princeton.edu/books/s...</td>\n",
       "      <td>A Midsummer's Night's Dream</td>\n",
       "      <td>Shakespeare, William</td>\n",
       "      <td>NaN</td>\n",
       "      <td>NaN</td>\n",
       "      <td>NaN</td>\n",
       "      <td>NaN</td>\n",
       "      <td>NaN</td>\n",
       "      <td>1595</td>\n",
       "      <td>Book</td>\n",
       "      <td>False</td>\n",
       "      <td>https://archive.org/details/midsummernightsd03...</td>\n",
       "      <td>NaN</td>\n",
       "      <td>NaN</td>\n",
       "      <td>1</td>\n",
       "      <td>1</td>\n",
       "      <td>0</td>\n",
       "      <td>1940</td>\n",
       "      <td>2021-11-15T05:37:25.730819+00:00</td>\n",
       "    </tr>\n",
       "    <tr>\n",
       "      <th>8</th>\n",
       "      <td>https://shakespeareandco.princeton.edu/books/s...</td>\n",
       "      <td>An Apology for Poetry</td>\n",
       "      <td>Sidney, Philip</td>\n",
       "      <td>NaN</td>\n",
       "      <td>NaN</td>\n",
       "      <td>NaN</td>\n",
       "      <td>NaN</td>\n",
       "      <td>NaN</td>\n",
       "      <td>1595</td>\n",
       "      <td>Book</td>\n",
       "      <td>False</td>\n",
       "      <td>NaN</td>\n",
       "      <td>NaN</td>\n",
       "      <td>NaN</td>\n",
       "      <td>2</td>\n",
       "      <td>2</td>\n",
       "      <td>0</td>\n",
       "      <td>1934</td>\n",
       "      <td>2020-04-30T19:40:14+00:00</td>\n",
       "    </tr>\n",
       "    <tr>\n",
       "      <th>9</th>\n",
       "      <td>https://shakespeareandco.princeton.edu/books/s...</td>\n",
       "      <td>Love's Labour's Lost</td>\n",
       "      <td>Shakespeare, William</td>\n",
       "      <td>NaN</td>\n",
       "      <td>NaN</td>\n",
       "      <td>NaN</td>\n",
       "      <td>NaN</td>\n",
       "      <td>NaN</td>\n",
       "      <td>1598</td>\n",
       "      <td>Book</td>\n",
       "      <td>False</td>\n",
       "      <td>https://archive.org/details/loveslabourslost19...</td>\n",
       "      <td>NaN</td>\n",
       "      <td>NaN</td>\n",
       "      <td>1</td>\n",
       "      <td>1</td>\n",
       "      <td>0</td>\n",
       "      <td>1922</td>\n",
       "      <td>2021-10-26T03:07:33.750391+00:00</td>\n",
       "    </tr>\n",
       "  </tbody>\n",
       "</table>\n",
       "</div>"
      ],
      "text/plain": [
       "                                                 uri  \\\n",
       "0  https://shakespeareandco.princeton.edu/books/m...   \n",
       "1  https://shakespeareandco.princeton.edu/books/m...   \n",
       "2  https://shakespeareandco.princeton.edu/books/n...   \n",
       "3  https://shakespeareandco.princeton.edu/books/l...   \n",
       "4  https://shakespeareandco.princeton.edu/books/s...   \n",
       "5  https://shakespeareandco.princeton.edu/books/l...   \n",
       "6  https://shakespeareandco.princeton.edu/books/g...   \n",
       "7  https://shakespeareandco.princeton.edu/books/s...   \n",
       "8  https://shakespeareandco.princeton.edu/books/s...   \n",
       "9  https://shakespeareandco.princeton.edu/books/s...   \n",
       "\n",
       "                           title                author editor translator  \\\n",
       "0              Le Morte d'Arthur        Malory, Thomas    NaN        NaN   \n",
       "1                         Utopia          More, Thomas    NaN        NaN   \n",
       "2                       Gorboduc        Norton, Thomas    NaN        NaN   \n",
       "3    Euphues: The Anatomy of Wit            Lyly, John    NaN        NaN   \n",
       "4       The Shepheard's Calendar       Spenser, Edmund    NaN        NaN   \n",
       "5             Rosalynde: A Novel         Lodge, Thomas    NaN        NaN   \n",
       "6  The Defence of Conny-Catching        Greene, Robert    NaN        NaN   \n",
       "7    A Midsummer's Night's Dream  Shakespeare, William    NaN        NaN   \n",
       "8          An Apology for Poetry        Sidney, Philip    NaN        NaN   \n",
       "9           Love's Labour's Lost  Shakespeare, William    NaN        NaN   \n",
       "\n",
       "  introduction illustrator photographer  year format  uncertain  \\\n",
       "0          NaN         NaN          NaN  1485   Book      False   \n",
       "1          NaN         NaN          NaN  1516   Book      False   \n",
       "2          NaN         NaN          NaN  1561   Book      False   \n",
       "3          NaN         NaN          NaN  1578   Book      False   \n",
       "4          NaN         NaN          NaN  1579   Book      False   \n",
       "5          NaN         NaN          NaN  1590   Book      False   \n",
       "6          NaN         NaN          NaN  1592   Book      False   \n",
       "7          NaN         NaN          NaN  1595   Book      False   \n",
       "8          NaN         NaN          NaN  1595   Book      False   \n",
       "9          NaN         NaN          NaN  1598   Book      False   \n",
       "\n",
       "                                           ebook_url volumes_issues notes  \\\n",
       "0     https://archive.org/details/mortedarthur02malo            NaN   NaN   \n",
       "1         https://archive.org/details/utopiamo00more            NaN   NaN   \n",
       "2                                                NaN            NaN   NaN   \n",
       "3       https://archive.org/details/cu31924013122084            NaN   NaN   \n",
       "4  https://archive.org/details/shepheardscalend00...            NaN   NaN   \n",
       "5        https://archive.org/details/rosalynde00lodg            NaN   NaN   \n",
       "6                                                NaN            NaN   NaN   \n",
       "7  https://archive.org/details/midsummernightsd03...            NaN   NaN   \n",
       "8                                                NaN            NaN   NaN   \n",
       "9  https://archive.org/details/loveslabourslost19...            NaN   NaN   \n",
       "\n",
       "   event_count  borrow_count  purchase_count         circulation_years  \\\n",
       "0            7             7               0  1930;1932;1937;1938;1939   \n",
       "1            2             2               0            1930;1950;1951   \n",
       "2            1             1               0                      1950   \n",
       "3            1             1               0                      1941   \n",
       "4            1             1               0                      1941   \n",
       "5            8             8               0       1939;1940;1941;1942   \n",
       "6            2             2               0                 1939;1940   \n",
       "7            1             1               0                      1940   \n",
       "8            2             2               0                      1934   \n",
       "9            1             1               0                      1922   \n",
       "\n",
       "                            updated  \n",
       "0  2021-11-14T13:57:51.282365+00:00  \n",
       "1  2021-10-31T17:47:49.103296+00:00  \n",
       "2         2020-06-29T03:49:47+00:00  \n",
       "3         2021-06-05T15:37:07+00:00  \n",
       "4  2021-11-06T12:26:04.482734+00:00  \n",
       "5  2021-11-07T18:38:23.667066+00:00  \n",
       "6         2020-04-30T19:40:17+00:00  \n",
       "7  2021-11-15T05:37:25.730819+00:00  \n",
       "8         2020-04-30T19:40:14+00:00  \n",
       "9  2021-10-26T03:07:33.750391+00:00  "
      ]
     },
     "execution_count": 17,
     "metadata": {},
     "output_type": "execute_result"
    }
   ],
   "source": [
    "books = pd.read_csv('SCoData_books_v1.2_2022_01.csv', encoding='utf-8', dtype={'year': 'Int32'})\n",
    "books.head(10)"
   ]
  },
  {
   "cell_type": "code",
   "execution_count": 14,
   "id": "764e897d",
   "metadata": {},
   "outputs": [
    {
     "data": {
      "text/html": [
       "<div>\n",
       "<style scoped>\n",
       "    .dataframe tbody tr th:only-of-type {\n",
       "        vertical-align: middle;\n",
       "    }\n",
       "\n",
       "    .dataframe tbody tr th {\n",
       "        vertical-align: top;\n",
       "    }\n",
       "\n",
       "    .dataframe thead th {\n",
       "        text-align: right;\n",
       "    }\n",
       "</style>\n",
       "<table border=\"1\" class=\"dataframe\">\n",
       "  <thead>\n",
       "    <tr style=\"text-align: right;\">\n",
       "      <th></th>\n",
       "      <th>uri</th>\n",
       "      <th>name</th>\n",
       "      <th>sort_name</th>\n",
       "      <th>title</th>\n",
       "      <th>gender</th>\n",
       "      <th>is_organization</th>\n",
       "      <th>has_card</th>\n",
       "      <th>birth_year</th>\n",
       "      <th>death_year</th>\n",
       "      <th>membership_years</th>\n",
       "      <th>viaf_url</th>\n",
       "      <th>wikipedia_url</th>\n",
       "      <th>nationalities</th>\n",
       "      <th>addresses</th>\n",
       "      <th>postal_codes</th>\n",
       "      <th>arrondissements</th>\n",
       "      <th>coordinates</th>\n",
       "      <th>notes</th>\n",
       "      <th>updated</th>\n",
       "    </tr>\n",
       "  </thead>\n",
       "  <tbody>\n",
       "    <tr>\n",
       "      <th>0</th>\n",
       "      <td>https://shakespeareandco.princeton.edu/members...</td>\n",
       "      <td>Berenice Abbott</td>\n",
       "      <td>Abbott, Berenice</td>\n",
       "      <td>NaN</td>\n",
       "      <td>Female</td>\n",
       "      <td>False</td>\n",
       "      <td>False</td>\n",
       "      <td>1898.0</td>\n",
       "      <td>1991.0</td>\n",
       "      <td>1926</td>\n",
       "      <td>http://viaf.org/viaf/44309674/</td>\n",
       "      <td>https://en.wikipedia.org/wiki/Berenice_Abbott</td>\n",
       "      <td>United States</td>\n",
       "      <td>44 rue du Bac, Paris</td>\n",
       "      <td>75007</td>\n",
       "      <td>7</td>\n",
       "      <td>48.85681, 2.32644</td>\n",
       "      <td>The Shakespeare and Company &lt;a href=\"https://s...</td>\n",
       "      <td>2021-08-22T15:06:30+00:00</td>\n",
       "    </tr>\n",
       "    <tr>\n",
       "      <th>1</th>\n",
       "      <td>https://shakespeareandco.princeton.edu/members...</td>\n",
       "      <td>Mrs. Paul Abbott</td>\n",
       "      <td>Abbott, Mrs. Paul</td>\n",
       "      <td>Mrs.</td>\n",
       "      <td>Female</td>\n",
       "      <td>False</td>\n",
       "      <td>False</td>\n",
       "      <td>NaN</td>\n",
       "      <td>NaN</td>\n",
       "      <td>1925</td>\n",
       "      <td>NaN</td>\n",
       "      <td>NaN</td>\n",
       "      <td>NaN</td>\n",
       "      <td>246 boulevard Raspail, Paris</td>\n",
       "      <td>75014</td>\n",
       "      <td>14</td>\n",
       "      <td>48.83818, 2.33049</td>\n",
       "      <td>NaN</td>\n",
       "      <td>2020-01-24T18:12:40+00:00</td>\n",
       "    </tr>\n",
       "    <tr>\n",
       "      <th>2</th>\n",
       "      <td>https://shakespeareandco.princeton.edu/members...</td>\n",
       "      <td>Abdul</td>\n",
       "      <td>Abdul</td>\n",
       "      <td>NaN</td>\n",
       "      <td>NaN</td>\n",
       "      <td>False</td>\n",
       "      <td>False</td>\n",
       "      <td>NaN</td>\n",
       "      <td>NaN</td>\n",
       "      <td>1941</td>\n",
       "      <td>NaN</td>\n",
       "      <td>NaN</td>\n",
       "      <td>NaN</td>\n",
       "      <td>NaN</td>\n",
       "      <td>NaN</td>\n",
       "      <td>NaN</td>\n",
       "      <td>NaN</td>\n",
       "      <td>NaN</td>\n",
       "      <td>2019-12-22T01:57:37+00:00</td>\n",
       "    </tr>\n",
       "    <tr>\n",
       "      <th>3</th>\n",
       "      <td>https://shakespeareandco.princeton.edu/members...</td>\n",
       "      <td>Ernst Otto Abel</td>\n",
       "      <td>Abel, Ernst Otto</td>\n",
       "      <td>Mr.</td>\n",
       "      <td>Male</td>\n",
       "      <td>False</td>\n",
       "      <td>False</td>\n",
       "      <td>NaN</td>\n",
       "      <td>NaN</td>\n",
       "      <td>1931;1932</td>\n",
       "      <td>NaN</td>\n",
       "      <td>NaN</td>\n",
       "      <td>NaN</td>\n",
       "      <td>Hôtel Saint Germain des Prés, 36 rue Bonaparte...</td>\n",
       "      <td>75006</td>\n",
       "      <td>6</td>\n",
       "      <td>48.85509, 2.33358</td>\n",
       "      <td>The Shakespeare and Company &lt;a href=\"https://s...</td>\n",
       "      <td>2021-10-06T03:57:04.745817+00:00</td>\n",
       "    </tr>\n",
       "    <tr>\n",
       "      <th>4</th>\n",
       "      <td>https://shakespeareandco.princeton.edu/members...</td>\n",
       "      <td>Abelin</td>\n",
       "      <td>Abelin</td>\n",
       "      <td>NaN</td>\n",
       "      <td>NaN</td>\n",
       "      <td>False</td>\n",
       "      <td>False</td>\n",
       "      <td>NaN</td>\n",
       "      <td>NaN</td>\n",
       "      <td>1933</td>\n",
       "      <td>NaN</td>\n",
       "      <td>NaN</td>\n",
       "      <td>NaN</td>\n",
       "      <td>NaN</td>\n",
       "      <td>NaN</td>\n",
       "      <td>NaN</td>\n",
       "      <td>NaN</td>\n",
       "      <td>NaN</td>\n",
       "      <td>2019-12-22T01:57:48+00:00</td>\n",
       "    </tr>\n",
       "    <tr>\n",
       "      <th>...</th>\n",
       "      <td>...</td>\n",
       "      <td>...</td>\n",
       "      <td>...</td>\n",
       "      <td>...</td>\n",
       "      <td>...</td>\n",
       "      <td>...</td>\n",
       "      <td>...</td>\n",
       "      <td>...</td>\n",
       "      <td>...</td>\n",
       "      <td>...</td>\n",
       "      <td>...</td>\n",
       "      <td>...</td>\n",
       "      <td>...</td>\n",
       "      <td>...</td>\n",
       "      <td>...</td>\n",
       "      <td>...</td>\n",
       "      <td>...</td>\n",
       "      <td>...</td>\n",
       "      <td>...</td>\n",
       "    </tr>\n",
       "    <tr>\n",
       "      <th>5230</th>\n",
       "      <td>https://shakespeareandco.princeton.edu/members...</td>\n",
       "      <td>Ziegler</td>\n",
       "      <td>Ziegler</td>\n",
       "      <td>NaN</td>\n",
       "      <td>NaN</td>\n",
       "      <td>False</td>\n",
       "      <td>False</td>\n",
       "      <td>NaN</td>\n",
       "      <td>NaN</td>\n",
       "      <td>1928</td>\n",
       "      <td>NaN</td>\n",
       "      <td>NaN</td>\n",
       "      <td>NaN</td>\n",
       "      <td>NaN</td>\n",
       "      <td>NaN</td>\n",
       "      <td>NaN</td>\n",
       "      <td>NaN</td>\n",
       "      <td>NaN</td>\n",
       "      <td>2019-11-19T14:47:39+00:00</td>\n",
       "    </tr>\n",
       "    <tr>\n",
       "      <th>5231</th>\n",
       "      <td>https://shakespeareandco.princeton.edu/members...</td>\n",
       "      <td>Isabelle Zimmer</td>\n",
       "      <td>Zimmer, Isabelle</td>\n",
       "      <td>Mlle</td>\n",
       "      <td>Female</td>\n",
       "      <td>False</td>\n",
       "      <td>True</td>\n",
       "      <td>NaN</td>\n",
       "      <td>NaN</td>\n",
       "      <td>1920;1921</td>\n",
       "      <td>NaN</td>\n",
       "      <td>NaN</td>\n",
       "      <td>NaN</td>\n",
       "      <td>111 boulevard Saint-Michel, Paris;Côtes-d'Armor</td>\n",
       "      <td>75005;</td>\n",
       "      <td>5;</td>\n",
       "      <td>48.84341, 2.33902;48.51081, -3.32637</td>\n",
       "      <td>NaN</td>\n",
       "      <td>2021-06-15T21:26:37+00:00</td>\n",
       "    </tr>\n",
       "    <tr>\n",
       "      <th>5232</th>\n",
       "      <td>https://shakespeareandco.princeton.edu/members...</td>\n",
       "      <td>H. Zongenth</td>\n",
       "      <td>Zongenth, H.</td>\n",
       "      <td>Miss</td>\n",
       "      <td>Female</td>\n",
       "      <td>False</td>\n",
       "      <td>False</td>\n",
       "      <td>NaN</td>\n",
       "      <td>NaN</td>\n",
       "      <td>1926</td>\n",
       "      <td>NaN</td>\n",
       "      <td>NaN</td>\n",
       "      <td>NaN</td>\n",
       "      <td>NaN</td>\n",
       "      <td>NaN</td>\n",
       "      <td>NaN</td>\n",
       "      <td>NaN</td>\n",
       "      <td>NaN</td>\n",
       "      <td>2019-12-27T21:05:43+00:00</td>\n",
       "    </tr>\n",
       "    <tr>\n",
       "      <th>5233</th>\n",
       "      <td>https://shakespeareandco.princeton.edu/members...</td>\n",
       "      <td>Miss Zueblin</td>\n",
       "      <td>Zueblin, Miss</td>\n",
       "      <td>Miss</td>\n",
       "      <td>Female</td>\n",
       "      <td>False</td>\n",
       "      <td>False</td>\n",
       "      <td>NaN</td>\n",
       "      <td>NaN</td>\n",
       "      <td>1922</td>\n",
       "      <td>NaN</td>\n",
       "      <td>NaN</td>\n",
       "      <td>NaN</td>\n",
       "      <td>NaN</td>\n",
       "      <td>NaN</td>\n",
       "      <td>NaN</td>\n",
       "      <td>NaN</td>\n",
       "      <td>NaN</td>\n",
       "      <td>2019-12-27T01:44:22+00:00</td>\n",
       "    </tr>\n",
       "    <tr>\n",
       "      <th>5234</th>\n",
       "      <td>https://shakespeareandco.princeton.edu/members...</td>\n",
       "      <td>Miss Zweigsmith</td>\n",
       "      <td>Zweigsmith, Miss</td>\n",
       "      <td>Miss</td>\n",
       "      <td>Female</td>\n",
       "      <td>False</td>\n",
       "      <td>False</td>\n",
       "      <td>NaN</td>\n",
       "      <td>NaN</td>\n",
       "      <td>1926;1927</td>\n",
       "      <td>NaN</td>\n",
       "      <td>NaN</td>\n",
       "      <td>NaN</td>\n",
       "      <td>NaN</td>\n",
       "      <td>NaN</td>\n",
       "      <td>NaN</td>\n",
       "      <td>NaN</td>\n",
       "      <td>NaN</td>\n",
       "      <td>2019-12-27T00:15:51+00:00</td>\n",
       "    </tr>\n",
       "  </tbody>\n",
       "</table>\n",
       "<p>5235 rows × 19 columns</p>\n",
       "</div>"
      ],
      "text/plain": [
       "                                                    uri              name  \\\n",
       "0     https://shakespeareandco.princeton.edu/members...   Berenice Abbott   \n",
       "1     https://shakespeareandco.princeton.edu/members...  Mrs. Paul Abbott   \n",
       "2     https://shakespeareandco.princeton.edu/members...             Abdul   \n",
       "3     https://shakespeareandco.princeton.edu/members...   Ernst Otto Abel   \n",
       "4     https://shakespeareandco.princeton.edu/members...            Abelin   \n",
       "...                                                 ...               ...   \n",
       "5230  https://shakespeareandco.princeton.edu/members...           Ziegler   \n",
       "5231  https://shakespeareandco.princeton.edu/members...   Isabelle Zimmer   \n",
       "5232  https://shakespeareandco.princeton.edu/members...       H. Zongenth   \n",
       "5233  https://shakespeareandco.princeton.edu/members...      Miss Zueblin   \n",
       "5234  https://shakespeareandco.princeton.edu/members...   Miss Zweigsmith   \n",
       "\n",
       "              sort_name title  gender  is_organization  has_card  birth_year  \\\n",
       "0      Abbott, Berenice   NaN  Female            False     False      1898.0   \n",
       "1     Abbott, Mrs. Paul  Mrs.  Female            False     False         NaN   \n",
       "2                 Abdul   NaN     NaN            False     False         NaN   \n",
       "3      Abel, Ernst Otto   Mr.    Male            False     False         NaN   \n",
       "4                Abelin   NaN     NaN            False     False         NaN   \n",
       "...                 ...   ...     ...              ...       ...         ...   \n",
       "5230            Ziegler   NaN     NaN            False     False         NaN   \n",
       "5231   Zimmer, Isabelle  Mlle  Female            False      True         NaN   \n",
       "5232       Zongenth, H.  Miss  Female            False     False         NaN   \n",
       "5233      Zueblin, Miss  Miss  Female            False     False         NaN   \n",
       "5234   Zweigsmith, Miss  Miss  Female            False     False         NaN   \n",
       "\n",
       "      death_year membership_years                        viaf_url  \\\n",
       "0         1991.0             1926  http://viaf.org/viaf/44309674/   \n",
       "1            NaN             1925                             NaN   \n",
       "2            NaN             1941                             NaN   \n",
       "3            NaN        1931;1932                             NaN   \n",
       "4            NaN             1933                             NaN   \n",
       "...          ...              ...                             ...   \n",
       "5230         NaN             1928                             NaN   \n",
       "5231         NaN        1920;1921                             NaN   \n",
       "5232         NaN             1926                             NaN   \n",
       "5233         NaN             1922                             NaN   \n",
       "5234         NaN        1926;1927                             NaN   \n",
       "\n",
       "                                      wikipedia_url  nationalities  \\\n",
       "0     https://en.wikipedia.org/wiki/Berenice_Abbott  United States   \n",
       "1                                               NaN            NaN   \n",
       "2                                               NaN            NaN   \n",
       "3                                               NaN            NaN   \n",
       "4                                               NaN            NaN   \n",
       "...                                             ...            ...   \n",
       "5230                                            NaN            NaN   \n",
       "5231                                            NaN            NaN   \n",
       "5232                                            NaN            NaN   \n",
       "5233                                            NaN            NaN   \n",
       "5234                                            NaN            NaN   \n",
       "\n",
       "                                              addresses postal_codes  \\\n",
       "0                                  44 rue du Bac, Paris        75007   \n",
       "1                          246 boulevard Raspail, Paris        75014   \n",
       "2                                                   NaN          NaN   \n",
       "3     Hôtel Saint Germain des Prés, 36 rue Bonaparte...        75006   \n",
       "4                                                   NaN          NaN   \n",
       "...                                                 ...          ...   \n",
       "5230                                                NaN          NaN   \n",
       "5231    111 boulevard Saint-Michel, Paris;Côtes-d'Armor       75005;   \n",
       "5232                                                NaN          NaN   \n",
       "5233                                                NaN          NaN   \n",
       "5234                                                NaN          NaN   \n",
       "\n",
       "     arrondissements                           coordinates  \\\n",
       "0                  7                     48.85681, 2.32644   \n",
       "1                 14                     48.83818, 2.33049   \n",
       "2                NaN                                   NaN   \n",
       "3                  6                     48.85509, 2.33358   \n",
       "4                NaN                                   NaN   \n",
       "...              ...                                   ...   \n",
       "5230             NaN                                   NaN   \n",
       "5231              5;  48.84341, 2.33902;48.51081, -3.32637   \n",
       "5232             NaN                                   NaN   \n",
       "5233             NaN                                   NaN   \n",
       "5234             NaN                                   NaN   \n",
       "\n",
       "                                                  notes  \\\n",
       "0     The Shakespeare and Company <a href=\"https://s...   \n",
       "1                                                   NaN   \n",
       "2                                                   NaN   \n",
       "3     The Shakespeare and Company <a href=\"https://s...   \n",
       "4                                                   NaN   \n",
       "...                                                 ...   \n",
       "5230                                                NaN   \n",
       "5231                                                NaN   \n",
       "5232                                                NaN   \n",
       "5233                                                NaN   \n",
       "5234                                                NaN   \n",
       "\n",
       "                               updated  \n",
       "0            2021-08-22T15:06:30+00:00  \n",
       "1            2020-01-24T18:12:40+00:00  \n",
       "2            2019-12-22T01:57:37+00:00  \n",
       "3     2021-10-06T03:57:04.745817+00:00  \n",
       "4            2019-12-22T01:57:48+00:00  \n",
       "...                                ...  \n",
       "5230         2019-11-19T14:47:39+00:00  \n",
       "5231         2021-06-15T21:26:37+00:00  \n",
       "5232         2019-12-27T21:05:43+00:00  \n",
       "5233         2019-12-27T01:44:22+00:00  \n",
       "5234         2019-12-27T00:15:51+00:00  \n",
       "\n",
       "[5235 rows x 19 columns]"
      ]
     },
     "execution_count": 14,
     "metadata": {},
     "output_type": "execute_result"
    }
   ],
   "source": [
    "members = pd.read_csv('SCoData_members_v1.2_2022_01.csv', encoding='utf-8')\n",
    "members"
   ]
  },
  {
   "cell_type": "markdown",
   "id": "96b1bf72",
   "metadata": {},
   "source": [
    "### Let's explore our dataset a little bit\n",
    "To get a feel for the dataset, we can take a look at the column names and the first ten entries. "
   ]
  },
  {
   "cell_type": "markdown",
   "id": "062ee22d",
   "metadata": {},
   "source": [
    "```head()``` usually shows us the first five rows of the data, but we can also extend that by specifying the number of rows we are interested in as a parameter of the function."
   ]
  },
  {
   "cell_type": "code",
   "execution_count": 9,
   "id": "91e72bd6",
   "metadata": {},
   "outputs": [
    {
     "data": {
      "text/html": [
       "<div>\n",
       "<style scoped>\n",
       "    .dataframe tbody tr th:only-of-type {\n",
       "        vertical-align: middle;\n",
       "    }\n",
       "\n",
       "    .dataframe tbody tr th {\n",
       "        vertical-align: top;\n",
       "    }\n",
       "\n",
       "    .dataframe thead th {\n",
       "        text-align: right;\n",
       "    }\n",
       "</style>\n",
       "<table border=\"1\" class=\"dataframe\">\n",
       "  <thead>\n",
       "    <tr style=\"text-align: right;\">\n",
       "      <th></th>\n",
       "      <th>uri</th>\n",
       "      <th>title</th>\n",
       "      <th>author</th>\n",
       "      <th>editor</th>\n",
       "      <th>translator</th>\n",
       "      <th>introduction</th>\n",
       "      <th>illustrator</th>\n",
       "      <th>photographer</th>\n",
       "      <th>year</th>\n",
       "      <th>format</th>\n",
       "      <th>uncertain</th>\n",
       "      <th>ebook_url</th>\n",
       "      <th>volumes_issues</th>\n",
       "      <th>notes</th>\n",
       "      <th>event_count</th>\n",
       "      <th>borrow_count</th>\n",
       "      <th>purchase_count</th>\n",
       "      <th>circulation_years</th>\n",
       "      <th>updated</th>\n",
       "    </tr>\n",
       "  </thead>\n",
       "  <tbody>\n",
       "    <tr>\n",
       "      <th>0</th>\n",
       "      <td>https://shakespeareandco.princeton.edu/books/m...</td>\n",
       "      <td>Le Morte d'Arthur</td>\n",
       "      <td>Malory, Thomas</td>\n",
       "      <td>NaN</td>\n",
       "      <td>NaN</td>\n",
       "      <td>NaN</td>\n",
       "      <td>NaN</td>\n",
       "      <td>NaN</td>\n",
       "      <td>1485</td>\n",
       "      <td>Book</td>\n",
       "      <td>False</td>\n",
       "      <td>https://archive.org/details/mortedarthur02malo</td>\n",
       "      <td>NaN</td>\n",
       "      <td>NaN</td>\n",
       "      <td>7</td>\n",
       "      <td>7</td>\n",
       "      <td>0</td>\n",
       "      <td>1930;1932;1937;1938;1939</td>\n",
       "      <td>2021-11-14T13:57:51.282365+00:00</td>\n",
       "    </tr>\n",
       "    <tr>\n",
       "      <th>1</th>\n",
       "      <td>https://shakespeareandco.princeton.edu/books/m...</td>\n",
       "      <td>Utopia</td>\n",
       "      <td>More, Thomas</td>\n",
       "      <td>NaN</td>\n",
       "      <td>NaN</td>\n",
       "      <td>NaN</td>\n",
       "      <td>NaN</td>\n",
       "      <td>NaN</td>\n",
       "      <td>1516</td>\n",
       "      <td>Book</td>\n",
       "      <td>False</td>\n",
       "      <td>https://archive.org/details/utopiamo00more</td>\n",
       "      <td>NaN</td>\n",
       "      <td>NaN</td>\n",
       "      <td>2</td>\n",
       "      <td>2</td>\n",
       "      <td>0</td>\n",
       "      <td>1930;1950;1951</td>\n",
       "      <td>2021-10-31T17:47:49.103296+00:00</td>\n",
       "    </tr>\n",
       "    <tr>\n",
       "      <th>2</th>\n",
       "      <td>https://shakespeareandco.princeton.edu/books/n...</td>\n",
       "      <td>Gorboduc</td>\n",
       "      <td>Norton, Thomas</td>\n",
       "      <td>NaN</td>\n",
       "      <td>NaN</td>\n",
       "      <td>NaN</td>\n",
       "      <td>NaN</td>\n",
       "      <td>NaN</td>\n",
       "      <td>1561</td>\n",
       "      <td>Book</td>\n",
       "      <td>False</td>\n",
       "      <td>NaN</td>\n",
       "      <td>NaN</td>\n",
       "      <td>NaN</td>\n",
       "      <td>1</td>\n",
       "      <td>1</td>\n",
       "      <td>0</td>\n",
       "      <td>1950</td>\n",
       "      <td>2020-06-29T03:49:47+00:00</td>\n",
       "    </tr>\n",
       "    <tr>\n",
       "      <th>3</th>\n",
       "      <td>https://shakespeareandco.princeton.edu/books/l...</td>\n",
       "      <td>Euphues: The Anatomy of Wit</td>\n",
       "      <td>Lyly, John</td>\n",
       "      <td>NaN</td>\n",
       "      <td>NaN</td>\n",
       "      <td>NaN</td>\n",
       "      <td>NaN</td>\n",
       "      <td>NaN</td>\n",
       "      <td>1578</td>\n",
       "      <td>Book</td>\n",
       "      <td>False</td>\n",
       "      <td>https://archive.org/details/cu31924013122084</td>\n",
       "      <td>NaN</td>\n",
       "      <td>NaN</td>\n",
       "      <td>1</td>\n",
       "      <td>1</td>\n",
       "      <td>0</td>\n",
       "      <td>1941</td>\n",
       "      <td>2021-06-05T15:37:07+00:00</td>\n",
       "    </tr>\n",
       "    <tr>\n",
       "      <th>4</th>\n",
       "      <td>https://shakespeareandco.princeton.edu/books/s...</td>\n",
       "      <td>The Shepheard's Calendar</td>\n",
       "      <td>Spenser, Edmund</td>\n",
       "      <td>NaN</td>\n",
       "      <td>NaN</td>\n",
       "      <td>NaN</td>\n",
       "      <td>NaN</td>\n",
       "      <td>NaN</td>\n",
       "      <td>1579</td>\n",
       "      <td>Book</td>\n",
       "      <td>False</td>\n",
       "      <td>https://archive.org/details/shepheardscalend00...</td>\n",
       "      <td>NaN</td>\n",
       "      <td>NaN</td>\n",
       "      <td>1</td>\n",
       "      <td>1</td>\n",
       "      <td>0</td>\n",
       "      <td>1941</td>\n",
       "      <td>2021-11-06T12:26:04.482734+00:00</td>\n",
       "    </tr>\n",
       "    <tr>\n",
       "      <th>5</th>\n",
       "      <td>https://shakespeareandco.princeton.edu/books/l...</td>\n",
       "      <td>Rosalynde: A Novel</td>\n",
       "      <td>Lodge, Thomas</td>\n",
       "      <td>NaN</td>\n",
       "      <td>NaN</td>\n",
       "      <td>NaN</td>\n",
       "      <td>NaN</td>\n",
       "      <td>NaN</td>\n",
       "      <td>1590</td>\n",
       "      <td>Book</td>\n",
       "      <td>False</td>\n",
       "      <td>https://archive.org/details/rosalynde00lodg</td>\n",
       "      <td>NaN</td>\n",
       "      <td>NaN</td>\n",
       "      <td>8</td>\n",
       "      <td>8</td>\n",
       "      <td>0</td>\n",
       "      <td>1939;1940;1941;1942</td>\n",
       "      <td>2021-11-07T18:38:23.667066+00:00</td>\n",
       "    </tr>\n",
       "    <tr>\n",
       "      <th>6</th>\n",
       "      <td>https://shakespeareandco.princeton.edu/books/g...</td>\n",
       "      <td>The Defence of Conny-Catching</td>\n",
       "      <td>Greene, Robert</td>\n",
       "      <td>NaN</td>\n",
       "      <td>NaN</td>\n",
       "      <td>NaN</td>\n",
       "      <td>NaN</td>\n",
       "      <td>NaN</td>\n",
       "      <td>1592</td>\n",
       "      <td>Book</td>\n",
       "      <td>False</td>\n",
       "      <td>NaN</td>\n",
       "      <td>NaN</td>\n",
       "      <td>NaN</td>\n",
       "      <td>2</td>\n",
       "      <td>2</td>\n",
       "      <td>0</td>\n",
       "      <td>1939;1940</td>\n",
       "      <td>2020-04-30T19:40:17+00:00</td>\n",
       "    </tr>\n",
       "    <tr>\n",
       "      <th>7</th>\n",
       "      <td>https://shakespeareandco.princeton.edu/books/s...</td>\n",
       "      <td>A Midsummer's Night's Dream</td>\n",
       "      <td>Shakespeare, William</td>\n",
       "      <td>NaN</td>\n",
       "      <td>NaN</td>\n",
       "      <td>NaN</td>\n",
       "      <td>NaN</td>\n",
       "      <td>NaN</td>\n",
       "      <td>1595</td>\n",
       "      <td>Book</td>\n",
       "      <td>False</td>\n",
       "      <td>https://archive.org/details/midsummernightsd03...</td>\n",
       "      <td>NaN</td>\n",
       "      <td>NaN</td>\n",
       "      <td>1</td>\n",
       "      <td>1</td>\n",
       "      <td>0</td>\n",
       "      <td>1940</td>\n",
       "      <td>2021-11-15T05:37:25.730819+00:00</td>\n",
       "    </tr>\n",
       "    <tr>\n",
       "      <th>8</th>\n",
       "      <td>https://shakespeareandco.princeton.edu/books/s...</td>\n",
       "      <td>An Apology for Poetry</td>\n",
       "      <td>Sidney, Philip</td>\n",
       "      <td>NaN</td>\n",
       "      <td>NaN</td>\n",
       "      <td>NaN</td>\n",
       "      <td>NaN</td>\n",
       "      <td>NaN</td>\n",
       "      <td>1595</td>\n",
       "      <td>Book</td>\n",
       "      <td>False</td>\n",
       "      <td>NaN</td>\n",
       "      <td>NaN</td>\n",
       "      <td>NaN</td>\n",
       "      <td>2</td>\n",
       "      <td>2</td>\n",
       "      <td>0</td>\n",
       "      <td>1934</td>\n",
       "      <td>2020-04-30T19:40:14+00:00</td>\n",
       "    </tr>\n",
       "    <tr>\n",
       "      <th>9</th>\n",
       "      <td>https://shakespeareandco.princeton.edu/books/s...</td>\n",
       "      <td>Love's Labour's Lost</td>\n",
       "      <td>Shakespeare, William</td>\n",
       "      <td>NaN</td>\n",
       "      <td>NaN</td>\n",
       "      <td>NaN</td>\n",
       "      <td>NaN</td>\n",
       "      <td>NaN</td>\n",
       "      <td>1598</td>\n",
       "      <td>Book</td>\n",
       "      <td>False</td>\n",
       "      <td>https://archive.org/details/loveslabourslost19...</td>\n",
       "      <td>NaN</td>\n",
       "      <td>NaN</td>\n",
       "      <td>1</td>\n",
       "      <td>1</td>\n",
       "      <td>0</td>\n",
       "      <td>1922</td>\n",
       "      <td>2021-10-26T03:07:33.750391+00:00</td>\n",
       "    </tr>\n",
       "  </tbody>\n",
       "</table>\n",
       "</div>"
      ],
      "text/plain": [
       "                                                 uri  \\\n",
       "0  https://shakespeareandco.princeton.edu/books/m...   \n",
       "1  https://shakespeareandco.princeton.edu/books/m...   \n",
       "2  https://shakespeareandco.princeton.edu/books/n...   \n",
       "3  https://shakespeareandco.princeton.edu/books/l...   \n",
       "4  https://shakespeareandco.princeton.edu/books/s...   \n",
       "5  https://shakespeareandco.princeton.edu/books/l...   \n",
       "6  https://shakespeareandco.princeton.edu/books/g...   \n",
       "7  https://shakespeareandco.princeton.edu/books/s...   \n",
       "8  https://shakespeareandco.princeton.edu/books/s...   \n",
       "9  https://shakespeareandco.princeton.edu/books/s...   \n",
       "\n",
       "                           title                author editor translator  \\\n",
       "0              Le Morte d'Arthur        Malory, Thomas    NaN        NaN   \n",
       "1                         Utopia          More, Thomas    NaN        NaN   \n",
       "2                       Gorboduc        Norton, Thomas    NaN        NaN   \n",
       "3    Euphues: The Anatomy of Wit            Lyly, John    NaN        NaN   \n",
       "4       The Shepheard's Calendar       Spenser, Edmund    NaN        NaN   \n",
       "5             Rosalynde: A Novel         Lodge, Thomas    NaN        NaN   \n",
       "6  The Defence of Conny-Catching        Greene, Robert    NaN        NaN   \n",
       "7    A Midsummer's Night's Dream  Shakespeare, William    NaN        NaN   \n",
       "8          An Apology for Poetry        Sidney, Philip    NaN        NaN   \n",
       "9           Love's Labour's Lost  Shakespeare, William    NaN        NaN   \n",
       "\n",
       "  introduction illustrator photographer  year format  uncertain  \\\n",
       "0          NaN         NaN          NaN  1485   Book      False   \n",
       "1          NaN         NaN          NaN  1516   Book      False   \n",
       "2          NaN         NaN          NaN  1561   Book      False   \n",
       "3          NaN         NaN          NaN  1578   Book      False   \n",
       "4          NaN         NaN          NaN  1579   Book      False   \n",
       "5          NaN         NaN          NaN  1590   Book      False   \n",
       "6          NaN         NaN          NaN  1592   Book      False   \n",
       "7          NaN         NaN          NaN  1595   Book      False   \n",
       "8          NaN         NaN          NaN  1595   Book      False   \n",
       "9          NaN         NaN          NaN  1598   Book      False   \n",
       "\n",
       "                                           ebook_url volumes_issues notes  \\\n",
       "0     https://archive.org/details/mortedarthur02malo            NaN   NaN   \n",
       "1         https://archive.org/details/utopiamo00more            NaN   NaN   \n",
       "2                                                NaN            NaN   NaN   \n",
       "3       https://archive.org/details/cu31924013122084            NaN   NaN   \n",
       "4  https://archive.org/details/shepheardscalend00...            NaN   NaN   \n",
       "5        https://archive.org/details/rosalynde00lodg            NaN   NaN   \n",
       "6                                                NaN            NaN   NaN   \n",
       "7  https://archive.org/details/midsummernightsd03...            NaN   NaN   \n",
       "8                                                NaN            NaN   NaN   \n",
       "9  https://archive.org/details/loveslabourslost19...            NaN   NaN   \n",
       "\n",
       "   event_count  borrow_count  purchase_count         circulation_years  \\\n",
       "0            7             7               0  1930;1932;1937;1938;1939   \n",
       "1            2             2               0            1930;1950;1951   \n",
       "2            1             1               0                      1950   \n",
       "3            1             1               0                      1941   \n",
       "4            1             1               0                      1941   \n",
       "5            8             8               0       1939;1940;1941;1942   \n",
       "6            2             2               0                 1939;1940   \n",
       "7            1             1               0                      1940   \n",
       "8            2             2               0                      1934   \n",
       "9            1             1               0                      1922   \n",
       "\n",
       "                            updated  \n",
       "0  2021-11-14T13:57:51.282365+00:00  \n",
       "1  2021-10-31T17:47:49.103296+00:00  \n",
       "2         2020-06-29T03:49:47+00:00  \n",
       "3         2021-06-05T15:37:07+00:00  \n",
       "4  2021-11-06T12:26:04.482734+00:00  \n",
       "5  2021-11-07T18:38:23.667066+00:00  \n",
       "6         2020-04-30T19:40:17+00:00  \n",
       "7  2021-11-15T05:37:25.730819+00:00  \n",
       "8         2020-04-30T19:40:14+00:00  \n",
       "9  2021-10-26T03:07:33.750391+00:00  "
      ]
     },
     "execution_count": 9,
     "metadata": {},
     "output_type": "execute_result"
    }
   ],
   "source": [
    "books.head(10)"
   ]
  },
  {
   "cell_type": "markdown",
   "id": "46cfeb29",
   "metadata": {},
   "source": [
    "We can also take a random sample from the dataset using the ```sample()``` method. As a parameter, we specify how big of a sample we need."
   ]
  },
  {
   "cell_type": "code",
   "execution_count": 10,
   "id": "074356c5",
   "metadata": {},
   "outputs": [
    {
     "data": {
      "text/html": [
       "<div>\n",
       "<style scoped>\n",
       "    .dataframe tbody tr th:only-of-type {\n",
       "        vertical-align: middle;\n",
       "    }\n",
       "\n",
       "    .dataframe tbody tr th {\n",
       "        vertical-align: top;\n",
       "    }\n",
       "\n",
       "    .dataframe thead th {\n",
       "        text-align: right;\n",
       "    }\n",
       "</style>\n",
       "<table border=\"1\" class=\"dataframe\">\n",
       "  <thead>\n",
       "    <tr style=\"text-align: right;\">\n",
       "      <th></th>\n",
       "      <th>uri</th>\n",
       "      <th>title</th>\n",
       "      <th>author</th>\n",
       "      <th>editor</th>\n",
       "      <th>translator</th>\n",
       "      <th>introduction</th>\n",
       "      <th>illustrator</th>\n",
       "      <th>photographer</th>\n",
       "      <th>year</th>\n",
       "      <th>format</th>\n",
       "      <th>uncertain</th>\n",
       "      <th>ebook_url</th>\n",
       "      <th>volumes_issues</th>\n",
       "      <th>notes</th>\n",
       "      <th>event_count</th>\n",
       "      <th>borrow_count</th>\n",
       "      <th>purchase_count</th>\n",
       "      <th>circulation_years</th>\n",
       "      <th>updated</th>\n",
       "    </tr>\n",
       "  </thead>\n",
       "  <tbody>\n",
       "    <tr>\n",
       "      <th>5585</th>\n",
       "      <td>https://shakespeareandco.princeton.edu/books/l...</td>\n",
       "      <td>Life of Charles Dickens</td>\n",
       "      <td>NaN</td>\n",
       "      <td>NaN</td>\n",
       "      <td>NaN</td>\n",
       "      <td>NaN</td>\n",
       "      <td>NaN</td>\n",
       "      <td>NaN</td>\n",
       "      <td>&lt;NA&gt;</td>\n",
       "      <td>NaN</td>\n",
       "      <td>True</td>\n",
       "      <td>NaN</td>\n",
       "      <td>NaN</td>\n",
       "      <td>Unidentified. Likely John Forster's *Life of C...</td>\n",
       "      <td>1</td>\n",
       "      <td>1</td>\n",
       "      <td>0</td>\n",
       "      <td>1938</td>\n",
       "      <td>2020-06-03T02:02:56+00:00</td>\n",
       "    </tr>\n",
       "    <tr>\n",
       "      <th>3338</th>\n",
       "      <td>https://shakespeareandco.princeton.edu/books/c...</td>\n",
       "      <td>The Box Office Murders</td>\n",
       "      <td>Crofts, Freeman Wills</td>\n",
       "      <td>NaN</td>\n",
       "      <td>NaN</td>\n",
       "      <td>NaN</td>\n",
       "      <td>NaN</td>\n",
       "      <td>NaN</td>\n",
       "      <td>1929</td>\n",
       "      <td>Book</td>\n",
       "      <td>False</td>\n",
       "      <td>NaN</td>\n",
       "      <td>NaN</td>\n",
       "      <td>NaN</td>\n",
       "      <td>6</td>\n",
       "      <td>6</td>\n",
       "      <td>0</td>\n",
       "      <td>1930;1931;1939;1941</td>\n",
       "      <td>2020-04-30T19:40:17+00:00</td>\n",
       "    </tr>\n",
       "    <tr>\n",
       "      <th>3337</th>\n",
       "      <td>https://shakespeareandco.princeton.edu/books/m...</td>\n",
       "      <td>The Boroughmonger</td>\n",
       "      <td>Mottram, R. H.</td>\n",
       "      <td>NaN</td>\n",
       "      <td>NaN</td>\n",
       "      <td>NaN</td>\n",
       "      <td>NaN</td>\n",
       "      <td>NaN</td>\n",
       "      <td>1929</td>\n",
       "      <td>Book</td>\n",
       "      <td>False</td>\n",
       "      <td>NaN</td>\n",
       "      <td>NaN</td>\n",
       "      <td>NaN</td>\n",
       "      <td>1</td>\n",
       "      <td>1</td>\n",
       "      <td>0</td>\n",
       "      <td>1929</td>\n",
       "      <td>2020-04-30T19:40:19+00:00</td>\n",
       "    </tr>\n",
       "    <tr>\n",
       "      <th>470</th>\n",
       "      <td>https://shakespeareandco.princeton.edu/books/d...</td>\n",
       "      <td>Peter Ibbetson</td>\n",
       "      <td>Du Maurier, George</td>\n",
       "      <td>NaN</td>\n",
       "      <td>NaN</td>\n",
       "      <td>NaN</td>\n",
       "      <td>NaN</td>\n",
       "      <td>NaN</td>\n",
       "      <td>1891</td>\n",
       "      <td>Book</td>\n",
       "      <td>False</td>\n",
       "      <td>https://archive.org/details/peteribbetson00duma_0</td>\n",
       "      <td>NaN</td>\n",
       "      <td>NaN</td>\n",
       "      <td>1</td>\n",
       "      <td>1</td>\n",
       "      <td>0</td>\n",
       "      <td>1940</td>\n",
       "      <td>2021-11-11T03:51:52.779576+00:00</td>\n",
       "    </tr>\n",
       "    <tr>\n",
       "      <th>5434</th>\n",
       "      <td>https://shakespeareandco.princeton.edu/books/s...</td>\n",
       "      <td>Edmund Spenser's Works</td>\n",
       "      <td>Spenser, Edmund</td>\n",
       "      <td>NaN</td>\n",
       "      <td>NaN</td>\n",
       "      <td>NaN</td>\n",
       "      <td>NaN</td>\n",
       "      <td>NaN</td>\n",
       "      <td>&lt;NA&gt;</td>\n",
       "      <td>Book</td>\n",
       "      <td>False</td>\n",
       "      <td>https://archive.org/details/poeticalworksof00s...</td>\n",
       "      <td>NaN</td>\n",
       "      <td>Madeleine Blaess borrowed *The Poetical Works ...</td>\n",
       "      <td>5</td>\n",
       "      <td>5</td>\n",
       "      <td>0</td>\n",
       "      <td>1929;1937;1933;1941</td>\n",
       "      <td>2021-11-20T21:35:31.395705+00:00</td>\n",
       "    </tr>\n",
       "  </tbody>\n",
       "</table>\n",
       "</div>"
      ],
      "text/plain": [
       "                                                    uri  \\\n",
       "5585  https://shakespeareandco.princeton.edu/books/l...   \n",
       "3338  https://shakespeareandco.princeton.edu/books/c...   \n",
       "3337  https://shakespeareandco.princeton.edu/books/m...   \n",
       "470   https://shakespeareandco.princeton.edu/books/d...   \n",
       "5434  https://shakespeareandco.princeton.edu/books/s...   \n",
       "\n",
       "                        title                 author editor translator  \\\n",
       "5585  Life of Charles Dickens                    NaN    NaN        NaN   \n",
       "3338   The Box Office Murders  Crofts, Freeman Wills    NaN        NaN   \n",
       "3337        The Boroughmonger         Mottram, R. H.    NaN        NaN   \n",
       "470            Peter Ibbetson     Du Maurier, George    NaN        NaN   \n",
       "5434   Edmund Spenser's Works        Spenser, Edmund    NaN        NaN   \n",
       "\n",
       "     introduction illustrator photographer  year format  uncertain  \\\n",
       "5585          NaN         NaN          NaN  <NA>    NaN       True   \n",
       "3338          NaN         NaN          NaN  1929   Book      False   \n",
       "3337          NaN         NaN          NaN  1929   Book      False   \n",
       "470           NaN         NaN          NaN  1891   Book      False   \n",
       "5434          NaN         NaN          NaN  <NA>   Book      False   \n",
       "\n",
       "                                              ebook_url volumes_issues  \\\n",
       "5585                                                NaN            NaN   \n",
       "3338                                                NaN            NaN   \n",
       "3337                                                NaN            NaN   \n",
       "470   https://archive.org/details/peteribbetson00duma_0            NaN   \n",
       "5434  https://archive.org/details/poeticalworksof00s...            NaN   \n",
       "\n",
       "                                                  notes  event_count  \\\n",
       "5585  Unidentified. Likely John Forster's *Life of C...            1   \n",
       "3338                                                NaN            6   \n",
       "3337                                                NaN            1   \n",
       "470                                                 NaN            1   \n",
       "5434  Madeleine Blaess borrowed *The Poetical Works ...            5   \n",
       "\n",
       "      borrow_count  purchase_count    circulation_years  \\\n",
       "5585             1               0                 1938   \n",
       "3338             6               0  1930;1931;1939;1941   \n",
       "3337             1               0                 1929   \n",
       "470              1               0                 1940   \n",
       "5434             5               0  1929;1937;1933;1941   \n",
       "\n",
       "                               updated  \n",
       "5585         2020-06-03T02:02:56+00:00  \n",
       "3338         2020-04-30T19:40:17+00:00  \n",
       "3337         2020-04-30T19:40:19+00:00  \n",
       "470   2021-11-11T03:51:52.779576+00:00  \n",
       "5434  2021-11-20T21:35:31.395705+00:00  "
      ]
     },
     "execution_count": 10,
     "metadata": {},
     "output_type": "execute_result"
    }
   ],
   "source": [
    "books.sample(5)"
   ]
  },
  {
   "cell_type": "markdown",
   "id": "c48feb0e",
   "metadata": {},
   "source": [
    "We can also check the shape of the DataFrame and the number of unique entries per column. The latter values are considered to be \"categorical data\", because they sort data in categories or groups. Which columns in our dataset can be considered categorical?"
   ]
  },
  {
   "cell_type": "code",
   "execution_count": 11,
   "id": "674bca50",
   "metadata": {},
   "outputs": [
    {
     "data": {
      "text/plain": [
       "(6020, 19)"
      ]
     },
     "execution_count": 11,
     "metadata": {},
     "output_type": "execute_result"
    }
   ],
   "source": [
    "books.shape"
   ]
  },
  {
   "cell_type": "code",
   "execution_count": 12,
   "id": "94152caa",
   "metadata": {},
   "outputs": [
    {
     "data": {
      "text/plain": [
       "<IntegerArray>\n",
       "[1485, 1516, 1561, 1578, 1579, 1590, 1592, 1595, 1598, 1605,\n",
       " ...\n",
       " 1953, 1954, 1955, 1956, 1957, 1958, 1959, 1960, 1962, <NA>]\n",
       "Length: 201, dtype: Int32"
      ]
     },
     "execution_count": 12,
     "metadata": {},
     "output_type": "execute_result"
    }
   ],
   "source": [
    "books['year'].unique()"
   ]
  },
  {
   "cell_type": "markdown",
   "id": "b1d4bd6f",
   "metadata": {},
   "source": [
    "We can also check a specific entry (here by using indexing) to see an example entry from our dataset. "
   ]
  },
  {
   "cell_type": "code",
   "execution_count": 13,
   "id": "a823c71a",
   "metadata": {},
   "outputs": [
    {
     "data": {
      "text/plain": [
       "uri                  https://shakespeareandco.princeton.edu/books/v...\n",
       "title                                     Costumes Anciens et Modernes\n",
       "author                                                Vecellio, Cesare\n",
       "editor                                                             NaN\n",
       "translator                                                         NaN\n",
       "introduction                                                       NaN\n",
       "illustrator                                                        NaN\n",
       "photographer                                                       NaN\n",
       "year                                                              1860\n",
       "format                                                            Book\n",
       "uncertain                                                        False\n",
       "ebook_url                                                          NaN\n",
       "volumes_issues                                                 2 vols.\n",
       "notes                                                              NaN\n",
       "event_count                                                          1\n",
       "borrow_count                                                         1\n",
       "purchase_count                                                       0\n",
       "circulation_years                                                 1940\n",
       "updated                                      2020-07-13T20:34:13+00:00\n",
       "Name: 200, dtype: object"
      ]
     },
     "execution_count": 13,
     "metadata": {},
     "output_type": "execute_result"
    }
   ],
   "source": [
    "books.iloc[200]"
   ]
  },
  {
   "cell_type": "code",
   "execution_count": 12,
   "id": "0b3d83f2",
   "metadata": {},
   "outputs": [
    {
     "data": {
      "text/plain": [
       "array(['Female', 'Male'], dtype=object)"
      ]
     },
     "execution_count": 12,
     "metadata": {},
     "output_type": "execute_result"
    }
   ],
   "source": [
    "sales.Gender.unique()"
   ]
  },
  {
   "cell_type": "markdown",
   "id": "7ad0a69e",
   "metadata": {},
   "source": [
    "We can also check the nr of entries in which the customer was a male:"
   ]
  },
  {
   "cell_type": "code",
   "execution_count": 13,
   "id": "056327eb",
   "metadata": {},
   "outputs": [
    {
     "data": {
      "text/html": [
       "<div>\n",
       "<style scoped>\n",
       "    .dataframe tbody tr th:only-of-type {\n",
       "        vertical-align: middle;\n",
       "    }\n",
       "\n",
       "    .dataframe tbody tr th {\n",
       "        vertical-align: top;\n",
       "    }\n",
       "\n",
       "    .dataframe thead th {\n",
       "        text-align: right;\n",
       "    }\n",
       "</style>\n",
       "<table border=\"1\" class=\"dataframe\">\n",
       "  <thead>\n",
       "    <tr style=\"text-align: right;\">\n",
       "      <th></th>\n",
       "      <th>Invoice ID</th>\n",
       "      <th>Branch</th>\n",
       "      <th>City</th>\n",
       "      <th>Customer type</th>\n",
       "      <th>Gender</th>\n",
       "      <th>Product line</th>\n",
       "      <th>Unit price</th>\n",
       "      <th>Quantity</th>\n",
       "      <th>Tax 5%</th>\n",
       "      <th>Total</th>\n",
       "      <th>Date</th>\n",
       "      <th>Time</th>\n",
       "      <th>Payment</th>\n",
       "      <th>cogs</th>\n",
       "      <th>gross margin percentage</th>\n",
       "      <th>gross income</th>\n",
       "      <th>Rating</th>\n",
       "    </tr>\n",
       "  </thead>\n",
       "  <tbody>\n",
       "    <tr>\n",
       "      <th>2</th>\n",
       "      <td>631-41-3108</td>\n",
       "      <td>A</td>\n",
       "      <td>Yangon</td>\n",
       "      <td>Normal</td>\n",
       "      <td>Male</td>\n",
       "      <td>Home and lifestyle</td>\n",
       "      <td>46.33</td>\n",
       "      <td>7.0</td>\n",
       "      <td>16.2155</td>\n",
       "      <td>340.5255</td>\n",
       "      <td>3/3/2019</td>\n",
       "      <td>13:23</td>\n",
       "      <td>Credit card</td>\n",
       "      <td>324.31</td>\n",
       "      <td>4.761905</td>\n",
       "      <td>16.2155</td>\n",
       "      <td>7.4</td>\n",
       "    </tr>\n",
       "    <tr>\n",
       "      <th>3</th>\n",
       "      <td>123-19-1176</td>\n",
       "      <td>A</td>\n",
       "      <td>Yangon</td>\n",
       "      <td>Member</td>\n",
       "      <td>Male</td>\n",
       "      <td>Health and beauty</td>\n",
       "      <td>58.22</td>\n",
       "      <td>8.0</td>\n",
       "      <td>23.2880</td>\n",
       "      <td>489.0480</td>\n",
       "      <td>1/27/2019</td>\n",
       "      <td>20:33</td>\n",
       "      <td>Ewallet</td>\n",
       "      <td>465.76</td>\n",
       "      <td>4.761905</td>\n",
       "      <td>23.2880</td>\n",
       "      <td>8.4</td>\n",
       "    </tr>\n",
       "    <tr>\n",
       "      <th>4</th>\n",
       "      <td>373-73-7910</td>\n",
       "      <td>A</td>\n",
       "      <td>Yangon</td>\n",
       "      <td>Normal</td>\n",
       "      <td>Male</td>\n",
       "      <td>Sports and travel</td>\n",
       "      <td>86.31</td>\n",
       "      <td>7.0</td>\n",
       "      <td>30.2085</td>\n",
       "      <td>634.3785</td>\n",
       "      <td>2/8/2019</td>\n",
       "      <td>10:37</td>\n",
       "      <td>Ewallet</td>\n",
       "      <td>604.17</td>\n",
       "      <td>4.761905</td>\n",
       "      <td>30.2085</td>\n",
       "      <td>5.3</td>\n",
       "    </tr>\n",
       "    <tr>\n",
       "      <th>5</th>\n",
       "      <td>699-14-3026</td>\n",
       "      <td>C</td>\n",
       "      <td>Naypyitaw</td>\n",
       "      <td>Normal</td>\n",
       "      <td>Male</td>\n",
       "      <td>Electronic accessories</td>\n",
       "      <td>85.39</td>\n",
       "      <td>7.0</td>\n",
       "      <td>29.8865</td>\n",
       "      <td>627.6165</td>\n",
       "      <td>3/25/2019</td>\n",
       "      <td>18:30</td>\n",
       "      <td>Ewallet</td>\n",
       "      <td>597.73</td>\n",
       "      <td>4.761905</td>\n",
       "      <td>29.8865</td>\n",
       "      <td>4.1</td>\n",
       "    </tr>\n",
       "    <tr>\n",
       "      <th>11</th>\n",
       "      <td>529-56-3974</td>\n",
       "      <td>B</td>\n",
       "      <td>Mandalay</td>\n",
       "      <td>Member</td>\n",
       "      <td>Male</td>\n",
       "      <td>Electronic accessories</td>\n",
       "      <td>25.51</td>\n",
       "      <td>4.0</td>\n",
       "      <td>5.1020</td>\n",
       "      <td>107.1420</td>\n",
       "      <td>3/9/2019</td>\n",
       "      <td>17:03</td>\n",
       "      <td>Cash</td>\n",
       "      <td>102.04</td>\n",
       "      <td>4.761905</td>\n",
       "      <td>5.1020</td>\n",
       "      <td>6.8</td>\n",
       "    </tr>\n",
       "    <tr>\n",
       "      <th>13</th>\n",
       "      <td>252-56-2699</td>\n",
       "      <td>A</td>\n",
       "      <td>Yangon</td>\n",
       "      <td>Normal</td>\n",
       "      <td>Male</td>\n",
       "      <td>Food and beverages</td>\n",
       "      <td>43.19</td>\n",
       "      <td>10.0</td>\n",
       "      <td>21.5950</td>\n",
       "      <td>453.4950</td>\n",
       "      <td>2/7/2019</td>\n",
       "      <td>16:48</td>\n",
       "      <td>Ewallet</td>\n",
       "      <td>431.90</td>\n",
       "      <td>4.761905</td>\n",
       "      <td>21.5950</td>\n",
       "      <td>8.2</td>\n",
       "    </tr>\n",
       "    <tr>\n",
       "      <th>17</th>\n",
       "      <td>765-26-6951</td>\n",
       "      <td>A</td>\n",
       "      <td>Yangon</td>\n",
       "      <td>Normal</td>\n",
       "      <td>Male</td>\n",
       "      <td>Sports and travel</td>\n",
       "      <td>72.61</td>\n",
       "      <td>6.0</td>\n",
       "      <td>21.7830</td>\n",
       "      <td>457.4430</td>\n",
       "      <td>1/1/2019</td>\n",
       "      <td>10:39</td>\n",
       "      <td>Credit card</td>\n",
       "      <td>435.66</td>\n",
       "      <td>4.761905</td>\n",
       "      <td>21.7830</td>\n",
       "      <td>6.9</td>\n",
       "    </tr>\n",
       "    <tr>\n",
       "      <th>18</th>\n",
       "      <td>329-62-1586</td>\n",
       "      <td>A</td>\n",
       "      <td>Yangon</td>\n",
       "      <td>Normal</td>\n",
       "      <td>Male</td>\n",
       "      <td>Food and beverages</td>\n",
       "      <td>54.67</td>\n",
       "      <td>3.0</td>\n",
       "      <td>8.2005</td>\n",
       "      <td>172.2105</td>\n",
       "      <td>1/21/2019</td>\n",
       "      <td>18:00</td>\n",
       "      <td>Credit card</td>\n",
       "      <td>164.01</td>\n",
       "      <td>4.761905</td>\n",
       "      <td>8.2005</td>\n",
       "      <td>8.6</td>\n",
       "    </tr>\n",
       "    <tr>\n",
       "      <th>20</th>\n",
       "      <td>300-71-4605</td>\n",
       "      <td>C</td>\n",
       "      <td>Naypyitaw</td>\n",
       "      <td>Member</td>\n",
       "      <td>Male</td>\n",
       "      <td>Electronic accessories</td>\n",
       "      <td>86.04</td>\n",
       "      <td>5.0</td>\n",
       "      <td>21.5100</td>\n",
       "      <td>451.7100</td>\n",
       "      <td>2/25/2019</td>\n",
       "      <td>11:24</td>\n",
       "      <td>Ewallet</td>\n",
       "      <td>430.20</td>\n",
       "      <td>4.761905</td>\n",
       "      <td>21.5100</td>\n",
       "      <td>4.8</td>\n",
       "    </tr>\n",
       "    <tr>\n",
       "      <th>21</th>\n",
       "      <td>371-85-5789</td>\n",
       "      <td>B</td>\n",
       "      <td>Mandalay</td>\n",
       "      <td>Normal</td>\n",
       "      <td>Male</td>\n",
       "      <td>Health and beauty</td>\n",
       "      <td></td>\n",
       "      <td>3.0</td>\n",
       "      <td>13.1970</td>\n",
       "      <td>277.1370</td>\n",
       "      <td>3/5/2019</td>\n",
       "      <td>10:40</td>\n",
       "      <td>Ewallet</td>\n",
       "      <td>263.94</td>\n",
       "      <td>4.761905</td>\n",
       "      <td>13.1970</td>\n",
       "      <td>5.1</td>\n",
       "    </tr>\n",
       "  </tbody>\n",
       "</table>\n",
       "</div>"
      ],
      "text/plain": [
       "     Invoice ID Branch       City Customer type Gender  \\\n",
       "2   631-41-3108      A     Yangon        Normal   Male   \n",
       "3   123-19-1176      A     Yangon        Member   Male   \n",
       "4   373-73-7910      A     Yangon        Normal   Male   \n",
       "5   699-14-3026      C  Naypyitaw        Normal   Male   \n",
       "11  529-56-3974      B   Mandalay        Member   Male   \n",
       "13  252-56-2699      A     Yangon        Normal   Male   \n",
       "17  765-26-6951      A     Yangon        Normal   Male   \n",
       "18  329-62-1586      A     Yangon        Normal   Male   \n",
       "20  300-71-4605      C  Naypyitaw        Member   Male   \n",
       "21  371-85-5789      B   Mandalay        Normal   Male   \n",
       "\n",
       "              Product line Unit price  Quantity   Tax 5%     Total       Date  \\\n",
       "2       Home and lifestyle      46.33       7.0  16.2155  340.5255   3/3/2019   \n",
       "3        Health and beauty      58.22       8.0  23.2880  489.0480  1/27/2019   \n",
       "4        Sports and travel      86.31       7.0  30.2085  634.3785   2/8/2019   \n",
       "5   Electronic accessories      85.39       7.0  29.8865  627.6165  3/25/2019   \n",
       "11  Electronic accessories      25.51       4.0   5.1020  107.1420   3/9/2019   \n",
       "13      Food and beverages      43.19      10.0  21.5950  453.4950   2/7/2019   \n",
       "17       Sports and travel      72.61       6.0  21.7830  457.4430   1/1/2019   \n",
       "18      Food and beverages      54.67       3.0   8.2005  172.2105  1/21/2019   \n",
       "20  Electronic accessories      86.04       5.0  21.5100  451.7100  2/25/2019   \n",
       "21       Health and beauty                  3.0  13.1970  277.1370   3/5/2019   \n",
       "\n",
       "     Time      Payment    cogs  gross margin percentage  gross income  Rating  \n",
       "2   13:23  Credit card  324.31                 4.761905       16.2155     7.4  \n",
       "3   20:33      Ewallet  465.76                 4.761905       23.2880     8.4  \n",
       "4   10:37      Ewallet  604.17                 4.761905       30.2085     5.3  \n",
       "5   18:30      Ewallet  597.73                 4.761905       29.8865     4.1  \n",
       "11  17:03         Cash  102.04                 4.761905        5.1020     6.8  \n",
       "13  16:48      Ewallet  431.90                 4.761905       21.5950     8.2  \n",
       "17  10:39  Credit card  435.66                 4.761905       21.7830     6.9  \n",
       "18  18:00  Credit card  164.01                 4.761905        8.2005     8.6  \n",
       "20  11:24      Ewallet  430.20                 4.761905       21.5100     4.8  \n",
       "21  10:40      Ewallet  263.94                 4.761905       13.1970     5.1  "
      ]
     },
     "execution_count": 13,
     "metadata": {},
     "output_type": "execute_result"
    }
   ],
   "source": [
    "sales_male = sales[sales['Gender']=='Male']\n",
    "sales_male.head(10)"
   ]
  },
  {
   "cell_type": "code",
   "execution_count": 14,
   "id": "1ce2b051",
   "metadata": {},
   "outputs": [
    {
     "data": {
      "text/html": [
       "<div>\n",
       "<style scoped>\n",
       "    .dataframe tbody tr th:only-of-type {\n",
       "        vertical-align: middle;\n",
       "    }\n",
       "\n",
       "    .dataframe tbody tr th {\n",
       "        vertical-align: top;\n",
       "    }\n",
       "\n",
       "    .dataframe thead th {\n",
       "        text-align: right;\n",
       "    }\n",
       "</style>\n",
       "<table border=\"1\" class=\"dataframe\">\n",
       "  <thead>\n",
       "    <tr style=\"text-align: right;\">\n",
       "      <th></th>\n",
       "      <th>Invoice ID</th>\n",
       "      <th>Branch</th>\n",
       "      <th>City</th>\n",
       "      <th>Customer type</th>\n",
       "      <th>Gender</th>\n",
       "      <th>Product line</th>\n",
       "      <th>Unit price</th>\n",
       "      <th>Quantity</th>\n",
       "      <th>Tax 5%</th>\n",
       "      <th>Total</th>\n",
       "      <th>Date</th>\n",
       "      <th>Time</th>\n",
       "      <th>Payment</th>\n",
       "      <th>cogs</th>\n",
       "      <th>gross margin percentage</th>\n",
       "      <th>gross income</th>\n",
       "      <th>Rating</th>\n",
       "    </tr>\n",
       "  </thead>\n",
       "  <tbody>\n",
       "    <tr>\n",
       "      <th>0</th>\n",
       "      <td>750-67-8428</td>\n",
       "      <td>NaN</td>\n",
       "      <td>Yangon</td>\n",
       "      <td>Member</td>\n",
       "      <td>Female</td>\n",
       "      <td>Health and beauty</td>\n",
       "      <td>74.69</td>\n",
       "      <td>7.0</td>\n",
       "      <td>26.1415</td>\n",
       "      <td>NaN</td>\n",
       "      <td>1/5/2019</td>\n",
       "      <td>13:08</td>\n",
       "      <td>Ewallet</td>\n",
       "      <td>522.83</td>\n",
       "      <td>4.761905</td>\n",
       "      <td>26.1415</td>\n",
       "      <td>9.1</td>\n",
       "    </tr>\n",
       "    <tr>\n",
       "      <th>1</th>\n",
       "      <td>226-31-3081</td>\n",
       "      <td>C</td>\n",
       "      <td>Naypyitaw</td>\n",
       "      <td>Normal</td>\n",
       "      <td>Female</td>\n",
       "      <td>Electronic accessories</td>\n",
       "      <td>15.28</td>\n",
       "      <td>5.0</td>\n",
       "      <td>NaN</td>\n",
       "      <td>80.2200</td>\n",
       "      <td>3/8/2019</td>\n",
       "      <td>10:29</td>\n",
       "      <td>Cash</td>\n",
       "      <td>76.40</td>\n",
       "      <td>4.761905</td>\n",
       "      <td>3.8200</td>\n",
       "      <td>9.6</td>\n",
       "    </tr>\n",
       "    <tr>\n",
       "      <th>6</th>\n",
       "      <td>355-53-5943</td>\n",
       "      <td></td>\n",
       "      <td>Yangon</td>\n",
       "      <td>Member</td>\n",
       "      <td>Female</td>\n",
       "      <td>Electronic accessories</td>\n",
       "      <td>68.84</td>\n",
       "      <td>6.0</td>\n",
       "      <td>20.6520</td>\n",
       "      <td>433.6920</td>\n",
       "      <td>2/25/2019</td>\n",
       "      <td>14:36</td>\n",
       "      <td>Ewallet</td>\n",
       "      <td>413.04</td>\n",
       "      <td>4.761905</td>\n",
       "      <td>20.6520</td>\n",
       "      <td>5.8</td>\n",
       "    </tr>\n",
       "    <tr>\n",
       "      <th>7</th>\n",
       "      <td>315-22-5665</td>\n",
       "      <td>C</td>\n",
       "      <td>Naypyitaw</td>\n",
       "      <td>Normal</td>\n",
       "      <td>Female</td>\n",
       "      <td>Home and lifestyle</td>\n",
       "      <td>73.56</td>\n",
       "      <td>10.0</td>\n",
       "      <td>36.7800</td>\n",
       "      <td>772.3800</td>\n",
       "      <td>2/24/2019</td>\n",
       "      <td>11:38</td>\n",
       "      <td>Ewallet</td>\n",
       "      <td>735.60</td>\n",
       "      <td>4.761905</td>\n",
       "      <td>36.7800</td>\n",
       "      <td>8.0</td>\n",
       "    </tr>\n",
       "    <tr>\n",
       "      <th>8</th>\n",
       "      <td>665-32-9167</td>\n",
       "      <td>A</td>\n",
       "      <td>Yangon</td>\n",
       "      <td>Member</td>\n",
       "      <td>Female</td>\n",
       "      <td>Health and beauty</td>\n",
       "      <td>36.26</td>\n",
       "      <td>2.0</td>\n",
       "      <td>3.6260</td>\n",
       "      <td>76.1460</td>\n",
       "      <td>1/10/2019</td>\n",
       "      <td>17:15</td>\n",
       "      <td>Credit card</td>\n",
       "      <td>72.52</td>\n",
       "      <td>4.761905</td>\n",
       "      <td>3.6260</td>\n",
       "      <td>7.2</td>\n",
       "    </tr>\n",
       "    <tr>\n",
       "      <th>9</th>\n",
       "      <td>692-92-5582</td>\n",
       "      <td>B</td>\n",
       "      <td>Mandalay</td>\n",
       "      <td>Member</td>\n",
       "      <td>Female</td>\n",
       "      <td>Food and beverages</td>\n",
       "      <td>54.84</td>\n",
       "      <td>3.0</td>\n",
       "      <td>8.2260</td>\n",
       "      <td>172.7460</td>\n",
       "      <td>2/20/2019</td>\n",
       "      <td>13:27</td>\n",
       "      <td>Credit card</td>\n",
       "      <td>164.52</td>\n",
       "      <td>4.761905</td>\n",
       "      <td>8.2260</td>\n",
       "      <td>5.9</td>\n",
       "    </tr>\n",
       "    <tr>\n",
       "      <th>10</th>\n",
       "      <td>351-62-0822</td>\n",
       "      <td>B</td>\n",
       "      <td>Mandalay</td>\n",
       "      <td>Member</td>\n",
       "      <td>Female</td>\n",
       "      <td>Fashion accessories</td>\n",
       "      <td>14.48</td>\n",
       "      <td>4.0</td>\n",
       "      <td>2.8960</td>\n",
       "      <td>60.8160</td>\n",
       "      <td>2/6/2019</td>\n",
       "      <td>18:07</td>\n",
       "      <td>Ewallet</td>\n",
       "      <td>57.92</td>\n",
       "      <td>4.761905</td>\n",
       "      <td>2.8960</td>\n",
       "      <td>4.5</td>\n",
       "    </tr>\n",
       "    <tr>\n",
       "      <th>12</th>\n",
       "      <td>365-64-0515</td>\n",
       "      <td>A</td>\n",
       "      <td>Yangon</td>\n",
       "      <td>Normal</td>\n",
       "      <td>Female</td>\n",
       "      <td>Electronic accessories</td>\n",
       "      <td>46.95</td>\n",
       "      <td>5.0</td>\n",
       "      <td>11.7375</td>\n",
       "      <td>246.4875</td>\n",
       "      <td>2/12/2019</td>\n",
       "      <td>10:25</td>\n",
       "      <td>Ewallet</td>\n",
       "      <td>234.75</td>\n",
       "      <td>4.761905</td>\n",
       "      <td>11.7375</td>\n",
       "      <td>7.1</td>\n",
       "    </tr>\n",
       "    <tr>\n",
       "      <th>14</th>\n",
       "      <td>829-34-3910</td>\n",
       "      <td>A</td>\n",
       "      <td>Yangon</td>\n",
       "      <td>Normal</td>\n",
       "      <td>Female</td>\n",
       "      <td>Health and beauty</td>\n",
       "      <td>71.38</td>\n",
       "      <td>10.0</td>\n",
       "      <td>35.6900</td>\n",
       "      <td>749.4900</td>\n",
       "      <td>3/29/2019</td>\n",
       "      <td>19:21</td>\n",
       "      <td>Cash</td>\n",
       "      <td>713.80</td>\n",
       "      <td>4.761905</td>\n",
       "      <td>35.6900</td>\n",
       "      <td>5.7</td>\n",
       "    </tr>\n",
       "    <tr>\n",
       "      <th>15</th>\n",
       "      <td>299-46-1805</td>\n",
       "      <td>B</td>\n",
       "      <td>Mandalay</td>\n",
       "      <td>Member</td>\n",
       "      <td>Female</td>\n",
       "      <td>Sports and travel</td>\n",
       "      <td>93.72</td>\n",
       "      <td>6.0</td>\n",
       "      <td>28.1160</td>\n",
       "      <td>590.4360</td>\n",
       "      <td>1/15/2019</td>\n",
       "      <td>16:19</td>\n",
       "      <td>Cash</td>\n",
       "      <td>562.32</td>\n",
       "      <td>4.761905</td>\n",
       "      <td>28.1160</td>\n",
       "      <td>4.5</td>\n",
       "    </tr>\n",
       "  </tbody>\n",
       "</table>\n",
       "</div>"
      ],
      "text/plain": [
       "     Invoice ID Branch       City Customer type  Gender  \\\n",
       "0   750-67-8428    NaN     Yangon        Member  Female   \n",
       "1   226-31-3081      C  Naypyitaw        Normal  Female   \n",
       "6   355-53-5943            Yangon        Member  Female   \n",
       "7   315-22-5665      C  Naypyitaw        Normal  Female   \n",
       "8   665-32-9167      A     Yangon        Member  Female   \n",
       "9   692-92-5582      B   Mandalay        Member  Female   \n",
       "10  351-62-0822      B   Mandalay        Member  Female   \n",
       "12  365-64-0515      A     Yangon        Normal  Female   \n",
       "14  829-34-3910      A     Yangon        Normal  Female   \n",
       "15  299-46-1805      B   Mandalay        Member  Female   \n",
       "\n",
       "              Product line Unit price  Quantity   Tax 5%     Total       Date  \\\n",
       "0        Health and beauty      74.69       7.0  26.1415       NaN   1/5/2019   \n",
       "1   Electronic accessories      15.28       5.0      NaN   80.2200   3/8/2019   \n",
       "6   Electronic accessories      68.84       6.0  20.6520  433.6920  2/25/2019   \n",
       "7       Home and lifestyle      73.56      10.0  36.7800  772.3800  2/24/2019   \n",
       "8        Health and beauty      36.26       2.0   3.6260   76.1460  1/10/2019   \n",
       "9       Food and beverages      54.84       3.0   8.2260  172.7460  2/20/2019   \n",
       "10     Fashion accessories      14.48       4.0   2.8960   60.8160   2/6/2019   \n",
       "12  Electronic accessories      46.95       5.0  11.7375  246.4875  2/12/2019   \n",
       "14       Health and beauty      71.38      10.0  35.6900  749.4900  3/29/2019   \n",
       "15       Sports and travel      93.72       6.0  28.1160  590.4360  1/15/2019   \n",
       "\n",
       "     Time      Payment    cogs  gross margin percentage  gross income  Rating  \n",
       "0   13:08      Ewallet  522.83                 4.761905       26.1415     9.1  \n",
       "1   10:29         Cash   76.40                 4.761905        3.8200     9.6  \n",
       "6   14:36      Ewallet  413.04                 4.761905       20.6520     5.8  \n",
       "7   11:38      Ewallet  735.60                 4.761905       36.7800     8.0  \n",
       "8   17:15  Credit card   72.52                 4.761905        3.6260     7.2  \n",
       "9   13:27  Credit card  164.52                 4.761905        8.2260     5.9  \n",
       "10  18:07      Ewallet   57.92                 4.761905        2.8960     4.5  \n",
       "12  10:25      Ewallet  234.75                 4.761905       11.7375     7.1  \n",
       "14  19:21         Cash  713.80                 4.761905       35.6900     5.7  \n",
       "15  16:19         Cash  562.32                 4.761905       28.1160     4.5  "
      ]
     },
     "execution_count": 14,
     "metadata": {},
     "output_type": "execute_result"
    }
   ],
   "source": [
    "sales_female = sales[sales['Gender']=='Female']\n",
    "sales_female.head(10)"
   ]
  },
  {
   "cell_type": "code",
   "execution_count": 15,
   "id": "e5675819",
   "metadata": {},
   "outputs": [
    {
     "name": "stdout",
     "output_type": "stream",
     "text": [
      " Purchases made by people identifying as male: (493, 17) \n",
      " Purchases made by people identifying as female: (496, 17)\n"
     ]
    }
   ],
   "source": [
    "print(f' Purchases made by people identifying as male: {sales_male.shape} \\n Purchases made by people identifying as female: {sales_female.shape}')\n",
    "\n"
   ]
  },
  {
   "cell_type": "markdown",
   "id": "ef36cd1b",
   "metadata": {},
   "source": [
    "We can see our dataset is pretty balanced when it comes to the categorical variable of gender."
   ]
  },
  {
   "cell_type": "markdown",
   "id": "7f0dbf71",
   "metadata": {},
   "source": [
    "Or the nr of entries where the total sum of the invoice was less than 100 e."
   ]
  },
  {
   "cell_type": "code",
   "execution_count": 16,
   "id": "7991ea30",
   "metadata": {},
   "outputs": [
    {
     "data": {
      "text/html": [
       "<div>\n",
       "<style scoped>\n",
       "    .dataframe tbody tr th:only-of-type {\n",
       "        vertical-align: middle;\n",
       "    }\n",
       "\n",
       "    .dataframe tbody tr th {\n",
       "        vertical-align: top;\n",
       "    }\n",
       "\n",
       "    .dataframe thead th {\n",
       "        text-align: right;\n",
       "    }\n",
       "</style>\n",
       "<table border=\"1\" class=\"dataframe\">\n",
       "  <thead>\n",
       "    <tr style=\"text-align: right;\">\n",
       "      <th></th>\n",
       "      <th>Invoice ID</th>\n",
       "      <th>Branch</th>\n",
       "      <th>City</th>\n",
       "      <th>Customer type</th>\n",
       "      <th>Gender</th>\n",
       "      <th>Product line</th>\n",
       "      <th>Unit price</th>\n",
       "      <th>Quantity</th>\n",
       "      <th>Tax 5%</th>\n",
       "      <th>Total</th>\n",
       "      <th>Date</th>\n",
       "      <th>Time</th>\n",
       "      <th>Payment</th>\n",
       "      <th>cogs</th>\n",
       "      <th>gross margin percentage</th>\n",
       "      <th>gross income</th>\n",
       "      <th>Rating</th>\n",
       "    </tr>\n",
       "  </thead>\n",
       "  <tbody>\n",
       "    <tr>\n",
       "      <th>1</th>\n",
       "      <td>226-31-3081</td>\n",
       "      <td>C</td>\n",
       "      <td>Naypyitaw</td>\n",
       "      <td>Normal</td>\n",
       "      <td>Female</td>\n",
       "      <td>Electronic accessories</td>\n",
       "      <td>15.28</td>\n",
       "      <td>5.0</td>\n",
       "      <td>NaN</td>\n",
       "      <td>80.220</td>\n",
       "      <td>3/8/2019</td>\n",
       "      <td>10:29</td>\n",
       "      <td>Cash</td>\n",
       "      <td>76.40</td>\n",
       "      <td>4.761905</td>\n",
       "      <td>3.820</td>\n",
       "      <td>9.6</td>\n",
       "    </tr>\n",
       "    <tr>\n",
       "      <th>8</th>\n",
       "      <td>665-32-9167</td>\n",
       "      <td>A</td>\n",
       "      <td>Yangon</td>\n",
       "      <td>Member</td>\n",
       "      <td>Female</td>\n",
       "      <td>Health and beauty</td>\n",
       "      <td>36.26</td>\n",
       "      <td>2.0</td>\n",
       "      <td>3.626</td>\n",
       "      <td>76.146</td>\n",
       "      <td>1/10/2019</td>\n",
       "      <td>17:15</td>\n",
       "      <td>Credit card</td>\n",
       "      <td>72.52</td>\n",
       "      <td>4.761905</td>\n",
       "      <td>3.626</td>\n",
       "      <td>7.2</td>\n",
       "    </tr>\n",
       "    <tr>\n",
       "      <th>10</th>\n",
       "      <td>351-62-0822</td>\n",
       "      <td>B</td>\n",
       "      <td>Mandalay</td>\n",
       "      <td>Member</td>\n",
       "      <td>Female</td>\n",
       "      <td>Fashion accessories</td>\n",
       "      <td>14.48</td>\n",
       "      <td>4.0</td>\n",
       "      <td>2.896</td>\n",
       "      <td>60.816</td>\n",
       "      <td>2/6/2019</td>\n",
       "      <td>18:07</td>\n",
       "      <td>Ewallet</td>\n",
       "      <td>57.92</td>\n",
       "      <td>4.761905</td>\n",
       "      <td>2.896</td>\n",
       "      <td>4.5</td>\n",
       "    </tr>\n",
       "    <tr>\n",
       "      <th>19</th>\n",
       "      <td>319-50-3348</td>\n",
       "      <td>B</td>\n",
       "      <td>Mandalay</td>\n",
       "      <td>Normal</td>\n",
       "      <td>Female</td>\n",
       "      <td>Home and lifestyle</td>\n",
       "      <td>40.3</td>\n",
       "      <td>2.0</td>\n",
       "      <td>4.030</td>\n",
       "      <td>84.630</td>\n",
       "      <td>3/11/2019</td>\n",
       "      <td>15:30</td>\n",
       "      <td>Ewallet</td>\n",
       "      <td>80.60</td>\n",
       "      <td>4.761905</td>\n",
       "      <td>4.030</td>\n",
       "      <td>4.4</td>\n",
       "    </tr>\n",
       "    <tr>\n",
       "      <th>22</th>\n",
       "      <td>273-16-6619</td>\n",
       "      <td>B</td>\n",
       "      <td>Mandalay</td>\n",
       "      <td>Normal</td>\n",
       "      <td>Male</td>\n",
       "      <td>Home and lifestyle</td>\n",
       "      <td>33.2</td>\n",
       "      <td>2.0</td>\n",
       "      <td>3.320</td>\n",
       "      <td>69.720</td>\n",
       "      <td>3/15/2019</td>\n",
       "      <td>12:20</td>\n",
       "      <td>Credit card</td>\n",
       "      <td>66.40</td>\n",
       "      <td>4.761905</td>\n",
       "      <td>3.320</td>\n",
       "      <td>4.4</td>\n",
       "    </tr>\n",
       "    <tr>\n",
       "      <th>26</th>\n",
       "      <td>649-29-6775</td>\n",
       "      <td>B</td>\n",
       "      <td>Mandalay</td>\n",
       "      <td>Normal</td>\n",
       "      <td>Male</td>\n",
       "      <td>Fashion accessories</td>\n",
       "      <td>33.52</td>\n",
       "      <td>1.0</td>\n",
       "      <td>1.676</td>\n",
       "      <td>35.196</td>\n",
       "      <td>2/8/2019</td>\n",
       "      <td>15:31</td>\n",
       "      <td>Cash</td>\n",
       "      <td>33.52</td>\n",
       "      <td>4.761905</td>\n",
       "      <td>1.676</td>\n",
       "      <td>6.7</td>\n",
       "    </tr>\n",
       "    <tr>\n",
       "      <th>35</th>\n",
       "      <td>232-16-2483</td>\n",
       "      <td>C</td>\n",
       "      <td>Naypyitaw</td>\n",
       "      <td>Member</td>\n",
       "      <td>Female</td>\n",
       "      <td>Sports and travel</td>\n",
       "      <td>68.12</td>\n",
       "      <td>1.0</td>\n",
       "      <td>3.406</td>\n",
       "      <td>71.526</td>\n",
       "      <td>1/7/2019</td>\n",
       "      <td>12:28</td>\n",
       "      <td>Ewallet</td>\n",
       "      <td>68.12</td>\n",
       "      <td>4.761905</td>\n",
       "      <td>3.406</td>\n",
       "      <td>6.8</td>\n",
       "    </tr>\n",
       "    <tr>\n",
       "      <th>40</th>\n",
       "      <td>280-35-5823</td>\n",
       "      <td>B</td>\n",
       "      <td>Mandalay</td>\n",
       "      <td>Member</td>\n",
       "      <td>Female</td>\n",
       "      <td>Home and lifestyle</td>\n",
       "      <td>86.72</td>\n",
       "      <td>1.0</td>\n",
       "      <td>4.336</td>\n",
       "      <td>91.056</td>\n",
       "      <td>1/17/2019</td>\n",
       "      <td>18:45</td>\n",
       "      <td>Ewallet</td>\n",
       "      <td>86.72</td>\n",
       "      <td>4.761905</td>\n",
       "      <td>4.336</td>\n",
       "      <td>7.9</td>\n",
       "    </tr>\n",
       "    <tr>\n",
       "      <th>44</th>\n",
       "      <td>617-15-4209</td>\n",
       "      <td>C</td>\n",
       "      <td>Naypyitaw</td>\n",
       "      <td>Member</td>\n",
       "      <td>Male</td>\n",
       "      <td>Health and beauty</td>\n",
       "      <td>15.37</td>\n",
       "      <td>2.0</td>\n",
       "      <td>1.537</td>\n",
       "      <td>32.277</td>\n",
       "      <td>3/16/2019</td>\n",
       "      <td>19:47</td>\n",
       "      <td>Cash</td>\n",
       "      <td>30.74</td>\n",
       "      <td>4.761905</td>\n",
       "      <td>1.537</td>\n",
       "      <td>7.2</td>\n",
       "    </tr>\n",
       "    <tr>\n",
       "      <th>52</th>\n",
       "      <td>616-24-2851</td>\n",
       "      <td>B</td>\n",
       "      <td>Mandalay</td>\n",
       "      <td>Member</td>\n",
       "      <td>Female</td>\n",
       "      <td>Fashion accessories</td>\n",
       "      <td>17.87</td>\n",
       "      <td>4.0</td>\n",
       "      <td>3.574</td>\n",
       "      <td>75.054</td>\n",
       "      <td>3/22/2019</td>\n",
       "      <td>14:42</td>\n",
       "      <td>Ewallet</td>\n",
       "      <td>71.48</td>\n",
       "      <td>4.761905</td>\n",
       "      <td>3.574</td>\n",
       "      <td>6.5</td>\n",
       "    </tr>\n",
       "  </tbody>\n",
       "</table>\n",
       "</div>"
      ],
      "text/plain": [
       "     Invoice ID Branch       City Customer type  Gender  \\\n",
       "1   226-31-3081      C  Naypyitaw        Normal  Female   \n",
       "8   665-32-9167      A     Yangon        Member  Female   \n",
       "10  351-62-0822      B   Mandalay        Member  Female   \n",
       "19  319-50-3348      B   Mandalay        Normal  Female   \n",
       "22  273-16-6619      B   Mandalay        Normal    Male   \n",
       "26  649-29-6775      B   Mandalay        Normal    Male   \n",
       "35  232-16-2483      C  Naypyitaw        Member  Female   \n",
       "40  280-35-5823      B   Mandalay        Member  Female   \n",
       "44  617-15-4209      C  Naypyitaw        Member    Male   \n",
       "52  616-24-2851      B   Mandalay        Member  Female   \n",
       "\n",
       "              Product line Unit price  Quantity  Tax 5%   Total       Date  \\\n",
       "1   Electronic accessories      15.28       5.0     NaN  80.220   3/8/2019   \n",
       "8        Health and beauty      36.26       2.0   3.626  76.146  1/10/2019   \n",
       "10     Fashion accessories      14.48       4.0   2.896  60.816   2/6/2019   \n",
       "19      Home and lifestyle       40.3       2.0   4.030  84.630  3/11/2019   \n",
       "22      Home and lifestyle       33.2       2.0   3.320  69.720  3/15/2019   \n",
       "26     Fashion accessories      33.52       1.0   1.676  35.196   2/8/2019   \n",
       "35       Sports and travel      68.12       1.0   3.406  71.526   1/7/2019   \n",
       "40      Home and lifestyle      86.72       1.0   4.336  91.056  1/17/2019   \n",
       "44       Health and beauty      15.37       2.0   1.537  32.277  3/16/2019   \n",
       "52     Fashion accessories      17.87       4.0   3.574  75.054  3/22/2019   \n",
       "\n",
       "     Time      Payment   cogs  gross margin percentage  gross income  Rating  \n",
       "1   10:29         Cash  76.40                 4.761905         3.820     9.6  \n",
       "8   17:15  Credit card  72.52                 4.761905         3.626     7.2  \n",
       "10  18:07      Ewallet  57.92                 4.761905         2.896     4.5  \n",
       "19  15:30      Ewallet  80.60                 4.761905         4.030     4.4  \n",
       "22  12:20  Credit card  66.40                 4.761905         3.320     4.4  \n",
       "26  15:31         Cash  33.52                 4.761905         1.676     6.7  \n",
       "35  12:28      Ewallet  68.12                 4.761905         3.406     6.8  \n",
       "40  18:45      Ewallet  86.72                 4.761905         4.336     7.9  \n",
       "44  19:47         Cash  30.74                 4.761905         1.537     7.2  \n",
       "52  14:42      Ewallet  71.48                 4.761905         3.574     6.5  "
      ]
     },
     "execution_count": 16,
     "metadata": {},
     "output_type": "execute_result"
    }
   ],
   "source": [
    "sales[sales['Total'] < 100].head(10)\n"
   ]
  },
  {
   "cell_type": "markdown",
   "id": "13216240",
   "metadata": {},
   "source": [
    "Using shape() we check the number of rows that have the total amount less than a 100 e."
   ]
  },
  {
   "cell_type": "code",
   "execution_count": 17,
   "id": "444a3d9e",
   "metadata": {},
   "outputs": [
    {
     "data": {
      "text/plain": [
       "(205, 17)"
      ]
     },
     "execution_count": 17,
     "metadata": {},
     "output_type": "execute_result"
    }
   ],
   "source": [
    "sales[sales['Total'] < 100].shape"
   ]
  },
  {
   "cell_type": "markdown",
   "id": "5298b797",
   "metadata": {},
   "source": [
    "Then, we can do the same for over 100 e."
   ]
  },
  {
   "cell_type": "code",
   "execution_count": 18,
   "id": "cd1a016b",
   "metadata": {},
   "outputs": [
    {
     "data": {
      "text/html": [
       "<div>\n",
       "<style scoped>\n",
       "    .dataframe tbody tr th:only-of-type {\n",
       "        vertical-align: middle;\n",
       "    }\n",
       "\n",
       "    .dataframe tbody tr th {\n",
       "        vertical-align: top;\n",
       "    }\n",
       "\n",
       "    .dataframe thead th {\n",
       "        text-align: right;\n",
       "    }\n",
       "</style>\n",
       "<table border=\"1\" class=\"dataframe\">\n",
       "  <thead>\n",
       "    <tr style=\"text-align: right;\">\n",
       "      <th></th>\n",
       "      <th>Invoice ID</th>\n",
       "      <th>Branch</th>\n",
       "      <th>City</th>\n",
       "      <th>Customer type</th>\n",
       "      <th>Gender</th>\n",
       "      <th>Product line</th>\n",
       "      <th>Unit price</th>\n",
       "      <th>Quantity</th>\n",
       "      <th>Tax 5%</th>\n",
       "      <th>Total</th>\n",
       "      <th>Date</th>\n",
       "      <th>Time</th>\n",
       "      <th>Payment</th>\n",
       "      <th>cogs</th>\n",
       "      <th>gross margin percentage</th>\n",
       "      <th>gross income</th>\n",
       "      <th>Rating</th>\n",
       "    </tr>\n",
       "  </thead>\n",
       "  <tbody>\n",
       "    <tr>\n",
       "      <th>2</th>\n",
       "      <td>631-41-3108</td>\n",
       "      <td>A</td>\n",
       "      <td>Yangon</td>\n",
       "      <td>Normal</td>\n",
       "      <td>Male</td>\n",
       "      <td>Home and lifestyle</td>\n",
       "      <td>46.33</td>\n",
       "      <td>7.0</td>\n",
       "      <td>16.2155</td>\n",
       "      <td>340.5255</td>\n",
       "      <td>3/3/2019</td>\n",
       "      <td>13:23</td>\n",
       "      <td>Credit card</td>\n",
       "      <td>324.31</td>\n",
       "      <td>4.761905</td>\n",
       "      <td>16.2155</td>\n",
       "      <td>7.4</td>\n",
       "    </tr>\n",
       "    <tr>\n",
       "      <th>3</th>\n",
       "      <td>123-19-1176</td>\n",
       "      <td>A</td>\n",
       "      <td>Yangon</td>\n",
       "      <td>Member</td>\n",
       "      <td>Male</td>\n",
       "      <td>Health and beauty</td>\n",
       "      <td>58.22</td>\n",
       "      <td>8.0</td>\n",
       "      <td>23.2880</td>\n",
       "      <td>489.0480</td>\n",
       "      <td>1/27/2019</td>\n",
       "      <td>20:33</td>\n",
       "      <td>Ewallet</td>\n",
       "      <td>465.76</td>\n",
       "      <td>4.761905</td>\n",
       "      <td>23.2880</td>\n",
       "      <td>8.4</td>\n",
       "    </tr>\n",
       "    <tr>\n",
       "      <th>4</th>\n",
       "      <td>373-73-7910</td>\n",
       "      <td>A</td>\n",
       "      <td>Yangon</td>\n",
       "      <td>Normal</td>\n",
       "      <td>Male</td>\n",
       "      <td>Sports and travel</td>\n",
       "      <td>86.31</td>\n",
       "      <td>7.0</td>\n",
       "      <td>30.2085</td>\n",
       "      <td>634.3785</td>\n",
       "      <td>2/8/2019</td>\n",
       "      <td>10:37</td>\n",
       "      <td>Ewallet</td>\n",
       "      <td>604.17</td>\n",
       "      <td>4.761905</td>\n",
       "      <td>30.2085</td>\n",
       "      <td>5.3</td>\n",
       "    </tr>\n",
       "    <tr>\n",
       "      <th>5</th>\n",
       "      <td>699-14-3026</td>\n",
       "      <td>C</td>\n",
       "      <td>Naypyitaw</td>\n",
       "      <td>Normal</td>\n",
       "      <td>Male</td>\n",
       "      <td>Electronic accessories</td>\n",
       "      <td>85.39</td>\n",
       "      <td>7.0</td>\n",
       "      <td>29.8865</td>\n",
       "      <td>627.6165</td>\n",
       "      <td>3/25/2019</td>\n",
       "      <td>18:30</td>\n",
       "      <td>Ewallet</td>\n",
       "      <td>597.73</td>\n",
       "      <td>4.761905</td>\n",
       "      <td>29.8865</td>\n",
       "      <td>4.1</td>\n",
       "    </tr>\n",
       "    <tr>\n",
       "      <th>6</th>\n",
       "      <td>355-53-5943</td>\n",
       "      <td></td>\n",
       "      <td>Yangon</td>\n",
       "      <td>Member</td>\n",
       "      <td>Female</td>\n",
       "      <td>Electronic accessories</td>\n",
       "      <td>68.84</td>\n",
       "      <td>6.0</td>\n",
       "      <td>20.6520</td>\n",
       "      <td>433.6920</td>\n",
       "      <td>2/25/2019</td>\n",
       "      <td>14:36</td>\n",
       "      <td>Ewallet</td>\n",
       "      <td>413.04</td>\n",
       "      <td>4.761905</td>\n",
       "      <td>20.6520</td>\n",
       "      <td>5.8</td>\n",
       "    </tr>\n",
       "    <tr>\n",
       "      <th>7</th>\n",
       "      <td>315-22-5665</td>\n",
       "      <td>C</td>\n",
       "      <td>Naypyitaw</td>\n",
       "      <td>Normal</td>\n",
       "      <td>Female</td>\n",
       "      <td>Home and lifestyle</td>\n",
       "      <td>73.56</td>\n",
       "      <td>10.0</td>\n",
       "      <td>36.7800</td>\n",
       "      <td>772.3800</td>\n",
       "      <td>2/24/2019</td>\n",
       "      <td>11:38</td>\n",
       "      <td>Ewallet</td>\n",
       "      <td>735.60</td>\n",
       "      <td>4.761905</td>\n",
       "      <td>36.7800</td>\n",
       "      <td>8.0</td>\n",
       "    </tr>\n",
       "    <tr>\n",
       "      <th>9</th>\n",
       "      <td>692-92-5582</td>\n",
       "      <td>B</td>\n",
       "      <td>Mandalay</td>\n",
       "      <td>Member</td>\n",
       "      <td>Female</td>\n",
       "      <td>Food and beverages</td>\n",
       "      <td>54.84</td>\n",
       "      <td>3.0</td>\n",
       "      <td>8.2260</td>\n",
       "      <td>172.7460</td>\n",
       "      <td>2/20/2019</td>\n",
       "      <td>13:27</td>\n",
       "      <td>Credit card</td>\n",
       "      <td>164.52</td>\n",
       "      <td>4.761905</td>\n",
       "      <td>8.2260</td>\n",
       "      <td>5.9</td>\n",
       "    </tr>\n",
       "    <tr>\n",
       "      <th>11</th>\n",
       "      <td>529-56-3974</td>\n",
       "      <td>B</td>\n",
       "      <td>Mandalay</td>\n",
       "      <td>Member</td>\n",
       "      <td>Male</td>\n",
       "      <td>Electronic accessories</td>\n",
       "      <td>25.51</td>\n",
       "      <td>4.0</td>\n",
       "      <td>5.1020</td>\n",
       "      <td>107.1420</td>\n",
       "      <td>3/9/2019</td>\n",
       "      <td>17:03</td>\n",
       "      <td>Cash</td>\n",
       "      <td>102.04</td>\n",
       "      <td>4.761905</td>\n",
       "      <td>5.1020</td>\n",
       "      <td>6.8</td>\n",
       "    </tr>\n",
       "    <tr>\n",
       "      <th>12</th>\n",
       "      <td>365-64-0515</td>\n",
       "      <td>A</td>\n",
       "      <td>Yangon</td>\n",
       "      <td>Normal</td>\n",
       "      <td>Female</td>\n",
       "      <td>Electronic accessories</td>\n",
       "      <td>46.95</td>\n",
       "      <td>5.0</td>\n",
       "      <td>11.7375</td>\n",
       "      <td>246.4875</td>\n",
       "      <td>2/12/2019</td>\n",
       "      <td>10:25</td>\n",
       "      <td>Ewallet</td>\n",
       "      <td>234.75</td>\n",
       "      <td>4.761905</td>\n",
       "      <td>11.7375</td>\n",
       "      <td>7.1</td>\n",
       "    </tr>\n",
       "    <tr>\n",
       "      <th>13</th>\n",
       "      <td>252-56-2699</td>\n",
       "      <td>A</td>\n",
       "      <td>Yangon</td>\n",
       "      <td>Normal</td>\n",
       "      <td>Male</td>\n",
       "      <td>Food and beverages</td>\n",
       "      <td>43.19</td>\n",
       "      <td>10.0</td>\n",
       "      <td>21.5950</td>\n",
       "      <td>453.4950</td>\n",
       "      <td>2/7/2019</td>\n",
       "      <td>16:48</td>\n",
       "      <td>Ewallet</td>\n",
       "      <td>431.90</td>\n",
       "      <td>4.761905</td>\n",
       "      <td>21.5950</td>\n",
       "      <td>8.2</td>\n",
       "    </tr>\n",
       "  </tbody>\n",
       "</table>\n",
       "</div>"
      ],
      "text/plain": [
       "     Invoice ID Branch       City Customer type  Gender  \\\n",
       "2   631-41-3108      A     Yangon        Normal    Male   \n",
       "3   123-19-1176      A     Yangon        Member    Male   \n",
       "4   373-73-7910      A     Yangon        Normal    Male   \n",
       "5   699-14-3026      C  Naypyitaw        Normal    Male   \n",
       "6   355-53-5943            Yangon        Member  Female   \n",
       "7   315-22-5665      C  Naypyitaw        Normal  Female   \n",
       "9   692-92-5582      B   Mandalay        Member  Female   \n",
       "11  529-56-3974      B   Mandalay        Member    Male   \n",
       "12  365-64-0515      A     Yangon        Normal  Female   \n",
       "13  252-56-2699      A     Yangon        Normal    Male   \n",
       "\n",
       "              Product line Unit price  Quantity   Tax 5%     Total       Date  \\\n",
       "2       Home and lifestyle      46.33       7.0  16.2155  340.5255   3/3/2019   \n",
       "3        Health and beauty      58.22       8.0  23.2880  489.0480  1/27/2019   \n",
       "4        Sports and travel      86.31       7.0  30.2085  634.3785   2/8/2019   \n",
       "5   Electronic accessories      85.39       7.0  29.8865  627.6165  3/25/2019   \n",
       "6   Electronic accessories      68.84       6.0  20.6520  433.6920  2/25/2019   \n",
       "7       Home and lifestyle      73.56      10.0  36.7800  772.3800  2/24/2019   \n",
       "9       Food and beverages      54.84       3.0   8.2260  172.7460  2/20/2019   \n",
       "11  Electronic accessories      25.51       4.0   5.1020  107.1420   3/9/2019   \n",
       "12  Electronic accessories      46.95       5.0  11.7375  246.4875  2/12/2019   \n",
       "13      Food and beverages      43.19      10.0  21.5950  453.4950   2/7/2019   \n",
       "\n",
       "     Time      Payment    cogs  gross margin percentage  gross income  Rating  \n",
       "2   13:23  Credit card  324.31                 4.761905       16.2155     7.4  \n",
       "3   20:33      Ewallet  465.76                 4.761905       23.2880     8.4  \n",
       "4   10:37      Ewallet  604.17                 4.761905       30.2085     5.3  \n",
       "5   18:30      Ewallet  597.73                 4.761905       29.8865     4.1  \n",
       "6   14:36      Ewallet  413.04                 4.761905       20.6520     5.8  \n",
       "7   11:38      Ewallet  735.60                 4.761905       36.7800     8.0  \n",
       "9   13:27  Credit card  164.52                 4.761905        8.2260     5.9  \n",
       "11  17:03         Cash  102.04                 4.761905        5.1020     6.8  \n",
       "12  10:25      Ewallet  234.75                 4.761905       11.7375     7.1  \n",
       "13  16:48      Ewallet  431.90                 4.761905       21.5950     8.2  "
      ]
     },
     "execution_count": 18,
     "metadata": {},
     "output_type": "execute_result"
    }
   ],
   "source": [
    "sales[sales['Total'] > 100].head(10)"
   ]
  },
  {
   "cell_type": "code",
   "execution_count": 19,
   "id": "b974a839",
   "metadata": {},
   "outputs": [
    {
     "data": {
      "text/plain": [
       "(783, 17)"
      ]
     },
     "execution_count": 19,
     "metadata": {},
     "output_type": "execute_result"
    }
   ],
   "source": [
    "sales[sales['Total'] > 100].shape"
   ]
  },
  {
   "cell_type": "markdown",
   "id": "4cfb9e33",
   "metadata": {},
   "source": [
    "We immidiately can concude by the nr of entries, that most common were the purchases totalling over 100 e (783 vs 205)"
   ]
  },
  {
   "cell_type": "code",
   "execution_count": 20,
   "id": "effcd217",
   "metadata": {},
   "outputs": [
    {
     "data": {
      "text/plain": [
       "array(['Ewallet', 'Cash', 'Credit card', nan], dtype=object)"
      ]
     },
     "execution_count": 20,
     "metadata": {},
     "output_type": "execute_result"
    }
   ],
   "source": [
    "sales['Payment'].unique()"
   ]
  },
  {
   "cell_type": "code",
   "execution_count": 21,
   "id": "4a7eed62",
   "metadata": {},
   "outputs": [
    {
     "data": {
      "text/plain": [
       "(341, 17)"
      ]
     },
     "execution_count": 21,
     "metadata": {},
     "output_type": "execute_result"
    }
   ],
   "source": [
    "sales[sales['Payment']=='Cash'].shape\n"
   ]
  },
  {
   "cell_type": "markdown",
   "id": "b381df10",
   "metadata": {},
   "source": [
    "Now, if we wanted to continue playing around, we could do the same for Payment and check the number of entries in each category. We can also try reading that from a plot later on."
   ]
  },
  {
   "cell_type": "markdown",
   "id": "d9a4abb1",
   "metadata": {},
   "source": [
    "### Dataset cleaning"
   ]
  },
  {
   "cell_type": "markdown",
   "id": "ec6132f9",
   "metadata": {},
   "source": [
    "In order to draw any conclusions from our data, our dataset must be clean and balanced.\n",
    "This can mean different things for different scenarios. At this point, let's just say that we need to figure out how to handle the duplicate entries that might skew our analyses;  what to do with the empty cells and how to change the datatype of the cells."
   ]
  },
  {
   "cell_type": "markdown",
   "id": "b0c95133",
   "metadata": {},
   "source": [
    "#### Duplicates"
   ]
  },
  {
   "cell_type": "markdown",
   "id": "a04532ea",
   "metadata": {},
   "source": [
    "Let's take a look at what the funciton ```duplicated()``` does."
   ]
  },
  {
   "cell_type": "code",
   "execution_count": 22,
   "id": "456b2585",
   "metadata": {},
   "outputs": [
    {
     "name": "stdout",
     "output_type": "stream",
     "text": [
      "0      False\n",
      "1      False\n",
      "2      False\n",
      "3      False\n",
      "4      False\n",
      "       ...  \n",
      "984    False\n",
      "985    False\n",
      "986    False\n",
      "987     True\n",
      "988    False\n",
      "Length: 989, dtype: bool\n"
     ]
    }
   ],
   "source": [
    "print(sales.duplicated())"
   ]
  },
  {
   "cell_type": "markdown",
   "id": "fb77e5a9",
   "metadata": {},
   "source": [
    "We can also separate the duplicated rows in another dataframe."
   ]
  },
  {
   "cell_type": "code",
   "execution_count": 23,
   "id": "1ce6823f",
   "metadata": {},
   "outputs": [
    {
     "data": {
      "text/html": [
       "<div>\n",
       "<style scoped>\n",
       "    .dataframe tbody tr th:only-of-type {\n",
       "        vertical-align: middle;\n",
       "    }\n",
       "\n",
       "    .dataframe tbody tr th {\n",
       "        vertical-align: top;\n",
       "    }\n",
       "\n",
       "    .dataframe thead th {\n",
       "        text-align: right;\n",
       "    }\n",
       "</style>\n",
       "<table border=\"1\" class=\"dataframe\">\n",
       "  <thead>\n",
       "    <tr style=\"text-align: right;\">\n",
       "      <th></th>\n",
       "      <th>Invoice ID</th>\n",
       "      <th>Branch</th>\n",
       "      <th>City</th>\n",
       "      <th>Customer type</th>\n",
       "      <th>Gender</th>\n",
       "      <th>Product line</th>\n",
       "      <th>Unit price</th>\n",
       "      <th>Quantity</th>\n",
       "      <th>Tax 5%</th>\n",
       "      <th>Total</th>\n",
       "      <th>Date</th>\n",
       "      <th>Time</th>\n",
       "      <th>Payment</th>\n",
       "      <th>cogs</th>\n",
       "      <th>gross margin percentage</th>\n",
       "      <th>gross income</th>\n",
       "      <th>Rating</th>\n",
       "    </tr>\n",
       "  </thead>\n",
       "  <tbody>\n",
       "    <tr>\n",
       "      <th>868</th>\n",
       "      <td>101-81-4070</td>\n",
       "      <td>C</td>\n",
       "      <td>Naypyitaw</td>\n",
       "      <td>Member</td>\n",
       "      <td>Female</td>\n",
       "      <td>Health and beauty</td>\n",
       "      <td>62.82</td>\n",
       "      <td>2.0</td>\n",
       "      <td>6.2820</td>\n",
       "      <td>131.9220</td>\n",
       "      <td>1/17/2019</td>\n",
       "      <td>12:36</td>\n",
       "      <td>Ewallet</td>\n",
       "      <td>125.64</td>\n",
       "      <td>4.761905</td>\n",
       "      <td>6.2820</td>\n",
       "      <td>4.9</td>\n",
       "    </tr>\n",
       "    <tr>\n",
       "      <th>973</th>\n",
       "      <td>448-34-8700</td>\n",
       "      <td>B</td>\n",
       "      <td>Mandalay</td>\n",
       "      <td>Member</td>\n",
       "      <td>Male</td>\n",
       "      <td>Home and lifestyle</td>\n",
       "      <td>36.91</td>\n",
       "      <td>7.0</td>\n",
       "      <td>12.9185</td>\n",
       "      <td>271.2885</td>\n",
       "      <td>2/10/2019</td>\n",
       "      <td>13:51</td>\n",
       "      <td>Ewallet</td>\n",
       "      <td>258.37</td>\n",
       "      <td>4.761905</td>\n",
       "      <td>12.9185</td>\n",
       "      <td>6.7</td>\n",
       "    </tr>\n",
       "    <tr>\n",
       "      <th>987</th>\n",
       "      <td>518-71-6847</td>\n",
       "      <td>B</td>\n",
       "      <td>Mandalay</td>\n",
       "      <td>Member</td>\n",
       "      <td>Male</td>\n",
       "      <td>Food and beverages</td>\n",
       "      <td>26.6</td>\n",
       "      <td>6.0</td>\n",
       "      <td>7.9800</td>\n",
       "      <td>167.5800</td>\n",
       "      <td>2/26/2019</td>\n",
       "      <td>15:10</td>\n",
       "      <td>Ewallet</td>\n",
       "      <td>159.60</td>\n",
       "      <td>4.761905</td>\n",
       "      <td>7.9800</td>\n",
       "      <td>4.9</td>\n",
       "    </tr>\n",
       "  </tbody>\n",
       "</table>\n",
       "</div>"
      ],
      "text/plain": [
       "      Invoice ID Branch       City Customer type  Gender        Product line  \\\n",
       "868  101-81-4070      C  Naypyitaw        Member  Female   Health and beauty   \n",
       "973  448-34-8700      B   Mandalay        Member    Male  Home and lifestyle   \n",
       "987  518-71-6847      B   Mandalay        Member    Male  Food and beverages   \n",
       "\n",
       "    Unit price  Quantity   Tax 5%     Total       Date   Time  Payment  \\\n",
       "868      62.82       2.0   6.2820  131.9220  1/17/2019  12:36  Ewallet   \n",
       "973      36.91       7.0  12.9185  271.2885  2/10/2019  13:51  Ewallet   \n",
       "987       26.6       6.0   7.9800  167.5800  2/26/2019  15:10  Ewallet   \n",
       "\n",
       "       cogs  gross margin percentage  gross income  Rating  \n",
       "868  125.64                 4.761905        6.2820     4.9  \n",
       "973  258.37                 4.761905       12.9185     6.7  \n",
       "987  159.60                 4.761905        7.9800     4.9  "
      ]
     },
     "execution_count": 23,
     "metadata": {},
     "output_type": "execute_result"
    }
   ],
   "source": [
    "duplicateRows = sales[sales.duplicated()]\n",
    "duplicateRows"
   ]
  },
  {
   "cell_type": "markdown",
   "id": "b388b781",
   "metadata": {},
   "source": [
    "There are multiple ways of dealing with duplicates, e.g.\n",
    "\n",
    "\n",
    "```\n",
    "df.drop_duplicates (inplace=True) \n",
    "\n",
    "```\n",
    "\n",
    "which makes sure that we are not creating a new dataframe but that the dupicates are removed from the old one.\n"
   ]
  },
  {
   "cell_type": "markdown",
   "id": "be0c7fdb",
   "metadata": {},
   "source": [
    "We can also use \n",
    "```\n",
    "df = df[df.duplicated(keep='last')]\n",
    " \n",
    "```\n",
    "\n",
    "which keeps the last occurence of the duplicate\n",
    "\n",
    "or \n",
    "\n",
    "```\n",
    "df = df[df.duplicated(keep='first')]\n",
    "```\n",
    "\n",
    "which keeps the first occurence of the duplicate.\n",
    "\n",
    "In these cases, we need to store it to a new dataframe variable, otherwise it won't be applied to the dataframe permanently (unlike with the drop_duplicates() function).\n"
   ]
  },
  {
   "cell_type": "code",
   "execution_count": 24,
   "id": "06cd3e65",
   "metadata": {},
   "outputs": [],
   "source": [
    "df_fresh = sales[sales.duplicated(keep='last')]"
   ]
  },
  {
   "cell_type": "code",
   "execution_count": 25,
   "id": "7442da81",
   "metadata": {},
   "outputs": [
    {
     "data": {
      "text/plain": [
       "(3, 17)"
      ]
     },
     "execution_count": 25,
     "metadata": {},
     "output_type": "execute_result"
    }
   ],
   "source": [
    "df_fresh.shape"
   ]
  },
  {
   "cell_type": "code",
   "execution_count": 26,
   "id": "a966d9cf",
   "metadata": {},
   "outputs": [],
   "source": [
    "sales.drop_duplicates(inplace = True)"
   ]
  },
  {
   "cell_type": "code",
   "execution_count": 27,
   "id": "9bd8b80a",
   "metadata": {},
   "outputs": [
    {
     "data": {
      "text/plain": [
       "(986, 17)"
      ]
     },
     "execution_count": 27,
     "metadata": {},
     "output_type": "execute_result"
    }
   ],
   "source": [
    "sales.shape"
   ]
  },
  {
   "cell_type": "markdown",
   "id": "b533e724",
   "metadata": {},
   "source": [
    "-- We see that the nr of rows diminished."
   ]
  },
  {
   "cell_type": "code",
   "execution_count": 28,
   "id": "89739697",
   "metadata": {},
   "outputs": [
    {
     "data": {
      "text/html": [
       "<div>\n",
       "<style scoped>\n",
       "    .dataframe tbody tr th:only-of-type {\n",
       "        vertical-align: middle;\n",
       "    }\n",
       "\n",
       "    .dataframe tbody tr th {\n",
       "        vertical-align: top;\n",
       "    }\n",
       "\n",
       "    .dataframe thead th {\n",
       "        text-align: right;\n",
       "    }\n",
       "</style>\n",
       "<table border=\"1\" class=\"dataframe\">\n",
       "  <thead>\n",
       "    <tr style=\"text-align: right;\">\n",
       "      <th></th>\n",
       "      <th>Invoice ID</th>\n",
       "      <th>Branch</th>\n",
       "      <th>City</th>\n",
       "      <th>Customer type</th>\n",
       "      <th>Gender</th>\n",
       "      <th>Product line</th>\n",
       "      <th>Unit price</th>\n",
       "      <th>Quantity</th>\n",
       "      <th>Tax 5%</th>\n",
       "      <th>Total</th>\n",
       "      <th>Date</th>\n",
       "      <th>Time</th>\n",
       "      <th>Payment</th>\n",
       "      <th>cogs</th>\n",
       "      <th>gross margin percentage</th>\n",
       "      <th>gross income</th>\n",
       "      <th>Rating</th>\n",
       "    </tr>\n",
       "  </thead>\n",
       "  <tbody>\n",
       "    <tr>\n",
       "      <th>0</th>\n",
       "      <td>750-67-8428</td>\n",
       "      <td>NaN</td>\n",
       "      <td>Yangon</td>\n",
       "      <td>Member</td>\n",
       "      <td>Female</td>\n",
       "      <td>Health and beauty</td>\n",
       "      <td>74.69</td>\n",
       "      <td>7.0</td>\n",
       "      <td>26.1415</td>\n",
       "      <td>NaN</td>\n",
       "      <td>1/5/2019</td>\n",
       "      <td>13:08</td>\n",
       "      <td>Ewallet</td>\n",
       "      <td>522.83</td>\n",
       "      <td>4.761905</td>\n",
       "      <td>26.1415</td>\n",
       "      <td>9.1</td>\n",
       "    </tr>\n",
       "    <tr>\n",
       "      <th>1</th>\n",
       "      <td>226-31-3081</td>\n",
       "      <td>C</td>\n",
       "      <td>Naypyitaw</td>\n",
       "      <td>Normal</td>\n",
       "      <td>Female</td>\n",
       "      <td>Electronic accessories</td>\n",
       "      <td>15.28</td>\n",
       "      <td>5.0</td>\n",
       "      <td>NaN</td>\n",
       "      <td>80.2200</td>\n",
       "      <td>3/8/2019</td>\n",
       "      <td>10:29</td>\n",
       "      <td>Cash</td>\n",
       "      <td>76.40</td>\n",
       "      <td>4.761905</td>\n",
       "      <td>3.8200</td>\n",
       "      <td>9.6</td>\n",
       "    </tr>\n",
       "    <tr>\n",
       "      <th>2</th>\n",
       "      <td>631-41-3108</td>\n",
       "      <td>A</td>\n",
       "      <td>Yangon</td>\n",
       "      <td>Normal</td>\n",
       "      <td>Male</td>\n",
       "      <td>Home and lifestyle</td>\n",
       "      <td>46.33</td>\n",
       "      <td>7.0</td>\n",
       "      <td>16.2155</td>\n",
       "      <td>340.5255</td>\n",
       "      <td>3/3/2019</td>\n",
       "      <td>13:23</td>\n",
       "      <td>Credit card</td>\n",
       "      <td>324.31</td>\n",
       "      <td>4.761905</td>\n",
       "      <td>16.2155</td>\n",
       "      <td>7.4</td>\n",
       "    </tr>\n",
       "    <tr>\n",
       "      <th>3</th>\n",
       "      <td>123-19-1176</td>\n",
       "      <td>A</td>\n",
       "      <td>Yangon</td>\n",
       "      <td>Member</td>\n",
       "      <td>Male</td>\n",
       "      <td>Health and beauty</td>\n",
       "      <td>58.22</td>\n",
       "      <td>8.0</td>\n",
       "      <td>23.2880</td>\n",
       "      <td>489.0480</td>\n",
       "      <td>1/27/2019</td>\n",
       "      <td>20:33</td>\n",
       "      <td>Ewallet</td>\n",
       "      <td>465.76</td>\n",
       "      <td>4.761905</td>\n",
       "      <td>23.2880</td>\n",
       "      <td>8.4</td>\n",
       "    </tr>\n",
       "    <tr>\n",
       "      <th>4</th>\n",
       "      <td>373-73-7910</td>\n",
       "      <td>A</td>\n",
       "      <td>Yangon</td>\n",
       "      <td>Normal</td>\n",
       "      <td>Male</td>\n",
       "      <td>Sports and travel</td>\n",
       "      <td>86.31</td>\n",
       "      <td>7.0</td>\n",
       "      <td>30.2085</td>\n",
       "      <td>634.3785</td>\n",
       "      <td>2/8/2019</td>\n",
       "      <td>10:37</td>\n",
       "      <td>Ewallet</td>\n",
       "      <td>604.17</td>\n",
       "      <td>4.761905</td>\n",
       "      <td>30.2085</td>\n",
       "      <td>5.3</td>\n",
       "    </tr>\n",
       "    <tr>\n",
       "      <th>...</th>\n",
       "      <td>...</td>\n",
       "      <td>...</td>\n",
       "      <td>...</td>\n",
       "      <td>...</td>\n",
       "      <td>...</td>\n",
       "      <td>...</td>\n",
       "      <td>...</td>\n",
       "      <td>...</td>\n",
       "      <td>...</td>\n",
       "      <td>...</td>\n",
       "      <td>...</td>\n",
       "      <td>...</td>\n",
       "      <td>...</td>\n",
       "      <td>...</td>\n",
       "      <td>...</td>\n",
       "      <td>...</td>\n",
       "      <td>...</td>\n",
       "    </tr>\n",
       "    <tr>\n",
       "      <th>983</th>\n",
       "      <td>809-46-1866</td>\n",
       "      <td>A</td>\n",
       "      <td>Yangon</td>\n",
       "      <td>Normal</td>\n",
       "      <td>Male</td>\n",
       "      <td>Health and beauty</td>\n",
       "      <td>58.15</td>\n",
       "      <td>4.0</td>\n",
       "      <td>11.6300</td>\n",
       "      <td>244.2300</td>\n",
       "      <td>1/23/2019</td>\n",
       "      <td>17:44</td>\n",
       "      <td>Cash</td>\n",
       "      <td>232.60</td>\n",
       "      <td>4.761905</td>\n",
       "      <td>11.6300</td>\n",
       "      <td>8.4</td>\n",
       "    </tr>\n",
       "    <tr>\n",
       "      <th>984</th>\n",
       "      <td>139-32-4183</td>\n",
       "      <td>A</td>\n",
       "      <td>Yangon</td>\n",
       "      <td>Member</td>\n",
       "      <td>Female</td>\n",
       "      <td>Sports and travel</td>\n",
       "      <td>97.48</td>\n",
       "      <td>9.0</td>\n",
       "      <td>43.8660</td>\n",
       "      <td>921.1860</td>\n",
       "      <td>3/14/2019</td>\n",
       "      <td>14:19</td>\n",
       "      <td>Ewallet</td>\n",
       "      <td>877.32</td>\n",
       "      <td>4.761905</td>\n",
       "      <td>43.8660</td>\n",
       "      <td>7.4</td>\n",
       "    </tr>\n",
       "    <tr>\n",
       "      <th>985</th>\n",
       "      <td>727-02-1313</td>\n",
       "      <td>A</td>\n",
       "      <td>Yangon</td>\n",
       "      <td>Member</td>\n",
       "      <td>Male</td>\n",
       "      <td>Food and beverages</td>\n",
       "      <td>31.84</td>\n",
       "      <td>1.0</td>\n",
       "      <td>1.5920</td>\n",
       "      <td>33.4320</td>\n",
       "      <td>2/9/2019</td>\n",
       "      <td>13:22</td>\n",
       "      <td>Cash</td>\n",
       "      <td>31.84</td>\n",
       "      <td>4.761905</td>\n",
       "      <td>1.5920</td>\n",
       "      <td>7.7</td>\n",
       "    </tr>\n",
       "    <tr>\n",
       "      <th>986</th>\n",
       "      <td>347-56-2442</td>\n",
       "      <td>A</td>\n",
       "      <td>Yangon</td>\n",
       "      <td>Normal</td>\n",
       "      <td>Male</td>\n",
       "      <td>Home and lifestyle</td>\n",
       "      <td>65.82</td>\n",
       "      <td>1.0</td>\n",
       "      <td>3.2910</td>\n",
       "      <td>69.1110</td>\n",
       "      <td>2/22/2019</td>\n",
       "      <td>15:33</td>\n",
       "      <td>Cash</td>\n",
       "      <td>65.82</td>\n",
       "      <td>4.761905</td>\n",
       "      <td>3.2910</td>\n",
       "      <td>4.1</td>\n",
       "    </tr>\n",
       "    <tr>\n",
       "      <th>988</th>\n",
       "      <td>849-09-3807</td>\n",
       "      <td>A</td>\n",
       "      <td>Yangon</td>\n",
       "      <td>Member</td>\n",
       "      <td>Female</td>\n",
       "      <td>Fashion accessories</td>\n",
       "      <td>88.34</td>\n",
       "      <td>7.0</td>\n",
       "      <td>30.9190</td>\n",
       "      <td>649.2990</td>\n",
       "      <td>2/18/2019</td>\n",
       "      <td>13:28</td>\n",
       "      <td>Cash</td>\n",
       "      <td>618.38</td>\n",
       "      <td>4.761905</td>\n",
       "      <td>30.9190</td>\n",
       "      <td>6.6</td>\n",
       "    </tr>\n",
       "  </tbody>\n",
       "</table>\n",
       "<p>986 rows × 17 columns</p>\n",
       "</div>"
      ],
      "text/plain": [
       "      Invoice ID Branch       City Customer type  Gender  \\\n",
       "0    750-67-8428    NaN     Yangon        Member  Female   \n",
       "1    226-31-3081      C  Naypyitaw        Normal  Female   \n",
       "2    631-41-3108      A     Yangon        Normal    Male   \n",
       "3    123-19-1176      A     Yangon        Member    Male   \n",
       "4    373-73-7910      A     Yangon        Normal    Male   \n",
       "..           ...    ...        ...           ...     ...   \n",
       "983  809-46-1866      A     Yangon        Normal    Male   \n",
       "984  139-32-4183      A     Yangon        Member  Female   \n",
       "985  727-02-1313      A     Yangon        Member    Male   \n",
       "986  347-56-2442      A     Yangon        Normal    Male   \n",
       "988  849-09-3807      A     Yangon        Member  Female   \n",
       "\n",
       "               Product line Unit price  Quantity   Tax 5%     Total  \\\n",
       "0         Health and beauty      74.69       7.0  26.1415       NaN   \n",
       "1    Electronic accessories      15.28       5.0      NaN   80.2200   \n",
       "2        Home and lifestyle      46.33       7.0  16.2155  340.5255   \n",
       "3         Health and beauty      58.22       8.0  23.2880  489.0480   \n",
       "4         Sports and travel      86.31       7.0  30.2085  634.3785   \n",
       "..                      ...        ...       ...      ...       ...   \n",
       "983       Health and beauty      58.15       4.0  11.6300  244.2300   \n",
       "984       Sports and travel      97.48       9.0  43.8660  921.1860   \n",
       "985      Food and beverages      31.84       1.0   1.5920   33.4320   \n",
       "986      Home and lifestyle      65.82       1.0   3.2910   69.1110   \n",
       "988     Fashion accessories      88.34       7.0  30.9190  649.2990   \n",
       "\n",
       "          Date   Time      Payment    cogs  gross margin percentage  \\\n",
       "0     1/5/2019  13:08      Ewallet  522.83                 4.761905   \n",
       "1     3/8/2019  10:29         Cash   76.40                 4.761905   \n",
       "2     3/3/2019  13:23  Credit card  324.31                 4.761905   \n",
       "3    1/27/2019  20:33      Ewallet  465.76                 4.761905   \n",
       "4     2/8/2019  10:37      Ewallet  604.17                 4.761905   \n",
       "..         ...    ...          ...     ...                      ...   \n",
       "983  1/23/2019  17:44         Cash  232.60                 4.761905   \n",
       "984  3/14/2019  14:19      Ewallet  877.32                 4.761905   \n",
       "985   2/9/2019  13:22         Cash   31.84                 4.761905   \n",
       "986  2/22/2019  15:33         Cash   65.82                 4.761905   \n",
       "988  2/18/2019  13:28         Cash  618.38                 4.761905   \n",
       "\n",
       "     gross income  Rating  \n",
       "0         26.1415     9.1  \n",
       "1          3.8200     9.6  \n",
       "2         16.2155     7.4  \n",
       "3         23.2880     8.4  \n",
       "4         30.2085     5.3  \n",
       "..            ...     ...  \n",
       "983       11.6300     8.4  \n",
       "984       43.8660     7.4  \n",
       "985        1.5920     7.7  \n",
       "986        3.2910     4.1  \n",
       "988       30.9190     6.6  \n",
       "\n",
       "[986 rows x 17 columns]"
      ]
     },
     "execution_count": 28,
     "metadata": {},
     "output_type": "execute_result"
    }
   ],
   "source": [
    "sales"
   ]
  },
  {
   "cell_type": "markdown",
   "id": "d7cede2d",
   "metadata": {},
   "source": [
    "We can also uss the parameter ```keep``` with the ```drop_duplicates()``` function (https://pandas.pydata.org/docs/reference/api/pandas.DataFrame.drop_duplicates.html)."
   ]
  },
  {
   "cell_type": "markdown",
   "id": "a55dc2d8",
   "metadata": {},
   "source": [
    "#### Empty cells"
   ]
  },
  {
   "cell_type": "markdown",
   "id": "52dc55a6",
   "metadata": {},
   "source": [
    "One way to deal with empty cells is to remove rows that contain empty cells. This is usually fine, since data sets can be very big, and removing a few rows will not have a big impact on the result.\n",
    "\n"
   ]
  },
  {
   "cell_type": "code",
   "execution_count": 29,
   "id": "bc914461",
   "metadata": {},
   "outputs": [
    {
     "data": {
      "text/html": [
       "<div>\n",
       "<style scoped>\n",
       "    .dataframe tbody tr th:only-of-type {\n",
       "        vertical-align: middle;\n",
       "    }\n",
       "\n",
       "    .dataframe tbody tr th {\n",
       "        vertical-align: top;\n",
       "    }\n",
       "\n",
       "    .dataframe thead th {\n",
       "        text-align: right;\n",
       "    }\n",
       "</style>\n",
       "<table border=\"1\" class=\"dataframe\">\n",
       "  <thead>\n",
       "    <tr style=\"text-align: right;\">\n",
       "      <th></th>\n",
       "      <th>Invoice ID</th>\n",
       "      <th>Branch</th>\n",
       "      <th>City</th>\n",
       "      <th>Customer type</th>\n",
       "      <th>Gender</th>\n",
       "      <th>Product line</th>\n",
       "      <th>Unit price</th>\n",
       "      <th>Quantity</th>\n",
       "      <th>Tax 5%</th>\n",
       "      <th>Total</th>\n",
       "      <th>Date</th>\n",
       "      <th>Time</th>\n",
       "      <th>Payment</th>\n",
       "      <th>cogs</th>\n",
       "      <th>gross margin percentage</th>\n",
       "      <th>gross income</th>\n",
       "      <th>Rating</th>\n",
       "    </tr>\n",
       "  </thead>\n",
       "  <tbody>\n",
       "    <tr>\n",
       "      <th>0</th>\n",
       "      <td>750-67-8428</td>\n",
       "      <td>NaN</td>\n",
       "      <td>Yangon</td>\n",
       "      <td>Member</td>\n",
       "      <td>Female</td>\n",
       "      <td>Health and beauty</td>\n",
       "      <td>74.69</td>\n",
       "      <td>7.0</td>\n",
       "      <td>26.1415</td>\n",
       "      <td>NaN</td>\n",
       "      <td>1/5/2019</td>\n",
       "      <td>13:08</td>\n",
       "      <td>Ewallet</td>\n",
       "      <td>522.83</td>\n",
       "      <td>4.761905</td>\n",
       "      <td>26.1415</td>\n",
       "      <td>9.1</td>\n",
       "    </tr>\n",
       "    <tr>\n",
       "      <th>1</th>\n",
       "      <td>226-31-3081</td>\n",
       "      <td>C</td>\n",
       "      <td>Naypyitaw</td>\n",
       "      <td>Normal</td>\n",
       "      <td>Female</td>\n",
       "      <td>Electronic accessories</td>\n",
       "      <td>15.28</td>\n",
       "      <td>5.0</td>\n",
       "      <td>NaN</td>\n",
       "      <td>80.220</td>\n",
       "      <td>3/8/2019</td>\n",
       "      <td>10:29</td>\n",
       "      <td>Cash</td>\n",
       "      <td>76.40</td>\n",
       "      <td>4.761905</td>\n",
       "      <td>3.8200</td>\n",
       "      <td>9.6</td>\n",
       "    </tr>\n",
       "    <tr>\n",
       "      <th>586</th>\n",
       "      <td>278-86-2735</td>\n",
       "      <td>A</td>\n",
       "      <td>Yangon</td>\n",
       "      <td>Normal</td>\n",
       "      <td>Female</td>\n",
       "      <td>NaN</td>\n",
       "      <td>52.34</td>\n",
       "      <td>3.0</td>\n",
       "      <td>7.8510</td>\n",
       "      <td>164.871</td>\n",
       "      <td>3/27/2019</td>\n",
       "      <td>14:03</td>\n",
       "      <td>Cash</td>\n",
       "      <td>157.02</td>\n",
       "      <td>4.761905</td>\n",
       "      <td>7.8510</td>\n",
       "      <td>9.2</td>\n",
       "    </tr>\n",
       "    <tr>\n",
       "      <th>716</th>\n",
       "      <td>857-16-3520</td>\n",
       "      <td>A</td>\n",
       "      <td>Yangon</td>\n",
       "      <td>NaN</td>\n",
       "      <td>Female</td>\n",
       "      <td>Fashion accessories</td>\n",
       "      <td>71.46</td>\n",
       "      <td>7.0</td>\n",
       "      <td>25.0110</td>\n",
       "      <td>525.231</td>\n",
       "      <td>3/28/2019</td>\n",
       "      <td>16:06</td>\n",
       "      <td>Ewallet</td>\n",
       "      <td>500.22</td>\n",
       "      <td>4.761905</td>\n",
       "      <td>25.0110</td>\n",
       "      <td>4.5</td>\n",
       "    </tr>\n",
       "    <tr>\n",
       "      <th>872</th>\n",
       "      <td>584-66-4073</td>\n",
       "      <td>C</td>\n",
       "      <td>NaN</td>\n",
       "      <td>Normal</td>\n",
       "      <td>Male</td>\n",
       "      <td>Fashion accessories</td>\n",
       "      <td>56.5</td>\n",
       "      <td>1.0</td>\n",
       "      <td>2.8250</td>\n",
       "      <td>59.325</td>\n",
       "      <td>3/13/2019</td>\n",
       "      <td>15:45</td>\n",
       "      <td>Ewallet</td>\n",
       "      <td>56.50</td>\n",
       "      <td>4.761905</td>\n",
       "      <td>2.8250</td>\n",
       "      <td>9.6</td>\n",
       "    </tr>\n",
       "    <tr>\n",
       "      <th>898</th>\n",
       "      <td>409-49-6995</td>\n",
       "      <td>C</td>\n",
       "      <td>Naypyitaw</td>\n",
       "      <td>Member</td>\n",
       "      <td>Female</td>\n",
       "      <td>NaN</td>\n",
       "      <td>47.27</td>\n",
       "      <td>6.0</td>\n",
       "      <td>14.1810</td>\n",
       "      <td>297.801</td>\n",
       "      <td>2/5/2019</td>\n",
       "      <td>10:17</td>\n",
       "      <td>Cash</td>\n",
       "      <td>283.62</td>\n",
       "      <td>4.761905</td>\n",
       "      <td>14.1810</td>\n",
       "      <td>8.8</td>\n",
       "    </tr>\n",
       "    <tr>\n",
       "      <th>916</th>\n",
       "      <td>717-96-4189</td>\n",
       "      <td>C</td>\n",
       "      <td>Naypyitaw</td>\n",
       "      <td>Normal</td>\n",
       "      <td>Female</td>\n",
       "      <td>Electronic accessories</td>\n",
       "      <td>35.49</td>\n",
       "      <td>6.0</td>\n",
       "      <td>10.6470</td>\n",
       "      <td>223.587</td>\n",
       "      <td>2/2/2019</td>\n",
       "      <td>12:40</td>\n",
       "      <td>NaN</td>\n",
       "      <td>212.94</td>\n",
       "      <td>4.761905</td>\n",
       "      <td>10.6470</td>\n",
       "      <td>4.1</td>\n",
       "    </tr>\n",
       "    <tr>\n",
       "      <th>963</th>\n",
       "      <td>324-92-3863</td>\n",
       "      <td>A</td>\n",
       "      <td>Yangon</td>\n",
       "      <td>Member</td>\n",
       "      <td>Male</td>\n",
       "      <td>Electronic accessories</td>\n",
       "      <td>20.89</td>\n",
       "      <td>2.0</td>\n",
       "      <td>2.0890</td>\n",
       "      <td>43.869</td>\n",
       "      <td>2/5/2019</td>\n",
       "      <td>18:45</td>\n",
       "      <td>Cash</td>\n",
       "      <td>41.78</td>\n",
       "      <td>4.761905</td>\n",
       "      <td>2.0890</td>\n",
       "      <td>NaN</td>\n",
       "    </tr>\n",
       "  </tbody>\n",
       "</table>\n",
       "</div>"
      ],
      "text/plain": [
       "      Invoice ID Branch       City Customer type  Gender  \\\n",
       "0    750-67-8428    NaN     Yangon        Member  Female   \n",
       "1    226-31-3081      C  Naypyitaw        Normal  Female   \n",
       "586  278-86-2735      A     Yangon        Normal  Female   \n",
       "716  857-16-3520      A     Yangon           NaN  Female   \n",
       "872  584-66-4073      C        NaN        Normal    Male   \n",
       "898  409-49-6995      C  Naypyitaw        Member  Female   \n",
       "916  717-96-4189      C  Naypyitaw        Normal  Female   \n",
       "963  324-92-3863      A     Yangon        Member    Male   \n",
       "\n",
       "               Product line Unit price  Quantity   Tax 5%    Total       Date  \\\n",
       "0         Health and beauty      74.69       7.0  26.1415      NaN   1/5/2019   \n",
       "1    Electronic accessories      15.28       5.0      NaN   80.220   3/8/2019   \n",
       "586                     NaN      52.34       3.0   7.8510  164.871  3/27/2019   \n",
       "716     Fashion accessories      71.46       7.0  25.0110  525.231  3/28/2019   \n",
       "872     Fashion accessories       56.5       1.0   2.8250   59.325  3/13/2019   \n",
       "898                     NaN      47.27       6.0  14.1810  297.801   2/5/2019   \n",
       "916  Electronic accessories      35.49       6.0  10.6470  223.587   2/2/2019   \n",
       "963  Electronic accessories      20.89       2.0   2.0890   43.869   2/5/2019   \n",
       "\n",
       "      Time  Payment    cogs  gross margin percentage  gross income  Rating  \n",
       "0    13:08  Ewallet  522.83                 4.761905       26.1415     9.1  \n",
       "1    10:29     Cash   76.40                 4.761905        3.8200     9.6  \n",
       "586  14:03     Cash  157.02                 4.761905        7.8510     9.2  \n",
       "716  16:06  Ewallet  500.22                 4.761905       25.0110     4.5  \n",
       "872  15:45  Ewallet   56.50                 4.761905        2.8250     9.6  \n",
       "898  10:17     Cash  283.62                 4.761905       14.1810     8.8  \n",
       "916  12:40      NaN  212.94                 4.761905       10.6470     4.1  \n",
       "963  18:45     Cash   41.78                 4.761905        2.0890     NaN  "
      ]
     },
     "execution_count": 29,
     "metadata": {},
     "output_type": "execute_result"
    }
   ],
   "source": [
    "sales[sales.isna().any(axis=1)]\n"
   ]
  },
  {
   "cell_type": "code",
   "execution_count": 30,
   "id": "033836f9",
   "metadata": {},
   "outputs": [
    {
     "data": {
      "text/html": [
       "<div>\n",
       "<style scoped>\n",
       "    .dataframe tbody tr th:only-of-type {\n",
       "        vertical-align: middle;\n",
       "    }\n",
       "\n",
       "    .dataframe tbody tr th {\n",
       "        vertical-align: top;\n",
       "    }\n",
       "\n",
       "    .dataframe thead th {\n",
       "        text-align: right;\n",
       "    }\n",
       "</style>\n",
       "<table border=\"1\" class=\"dataframe\">\n",
       "  <thead>\n",
       "    <tr style=\"text-align: right;\">\n",
       "      <th></th>\n",
       "      <th>Invoice ID</th>\n",
       "      <th>Branch</th>\n",
       "      <th>City</th>\n",
       "      <th>Customer type</th>\n",
       "      <th>Gender</th>\n",
       "      <th>Product line</th>\n",
       "      <th>Unit price</th>\n",
       "      <th>Quantity</th>\n",
       "      <th>Tax 5%</th>\n",
       "      <th>Total</th>\n",
       "      <th>Date</th>\n",
       "      <th>Time</th>\n",
       "      <th>Payment</th>\n",
       "      <th>cogs</th>\n",
       "      <th>gross margin percentage</th>\n",
       "      <th>gross income</th>\n",
       "      <th>Rating</th>\n",
       "    </tr>\n",
       "  </thead>\n",
       "  <tbody>\n",
       "    <tr>\n",
       "      <th>0</th>\n",
       "      <td>750-67-8428</td>\n",
       "      <td>NaN</td>\n",
       "      <td>Yangon</td>\n",
       "      <td>Member</td>\n",
       "      <td>Female</td>\n",
       "      <td>Health and beauty</td>\n",
       "      <td>74.69</td>\n",
       "      <td>7.0</td>\n",
       "      <td>26.1415</td>\n",
       "      <td>NaN</td>\n",
       "      <td>1/5/2019</td>\n",
       "      <td>13:08</td>\n",
       "      <td>Ewallet</td>\n",
       "      <td>522.83</td>\n",
       "      <td>4.761905</td>\n",
       "      <td>26.1415</td>\n",
       "      <td>9.1</td>\n",
       "    </tr>\n",
       "  </tbody>\n",
       "</table>\n",
       "</div>"
      ],
      "text/plain": [
       "    Invoice ID Branch    City Customer type  Gender       Product line  \\\n",
       "0  750-67-8428    NaN  Yangon        Member  Female  Health and beauty   \n",
       "\n",
       "  Unit price  Quantity   Tax 5%  Total      Date   Time  Payment    cogs  \\\n",
       "0      74.69       7.0  26.1415    NaN  1/5/2019  13:08  Ewallet  522.83   \n",
       "\n",
       "   gross margin percentage  gross income  Rating  \n",
       "0                 4.761905       26.1415     9.1  "
      ]
     },
     "execution_count": 30,
     "metadata": {},
     "output_type": "execute_result"
    }
   ],
   "source": [
    "sales[sales['Branch'].isna()]\n"
   ]
  },
  {
   "cell_type": "markdown",
   "id": "71604dcb",
   "metadata": {},
   "source": [
    "We can, for example, fill the empty cell with some other type of value."
   ]
  },
  {
   "cell_type": "code",
   "execution_count": 31,
   "id": "3acfe803",
   "metadata": {},
   "outputs": [],
   "source": [
    "sales[\"Branch\"].fillna('A', inplace = True)"
   ]
  },
  {
   "cell_type": "markdown",
   "id": "b3846461",
   "metadata": {},
   "source": [
    "We still have all the other NaN values so let's take care of them. We know we have (at least) one NaN in the Tax 5% column. Let's fill that out by calculating:"
   ]
  },
  {
   "cell_type": "code",
   "execution_count": 32,
   "id": "578de098",
   "metadata": {},
   "outputs": [],
   "source": [
    "sales_tax = sales.Total * 0.05"
   ]
  },
  {
   "cell_type": "code",
   "execution_count": 33,
   "id": "7a728ee5",
   "metadata": {},
   "outputs": [],
   "source": [
    "sales[\"Tax 5%\"].fillna(sales_tax, inplace = True)"
   ]
  },
  {
   "cell_type": "code",
   "execution_count": 34,
   "id": "30b9a283",
   "metadata": {},
   "outputs": [
    {
     "data": {
      "text/plain": [
       "Invoice ID                         749-81-8133\n",
       "Branch                                       A\n",
       "City                                    Yangon\n",
       "Customer type                           Normal\n",
       "Gender                                  Female\n",
       "Product line               Fashion accessories\n",
       "Unit price                               94.67\n",
       "Quantity                                   4.0\n",
       "Tax 5%                                  18.934\n",
       "Total                                  397.614\n",
       "Date                                 3/11/2019\n",
       "Time                                     12:04\n",
       "Payment                                   Cash\n",
       "cogs                                    378.68\n",
       "gross margin percentage               4.761905\n",
       "gross income                            18.934\n",
       "Rating                                     6.8\n",
       "Name: 918, dtype: object"
      ]
     },
     "execution_count": 34,
     "metadata": {},
     "output_type": "execute_result"
    }
   ],
   "source": [
    "sales.iloc[917]"
   ]
  },
  {
   "cell_type": "markdown",
   "id": "f7518890",
   "metadata": {},
   "source": [
    "As we see, the 'Tax 5%' column was filled in by the content of the variable ```sales_tax```, i.e. 4.011 (80.22 * 0.05).\n",
    "We can also use functions like ```mean()```, ```max()```, ```min()``` and  ```mode()``` to fill out the empty values. The first three you are familiar with and ```mode()``` fills out the empty space with the most frequent value in the column:"
   ]
  },
  {
   "cell_type": "code",
   "execution_count": 35,
   "id": "041efbfa",
   "metadata": {},
   "outputs": [
    {
     "data": {
      "text/plain": [
       "0    Cash\n",
       "Name: Payment, dtype: object"
      ]
     },
     "execution_count": 35,
     "metadata": {},
     "output_type": "execute_result"
    }
   ],
   "source": [
    "mode_payement = sales['Payment'].mode()\n",
    "mode_payement"
   ]
  },
  {
   "cell_type": "code",
   "execution_count": 36,
   "id": "ee9047b5",
   "metadata": {},
   "outputs": [
    {
     "data": {
      "text/plain": [
       "'Cash'"
      ]
     },
     "execution_count": 36,
     "metadata": {},
     "output_type": "execute_result"
    }
   ],
   "source": [
    "mode_payement = sales['Payment'].mode()[0]\n",
    "mode_payement"
   ]
  },
  {
   "cell_type": "code",
   "execution_count": 37,
   "id": "1128c44e",
   "metadata": {},
   "outputs": [],
   "source": [
    "sales[\"Payment\"].fillna(mode_payement, inplace = True)"
   ]
  },
  {
   "cell_type": "markdown",
   "id": "2bb63607",
   "metadata": {},
   "source": [
    "Or, we can always just remove the rows with the empty cells, or create a new dataframe that has no empty cells.\n",
    "We do that through the ```dropna()``` function. If we use it without parameters, it will return a new DataFrame, while if we use the ```inplace = True``` parameter, it will change the original one."
   ]
  },
  {
   "cell_type": "code",
   "execution_count": 38,
   "id": "c49faf66",
   "metadata": {},
   "outputs": [
    {
     "data": {
      "text/plain": [
       "(986, 17)"
      ]
     },
     "execution_count": 38,
     "metadata": {},
     "output_type": "execute_result"
    }
   ],
   "source": [
    "sales.shape"
   ]
  },
  {
   "cell_type": "code",
   "execution_count": 39,
   "id": "6a9715c2",
   "metadata": {},
   "outputs": [],
   "source": [
    "sales.dropna(inplace=True)"
   ]
  },
  {
   "cell_type": "code",
   "execution_count": 40,
   "id": "69a7962d",
   "metadata": {},
   "outputs": [
    {
     "data": {
      "text/plain": [
       "0"
      ]
     },
     "execution_count": 40,
     "metadata": {},
     "output_type": "execute_result"
    }
   ],
   "source": [
    "sales['Total'].isnull().sum()"
   ]
  },
  {
   "cell_type": "code",
   "execution_count": 41,
   "id": "9b4c39c6",
   "metadata": {},
   "outputs": [
    {
     "data": {
      "text/plain": [
       "(980, 17)"
      ]
     },
     "execution_count": 41,
     "metadata": {},
     "output_type": "execute_result"
    }
   ],
   "source": [
    "sales.shape"
   ]
  },
  {
   "cell_type": "markdown",
   "id": "b75578c6",
   "metadata": {},
   "source": [
    "In the end, we have lost 7 rows which had NaN values in them, and now our dataframe should be NaN-free:"
   ]
  },
  {
   "cell_type": "code",
   "execution_count": 42,
   "id": "7902c997",
   "metadata": {},
   "outputs": [
    {
     "data": {
      "text/html": [
       "<div>\n",
       "<style scoped>\n",
       "    .dataframe tbody tr th:only-of-type {\n",
       "        vertical-align: middle;\n",
       "    }\n",
       "\n",
       "    .dataframe tbody tr th {\n",
       "        vertical-align: top;\n",
       "    }\n",
       "\n",
       "    .dataframe thead th {\n",
       "        text-align: right;\n",
       "    }\n",
       "</style>\n",
       "<table border=\"1\" class=\"dataframe\">\n",
       "  <thead>\n",
       "    <tr style=\"text-align: right;\">\n",
       "      <th></th>\n",
       "      <th>Invoice ID</th>\n",
       "      <th>Branch</th>\n",
       "      <th>City</th>\n",
       "      <th>Customer type</th>\n",
       "      <th>Gender</th>\n",
       "      <th>Product line</th>\n",
       "      <th>Unit price</th>\n",
       "      <th>Quantity</th>\n",
       "      <th>Tax 5%</th>\n",
       "      <th>Total</th>\n",
       "      <th>Date</th>\n",
       "      <th>Time</th>\n",
       "      <th>Payment</th>\n",
       "      <th>cogs</th>\n",
       "      <th>gross margin percentage</th>\n",
       "      <th>gross income</th>\n",
       "      <th>Rating</th>\n",
       "    </tr>\n",
       "  </thead>\n",
       "  <tbody>\n",
       "  </tbody>\n",
       "</table>\n",
       "</div>"
      ],
      "text/plain": [
       "Empty DataFrame\n",
       "Columns: [Invoice ID, Branch, City, Customer type, Gender, Product line, Unit price, Quantity, Tax 5%, Total, Date, Time, Payment, cogs, gross margin percentage, gross income, Rating]\n",
       "Index: []"
      ]
     },
     "execution_count": 42,
     "metadata": {},
     "output_type": "execute_result"
    }
   ],
   "source": [
    "sales[sales.isna().any(axis=1)]\n"
   ]
  },
  {
   "cell_type": "markdown",
   "id": "1061f11b",
   "metadata": {},
   "source": [
    "#### Wrong type"
   ]
  },
  {
   "cell_type": "markdown",
   "id": "92309527",
   "metadata": {},
   "source": [
    "Cells with data of wrong datatype can make it difficult to analyze data.\n",
    "\n",
    "To fix it, you have two options: remove the rows, or convert all cells in the columns into the same format.\n"
   ]
  },
  {
   "cell_type": "code",
   "execution_count": 43,
   "id": "34fb8cab",
   "metadata": {},
   "outputs": [
    {
     "data": {
      "text/plain": [
       "Invoice ID                  object\n",
       "Branch                      object\n",
       "City                        object\n",
       "Customer type               object\n",
       "Gender                      object\n",
       "Product line                object\n",
       "Unit price                  object\n",
       "Quantity                   float64\n",
       "Tax 5%                     float64\n",
       "Total                      float64\n",
       "Date                        object\n",
       "Time                        object\n",
       "Payment                     object\n",
       "cogs                       float64\n",
       "gross margin percentage    float64\n",
       "gross income               float64\n",
       "Rating                     float64\n",
       "dtype: object"
      ]
     },
     "execution_count": 43,
     "metadata": {},
     "output_type": "execute_result"
    }
   ],
   "source": [
    "sales.dtypes"
   ]
  },
  {
   "cell_type": "markdown",
   "id": "92f22b75",
   "metadata": {},
   "source": [
    "We have a problem with the quantity. It's a float, but we can never buy two and a half items or smth like that. So we need to cast it to an int. "
   ]
  },
  {
   "cell_type": "code",
   "execution_count": 44,
   "id": "fd57ff68",
   "metadata": {},
   "outputs": [
    {
     "data": {
      "text/plain": [
       "Invoice ID                  object\n",
       "Branch                      object\n",
       "City                        object\n",
       "Customer type               object\n",
       "Gender                      object\n",
       "Product line                object\n",
       "Unit price                  object\n",
       "Quantity                     int32\n",
       "Tax 5%                     float64\n",
       "Total                      float64\n",
       "Date                        object\n",
       "Time                        object\n",
       "Payment                     object\n",
       "cogs                       float64\n",
       "gross margin percentage    float64\n",
       "gross income               float64\n",
       "Rating                     float64\n",
       "dtype: object"
      ]
     },
     "execution_count": 44,
     "metadata": {},
     "output_type": "execute_result"
    }
   ],
   "source": [
    "sales.Quantity = sales.Quantity.astype(int)\n",
    "sales.dtypes"
   ]
  },
  {
   "cell_type": "code",
   "execution_count": 45,
   "id": "6890cbb6",
   "metadata": {},
   "outputs": [
    {
     "name": "stdout",
     "output_type": "stream",
     "text": [
      "Invoice ID                  object\n",
      "Branch                      object\n",
      "City                        object\n",
      "Customer type               object\n",
      "Gender                      object\n",
      "Product line                object\n",
      "Unit price                 float64\n",
      "Quantity                     int32\n",
      "Tax 5%                     float64\n",
      "Total                      float64\n",
      "Date                        object\n",
      "Time                        object\n",
      "Payment                     object\n",
      "cogs                       float64\n",
      "gross margin percentage    float64\n",
      "gross income               float64\n",
      "Rating                     float64\n",
      "dtype: object\n"
     ]
    }
   ],
   "source": [
    "sales['Unit price']= pd.to_numeric(sales['Unit price'], errors='coerce')\n",
    "sales = sales.replace(np.nan, 0, regex=True)\n",
    "print(sales.dtypes)\n"
   ]
  },
  {
   "cell_type": "markdown",
   "id": "fa754ae5",
   "metadata": {},
   "source": [
    "Same with the date and time - they're objects (which stands for a string) and not actually date and time. So let's change that."
   ]
  },
  {
   "cell_type": "code",
   "execution_count": 46,
   "id": "26f34e7d",
   "metadata": {},
   "outputs": [
    {
     "data": {
      "text/plain": [
       "Invoice ID                         object\n",
       "Branch                             object\n",
       "City                               object\n",
       "Customer type                      object\n",
       "Gender                             object\n",
       "Product line                       object\n",
       "Unit price                        float64\n",
       "Quantity                            int32\n",
       "Tax 5%                            float64\n",
       "Total                             float64\n",
       "Date                       datetime64[ns]\n",
       "Time                               object\n",
       "Payment                            object\n",
       "cogs                              float64\n",
       "gross margin percentage           float64\n",
       "gross income                      float64\n",
       "Rating                            float64\n",
       "dtype: object"
      ]
     },
     "execution_count": 46,
     "metadata": {},
     "output_type": "execute_result"
    }
   ],
   "source": [
    "sales.Date = pd.to_datetime(sales.Date)\n",
    "\n",
    "sales.dtypes"
   ]
  },
  {
   "cell_type": "code",
   "execution_count": 47,
   "id": "1936190c",
   "metadata": {},
   "outputs": [
    {
     "data": {
      "text/plain": [
       "Invoice ID                         object\n",
       "Branch                             object\n",
       "City                               object\n",
       "Customer type                      object\n",
       "Gender                             object\n",
       "Product line                       object\n",
       "Unit price                        float64\n",
       "Quantity                            int32\n",
       "Tax 5%                            float64\n",
       "Total                             float64\n",
       "Date                       datetime64[ns]\n",
       "Time                       datetime64[ns]\n",
       "Payment                            object\n",
       "cogs                              float64\n",
       "gross margin percentage           float64\n",
       "gross income                      float64\n",
       "Rating                            float64\n",
       "dtype: object"
      ]
     },
     "execution_count": 47,
     "metadata": {},
     "output_type": "execute_result"
    }
   ],
   "source": [
    "# Use DataFrame.apply() to convert multiple columns to datetime\n",
    "sales[['Date','Time']] = sales[['Date','Time']].apply(pd.to_datetime)\n",
    "sales.dtypes"
   ]
  },
  {
   "cell_type": "code",
   "execution_count": 48,
   "id": "5212fa9d",
   "metadata": {},
   "outputs": [
    {
     "data": {
      "text/html": [
       "<div>\n",
       "<style scoped>\n",
       "    .dataframe tbody tr th:only-of-type {\n",
       "        vertical-align: middle;\n",
       "    }\n",
       "\n",
       "    .dataframe tbody tr th {\n",
       "        vertical-align: top;\n",
       "    }\n",
       "\n",
       "    .dataframe thead th {\n",
       "        text-align: right;\n",
       "    }\n",
       "</style>\n",
       "<table border=\"1\" class=\"dataframe\">\n",
       "  <thead>\n",
       "    <tr style=\"text-align: right;\">\n",
       "      <th></th>\n",
       "      <th>Invoice ID</th>\n",
       "      <th>Branch</th>\n",
       "      <th>City</th>\n",
       "      <th>Customer type</th>\n",
       "      <th>Gender</th>\n",
       "      <th>Product line</th>\n",
       "      <th>Unit price</th>\n",
       "      <th>Quantity</th>\n",
       "      <th>Tax 5%</th>\n",
       "      <th>Total</th>\n",
       "      <th>Date</th>\n",
       "      <th>Time</th>\n",
       "      <th>Payment</th>\n",
       "      <th>cogs</th>\n",
       "      <th>gross margin percentage</th>\n",
       "      <th>gross income</th>\n",
       "      <th>Rating</th>\n",
       "    </tr>\n",
       "  </thead>\n",
       "  <tbody>\n",
       "    <tr>\n",
       "      <th>1</th>\n",
       "      <td>226-31-3081</td>\n",
       "      <td>C</td>\n",
       "      <td>Naypyitaw</td>\n",
       "      <td>Normal</td>\n",
       "      <td>Female</td>\n",
       "      <td>Electronic accessories</td>\n",
       "      <td>15.28</td>\n",
       "      <td>5</td>\n",
       "      <td>4.0110</td>\n",
       "      <td>80.2200</td>\n",
       "      <td>2019-03-08</td>\n",
       "      <td>2024-02-07 10:29:00</td>\n",
       "      <td>Cash</td>\n",
       "      <td>76.40</td>\n",
       "      <td>4.761905</td>\n",
       "      <td>3.8200</td>\n",
       "      <td>9.6</td>\n",
       "    </tr>\n",
       "    <tr>\n",
       "      <th>2</th>\n",
       "      <td>631-41-3108</td>\n",
       "      <td>A</td>\n",
       "      <td>Yangon</td>\n",
       "      <td>Normal</td>\n",
       "      <td>Male</td>\n",
       "      <td>Home and lifestyle</td>\n",
       "      <td>46.33</td>\n",
       "      <td>7</td>\n",
       "      <td>16.2155</td>\n",
       "      <td>340.5255</td>\n",
       "      <td>2019-03-03</td>\n",
       "      <td>2024-02-07 13:23:00</td>\n",
       "      <td>Credit card</td>\n",
       "      <td>324.31</td>\n",
       "      <td>4.761905</td>\n",
       "      <td>16.2155</td>\n",
       "      <td>7.4</td>\n",
       "    </tr>\n",
       "  </tbody>\n",
       "</table>\n",
       "</div>"
      ],
      "text/plain": [
       "    Invoice ID Branch       City Customer type  Gender  \\\n",
       "1  226-31-3081      C  Naypyitaw        Normal  Female   \n",
       "2  631-41-3108      A     Yangon        Normal    Male   \n",
       "\n",
       "             Product line  Unit price  Quantity   Tax 5%     Total       Date  \\\n",
       "1  Electronic accessories       15.28         5   4.0110   80.2200 2019-03-08   \n",
       "2      Home and lifestyle       46.33         7  16.2155  340.5255 2019-03-03   \n",
       "\n",
       "                 Time      Payment    cogs  gross margin percentage  \\\n",
       "1 2024-02-07 10:29:00         Cash   76.40                 4.761905   \n",
       "2 2024-02-07 13:23:00  Credit card  324.31                 4.761905   \n",
       "\n",
       "   gross income  Rating  \n",
       "1        3.8200     9.6  \n",
       "2       16.2155     7.4  "
      ]
     },
     "execution_count": 48,
     "metadata": {},
     "output_type": "execute_result"
    }
   ],
   "source": [
    "sales.head(2)"
   ]
  },
  {
   "cell_type": "markdown",
   "id": "3d17d7f7",
   "metadata": {},
   "source": [
    "#### Digression - apply()"
   ]
  },
  {
   "cell_type": "markdown",
   "id": "4c0aeeda",
   "metadata": {},
   "source": [
    "apply() is a useful function used to apply (:D) a function along an axis of the DataFrame,  default 0, which is the index (row) axis.\n",
    "Example:"
   ]
  },
  {
   "cell_type": "code",
   "execution_count": 49,
   "id": "419f511e",
   "metadata": {},
   "outputs": [
    {
     "name": "stdout",
     "output_type": "stream",
     "text": [
      "x     120\n",
      "y    1454\n",
      "dtype: int64\n"
     ]
    }
   ],
   "source": [
    "def calc_sum(x):\n",
    "    return x.sum()\n",
    "\n",
    "data = {\n",
    "  \"x\": [50, 40, 30],\n",
    "  \"y\": [300, 1112, 42]\n",
    "}\n",
    "\n",
    "df = pd.DataFrame(data)\n",
    "\n",
    "x = df.apply(calc_sum)\n",
    "\n",
    "print(x)"
   ]
  },
  {
   "cell_type": "markdown",
   "id": "d5500a75",
   "metadata": {},
   "source": [
    "### Query methods"
   ]
  },
  {
   "cell_type": "markdown",
   "id": "8b917637",
   "metadata": {},
   "source": [
    "We already saw that if we find the unique categories in a categorical variable, we can figure out the number of rows depending on a condition (e.g. name of the city). However, sometimes we want to use multiple conditions, and for that we use ```query()```. It automatically returns a new dataframe, but if we want to just update the existing one, we would use ```inplace = True``` as the argument."
   ]
  },
  {
   "cell_type": "code",
   "execution_count": 50,
   "id": "e0cd77f3",
   "metadata": {},
   "outputs": [
    {
     "data": {
      "text/plain": [
       "array(['Naypyitaw', 'Yangon', 'Mandalay'], dtype=object)"
      ]
     },
     "execution_count": 50,
     "metadata": {},
     "output_type": "execute_result"
    }
   ],
   "source": [
    "sales['City'].unique()"
   ]
  },
  {
   "cell_type": "markdown",
   "id": "1402ba0b",
   "metadata": {},
   "source": [
    "* purchases made in Yangon"
   ]
  },
  {
   "cell_type": "code",
   "execution_count": 51,
   "id": "838c5ab0",
   "metadata": {},
   "outputs": [
    {
     "data": {
      "text/html": [
       "<div>\n",
       "<style scoped>\n",
       "    .dataframe tbody tr th:only-of-type {\n",
       "        vertical-align: middle;\n",
       "    }\n",
       "\n",
       "    .dataframe tbody tr th {\n",
       "        vertical-align: top;\n",
       "    }\n",
       "\n",
       "    .dataframe thead th {\n",
       "        text-align: right;\n",
       "    }\n",
       "</style>\n",
       "<table border=\"1\" class=\"dataframe\">\n",
       "  <thead>\n",
       "    <tr style=\"text-align: right;\">\n",
       "      <th></th>\n",
       "      <th>Invoice ID</th>\n",
       "      <th>Branch</th>\n",
       "      <th>City</th>\n",
       "      <th>Customer type</th>\n",
       "      <th>Gender</th>\n",
       "      <th>Product line</th>\n",
       "      <th>Unit price</th>\n",
       "      <th>Quantity</th>\n",
       "      <th>Tax 5%</th>\n",
       "      <th>Total</th>\n",
       "      <th>Date</th>\n",
       "      <th>Time</th>\n",
       "      <th>Payment</th>\n",
       "      <th>cogs</th>\n",
       "      <th>gross margin percentage</th>\n",
       "      <th>gross income</th>\n",
       "      <th>Rating</th>\n",
       "    </tr>\n",
       "  </thead>\n",
       "  <tbody>\n",
       "    <tr>\n",
       "      <th>2</th>\n",
       "      <td>631-41-3108</td>\n",
       "      <td>A</td>\n",
       "      <td>Yangon</td>\n",
       "      <td>Normal</td>\n",
       "      <td>Male</td>\n",
       "      <td>Home and lifestyle</td>\n",
       "      <td>46.33</td>\n",
       "      <td>7</td>\n",
       "      <td>16.2155</td>\n",
       "      <td>340.5255</td>\n",
       "      <td>2019-03-03</td>\n",
       "      <td>2024-02-07 13:23:00</td>\n",
       "      <td>Credit card</td>\n",
       "      <td>324.31</td>\n",
       "      <td>4.761905</td>\n",
       "      <td>16.2155</td>\n",
       "      <td>7.4</td>\n",
       "    </tr>\n",
       "    <tr>\n",
       "      <th>3</th>\n",
       "      <td>123-19-1176</td>\n",
       "      <td>A</td>\n",
       "      <td>Yangon</td>\n",
       "      <td>Member</td>\n",
       "      <td>Male</td>\n",
       "      <td>Health and beauty</td>\n",
       "      <td>58.22</td>\n",
       "      <td>8</td>\n",
       "      <td>23.2880</td>\n",
       "      <td>489.0480</td>\n",
       "      <td>2019-01-27</td>\n",
       "      <td>2024-02-07 20:33:00</td>\n",
       "      <td>Ewallet</td>\n",
       "      <td>465.76</td>\n",
       "      <td>4.761905</td>\n",
       "      <td>23.2880</td>\n",
       "      <td>8.4</td>\n",
       "    </tr>\n",
       "    <tr>\n",
       "      <th>4</th>\n",
       "      <td>373-73-7910</td>\n",
       "      <td>A</td>\n",
       "      <td>Yangon</td>\n",
       "      <td>Normal</td>\n",
       "      <td>Male</td>\n",
       "      <td>Sports and travel</td>\n",
       "      <td>86.31</td>\n",
       "      <td>7</td>\n",
       "      <td>30.2085</td>\n",
       "      <td>634.3785</td>\n",
       "      <td>2019-02-08</td>\n",
       "      <td>2024-02-07 10:37:00</td>\n",
       "      <td>Ewallet</td>\n",
       "      <td>604.17</td>\n",
       "      <td>4.761905</td>\n",
       "      <td>30.2085</td>\n",
       "      <td>5.3</td>\n",
       "    </tr>\n",
       "    <tr>\n",
       "      <th>6</th>\n",
       "      <td>355-53-5943</td>\n",
       "      <td></td>\n",
       "      <td>Yangon</td>\n",
       "      <td>Member</td>\n",
       "      <td>Female</td>\n",
       "      <td>Electronic accessories</td>\n",
       "      <td>68.84</td>\n",
       "      <td>6</td>\n",
       "      <td>20.6520</td>\n",
       "      <td>433.6920</td>\n",
       "      <td>2019-02-25</td>\n",
       "      <td>2024-02-07 14:36:00</td>\n",
       "      <td>Ewallet</td>\n",
       "      <td>413.04</td>\n",
       "      <td>4.761905</td>\n",
       "      <td>20.6520</td>\n",
       "      <td>5.8</td>\n",
       "    </tr>\n",
       "    <tr>\n",
       "      <th>8</th>\n",
       "      <td>665-32-9167</td>\n",
       "      <td>A</td>\n",
       "      <td>Yangon</td>\n",
       "      <td>Member</td>\n",
       "      <td>Female</td>\n",
       "      <td>Health and beauty</td>\n",
       "      <td>36.26</td>\n",
       "      <td>2</td>\n",
       "      <td>3.6260</td>\n",
       "      <td>76.1460</td>\n",
       "      <td>2019-01-10</td>\n",
       "      <td>2024-02-07 17:15:00</td>\n",
       "      <td>Credit card</td>\n",
       "      <td>72.52</td>\n",
       "      <td>4.761905</td>\n",
       "      <td>3.6260</td>\n",
       "      <td>7.2</td>\n",
       "    </tr>\n",
       "    <tr>\n",
       "      <th>...</th>\n",
       "      <td>...</td>\n",
       "      <td>...</td>\n",
       "      <td>...</td>\n",
       "      <td>...</td>\n",
       "      <td>...</td>\n",
       "      <td>...</td>\n",
       "      <td>...</td>\n",
       "      <td>...</td>\n",
       "      <td>...</td>\n",
       "      <td>...</td>\n",
       "      <td>...</td>\n",
       "      <td>...</td>\n",
       "      <td>...</td>\n",
       "      <td>...</td>\n",
       "      <td>...</td>\n",
       "      <td>...</td>\n",
       "      <td>...</td>\n",
       "    </tr>\n",
       "    <tr>\n",
       "      <th>983</th>\n",
       "      <td>809-46-1866</td>\n",
       "      <td>A</td>\n",
       "      <td>Yangon</td>\n",
       "      <td>Normal</td>\n",
       "      <td>Male</td>\n",
       "      <td>Health and beauty</td>\n",
       "      <td>58.15</td>\n",
       "      <td>4</td>\n",
       "      <td>11.6300</td>\n",
       "      <td>244.2300</td>\n",
       "      <td>2019-01-23</td>\n",
       "      <td>2024-02-07 17:44:00</td>\n",
       "      <td>Cash</td>\n",
       "      <td>232.60</td>\n",
       "      <td>4.761905</td>\n",
       "      <td>11.6300</td>\n",
       "      <td>8.4</td>\n",
       "    </tr>\n",
       "    <tr>\n",
       "      <th>984</th>\n",
       "      <td>139-32-4183</td>\n",
       "      <td>A</td>\n",
       "      <td>Yangon</td>\n",
       "      <td>Member</td>\n",
       "      <td>Female</td>\n",
       "      <td>Sports and travel</td>\n",
       "      <td>97.48</td>\n",
       "      <td>9</td>\n",
       "      <td>43.8660</td>\n",
       "      <td>921.1860</td>\n",
       "      <td>2019-03-14</td>\n",
       "      <td>2024-02-07 14:19:00</td>\n",
       "      <td>Ewallet</td>\n",
       "      <td>877.32</td>\n",
       "      <td>4.761905</td>\n",
       "      <td>43.8660</td>\n",
       "      <td>7.4</td>\n",
       "    </tr>\n",
       "    <tr>\n",
       "      <th>985</th>\n",
       "      <td>727-02-1313</td>\n",
       "      <td>A</td>\n",
       "      <td>Yangon</td>\n",
       "      <td>Member</td>\n",
       "      <td>Male</td>\n",
       "      <td>Food and beverages</td>\n",
       "      <td>31.84</td>\n",
       "      <td>1</td>\n",
       "      <td>1.5920</td>\n",
       "      <td>33.4320</td>\n",
       "      <td>2019-02-09</td>\n",
       "      <td>2024-02-07 13:22:00</td>\n",
       "      <td>Cash</td>\n",
       "      <td>31.84</td>\n",
       "      <td>4.761905</td>\n",
       "      <td>1.5920</td>\n",
       "      <td>7.7</td>\n",
       "    </tr>\n",
       "    <tr>\n",
       "      <th>986</th>\n",
       "      <td>347-56-2442</td>\n",
       "      <td>A</td>\n",
       "      <td>Yangon</td>\n",
       "      <td>Normal</td>\n",
       "      <td>Male</td>\n",
       "      <td>Home and lifestyle</td>\n",
       "      <td>65.82</td>\n",
       "      <td>1</td>\n",
       "      <td>3.2910</td>\n",
       "      <td>69.1110</td>\n",
       "      <td>2019-02-22</td>\n",
       "      <td>2024-02-07 15:33:00</td>\n",
       "      <td>Cash</td>\n",
       "      <td>65.82</td>\n",
       "      <td>4.761905</td>\n",
       "      <td>3.2910</td>\n",
       "      <td>4.1</td>\n",
       "    </tr>\n",
       "    <tr>\n",
       "      <th>988</th>\n",
       "      <td>849-09-3807</td>\n",
       "      <td>A</td>\n",
       "      <td>Yangon</td>\n",
       "      <td>Member</td>\n",
       "      <td>Female</td>\n",
       "      <td>Fashion accessories</td>\n",
       "      <td>88.34</td>\n",
       "      <td>7</td>\n",
       "      <td>30.9190</td>\n",
       "      <td>649.2990</td>\n",
       "      <td>2019-02-18</td>\n",
       "      <td>2024-02-07 13:28:00</td>\n",
       "      <td>Cash</td>\n",
       "      <td>618.38</td>\n",
       "      <td>4.761905</td>\n",
       "      <td>30.9190</td>\n",
       "      <td>6.6</td>\n",
       "    </tr>\n",
       "  </tbody>\n",
       "</table>\n",
       "<p>334 rows × 17 columns</p>\n",
       "</div>"
      ],
      "text/plain": [
       "      Invoice ID Branch    City Customer type  Gender            Product line  \\\n",
       "2    631-41-3108      A  Yangon        Normal    Male      Home and lifestyle   \n",
       "3    123-19-1176      A  Yangon        Member    Male       Health and beauty   \n",
       "4    373-73-7910      A  Yangon        Normal    Male       Sports and travel   \n",
       "6    355-53-5943         Yangon        Member  Female  Electronic accessories   \n",
       "8    665-32-9167      A  Yangon        Member  Female       Health and beauty   \n",
       "..           ...    ...     ...           ...     ...                     ...   \n",
       "983  809-46-1866      A  Yangon        Normal    Male       Health and beauty   \n",
       "984  139-32-4183      A  Yangon        Member  Female       Sports and travel   \n",
       "985  727-02-1313      A  Yangon        Member    Male      Food and beverages   \n",
       "986  347-56-2442      A  Yangon        Normal    Male      Home and lifestyle   \n",
       "988  849-09-3807      A  Yangon        Member  Female     Fashion accessories   \n",
       "\n",
       "     Unit price  Quantity   Tax 5%     Total       Date                Time  \\\n",
       "2         46.33         7  16.2155  340.5255 2019-03-03 2024-02-07 13:23:00   \n",
       "3         58.22         8  23.2880  489.0480 2019-01-27 2024-02-07 20:33:00   \n",
       "4         86.31         7  30.2085  634.3785 2019-02-08 2024-02-07 10:37:00   \n",
       "6         68.84         6  20.6520  433.6920 2019-02-25 2024-02-07 14:36:00   \n",
       "8         36.26         2   3.6260   76.1460 2019-01-10 2024-02-07 17:15:00   \n",
       "..          ...       ...      ...       ...        ...                 ...   \n",
       "983       58.15         4  11.6300  244.2300 2019-01-23 2024-02-07 17:44:00   \n",
       "984       97.48         9  43.8660  921.1860 2019-03-14 2024-02-07 14:19:00   \n",
       "985       31.84         1   1.5920   33.4320 2019-02-09 2024-02-07 13:22:00   \n",
       "986       65.82         1   3.2910   69.1110 2019-02-22 2024-02-07 15:33:00   \n",
       "988       88.34         7  30.9190  649.2990 2019-02-18 2024-02-07 13:28:00   \n",
       "\n",
       "         Payment    cogs  gross margin percentage  gross income  Rating  \n",
       "2    Credit card  324.31                 4.761905       16.2155     7.4  \n",
       "3        Ewallet  465.76                 4.761905       23.2880     8.4  \n",
       "4        Ewallet  604.17                 4.761905       30.2085     5.3  \n",
       "6        Ewallet  413.04                 4.761905       20.6520     5.8  \n",
       "8    Credit card   72.52                 4.761905        3.6260     7.2  \n",
       "..           ...     ...                      ...           ...     ...  \n",
       "983         Cash  232.60                 4.761905       11.6300     8.4  \n",
       "984      Ewallet  877.32                 4.761905       43.8660     7.4  \n",
       "985         Cash   31.84                 4.761905        1.5920     7.7  \n",
       "986         Cash   65.82                 4.761905        3.2910     4.1  \n",
       "988         Cash  618.38                 4.761905       30.9190     6.6  \n",
       "\n",
       "[334 rows x 17 columns]"
      ]
     },
     "execution_count": 51,
     "metadata": {},
     "output_type": "execute_result"
    }
   ],
   "source": [
    "sales.query('City == \"Yangon\"')"
   ]
  },
  {
   "cell_type": "markdown",
   "id": "6a826792",
   "metadata": {},
   "source": [
    "* purchases made in Yangon in cash"
   ]
  },
  {
   "cell_type": "code",
   "execution_count": 52,
   "id": "a0a9cafb",
   "metadata": {},
   "outputs": [
    {
     "data": {
      "text/html": [
       "<div>\n",
       "<style scoped>\n",
       "    .dataframe tbody tr th:only-of-type {\n",
       "        vertical-align: middle;\n",
       "    }\n",
       "\n",
       "    .dataframe tbody tr th {\n",
       "        vertical-align: top;\n",
       "    }\n",
       "\n",
       "    .dataframe thead th {\n",
       "        text-align: right;\n",
       "    }\n",
       "</style>\n",
       "<table border=\"1\" class=\"dataframe\">\n",
       "  <thead>\n",
       "    <tr style=\"text-align: right;\">\n",
       "      <th></th>\n",
       "      <th>Invoice ID</th>\n",
       "      <th>Branch</th>\n",
       "      <th>City</th>\n",
       "      <th>Customer type</th>\n",
       "      <th>Gender</th>\n",
       "      <th>Product line</th>\n",
       "      <th>Unit price</th>\n",
       "      <th>Quantity</th>\n",
       "      <th>Tax 5%</th>\n",
       "      <th>Total</th>\n",
       "      <th>Date</th>\n",
       "      <th>Time</th>\n",
       "      <th>Payment</th>\n",
       "      <th>cogs</th>\n",
       "      <th>gross margin percentage</th>\n",
       "      <th>gross income</th>\n",
       "      <th>Rating</th>\n",
       "    </tr>\n",
       "  </thead>\n",
       "  <tbody>\n",
       "    <tr>\n",
       "      <th>14</th>\n",
       "      <td>829-34-3910</td>\n",
       "      <td>A</td>\n",
       "      <td>Yangon</td>\n",
       "      <td>Normal</td>\n",
       "      <td>Female</td>\n",
       "      <td>Health and beauty</td>\n",
       "      <td>71.38</td>\n",
       "      <td>10</td>\n",
       "      <td>35.6900</td>\n",
       "      <td>749.4900</td>\n",
       "      <td>2019-03-29</td>\n",
       "      <td>2024-02-07 19:21:00</td>\n",
       "      <td>Cash</td>\n",
       "      <td>713.80</td>\n",
       "      <td>4.761905</td>\n",
       "      <td>35.6900</td>\n",
       "      <td>5.7</td>\n",
       "    </tr>\n",
       "    <tr>\n",
       "      <th>29</th>\n",
       "      <td>848-62-7243</td>\n",
       "      <td>A</td>\n",
       "      <td>Yangon</td>\n",
       "      <td>Normal</td>\n",
       "      <td>Male</td>\n",
       "      <td>Health and beauty</td>\n",
       "      <td>24.89</td>\n",
       "      <td>9</td>\n",
       "      <td>11.2005</td>\n",
       "      <td>235.2105</td>\n",
       "      <td>2019-03-15</td>\n",
       "      <td>2024-02-07 15:36:00</td>\n",
       "      <td>Cash</td>\n",
       "      <td>224.01</td>\n",
       "      <td>4.761905</td>\n",
       "      <td>11.2005</td>\n",
       "      <td>7.4</td>\n",
       "    </tr>\n",
       "    <tr>\n",
       "      <th>51</th>\n",
       "      <td>162-48-8011</td>\n",
       "      <td>A</td>\n",
       "      <td>Yangon</td>\n",
       "      <td>Member</td>\n",
       "      <td>Female</td>\n",
       "      <td>Food and beverages</td>\n",
       "      <td>44.59</td>\n",
       "      <td>5</td>\n",
       "      <td>11.1475</td>\n",
       "      <td>234.0975</td>\n",
       "      <td>2019-02-10</td>\n",
       "      <td>2024-02-07 15:10:00</td>\n",
       "      <td>Cash</td>\n",
       "      <td>222.95</td>\n",
       "      <td>4.761905</td>\n",
       "      <td>11.1475</td>\n",
       "      <td>8.5</td>\n",
       "    </tr>\n",
       "    <tr>\n",
       "      <th>56</th>\n",
       "      <td>106-35-6779</td>\n",
       "      <td>A</td>\n",
       "      <td>Yangon</td>\n",
       "      <td>Member</td>\n",
       "      <td>Male</td>\n",
       "      <td>Home and lifestyle</td>\n",
       "      <td>44.34</td>\n",
       "      <td>2</td>\n",
       "      <td>4.4340</td>\n",
       "      <td>93.1140</td>\n",
       "      <td>2019-03-27</td>\n",
       "      <td>2024-02-07 11:26:00</td>\n",
       "      <td>Cash</td>\n",
       "      <td>88.68</td>\n",
       "      <td>4.761905</td>\n",
       "      <td>4.4340</td>\n",
       "      <td>5.8</td>\n",
       "    </tr>\n",
       "    <tr>\n",
       "      <th>58</th>\n",
       "      <td>817-48-8732</td>\n",
       "      <td>A</td>\n",
       "      <td>Yangon</td>\n",
       "      <td>Member</td>\n",
       "      <td>Female</td>\n",
       "      <td>Home and lifestyle</td>\n",
       "      <td>72.35</td>\n",
       "      <td>10</td>\n",
       "      <td>36.1750</td>\n",
       "      <td>759.6750</td>\n",
       "      <td>2019-01-20</td>\n",
       "      <td>2024-02-07 15:55:00</td>\n",
       "      <td>Cash</td>\n",
       "      <td>723.50</td>\n",
       "      <td>4.761905</td>\n",
       "      <td>36.1750</td>\n",
       "      <td>5.4</td>\n",
       "    </tr>\n",
       "    <tr>\n",
       "      <th>...</th>\n",
       "      <td>...</td>\n",
       "      <td>...</td>\n",
       "      <td>...</td>\n",
       "      <td>...</td>\n",
       "      <td>...</td>\n",
       "      <td>...</td>\n",
       "      <td>...</td>\n",
       "      <td>...</td>\n",
       "      <td>...</td>\n",
       "      <td>...</td>\n",
       "      <td>...</td>\n",
       "      <td>...</td>\n",
       "      <td>...</td>\n",
       "      <td>...</td>\n",
       "      <td>...</td>\n",
       "      <td>...</td>\n",
       "      <td>...</td>\n",
       "    </tr>\n",
       "    <tr>\n",
       "      <th>978</th>\n",
       "      <td>221-25-5073</td>\n",
       "      <td>A</td>\n",
       "      <td>Yangon</td>\n",
       "      <td>Normal</td>\n",
       "      <td>Female</td>\n",
       "      <td>Food and beverages</td>\n",
       "      <td>74.66</td>\n",
       "      <td>4</td>\n",
       "      <td>14.9320</td>\n",
       "      <td>313.5720</td>\n",
       "      <td>2019-03-04</td>\n",
       "      <td>2024-02-07 10:39:00</td>\n",
       "      <td>Cash</td>\n",
       "      <td>298.64</td>\n",
       "      <td>4.761905</td>\n",
       "      <td>14.9320</td>\n",
       "      <td>8.5</td>\n",
       "    </tr>\n",
       "    <tr>\n",
       "      <th>983</th>\n",
       "      <td>809-46-1866</td>\n",
       "      <td>A</td>\n",
       "      <td>Yangon</td>\n",
       "      <td>Normal</td>\n",
       "      <td>Male</td>\n",
       "      <td>Health and beauty</td>\n",
       "      <td>58.15</td>\n",
       "      <td>4</td>\n",
       "      <td>11.6300</td>\n",
       "      <td>244.2300</td>\n",
       "      <td>2019-01-23</td>\n",
       "      <td>2024-02-07 17:44:00</td>\n",
       "      <td>Cash</td>\n",
       "      <td>232.60</td>\n",
       "      <td>4.761905</td>\n",
       "      <td>11.6300</td>\n",
       "      <td>8.4</td>\n",
       "    </tr>\n",
       "    <tr>\n",
       "      <th>985</th>\n",
       "      <td>727-02-1313</td>\n",
       "      <td>A</td>\n",
       "      <td>Yangon</td>\n",
       "      <td>Member</td>\n",
       "      <td>Male</td>\n",
       "      <td>Food and beverages</td>\n",
       "      <td>31.84</td>\n",
       "      <td>1</td>\n",
       "      <td>1.5920</td>\n",
       "      <td>33.4320</td>\n",
       "      <td>2019-02-09</td>\n",
       "      <td>2024-02-07 13:22:00</td>\n",
       "      <td>Cash</td>\n",
       "      <td>31.84</td>\n",
       "      <td>4.761905</td>\n",
       "      <td>1.5920</td>\n",
       "      <td>7.7</td>\n",
       "    </tr>\n",
       "    <tr>\n",
       "      <th>986</th>\n",
       "      <td>347-56-2442</td>\n",
       "      <td>A</td>\n",
       "      <td>Yangon</td>\n",
       "      <td>Normal</td>\n",
       "      <td>Male</td>\n",
       "      <td>Home and lifestyle</td>\n",
       "      <td>65.82</td>\n",
       "      <td>1</td>\n",
       "      <td>3.2910</td>\n",
       "      <td>69.1110</td>\n",
       "      <td>2019-02-22</td>\n",
       "      <td>2024-02-07 15:33:00</td>\n",
       "      <td>Cash</td>\n",
       "      <td>65.82</td>\n",
       "      <td>4.761905</td>\n",
       "      <td>3.2910</td>\n",
       "      <td>4.1</td>\n",
       "    </tr>\n",
       "    <tr>\n",
       "      <th>988</th>\n",
       "      <td>849-09-3807</td>\n",
       "      <td>A</td>\n",
       "      <td>Yangon</td>\n",
       "      <td>Member</td>\n",
       "      <td>Female</td>\n",
       "      <td>Fashion accessories</td>\n",
       "      <td>88.34</td>\n",
       "      <td>7</td>\n",
       "      <td>30.9190</td>\n",
       "      <td>649.2990</td>\n",
       "      <td>2019-02-18</td>\n",
       "      <td>2024-02-07 13:28:00</td>\n",
       "      <td>Cash</td>\n",
       "      <td>618.38</td>\n",
       "      <td>4.761905</td>\n",
       "      <td>30.9190</td>\n",
       "      <td>6.6</td>\n",
       "    </tr>\n",
       "  </tbody>\n",
       "</table>\n",
       "<p>108 rows × 17 columns</p>\n",
       "</div>"
      ],
      "text/plain": [
       "      Invoice ID Branch    City Customer type  Gender         Product line  \\\n",
       "14   829-34-3910      A  Yangon        Normal  Female    Health and beauty   \n",
       "29   848-62-7243      A  Yangon        Normal    Male    Health and beauty   \n",
       "51   162-48-8011      A  Yangon        Member  Female   Food and beverages   \n",
       "56   106-35-6779      A  Yangon        Member    Male   Home and lifestyle   \n",
       "58   817-48-8732      A  Yangon        Member  Female   Home and lifestyle   \n",
       "..           ...    ...     ...           ...     ...                  ...   \n",
       "978  221-25-5073      A  Yangon        Normal  Female   Food and beverages   \n",
       "983  809-46-1866      A  Yangon        Normal    Male    Health and beauty   \n",
       "985  727-02-1313      A  Yangon        Member    Male   Food and beverages   \n",
       "986  347-56-2442      A  Yangon        Normal    Male   Home and lifestyle   \n",
       "988  849-09-3807      A  Yangon        Member  Female  Fashion accessories   \n",
       "\n",
       "     Unit price  Quantity   Tax 5%     Total       Date                Time  \\\n",
       "14        71.38        10  35.6900  749.4900 2019-03-29 2024-02-07 19:21:00   \n",
       "29        24.89         9  11.2005  235.2105 2019-03-15 2024-02-07 15:36:00   \n",
       "51        44.59         5  11.1475  234.0975 2019-02-10 2024-02-07 15:10:00   \n",
       "56        44.34         2   4.4340   93.1140 2019-03-27 2024-02-07 11:26:00   \n",
       "58        72.35        10  36.1750  759.6750 2019-01-20 2024-02-07 15:55:00   \n",
       "..          ...       ...      ...       ...        ...                 ...   \n",
       "978       74.66         4  14.9320  313.5720 2019-03-04 2024-02-07 10:39:00   \n",
       "983       58.15         4  11.6300  244.2300 2019-01-23 2024-02-07 17:44:00   \n",
       "985       31.84         1   1.5920   33.4320 2019-02-09 2024-02-07 13:22:00   \n",
       "986       65.82         1   3.2910   69.1110 2019-02-22 2024-02-07 15:33:00   \n",
       "988       88.34         7  30.9190  649.2990 2019-02-18 2024-02-07 13:28:00   \n",
       "\n",
       "    Payment    cogs  gross margin percentage  gross income  Rating  \n",
       "14     Cash  713.80                 4.761905       35.6900     5.7  \n",
       "29     Cash  224.01                 4.761905       11.2005     7.4  \n",
       "51     Cash  222.95                 4.761905       11.1475     8.5  \n",
       "56     Cash   88.68                 4.761905        4.4340     5.8  \n",
       "58     Cash  723.50                 4.761905       36.1750     5.4  \n",
       "..      ...     ...                      ...           ...     ...  \n",
       "978    Cash  298.64                 4.761905       14.9320     8.5  \n",
       "983    Cash  232.60                 4.761905       11.6300     8.4  \n",
       "985    Cash   31.84                 4.761905        1.5920     7.7  \n",
       "986    Cash   65.82                 4.761905        3.2910     4.1  \n",
       "988    Cash  618.38                 4.761905       30.9190     6.6  \n",
       "\n",
       "[108 rows x 17 columns]"
      ]
     },
     "execution_count": 52,
     "metadata": {},
     "output_type": "execute_result"
    }
   ],
   "source": [
    "sales.query('City == \"Yangon\" & Payment == \"Cash\"')"
   ]
  },
  {
   "cell_type": "markdown",
   "id": "082d370d",
   "metadata": {},
   "source": [
    "* purchases totalling between 1500 and 1000 e"
   ]
  },
  {
   "cell_type": "code",
   "execution_count": 53,
   "id": "cafe091e",
   "metadata": {},
   "outputs": [
    {
     "data": {
      "text/html": [
       "<div>\n",
       "<style scoped>\n",
       "    .dataframe tbody tr th:only-of-type {\n",
       "        vertical-align: middle;\n",
       "    }\n",
       "\n",
       "    .dataframe tbody tr th {\n",
       "        vertical-align: top;\n",
       "    }\n",
       "\n",
       "    .dataframe thead th {\n",
       "        text-align: right;\n",
       "    }\n",
       "</style>\n",
       "<table border=\"1\" class=\"dataframe\">\n",
       "  <thead>\n",
       "    <tr style=\"text-align: right;\">\n",
       "      <th></th>\n",
       "      <th>Invoice ID</th>\n",
       "      <th>Branch</th>\n",
       "      <th>City</th>\n",
       "      <th>Customer type</th>\n",
       "      <th>Gender</th>\n",
       "      <th>Product line</th>\n",
       "      <th>Unit price</th>\n",
       "      <th>Quantity</th>\n",
       "      <th>Tax 5%</th>\n",
       "      <th>Total</th>\n",
       "      <th>Date</th>\n",
       "      <th>Time</th>\n",
       "      <th>Payment</th>\n",
       "      <th>cogs</th>\n",
       "      <th>gross margin percentage</th>\n",
       "      <th>gross income</th>\n",
       "      <th>Rating</th>\n",
       "    </tr>\n",
       "  </thead>\n",
       "  <tbody>\n",
       "    <tr>\n",
       "      <th>166</th>\n",
       "      <td>234-65-2137</td>\n",
       "      <td>C</td>\n",
       "      <td>Naypyitaw</td>\n",
       "      <td>Normal</td>\n",
       "      <td>Male</td>\n",
       "      <td>Home and lifestyle</td>\n",
       "      <td>95.58</td>\n",
       "      <td>10</td>\n",
       "      <td>47.790</td>\n",
       "      <td>1003.590</td>\n",
       "      <td>2019-01-16</td>\n",
       "      <td>2024-02-07 13:32:00</td>\n",
       "      <td>Cash</td>\n",
       "      <td>955.8</td>\n",
       "      <td>4.761905</td>\n",
       "      <td>47.790</td>\n",
       "      <td>4.8</td>\n",
       "    </tr>\n",
       "    <tr>\n",
       "      <th>167</th>\n",
       "      <td>687-47-8271</td>\n",
       "      <td>A</td>\n",
       "      <td>Yangon</td>\n",
       "      <td>Normal</td>\n",
       "      <td>Male</td>\n",
       "      <td>Fashion accessories</td>\n",
       "      <td>98.98</td>\n",
       "      <td>10</td>\n",
       "      <td>49.490</td>\n",
       "      <td>1039.290</td>\n",
       "      <td>2019-02-08</td>\n",
       "      <td>2024-02-07 16:20:00</td>\n",
       "      <td>Credit card</td>\n",
       "      <td>989.8</td>\n",
       "      <td>4.761905</td>\n",
       "      <td>49.490</td>\n",
       "      <td>8.7</td>\n",
       "    </tr>\n",
       "    <tr>\n",
       "      <th>350</th>\n",
       "      <td>860-79-0874</td>\n",
       "      <td>C</td>\n",
       "      <td>Naypyitaw</td>\n",
       "      <td>Member</td>\n",
       "      <td>Female</td>\n",
       "      <td>Fashion accessories</td>\n",
       "      <td>99.30</td>\n",
       "      <td>10</td>\n",
       "      <td>49.650</td>\n",
       "      <td>1042.650</td>\n",
       "      <td>2019-02-15</td>\n",
       "      <td>2024-02-07 14:53:00</td>\n",
       "      <td>Credit card</td>\n",
       "      <td>993.0</td>\n",
       "      <td>4.761905</td>\n",
       "      <td>49.650</td>\n",
       "      <td>6.6</td>\n",
       "    </tr>\n",
       "    <tr>\n",
       "      <th>357</th>\n",
       "      <td>554-42-2417</td>\n",
       "      <td>C</td>\n",
       "      <td>Naypyitaw</td>\n",
       "      <td>Normal</td>\n",
       "      <td>Female</td>\n",
       "      <td>Sports and travel</td>\n",
       "      <td>95.44</td>\n",
       "      <td>10</td>\n",
       "      <td>47.720</td>\n",
       "      <td>1002.120</td>\n",
       "      <td>2019-01-09</td>\n",
       "      <td>2024-02-07 13:45:00</td>\n",
       "      <td>Cash</td>\n",
       "      <td>954.4</td>\n",
       "      <td>4.761905</td>\n",
       "      <td>47.720</td>\n",
       "      <td>5.2</td>\n",
       "    </tr>\n",
       "    <tr>\n",
       "      <th>422</th>\n",
       "      <td>271-88-8734</td>\n",
       "      <td>C</td>\n",
       "      <td>Naypyitaw</td>\n",
       "      <td>Member</td>\n",
       "      <td>Female</td>\n",
       "      <td>Fashion accessories</td>\n",
       "      <td>97.21</td>\n",
       "      <td>10</td>\n",
       "      <td>48.605</td>\n",
       "      <td>1020.705</td>\n",
       "      <td>2019-02-08</td>\n",
       "      <td>2024-02-07 13:00:00</td>\n",
       "      <td>Credit card</td>\n",
       "      <td>972.1</td>\n",
       "      <td>4.761905</td>\n",
       "      <td>48.605</td>\n",
       "      <td>8.7</td>\n",
       "    </tr>\n",
       "    <tr>\n",
       "      <th>557</th>\n",
       "      <td>283-26-5248</td>\n",
       "      <td>C</td>\n",
       "      <td>Naypyitaw</td>\n",
       "      <td>Member</td>\n",
       "      <td>Female</td>\n",
       "      <td>Food and beverages</td>\n",
       "      <td>98.52</td>\n",
       "      <td>10</td>\n",
       "      <td>49.260</td>\n",
       "      <td>1034.460</td>\n",
       "      <td>2019-01-30</td>\n",
       "      <td>2024-02-07 20:23:00</td>\n",
       "      <td>Ewallet</td>\n",
       "      <td>985.2</td>\n",
       "      <td>4.761905</td>\n",
       "      <td>49.260</td>\n",
       "      <td>4.5</td>\n",
       "    </tr>\n",
       "    <tr>\n",
       "      <th>699</th>\n",
       "      <td>751-41-9720</td>\n",
       "      <td>C</td>\n",
       "      <td>Naypyitaw</td>\n",
       "      <td>Normal</td>\n",
       "      <td>Male</td>\n",
       "      <td>Home and lifestyle</td>\n",
       "      <td>97.50</td>\n",
       "      <td>10</td>\n",
       "      <td>48.750</td>\n",
       "      <td>1023.750</td>\n",
       "      <td>2019-01-12</td>\n",
       "      <td>2024-02-07 16:18:00</td>\n",
       "      <td>Ewallet</td>\n",
       "      <td>975.0</td>\n",
       "      <td>4.761905</td>\n",
       "      <td>48.750</td>\n",
       "      <td>8.0</td>\n",
       "    </tr>\n",
       "    <tr>\n",
       "      <th>792</th>\n",
       "      <td>744-16-7898</td>\n",
       "      <td>B</td>\n",
       "      <td>Mandalay</td>\n",
       "      <td>Normal</td>\n",
       "      <td>Female</td>\n",
       "      <td>Home and lifestyle</td>\n",
       "      <td>97.37</td>\n",
       "      <td>10</td>\n",
       "      <td>48.685</td>\n",
       "      <td>1022.385</td>\n",
       "      <td>2019-01-15</td>\n",
       "      <td>2024-02-07 13:48:00</td>\n",
       "      <td>Credit card</td>\n",
       "      <td>973.7</td>\n",
       "      <td>4.761905</td>\n",
       "      <td>48.685</td>\n",
       "      <td>4.9</td>\n",
       "    </tr>\n",
       "  </tbody>\n",
       "</table>\n",
       "</div>"
      ],
      "text/plain": [
       "      Invoice ID Branch       City Customer type  Gender         Product line  \\\n",
       "166  234-65-2137      C  Naypyitaw        Normal    Male   Home and lifestyle   \n",
       "167  687-47-8271      A     Yangon        Normal    Male  Fashion accessories   \n",
       "350  860-79-0874      C  Naypyitaw        Member  Female  Fashion accessories   \n",
       "357  554-42-2417      C  Naypyitaw        Normal  Female    Sports and travel   \n",
       "422  271-88-8734      C  Naypyitaw        Member  Female  Fashion accessories   \n",
       "557  283-26-5248      C  Naypyitaw        Member  Female   Food and beverages   \n",
       "699  751-41-9720      C  Naypyitaw        Normal    Male   Home and lifestyle   \n",
       "792  744-16-7898      B   Mandalay        Normal  Female   Home and lifestyle   \n",
       "\n",
       "     Unit price  Quantity  Tax 5%     Total       Date                Time  \\\n",
       "166       95.58        10  47.790  1003.590 2019-01-16 2024-02-07 13:32:00   \n",
       "167       98.98        10  49.490  1039.290 2019-02-08 2024-02-07 16:20:00   \n",
       "350       99.30        10  49.650  1042.650 2019-02-15 2024-02-07 14:53:00   \n",
       "357       95.44        10  47.720  1002.120 2019-01-09 2024-02-07 13:45:00   \n",
       "422       97.21        10  48.605  1020.705 2019-02-08 2024-02-07 13:00:00   \n",
       "557       98.52        10  49.260  1034.460 2019-01-30 2024-02-07 20:23:00   \n",
       "699       97.50        10  48.750  1023.750 2019-01-12 2024-02-07 16:18:00   \n",
       "792       97.37        10  48.685  1022.385 2019-01-15 2024-02-07 13:48:00   \n",
       "\n",
       "         Payment   cogs  gross margin percentage  gross income  Rating  \n",
       "166         Cash  955.8                 4.761905        47.790     4.8  \n",
       "167  Credit card  989.8                 4.761905        49.490     8.7  \n",
       "350  Credit card  993.0                 4.761905        49.650     6.6  \n",
       "357         Cash  954.4                 4.761905        47.720     5.2  \n",
       "422  Credit card  972.1                 4.761905        48.605     8.7  \n",
       "557      Ewallet  985.2                 4.761905        49.260     4.5  \n",
       "699      Ewallet  975.0                 4.761905        48.750     8.0  \n",
       "792  Credit card  973.7                 4.761905        48.685     4.9  "
      ]
     },
     "execution_count": 53,
     "metadata": {},
     "output_type": "execute_result"
    }
   ],
   "source": [
    "sales.query('1000 < Total < 1500')"
   ]
  },
  {
   "cell_type": "markdown",
   "id": "3fe3a121",
   "metadata": {},
   "source": [
    "* purchases made in Naypyitaw in cash, that cost less than 50e."
   ]
  },
  {
   "cell_type": "code",
   "execution_count": 54,
   "id": "434f0d8a",
   "metadata": {},
   "outputs": [
    {
     "data": {
      "text/html": [
       "<div>\n",
       "<style scoped>\n",
       "    .dataframe tbody tr th:only-of-type {\n",
       "        vertical-align: middle;\n",
       "    }\n",
       "\n",
       "    .dataframe tbody tr th {\n",
       "        vertical-align: top;\n",
       "    }\n",
       "\n",
       "    .dataframe thead th {\n",
       "        text-align: right;\n",
       "    }\n",
       "</style>\n",
       "<table border=\"1\" class=\"dataframe\">\n",
       "  <thead>\n",
       "    <tr style=\"text-align: right;\">\n",
       "      <th></th>\n",
       "      <th>Invoice ID</th>\n",
       "      <th>Branch</th>\n",
       "      <th>City</th>\n",
       "      <th>Customer type</th>\n",
       "      <th>Gender</th>\n",
       "      <th>Product line</th>\n",
       "      <th>Unit price</th>\n",
       "      <th>Quantity</th>\n",
       "      <th>Tax 5%</th>\n",
       "      <th>Total</th>\n",
       "      <th>Date</th>\n",
       "      <th>Time</th>\n",
       "      <th>Payment</th>\n",
       "      <th>cogs</th>\n",
       "      <th>gross margin percentage</th>\n",
       "      <th>gross income</th>\n",
       "      <th>Rating</th>\n",
       "    </tr>\n",
       "  </thead>\n",
       "  <tbody>\n",
       "    <tr>\n",
       "      <th>44</th>\n",
       "      <td>617-15-4209</td>\n",
       "      <td>C</td>\n",
       "      <td>Naypyitaw</td>\n",
       "      <td>Member</td>\n",
       "      <td>Male</td>\n",
       "      <td>Health and beauty</td>\n",
       "      <td>15.37</td>\n",
       "      <td>2</td>\n",
       "      <td>1.5370</td>\n",
       "      <td>32.2770</td>\n",
       "      <td>2019-03-16</td>\n",
       "      <td>2024-02-07 19:47:00</td>\n",
       "      <td>Cash</td>\n",
       "      <td>30.74</td>\n",
       "      <td>4.761905</td>\n",
       "      <td>1.5370</td>\n",
       "      <td>7.2</td>\n",
       "    </tr>\n",
       "    <tr>\n",
       "      <th>223</th>\n",
       "      <td>279-62-1445</td>\n",
       "      <td>C</td>\n",
       "      <td>Naypyitaw</td>\n",
       "      <td>Member</td>\n",
       "      <td>Female</td>\n",
       "      <td>Fashion accessories</td>\n",
       "      <td>12.54</td>\n",
       "      <td>1</td>\n",
       "      <td>0.6270</td>\n",
       "      <td>13.1670</td>\n",
       "      <td>2019-02-21</td>\n",
       "      <td>2024-02-07 12:38:00</td>\n",
       "      <td>Cash</td>\n",
       "      <td>12.54</td>\n",
       "      <td>4.761905</td>\n",
       "      <td>0.6270</td>\n",
       "      <td>8.2</td>\n",
       "    </tr>\n",
       "    <tr>\n",
       "      <th>271</th>\n",
       "      <td>687-15-1097</td>\n",
       "      <td>C</td>\n",
       "      <td>Naypyitaw</td>\n",
       "      <td>Member</td>\n",
       "      <td>Female</td>\n",
       "      <td>Health and beauty</td>\n",
       "      <td>21.12</td>\n",
       "      <td>2</td>\n",
       "      <td>2.1120</td>\n",
       "      <td>44.3520</td>\n",
       "      <td>2019-01-03</td>\n",
       "      <td>2024-02-07 19:17:00</td>\n",
       "      <td>Cash</td>\n",
       "      <td>42.24</td>\n",
       "      <td>4.761905</td>\n",
       "      <td>2.1120</td>\n",
       "      <td>9.7</td>\n",
       "    </tr>\n",
       "    <tr>\n",
       "      <th>321</th>\n",
       "      <td>622-20-1945</td>\n",
       "      <td>C</td>\n",
       "      <td>Naypyitaw</td>\n",
       "      <td>Normal</td>\n",
       "      <td>Female</td>\n",
       "      <td>Health and beauty</td>\n",
       "      <td>39.42</td>\n",
       "      <td>1</td>\n",
       "      <td>1.9710</td>\n",
       "      <td>41.3910</td>\n",
       "      <td>2019-01-18</td>\n",
       "      <td>2024-02-07 15:08:00</td>\n",
       "      <td>Cash</td>\n",
       "      <td>39.42</td>\n",
       "      <td>4.761905</td>\n",
       "      <td>1.9710</td>\n",
       "      <td>8.4</td>\n",
       "    </tr>\n",
       "    <tr>\n",
       "      <th>354</th>\n",
       "      <td>320-49-6392</td>\n",
       "      <td>C</td>\n",
       "      <td>Naypyitaw</td>\n",
       "      <td>Normal</td>\n",
       "      <td>Female</td>\n",
       "      <td>Electronic accessories</td>\n",
       "      <td>30.24</td>\n",
       "      <td>1</td>\n",
       "      <td>1.5120</td>\n",
       "      <td>31.7520</td>\n",
       "      <td>2019-03-04</td>\n",
       "      <td>2024-02-07 15:44:00</td>\n",
       "      <td>Cash</td>\n",
       "      <td>30.24</td>\n",
       "      <td>4.761905</td>\n",
       "      <td>1.5120</td>\n",
       "      <td>8.4</td>\n",
       "    </tr>\n",
       "    <tr>\n",
       "      <th>424</th>\n",
       "      <td>489-64-4354</td>\n",
       "      <td>C</td>\n",
       "      <td>Naypyitaw</td>\n",
       "      <td>Normal</td>\n",
       "      <td>Male</td>\n",
       "      <td>Fashion accessories</td>\n",
       "      <td>16.28</td>\n",
       "      <td>1</td>\n",
       "      <td>0.8140</td>\n",
       "      <td>17.0940</td>\n",
       "      <td>2019-03-09</td>\n",
       "      <td>2024-02-07 15:36:00</td>\n",
       "      <td>Cash</td>\n",
       "      <td>16.28</td>\n",
       "      <td>4.761905</td>\n",
       "      <td>0.8140</td>\n",
       "      <td>5.0</td>\n",
       "    </tr>\n",
       "    <tr>\n",
       "      <th>463</th>\n",
       "      <td>320-32-8842</td>\n",
       "      <td>C</td>\n",
       "      <td>Naypyitaw</td>\n",
       "      <td>Member</td>\n",
       "      <td>Female</td>\n",
       "      <td>Food and beverages</td>\n",
       "      <td>22.62</td>\n",
       "      <td>1</td>\n",
       "      <td>1.1310</td>\n",
       "      <td>23.7510</td>\n",
       "      <td>2019-03-17</td>\n",
       "      <td>2024-02-07 18:58:00</td>\n",
       "      <td>Cash</td>\n",
       "      <td>22.62</td>\n",
       "      <td>4.761905</td>\n",
       "      <td>1.1310</td>\n",
       "      <td>6.4</td>\n",
       "    </tr>\n",
       "    <tr>\n",
       "      <th>488</th>\n",
       "      <td>556-72-8512</td>\n",
       "      <td>C</td>\n",
       "      <td>Naypyitaw</td>\n",
       "      <td>Normal</td>\n",
       "      <td>Male</td>\n",
       "      <td>Home and lifestyle</td>\n",
       "      <td>22.96</td>\n",
       "      <td>1</td>\n",
       "      <td>1.1480</td>\n",
       "      <td>24.1080</td>\n",
       "      <td>2019-01-30</td>\n",
       "      <td>2024-02-07 20:47:00</td>\n",
       "      <td>Cash</td>\n",
       "      <td>22.96</td>\n",
       "      <td>4.761905</td>\n",
       "      <td>1.1480</td>\n",
       "      <td>4.3</td>\n",
       "    </tr>\n",
       "    <tr>\n",
       "      <th>637</th>\n",
       "      <td>318-81-2368</td>\n",
       "      <td>C</td>\n",
       "      <td>Naypyitaw</td>\n",
       "      <td>Normal</td>\n",
       "      <td>Female</td>\n",
       "      <td>Electronic accessories</td>\n",
       "      <td>46.20</td>\n",
       "      <td>1</td>\n",
       "      <td>2.3100</td>\n",
       "      <td>48.5100</td>\n",
       "      <td>2019-03-19</td>\n",
       "      <td>2024-02-07 12:16:00</td>\n",
       "      <td>Cash</td>\n",
       "      <td>46.20</td>\n",
       "      <td>4.761905</td>\n",
       "      <td>2.3100</td>\n",
       "      <td>6.3</td>\n",
       "    </tr>\n",
       "    <tr>\n",
       "      <th>648</th>\n",
       "      <td>859-71-0933</td>\n",
       "      <td>C</td>\n",
       "      <td>Naypyitaw</td>\n",
       "      <td>Member</td>\n",
       "      <td>Female</td>\n",
       "      <td>Sports and travel</td>\n",
       "      <td>15.49</td>\n",
       "      <td>2</td>\n",
       "      <td>1.5490</td>\n",
       "      <td>32.5290</td>\n",
       "      <td>2019-01-16</td>\n",
       "      <td>2024-02-07 15:10:00</td>\n",
       "      <td>Cash</td>\n",
       "      <td>30.98</td>\n",
       "      <td>4.761905</td>\n",
       "      <td>1.5490</td>\n",
       "      <td>6.3</td>\n",
       "    </tr>\n",
       "    <tr>\n",
       "      <th>745</th>\n",
       "      <td>390-17-5806</td>\n",
       "      <td>C</td>\n",
       "      <td>Naypyitaw</td>\n",
       "      <td>Member</td>\n",
       "      <td>Female</td>\n",
       "      <td>Food and beverages</td>\n",
       "      <td>38.42</td>\n",
       "      <td>1</td>\n",
       "      <td>1.9210</td>\n",
       "      <td>40.3410</td>\n",
       "      <td>2019-02-02</td>\n",
       "      <td>2024-02-07 16:33:00</td>\n",
       "      <td>Cash</td>\n",
       "      <td>38.42</td>\n",
       "      <td>4.761905</td>\n",
       "      <td>1.9210</td>\n",
       "      <td>8.6</td>\n",
       "    </tr>\n",
       "    <tr>\n",
       "      <th>822</th>\n",
       "      <td>784-21-9238</td>\n",
       "      <td>C</td>\n",
       "      <td>Naypyitaw</td>\n",
       "      <td>Member</td>\n",
       "      <td>Male</td>\n",
       "      <td>Sports and travel</td>\n",
       "      <td>10.17</td>\n",
       "      <td>1</td>\n",
       "      <td>0.5085</td>\n",
       "      <td>10.6785</td>\n",
       "      <td>2019-02-07</td>\n",
       "      <td>2024-02-07 14:15:00</td>\n",
       "      <td>Cash</td>\n",
       "      <td>10.17</td>\n",
       "      <td>4.761905</td>\n",
       "      <td>0.5085</td>\n",
       "      <td>5.9</td>\n",
       "    </tr>\n",
       "  </tbody>\n",
       "</table>\n",
       "</div>"
      ],
      "text/plain": [
       "      Invoice ID Branch       City Customer type  Gender  \\\n",
       "44   617-15-4209      C  Naypyitaw        Member    Male   \n",
       "223  279-62-1445      C  Naypyitaw        Member  Female   \n",
       "271  687-15-1097      C  Naypyitaw        Member  Female   \n",
       "321  622-20-1945      C  Naypyitaw        Normal  Female   \n",
       "354  320-49-6392      C  Naypyitaw        Normal  Female   \n",
       "424  489-64-4354      C  Naypyitaw        Normal    Male   \n",
       "463  320-32-8842      C  Naypyitaw        Member  Female   \n",
       "488  556-72-8512      C  Naypyitaw        Normal    Male   \n",
       "637  318-81-2368      C  Naypyitaw        Normal  Female   \n",
       "648  859-71-0933      C  Naypyitaw        Member  Female   \n",
       "745  390-17-5806      C  Naypyitaw        Member  Female   \n",
       "822  784-21-9238      C  Naypyitaw        Member    Male   \n",
       "\n",
       "               Product line  Unit price  Quantity  Tax 5%    Total       Date  \\\n",
       "44        Health and beauty       15.37         2  1.5370  32.2770 2019-03-16   \n",
       "223     Fashion accessories       12.54         1  0.6270  13.1670 2019-02-21   \n",
       "271       Health and beauty       21.12         2  2.1120  44.3520 2019-01-03   \n",
       "321       Health and beauty       39.42         1  1.9710  41.3910 2019-01-18   \n",
       "354  Electronic accessories       30.24         1  1.5120  31.7520 2019-03-04   \n",
       "424     Fashion accessories       16.28         1  0.8140  17.0940 2019-03-09   \n",
       "463      Food and beverages       22.62         1  1.1310  23.7510 2019-03-17   \n",
       "488      Home and lifestyle       22.96         1  1.1480  24.1080 2019-01-30   \n",
       "637  Electronic accessories       46.20         1  2.3100  48.5100 2019-03-19   \n",
       "648       Sports and travel       15.49         2  1.5490  32.5290 2019-01-16   \n",
       "745      Food and beverages       38.42         1  1.9210  40.3410 2019-02-02   \n",
       "822       Sports and travel       10.17         1  0.5085  10.6785 2019-02-07   \n",
       "\n",
       "                   Time Payment   cogs  gross margin percentage  gross income  \\\n",
       "44  2024-02-07 19:47:00    Cash  30.74                 4.761905        1.5370   \n",
       "223 2024-02-07 12:38:00    Cash  12.54                 4.761905        0.6270   \n",
       "271 2024-02-07 19:17:00    Cash  42.24                 4.761905        2.1120   \n",
       "321 2024-02-07 15:08:00    Cash  39.42                 4.761905        1.9710   \n",
       "354 2024-02-07 15:44:00    Cash  30.24                 4.761905        1.5120   \n",
       "424 2024-02-07 15:36:00    Cash  16.28                 4.761905        0.8140   \n",
       "463 2024-02-07 18:58:00    Cash  22.62                 4.761905        1.1310   \n",
       "488 2024-02-07 20:47:00    Cash  22.96                 4.761905        1.1480   \n",
       "637 2024-02-07 12:16:00    Cash  46.20                 4.761905        2.3100   \n",
       "648 2024-02-07 15:10:00    Cash  30.98                 4.761905        1.5490   \n",
       "745 2024-02-07 16:33:00    Cash  38.42                 4.761905        1.9210   \n",
       "822 2024-02-07 14:15:00    Cash  10.17                 4.761905        0.5085   \n",
       "\n",
       "     Rating  \n",
       "44      7.2  \n",
       "223     8.2  \n",
       "271     9.7  \n",
       "321     8.4  \n",
       "354     8.4  \n",
       "424     5.0  \n",
       "463     6.4  \n",
       "488     4.3  \n",
       "637     6.3  \n",
       "648     6.3  \n",
       "745     8.6  \n",
       "822     5.9  "
      ]
     },
     "execution_count": 54,
     "metadata": {},
     "output_type": "execute_result"
    }
   ],
   "source": [
    "sales.query('Payment == \"Cash\" & City ==\"Naypyitaw\" & Total < 50')"
   ]
  },
  {
   "cell_type": "markdown",
   "id": "b9d83ec2",
   "metadata": {},
   "source": [
    "### Sum, Max, Min and Average"
   ]
  },
  {
   "cell_type": "markdown",
   "id": "ea6defef",
   "metadata": {},
   "source": [
    "We can also of course, use functions like ```min()```, ```max()```,```sum()``` and ```mean()``` for basic statistical operations. We can also use ```describe()``` for a glance of the complete statistics of the data in a df or a particular column."
   ]
  },
  {
   "cell_type": "code",
   "execution_count": 55,
   "id": "5b5f7ac0",
   "metadata": {},
   "outputs": [
    {
     "data": {
      "text/plain": [
       "314964.1005"
      ]
     },
     "execution_count": 55,
     "metadata": {},
     "output_type": "execute_result"
    }
   ],
   "source": [
    "sales['Total'].sum()"
   ]
  },
  {
   "cell_type": "code",
   "execution_count": 56,
   "id": "c05addb2",
   "metadata": {},
   "outputs": [
    {
     "data": {
      "text/plain": [
       "5.5081632653061225"
      ]
     },
     "execution_count": 56,
     "metadata": {},
     "output_type": "execute_result"
    }
   ],
   "source": [
    "sales['Quantity'].mean()"
   ]
  },
  {
   "cell_type": "code",
   "execution_count": 57,
   "id": "b3f0077f",
   "metadata": {},
   "outputs": [
    {
     "data": {
      "text/html": [
       "<div>\n",
       "<style scoped>\n",
       "    .dataframe tbody tr th:only-of-type {\n",
       "        vertical-align: middle;\n",
       "    }\n",
       "\n",
       "    .dataframe tbody tr th {\n",
       "        vertical-align: top;\n",
       "    }\n",
       "\n",
       "    .dataframe thead th {\n",
       "        text-align: right;\n",
       "    }\n",
       "</style>\n",
       "<table border=\"1\" class=\"dataframe\">\n",
       "  <thead>\n",
       "    <tr style=\"text-align: right;\">\n",
       "      <th></th>\n",
       "      <th>Invoice ID</th>\n",
       "      <th>Branch</th>\n",
       "      <th>City</th>\n",
       "      <th>Customer type</th>\n",
       "      <th>Gender</th>\n",
       "      <th>Product line</th>\n",
       "      <th>Unit price</th>\n",
       "      <th>Quantity</th>\n",
       "      <th>Tax 5%</th>\n",
       "      <th>Total</th>\n",
       "      <th>Date</th>\n",
       "      <th>Time</th>\n",
       "      <th>Payment</th>\n",
       "      <th>cogs</th>\n",
       "      <th>gross margin percentage</th>\n",
       "      <th>gross income</th>\n",
       "      <th>Rating</th>\n",
       "    </tr>\n",
       "  </thead>\n",
       "  <tbody>\n",
       "    <tr>\n",
       "      <th>350</th>\n",
       "      <td>860-79-0874</td>\n",
       "      <td>C</td>\n",
       "      <td>Naypyitaw</td>\n",
       "      <td>Member</td>\n",
       "      <td>Female</td>\n",
       "      <td>Fashion accessories</td>\n",
       "      <td>99.3</td>\n",
       "      <td>10</td>\n",
       "      <td>49.65</td>\n",
       "      <td>1042.65</td>\n",
       "      <td>2019-02-15</td>\n",
       "      <td>2024-02-07 14:53:00</td>\n",
       "      <td>Credit card</td>\n",
       "      <td>993.0</td>\n",
       "      <td>4.761905</td>\n",
       "      <td>49.65</td>\n",
       "      <td>6.6</td>\n",
       "    </tr>\n",
       "  </tbody>\n",
       "</table>\n",
       "</div>"
      ],
      "text/plain": [
       "      Invoice ID Branch       City Customer type  Gender         Product line  \\\n",
       "350  860-79-0874      C  Naypyitaw        Member  Female  Fashion accessories   \n",
       "\n",
       "     Unit price  Quantity  Tax 5%    Total       Date                Time  \\\n",
       "350        99.3        10   49.65  1042.65 2019-02-15 2024-02-07 14:53:00   \n",
       "\n",
       "         Payment   cogs  gross margin percentage  gross income  Rating  \n",
       "350  Credit card  993.0                 4.761905         49.65     6.6  "
      ]
     },
     "execution_count": 57,
     "metadata": {},
     "output_type": "execute_result"
    }
   ],
   "source": [
    "sales[sales['Total']== sales.max()['Total']]"
   ]
  },
  {
   "cell_type": "code",
   "execution_count": 58,
   "id": "41e70f3a",
   "metadata": {},
   "outputs": [
    {
     "data": {
      "text/plain": [
       "Invoice ID                         898-04-2717\n",
       "Branch                                       C\n",
       "City                                    Yangon\n",
       "Customer type                           Normal\n",
       "Gender                                    Male\n",
       "Product line                 Sports and travel\n",
       "Unit price                               99.96\n",
       "Quantity                                    10\n",
       "Tax 5%                                   49.65\n",
       "Total                                  1042.65\n",
       "Date                       2019-03-30 00:00:00\n",
       "Time                       2024-02-07 20:59:00\n",
       "Payment                                Ewallet\n",
       "cogs                                     993.0\n",
       "gross margin percentage               4.761905\n",
       "gross income                             49.65\n",
       "Rating                                    10.0\n",
       "dtype: object"
      ]
     },
     "execution_count": 58,
     "metadata": {},
     "output_type": "execute_result"
    }
   ],
   "source": [
    "sales.max()\n"
   ]
  },
  {
   "cell_type": "code",
   "execution_count": 59,
   "id": "72ae62b5",
   "metadata": {},
   "outputs": [
    {
     "data": {
      "text/html": [
       "<div>\n",
       "<style scoped>\n",
       "    .dataframe tbody tr th:only-of-type {\n",
       "        vertical-align: middle;\n",
       "    }\n",
       "\n",
       "    .dataframe tbody tr th {\n",
       "        vertical-align: top;\n",
       "    }\n",
       "\n",
       "    .dataframe thead th {\n",
       "        text-align: right;\n",
       "    }\n",
       "</style>\n",
       "<table border=\"1\" class=\"dataframe\">\n",
       "  <thead>\n",
       "    <tr style=\"text-align: right;\">\n",
       "      <th></th>\n",
       "      <th>Invoice ID</th>\n",
       "      <th>Branch</th>\n",
       "      <th>City</th>\n",
       "      <th>Customer type</th>\n",
       "      <th>Gender</th>\n",
       "      <th>Product line</th>\n",
       "      <th>Unit price</th>\n",
       "      <th>Quantity</th>\n",
       "      <th>Tax 5%</th>\n",
       "      <th>Total</th>\n",
       "      <th>Date</th>\n",
       "      <th>Time</th>\n",
       "      <th>Payment</th>\n",
       "      <th>cogs</th>\n",
       "      <th>gross margin percentage</th>\n",
       "      <th>gross income</th>\n",
       "      <th>Rating</th>\n",
       "    </tr>\n",
       "  </thead>\n",
       "  <tbody>\n",
       "    <tr>\n",
       "      <th>822</th>\n",
       "      <td>784-21-9238</td>\n",
       "      <td>C</td>\n",
       "      <td>Naypyitaw</td>\n",
       "      <td>Member</td>\n",
       "      <td>Male</td>\n",
       "      <td>Sports and travel</td>\n",
       "      <td>10.17</td>\n",
       "      <td>1</td>\n",
       "      <td>0.5085</td>\n",
       "      <td>10.6785</td>\n",
       "      <td>2019-02-07</td>\n",
       "      <td>2024-02-07 14:15:00</td>\n",
       "      <td>Cash</td>\n",
       "      <td>10.17</td>\n",
       "      <td>4.761905</td>\n",
       "      <td>0.5085</td>\n",
       "      <td>5.9</td>\n",
       "    </tr>\n",
       "  </tbody>\n",
       "</table>\n",
       "</div>"
      ],
      "text/plain": [
       "      Invoice ID Branch       City Customer type Gender       Product line  \\\n",
       "822  784-21-9238      C  Naypyitaw        Member   Male  Sports and travel   \n",
       "\n",
       "     Unit price  Quantity  Tax 5%    Total       Date                Time  \\\n",
       "822       10.17         1  0.5085  10.6785 2019-02-07 2024-02-07 14:15:00   \n",
       "\n",
       "    Payment   cogs  gross margin percentage  gross income  Rating  \n",
       "822    Cash  10.17                 4.761905        0.5085     5.9  "
      ]
     },
     "execution_count": 59,
     "metadata": {},
     "output_type": "execute_result"
    }
   ],
   "source": [
    "sales[sales['Total']== sales.min()['Total']]"
   ]
  },
  {
   "cell_type": "code",
   "execution_count": 60,
   "id": "72c2fa56",
   "metadata": {},
   "outputs": [
    {
     "data": {
      "text/html": [
       "<div>\n",
       "<style scoped>\n",
       "    .dataframe tbody tr th:only-of-type {\n",
       "        vertical-align: middle;\n",
       "    }\n",
       "\n",
       "    .dataframe tbody tr th {\n",
       "        vertical-align: top;\n",
       "    }\n",
       "\n",
       "    .dataframe thead th {\n",
       "        text-align: right;\n",
       "    }\n",
       "</style>\n",
       "<table border=\"1\" class=\"dataframe\">\n",
       "  <thead>\n",
       "    <tr style=\"text-align: right;\">\n",
       "      <th></th>\n",
       "      <th>Unit price</th>\n",
       "      <th>Quantity</th>\n",
       "      <th>Tax 5%</th>\n",
       "      <th>Total</th>\n",
       "      <th>cogs</th>\n",
       "      <th>gross margin percentage</th>\n",
       "      <th>gross income</th>\n",
       "      <th>Rating</th>\n",
       "    </tr>\n",
       "  </thead>\n",
       "  <tbody>\n",
       "    <tr>\n",
       "      <th>count</th>\n",
       "      <td>980.000000</td>\n",
       "      <td>980.000000</td>\n",
       "      <td>980.000000</td>\n",
       "      <td>980.000000</td>\n",
       "      <td>980.000000</td>\n",
       "      <td>9.800000e+02</td>\n",
       "      <td>980.000000</td>\n",
       "      <td>980.000000</td>\n",
       "    </tr>\n",
       "    <tr>\n",
       "      <th>mean</th>\n",
       "      <td>55.468500</td>\n",
       "      <td>5.508163</td>\n",
       "      <td>15.305226</td>\n",
       "      <td>321.391939</td>\n",
       "      <td>306.087561</td>\n",
       "      <td>4.761905e+00</td>\n",
       "      <td>15.304378</td>\n",
       "      <td>6.975000</td>\n",
       "    </tr>\n",
       "    <tr>\n",
       "      <th>std</th>\n",
       "      <td>26.566844</td>\n",
       "      <td>2.917128</td>\n",
       "      <td>11.626824</td>\n",
       "      <td>244.181060</td>\n",
       "      <td>232.553390</td>\n",
       "      <td>6.131560e-14</td>\n",
       "      <td>11.627670</td>\n",
       "      <td>1.714225</td>\n",
       "    </tr>\n",
       "    <tr>\n",
       "      <th>min</th>\n",
       "      <td>0.000000</td>\n",
       "      <td>1.000000</td>\n",
       "      <td>0.508500</td>\n",
       "      <td>10.678500</td>\n",
       "      <td>10.170000</td>\n",
       "      <td>4.761905e+00</td>\n",
       "      <td>0.508500</td>\n",
       "      <td>4.000000</td>\n",
       "    </tr>\n",
       "    <tr>\n",
       "      <th>25%</th>\n",
       "      <td>32.580000</td>\n",
       "      <td>3.000000</td>\n",
       "      <td>5.971500</td>\n",
       "      <td>125.401500</td>\n",
       "      <td>119.430000</td>\n",
       "      <td>4.761905e+00</td>\n",
       "      <td>5.971500</td>\n",
       "      <td>5.500000</td>\n",
       "    </tr>\n",
       "    <tr>\n",
       "      <th>50%</th>\n",
       "      <td>54.785000</td>\n",
       "      <td>5.000000</td>\n",
       "      <td>12.066000</td>\n",
       "      <td>253.386000</td>\n",
       "      <td>241.320000</td>\n",
       "      <td>4.761905e+00</td>\n",
       "      <td>12.066000</td>\n",
       "      <td>7.000000</td>\n",
       "    </tr>\n",
       "    <tr>\n",
       "      <th>75%</th>\n",
       "      <td>77.935000</td>\n",
       "      <td>8.000000</td>\n",
       "      <td>22.380750</td>\n",
       "      <td>469.995750</td>\n",
       "      <td>447.615000</td>\n",
       "      <td>4.761905e+00</td>\n",
       "      <td>22.380750</td>\n",
       "      <td>8.425000</td>\n",
       "    </tr>\n",
       "    <tr>\n",
       "      <th>max</th>\n",
       "      <td>99.960000</td>\n",
       "      <td>10.000000</td>\n",
       "      <td>49.650000</td>\n",
       "      <td>1042.650000</td>\n",
       "      <td>993.000000</td>\n",
       "      <td>4.761905e+00</td>\n",
       "      <td>49.650000</td>\n",
       "      <td>10.000000</td>\n",
       "    </tr>\n",
       "  </tbody>\n",
       "</table>\n",
       "</div>"
      ],
      "text/plain": [
       "       Unit price    Quantity      Tax 5%        Total        cogs  \\\n",
       "count  980.000000  980.000000  980.000000   980.000000  980.000000   \n",
       "mean    55.468500    5.508163   15.305226   321.391939  306.087561   \n",
       "std     26.566844    2.917128   11.626824   244.181060  232.553390   \n",
       "min      0.000000    1.000000    0.508500    10.678500   10.170000   \n",
       "25%     32.580000    3.000000    5.971500   125.401500  119.430000   \n",
       "50%     54.785000    5.000000   12.066000   253.386000  241.320000   \n",
       "75%     77.935000    8.000000   22.380750   469.995750  447.615000   \n",
       "max     99.960000   10.000000   49.650000  1042.650000  993.000000   \n",
       "\n",
       "       gross margin percentage  gross income      Rating  \n",
       "count             9.800000e+02    980.000000  980.000000  \n",
       "mean              4.761905e+00     15.304378    6.975000  \n",
       "std               6.131560e-14     11.627670    1.714225  \n",
       "min               4.761905e+00      0.508500    4.000000  \n",
       "25%               4.761905e+00      5.971500    5.500000  \n",
       "50%               4.761905e+00     12.066000    7.000000  \n",
       "75%               4.761905e+00     22.380750    8.425000  \n",
       "max               4.761905e+00     49.650000   10.000000  "
      ]
     },
     "execution_count": 60,
     "metadata": {},
     "output_type": "execute_result"
    }
   ],
   "source": [
    "sales.describe()\n"
   ]
  },
  {
   "cell_type": "markdown",
   "id": "fa9e713f",
   "metadata": {},
   "source": [
    "### Merging"
   ]
  },
  {
   "cell_type": "markdown",
   "id": "c289b590",
   "metadata": {},
   "source": [
    "Let's say we had another .csv that we wanted to add to ours. We would do that in pandas in three ways:\n",
    "* merge() -  for combining data on common columns or indices\n",
    "* join() - for combining data on a key column or an index\n",
    "* concat() - for combining DataFrames across rows or columns\n"
   ]
  },
  {
   "cell_type": "code",
   "execution_count": 61,
   "id": "77ff04e6",
   "metadata": {},
   "outputs": [
    {
     "data": {
      "text/html": [
       "<div>\n",
       "<style scoped>\n",
       "    .dataframe tbody tr th:only-of-type {\n",
       "        vertical-align: middle;\n",
       "    }\n",
       "\n",
       "    .dataframe tbody tr th {\n",
       "        vertical-align: top;\n",
       "    }\n",
       "\n",
       "    .dataframe thead th {\n",
       "        text-align: right;\n",
       "    }\n",
       "</style>\n",
       "<table border=\"1\" class=\"dataframe\">\n",
       "  <thead>\n",
       "    <tr style=\"text-align: right;\">\n",
       "      <th></th>\n",
       "      <th>Invoice ID</th>\n",
       "      <th>Branch</th>\n",
       "      <th>City</th>\n",
       "      <th>Customer type</th>\n",
       "      <th>Gender</th>\n",
       "      <th>Product line</th>\n",
       "      <th>Unit price</th>\n",
       "      <th>Quantity</th>\n",
       "      <th>Tax 5%</th>\n",
       "      <th>Total</th>\n",
       "      <th>Date</th>\n",
       "      <th>Time</th>\n",
       "      <th>Payment</th>\n",
       "      <th>cogs</th>\n",
       "      <th>gross margin percentage</th>\n",
       "      <th>gross income</th>\n",
       "      <th>Rating</th>\n",
       "    </tr>\n",
       "  </thead>\n",
       "  <tbody>\n",
       "    <tr>\n",
       "      <th>0</th>\n",
       "      <td>148-41-7930</td>\n",
       "      <td>C</td>\n",
       "      <td>Naypyitaw</td>\n",
       "      <td>Normal</td>\n",
       "      <td>Male</td>\n",
       "      <td>Health and beauty</td>\n",
       "      <td>99.96</td>\n",
       "      <td>7</td>\n",
       "      <td>34.9860</td>\n",
       "      <td>734.7060</td>\n",
       "      <td>1/23/2019</td>\n",
       "      <td>10:33</td>\n",
       "      <td>Cash</td>\n",
       "      <td>699.72</td>\n",
       "      <td>4.761905</td>\n",
       "      <td>34.9860</td>\n",
       "      <td>6.1</td>\n",
       "    </tr>\n",
       "    <tr>\n",
       "      <th>1</th>\n",
       "      <td>189-40-5216</td>\n",
       "      <td>C</td>\n",
       "      <td>Naypyitaw</td>\n",
       "      <td>Normal</td>\n",
       "      <td>Male</td>\n",
       "      <td>Electronic accessories</td>\n",
       "      <td>96.37</td>\n",
       "      <td>7</td>\n",
       "      <td>33.7295</td>\n",
       "      <td>708.3195</td>\n",
       "      <td>1/9/2019</td>\n",
       "      <td>11:40</td>\n",
       "      <td>Cash</td>\n",
       "      <td>674.59</td>\n",
       "      <td>4.761905</td>\n",
       "      <td>33.7295</td>\n",
       "      <td>6.0</td>\n",
       "    </tr>\n",
       "    <tr>\n",
       "      <th>2</th>\n",
       "      <td>374-38-5555</td>\n",
       "      <td>B</td>\n",
       "      <td>Mandalay</td>\n",
       "      <td>Normal</td>\n",
       "      <td>Female</td>\n",
       "      <td>Fashion accessories</td>\n",
       "      <td>63.71</td>\n",
       "      <td>5</td>\n",
       "      <td>15.9275</td>\n",
       "      <td>334.4775</td>\n",
       "      <td>2/7/2019</td>\n",
       "      <td>19:30</td>\n",
       "      <td>Ewallet</td>\n",
       "      <td>318.55</td>\n",
       "      <td>4.761905</td>\n",
       "      <td>15.9275</td>\n",
       "      <td>8.5</td>\n",
       "    </tr>\n",
       "    <tr>\n",
       "      <th>3</th>\n",
       "      <td>764-44-8999</td>\n",
       "      <td>B</td>\n",
       "      <td>Mandalay</td>\n",
       "      <td>Normal</td>\n",
       "      <td>Female</td>\n",
       "      <td>Health and beauty</td>\n",
       "      <td>14.76</td>\n",
       "      <td>2</td>\n",
       "      <td>1.4760</td>\n",
       "      <td>30.9960</td>\n",
       "      <td>2/18/2019</td>\n",
       "      <td>14:42</td>\n",
       "      <td>Ewallet</td>\n",
       "      <td>29.52</td>\n",
       "      <td>4.761905</td>\n",
       "      <td>1.4760</td>\n",
       "      <td>4.3</td>\n",
       "    </tr>\n",
       "    <tr>\n",
       "      <th>4</th>\n",
       "      <td>552-44-5977</td>\n",
       "      <td>B</td>\n",
       "      <td>Mandalay</td>\n",
       "      <td>Member</td>\n",
       "      <td>Male</td>\n",
       "      <td>Health and beauty</td>\n",
       "      <td>62.00</td>\n",
       "      <td>8</td>\n",
       "      <td>24.8000</td>\n",
       "      <td>520.8000</td>\n",
       "      <td>1/3/2019</td>\n",
       "      <td>19:08</td>\n",
       "      <td>Credit card</td>\n",
       "      <td>496.00</td>\n",
       "      <td>4.761905</td>\n",
       "      <td>24.8000</td>\n",
       "      <td>6.2</td>\n",
       "    </tr>\n",
       "    <tr>\n",
       "      <th>5</th>\n",
       "      <td>267-62-7380</td>\n",
       "      <td>C</td>\n",
       "      <td>Naypyitaw</td>\n",
       "      <td>Member</td>\n",
       "      <td>Male</td>\n",
       "      <td>Electronic accessories</td>\n",
       "      <td>82.34</td>\n",
       "      <td>10</td>\n",
       "      <td>41.1700</td>\n",
       "      <td>864.5700</td>\n",
       "      <td>3/29/2019</td>\n",
       "      <td>19:12</td>\n",
       "      <td>Ewallet</td>\n",
       "      <td>823.40</td>\n",
       "      <td>4.761905</td>\n",
       "      <td>41.1700</td>\n",
       "      <td>4.3</td>\n",
       "    </tr>\n",
       "    <tr>\n",
       "      <th>6</th>\n",
       "      <td>430-53-4718</td>\n",
       "      <td>B</td>\n",
       "      <td>Mandalay</td>\n",
       "      <td>Member</td>\n",
       "      <td>Male</td>\n",
       "      <td>Health and beauty</td>\n",
       "      <td>75.37</td>\n",
       "      <td>8</td>\n",
       "      <td>30.1480</td>\n",
       "      <td>633.1080</td>\n",
       "      <td>1/28/2019</td>\n",
       "      <td>15:46</td>\n",
       "      <td>Credit card</td>\n",
       "      <td>602.96</td>\n",
       "      <td>4.761905</td>\n",
       "      <td>30.1480</td>\n",
       "      <td>8.4</td>\n",
       "    </tr>\n",
       "    <tr>\n",
       "      <th>7</th>\n",
       "      <td>886-18-2897</td>\n",
       "      <td>A</td>\n",
       "      <td>Yangon</td>\n",
       "      <td>Normal</td>\n",
       "      <td>Female</td>\n",
       "      <td>Food and beverages</td>\n",
       "      <td>56.56</td>\n",
       "      <td>5</td>\n",
       "      <td>14.1400</td>\n",
       "      <td>296.9400</td>\n",
       "      <td>3/22/2019</td>\n",
       "      <td>19:06</td>\n",
       "      <td>Credit card</td>\n",
       "      <td>282.80</td>\n",
       "      <td>4.761905</td>\n",
       "      <td>14.1400</td>\n",
       "      <td>4.5</td>\n",
       "    </tr>\n",
       "    <tr>\n",
       "      <th>8</th>\n",
       "      <td>602-16-6955</td>\n",
       "      <td>B</td>\n",
       "      <td>Mandalay</td>\n",
       "      <td>Normal</td>\n",
       "      <td>Female</td>\n",
       "      <td>Sports and travel</td>\n",
       "      <td>76.60</td>\n",
       "      <td>10</td>\n",
       "      <td>38.3000</td>\n",
       "      <td>804.3000</td>\n",
       "      <td>1/24/2019</td>\n",
       "      <td>18:10</td>\n",
       "      <td>Ewallet</td>\n",
       "      <td>766.00</td>\n",
       "      <td>4.761905</td>\n",
       "      <td>38.3000</td>\n",
       "      <td>6.0</td>\n",
       "    </tr>\n",
       "    <tr>\n",
       "      <th>9</th>\n",
       "      <td>745-74-0715</td>\n",
       "      <td>A</td>\n",
       "      <td>Yangon</td>\n",
       "      <td>Normal</td>\n",
       "      <td>Male</td>\n",
       "      <td>Electronic accessories</td>\n",
       "      <td>58.03</td>\n",
       "      <td>2</td>\n",
       "      <td>5.8030</td>\n",
       "      <td>121.8630</td>\n",
       "      <td>3/10/2019</td>\n",
       "      <td>20:46</td>\n",
       "      <td>Ewallet</td>\n",
       "      <td>116.06</td>\n",
       "      <td>4.761905</td>\n",
       "      <td>5.8030</td>\n",
       "      <td>8.8</td>\n",
       "    </tr>\n",
       "    <tr>\n",
       "      <th>10</th>\n",
       "      <td>690-01-6631</td>\n",
       "      <td>B</td>\n",
       "      <td>Mandalay</td>\n",
       "      <td>Normal</td>\n",
       "      <td>Male</td>\n",
       "      <td>Fashion accessories</td>\n",
       "      <td>17.49</td>\n",
       "      <td>10</td>\n",
       "      <td>8.7450</td>\n",
       "      <td>183.6450</td>\n",
       "      <td>2/22/2019</td>\n",
       "      <td>18:35</td>\n",
       "      <td>Ewallet</td>\n",
       "      <td>174.90</td>\n",
       "      <td>4.761905</td>\n",
       "      <td>8.7450</td>\n",
       "      <td>6.6</td>\n",
       "    </tr>\n",
       "    <tr>\n",
       "      <th>11</th>\n",
       "      <td>652-49-6720</td>\n",
       "      <td>C</td>\n",
       "      <td>Naypyitaw</td>\n",
       "      <td>Member</td>\n",
       "      <td>Female</td>\n",
       "      <td>Electronic accessories</td>\n",
       "      <td>60.95</td>\n",
       "      <td>1</td>\n",
       "      <td>3.0475</td>\n",
       "      <td>63.9975</td>\n",
       "      <td>2/18/2019</td>\n",
       "      <td>11:40</td>\n",
       "      <td>Ewallet</td>\n",
       "      <td>60.95</td>\n",
       "      <td>4.761905</td>\n",
       "      <td>3.0475</td>\n",
       "      <td>5.9</td>\n",
       "    </tr>\n",
       "    <tr>\n",
       "      <th>12</th>\n",
       "      <td>233-67-5758</td>\n",
       "      <td>C</td>\n",
       "      <td>Naypyitaw</td>\n",
       "      <td>Normal</td>\n",
       "      <td>Male</td>\n",
       "      <td>Health and beauty</td>\n",
       "      <td>40.35</td>\n",
       "      <td>1</td>\n",
       "      <td>2.0175</td>\n",
       "      <td>42.3675</td>\n",
       "      <td>1/29/2019</td>\n",
       "      <td>13:46</td>\n",
       "      <td>Ewallet</td>\n",
       "      <td>40.35</td>\n",
       "      <td>4.761905</td>\n",
       "      <td>2.0175</td>\n",
       "      <td>6.2</td>\n",
       "    </tr>\n",
       "    <tr>\n",
       "      <th>13</th>\n",
       "      <td>303-96-2227</td>\n",
       "      <td>B</td>\n",
       "      <td>Mandalay</td>\n",
       "      <td>Normal</td>\n",
       "      <td>Female</td>\n",
       "      <td>Home and lifestyle</td>\n",
       "      <td>97.38</td>\n",
       "      <td>10</td>\n",
       "      <td>48.6900</td>\n",
       "      <td>1022.4900</td>\n",
       "      <td>3/2/2019</td>\n",
       "      <td>17:16</td>\n",
       "      <td>Ewallet</td>\n",
       "      <td>973.80</td>\n",
       "      <td>4.761905</td>\n",
       "      <td>48.6900</td>\n",
       "      <td>4.4</td>\n",
       "    </tr>\n",
       "    <tr>\n",
       "      <th>14</th>\n",
       "      <td>663-86-9076</td>\n",
       "      <td>C</td>\n",
       "      <td>Naypyitaw</td>\n",
       "      <td>Member</td>\n",
       "      <td>Female</td>\n",
       "      <td>Food and beverages</td>\n",
       "      <td>68.54</td>\n",
       "      <td>8</td>\n",
       "      <td>27.4160</td>\n",
       "      <td>NaN</td>\n",
       "      <td>1/8/2019</td>\n",
       "      <td>15:57</td>\n",
       "      <td>Ewallet</td>\n",
       "      <td>548.32</td>\n",
       "      <td>4.761905</td>\n",
       "      <td>27.4160</td>\n",
       "      <td>8.5</td>\n",
       "    </tr>\n",
       "  </tbody>\n",
       "</table>\n",
       "</div>"
      ],
      "text/plain": [
       "     Invoice ID Branch       City Customer type  Gender  \\\n",
       "0   148-41-7930      C  Naypyitaw        Normal    Male   \n",
       "1   189-40-5216      C  Naypyitaw        Normal    Male   \n",
       "2   374-38-5555      B   Mandalay        Normal  Female   \n",
       "3   764-44-8999      B   Mandalay        Normal  Female   \n",
       "4   552-44-5977      B   Mandalay        Member    Male   \n",
       "5   267-62-7380      C  Naypyitaw        Member    Male   \n",
       "6   430-53-4718      B   Mandalay        Member    Male   \n",
       "7   886-18-2897      A     Yangon        Normal  Female   \n",
       "8   602-16-6955      B   Mandalay        Normal  Female   \n",
       "9   745-74-0715      A     Yangon        Normal    Male   \n",
       "10  690-01-6631      B   Mandalay        Normal    Male   \n",
       "11  652-49-6720      C  Naypyitaw        Member  Female   \n",
       "12  233-67-5758      C  Naypyitaw        Normal    Male   \n",
       "13  303-96-2227      B   Mandalay        Normal  Female   \n",
       "14  663-86-9076      C  Naypyitaw        Member  Female   \n",
       "\n",
       "              Product line  Unit price  Quantity   Tax 5%      Total  \\\n",
       "0        Health and beauty       99.96         7  34.9860   734.7060   \n",
       "1   Electronic accessories       96.37         7  33.7295   708.3195   \n",
       "2      Fashion accessories       63.71         5  15.9275   334.4775   \n",
       "3        Health and beauty       14.76         2   1.4760    30.9960   \n",
       "4        Health and beauty       62.00         8  24.8000   520.8000   \n",
       "5   Electronic accessories       82.34        10  41.1700   864.5700   \n",
       "6        Health and beauty       75.37         8  30.1480   633.1080   \n",
       "7       Food and beverages       56.56         5  14.1400   296.9400   \n",
       "8        Sports and travel       76.60        10  38.3000   804.3000   \n",
       "9   Electronic accessories       58.03         2   5.8030   121.8630   \n",
       "10     Fashion accessories       17.49        10   8.7450   183.6450   \n",
       "11  Electronic accessories       60.95         1   3.0475    63.9975   \n",
       "12       Health and beauty       40.35         1   2.0175    42.3675   \n",
       "13      Home and lifestyle       97.38        10  48.6900  1022.4900   \n",
       "14      Food and beverages       68.54         8  27.4160        NaN   \n",
       "\n",
       "         Date   Time      Payment    cogs  gross margin percentage  \\\n",
       "0   1/23/2019  10:33         Cash  699.72                 4.761905   \n",
       "1    1/9/2019  11:40         Cash  674.59                 4.761905   \n",
       "2    2/7/2019  19:30      Ewallet  318.55                 4.761905   \n",
       "3   2/18/2019  14:42      Ewallet   29.52                 4.761905   \n",
       "4    1/3/2019  19:08  Credit card  496.00                 4.761905   \n",
       "5   3/29/2019  19:12      Ewallet  823.40                 4.761905   \n",
       "6   1/28/2019  15:46  Credit card  602.96                 4.761905   \n",
       "7   3/22/2019  19:06  Credit card  282.80                 4.761905   \n",
       "8   1/24/2019  18:10      Ewallet  766.00                 4.761905   \n",
       "9   3/10/2019  20:46      Ewallet  116.06                 4.761905   \n",
       "10  2/22/2019  18:35      Ewallet  174.90                 4.761905   \n",
       "11  2/18/2019  11:40      Ewallet   60.95                 4.761905   \n",
       "12  1/29/2019  13:46      Ewallet   40.35                 4.761905   \n",
       "13   3/2/2019  17:16      Ewallet  973.80                 4.761905   \n",
       "14   1/8/2019  15:57      Ewallet  548.32                 4.761905   \n",
       "\n",
       "    gross income  Rating  \n",
       "0        34.9860     6.1  \n",
       "1        33.7295     6.0  \n",
       "2        15.9275     8.5  \n",
       "3         1.4760     4.3  \n",
       "4        24.8000     6.2  \n",
       "5        41.1700     4.3  \n",
       "6        30.1480     8.4  \n",
       "7        14.1400     4.5  \n",
       "8        38.3000     6.0  \n",
       "9         5.8030     8.8  \n",
       "10        8.7450     6.6  \n",
       "11        3.0475     5.9  \n",
       "12        2.0175     6.2  \n",
       "13       48.6900     4.4  \n",
       "14       27.4160     8.5  "
      ]
     },
     "execution_count": 61,
     "metadata": {},
     "output_type": "execute_result"
    }
   ],
   "source": [
    "addition = pd.read_csv('data/addition.csv')\n",
    "addition"
   ]
  },
  {
   "cell_type": "code",
   "execution_count": 62,
   "id": "0036778d",
   "metadata": {},
   "outputs": [
    {
     "data": {
      "text/plain": [
       "(15, 17)"
      ]
     },
     "execution_count": 62,
     "metadata": {},
     "output_type": "execute_result"
    }
   ],
   "source": [
    "addition.shape"
   ]
  },
  {
   "cell_type": "code",
   "execution_count": 63,
   "id": "21a58a93",
   "metadata": {},
   "outputs": [],
   "source": [
    "addition.dropna(inplace=True)"
   ]
  },
  {
   "cell_type": "code",
   "execution_count": 64,
   "id": "7fe9e3f4",
   "metadata": {},
   "outputs": [],
   "source": [
    "addition.drop_duplicates(inplace = True)"
   ]
  },
  {
   "cell_type": "code",
   "execution_count": 65,
   "id": "01921f48",
   "metadata": {},
   "outputs": [
    {
     "data": {
      "text/plain": [
       "(14, 17)"
      ]
     },
     "execution_count": 65,
     "metadata": {},
     "output_type": "execute_result"
    }
   ],
   "source": [
    "addition.shape"
   ]
  },
  {
   "cell_type": "code",
   "execution_count": 66,
   "id": "e00a1bb3",
   "metadata": {},
   "outputs": [
    {
     "data": {
      "text/plain": [
       "Invoice ID                         object\n",
       "Branch                             object\n",
       "City                               object\n",
       "Customer type                      object\n",
       "Gender                             object\n",
       "Product line                       object\n",
       "Unit price                        float64\n",
       "Quantity                            int64\n",
       "Tax 5%                            float64\n",
       "Total                             float64\n",
       "Date                       datetime64[ns]\n",
       "Time                       datetime64[ns]\n",
       "Payment                            object\n",
       "cogs                              float64\n",
       "gross margin percentage           float64\n",
       "gross income                      float64\n",
       "Rating                            float64\n",
       "dtype: object"
      ]
     },
     "execution_count": 66,
     "metadata": {},
     "output_type": "execute_result"
    }
   ],
   "source": [
    "addition[['Date','Time']] = addition[['Date','Time']].apply(pd.to_datetime)\n",
    "addition.dtypes"
   ]
  },
  {
   "cell_type": "code",
   "execution_count": 67,
   "id": "8ec0e1bf",
   "metadata": {},
   "outputs": [
    {
     "data": {
      "text/plain": [
       "(994, 17)"
      ]
     },
     "execution_count": 67,
     "metadata": {},
     "output_type": "execute_result"
    }
   ],
   "source": [
    "dataframes = [sales, addition]\n",
    "sales = pd.concat(dataframes)\n",
    "sales.shape"
   ]
  },
  {
   "cell_type": "code",
   "execution_count": 68,
   "id": "bde21d6c",
   "metadata": {},
   "outputs": [
    {
     "data": {
      "text/html": [
       "<div>\n",
       "<style scoped>\n",
       "    .dataframe tbody tr th:only-of-type {\n",
       "        vertical-align: middle;\n",
       "    }\n",
       "\n",
       "    .dataframe tbody tr th {\n",
       "        vertical-align: top;\n",
       "    }\n",
       "\n",
       "    .dataframe thead th {\n",
       "        text-align: right;\n",
       "    }\n",
       "</style>\n",
       "<table border=\"1\" class=\"dataframe\">\n",
       "  <thead>\n",
       "    <tr style=\"text-align: right;\">\n",
       "      <th></th>\n",
       "      <th>Invoice ID</th>\n",
       "      <th>Branch</th>\n",
       "      <th>City</th>\n",
       "      <th>Customer type</th>\n",
       "      <th>Gender</th>\n",
       "      <th>Product line</th>\n",
       "      <th>Unit price</th>\n",
       "      <th>Quantity</th>\n",
       "      <th>Tax 5%</th>\n",
       "      <th>Total</th>\n",
       "      <th>Date</th>\n",
       "      <th>Time</th>\n",
       "      <th>Payment</th>\n",
       "      <th>cogs</th>\n",
       "      <th>gross margin percentage</th>\n",
       "      <th>gross income</th>\n",
       "      <th>Rating</th>\n",
       "    </tr>\n",
       "  </thead>\n",
       "  <tbody>\n",
       "    <tr>\n",
       "      <th>1</th>\n",
       "      <td>226-31-3081</td>\n",
       "      <td>C</td>\n",
       "      <td>Naypyitaw</td>\n",
       "      <td>Normal</td>\n",
       "      <td>Female</td>\n",
       "      <td>Electronic accessories</td>\n",
       "      <td>15.28</td>\n",
       "      <td>5</td>\n",
       "      <td>4.0110</td>\n",
       "      <td>80.2200</td>\n",
       "      <td>2019-03-08</td>\n",
       "      <td>2024-02-07 10:29:00</td>\n",
       "      <td>Cash</td>\n",
       "      <td>76.40</td>\n",
       "      <td>4.761905</td>\n",
       "      <td>3.8200</td>\n",
       "      <td>9.6</td>\n",
       "    </tr>\n",
       "    <tr>\n",
       "      <th>2</th>\n",
       "      <td>631-41-3108</td>\n",
       "      <td>A</td>\n",
       "      <td>Yangon</td>\n",
       "      <td>Normal</td>\n",
       "      <td>Male</td>\n",
       "      <td>Home and lifestyle</td>\n",
       "      <td>46.33</td>\n",
       "      <td>7</td>\n",
       "      <td>16.2155</td>\n",
       "      <td>340.5255</td>\n",
       "      <td>2019-03-03</td>\n",
       "      <td>2024-02-07 13:23:00</td>\n",
       "      <td>Credit card</td>\n",
       "      <td>324.31</td>\n",
       "      <td>4.761905</td>\n",
       "      <td>16.2155</td>\n",
       "      <td>7.4</td>\n",
       "    </tr>\n",
       "    <tr>\n",
       "      <th>3</th>\n",
       "      <td>123-19-1176</td>\n",
       "      <td>A</td>\n",
       "      <td>Yangon</td>\n",
       "      <td>Member</td>\n",
       "      <td>Male</td>\n",
       "      <td>Health and beauty</td>\n",
       "      <td>58.22</td>\n",
       "      <td>8</td>\n",
       "      <td>23.2880</td>\n",
       "      <td>489.0480</td>\n",
       "      <td>2019-01-27</td>\n",
       "      <td>2024-02-07 20:33:00</td>\n",
       "      <td>Ewallet</td>\n",
       "      <td>465.76</td>\n",
       "      <td>4.761905</td>\n",
       "      <td>23.2880</td>\n",
       "      <td>8.4</td>\n",
       "    </tr>\n",
       "  </tbody>\n",
       "</table>\n",
       "</div>"
      ],
      "text/plain": [
       "    Invoice ID Branch       City Customer type  Gender  \\\n",
       "1  226-31-3081      C  Naypyitaw        Normal  Female   \n",
       "2  631-41-3108      A     Yangon        Normal    Male   \n",
       "3  123-19-1176      A     Yangon        Member    Male   \n",
       "\n",
       "             Product line  Unit price  Quantity   Tax 5%     Total       Date  \\\n",
       "1  Electronic accessories       15.28         5   4.0110   80.2200 2019-03-08   \n",
       "2      Home and lifestyle       46.33         7  16.2155  340.5255 2019-03-03   \n",
       "3       Health and beauty       58.22         8  23.2880  489.0480 2019-01-27   \n",
       "\n",
       "                 Time      Payment    cogs  gross margin percentage  \\\n",
       "1 2024-02-07 10:29:00         Cash   76.40                 4.761905   \n",
       "2 2024-02-07 13:23:00  Credit card  324.31                 4.761905   \n",
       "3 2024-02-07 20:33:00      Ewallet  465.76                 4.761905   \n",
       "\n",
       "   gross income  Rating  \n",
       "1        3.8200     9.6  \n",
       "2       16.2155     7.4  \n",
       "3       23.2880     8.4  "
      ]
     },
     "execution_count": 68,
     "metadata": {},
     "output_type": "execute_result"
    }
   ],
   "source": [
    "sales.head(3)"
   ]
  },
  {
   "cell_type": "markdown",
   "id": "ac243b12",
   "metadata": {},
   "source": [
    "Here the situation is really simple, because we have two dataframes with the same column names. However, the situation can get far more complicated in many cases. I would <b> strongly </b> suggest you read: https://pandas.pydata.org/docs/user_guide/merging.html on all types of merging."
   ]
  },
  {
   "cell_type": "markdown",
   "id": "fc553265",
   "metadata": {},
   "source": [
    "### Groupby"
   ]
  },
  {
   "cell_type": "markdown",
   "id": "d03a441a",
   "metadata": {},
   "source": [
    "```groupby()``` is used to group the data into categories and apply functions to the categories. It can form groups based on one or more conditions. It can also be used on more than one DataFrames in order to find common categories."
   ]
  },
  {
   "cell_type": "code",
   "execution_count": 69,
   "id": "fd6ff479",
   "metadata": {},
   "outputs": [
    {
     "name": "stderr",
     "output_type": "stream",
     "text": [
      "C:\\Users\\dittm\\AppData\\Local\\Temp\\ipykernel_8048\\1868817864.py:1: FutureWarning: The default value of numeric_only in DataFrameGroupBy.sum is deprecated. In a future version, numeric_only will default to False. Either specify numeric_only or select only columns which should be valid for the function.\n",
      "  sales.groupby('City').sum()\n"
     ]
    },
    {
     "data": {
      "text/html": [
       "<div>\n",
       "<style scoped>\n",
       "    .dataframe tbody tr th:only-of-type {\n",
       "        vertical-align: middle;\n",
       "    }\n",
       "\n",
       "    .dataframe tbody tr th {\n",
       "        vertical-align: top;\n",
       "    }\n",
       "\n",
       "    .dataframe thead th {\n",
       "        text-align: right;\n",
       "    }\n",
       "</style>\n",
       "<table border=\"1\" class=\"dataframe\">\n",
       "  <thead>\n",
       "    <tr style=\"text-align: right;\">\n",
       "      <th></th>\n",
       "      <th>Unit price</th>\n",
       "      <th>Quantity</th>\n",
       "      <th>Tax 5%</th>\n",
       "      <th>Total</th>\n",
       "      <th>cogs</th>\n",
       "      <th>gross margin percentage</th>\n",
       "      <th>gross income</th>\n",
       "      <th>Rating</th>\n",
       "    </tr>\n",
       "    <tr>\n",
       "      <th>City</th>\n",
       "      <th></th>\n",
       "      <th></th>\n",
       "      <th></th>\n",
       "      <th></th>\n",
       "      <th></th>\n",
       "      <th></th>\n",
       "      <th></th>\n",
       "      <th></th>\n",
       "    </tr>\n",
       "  </thead>\n",
       "  <tbody>\n",
       "    <tr>\n",
       "      <th>Mandalay</th>\n",
       "      <td>18390.90</td>\n",
       "      <td>1820</td>\n",
       "      <td>5057.0320</td>\n",
       "      <td>106197.6720</td>\n",
       "      <td>101140.64</td>\n",
       "      <td>1580.952381</td>\n",
       "      <td>5057.0320</td>\n",
       "      <td>2263.6</td>\n",
       "    </tr>\n",
       "    <tr>\n",
       "      <th>Naypyitaw</th>\n",
       "      <td>18463.99</td>\n",
       "      <td>1824</td>\n",
       "      <td>5249.0015</td>\n",
       "      <td>110211.5805</td>\n",
       "      <td>104963.41</td>\n",
       "      <td>1552.380952</td>\n",
       "      <td>5248.1705</td>\n",
       "      <td>2301.5</td>\n",
       "    </tr>\n",
       "    <tr>\n",
       "      <th>Yangon</th>\n",
       "      <td>18406.11</td>\n",
       "      <td>1840</td>\n",
       "      <td>4996.0680</td>\n",
       "      <td>104917.4280</td>\n",
       "      <td>99921.36</td>\n",
       "      <td>1600.000000</td>\n",
       "      <td>4996.0680</td>\n",
       "      <td>2356.6</td>\n",
       "    </tr>\n",
       "  </tbody>\n",
       "</table>\n",
       "</div>"
      ],
      "text/plain": [
       "           Unit price  Quantity     Tax 5%        Total       cogs  \\\n",
       "City                                                                 \n",
       "Mandalay     18390.90      1820  5057.0320  106197.6720  101140.64   \n",
       "Naypyitaw    18463.99      1824  5249.0015  110211.5805  104963.41   \n",
       "Yangon       18406.11      1840  4996.0680  104917.4280   99921.36   \n",
       "\n",
       "           gross margin percentage  gross income  Rating  \n",
       "City                                                      \n",
       "Mandalay               1580.952381     5057.0320  2263.6  \n",
       "Naypyitaw              1552.380952     5248.1705  2301.5  \n",
       "Yangon                 1600.000000     4996.0680  2356.6  "
      ]
     },
     "execution_count": 69,
     "metadata": {},
     "output_type": "execute_result"
    }
   ],
   "source": [
    "sales.groupby('City').sum()"
   ]
  },
  {
   "cell_type": "code",
   "execution_count": 70,
   "id": "5c620a2b",
   "metadata": {},
   "outputs": [
    {
     "name": "stderr",
     "output_type": "stream",
     "text": [
      "C:\\Users\\dittm\\AppData\\Local\\Temp\\ipykernel_8048\\1511410747.py:1: FutureWarning: The default value of numeric_only in DataFrameGroupBy.sum is deprecated. In a future version, numeric_only will default to False. Either specify numeric_only or select only columns which should be valid for the function.\n",
      "  sales.groupby('Customer type').sum()['Total']\n"
     ]
    },
    {
     "data": {
      "text/plain": [
       "Customer type\n",
       "Member    162807.5715\n",
       "Normal    158519.1090\n",
       "Name: Total, dtype: float64"
      ]
     },
     "execution_count": 70,
     "metadata": {},
     "output_type": "execute_result"
    }
   ],
   "source": [
    "sales.groupby('Customer type').sum()['Total']"
   ]
  },
  {
   "cell_type": "code",
   "execution_count": 71,
   "id": "1b967c39",
   "metadata": {},
   "outputs": [
    {
     "data": {
      "text/html": [
       "<div>\n",
       "<style scoped>\n",
       "    .dataframe tbody tr th:only-of-type {\n",
       "        vertical-align: middle;\n",
       "    }\n",
       "\n",
       "    .dataframe tbody tr th {\n",
       "        vertical-align: top;\n",
       "    }\n",
       "\n",
       "    .dataframe thead th {\n",
       "        text-align: right;\n",
       "    }\n",
       "</style>\n",
       "<table border=\"1\" class=\"dataframe\">\n",
       "  <thead>\n",
       "    <tr style=\"text-align: right;\">\n",
       "      <th></th>\n",
       "      <th>Total</th>\n",
       "    </tr>\n",
       "    <tr>\n",
       "      <th>Customer type</th>\n",
       "      <th></th>\n",
       "    </tr>\n",
       "  </thead>\n",
       "  <tbody>\n",
       "    <tr>\n",
       "      <th>Member</th>\n",
       "      <td>162807.5715</td>\n",
       "    </tr>\n",
       "    <tr>\n",
       "      <th>Normal</th>\n",
       "      <td>158519.1090</td>\n",
       "    </tr>\n",
       "  </tbody>\n",
       "</table>\n",
       "</div>"
      ],
      "text/plain": [
       "                     Total\n",
       "Customer type             \n",
       "Member         162807.5715\n",
       "Normal         158519.1090"
      ]
     },
     "execution_count": 71,
     "metadata": {},
     "output_type": "execute_result"
    }
   ],
   "source": [
    "sales.groupby(['Customer type']).agg({'Total': 'sum'})\n"
   ]
  },
  {
   "cell_type": "code",
   "execution_count": 72,
   "id": "2339c2eb",
   "metadata": {},
   "outputs": [
    {
     "data": {
      "text/plain": [
       "0"
      ]
     },
     "execution_count": 72,
     "metadata": {},
     "output_type": "execute_result"
    }
   ],
   "source": [
    "sales['Total'].isnull().sum()"
   ]
  },
  {
   "cell_type": "code",
   "execution_count": 73,
   "id": "3fea7592",
   "metadata": {},
   "outputs": [
    {
     "data": {
      "text/plain": [
       "0"
      ]
     },
     "execution_count": 73,
     "metadata": {},
     "output_type": "execute_result"
    }
   ],
   "source": [
    "sales['Total'].isnull().sum()"
   ]
  },
  {
   "cell_type": "markdown",
   "id": "ff239f00",
   "metadata": {},
   "source": [
    "<b> Digression:</b> \n",
    "- ```agg()``` - the method allows you to apply a function or a list of function names to be executed along one of the axis of the DataFrame, default 0, which is the index (row) axis \n",
    "     * (https://www.w3schools.com/python/pandas/ref_df_agg.asp)\n",
    "\n",
    "-  ```count()``` - another useful function - count the number of (not NULL) values in each row                            \n",
    "      * (https://pandas.pydata.org/docs/reference/api/pandas.DataFrame.count.html)\n",
    "-  ```unstack()``` - used to reshape the given Pandas DataFrame by transposing specified row level to column level \n",
    "     *   (https://pandas.pydata.org/docs/reference/api/pandas.DataFrame.unstack.html)\n"
   ]
  },
  {
   "cell_type": "markdown",
   "id": "f6528bb2",
   "metadata": {},
   "source": [
    "## Let's answer some questions\n",
    "### Also called \"<i>Exploratory data analysis (EDA) </i>\"\n"
   ]
  },
  {
   "cell_type": "markdown",
   "id": "e4445901",
   "metadata": {},
   "source": [
    "<div class=\"alert alert-block alert-info\">\n",
    "<b>Exercises</b>\n",
    "<p>\n",
    "    <li>1. Which city has more male shoppers?</li>\n",
    "    <li>2. Who spends more, men or women (in this particular dataframe)?</li>\n",
    "    <li>3. Which type of customer spends more, member or non- member?    </li>\n",
    "    <li>4. Which product line sells the most?</li>\n",
    "    <li>5. Which product line is popular among men or women?</li>\n",
    "    <li>6. What day of month makes the highest sales?</li>\n",
    "    <li>7. What month makes the highest sales?</li>\n",
    "    <li>8. Find the highest unit price in the product line.</li>\n",
    "    <li>9. Find the most popular payment method used by customers</li>\n",
    "    <li>10. Find the payment method that lead to the most amount of money per branch</li>\n",
    "\n",
    "    \n",
    "    \n",
    "    \n",
    " \n",
    "    \n",
    "    \n",
    "    \n",
    "    \n",
    "\n",
    "\n",
    "</p>\n",
    "  \n",
    "</div>\n",
    "\n"
   ]
  },
  {
   "cell_type": "markdown",
   "id": "3c41c77b",
   "metadata": {},
   "source": [
    "1. Which city has more male shoppers?"
   ]
  },
  {
   "cell_type": "code",
   "execution_count": 74,
   "id": "1c76fb4c",
   "metadata": {},
   "outputs": [
    {
     "data": {
      "text/plain": [
       "City       Gender\n",
       "Mandalay   Female    162\n",
       "           Male      170\n",
       "Naypyitaw  Female    177\n",
       "           Male      149\n",
       "Yangon     Female    158\n",
       "           Male      178\n",
       "Name: Invoice ID, dtype: int64"
      ]
     },
     "execution_count": 74,
     "metadata": {},
     "output_type": "execute_result"
    }
   ],
   "source": [
    "female_shoppers = sales.groupby(['City', 'Gender']).count()['Invoice ID']\n",
    "female_shoppers"
   ]
  },
  {
   "cell_type": "code",
   "execution_count": 75,
   "id": "c869c442",
   "metadata": {},
   "outputs": [
    {
     "data": {
      "text/html": [
       "<div>\n",
       "<style scoped>\n",
       "    .dataframe tbody tr th:only-of-type {\n",
       "        vertical-align: middle;\n",
       "    }\n",
       "\n",
       "    .dataframe tbody tr th {\n",
       "        vertical-align: top;\n",
       "    }\n",
       "\n",
       "    .dataframe thead th {\n",
       "        text-align: right;\n",
       "    }\n",
       "</style>\n",
       "<table border=\"1\" class=\"dataframe\">\n",
       "  <thead>\n",
       "    <tr style=\"text-align: right;\">\n",
       "      <th>City</th>\n",
       "      <th>Mandalay</th>\n",
       "      <th>Naypyitaw</th>\n",
       "      <th>Yangon</th>\n",
       "    </tr>\n",
       "    <tr>\n",
       "      <th>Gender</th>\n",
       "      <th></th>\n",
       "      <th></th>\n",
       "      <th></th>\n",
       "    </tr>\n",
       "  </thead>\n",
       "  <tbody>\n",
       "    <tr>\n",
       "      <th>Female</th>\n",
       "      <td>162</td>\n",
       "      <td>177</td>\n",
       "      <td>158</td>\n",
       "    </tr>\n",
       "    <tr>\n",
       "      <th>Male</th>\n",
       "      <td>170</td>\n",
       "      <td>149</td>\n",
       "      <td>178</td>\n",
       "    </tr>\n",
       "  </tbody>\n",
       "</table>\n",
       "</div>"
      ],
      "text/plain": [
       "City    Mandalay  Naypyitaw  Yangon\n",
       "Gender                             \n",
       "Female       162        177     158\n",
       "Male         170        149     178"
      ]
     },
     "execution_count": 75,
     "metadata": {},
     "output_type": "execute_result"
    }
   ],
   "source": [
    "female_shoppers.unstack(level = 0)"
   ]
  },
  {
   "cell_type": "code",
   "execution_count": 76,
   "id": "3db403c3",
   "metadata": {},
   "outputs": [],
   "source": [
    "import matplotlib.pyplot as plt\n"
   ]
  },
  {
   "cell_type": "markdown",
   "id": "6b0deb35",
   "metadata": {},
   "source": [
    "If we want to use matplotlib, we only need to add to this line and we get a bar plot:"
   ]
  },
  {
   "cell_type": "code",
   "execution_count": 77,
   "id": "4a435b62",
   "metadata": {},
   "outputs": [
    {
     "data": {
      "image/png": "[encoded data removed]",
      "text/plain": [
       "<Figure size 640x480 with 1 Axes>"
      ]
     },
     "metadata": {},
     "output_type": "display_data"
    }
   ],
   "source": [
    "female_shoppers.unstack(level = 0).plot(kind='bar')\n",
    "plt.show()"
   ]
  },
  {
   "cell_type": "markdown",
   "id": "a85d6cb5",
   "metadata": {},
   "source": [
    "We can always use our standard libraries for plots, such as matplotlib(https://matplotlib.org/) or seaborn(https://seaborn.pydata.org/index.html). Make sure to investigate them to be able to pick which one you like. I personally, like plotly (https://plotly.com/graphing-libraries/).\n",
    "\n",
    "To be able to use it, you need to ofc install it. It's available in Anaconda Navigator, but othewise, we can install it in the Anaconda Prompt by typing\n",
    "\n",
    "```\n",
    "$ conda install -c plotly plotly=5.14.1\n",
    " \n",
    "```\n",
    "\n",
    "or in the Terminal \n",
    "\n",
    "```\n",
    "$ pip install plotly==5.14.1\n",
    "\n",
    "\n",
    "```"
   ]
  },
  {
   "cell_type": "code",
   "execution_count": 78,
   "id": "ac6240fe",
   "metadata": {},
   "outputs": [],
   "source": [
    "import plotly.graph_objects as go\n",
    "import plotly.express as px\n"
   ]
  },
  {
   "cell_type": "code",
   "execution_count": 79,
   "id": "33910ebe",
   "metadata": {},
   "outputs": [
    {
     "data": {
      "application/vnd.plotly.v1+json": {
       "config": {
        "plotlyServerURL": "https://plot.ly"
       },
       "data": [
        {
         "alignmentgroup": "True",
         "hovertemplate": "<b>%{hovertext}</b><br><br>City=Naypyitaw<br>Gender=%{x}<br>Invoice ID=%{y}<extra></extra>",
         "hovertext": [
          "Naypyitaw",
          "Naypyitaw",
          "Naypyitaw",
          "Naypyitaw",
          "Naypyitaw",
          "Naypyitaw",
          "Naypyitaw",
          "Naypyitaw",
          "Naypyitaw",
          "Naypyitaw",
          "Naypyitaw",
          "Naypyitaw",
          "Naypyitaw",
          "Naypyitaw",
          "Naypyitaw",
          "Naypyitaw",
          "Naypyitaw",
          "Naypyitaw",
          "Naypyitaw",
          "Naypyitaw",
          "Naypyitaw",
          "Naypyitaw",
          "Naypyitaw",
          "Naypyitaw",
          "Naypyitaw",
          "Naypyitaw",
          "Naypyitaw",
          "Naypyitaw",
          "Naypyitaw",
          "Naypyitaw",
          "Naypyitaw",
          "Naypyitaw",
          "Naypyitaw",
          "Naypyitaw",
          "Naypyitaw",
          "Naypyitaw",
          "Naypyitaw",
          "Naypyitaw",
          "Naypyitaw",
          "Naypyitaw",
          "Naypyitaw",
          "Naypyitaw",
          "Naypyitaw",
          "Naypyitaw",
          "Naypyitaw",
          "Naypyitaw",
          "Naypyitaw",
          "Naypyitaw",
          "Naypyitaw",
          "Naypyitaw",
          "Naypyitaw",
          "Naypyitaw",
          "Naypyitaw",
          "Naypyitaw",
          "Naypyitaw",
          "Naypyitaw",
          "Naypyitaw",
          "Naypyitaw",
          "Naypyitaw",
          "Naypyitaw",
          "Naypyitaw",
          "Naypyitaw",
          "Naypyitaw",
          "Naypyitaw",
          "Naypyitaw",
          "Naypyitaw",
          "Naypyitaw",
          "Naypyitaw",
          "Naypyitaw",
          "Naypyitaw",
          "Naypyitaw",
          "Naypyitaw",
          "Naypyitaw",
          "Naypyitaw",
          "Naypyitaw",
          "Naypyitaw",
          "Naypyitaw",
          "Naypyitaw",
          "Naypyitaw",
          "Naypyitaw",
          "Naypyitaw",
          "Naypyitaw",
          "Naypyitaw",
          "Naypyitaw",
          "Naypyitaw",
          "Naypyitaw",
          "Naypyitaw",
          "Naypyitaw",
          "Naypyitaw",
          "Naypyitaw",
          "Naypyitaw",
          "Naypyitaw",
          "Naypyitaw",
          "Naypyitaw",
          "Naypyitaw",
          "Naypyitaw",
          "Naypyitaw",
          "Naypyitaw",
          "Naypyitaw",
          "Naypyitaw",
          "Naypyitaw",
          "Naypyitaw",
          "Naypyitaw",
          "Naypyitaw",
          "Naypyitaw",
          "Naypyitaw",
          "Naypyitaw",
          "Naypyitaw",
          "Naypyitaw",
          "Naypyitaw",
          "Naypyitaw",
          "Naypyitaw",
          "Naypyitaw",
          "Naypyitaw",
          "Naypyitaw",
          "Naypyitaw",
          "Naypyitaw",
          "Naypyitaw",
          "Naypyitaw",
          "Naypyitaw",
          "Naypyitaw",
          "Naypyitaw",
          "Naypyitaw",
          "Naypyitaw",
          "Naypyitaw",
          "Naypyitaw",
          "Naypyitaw",
          "Naypyitaw",
          "Naypyitaw",
          "Naypyitaw",
          "Naypyitaw",
          "Naypyitaw",
          "Naypyitaw",
          "Naypyitaw",
          "Naypyitaw",
          "Naypyitaw",
          "Naypyitaw",
          "Naypyitaw",
          "Naypyitaw",
          "Naypyitaw",
          "Naypyitaw",
          "Naypyitaw",
          "Naypyitaw",
          "Naypyitaw",
          "Naypyitaw",
          "Naypyitaw",
          "Naypyitaw",
          "Naypyitaw",
          "Naypyitaw",
          "Naypyitaw",
          "Naypyitaw",
          "Naypyitaw",
          "Naypyitaw",
          "Naypyitaw",
          "Naypyitaw",
          "Naypyitaw",
          "Naypyitaw",
          "Naypyitaw",
          "Naypyitaw",
          "Naypyitaw",
          "Naypyitaw",
          "Naypyitaw",
          "Naypyitaw",
          "Naypyitaw",
          "Naypyitaw",
          "Naypyitaw",
          "Naypyitaw",
          "Naypyitaw",
          "Naypyitaw",
          "Naypyitaw",
          "Naypyitaw",
          "Naypyitaw",
          "Naypyitaw",
          "Naypyitaw",
          "Naypyitaw",
          "Naypyitaw",
          "Naypyitaw",
          "Naypyitaw",
          "Naypyitaw",
          "Naypyitaw",
          "Naypyitaw",
          "Naypyitaw",
          "Naypyitaw",
          "Naypyitaw",
          "Naypyitaw",
          "Naypyitaw",
          "Naypyitaw",
          "Naypyitaw",
          "Naypyitaw",
          "Naypyitaw",
          "Naypyitaw",
          "Naypyitaw",
          "Naypyitaw",
          "Naypyitaw",
          "Naypyitaw",
          "Naypyitaw",
          "Naypyitaw",
          "Naypyitaw",
          "Naypyitaw",
          "Naypyitaw",
          "Naypyitaw",
          "Naypyitaw",
          "Naypyitaw",
          "Naypyitaw",
          "Naypyitaw",
          "Naypyitaw",
          "Naypyitaw",
          "Naypyitaw",
          "Naypyitaw",
          "Naypyitaw",
          "Naypyitaw",
          "Naypyitaw",
          "Naypyitaw",
          "Naypyitaw",
          "Naypyitaw",
          "Naypyitaw",
          "Naypyitaw",
          "Naypyitaw",
          "Naypyitaw",
          "Naypyitaw",
          "Naypyitaw",
          "Naypyitaw",
          "Naypyitaw",
          "Naypyitaw",
          "Naypyitaw",
          "Naypyitaw",
          "Naypyitaw",
          "Naypyitaw",
          "Naypyitaw",
          "Naypyitaw",
          "Naypyitaw",
          "Naypyitaw",
          "Naypyitaw",
          "Naypyitaw",
          "Naypyitaw",
          "Naypyitaw",
          "Naypyitaw",
          "Naypyitaw",
          "Naypyitaw",
          "Naypyitaw",
          "Naypyitaw",
          "Naypyitaw",
          "Naypyitaw",
          "Naypyitaw",
          "Naypyitaw",
          "Naypyitaw",
          "Naypyitaw",
          "Naypyitaw",
          "Naypyitaw",
          "Naypyitaw",
          "Naypyitaw",
          "Naypyitaw",
          "Naypyitaw",
          "Naypyitaw",
          "Naypyitaw",
          "Naypyitaw",
          "Naypyitaw",
          "Naypyitaw",
          "Naypyitaw",
          "Naypyitaw",
          "Naypyitaw",
          "Naypyitaw",
          "Naypyitaw",
          "Naypyitaw",
          "Naypyitaw",
          "Naypyitaw",
          "Naypyitaw",
          "Naypyitaw",
          "Naypyitaw",
          "Naypyitaw",
          "Naypyitaw",
          "Naypyitaw",
          "Naypyitaw",
          "Naypyitaw",
          "Naypyitaw",
          "Naypyitaw",
          "Naypyitaw",
          "Naypyitaw",
          "Naypyitaw",
          "Naypyitaw",
          "Naypyitaw",
          "Naypyitaw",
          "Naypyitaw",
          "Naypyitaw",
          "Naypyitaw",
          "Naypyitaw",
          "Naypyitaw",
          "Naypyitaw",
          "Naypyitaw",
          "Naypyitaw",
          "Naypyitaw",
          "Naypyitaw",
          "Naypyitaw",
          "Naypyitaw",
          "Naypyitaw",
          "Naypyitaw",
          "Naypyitaw",
          "Naypyitaw",
          "Naypyitaw",
          "Naypyitaw",
          "Naypyitaw",
          "Naypyitaw",
          "Naypyitaw",
          "Naypyitaw",
          "Naypyitaw",
          "Naypyitaw",
          "Naypyitaw",
          "Naypyitaw",
          "Naypyitaw",
          "Naypyitaw",
          "Naypyitaw",
          "Naypyitaw",
          "Naypyitaw",
          "Naypyitaw",
          "Naypyitaw",
          "Naypyitaw",
          "Naypyitaw",
          "Naypyitaw",
          "Naypyitaw",
          "Naypyitaw",
          "Naypyitaw",
          "Naypyitaw",
          "Naypyitaw",
          "Naypyitaw",
          "Naypyitaw",
          "Naypyitaw"
         ],
         "legendgroup": "Naypyitaw",
         "marker": {
          "color": "#636efa",
          "pattern": {
           "shape": ""
          }
         },
         "name": "Naypyitaw",
         "offsetgroup": "Naypyitaw",
         "orientation": "v",
         "showlegend": true,
         "textposition": "auto",
         "type": "bar",
         "x": [
          "Female",
          "Male",
          "Female",
          "Male",
          "Female",
          "Female",
          "Female",
          "Male",
          "Female",
          "Male",
          "Female",
          "Male",
          "Male",
          "Female",
          "Male",
          "Female",
          "Male",
          "Female",
          "Male",
          "Male",
          "Female",
          "Female",
          "Male",
          "Female",
          "Female",
          "Female",
          "Male",
          "Female",
          "Male",
          "Female",
          "Male",
          "Female",
          "Female",
          "Male",
          "Female",
          "Male",
          "Male",
          "Female",
          "Male",
          "Female",
          "Male",
          "Female",
          "Female",
          "Female",
          "Male",
          "Male",
          "Female",
          "Female",
          "Female",
          "Male",
          "Female",
          "Male",
          "Female",
          "Female",
          "Female",
          "Male",
          "Male",
          "Female",
          "Female",
          "Female",
          "Male",
          "Male",
          "Male",
          "Female",
          "Male",
          "Male",
          "Male",
          "Male",
          "Female",
          "Female",
          "Female",
          "Male",
          "Male",
          "Female",
          "Female",
          "Male",
          "Female",
          "Female",
          "Female",
          "Male",
          "Female",
          "Female",
          "Male",
          "Male",
          "Female",
          "Male",
          "Male",
          "Female",
          "Male",
          "Female",
          "Male",
          "Female",
          "Female",
          "Female",
          "Male",
          "Male",
          "Male",
          "Female",
          "Male",
          "Female",
          "Male",
          "Female",
          "Male",
          "Male",
          "Male",
          "Female",
          "Male",
          "Female",
          "Male",
          "Female",
          "Male",
          "Female",
          "Female",
          "Male",
          "Male",
          "Female",
          "Female",
          "Female",
          "Female",
          "Female",
          "Female",
          "Female",
          "Female",
          "Male",
          "Female",
          "Female",
          "Female",
          "Female",
          "Female",
          "Male",
          "Male",
          "Male",
          "Female",
          "Female",
          "Male",
          "Female",
          "Female",
          "Female",
          "Male",
          "Male",
          "Female",
          "Female",
          "Female",
          "Female",
          "Female",
          "Female",
          "Female",
          "Male",
          "Male",
          "Male",
          "Male",
          "Male",
          "Female",
          "Male",
          "Male",
          "Male",
          "Male",
          "Female",
          "Male",
          "Male",
          "Female",
          "Female",
          "Female",
          "Female",
          "Male",
          "Female",
          "Female",
          "Male",
          "Male",
          "Female",
          "Female",
          "Male",
          "Female",
          "Female",
          "Female",
          "Female",
          "Male",
          "Female",
          "Male",
          "Female",
          "Male",
          "Male",
          "Female",
          "Male",
          "Female",
          "Male",
          "Female",
          "Male",
          "Male",
          "Male",
          "Female",
          "Male",
          "Female",
          "Female",
          "Male",
          "Male",
          "Female",
          "Male",
          "Male",
          "Female",
          "Female",
          "Female",
          "Male",
          "Female",
          "Male",
          "Female",
          "Female",
          "Female",
          "Male",
          "Male",
          "Female",
          "Female",
          "Female",
          "Female",
          "Male",
          "Male",
          "Female",
          "Male",
          "Female",
          "Male",
          "Female",
          "Female",
          "Female",
          "Male",
          "Male",
          "Female",
          "Male",
          "Female",
          "Male",
          "Female",
          "Female",
          "Male",
          "Female",
          "Male",
          "Male",
          "Female",
          "Female",
          "Female",
          "Male",
          "Female",
          "Female",
          "Female",
          "Male",
          "Male",
          "Male",
          "Female",
          "Male",
          "Male",
          "Male",
          "Female",
          "Female",
          "Female",
          "Male",
          "Female",
          "Female",
          "Female",
          "Female",
          "Female",
          "Male",
          "Male",
          "Male",
          "Male",
          "Female",
          "Female",
          "Male",
          "Female",
          "Male",
          "Male",
          "Female",
          "Male",
          "Female",
          "Male",
          "Female",
          "Female",
          "Female",
          "Male",
          "Male",
          "Male",
          "Female",
          "Female",
          "Female",
          "Female",
          "Male",
          "Female",
          "Female",
          "Male",
          "Male",
          "Male",
          "Male",
          "Female",
          "Female",
          "Female",
          "Female",
          "Male",
          "Male",
          "Female",
          "Female",
          "Female",
          "Male",
          "Female",
          "Female",
          "Male",
          "Female",
          "Female",
          "Female",
          "Female",
          "Female",
          "Male",
          "Male",
          "Female",
          "Female",
          "Male",
          "Male",
          "Male",
          "Female",
          "Male",
          "Female",
          "Male",
          "Male",
          "Male",
          "Male",
          "Male",
          "Male",
          "Male",
          "Female",
          "Male"
         ],
         "xaxis": "x",
         "y": [
          "226-31-3081",
          "699-14-3026",
          "315-22-5665",
          "300-71-4605",
          "183-56-6882",
          "232-16-2483",
          "333-73-7901",
          "554-53-8700",
          "228-96-1411",
          "617-15-4209",
          "574-22-5561",
          "326-78-5178",
          "778-71-5554",
          "399-46-5918",
          "120-06-4233",
          "285-68-5083",
          "803-83-5989",
          "838-78-4295",
          "393-65-2792",
          "796-12-2025",
          "841-35-6630",
          "732-94-0499",
          "263-10-3913",
          "829-49-1914",
          "756-01-7507",
          "870-72-4431",
          "480-63-2856",
          "787-56-0757",
          "360-39-5055",
          "730-50-9884",
          "362-58-8315",
          "565-80-5980",
          "225-32-0908",
          "512-91-0811",
          "871-39-9221",
          "163-56-7055",
          "189-98-2939",
          "551-21-3069",
          "628-34-3388",
          "588-01-7461",
          "861-77-0145",
          "210-67-5886",
          "237-01-6122",
          "225-98-1496",
          "659-36-1684",
          "336-78-2147",
          "189-08-9157",
          "663-86-9076",
          "483-71-1164",
          "597-78-7908",
          "731-81-9469",
          "280-17-4359",
          "338-65-2210",
          "488-25-4221",
          "458-41-1477",
          "568-90-5112",
          "584-86-7256",
          "214-17-6927",
          "400-89-4171",
          "894-41-5205",
          "423-80-0988",
          "234-65-2137",
          "733-33-4967",
          "139-52-2867",
          "342-65-4817",
          "130-98-8941",
          "434-83-9547",
          "824-88-3614",
          "593-65-1552",
          "286-43-6208",
          "556-86-3144",
          "848-24-9445",
          "699-01-4164",
          "420-11-4919",
          "606-80-4905",
          "426-39-2418",
          "672-51-8681",
          "263-87-5680",
          "677-11-0152",
          "389-25-3394",
          "279-62-1445",
          "746-68-6593",
          "583-72-1480",
          "211-30-9270",
          "755-12-3214",
          "142-72-4741",
          "662-47-5456",
          "883-17-4236",
          "380-94-4661",
          "821-07-3596",
          "808-65-0703",
          "687-15-1097",
          "526-86-8552",
          "376-56-3573",
          "537-72-0426",
          "523-38-0215",
          "593-95-4461",
          "226-71-3580",
          "558-80-4082",
          "211-05-0490",
          "727-75-6477",
          "779-06-0012",
          "446-47-6729",
          "735-06-4124",
          "181-94-6432",
          "227-07-4446",
          "174-36-3675",
          "428-83-5800",
          "603-07-0961",
          "704-20-4138",
          "787-15-1757",
          "649-11-3678",
          "622-20-1945",
          "719-76-3868",
          "835-16-0096",
          "633-09-3463",
          "416-13-5917",
          "725-96-3778",
          "860-79-0874",
          "320-49-6392",
          "632-90-0281",
          "554-42-2417",
          "605-72-4132",
          "471-41-2823",
          "272-27-9238",
          "834-25-9262",
          "122-61-9553",
          "613-59-9758",
          "730-70-9830",
          "382-25-8917",
          "743-88-1662",
          "595-86-2894",
          "462-78-5240",
          "153-58-4872",
          "689-16-9784",
          "394-41-0748",
          "541-89-9860",
          "110-05-6330",
          "651-61-0874",
          "236-86-3015",
          "587-03-7455",
          "372-26-1506",
          "750-57-9686",
          "186-09-3669",
          "266-76-6436",
          "740-22-2500",
          "271-88-8734",
          "489-64-4354",
          "574-57-9721",
          "751-69-0068",
          "257-73-1380",
          "549-96-4200",
          "810-60-6344",
          "450-28-2866",
          "192-98-7397",
          "235-46-8343",
          "453-12-7053",
          "325-90-8763",
          "729-46-7422",
          "639-76-1242",
          "326-71-2155",
          "320-32-8842",
          "878-30-2331",
          "440-59-5691",
          "746-19-0921",
          "233-34-0817",
          "767-05-1286",
          "598-47-9715",
          "541-08-3113",
          "246-11-3901",
          "493-65-6248",
          "556-72-8512",
          "148-82-2527",
          "556-97-7101",
          "862-59-8517",
          "573-98-8548",
          "620-02-2046",
          "602-80-9671",
          "503-07-0930",
          "413-20-6708",
          "521-18-7827",
          "600-38-9738",
          "451-28-5717",
          "133-14-7229",
          "236-27-1144",
          "583-41-4548",
          "358-88-9262",
          "343-87-0864",
          "243-47-2663",
          "399-69-4630",
          "283-26-5248",
          "866-99-7614",
          "718-57-9773",
          "408-26-9866",
          "592-34-6155",
          "390-31-6381",
          "339-18-7061",
          "379-17-6588",
          "302-15-2162",
          "788-07-8452",
          "123-35-4896",
          "258-69-7810",
          "219-61-4139",
          "881-41-7302",
          "373-09-4567",
          "484-22-8230",
          "544-32-5024",
          "277-35-5865",
          "284-54-4231",
          "840-19-2096",
          "641-96-3695",
          "318-81-2368",
          "155-45-3814",
          "131-15-8856",
          "273-84-2164",
          "778-89-7974",
          "859-71-0933",
          "740-11-5257",
          "250-81-7186",
          "842-29-4695",
          "641-51-2661",
          "714-02-3114",
          "408-66-6712",
          "556-41-6224",
          "648-94-3045",
          "370-96-0655",
          "173-57-2300",
          "394-55-6384",
          "266-20-6657",
          "196-01-2849",
          "372-62-5264",
          "751-41-9720",
          "626-43-7888",
          "162-65-8559",
          "760-27-5490",
          "728-88-7867",
          "183-21-3799",
          "268-20-3585",
          "735-32-9839",
          "678-79-0726",
          "592-46-1692",
          "149-14-0304",
          "442-44-6497",
          "210-74-9613",
          "607-65-2441",
          "386-27-7606",
          "137-63-5492",
          "733-29-1227",
          "451-73-2711",
          "345-68-9016",
          "390-17-5806",
          "664-14-2882",
          "314-23-4520",
          "288-38-3758",
          "801-88-0346",
          "759-98-4285",
          "201-63-8275",
          "471-06-8611",
          "200-16-5952",
          "102-77-2261",
          "102-06-2002",
          "629-42-4133",
          "468-99-7231",
          "516-77-6464",
          "886-77-9084",
          "790-38-4466",
          "704-10-4056",
          "400-80-4065",
          "443-60-9639",
          "401-09-4232",
          "324-41-6833",
          "474-33-8305",
          "189-55-2313",
          "815-04-6282",
          "477-59-2456",
          "784-21-9238",
          "538-22-0304",
          "660-29-7083",
          "271-77-8740",
          "549-23-9016",
          "862-29-5914",
          "845-94-6841",
          "658-66-3967",
          "848-95-6252",
          "101-81-4070",
          "176-78-1170",
          "631-34-1880",
          "154-87-7367",
          "885-56-0389",
          "115-38-7388",
          "137-74-8729",
          "389-70-2397",
          "607-76-6216",
          "781-84-8059",
          "725-54-0677",
          "377-79-7592",
          "545-07-8534",
          "118-62-1812",
          "450-42-3339",
          "151-27-8496",
          "717-96-4189",
          "722-13-2115",
          "246-55-6923",
          "838-02-1821",
          "887-42-0517",
          "457-12-0244",
          "756-93-1854",
          "458-10-8612",
          "235-06-8510",
          "433-08-7822",
          "500-02-2261",
          "702-83-5291",
          "859-97-6048",
          "373-88-1424",
          "784-08-0310",
          "577-34-7579",
          "867-47-1948",
          "256-58-3609",
          "364-34-2972",
          "744-82-9138",
          "728-47-9078",
          "148-41-7930",
          "189-40-5216",
          "267-62-7380",
          "652-49-6720",
          "233-67-5758"
         ],
         "yaxis": "y"
        },
        {
         "alignmentgroup": "True",
         "hovertemplate": "<b>%{hovertext}</b><br><br>City=Yangon<br>Gender=%{x}<br>Invoice ID=%{y}<extra></extra>",
         "hovertext": [
          "Yangon",
          "Yangon",
          "Yangon",
          "Yangon",
          "Yangon",
          "Yangon",
          "Yangon",
          "Yangon",
          "Yangon",
          "Yangon",
          "Yangon",
          "Yangon",
          "Yangon",
          "Yangon",
          "Yangon",
          "Yangon",
          "Yangon",
          "Yangon",
          "Yangon",
          "Yangon",
          "Yangon",
          "Yangon",
          "Yangon",
          "Yangon",
          "Yangon",
          "Yangon",
          "Yangon",
          "Yangon",
          "Yangon",
          "Yangon",
          "Yangon",
          "Yangon",
          "Yangon",
          "Yangon",
          "Yangon",
          "Yangon",
          "Yangon",
          "Yangon",
          "Yangon",
          "Yangon",
          "Yangon",
          "Yangon",
          "Yangon",
          "Yangon",
          "Yangon",
          "Yangon",
          "Yangon",
          "Yangon",
          "Yangon",
          "Yangon",
          "Yangon",
          "Yangon",
          "Yangon",
          "Yangon",
          "Yangon",
          "Yangon",
          "Yangon",
          "Yangon",
          "Yangon",
          "Yangon",
          "Yangon",
          "Yangon",
          "Yangon",
          "Yangon",
          "Yangon",
          "Yangon",
          "Yangon",
          "Yangon",
          "Yangon",
          "Yangon",
          "Yangon",
          "Yangon",
          "Yangon",
          "Yangon",
          "Yangon",
          "Yangon",
          "Yangon",
          "Yangon",
          "Yangon",
          "Yangon",
          "Yangon",
          "Yangon",
          "Yangon",
          "Yangon",
          "Yangon",
          "Yangon",
          "Yangon",
          "Yangon",
          "Yangon",
          "Yangon",
          "Yangon",
          "Yangon",
          "Yangon",
          "Yangon",
          "Yangon",
          "Yangon",
          "Yangon",
          "Yangon",
          "Yangon",
          "Yangon",
          "Yangon",
          "Yangon",
          "Yangon",
          "Yangon",
          "Yangon",
          "Yangon",
          "Yangon",
          "Yangon",
          "Yangon",
          "Yangon",
          "Yangon",
          "Yangon",
          "Yangon",
          "Yangon",
          "Yangon",
          "Yangon",
          "Yangon",
          "Yangon",
          "Yangon",
          "Yangon",
          "Yangon",
          "Yangon",
          "Yangon",
          "Yangon",
          "Yangon",
          "Yangon",
          "Yangon",
          "Yangon",
          "Yangon",
          "Yangon",
          "Yangon",
          "Yangon",
          "Yangon",
          "Yangon",
          "Yangon",
          "Yangon",
          "Yangon",
          "Yangon",
          "Yangon",
          "Yangon",
          "Yangon",
          "Yangon",
          "Yangon",
          "Yangon",
          "Yangon",
          "Yangon",
          "Yangon",
          "Yangon",
          "Yangon",
          "Yangon",
          "Yangon",
          "Yangon",
          "Yangon",
          "Yangon",
          "Yangon",
          "Yangon",
          "Yangon",
          "Yangon",
          "Yangon",
          "Yangon",
          "Yangon",
          "Yangon",
          "Yangon",
          "Yangon",
          "Yangon",
          "Yangon",
          "Yangon",
          "Yangon",
          "Yangon",
          "Yangon",
          "Yangon",
          "Yangon",
          "Yangon",
          "Yangon",
          "Yangon",
          "Yangon",
          "Yangon",
          "Yangon",
          "Yangon",
          "Yangon",
          "Yangon",
          "Yangon",
          "Yangon",
          "Yangon",
          "Yangon",
          "Yangon",
          "Yangon",
          "Yangon",
          "Yangon",
          "Yangon",
          "Yangon",
          "Yangon",
          "Yangon",
          "Yangon",
          "Yangon",
          "Yangon",
          "Yangon",
          "Yangon",
          "Yangon",
          "Yangon",
          "Yangon",
          "Yangon",
          "Yangon",
          "Yangon",
          "Yangon",
          "Yangon",
          "Yangon",
          "Yangon",
          "Yangon",
          "Yangon",
          "Yangon",
          "Yangon",
          "Yangon",
          "Yangon",
          "Yangon",
          "Yangon",
          "Yangon",
          "Yangon",
          "Yangon",
          "Yangon",
          "Yangon",
          "Yangon",
          "Yangon",
          "Yangon",
          "Yangon",
          "Yangon",
          "Yangon",
          "Yangon",
          "Yangon",
          "Yangon",
          "Yangon",
          "Yangon",
          "Yangon",
          "Yangon",
          "Yangon",
          "Yangon",
          "Yangon",
          "Yangon",
          "Yangon",
          "Yangon",
          "Yangon",
          "Yangon",
          "Yangon",
          "Yangon",
          "Yangon",
          "Yangon",
          "Yangon",
          "Yangon",
          "Yangon",
          "Yangon",
          "Yangon",
          "Yangon",
          "Yangon",
          "Yangon",
          "Yangon",
          "Yangon",
          "Yangon",
          "Yangon",
          "Yangon",
          "Yangon",
          "Yangon",
          "Yangon",
          "Yangon",
          "Yangon",
          "Yangon",
          "Yangon",
          "Yangon",
          "Yangon",
          "Yangon",
          "Yangon",
          "Yangon",
          "Yangon",
          "Yangon",
          "Yangon",
          "Yangon",
          "Yangon",
          "Yangon",
          "Yangon",
          "Yangon",
          "Yangon",
          "Yangon",
          "Yangon",
          "Yangon",
          "Yangon",
          "Yangon",
          "Yangon",
          "Yangon",
          "Yangon",
          "Yangon",
          "Yangon",
          "Yangon",
          "Yangon",
          "Yangon",
          "Yangon",
          "Yangon",
          "Yangon",
          "Yangon",
          "Yangon",
          "Yangon",
          "Yangon",
          "Yangon",
          "Yangon",
          "Yangon",
          "Yangon",
          "Yangon",
          "Yangon",
          "Yangon",
          "Yangon",
          "Yangon",
          "Yangon",
          "Yangon",
          "Yangon",
          "Yangon",
          "Yangon",
          "Yangon",
          "Yangon",
          "Yangon",
          "Yangon",
          "Yangon",
          "Yangon",
          "Yangon",
          "Yangon",
          "Yangon",
          "Yangon",
          "Yangon",
          "Yangon",
          "Yangon",
          "Yangon",
          "Yangon",
          "Yangon",
          "Yangon",
          "Yangon",
          "Yangon",
          "Yangon",
          "Yangon",
          "Yangon"
         ],
         "legendgroup": "Yangon",
         "marker": {
          "color": "#EF553B",
          "pattern": {
           "shape": ""
          }
         },
         "name": "Yangon",
         "offsetgroup": "Yangon",
         "orientation": "v",
         "showlegend": true,
         "textposition": "auto",
         "type": "bar",
         "x": [
          "Male",
          "Male",
          "Male",
          "Female",
          "Female",
          "Female",
          "Male",
          "Female",
          "Female",
          "Male",
          "Male",
          "Male",
          "Male",
          "Female",
          "Female",
          "Male",
          "Male",
          "Male",
          "Female",
          "Female",
          "Male",
          "Male",
          "Female",
          "Male",
          "Male",
          "Male",
          "Female",
          "Male",
          "Female",
          "Male",
          "Male",
          "Female",
          "Male",
          "Male",
          "Male",
          "Male",
          "Male",
          "Male",
          "Female",
          "Female",
          "Female",
          "Female",
          "Female",
          "Female",
          "Female",
          "Male",
          "Female",
          "Female",
          "Male",
          "Male",
          "Male",
          "Male",
          "Male",
          "Male",
          "Male",
          "Male",
          "Male",
          "Male",
          "Male",
          "Male",
          "Male",
          "Female",
          "Male",
          "Male",
          "Female",
          "Female",
          "Male",
          "Male",
          "Female",
          "Male",
          "Female",
          "Male",
          "Female",
          "Male",
          "Male",
          "Male",
          "Male",
          "Male",
          "Male",
          "Male",
          "Male",
          "Male",
          "Male",
          "Male",
          "Male",
          "Female",
          "Female",
          "Female",
          "Male",
          "Female",
          "Female",
          "Female",
          "Male",
          "Female",
          "Female",
          "Male",
          "Female",
          "Female",
          "Female",
          "Female",
          "Male",
          "Male",
          "Female",
          "Male",
          "Female",
          "Female",
          "Female",
          "Female",
          "Female",
          "Female",
          "Male",
          "Female",
          "Male",
          "Male",
          "Male",
          "Male",
          "Male",
          "Male",
          "Female",
          "Male",
          "Male",
          "Female",
          "Male",
          "Male",
          "Male",
          "Male",
          "Male",
          "Male",
          "Male",
          "Female",
          "Female",
          "Male",
          "Female",
          "Female",
          "Male",
          "Female",
          "Female",
          "Female",
          "Female",
          "Male",
          "Male",
          "Female",
          "Male",
          "Male",
          "Male",
          "Female",
          "Male",
          "Female",
          "Female",
          "Male",
          "Female",
          "Female",
          "Female",
          "Male",
          "Male",
          "Male",
          "Female",
          "Male",
          "Female",
          "Male",
          "Female",
          "Male",
          "Male",
          "Male",
          "Female",
          "Female",
          "Male",
          "Female",
          "Female",
          "Male",
          "Male",
          "Female",
          "Male",
          "Female",
          "Male",
          "Male",
          "Male",
          "Female",
          "Male",
          "Female",
          "Male",
          "Female",
          "Male",
          "Female",
          "Male",
          "Male",
          "Female",
          "Male",
          "Female",
          "Female",
          "Male",
          "Male",
          "Female",
          "Female",
          "Male",
          "Female",
          "Male",
          "Female",
          "Female",
          "Male",
          "Female",
          "Female",
          "Male",
          "Female",
          "Male",
          "Female",
          "Male",
          "Female",
          "Female",
          "Male",
          "Male",
          "Female",
          "Male",
          "Male",
          "Male",
          "Male",
          "Male",
          "Male",
          "Female",
          "Female",
          "Female",
          "Male",
          "Female",
          "Male",
          "Female",
          "Female",
          "Male",
          "Male",
          "Male",
          "Female",
          "Male",
          "Female",
          "Female",
          "Male",
          "Male",
          "Male",
          "Female",
          "Male",
          "Male",
          "Female",
          "Male",
          "Male",
          "Male",
          "Female",
          "Male",
          "Female",
          "Female",
          "Female",
          "Female",
          "Male",
          "Female",
          "Female",
          "Female",
          "Male",
          "Female",
          "Female",
          "Female",
          "Male",
          "Male",
          "Male",
          "Male",
          "Female",
          "Female",
          "Female",
          "Female",
          "Female",
          "Female",
          "Female",
          "Male",
          "Female",
          "Male",
          "Female",
          "Female",
          "Female",
          "Male",
          "Female",
          "Male",
          "Male",
          "Male",
          "Male",
          "Male",
          "Female",
          "Male",
          "Male",
          "Male",
          "Female",
          "Male",
          "Female",
          "Female",
          "Female",
          "Female",
          "Male",
          "Female",
          "Male",
          "Male",
          "Male",
          "Male",
          "Female",
          "Female",
          "Female",
          "Male",
          "Male",
          "Female",
          "Male",
          "Male",
          "Female",
          "Male",
          "Female",
          "Female",
          "Male",
          "Female",
          "Female",
          "Female",
          "Female",
          "Female",
          "Female",
          "Male",
          "Female",
          "Male",
          "Male",
          "Female",
          "Female",
          "Female",
          "Female",
          "Female",
          "Male",
          "Female",
          "Male",
          "Female",
          "Male",
          "Female",
          "Male",
          "Male",
          "Female",
          "Female",
          "Male"
         ],
         "xaxis": "x",
         "y": [
          "631-41-3108",
          "123-19-1176",
          "373-73-7910",
          "355-53-5943",
          "665-32-9167",
          "365-64-0515",
          "252-56-2699",
          "829-34-3910",
          "656-95-9349",
          "765-26-6951",
          "329-62-1586",
          "636-48-8204",
          "549-59-1358",
          "227-03-5010",
          "189-17-4241",
          "848-62-7243",
          "595-11-5460",
          "129-29-8530",
          "272-65-1806",
          "162-48-8011",
          "106-35-6779",
          "635-40-6220",
          "817-48-8732",
          "199-75-8169",
          "877-22-3308",
          "232-11-3025",
          "382-03-4532",
          "287-21-9091",
          "381-20-0914",
          "633-44-8566",
          "504-35-8843",
          "873-51-0671",
          "594-34-4444",
          "865-92-6136",
          "212-62-1842",
          "704-48-3927",
          "630-74-5166",
          "645-44-1170",
          "642-32-2990",
          "638-60-7125",
          "668-90-8900",
          "870-54-3162",
          "802-70-5316",
          "700-81-1757",
          "354-39-5160",
          "575-30-8091",
          "239-10-7476",
          "685-64-1609",
          "238-49-0436",
          "746-94-0204",
          "782-95-9291",
          "275-28-0149",
          "101-17-6199",
          "687-47-8271",
          "796-32-9050",
          "105-31-1824",
          "249-42-3782",
          "827-26-2100",
          "175-54-2529",
          "407-63-8975",
          "851-28-6367",
          "586-25-0848",
          "400-60-7251",
          "831-07-6050",
          "856-22-8149",
          "749-24-1565",
          "888-02-0338",
          "802-43-8934",
          "319-74-2561",
          "213-72-6612",
          "721-86-6247",
          "157-13-5295",
          "645-78-8093",
          "478-06-7835",
          "540-11-4336",
          "448-81-5016",
          "217-58-1179",
          "530-90-9855",
          "604-70-6476",
          "799-71-1548",
          "290-68-2984",
          "704-11-6354",
          "366-93-0948",
          "729-09-9681",
          "151-16-1484",
          "850-41-9669",
          "447-15-7839",
          "253-12-6086",
          "144-51-6085",
          "731-14-2199",
          "126-54-1082",
          "633-91-1052",
          "828-61-5674",
          "136-08-6195",
          "490-29-1201",
          "667-92-0055",
          "565-17-3836",
          "430-60-3493",
          "278-97-7759",
          "316-68-6352",
          "744-02-5987",
          "307-83-9164",
          "439-54-7422",
          "411-77-0180",
          "286-01-5402",
          "803-17-8013",
          "512-98-1403",
          "848-42-2560",
          "870-76-1733",
          "423-64-4619",
          "372-94-8041",
          "563-91-7120",
          "746-54-5508",
          "815-11-1168",
          "340-66-0321",
          "634-97-8956",
          "566-71-1091",
          "442-48-3607",
          "527-09-6272",
          "898-04-2717",
          "150-89-8043",
          "135-84-8019",
          "441-94-7118",
          "531-80-1784",
          "834-61-8124",
          "612-36-5536",
          "462-67-9126",
          "468-88-0009",
          "254-31-0042",
          "422-29-8786",
          "667-23-5919",
          "289-15-7034",
          "662-72-2873",
          "725-56-0833",
          "563-36-9814",
          "308-47-4913",
          "885-17-6250",
          "726-27-2396",
          "316-01-3952",
          "882-40-4577",
          "732-67-5346",
          "256-08-8343",
          "132-23-6451",
          "696-90-2548",
          "472-15-9636",
          "745-71-3520",
          "269-10-8440",
          "325-77-6186",
          "459-50-7686",
          "345-08-4992",
          "138-17-5109",
          "301-11-9629",
          "727-17-0390",
          "568-88-3448",
          "187-83-5490",
          "470-32-9057",
          "340-21-9136",
          "405-31-3305",
          "676-39-6028",
          "502-05-1910",
          "485-30-8700",
          "575-67-1508",
          "674-15-9296",
          "795-49-7276",
          "510-09-5628",
          "420-18-8989",
          "726-29-6793",
          "209-61-0206",
          "595-27-4851",
          "189-52-0236",
          "220-28-1851",
          "609-81-8548",
          "534-01-4457",
          "719-89-8991",
          "827-77-7633",
          "287-83-1405",
          "435-13-4908",
          "892-05-6689",
          "643-38-7867",
          "308-81-0538",
          "460-35-4390",
          "647-50-1224",
          "541-48-8554",
          "213-32-1216",
          "134-75-2619",
          "712-39-0363",
          "218-59-9410",
          "760-90-2357",
          "698-98-5964",
          "651-88-7328",
          "239-48-4278",
          "550-84-8664",
          "797-88-0493",
          "443-82-0585",
          "127-47-6963",
          "695-28-6250",
          "227-50-3718",
          "560-49-6611",
          "880-35-0356",
          "152-68-2907",
          "334-64-2006",
          "559-98-9873",
          "318-12-0304",
          "421-95-9805",
          "443-59-0061",
          "509-29-3912",
          "828-46-6863",
          "420-97-3340",
          "436-54-4512",
          "816-57-2053",
          "856-66-2701",
          "308-39-1707",
          "149-61-1929",
          "655-07-2265",
          "589-02-8023",
          "610-46-4100",
          "706-36-6154",
          "742-04-5161",
          "169-52-4504",
          "562-12-5430",
          "816-72-8853",
          "491-38-3499",
          "518-17-2983",
          "588-47-8641",
          "811-03-8790",
          "274-05-5470",
          "130-67-4723",
          "105-10-6182",
          "648-83-1321",
          "305-03-2383",
          "689-05-1884",
          "800-09-8606",
          "182-52-7000",
          "868-06-0466",
          "445-30-9252",
          "786-94-2700",
          "258-92-7466",
          "482-17-1179",
          "788-21-5741",
          "247-11-2470",
          "635-28-5728",
          "756-49-0168",
          "805-86-0265",
          "373-14-0504",
          "546-80-2899",
          "585-86-8361",
          "807-14-7833",
          "652-43-6591",
          "406-46-7107",
          "250-17-5703",
          "156-95-3964",
          "410-67-1709",
          "587-73-4862",
          "787-87-2010",
          "886-54-6089",
          "534-53-3526",
          "307-04-2070",
          "404-91-5964",
          "497-37-6538",
          "651-96-5970",
          "263-12-5321",
          "702-72-0487",
          "864-24-7918",
          "759-29-9521",
          "220-68-6701",
          "618-34-8551",
          "257-60-7754",
          "380-60-5336",
          "674-56-6360",
          "778-34-2523",
          "832-51-6761",
          "186-43-8965",
          "276-75-6884",
          "569-76-2760",
          "760-53-9233",
          "416-17-9926",
          "237-44-6163",
          "528-14-9470",
          "807-34-3742",
          "288-62-1085",
          "497-36-0989",
          "860-73-6466",
          "896-34-0956",
          "804-38-3935",
          "585-90-0249",
          "125-45-2293",
          "843-73-4724",
          "409-33-9708",
          "160-22-2687",
          "748-45-2862",
          "316-66-3011",
          "840-76-5966",
          "124-31-1458",
          "852-82-2749",
          "873-14-6353",
          "166-19-2553",
          "737-88-5876",
          "448-61-3783",
          "291-55-6563",
          "548-48-3156",
          "460-93-5834",
          "325-89-4209",
          "884-80-6021",
          "880-46-5796",
          "146-09-5432",
          "595-94-9924",
          "865-41-9075",
          "186-71-5196",
          "453-33-6436",
          "522-57-8364",
          "459-45-2396",
          "749-81-8133",
          "397-25-8725",
          "243-55-8457",
          "361-85-2571",
          "131-70-8179",
          "720-72-2436",
          "809-69-9497",
          "449-16-6770",
          "333-23-2632",
          "489-82-1237",
          "846-10-0341",
          "384-59-6655",
          "593-08-5916",
          "558-60-5016",
          "195-06-0432",
          "605-03-2706",
          "531-56-4728",
          "221-25-5073",
          "809-46-1866",
          "139-32-4183",
          "727-02-1313",
          "347-56-2442",
          "849-09-3807",
          "886-18-2897",
          "745-74-0715"
         ],
         "yaxis": "y"
        },
        {
         "alignmentgroup": "True",
         "hovertemplate": "<b>%{hovertext}</b><br><br>City=Mandalay<br>Gender=%{x}<br>Invoice ID=%{y}<extra></extra>",
         "hovertext": [
          "Mandalay",
          "Mandalay",
          "Mandalay",
          "Mandalay",
          "Mandalay",
          "Mandalay",
          "Mandalay",
          "Mandalay",
          "Mandalay",
          "Mandalay",
          "Mandalay",
          "Mandalay",
          "Mandalay",
          "Mandalay",
          "Mandalay",
          "Mandalay",
          "Mandalay",
          "Mandalay",
          "Mandalay",
          "Mandalay",
          "Mandalay",
          "Mandalay",
          "Mandalay",
          "Mandalay",
          "Mandalay",
          "Mandalay",
          "Mandalay",
          "Mandalay",
          "Mandalay",
          "Mandalay",
          "Mandalay",
          "Mandalay",
          "Mandalay",
          "Mandalay",
          "Mandalay",
          "Mandalay",
          "Mandalay",
          "Mandalay",
          "Mandalay",
          "Mandalay",
          "Mandalay",
          "Mandalay",
          "Mandalay",
          "Mandalay",
          "Mandalay",
          "Mandalay",
          "Mandalay",
          "Mandalay",
          "Mandalay",
          "Mandalay",
          "Mandalay",
          "Mandalay",
          "Mandalay",
          "Mandalay",
          "Mandalay",
          "Mandalay",
          "Mandalay",
          "Mandalay",
          "Mandalay",
          "Mandalay",
          "Mandalay",
          "Mandalay",
          "Mandalay",
          "Mandalay",
          "Mandalay",
          "Mandalay",
          "Mandalay",
          "Mandalay",
          "Mandalay",
          "Mandalay",
          "Mandalay",
          "Mandalay",
          "Mandalay",
          "Mandalay",
          "Mandalay",
          "Mandalay",
          "Mandalay",
          "Mandalay",
          "Mandalay",
          "Mandalay",
          "Mandalay",
          "Mandalay",
          "Mandalay",
          "Mandalay",
          "Mandalay",
          "Mandalay",
          "Mandalay",
          "Mandalay",
          "Mandalay",
          "Mandalay",
          "Mandalay",
          "Mandalay",
          "Mandalay",
          "Mandalay",
          "Mandalay",
          "Mandalay",
          "Mandalay",
          "Mandalay",
          "Mandalay",
          "Mandalay",
          "Mandalay",
          "Mandalay",
          "Mandalay",
          "Mandalay",
          "Mandalay",
          "Mandalay",
          "Mandalay",
          "Mandalay",
          "Mandalay",
          "Mandalay",
          "Mandalay",
          "Mandalay",
          "Mandalay",
          "Mandalay",
          "Mandalay",
          "Mandalay",
          "Mandalay",
          "Mandalay",
          "Mandalay",
          "Mandalay",
          "Mandalay",
          "Mandalay",
          "Mandalay",
          "Mandalay",
          "Mandalay",
          "Mandalay",
          "Mandalay",
          "Mandalay",
          "Mandalay",
          "Mandalay",
          "Mandalay",
          "Mandalay",
          "Mandalay",
          "Mandalay",
          "Mandalay",
          "Mandalay",
          "Mandalay",
          "Mandalay",
          "Mandalay",
          "Mandalay",
          "Mandalay",
          "Mandalay",
          "Mandalay",
          "Mandalay",
          "Mandalay",
          "Mandalay",
          "Mandalay",
          "Mandalay",
          "Mandalay",
          "Mandalay",
          "Mandalay",
          "Mandalay",
          "Mandalay",
          "Mandalay",
          "Mandalay",
          "Mandalay",
          "Mandalay",
          "Mandalay",
          "Mandalay",
          "Mandalay",
          "Mandalay",
          "Mandalay",
          "Mandalay",
          "Mandalay",
          "Mandalay",
          "Mandalay",
          "Mandalay",
          "Mandalay",
          "Mandalay",
          "Mandalay",
          "Mandalay",
          "Mandalay",
          "Mandalay",
          "Mandalay",
          "Mandalay",
          "Mandalay",
          "Mandalay",
          "Mandalay",
          "Mandalay",
          "Mandalay",
          "Mandalay",
          "Mandalay",
          "Mandalay",
          "Mandalay",
          "Mandalay",
          "Mandalay",
          "Mandalay",
          "Mandalay",
          "Mandalay",
          "Mandalay",
          "Mandalay",
          "Mandalay",
          "Mandalay",
          "Mandalay",
          "Mandalay",
          "Mandalay",
          "Mandalay",
          "Mandalay",
          "Mandalay",
          "Mandalay",
          "Mandalay",
          "Mandalay",
          "Mandalay",
          "Mandalay",
          "Mandalay",
          "Mandalay",
          "Mandalay",
          "Mandalay",
          "Mandalay",
          "Mandalay",
          "Mandalay",
          "Mandalay",
          "Mandalay",
          "Mandalay",
          "Mandalay",
          "Mandalay",
          "Mandalay",
          "Mandalay",
          "Mandalay",
          "Mandalay",
          "Mandalay",
          "Mandalay",
          "Mandalay",
          "Mandalay",
          "Mandalay",
          "Mandalay",
          "Mandalay",
          "Mandalay",
          "Mandalay",
          "Mandalay",
          "Mandalay",
          "Mandalay",
          "Mandalay",
          "Mandalay",
          "Mandalay",
          "Mandalay",
          "Mandalay",
          "Mandalay",
          "Mandalay",
          "Mandalay",
          "Mandalay",
          "Mandalay",
          "Mandalay",
          "Mandalay",
          "Mandalay",
          "Mandalay",
          "Mandalay",
          "Mandalay",
          "Mandalay",
          "Mandalay",
          "Mandalay",
          "Mandalay",
          "Mandalay",
          "Mandalay",
          "Mandalay",
          "Mandalay",
          "Mandalay",
          "Mandalay",
          "Mandalay",
          "Mandalay",
          "Mandalay",
          "Mandalay",
          "Mandalay",
          "Mandalay",
          "Mandalay",
          "Mandalay",
          "Mandalay",
          "Mandalay",
          "Mandalay",
          "Mandalay",
          "Mandalay",
          "Mandalay",
          "Mandalay",
          "Mandalay",
          "Mandalay",
          "Mandalay",
          "Mandalay",
          "Mandalay",
          "Mandalay",
          "Mandalay",
          "Mandalay",
          "Mandalay",
          "Mandalay",
          "Mandalay",
          "Mandalay",
          "Mandalay",
          "Mandalay",
          "Mandalay",
          "Mandalay",
          "Mandalay",
          "Mandalay",
          "Mandalay",
          "Mandalay",
          "Mandalay",
          "Mandalay",
          "Mandalay",
          "Mandalay",
          "Mandalay",
          "Mandalay",
          "Mandalay",
          "Mandalay",
          "Mandalay",
          "Mandalay",
          "Mandalay",
          "Mandalay",
          "Mandalay",
          "Mandalay",
          "Mandalay",
          "Mandalay",
          "Mandalay",
          "Mandalay",
          "Mandalay",
          "Mandalay",
          "Mandalay",
          "Mandalay",
          "Mandalay",
          "Mandalay",
          "Mandalay",
          "Mandalay",
          "Mandalay",
          "Mandalay",
          "Mandalay",
          "Mandalay",
          "Mandalay",
          "Mandalay",
          "Mandalay",
          "Mandalay",
          "Mandalay",
          "Mandalay",
          "Mandalay",
          "Mandalay",
          "Mandalay"
         ],
         "legendgroup": "Mandalay",
         "marker": {
          "color": "#00cc96",
          "pattern": {
           "shape": ""
          }
         },
         "name": "Mandalay",
         "offsetgroup": "Mandalay",
         "orientation": "v",
         "showlegend": true,
         "textposition": "auto",
         "type": "bar",
         "x": [
          "Female",
          "Female",
          "Male",
          "Female",
          "Female",
          "Male",
          "Male",
          "Male",
          "Female",
          "Male",
          "Male",
          "Male",
          "Male",
          "Female",
          "Female",
          "Female",
          "Male",
          "Female",
          "Male",
          "Female",
          "Male",
          "Female",
          "Male",
          "Female",
          "Female",
          "Female",
          "Female",
          "Male",
          "Male",
          "Male",
          "Male",
          "Female",
          "Female",
          "Male",
          "Male",
          "Male",
          "Male",
          "Female",
          "Female",
          "Female",
          "Female",
          "Male",
          "Male",
          "Male",
          "Female",
          "Male",
          "Male",
          "Male",
          "Male",
          "Male",
          "Male",
          "Male",
          "Male",
          "Male",
          "Male",
          "Female",
          "Male",
          "Female",
          "Female",
          "Male",
          "Female",
          "Male",
          "Male",
          "Female",
          "Female",
          "Male",
          "Male",
          "Female",
          "Female",
          "Male",
          "Female",
          "Male",
          "Male",
          "Male",
          "Female",
          "Female",
          "Female",
          "Female",
          "Male",
          "Female",
          "Male",
          "Female",
          "Male",
          "Male",
          "Male",
          "Female",
          "Male",
          "Female",
          "Female",
          "Female",
          "Male",
          "Male",
          "Female",
          "Male",
          "Male",
          "Male",
          "Female",
          "Male",
          "Male",
          "Male",
          "Male",
          "Female",
          "Female",
          "Male",
          "Female",
          "Female",
          "Female",
          "Female",
          "Male",
          "Female",
          "Male",
          "Male",
          "Female",
          "Female",
          "Female",
          "Female",
          "Female",
          "Male",
          "Male",
          "Female",
          "Male",
          "Female",
          "Male",
          "Female",
          "Female",
          "Female",
          "Male",
          "Male",
          "Female",
          "Male",
          "Male",
          "Female",
          "Male",
          "Male",
          "Male",
          "Female",
          "Female",
          "Female",
          "Female",
          "Female",
          "Female",
          "Male",
          "Female",
          "Female",
          "Male",
          "Female",
          "Male",
          "Male",
          "Male",
          "Male",
          "Female",
          "Female",
          "Female",
          "Female",
          "Female",
          "Male",
          "Male",
          "Female",
          "Male",
          "Female",
          "Male",
          "Female",
          "Female",
          "Male",
          "Female",
          "Male",
          "Female",
          "Male",
          "Male",
          "Female",
          "Male",
          "Female",
          "Female",
          "Female",
          "Male",
          "Female",
          "Male",
          "Female",
          "Female",
          "Male",
          "Female",
          "Male",
          "Female",
          "Male",
          "Female",
          "Female",
          "Male",
          "Male",
          "Male",
          "Male",
          "Male",
          "Female",
          "Male",
          "Male",
          "Male",
          "Female",
          "Male",
          "Male",
          "Male",
          "Male",
          "Female",
          "Female",
          "Male",
          "Female",
          "Male",
          "Male",
          "Male",
          "Male",
          "Female",
          "Male",
          "Female",
          "Male",
          "Male",
          "Male",
          "Female",
          "Male",
          "Male",
          "Female",
          "Female",
          "Male",
          "Female",
          "Female",
          "Male",
          "Female",
          "Male",
          "Female",
          "Female",
          "Female",
          "Female",
          "Female",
          "Female",
          "Male",
          "Male",
          "Female",
          "Male",
          "Female",
          "Male",
          "Female",
          "Female",
          "Female",
          "Male",
          "Male",
          "Male",
          "Female",
          "Male",
          "Male",
          "Male",
          "Male",
          "Female",
          "Female",
          "Male",
          "Female",
          "Female",
          "Male",
          "Female",
          "Male",
          "Female",
          "Female",
          "Female",
          "Male",
          "Male",
          "Female",
          "Male",
          "Male",
          "Male",
          "Female",
          "Female",
          "Male",
          "Female",
          "Male",
          "Male",
          "Male",
          "Female",
          "Female",
          "Male",
          "Female",
          "Female",
          "Male",
          "Male",
          "Female",
          "Female",
          "Male",
          "Male",
          "Female",
          "Female",
          "Male",
          "Female",
          "Male",
          "Female",
          "Female",
          "Male",
          "Female",
          "Male",
          "Male",
          "Male",
          "Male",
          "Female",
          "Female",
          "Female",
          "Male",
          "Female",
          "Male",
          "Female",
          "Female",
          "Male",
          "Female",
          "Male",
          "Male",
          "Female",
          "Male",
          "Female",
          "Male",
          "Female",
          "Female",
          "Male",
          "Male",
          "Male",
          "Female",
          "Female",
          "Female",
          "Male",
          "Male",
          "Male",
          "Female",
          "Female",
          "Female",
          "Female",
          "Male",
          "Male",
          "Female",
          "Male",
          "Female"
         ],
         "xaxis": "x",
         "y": [
          "692-92-5582",
          "351-62-0822",
          "529-56-3974",
          "299-46-1805",
          "319-50-3348",
          "371-85-5789",
          "273-16-6619",
          "649-29-6775",
          "145-94-9061",
          "871-79-8483",
          "149-71-6266",
          "640-49-2076",
          "777-82-7220",
          "280-35-5823",
          "354-25-5821",
          "132-32-9879",
          "370-41-7321",
          "727-46-3608",
          "669-54-1719",
          "616-24-2851",
          "242-55-6721",
          "347-34-2234",
          "853-23-2453",
          "109-28-2512",
          "510-95-6347",
          "847-38-7188",
          "318-68-5053",
          "152-08-9985",
          "766-85-7061",
          "733-01-9107",
          "716-39-1409",
          "479-26-8945",
          "227-78-1148",
          "291-32-1427",
          "659-65-8956",
          "378-24-2715",
          "219-22-9386",
          "268-27-6179",
          "549-84-7482",
          "191-10-6171",
          "695-51-0018",
          "590-83-4591",
          "241-72-9525",
          "262-47-2794",
          "608-96-3517",
          "279-74-2924",
          "307-85-2293",
          "743-04-1105",
          "423-57-2993",
          "548-46-9322",
          "505-02-0892",
          "316-55-4634",
          "608-27-6295",
          "414-12-7047",
          "895-66-0685",
          "305-14-0245",
          "732-04-5373",
          "284-34-9626",
          "437-58-8131",
          "641-43-2399",
          "542-41-0513",
          "875-46-5808",
          "394-43-4238",
          "573-58-9734",
          "817-69-8206",
          "142-63-6033",
          "656-16-1063",
          "891-58-8335",
          "560-30-5617",
          "549-03-9315",
          "790-29-1172",
          "239-36-3640",
          "468-01-2051",
          "836-82-5858",
          "466-61-5506",
          "289-65-5721",
          "545-46-3100",
          "418-02-5978",
          "269-04-5750",
          "346-84-3103",
          "376-02-8238",
          "866-05-7563",
          "785-13-7708",
          "845-51-0542",
          "110-48-7033",
          "655-85-5130",
          "154-74-7179",
          "571-94-0759",
          "783-09-1637",
          "477-24-6490",
          "566-19-5475",
          "498-41-1961",
          "283-79-9594",
          "139-20-0155",
          "585-03-5943",
          "573-10-3877",
          "396-90-2219",
          "532-59-7201",
          "276-54-0879",
          "730-61-8757",
          "868-81-1752",
          "692-27-8933",
          "374-17-3652",
          "378-07-7001",
          "433-75-6987",
          "873-95-4984",
          "400-45-1220",
          "115-99-4379",
          "565-67-6697",
          "889-04-9723",
          "453-63-6187",
          "578-80-7669",
          "201-86-2184",
          "261-12-8671",
          "843-01-4703",
          "182-69-8360",
          "868-52-7573",
          "525-88-7307",
          "596-42-3999",
          "173-82-9529",
          "760-54-1821",
          "793-10-3222",
          "346-12-3257",
          "831-64-0259",
          "725-32-9708",
          "244-08-0162",
          "569-71-4390",
          "268-03-6164",
          "848-07-1692",
          "301-81-8610",
          "198-84-7132",
          "650-98-6268",
          "741-73-3559",
          "286-75-7818",
          "616-87-0016",
          "837-55-7229",
          "394-30-3170",
          "390-80-5128",
          "296-11-7041",
          "449-27-2918",
          "891-01-7034",
          "744-09-5786",
          "767-54-1907",
          "710-46-4433",
          "533-33-5337",
          "234-03-4040",
          "554-53-3790",
          "731-59-7531",
          "701-69-8742",
          "305-18-3552",
          "438-01-4015",
          "709-58-4068",
          "627-95-3243",
          "686-41-0932",
          "608-04-3797",
          "437-53-3084",
          "632-32-4574",
          "401-18-8016",
          "277-63-2961",
          "282-35-2475",
          "511-54-3087",
          "387-49-4215",
          "862-17-9201",
          "291-21-5991",
          "347-72-6115",
          "425-85-2085",
          "734-91-1155",
          "286-62-6248",
          "339-38-9982",
          "827-44-5872",
          "857-67-9057",
          "339-12-4827",
          "173-50-1108",
          "841-18-8232",
          "701-23-5550",
          "539-21-7227",
          "747-58-7183",
          "582-52-8065",
          "210-57-1719",
          "356-44-8813",
          "198-66-9832",
          "174-75-0888",
          "134-54-4720",
          "514-37-2845",
          "241-11-2261",
          "834-83-1826",
          "343-61-3544",
          "355-34-6244",
          "339-96-8318",
          "458-61-0011",
          "207-73-1363",
          "359-90-3665",
          "375-72-3056",
          "585-11-6748",
          "470-31-3286",
          "642-30-6693",
          "830-58-2383",
          "349-97-8902",
          "789-23-8625",
          "327-40-9673",
          "670-79-6321",
          "852-62-7105",
          "598-06-7312",
          "135-13-8269",
          "628-90-8624",
          "420-04-7590",
          "182-88-2763",
          "188-55-0967",
          "364-33-8584",
          "665-63-9737",
          "695-09-5146",
          "794-32-2436",
          "574-31-8277",
          "369-82-2676",
          "563-47-4072",
          "149-15-7606",
          "133-77-3154",
          "322-02-2271",
          "725-67-2480",
          "779-42-2410",
          "190-14-3147",
          "679-22-6530",
          "642-61-4706",
          "576-31-4774",
          "242-11-3142",
          "752-23-3760",
          "528-87-5606",
          "320-85-2052",
          "510-79-0415",
          "241-96-5076",
          "767-97-4650",
          "826-58-8051",
          "176-64-7711",
          "191-29-0321",
          "729-06-2010",
          "640-48-5028",
          "186-79-9562",
          "834-45-5519",
          "821-14-9046",
          "418-05-0656",
          "776-68-1096",
          "434-35-9162",
          "174-64-0215",
          "299-29-0180",
          "438-23-1242",
          "238-45-6950",
          "197-77-7132",
          "457-13-1708",
          "487-79-6868",
          "210-30-7976",
          "775-72-1988",
          "785-96-0615",
          "842-40-8179",
          "525-09-8450",
          "593-14-4239",
          "388-76-2555",
          "711-31-1234",
          "707-32-7409",
          "120-54-2248",
          "875-31-8302",
          "457-94-0464",
          "744-16-7898",
          "605-83-1050",
          "359-94-5395",
          "751-15-6198",
          "831-81-6575",
          "559-61-5987",
          "565-91-4567",
          "499-27-7781",
          "869-11-3082",
          "190-59-3964",
          "366-43-6862",
          "109-86-4363",
          "222-42-0244",
          "636-17-0325",
          "343-75-9322",
          "427-45-9297",
          "670-71-7306",
          "291-59-1384",
          "866-70-2814",
          "895-03-6665",
          "770-42-8960",
          "234-36-2483",
          "152-03-4217",
          "533-66-5566",
          "361-59-0574",
          "544-55-9589",
          "608-05-3804",
          "761-49-0439",
          "490-95-0021",
          "311-13-6971",
          "114-35-5271",
          "715-20-1673",
          "811-35-1094",
          "699-88-1972",
          "509-10-0516",
          "851-98-3555",
          "624-01-8356",
          "313-66-9943",
          "777-67-2495",
          "636-98-3364",
          "448-34-8700",
          "181-82-6255",
          "226-34-0034",
          "321-49-7382",
          "431-66-2305",
          "825-94-5922",
          "641-62-7288",
          "501-61-1753",
          "676-10-2200",
          "365-16-4334",
          "503-21-4385",
          "305-89-2768",
          "574-80-1489",
          "200-40-6154",
          "430-02-3888",
          "794-42-3736",
          "172-42-8274",
          "214-30-2776",
          "746-04-1077",
          "452-04-8808",
          "883-69-1285",
          "518-71-6847",
          "156-20-0370",
          "151-33-7434",
          "374-38-5555",
          "764-44-8999",
          "552-44-5977",
          "430-53-4718",
          "602-16-6955",
          "690-01-6631",
          "303-96-2227"
         ],
         "yaxis": "y"
        }
       ],
       "layout": {
        "barmode": "relative",
        "legend": {
         "title": {
          "text": "City"
         },
         "tracegroupgap": 0
        },
        "margin": {
         "t": 60
        },
        "paper_bgcolor": "rgba(0, 0, 0, 0)",
        "plot_bgcolor": "rgba(0, 0, 0, 0)",
        "template": {
         "data": {
          "bar": [
           {
            "error_x": {
             "color": "#2a3f5f"
            },
            "error_y": {
             "color": "#2a3f5f"
            },
            "marker": {
             "line": {
              "color": "#E5ECF6",
              "width": 0.5
             },
             "pattern": {
              "fillmode": "overlay",
              "size": 10,
              "solidity": 0.2
             }
            },
            "type": "bar"
           }
          ],
          "barpolar": [
           {
            "marker": {
             "line": {
              "color": "#E5ECF6",
              "width": 0.5
             },
             "pattern": {
              "fillmode": "overlay",
              "size": 10,
              "solidity": 0.2
             }
            },
            "type": "barpolar"
           }
          ],
          "carpet": [
           {
            "aaxis": {
             "endlinecolor": "#2a3f5f",
             "gridcolor": "white",
             "linecolor": "white",
             "minorgridcolor": "white",
             "startlinecolor": "#2a3f5f"
            },
            "baxis": {
             "endlinecolor": "#2a3f5f",
             "gridcolor": "white",
             "linecolor": "white",
             "minorgridcolor": "white",
             "startlinecolor": "#2a3f5f"
            },
            "type": "carpet"
           }
          ],
          "choropleth": [
           {
            "colorbar": {
             "outlinewidth": 0,
             "ticks": ""
            },
            "type": "choropleth"
           }
          ],
          "contour": [
           {
            "colorbar": {
             "outlinewidth": 0,
             "ticks": ""
            },
            "colorscale": [
             [
              0,
              "#0d0887"
             ],
             [
              0.1111111111111111,
              "#46039f"
             ],
             [
              0.2222222222222222,
              "#7201a8"
             ],
             [
              0.3333333333333333,
              "#9c179e"
             ],
             [
              0.4444444444444444,
              "#bd3786"
             ],
             [
              0.5555555555555556,
              "#d8576b"
             ],
             [
              0.6666666666666666,
              "#ed7953"
             ],
             [
              0.7777777777777778,
              "#fb9f3a"
             ],
             [
              0.8888888888888888,
              "#fdca26"
             ],
             [
              1,
              "#f0f921"
             ]
            ],
            "type": "contour"
           }
          ],
          "contourcarpet": [
           {
            "colorbar": {
             "outlinewidth": 0,
             "ticks": ""
            },
            "type": "contourcarpet"
           }
          ],
          "heatmap": [
           {
            "colorbar": {
             "outlinewidth": 0,
             "ticks": ""
            },
            "colorscale": [
             [
              0,
              "#0d0887"
             ],
             [
              0.1111111111111111,
              "#46039f"
             ],
             [
              0.2222222222222222,
              "#7201a8"
             ],
             [
              0.3333333333333333,
              "#9c179e"
             ],
             [
              0.4444444444444444,
              "#bd3786"
             ],
             [
              0.5555555555555556,
              "#d8576b"
             ],
             [
              0.6666666666666666,
              "#ed7953"
             ],
             [
              0.7777777777777778,
              "#fb9f3a"
             ],
             [
              0.8888888888888888,
              "#fdca26"
             ],
             [
              1,
              "#f0f921"
             ]
            ],
            "type": "heatmap"
           }
          ],
          "heatmapgl": [
           {
            "colorbar": {
             "outlinewidth": 0,
             "ticks": ""
            },
            "colorscale": [
             [
              0,
              "#0d0887"
             ],
             [
              0.1111111111111111,
              "#46039f"
             ],
             [
              0.2222222222222222,
              "#7201a8"
             ],
             [
              0.3333333333333333,
              "#9c179e"
             ],
             [
              0.4444444444444444,
              "#bd3786"
             ],
             [
              0.5555555555555556,
              "#d8576b"
             ],
             [
              0.6666666666666666,
              "#ed7953"
             ],
             [
              0.7777777777777778,
              "#fb9f3a"
             ],
             [
              0.8888888888888888,
              "#fdca26"
             ],
             [
              1,
              "#f0f921"
             ]
            ],
            "type": "heatmapgl"
           }
          ],
          "histogram": [
           {
            "marker": {
             "pattern": {
              "fillmode": "overlay",
              "size": 10,
              "solidity": 0.2
             }
            },
            "type": "histogram"
           }
          ],
          "histogram2d": [
           {
            "colorbar": {
             "outlinewidth": 0,
             "ticks": ""
            },
            "colorscale": [
             [
              0,
              "#0d0887"
             ],
             [
              0.1111111111111111,
              "#46039f"
             ],
             [
              0.2222222222222222,
              "#7201a8"
             ],
             [
              0.3333333333333333,
              "#9c179e"
             ],
             [
              0.4444444444444444,
              "#bd3786"
             ],
             [
              0.5555555555555556,
              "#d8576b"
             ],
             [
              0.6666666666666666,
              "#ed7953"
             ],
             [
              0.7777777777777778,
              "#fb9f3a"
             ],
             [
              0.8888888888888888,
              "#fdca26"
             ],
             [
              1,
              "#f0f921"
             ]
            ],
            "type": "histogram2d"
           }
          ],
          "histogram2dcontour": [
           {
            "colorbar": {
             "outlinewidth": 0,
             "ticks": ""
            },
            "colorscale": [
             [
              0,
              "#0d0887"
             ],
             [
              0.1111111111111111,
              "#46039f"
             ],
             [
              0.2222222222222222,
              "#7201a8"
             ],
             [
              0.3333333333333333,
              "#9c179e"
             ],
             [
              0.4444444444444444,
              "#bd3786"
             ],
             [
              0.5555555555555556,
              "#d8576b"
             ],
             [
              0.6666666666666666,
              "#ed7953"
             ],
             [
              0.7777777777777778,
              "#fb9f3a"
             ],
             [
              0.8888888888888888,
              "#fdca26"
             ],
             [
              1,
              "#f0f921"
             ]
            ],
            "type": "histogram2dcontour"
           }
          ],
          "mesh3d": [
           {
            "colorbar": {
             "outlinewidth": 0,
             "ticks": ""
            },
            "type": "mesh3d"
           }
          ],
          "parcoords": [
           {
            "line": {
             "colorbar": {
              "outlinewidth": 0,
              "ticks": ""
             }
            },
            "type": "parcoords"
           }
          ],
          "pie": [
           {
            "automargin": true,
            "type": "pie"
           }
          ],
          "scatter": [
           {
            "fillpattern": {
             "fillmode": "overlay",
             "size": 10,
             "solidity": 0.2
            },
            "type": "scatter"
           }
          ],
          "scatter3d": [
           {
            "line": {
             "colorbar": {
              "outlinewidth": 0,
              "ticks": ""
             }
            },
            "marker": {
             "colorbar": {
              "outlinewidth": 0,
              "ticks": ""
             }
            },
            "type": "scatter3d"
           }
          ],
          "scattercarpet": [
           {
            "marker": {
             "colorbar": {
              "outlinewidth": 0,
              "ticks": ""
             }
            },
            "type": "scattercarpet"
           }
          ],
          "scattergeo": [
           {
            "marker": {
             "colorbar": {
              "outlinewidth": 0,
              "ticks": ""
             }
            },
            "type": "scattergeo"
           }
          ],
          "scattergl": [
           {
            "marker": {
             "colorbar": {
              "outlinewidth": 0,
              "ticks": ""
             }
            },
            "type": "scattergl"
           }
          ],
          "scattermapbox": [
           {
            "marker": {
             "colorbar": {
              "outlinewidth": 0,
              "ticks": ""
             }
            },
            "type": "scattermapbox"
           }
          ],
          "scatterpolar": [
           {
            "marker": {
             "colorbar": {
              "outlinewidth": 0,
              "ticks": ""
             }
            },
            "type": "scatterpolar"
           }
          ],
          "scatterpolargl": [
           {
            "marker": {
             "colorbar": {
              "outlinewidth": 0,
              "ticks": ""
             }
            },
            "type": "scatterpolargl"
           }
          ],
          "scatterternary": [
           {
            "marker": {
             "colorbar": {
              "outlinewidth": 0,
              "ticks": ""
             }
            },
            "type": "scatterternary"
           }
          ],
          "surface": [
           {
            "colorbar": {
             "outlinewidth": 0,
             "ticks": ""
            },
            "colorscale": [
             [
              0,
              "#0d0887"
             ],
             [
              0.1111111111111111,
              "#46039f"
             ],
             [
              0.2222222222222222,
              "#7201a8"
             ],
             [
              0.3333333333333333,
              "#9c179e"
             ],
             [
              0.4444444444444444,
              "#bd3786"
             ],
             [
              0.5555555555555556,
              "#d8576b"
             ],
             [
              0.6666666666666666,
              "#ed7953"
             ],
             [
              0.7777777777777778,
              "#fb9f3a"
             ],
             [
              0.8888888888888888,
              "#fdca26"
             ],
             [
              1,
              "#f0f921"
             ]
            ],
            "type": "surface"
           }
          ],
          "table": [
           {
            "cells": {
             "fill": {
              "color": "#EBF0F8"
             },
             "line": {
              "color": "white"
             }
            },
            "header": {
             "fill": {
              "color": "#C8D4E3"
             },
             "line": {
              "color": "white"
             }
            },
            "type": "table"
           }
          ]
         },
         "layout": {
          "annotationdefaults": {
           "arrowcolor": "#2a3f5f",
           "arrowhead": 0,
           "arrowwidth": 1
          },
          "autotypenumbers": "strict",
          "coloraxis": {
           "colorbar": {
            "outlinewidth": 0,
            "ticks": ""
           }
          },
          "colorscale": {
           "diverging": [
            [
             0,
             "#8e0152"
            ],
            [
             0.1,
             "#c51b7d"
            ],
            [
             0.2,
             "#de77ae"
            ],
            [
             0.3,
             "#f1b6da"
            ],
            [
             0.4,
             "#fde0ef"
            ],
            [
             0.5,
             "#f7f7f7"
            ],
            [
             0.6,
             "#e6f5d0"
            ],
            [
             0.7,
             "#b8e186"
            ],
            [
             0.8,
             "#7fbc41"
            ],
            [
             0.9,
             "#4d9221"
            ],
            [
             1,
             "#276419"
            ]
           ],
           "sequential": [
            [
             0,
             "#0d0887"
            ],
            [
             0.1111111111111111,
             "#46039f"
            ],
            [
             0.2222222222222222,
             "#7201a8"
            ],
            [
             0.3333333333333333,
             "#9c179e"
            ],
            [
             0.4444444444444444,
             "#bd3786"
            ],
            [
             0.5555555555555556,
             "#d8576b"
            ],
            [
             0.6666666666666666,
             "#ed7953"
            ],
            [
             0.7777777777777778,
             "#fb9f3a"
            ],
            [
             0.8888888888888888,
             "#fdca26"
            ],
            [
             1,
             "#f0f921"
            ]
           ],
           "sequentialminus": [
            [
             0,
             "#0d0887"
            ],
            [
             0.1111111111111111,
             "#46039f"
            ],
            [
             0.2222222222222222,
             "#7201a8"
            ],
            [
             0.3333333333333333,
             "#9c179e"
            ],
            [
             0.4444444444444444,
             "#bd3786"
            ],
            [
             0.5555555555555556,
             "#d8576b"
            ],
            [
             0.6666666666666666,
             "#ed7953"
            ],
            [
             0.7777777777777778,
             "#fb9f3a"
            ],
            [
             0.8888888888888888,
             "#fdca26"
            ],
            [
             1,
             "#f0f921"
            ]
           ]
          },
          "colorway": [
           "#636efa",
           "#EF553B",
           "#00cc96",
           "#ab63fa",
           "#FFA15A",
           "#19d3f3",
           "#FF6692",
           "#B6E880",
           "#FF97FF",
           "#FECB52"
          ],
          "font": {
           "color": "#2a3f5f"
          },
          "geo": {
           "bgcolor": "white",
           "lakecolor": "white",
           "landcolor": "#E5ECF6",
           "showlakes": true,
           "showland": true,
           "subunitcolor": "white"
          },
          "hoverlabel": {
           "align": "left"
          },
          "hovermode": "closest",
          "mapbox": {
           "style": "light"
          },
          "paper_bgcolor": "white",
          "plot_bgcolor": "#E5ECF6",
          "polar": {
           "angularaxis": {
            "gridcolor": "white",
            "linecolor": "white",
            "ticks": ""
           },
           "bgcolor": "#E5ECF6",
           "radialaxis": {
            "gridcolor": "white",
            "linecolor": "white",
            "ticks": ""
           }
          },
          "scene": {
           "xaxis": {
            "backgroundcolor": "#E5ECF6",
            "gridcolor": "white",
            "gridwidth": 2,
            "linecolor": "white",
            "showbackground": true,
            "ticks": "",
            "zerolinecolor": "white"
           },
           "yaxis": {
            "backgroundcolor": "#E5ECF6",
            "gridcolor": "white",
            "gridwidth": 2,
            "linecolor": "white",
            "showbackground": true,
            "ticks": "",
            "zerolinecolor": "white"
           },
           "zaxis": {
            "backgroundcolor": "#E5ECF6",
            "gridcolor": "white",
            "gridwidth": 2,
            "linecolor": "white",
            "showbackground": true,
            "ticks": "",
            "zerolinecolor": "white"
           }
          },
          "shapedefaults": {
           "line": {
            "color": "#2a3f5f"
           }
          },
          "ternary": {
           "aaxis": {
            "gridcolor": "white",
            "linecolor": "white",
            "ticks": ""
           },
           "baxis": {
            "gridcolor": "white",
            "linecolor": "white",
            "ticks": ""
           },
           "bgcolor": "#E5ECF6",
           "caxis": {
            "gridcolor": "white",
            "linecolor": "white",
            "ticks": ""
           }
          },
          "title": {
           "x": 0.05
          },
          "xaxis": {
           "automargin": true,
           "gridcolor": "white",
           "linecolor": "white",
           "ticks": "",
           "title": {
            "standoff": 15
           },
           "zerolinecolor": "white",
           "zerolinewidth": 2
          },
          "yaxis": {
           "automargin": true,
           "gridcolor": "white",
           "linecolor": "white",
           "ticks": "",
           "title": {
            "standoff": 15
           },
           "zerolinecolor": "white",
           "zerolinewidth": 2
          }
         }
        },
        "title": {
         "text": "city with more male shoppers"
        },
        "xaxis": {
         "anchor": "y",
         "domain": [
          0,
          1
         ],
         "title": {
          "text": "Gender"
         }
        },
        "yaxis": {
         "anchor": "x",
         "domain": [
          0,
          1
         ],
         "title": {
          "text": "Invoice ID"
         }
        }
       }
      }
     },
     "metadata": {},
     "output_type": "display_data"
    }
   ],
   "source": [
    "fig = px.bar(sales, x = 'Gender', y = 'Invoice ID',\n",
    "                     hover_name = 'City',color = 'City')\n",
    "\n",
    "fig.update_layout({\n",
    "'plot_bgcolor': 'rgba(0, 0, 0, 0)',\n",
    "'paper_bgcolor': 'rgba(0, 0, 0, 0)',\n",
    "'title': 'city with more male shoppers'})\n",
    "\n",
    "fig.show()"
   ]
  },
  {
   "cell_type": "markdown",
   "id": "f9dda242",
   "metadata": {},
   "source": [
    "2. Who spends more, men or women (in this particular dataframe)?\n"
   ]
  },
  {
   "cell_type": "code",
   "execution_count": 80,
   "id": "6fdc63c9",
   "metadata": {},
   "outputs": [
    {
     "name": "stderr",
     "output_type": "stream",
     "text": [
      "C:\\Users\\dittm\\AppData\\Local\\Temp\\ipykernel_8048\\4244514354.py:3: FutureWarning:\n",
      "\n",
      "The default value of numeric_only in DataFrameGroupBy.sum is deprecated. In a future version, numeric_only will default to False. Either specify numeric_only or select only columns which should be valid for the function.\n",
      "\n"
     ]
    },
    {
     "data": {
      "image/png": "[encoded data removed]",
      "text/plain": [
       "<Figure size 640x480 with 1 Axes>"
      ]
     },
     "metadata": {},
     "output_type": "display_data"
    }
   ],
   "source": [
    "from matplotlib import pyplot as plt\n",
    "\n",
    "whospends = sales.groupby([\"Gender\"]).sum()[\"Total\"]\n",
    "whospends.plot(kind=\"bar\")\n",
    "\n",
    "plt.show()"
   ]
  },
  {
   "cell_type": "code",
   "execution_count": 81,
   "id": "e8165f8d",
   "metadata": {},
   "outputs": [
    {
     "data": {
      "application/vnd.plotly.v1+json": {
       "config": {
        "plotlyServerURL": "https://plot.ly"
       },
       "data": [
        {
         "alignmentgroup": "True",
         "hovertemplate": "<b>%{hovertext}</b><br><br>Gender=%{x}<br>Total=%{y}<extra></extra>",
         "hovertext": [
          "Female",
          "Female",
          "Female",
          "Female",
          "Female",
          "Female",
          "Female",
          "Female",
          "Female",
          "Female",
          "Female",
          "Female",
          "Female",
          "Female",
          "Female",
          "Female",
          "Female",
          "Female",
          "Female",
          "Female",
          "Female",
          "Female",
          "Female",
          "Female",
          "Female",
          "Female",
          "Female",
          "Female",
          "Female",
          "Female",
          "Female",
          "Female",
          "Female",
          "Female",
          "Female",
          "Female",
          "Female",
          "Female",
          "Female",
          "Female",
          "Female",
          "Female",
          "Female",
          "Female",
          "Female",
          "Female",
          "Female",
          "Female",
          "Female",
          "Female",
          "Female",
          "Female",
          "Female",
          "Female",
          "Female",
          "Female",
          "Female",
          "Female",
          "Female",
          "Female",
          "Female",
          "Female",
          "Female",
          "Female",
          "Female",
          "Female",
          "Female",
          "Female",
          "Female",
          "Female",
          "Female",
          "Female",
          "Female",
          "Female",
          "Female",
          "Female",
          "Female",
          "Female",
          "Female",
          "Female",
          "Female",
          "Female",
          "Female",
          "Female",
          "Female",
          "Female",
          "Female",
          "Female",
          "Female",
          "Female",
          "Female",
          "Female",
          "Female",
          "Female",
          "Female",
          "Female",
          "Female",
          "Female",
          "Female",
          "Female",
          "Female",
          "Female",
          "Female",
          "Female",
          "Female",
          "Female",
          "Female",
          "Female",
          "Female",
          "Female",
          "Female",
          "Female",
          "Female",
          "Female",
          "Female",
          "Female",
          "Female",
          "Female",
          "Female",
          "Female",
          "Female",
          "Female",
          "Female",
          "Female",
          "Female",
          "Female",
          "Female",
          "Female",
          "Female",
          "Female",
          "Female",
          "Female",
          "Female",
          "Female",
          "Female",
          "Female",
          "Female",
          "Female",
          "Female",
          "Female",
          "Female",
          "Female",
          "Female",
          "Female",
          "Female",
          "Female",
          "Female",
          "Female",
          "Female",
          "Female",
          "Female",
          "Female",
          "Female",
          "Female",
          "Female",
          "Female",
          "Female",
          "Female",
          "Female",
          "Female",
          "Female",
          "Female",
          "Female",
          "Female",
          "Female",
          "Female",
          "Female",
          "Female",
          "Female",
          "Female",
          "Female",
          "Female",
          "Female",
          "Female",
          "Female",
          "Female",
          "Female",
          "Female",
          "Female",
          "Female",
          "Female",
          "Female",
          "Female",
          "Female",
          "Female",
          "Female",
          "Female",
          "Female",
          "Female",
          "Female",
          "Female",
          "Female",
          "Female",
          "Female",
          "Female",
          "Female",
          "Female",
          "Female",
          "Female",
          "Female",
          "Female",
          "Female",
          "Female",
          "Female",
          "Female",
          "Female",
          "Female",
          "Female",
          "Female",
          "Female",
          "Female",
          "Female",
          "Female",
          "Female",
          "Female",
          "Female",
          "Female",
          "Female",
          "Female",
          "Female",
          "Female",
          "Female",
          "Female",
          "Female",
          "Female",
          "Female",
          "Female",
          "Female",
          "Female",
          "Female",
          "Female",
          "Female",
          "Female",
          "Female",
          "Female",
          "Female",
          "Female",
          "Female",
          "Female",
          "Female",
          "Female",
          "Female",
          "Female",
          "Female",
          "Female",
          "Female",
          "Female",
          "Female",
          "Female",
          "Female",
          "Female",
          "Female",
          "Female",
          "Female",
          "Female",
          "Female",
          "Female",
          "Female",
          "Female",
          "Female",
          "Female",
          "Female",
          "Female",
          "Female",
          "Female",
          "Female",
          "Female",
          "Female",
          "Female",
          "Female",
          "Female",
          "Female",
          "Female",
          "Female",
          "Female",
          "Female",
          "Female",
          "Female",
          "Female",
          "Female",
          "Female",
          "Female",
          "Female",
          "Female",
          "Female",
          "Female",
          "Female",
          "Female",
          "Female",
          "Female",
          "Female",
          "Female",
          "Female",
          "Female",
          "Female",
          "Female",
          "Female",
          "Female",
          "Female",
          "Female",
          "Female",
          "Female",
          "Female",
          "Female",
          "Female",
          "Female",
          "Female",
          "Female",
          "Female",
          "Female",
          "Female",
          "Female",
          "Female",
          "Female",
          "Female",
          "Female",
          "Female",
          "Female",
          "Female",
          "Female",
          "Female",
          "Female",
          "Female",
          "Female",
          "Female",
          "Female",
          "Female",
          "Female",
          "Female",
          "Female",
          "Female",
          "Female",
          "Female",
          "Female",
          "Female",
          "Female",
          "Female",
          "Female",
          "Female",
          "Female",
          "Female",
          "Female",
          "Female",
          "Female",
          "Female",
          "Female",
          "Female",
          "Female",
          "Female",
          "Female",
          "Female",
          "Female",
          "Female",
          "Female",
          "Female",
          "Female",
          "Female",
          "Female",
          "Female",
          "Female",
          "Female",
          "Female",
          "Female",
          "Female",
          "Female",
          "Female",
          "Female",
          "Female",
          "Female",
          "Female",
          "Female",
          "Female",
          "Female",
          "Female",
          "Female",
          "Female",
          "Female",
          "Female",
          "Female",
          "Female",
          "Female",
          "Female",
          "Female",
          "Female",
          "Female",
          "Female",
          "Female",
          "Female",
          "Female",
          "Female",
          "Female",
          "Female",
          "Female",
          "Female",
          "Female",
          "Female",
          "Female",
          "Female",
          "Female",
          "Female",
          "Female",
          "Female",
          "Female",
          "Female",
          "Female",
          "Female",
          "Female",
          "Female",
          "Female",
          "Female",
          "Female",
          "Female",
          "Female",
          "Female",
          "Female",
          "Female",
          "Female",
          "Female",
          "Female",
          "Female",
          "Female",
          "Female",
          "Female",
          "Female",
          "Female",
          "Female",
          "Female",
          "Female",
          "Female",
          "Female",
          "Female",
          "Female",
          "Female",
          "Female",
          "Female",
          "Female",
          "Female",
          "Female",
          "Female",
          "Female",
          "Female",
          "Female",
          "Female",
          "Female",
          "Female",
          "Female",
          "Female",
          "Female",
          "Female",
          "Female",
          "Female",
          "Female",
          "Female",
          "Female",
          "Female",
          "Female",
          "Female",
          "Female",
          "Female",
          "Female",
          "Female",
          "Female",
          "Female",
          "Female",
          "Female",
          "Female",
          "Female",
          "Female",
          "Female",
          "Female",
          "Female",
          "Female",
          "Female",
          "Female",
          "Female",
          "Female",
          "Female",
          "Female",
          "Female",
          "Female",
          "Female",
          "Female",
          "Female",
          "Female",
          "Female",
          "Female",
          "Female",
          "Female",
          "Female",
          "Female",
          "Female",
          "Female",
          "Female",
          "Female",
          "Female",
          "Female",
          "Female"
         ],
         "legendgroup": "Female",
         "marker": {
          "color": "#636efa",
          "pattern": {
           "shape": ""
          }
         },
         "name": "Female",
         "offsetgroup": "Female",
         "orientation": "v",
         "showlegend": true,
         "textposition": "auto",
         "type": "bar",
         "x": [
          "Female",
          "Female",
          "Female",
          "Female",
          "Female",
          "Female",
          "Female",
          "Female",
          "Female",
          "Female",
          "Female",
          "Female",
          "Female",
          "Female",
          "Female",
          "Female",
          "Female",
          "Female",
          "Female",
          "Female",
          "Female",
          "Female",
          "Female",
          "Female",
          "Female",
          "Female",
          "Female",
          "Female",
          "Female",
          "Female",
          "Female",
          "Female",
          "Female",
          "Female",
          "Female",
          "Female",
          "Female",
          "Female",
          "Female",
          "Female",
          "Female",
          "Female",
          "Female",
          "Female",
          "Female",
          "Female",
          "Female",
          "Female",
          "Female",
          "Female",
          "Female",
          "Female",
          "Female",
          "Female",
          "Female",
          "Female",
          "Female",
          "Female",
          "Female",
          "Female",
          "Female",
          "Female",
          "Female",
          "Female",
          "Female",
          "Female",
          "Female",
          "Female",
          "Female",
          "Female",
          "Female",
          "Female",
          "Female",
          "Female",
          "Female",
          "Female",
          "Female",
          "Female",
          "Female",
          "Female",
          "Female",
          "Female",
          "Female",
          "Female",
          "Female",
          "Female",
          "Female",
          "Female",
          "Female",
          "Female",
          "Female",
          "Female",
          "Female",
          "Female",
          "Female",
          "Female",
          "Female",
          "Female",
          "Female",
          "Female",
          "Female",
          "Female",
          "Female",
          "Female",
          "Female",
          "Female",
          "Female",
          "Female",
          "Female",
          "Female",
          "Female",
          "Female",
          "Female",
          "Female",
          "Female",
          "Female",
          "Female",
          "Female",
          "Female",
          "Female",
          "Female",
          "Female",
          "Female",
          "Female",
          "Female",
          "Female",
          "Female",
          "Female",
          "Female",
          "Female",
          "Female",
          "Female",
          "Female",
          "Female",
          "Female",
          "Female",
          "Female",
          "Female",
          "Female",
          "Female",
          "Female",
          "Female",
          "Female",
          "Female",
          "Female",
          "Female",
          "Female",
          "Female",
          "Female",
          "Female",
          "Female",
          "Female",
          "Female",
          "Female",
          "Female",
          "Female",
          "Female",
          "Female",
          "Female",
          "Female",
          "Female",
          "Female",
          "Female",
          "Female",
          "Female",
          "Female",
          "Female",
          "Female",
          "Female",
          "Female",
          "Female",
          "Female",
          "Female",
          "Female",
          "Female",
          "Female",
          "Female",
          "Female",
          "Female",
          "Female",
          "Female",
          "Female",
          "Female",
          "Female",
          "Female",
          "Female",
          "Female",
          "Female",
          "Female",
          "Female",
          "Female",
          "Female",
          "Female",
          "Female",
          "Female",
          "Female",
          "Female",
          "Female",
          "Female",
          "Female",
          "Female",
          "Female",
          "Female",
          "Female",
          "Female",
          "Female",
          "Female",
          "Female",
          "Female",
          "Female",
          "Female",
          "Female",
          "Female",
          "Female",
          "Female",
          "Female",
          "Female",
          "Female",
          "Female",
          "Female",
          "Female",
          "Female",
          "Female",
          "Female",
          "Female",
          "Female",
          "Female",
          "Female",
          "Female",
          "Female",
          "Female",
          "Female",
          "Female",
          "Female",
          "Female",
          "Female",
          "Female",
          "Female",
          "Female",
          "Female",
          "Female",
          "Female",
          "Female",
          "Female",
          "Female",
          "Female",
          "Female",
          "Female",
          "Female",
          "Female",
          "Female",
          "Female",
          "Female",
          "Female",
          "Female",
          "Female",
          "Female",
          "Female",
          "Female",
          "Female",
          "Female",
          "Female",
          "Female",
          "Female",
          "Female",
          "Female",
          "Female",
          "Female",
          "Female",
          "Female",
          "Female",
          "Female",
          "Female",
          "Female",
          "Female",
          "Female",
          "Female",
          "Female",
          "Female",
          "Female",
          "Female",
          "Female",
          "Female",
          "Female",
          "Female",
          "Female",
          "Female",
          "Female",
          "Female",
          "Female",
          "Female",
          "Female",
          "Female",
          "Female",
          "Female",
          "Female",
          "Female",
          "Female",
          "Female",
          "Female",
          "Female",
          "Female",
          "Female",
          "Female",
          "Female",
          "Female",
          "Female",
          "Female",
          "Female",
          "Female",
          "Female",
          "Female",
          "Female",
          "Female",
          "Female",
          "Female",
          "Female",
          "Female",
          "Female",
          "Female",
          "Female",
          "Female",
          "Female",
          "Female",
          "Female",
          "Female",
          "Female",
          "Female",
          "Female",
          "Female",
          "Female",
          "Female",
          "Female",
          "Female",
          "Female",
          "Female",
          "Female",
          "Female",
          "Female",
          "Female",
          "Female",
          "Female",
          "Female",
          "Female",
          "Female",
          "Female",
          "Female",
          "Female",
          "Female",
          "Female",
          "Female",
          "Female",
          "Female",
          "Female",
          "Female",
          "Female",
          "Female",
          "Female",
          "Female",
          "Female",
          "Female",
          "Female",
          "Female",
          "Female",
          "Female",
          "Female",
          "Female",
          "Female",
          "Female",
          "Female",
          "Female",
          "Female",
          "Female",
          "Female",
          "Female",
          "Female",
          "Female",
          "Female",
          "Female",
          "Female",
          "Female",
          "Female",
          "Female",
          "Female",
          "Female",
          "Female",
          "Female",
          "Female",
          "Female",
          "Female",
          "Female",
          "Female",
          "Female",
          "Female",
          "Female",
          "Female",
          "Female",
          "Female",
          "Female",
          "Female",
          "Female",
          "Female",
          "Female",
          "Female",
          "Female",
          "Female",
          "Female",
          "Female",
          "Female",
          "Female",
          "Female",
          "Female",
          "Female",
          "Female",
          "Female",
          "Female",
          "Female",
          "Female",
          "Female",
          "Female",
          "Female",
          "Female",
          "Female",
          "Female",
          "Female",
          "Female",
          "Female",
          "Female",
          "Female",
          "Female",
          "Female",
          "Female",
          "Female",
          "Female",
          "Female",
          "Female",
          "Female",
          "Female",
          "Female",
          "Female",
          "Female",
          "Female",
          "Female",
          "Female",
          "Female",
          "Female",
          "Female",
          "Female",
          "Female",
          "Female",
          "Female",
          "Female",
          "Female",
          "Female",
          "Female",
          "Female",
          "Female",
          "Female",
          "Female",
          "Female",
          "Female",
          "Female",
          "Female",
          "Female",
          "Female",
          "Female",
          "Female",
          "Female",
          "Female",
          "Female",
          "Female",
          "Female",
          "Female",
          "Female",
          "Female",
          "Female",
          "Female",
          "Female",
          "Female",
          "Female",
          "Female",
          "Female",
          "Female",
          "Female",
          "Female",
          "Female",
          "Female",
          "Female",
          "Female",
          "Female",
          "Female",
          "Female",
          "Female",
          "Female",
          "Female",
          "Female",
          "Female"
         ],
         "xaxis": "x",
         "y": [
          80.22,
          433.692,
          772.38,
          76.146,
          172.746,
          60.816,
          246.4875,
          749.49,
          590.436,
          506.6355,
          84.63,
          441.756,
          184.107,
          463.89,
          417.564,
          71.526,
          575.316,
          461.328,
          91.056,
          435.456,
          829.08,
          394.632,
          189.0945,
          867.615,
          234.0975,
          75.054,
          722.232,
          759.675,
          77.931,
          520.4115,
          70.287,
          614.943,
          19.2465,
          152.838,
          478.233,
          437.325,
          189.0945,
          822.255,
          106.995,
          624.897,
          304.542,
          337.512,
          610.491,
          485.037,
          198.996,
          471.03,
          161.553,
          78.435,
          218.0115,
          321.111,
          34.629,
          309.3615,
          535.374,
          763.4655,
          85.113,
          115.08,
          836.304,
          474.348,
          688.6215,
          169.3125,
          299.8485,
          575.736,
          853.146,
          291.207,
          580.419,
          146.328,
          512.19,
          138.1275,
          216.846,
          942.9,
          720.3,
          31.9305,
          491.085,
          291.438,
          316.47,
          384.468,
          103.824,
          680.148,
          362.712,
          165.4485,
          90.699,
          793.716,
          293.202,
          242.676,
          154.392,
          829.71,
          78.0045,
          26.5545,
          374.7975,
          120.645,
          241.458,
          217.6335,
          629.8425,
          299.565,
          95.6655,
          942.4485,
          881.307,
          217.6335,
          130.0425,
          298.116,
          180.621,
          13.167,
          183.036,
          571.41,
          532.728,
          170.877,
          33.3585,
          794.6505,
          195.594,
          232.155,
          69.405,
          256.41,
          30.219,
          709.317,
          69.09,
          160.86,
          233.52,
          723.24,
          783.3,
          373.17,
          354.0075,
          44.352,
          203.553,
          25.263,
          628.173,
          229.11,
          400.764,
          587.664,
          16.107,
          200.214,
          224.4375,
          356.5485,
          697.368,
          65.604,
          76.356,
          272.58,
          93.0405,
          214.998,
          125.664,
          295.6905,
          745.836,
          83.412,
          172.011,
          74.7075,
          146.9475,
          820.365,
          66.402,
          218.0745,
          216.6885,
          41.391,
          324.2925,
          149.3625,
          365.085,
          150.0975,
          404.649,
          411.3795,
          565.215,
          509.4075,
          736.4385,
          749.7,
          141.75,
          1042.65,
          402.2655,
          31.752,
          374.388,
          394.275,
          1002.12,
          793.548,
          173.208,
          343.056,
          484.974,
          150.78,
          193.011,
          128.016,
          441.693,
          352.2225,
          507.675,
          334.341,
          99.33,
          55.881,
          523.3725,
          314.538,
          214.935,
          339.36,
          510.9615,
          253.512,
          398.475,
          548.73,
          83.727,
          406.875,
          284.9175,
          258.678,
          248.409,
          208.6875,
          718.7565,
          288.582,
          237.426,
          125.055,
          359.205,
          190.596,
          85.5855,
          120.162,
          185.367,
          121.59,
          264.7575,
          1020.705,
          65.7405,
          951.825,
          147.798,
          49.812,
          343.224,
          742.812,
          843.0345,
          140.385,
          20.1075,
          28.4235,
          41.076,
          470.673,
          333.9525,
          155.19,
          731.43,
          488.985,
          767.025,
          310.59,
          23.751,
          572.775,
          273.0525,
          103.782,
          527.751,
          168.21,
          338.31,
          174.615,
          344.4,
          388.29,
          207.858,
          431.445,
          734.076,
          72.87,
          206.43,
          212.688,
          127.26,
          132.762,
          568.512,
          103.0365,
          432.768,
          33.495,
          195.951,
          152.775,
          529.515,
          100.485,
          666.939,
          225.2775,
          398.958,
          54.0435,
          143.9865,
          523.971,
          235.872,
          479.9025,
          570.78,
          154.1295,
          148.68,
          77.658,
          306.81,
          551.124,
          84.756,
          74.76,
          308.91,
          270.585,
          416.178,
          513.2295,
          550.368,
          151.284,
          1034.46,
          228.123,
          356.328,
          852.705,
          517.965,
          621.243,
          586.971,
          543.753,
          430.71,
          269.934,
          326.256,
          195.258,
          75.936,
          226.065,
          178.164,
          47.859,
          236.88,
          440.937,
          193.4625,
          147.672,
          68.2395,
          343.413,
          381.3915,
          394.3275,
          209.118,
          30.408,
          935.2665,
          365.904,
          273.798,
          225.792,
          96.1905,
          695.2365,
          874.125,
          165.648,
          12.6945,
          48.51,
          92.5575,
          311.1885,
          743.82,
          609.168,
          32.529,
          351.603,
          49.4235,
          104.6745,
          277.6725,
          146.6325,
          135.3555,
          370.125,
          914.55,
          207.48,
          204.246,
          75.474,
          300.573,
          85.302,
          231.2415,
          477.54,
          470.988,
          308.574,
          41.454,
          36.5505,
          310.716,
          145.404,
          103.11,
          136.143,
          211.365,
          663.2955,
          539.343,
          497.07,
          458.6925,
          113.568,
          507.444,
          207.585,
          835.2855,
          180.6,
          317.226,
          733.6035,
          130.8825,
          187.32,
          110.124,
          187.866,
          856.4535,
          270.2595,
          239.4,
          383.523,
          93.744,
          596.82,
          150.423,
          266.028,
          40.341,
          55.2825,
          116.1405,
          93.744,
          143.22,
          182.91,
          267.3405,
          817.236,
          300.216,
          608.076,
          232.638,
          810.6,
          536.592,
          56.1225,
          801.864,
          239.589,
          401.688,
          72.009,
          401.268,
          631.1445,
          499.7265,
          55.041,
          151.515,
          397.992,
          32.151,
          369.684,
          53.34,
          57.6975,
          1022.385,
          97.881,
          63.9135,
          257.145,
          253.68,
          462.672,
          714.3255,
          325.374,
          195.678,
          210.966,
          18.6375,
          652.89,
          422.73,
          341.0925,
          408.408,
          446.964,
          333.984,
          100.128,
          216.4365,
          441.588,
          92.442,
          681.4395,
          779.31,
          99.54,
          299.3655,
          184.086,
          82.887,
          31.227,
          23.499,
          688.716,
          624.33,
          206.808,
          554.295,
          503.7375,
          345.0195,
          118.902,
          450.1035,
          90.5835,
          106.596,
          375.3645,
          250.7085,
          131.922,
          225.015,
          756.168,
          101.64,
          348.705,
          85.512,
          216.846,
          175.014,
          771.435,
          102.396,
          439.215,
          486.444,
          485.5725,
          423.738,
          145.5825,
          122.472,
          329.196,
          435.12,
          167.034,
          514.605,
          91.8225,
          235.746,
          782.208,
          313.74,
          223.587,
          397.614,
          82.719,
          338.2155,
          103.131,
          26.733,
          611.079,
          221.886,
          57.876,
          374.409,
          833.9625,
          175.035,
          781.62,
          397.845,
          579.8415,
          469.77,
          290.0835,
          360.927,
          479.64,
          690.018,
          222.012,
          68.985,
          263.97,
          88.368,
          312.8895,
          165.9,
          932.337,
          16.275,
          80.367,
          314.685,
          49.77,
          181.0725,
          888.615,
          313.572,
          26.7225,
          71.1585,
          921.186,
          649.299,
          334.4775,
          30.996,
          296.94,
          804.3,
          63.9975,
          1022.49
         ],
         "yaxis": "y"
        },
        {
         "alignmentgroup": "True",
         "hovertemplate": "<b>%{hovertext}</b><br><br>Gender=%{x}<br>Total=%{y}<extra></extra>",
         "hovertext": [
          "Male",
          "Male",
          "Male",
          "Male",
          "Male",
          "Male",
          "Male",
          "Male",
          "Male",
          "Male",
          "Male",
          "Male",
          "Male",
          "Male",
          "Male",
          "Male",
          "Male",
          "Male",
          "Male",
          "Male",
          "Male",
          "Male",
          "Male",
          "Male",
          "Male",
          "Male",
          "Male",
          "Male",
          "Male",
          "Male",
          "Male",
          "Male",
          "Male",
          "Male",
          "Male",
          "Male",
          "Male",
          "Male",
          "Male",
          "Male",
          "Male",
          "Male",
          "Male",
          "Male",
          "Male",
          "Male",
          "Male",
          "Male",
          "Male",
          "Male",
          "Male",
          "Male",
          "Male",
          "Male",
          "Male",
          "Male",
          "Male",
          "Male",
          "Male",
          "Male",
          "Male",
          "Male",
          "Male",
          "Male",
          "Male",
          "Male",
          "Male",
          "Male",
          "Male",
          "Male",
          "Male",
          "Male",
          "Male",
          "Male",
          "Male",
          "Male",
          "Male",
          "Male",
          "Male",
          "Male",
          "Male",
          "Male",
          "Male",
          "Male",
          "Male",
          "Male",
          "Male",
          "Male",
          "Male",
          "Male",
          "Male",
          "Male",
          "Male",
          "Male",
          "Male",
          "Male",
          "Male",
          "Male",
          "Male",
          "Male",
          "Male",
          "Male",
          "Male",
          "Male",
          "Male",
          "Male",
          "Male",
          "Male",
          "Male",
          "Male",
          "Male",
          "Male",
          "Male",
          "Male",
          "Male",
          "Male",
          "Male",
          "Male",
          "Male",
          "Male",
          "Male",
          "Male",
          "Male",
          "Male",
          "Male",
          "Male",
          "Male",
          "Male",
          "Male",
          "Male",
          "Male",
          "Male",
          "Male",
          "Male",
          "Male",
          "Male",
          "Male",
          "Male",
          "Male",
          "Male",
          "Male",
          "Male",
          "Male",
          "Male",
          "Male",
          "Male",
          "Male",
          "Male",
          "Male",
          "Male",
          "Male",
          "Male",
          "Male",
          "Male",
          "Male",
          "Male",
          "Male",
          "Male",
          "Male",
          "Male",
          "Male",
          "Male",
          "Male",
          "Male",
          "Male",
          "Male",
          "Male",
          "Male",
          "Male",
          "Male",
          "Male",
          "Male",
          "Male",
          "Male",
          "Male",
          "Male",
          "Male",
          "Male",
          "Male",
          "Male",
          "Male",
          "Male",
          "Male",
          "Male",
          "Male",
          "Male",
          "Male",
          "Male",
          "Male",
          "Male",
          "Male",
          "Male",
          "Male",
          "Male",
          "Male",
          "Male",
          "Male",
          "Male",
          "Male",
          "Male",
          "Male",
          "Male",
          "Male",
          "Male",
          "Male",
          "Male",
          "Male",
          "Male",
          "Male",
          "Male",
          "Male",
          "Male",
          "Male",
          "Male",
          "Male",
          "Male",
          "Male",
          "Male",
          "Male",
          "Male",
          "Male",
          "Male",
          "Male",
          "Male",
          "Male",
          "Male",
          "Male",
          "Male",
          "Male",
          "Male",
          "Male",
          "Male",
          "Male",
          "Male",
          "Male",
          "Male",
          "Male",
          "Male",
          "Male",
          "Male",
          "Male",
          "Male",
          "Male",
          "Male",
          "Male",
          "Male",
          "Male",
          "Male",
          "Male",
          "Male",
          "Male",
          "Male",
          "Male",
          "Male",
          "Male",
          "Male",
          "Male",
          "Male",
          "Male",
          "Male",
          "Male",
          "Male",
          "Male",
          "Male",
          "Male",
          "Male",
          "Male",
          "Male",
          "Male",
          "Male",
          "Male",
          "Male",
          "Male",
          "Male",
          "Male",
          "Male",
          "Male",
          "Male",
          "Male",
          "Male",
          "Male",
          "Male",
          "Male",
          "Male",
          "Male",
          "Male",
          "Male",
          "Male",
          "Male",
          "Male",
          "Male",
          "Male",
          "Male",
          "Male",
          "Male",
          "Male",
          "Male",
          "Male",
          "Male",
          "Male",
          "Male",
          "Male",
          "Male",
          "Male",
          "Male",
          "Male",
          "Male",
          "Male",
          "Male",
          "Male",
          "Male",
          "Male",
          "Male",
          "Male",
          "Male",
          "Male",
          "Male",
          "Male",
          "Male",
          "Male",
          "Male",
          "Male",
          "Male",
          "Male",
          "Male",
          "Male",
          "Male",
          "Male",
          "Male",
          "Male",
          "Male",
          "Male",
          "Male",
          "Male",
          "Male",
          "Male",
          "Male",
          "Male",
          "Male",
          "Male",
          "Male",
          "Male",
          "Male",
          "Male",
          "Male",
          "Male",
          "Male",
          "Male",
          "Male",
          "Male",
          "Male",
          "Male",
          "Male",
          "Male",
          "Male",
          "Male",
          "Male",
          "Male",
          "Male",
          "Male",
          "Male",
          "Male",
          "Male",
          "Male",
          "Male",
          "Male",
          "Male",
          "Male",
          "Male",
          "Male",
          "Male",
          "Male",
          "Male",
          "Male",
          "Male",
          "Male",
          "Male",
          "Male",
          "Male",
          "Male",
          "Male",
          "Male",
          "Male",
          "Male",
          "Male",
          "Male",
          "Male",
          "Male",
          "Male",
          "Male",
          "Male",
          "Male",
          "Male",
          "Male",
          "Male",
          "Male",
          "Male",
          "Male",
          "Male",
          "Male",
          "Male",
          "Male",
          "Male",
          "Male",
          "Male",
          "Male",
          "Male",
          "Male",
          "Male",
          "Male",
          "Male",
          "Male",
          "Male",
          "Male",
          "Male",
          "Male",
          "Male",
          "Male",
          "Male",
          "Male",
          "Male",
          "Male",
          "Male",
          "Male",
          "Male",
          "Male",
          "Male",
          "Male",
          "Male",
          "Male",
          "Male",
          "Male",
          "Male",
          "Male",
          "Male",
          "Male",
          "Male",
          "Male",
          "Male",
          "Male",
          "Male",
          "Male",
          "Male",
          "Male",
          "Male",
          "Male",
          "Male",
          "Male",
          "Male",
          "Male",
          "Male",
          "Male",
          "Male",
          "Male",
          "Male",
          "Male",
          "Male",
          "Male",
          "Male",
          "Male",
          "Male",
          "Male",
          "Male",
          "Male",
          "Male",
          "Male",
          "Male",
          "Male",
          "Male",
          "Male",
          "Male",
          "Male",
          "Male",
          "Male",
          "Male",
          "Male",
          "Male",
          "Male",
          "Male",
          "Male",
          "Male",
          "Male",
          "Male",
          "Male",
          "Male",
          "Male",
          "Male",
          "Male",
          "Male",
          "Male",
          "Male",
          "Male",
          "Male",
          "Male",
          "Male",
          "Male",
          "Male"
         ],
         "legendgroup": "Male",
         "marker": {
          "color": "#EF553B",
          "pattern": {
           "shape": ""
          }
         },
         "name": "Male",
         "offsetgroup": "Male",
         "orientation": "v",
         "showlegend": true,
         "textposition": "auto",
         "type": "bar",
         "x": [
          "Male",
          "Male",
          "Male",
          "Male",
          "Male",
          "Male",
          "Male",
          "Male",
          "Male",
          "Male",
          "Male",
          "Male",
          "Male",
          "Male",
          "Male",
          "Male",
          "Male",
          "Male",
          "Male",
          "Male",
          "Male",
          "Male",
          "Male",
          "Male",
          "Male",
          "Male",
          "Male",
          "Male",
          "Male",
          "Male",
          "Male",
          "Male",
          "Male",
          "Male",
          "Male",
          "Male",
          "Male",
          "Male",
          "Male",
          "Male",
          "Male",
          "Male",
          "Male",
          "Male",
          "Male",
          "Male",
          "Male",
          "Male",
          "Male",
          "Male",
          "Male",
          "Male",
          "Male",
          "Male",
          "Male",
          "Male",
          "Male",
          "Male",
          "Male",
          "Male",
          "Male",
          "Male",
          "Male",
          "Male",
          "Male",
          "Male",
          "Male",
          "Male",
          "Male",
          "Male",
          "Male",
          "Male",
          "Male",
          "Male",
          "Male",
          "Male",
          "Male",
          "Male",
          "Male",
          "Male",
          "Male",
          "Male",
          "Male",
          "Male",
          "Male",
          "Male",
          "Male",
          "Male",
          "Male",
          "Male",
          "Male",
          "Male",
          "Male",
          "Male",
          "Male",
          "Male",
          "Male",
          "Male",
          "Male",
          "Male",
          "Male",
          "Male",
          "Male",
          "Male",
          "Male",
          "Male",
          "Male",
          "Male",
          "Male",
          "Male",
          "Male",
          "Male",
          "Male",
          "Male",
          "Male",
          "Male",
          "Male",
          "Male",
          "Male",
          "Male",
          "Male",
          "Male",
          "Male",
          "Male",
          "Male",
          "Male",
          "Male",
          "Male",
          "Male",
          "Male",
          "Male",
          "Male",
          "Male",
          "Male",
          "Male",
          "Male",
          "Male",
          "Male",
          "Male",
          "Male",
          "Male",
          "Male",
          "Male",
          "Male",
          "Male",
          "Male",
          "Male",
          "Male",
          "Male",
          "Male",
          "Male",
          "Male",
          "Male",
          "Male",
          "Male",
          "Male",
          "Male",
          "Male",
          "Male",
          "Male",
          "Male",
          "Male",
          "Male",
          "Male",
          "Male",
          "Male",
          "Male",
          "Male",
          "Male",
          "Male",
          "Male",
          "Male",
          "Male",
          "Male",
          "Male",
          "Male",
          "Male",
          "Male",
          "Male",
          "Male",
          "Male",
          "Male",
          "Male",
          "Male",
          "Male",
          "Male",
          "Male",
          "Male",
          "Male",
          "Male",
          "Male",
          "Male",
          "Male",
          "Male",
          "Male",
          "Male",
          "Male",
          "Male",
          "Male",
          "Male",
          "Male",
          "Male",
          "Male",
          "Male",
          "Male",
          "Male",
          "Male",
          "Male",
          "Male",
          "Male",
          "Male",
          "Male",
          "Male",
          "Male",
          "Male",
          "Male",
          "Male",
          "Male",
          "Male",
          "Male",
          "Male",
          "Male",
          "Male",
          "Male",
          "Male",
          "Male",
          "Male",
          "Male",
          "Male",
          "Male",
          "Male",
          "Male",
          "Male",
          "Male",
          "Male",
          "Male",
          "Male",
          "Male",
          "Male",
          "Male",
          "Male",
          "Male",
          "Male",
          "Male",
          "Male",
          "Male",
          "Male",
          "Male",
          "Male",
          "Male",
          "Male",
          "Male",
          "Male",
          "Male",
          "Male",
          "Male",
          "Male",
          "Male",
          "Male",
          "Male",
          "Male",
          "Male",
          "Male",
          "Male",
          "Male",
          "Male",
          "Male",
          "Male",
          "Male",
          "Male",
          "Male",
          "Male",
          "Male",
          "Male",
          "Male",
          "Male",
          "Male",
          "Male",
          "Male",
          "Male",
          "Male",
          "Male",
          "Male",
          "Male",
          "Male",
          "Male",
          "Male",
          "Male",
          "Male",
          "Male",
          "Male",
          "Male",
          "Male",
          "Male",
          "Male",
          "Male",
          "Male",
          "Male",
          "Male",
          "Male",
          "Male",
          "Male",
          "Male",
          "Male",
          "Male",
          "Male",
          "Male",
          "Male",
          "Male",
          "Male",
          "Male",
          "Male",
          "Male",
          "Male",
          "Male",
          "Male",
          "Male",
          "Male",
          "Male",
          "Male",
          "Male",
          "Male",
          "Male",
          "Male",
          "Male",
          "Male",
          "Male",
          "Male",
          "Male",
          "Male",
          "Male",
          "Male",
          "Male",
          "Male",
          "Male",
          "Male",
          "Male",
          "Male",
          "Male",
          "Male",
          "Male",
          "Male",
          "Male",
          "Male",
          "Male",
          "Male",
          "Male",
          "Male",
          "Male",
          "Male",
          "Male",
          "Male",
          "Male",
          "Male",
          "Male",
          "Male",
          "Male",
          "Male",
          "Male",
          "Male",
          "Male",
          "Male",
          "Male",
          "Male",
          "Male",
          "Male",
          "Male",
          "Male",
          "Male",
          "Male",
          "Male",
          "Male",
          "Male",
          "Male",
          "Male",
          "Male",
          "Male",
          "Male",
          "Male",
          "Male",
          "Male",
          "Male",
          "Male",
          "Male",
          "Male",
          "Male",
          "Male",
          "Male",
          "Male",
          "Male",
          "Male",
          "Male",
          "Male",
          "Male",
          "Male",
          "Male",
          "Male",
          "Male",
          "Male",
          "Male",
          "Male",
          "Male",
          "Male",
          "Male",
          "Male",
          "Male",
          "Male",
          "Male",
          "Male",
          "Male",
          "Male",
          "Male",
          "Male",
          "Male",
          "Male",
          "Male",
          "Male",
          "Male",
          "Male",
          "Male",
          "Male",
          "Male",
          "Male",
          "Male",
          "Male",
          "Male",
          "Male",
          "Male",
          "Male",
          "Male",
          "Male",
          "Male",
          "Male",
          "Male",
          "Male",
          "Male",
          "Male",
          "Male",
          "Male",
          "Male",
          "Male",
          "Male",
          "Male",
          "Male",
          "Male",
          "Male",
          "Male",
          "Male",
          "Male",
          "Male",
          "Male",
          "Male",
          "Male",
          "Male",
          "Male",
          "Male",
          "Male",
          "Male",
          "Male",
          "Male",
          "Male",
          "Male",
          "Male",
          "Male",
          "Male",
          "Male",
          "Male",
          "Male",
          "Male",
          "Male",
          "Male",
          "Male",
          "Male",
          "Male",
          "Male",
          "Male",
          "Male",
          "Male",
          "Male",
          "Male",
          "Male",
          "Male",
          "Male",
          "Male",
          "Male",
          "Male",
          "Male",
          "Male",
          "Male",
          "Male",
          "Male",
          "Male",
          "Male",
          "Male",
          "Male",
          "Male",
          "Male"
         ],
         "xaxis": "x",
         "y": [
          340.5255,
          489.048,
          634.3785,
          627.6165,
          107.142,
          453.495,
          457.443,
          172.2105,
          451.71,
          277.137,
          69.72,
          181.44,
          279.1845,
          35.196,
          235.2105,
          494.1825,
          737.7615,
          703.752,
          202.818,
          328.755,
          253.008,
          117.831,
          32.277,
          535.7205,
          119.259,
          671.79,
          16.2015,
          33.936,
          93.114,
          752.64,
          192.843,
          351.099,
          166.005,
          318.108,
          166.635,
          827.085,
          939.54,
          652.26,
          705.6315,
          463.428,
          161.7,
          256.7775,
          401.73,
          362.943,
          44.5935,
          608.202,
          94.2375,
          102.018,
          922.635,
          166.1625,
          521.01,
          51.1455,
          742.2975,
          367.038,
          223.0725,
          931.035,
          172.494,
          391.419,
          860.685,
          548.7615,
          115.185,
          53.928,
          112.224,
          419.832,
          944.622,
          536.844,
          550.935,
          284.193,
          545.055,
          609,
          950.25,
          277.788,
          603.624,
          272.664,
          254.016,
          786.618,
          484.5225,
          75.7785,
          263.97,
          918.729,
          588.357,
          66.8745,
          336.5565,
          160.44,
          418.95,
          357.588,
          1003.59,
          1039.29,
          323.064,
          510.972,
          367.5525,
          420.2625,
          175.14,
          333.207,
          166.236,
          319.788,
          186.228,
          465.444,
          273.42,
          472.311,
          323.148,
          162.75,
          288.204,
          56.952,
          195.174,
          77.7735,
          107.31,
          171.7275,
          91.77,
          174.3,
          451.3635,
          271.95,
          93.2925,
          247.8735,
          484.89,
          146.223,
          19.194,
          796.908,
          285.705,
          456.288,
          62.0025,
          90.825,
          655.5465,
          155.652,
          310.044,
          545.37,
          91.4025,
          94.1745,
          235.683,
          125.517,
          195.72,
          263.13,
          788.508,
          399.756,
          94.185,
          326.424,
          536.991,
          439.8975,
          369.495,
          99.75,
          494.76,
          137.004,
          69.6675,
          163.233,
          135.45,
          276.948,
          57.1725,
          148.974,
          297.108,
          352.5795,
          745.395,
          462.21,
          38.85,
          628.929,
          350.07,
          78.603,
          423.15,
          204.6975,
          190.155,
          121.128,
          493.794,
          252.042,
          209.622,
          40.9605,
          51.0405,
          530.67,
          503.559,
          145.593,
          208.677,
          392.6475,
          185.094,
          96.138,
          135.576,
          410.508,
          523.845,
          395.892,
          214.746,
          152.712,
          208.089,
          103.635,
          404.355,
          49.308,
          77.175,
          721.98,
          151.4835,
          140.6475,
          75.5475,
          191.247,
          379.9215,
          255.15,
          86.625,
          78.7185,
          680.064,
          209.559,
          461.286,
          276.948,
          203.175,
          265.104,
          701.8515,
          407.316,
          345.786,
          79.611,
          294.651,
          133.917,
          80.661,
          128.4255,
          181.818,
          194.124,
          14.679,
          282.492,
          72.3975,
          45.927,
          110.0925,
          81.396,
          427.812,
          100.9155,
          213.528,
          17.094,
          383.7645,
          390.7995,
          353.1675,
          145.068,
          90.867,
          702.219,
          937.818,
          348.306,
          214.137,
          71.568,
          91.56,
          13.419,
          290.43,
          144.081,
          138.663,
          26.25,
          87.234,
          833.595,
          37.6845,
          212.73,
          269.535,
          233.226,
          22.659,
          452.865,
          609.588,
          205.317,
          353.094,
          360.885,
          40.53,
          554.148,
          194.985,
          633.99,
          156.03,
          24.108,
          209.769,
          637.728,
          77.6685,
          145.74,
          92.8725,
          203.112,
          321.7725,
          731.6925,
          429.1665,
          288.015,
          206.7975,
          72.933,
          377.58,
          132.027,
          514.773,
          164.682,
          125.706,
          926.9505,
          160.209,
          728.112,
          240.975,
          122.5245,
          102.837,
          96.642,
          79.674,
          118.251,
          163.002,
          575.9775,
          180.4005,
          139.923,
          142.002,
          118.062,
          262.458,
          203.931,
          936.6,
          469.413,
          208.425,
          280.035,
          74.4555,
          152.019,
          451.0275,
          597.6285,
          253.26,
          133.434,
          145.971,
          85.743,
          198.639,
          217.182,
          625.905,
          76.755,
          293.139,
          304.92,
          46.683,
          164.43,
          87.234,
          814.38,
          133.35,
          32.1405,
          121.569,
          293.643,
          84.9765,
          708.225,
          457.38,
          461.5275,
          620.739,
          95.9175,
          127.827,
          867.09,
          167.895,
          673.995,
          246.6765,
          175.917,
          314.055,
          251.7165,
          697.935,
          212.7825,
          165.123,
          116.907,
          63.2625,
          182.952,
          442.323,
          35.3115,
          259.77,
          397.215,
          764.19,
          352.674,
          252.756,
          58.2225,
          125.979,
          181.881,
          588.42,
          196.14,
          282.576,
          175.917,
          618.975,
          305.55,
          45.108,
          667.38,
          153.048,
          404.544,
          510.615,
          261.198,
          657.531,
          1023.75,
          101.808,
          760.4415,
          527.5095,
          72.429,
          131.208,
          80.955,
          507.906,
          829.08,
          37.611,
          142.947,
          138.978,
          98.028,
          175.0455,
          732.27,
          408.492,
          176.4,
          20.685,
          557.718,
          56.406,
          860.475,
          616.98,
          769.104,
          887.922,
          408.7335,
          89.0715,
          79.149,
          684.915,
          597.0405,
          384.72,
          197.925,
          757.365,
          233.1,
          86.247,
          137.865,
          480.0285,
          98.049,
          132.5625,
          830.3715,
          183.12,
          548.163,
          603.876,
          190.4805,
          432.9885,
          48.7305,
          287.91,
          680.61,
          57.078,
          97.419,
          455.1225,
          144.963,
          495.3165,
          90.3,
          99.9075,
          284.592,
          403.872,
          247.59,
          222.138,
          10.6785,
          130.032,
          681.975,
          88.704,
          262.794,
          95.865,
          54.999,
          202.335,
          281.169,
          586.635,
          163.611,
          63.315,
          22.386,
          295.407,
          76.923,
          77.805,
          390.9465,
          177.408,
          362.817,
          26.796,
          106.5015,
          760.452,
          76.5765,
          271.278,
          182.427,
          561.078,
          97.818,
          548.184,
          54.9675,
          41.7375,
          335.895,
          335.013,
          92.295,
          807.66,
          148.995,
          317.835,
          832.944,
          446.439,
          629.16,
          331.128,
          193.074,
          84.7455,
          888.405,
          431.256,
          44.9925,
          217.2555,
          271.2885,
          92.7255,
          53.151,
          629.496,
          470.988,
          270.018,
          279.384,
          943.299,
          266.6475,
          74.088,
          176.925,
          56.469,
          188.0025,
          125.7165,
          415.233,
          477.1305,
          289.926,
          96.579,
          304.983,
          69.993,
          255.1815,
          640.038,
          252.252,
          180.873,
          104.832,
          167.58,
          250.278,
          244.23,
          33.432,
          69.111,
          734.706,
          708.3195,
          520.8,
          864.57,
          633.108,
          121.863,
          183.645,
          42.3675
         ],
         "yaxis": "y"
        }
       ],
       "layout": {
        "barmode": "relative",
        "legend": {
         "title": {
          "text": "Gender"
         },
         "tracegroupgap": 0
        },
        "margin": {
         "t": 60
        },
        "paper_bgcolor": "rgba(0, 0, 0, 0)",
        "plot_bgcolor": "rgba(0, 0, 0, 0)",
        "template": {
         "data": {
          "bar": [
           {
            "error_x": {
             "color": "#2a3f5f"
            },
            "error_y": {
             "color": "#2a3f5f"
            },
            "marker": {
             "line": {
              "color": "#E5ECF6",
              "width": 0.5
             },
             "pattern": {
              "fillmode": "overlay",
              "size": 10,
              "solidity": 0.2
             }
            },
            "type": "bar"
           }
          ],
          "barpolar": [
           {
            "marker": {
             "line": {
              "color": "#E5ECF6",
              "width": 0.5
             },
             "pattern": {
              "fillmode": "overlay",
              "size": 10,
              "solidity": 0.2
             }
            },
            "type": "barpolar"
           }
          ],
          "carpet": [
           {
            "aaxis": {
             "endlinecolor": "#2a3f5f",
             "gridcolor": "white",
             "linecolor": "white",
             "minorgridcolor": "white",
             "startlinecolor": "#2a3f5f"
            },
            "baxis": {
             "endlinecolor": "#2a3f5f",
             "gridcolor": "white",
             "linecolor": "white",
             "minorgridcolor": "white",
             "startlinecolor": "#2a3f5f"
            },
            "type": "carpet"
           }
          ],
          "choropleth": [
           {
            "colorbar": {
             "outlinewidth": 0,
             "ticks": ""
            },
            "type": "choropleth"
           }
          ],
          "contour": [
           {
            "colorbar": {
             "outlinewidth": 0,
             "ticks": ""
            },
            "colorscale": [
             [
              0,
              "#0d0887"
             ],
             [
              0.1111111111111111,
              "#46039f"
             ],
             [
              0.2222222222222222,
              "#7201a8"
             ],
             [
              0.3333333333333333,
              "#9c179e"
             ],
             [
              0.4444444444444444,
              "#bd3786"
             ],
             [
              0.5555555555555556,
              "#d8576b"
             ],
             [
              0.6666666666666666,
              "#ed7953"
             ],
             [
              0.7777777777777778,
              "#fb9f3a"
             ],
             [
              0.8888888888888888,
              "#fdca26"
             ],
             [
              1,
              "#f0f921"
             ]
            ],
            "type": "contour"
           }
          ],
          "contourcarpet": [
           {
            "colorbar": {
             "outlinewidth": 0,
             "ticks": ""
            },
            "type": "contourcarpet"
           }
          ],
          "heatmap": [
           {
            "colorbar": {
             "outlinewidth": 0,
             "ticks": ""
            },
            "colorscale": [
             [
              0,
              "#0d0887"
             ],
             [
              0.1111111111111111,
              "#46039f"
             ],
             [
              0.2222222222222222,
              "#7201a8"
             ],
             [
              0.3333333333333333,
              "#9c179e"
             ],
             [
              0.4444444444444444,
              "#bd3786"
             ],
             [
              0.5555555555555556,
              "#d8576b"
             ],
             [
              0.6666666666666666,
              "#ed7953"
             ],
             [
              0.7777777777777778,
              "#fb9f3a"
             ],
             [
              0.8888888888888888,
              "#fdca26"
             ],
             [
              1,
              "#f0f921"
             ]
            ],
            "type": "heatmap"
           }
          ],
          "heatmapgl": [
           {
            "colorbar": {
             "outlinewidth": 0,
             "ticks": ""
            },
            "colorscale": [
             [
              0,
              "#0d0887"
             ],
             [
              0.1111111111111111,
              "#46039f"
             ],
             [
              0.2222222222222222,
              "#7201a8"
             ],
             [
              0.3333333333333333,
              "#9c179e"
             ],
             [
              0.4444444444444444,
              "#bd3786"
             ],
             [
              0.5555555555555556,
              "#d8576b"
             ],
             [
              0.6666666666666666,
              "#ed7953"
             ],
             [
              0.7777777777777778,
              "#fb9f3a"
             ],
             [
              0.8888888888888888,
              "#fdca26"
             ],
             [
              1,
              "#f0f921"
             ]
            ],
            "type": "heatmapgl"
           }
          ],
          "histogram": [
           {
            "marker": {
             "pattern": {
              "fillmode": "overlay",
              "size": 10,
              "solidity": 0.2
             }
            },
            "type": "histogram"
           }
          ],
          "histogram2d": [
           {
            "colorbar": {
             "outlinewidth": 0,
             "ticks": ""
            },
            "colorscale": [
             [
              0,
              "#0d0887"
             ],
             [
              0.1111111111111111,
              "#46039f"
             ],
             [
              0.2222222222222222,
              "#7201a8"
             ],
             [
              0.3333333333333333,
              "#9c179e"
             ],
             [
              0.4444444444444444,
              "#bd3786"
             ],
             [
              0.5555555555555556,
              "#d8576b"
             ],
             [
              0.6666666666666666,
              "#ed7953"
             ],
             [
              0.7777777777777778,
              "#fb9f3a"
             ],
             [
              0.8888888888888888,
              "#fdca26"
             ],
             [
              1,
              "#f0f921"
             ]
            ],
            "type": "histogram2d"
           }
          ],
          "histogram2dcontour": [
           {
            "colorbar": {
             "outlinewidth": 0,
             "ticks": ""
            },
            "colorscale": [
             [
              0,
              "#0d0887"
             ],
             [
              0.1111111111111111,
              "#46039f"
             ],
             [
              0.2222222222222222,
              "#7201a8"
             ],
             [
              0.3333333333333333,
              "#9c179e"
             ],
             [
              0.4444444444444444,
              "#bd3786"
             ],
             [
              0.5555555555555556,
              "#d8576b"
             ],
             [
              0.6666666666666666,
              "#ed7953"
             ],
             [
              0.7777777777777778,
              "#fb9f3a"
             ],
             [
              0.8888888888888888,
              "#fdca26"
             ],
             [
              1,
              "#f0f921"
             ]
            ],
            "type": "histogram2dcontour"
           }
          ],
          "mesh3d": [
           {
            "colorbar": {
             "outlinewidth": 0,
             "ticks": ""
            },
            "type": "mesh3d"
           }
          ],
          "parcoords": [
           {
            "line": {
             "colorbar": {
              "outlinewidth": 0,
              "ticks": ""
             }
            },
            "type": "parcoords"
           }
          ],
          "pie": [
           {
            "automargin": true,
            "type": "pie"
           }
          ],
          "scatter": [
           {
            "fillpattern": {
             "fillmode": "overlay",
             "size": 10,
             "solidity": 0.2
            },
            "type": "scatter"
           }
          ],
          "scatter3d": [
           {
            "line": {
             "colorbar": {
              "outlinewidth": 0,
              "ticks": ""
             }
            },
            "marker": {
             "colorbar": {
              "outlinewidth": 0,
              "ticks": ""
             }
            },
            "type": "scatter3d"
           }
          ],
          "scattercarpet": [
           {
            "marker": {
             "colorbar": {
              "outlinewidth": 0,
              "ticks": ""
             }
            },
            "type": "scattercarpet"
           }
          ],
          "scattergeo": [
           {
            "marker": {
             "colorbar": {
              "outlinewidth": 0,
              "ticks": ""
             }
            },
            "type": "scattergeo"
           }
          ],
          "scattergl": [
           {
            "marker": {
             "colorbar": {
              "outlinewidth": 0,
              "ticks": ""
             }
            },
            "type": "scattergl"
           }
          ],
          "scattermapbox": [
           {
            "marker": {
             "colorbar": {
              "outlinewidth": 0,
              "ticks": ""
             }
            },
            "type": "scattermapbox"
           }
          ],
          "scatterpolar": [
           {
            "marker": {
             "colorbar": {
              "outlinewidth": 0,
              "ticks": ""
             }
            },
            "type": "scatterpolar"
           }
          ],
          "scatterpolargl": [
           {
            "marker": {
             "colorbar": {
              "outlinewidth": 0,
              "ticks": ""
             }
            },
            "type": "scatterpolargl"
           }
          ],
          "scatterternary": [
           {
            "marker": {
             "colorbar": {
              "outlinewidth": 0,
              "ticks": ""
             }
            },
            "type": "scatterternary"
           }
          ],
          "surface": [
           {
            "colorbar": {
             "outlinewidth": 0,
             "ticks": ""
            },
            "colorscale": [
             [
              0,
              "#0d0887"
             ],
             [
              0.1111111111111111,
              "#46039f"
             ],
             [
              0.2222222222222222,
              "#7201a8"
             ],
             [
              0.3333333333333333,
              "#9c179e"
             ],
             [
              0.4444444444444444,
              "#bd3786"
             ],
             [
              0.5555555555555556,
              "#d8576b"
             ],
             [
              0.6666666666666666,
              "#ed7953"
             ],
             [
              0.7777777777777778,
              "#fb9f3a"
             ],
             [
              0.8888888888888888,
              "#fdca26"
             ],
             [
              1,
              "#f0f921"
             ]
            ],
            "type": "surface"
           }
          ],
          "table": [
           {
            "cells": {
             "fill": {
              "color": "#EBF0F8"
             },
             "line": {
              "color": "white"
             }
            },
            "header": {
             "fill": {
              "color": "#C8D4E3"
             },
             "line": {
              "color": "white"
             }
            },
            "type": "table"
           }
          ]
         },
         "layout": {
          "annotationdefaults": {
           "arrowcolor": "#2a3f5f",
           "arrowhead": 0,
           "arrowwidth": 1
          },
          "autotypenumbers": "strict",
          "coloraxis": {
           "colorbar": {
            "outlinewidth": 0,
            "ticks": ""
           }
          },
          "colorscale": {
           "diverging": [
            [
             0,
             "#8e0152"
            ],
            [
             0.1,
             "#c51b7d"
            ],
            [
             0.2,
             "#de77ae"
            ],
            [
             0.3,
             "#f1b6da"
            ],
            [
             0.4,
             "#fde0ef"
            ],
            [
             0.5,
             "#f7f7f7"
            ],
            [
             0.6,
             "#e6f5d0"
            ],
            [
             0.7,
             "#b8e186"
            ],
            [
             0.8,
             "#7fbc41"
            ],
            [
             0.9,
             "#4d9221"
            ],
            [
             1,
             "#276419"
            ]
           ],
           "sequential": [
            [
             0,
             "#0d0887"
            ],
            [
             0.1111111111111111,
             "#46039f"
            ],
            [
             0.2222222222222222,
             "#7201a8"
            ],
            [
             0.3333333333333333,
             "#9c179e"
            ],
            [
             0.4444444444444444,
             "#bd3786"
            ],
            [
             0.5555555555555556,
             "#d8576b"
            ],
            [
             0.6666666666666666,
             "#ed7953"
            ],
            [
             0.7777777777777778,
             "#fb9f3a"
            ],
            [
             0.8888888888888888,
             "#fdca26"
            ],
            [
             1,
             "#f0f921"
            ]
           ],
           "sequentialminus": [
            [
             0,
             "#0d0887"
            ],
            [
             0.1111111111111111,
             "#46039f"
            ],
            [
             0.2222222222222222,
             "#7201a8"
            ],
            [
             0.3333333333333333,
             "#9c179e"
            ],
            [
             0.4444444444444444,
             "#bd3786"
            ],
            [
             0.5555555555555556,
             "#d8576b"
            ],
            [
             0.6666666666666666,
             "#ed7953"
            ],
            [
             0.7777777777777778,
             "#fb9f3a"
            ],
            [
             0.8888888888888888,
             "#fdca26"
            ],
            [
             1,
             "#f0f921"
            ]
           ]
          },
          "colorway": [
           "#636efa",
           "#EF553B",
           "#00cc96",
           "#ab63fa",
           "#FFA15A",
           "#19d3f3",
           "#FF6692",
           "#B6E880",
           "#FF97FF",
           "#FECB52"
          ],
          "font": {
           "color": "#2a3f5f"
          },
          "geo": {
           "bgcolor": "white",
           "lakecolor": "white",
           "landcolor": "#E5ECF6",
           "showlakes": true,
           "showland": true,
           "subunitcolor": "white"
          },
          "hoverlabel": {
           "align": "left"
          },
          "hovermode": "closest",
          "mapbox": {
           "style": "light"
          },
          "paper_bgcolor": "white",
          "plot_bgcolor": "#E5ECF6",
          "polar": {
           "angularaxis": {
            "gridcolor": "white",
            "linecolor": "white",
            "ticks": ""
           },
           "bgcolor": "#E5ECF6",
           "radialaxis": {
            "gridcolor": "white",
            "linecolor": "white",
            "ticks": ""
           }
          },
          "scene": {
           "xaxis": {
            "backgroundcolor": "#E5ECF6",
            "gridcolor": "white",
            "gridwidth": 2,
            "linecolor": "white",
            "showbackground": true,
            "ticks": "",
            "zerolinecolor": "white"
           },
           "yaxis": {
            "backgroundcolor": "#E5ECF6",
            "gridcolor": "white",
            "gridwidth": 2,
            "linecolor": "white",
            "showbackground": true,
            "ticks": "",
            "zerolinecolor": "white"
           },
           "zaxis": {
            "backgroundcolor": "#E5ECF6",
            "gridcolor": "white",
            "gridwidth": 2,
            "linecolor": "white",
            "showbackground": true,
            "ticks": "",
            "zerolinecolor": "white"
           }
          },
          "shapedefaults": {
           "line": {
            "color": "#2a3f5f"
           }
          },
          "ternary": {
           "aaxis": {
            "gridcolor": "white",
            "linecolor": "white",
            "ticks": ""
           },
           "baxis": {
            "gridcolor": "white",
            "linecolor": "white",
            "ticks": ""
           },
           "bgcolor": "#E5ECF6",
           "caxis": {
            "gridcolor": "white",
            "linecolor": "white",
            "ticks": ""
           }
          },
          "title": {
           "x": 0.05
          },
          "xaxis": {
           "automargin": true,
           "gridcolor": "white",
           "linecolor": "white",
           "ticks": "",
           "title": {
            "standoff": 15
           },
           "zerolinecolor": "white",
           "zerolinewidth": 2
          },
          "yaxis": {
           "automargin": true,
           "gridcolor": "white",
           "linecolor": "white",
           "ticks": "",
           "title": {
            "standoff": 15
           },
           "zerolinecolor": "white",
           "zerolinewidth": 2
          }
         }
        },
        "title": {
         "text": "city with more male shoppers"
        },
        "xaxis": {
         "anchor": "y",
         "categoryarray": [
          "Female",
          "Male"
         ],
         "categoryorder": "array",
         "domain": [
          0,
          1
         ],
         "title": {
          "text": "Gender"
         }
        },
        "yaxis": {
         "anchor": "x",
         "domain": [
          0,
          1
         ],
         "title": {
          "text": "Total"
         }
        }
       }
      }
     },
     "metadata": {},
     "output_type": "display_data"
    }
   ],
   "source": [
    "fig = px.bar(sales, x = 'Gender', y = 'Total',\n",
    "                     hover_name = 'Gender',color = 'Gender')\n",
    "\n",
    "fig.update_layout({\n",
    "'plot_bgcolor': 'rgba(0, 0, 0, 0)',\n",
    "'paper_bgcolor': 'rgba(0, 0, 0, 0)',\n",
    "'title': 'city with more male shoppers'})\n",
    "\n",
    "fig.show()"
   ]
  },
  {
   "cell_type": "markdown",
   "id": "f59747d4",
   "metadata": {},
   "source": [
    "3. Which type of customer spends more, member or non- member?    "
   ]
  },
  {
   "cell_type": "code",
   "execution_count": 82,
   "id": "6ab1a232",
   "metadata": {
    "scrolled": true
   },
   "outputs": [
    {
     "name": "stderr",
     "output_type": "stream",
     "text": [
      "C:\\Users\\dittm\\AppData\\Local\\Temp\\ipykernel_8048\\2286472865.py:3: FutureWarning:\n",
      "\n",
      "The default value of numeric_only in DataFrameGroupBy.sum is deprecated. In a future version, numeric_only will default to False. Either specify numeric_only or select only columns which should be valid for the function.\n",
      "\n"
     ]
    },
    {
     "data": {
      "image/png": "[encoded data removed]",
      "text/plain": [
       "<Figure size 640x480 with 1 Axes>"
      ]
     },
     "metadata": {},
     "output_type": "display_data"
    }
   ],
   "source": [
    "from matplotlib import pyplot as plt\n",
    "\n",
    "whospends = sales.groupby([\"Customer type\"]).sum()[\"Total\"]\n",
    "whospends.plot(kind=\"bar\")\n",
    "\n",
    "plt.show()"
   ]
  },
  {
   "cell_type": "markdown",
   "id": "18f3cd3a",
   "metadata": {},
   "source": [
    "4. Which product line sells the most?"
   ]
  },
  {
   "cell_type": "code",
   "execution_count": 83,
   "id": "07d565a8",
   "metadata": {},
   "outputs": [
    {
     "name": "stderr",
     "output_type": "stream",
     "text": [
      "C:\\Users\\dittm\\AppData\\Local\\Temp\\ipykernel_8048\\3437517130.py:3: FutureWarning:\n",
      "\n",
      "The default value of numeric_only in DataFrameGroupBy.sum is deprecated. In a future version, numeric_only will default to False. Either specify numeric_only or select only columns which should be valid for the function.\n",
      "\n"
     ]
    },
    {
     "data": {
      "image/png": "[encoded data removed]",
      "text/plain": [
       "<Figure size 640x480 with 1 Axes>"
      ]
     },
     "metadata": {},
     "output_type": "display_data"
    }
   ],
   "source": [
    "from matplotlib import pyplot as plt\n",
    "\n",
    "whospends = sales.groupby([\"Product line\"]).sum()[\"Total\"]\n",
    "whospends.plot(kind=\"bar\")\n",
    "\n",
    "plt.show()"
   ]
  },
  {
   "cell_type": "code",
   "execution_count": 84,
   "id": "f3e88a91",
   "metadata": {},
   "outputs": [
    {
     "data": {
      "image/png": "[encoded data removed]",
      "text/plain": [
       "<Figure size 640x480 with 1 Axes>"
      ]
     },
     "metadata": {},
     "output_type": "display_data"
    }
   ],
   "source": [
    "product_sales = sales.groupby([\"Product line\"]).count()[\"Quantity\"]\n",
    "product_sales.plot(kind=\"bar\")\n",
    "\n",
    "plt.show()"
   ]
  },
  {
   "cell_type": "markdown",
   "id": "7e76ae13",
   "metadata": {},
   "source": [
    "5. Which product line is popular among men or women?"
   ]
  },
  {
   "cell_type": "code",
   "execution_count": 85,
   "id": "794dc12b",
   "metadata": {},
   "outputs": [
    {
     "data": {
      "application/vnd.plotly.v1+json": {
       "config": {
        "plotlyServerURL": "https://plot.ly"
       },
       "data": [
        {
         "alignmentgroup": "True",
         "hovertemplate": "<b>%{hovertext}</b><br><br>Gender=Female<br>Product line=%{x}<br>Total=%{y}<extra></extra>",
         "hovertext": [
          "Female",
          "Female",
          "Female",
          "Female",
          "Female",
          "Female",
          "Female",
          "Female",
          "Female",
          "Female",
          "Female",
          "Female",
          "Female",
          "Female",
          "Female",
          "Female",
          "Female",
          "Female",
          "Female",
          "Female",
          "Female",
          "Female",
          "Female",
          "Female",
          "Female",
          "Female",
          "Female",
          "Female",
          "Female",
          "Female",
          "Female",
          "Female",
          "Female",
          "Female",
          "Female",
          "Female",
          "Female",
          "Female",
          "Female",
          "Female",
          "Female",
          "Female",
          "Female",
          "Female",
          "Female",
          "Female",
          "Female",
          "Female",
          "Female",
          "Female",
          "Female",
          "Female",
          "Female",
          "Female",
          "Female",
          "Female",
          "Female",
          "Female",
          "Female",
          "Female",
          "Female",
          "Female",
          "Female",
          "Female",
          "Female",
          "Female",
          "Female",
          "Female",
          "Female",
          "Female",
          "Female",
          "Female",
          "Female",
          "Female",
          "Female",
          "Female",
          "Female",
          "Female",
          "Female",
          "Female",
          "Female",
          "Female",
          "Female",
          "Female",
          "Female",
          "Female",
          "Female",
          "Female",
          "Female",
          "Female",
          "Female",
          "Female",
          "Female",
          "Female",
          "Female",
          "Female",
          "Female",
          "Female",
          "Female",
          "Female",
          "Female",
          "Female",
          "Female",
          "Female",
          "Female",
          "Female",
          "Female",
          "Female",
          "Female",
          "Female",
          "Female",
          "Female",
          "Female",
          "Female",
          "Female",
          "Female",
          "Female",
          "Female",
          "Female",
          "Female",
          "Female",
          "Female",
          "Female",
          "Female",
          "Female",
          "Female",
          "Female",
          "Female",
          "Female",
          "Female",
          "Female",
          "Female",
          "Female",
          "Female",
          "Female",
          "Female",
          "Female",
          "Female",
          "Female",
          "Female",
          "Female",
          "Female",
          "Female",
          "Female",
          "Female",
          "Female",
          "Female",
          "Female",
          "Female",
          "Female",
          "Female",
          "Female",
          "Female",
          "Female",
          "Female",
          "Female",
          "Female",
          "Female",
          "Female",
          "Female",
          "Female",
          "Female",
          "Female",
          "Female",
          "Female",
          "Female",
          "Female",
          "Female",
          "Female",
          "Female",
          "Female",
          "Female",
          "Female",
          "Female",
          "Female",
          "Female",
          "Female",
          "Female",
          "Female",
          "Female",
          "Female",
          "Female",
          "Female",
          "Female",
          "Female",
          "Female",
          "Female",
          "Female",
          "Female",
          "Female",
          "Female",
          "Female",
          "Female",
          "Female",
          "Female",
          "Female",
          "Female",
          "Female",
          "Female",
          "Female",
          "Female",
          "Female",
          "Female",
          "Female",
          "Female",
          "Female",
          "Female",
          "Female",
          "Female",
          "Female",
          "Female",
          "Female",
          "Female",
          "Female",
          "Female",
          "Female",
          "Female",
          "Female",
          "Female",
          "Female",
          "Female",
          "Female",
          "Female",
          "Female",
          "Female",
          "Female",
          "Female",
          "Female",
          "Female",
          "Female",
          "Female",
          "Female",
          "Female",
          "Female",
          "Female",
          "Female",
          "Female",
          "Female",
          "Female",
          "Female",
          "Female",
          "Female",
          "Female",
          "Female",
          "Female",
          "Female",
          "Female",
          "Female",
          "Female",
          "Female",
          "Female",
          "Female",
          "Female",
          "Female",
          "Female",
          "Female",
          "Female",
          "Female",
          "Female",
          "Female",
          "Female",
          "Female",
          "Female",
          "Female",
          "Female",
          "Female",
          "Female",
          "Female",
          "Female",
          "Female",
          "Female",
          "Female",
          "Female",
          "Female",
          "Female",
          "Female",
          "Female",
          "Female",
          "Female",
          "Female",
          "Female",
          "Female",
          "Female",
          "Female",
          "Female",
          "Female",
          "Female",
          "Female",
          "Female",
          "Female",
          "Female",
          "Female",
          "Female",
          "Female",
          "Female",
          "Female",
          "Female",
          "Female",
          "Female",
          "Female",
          "Female",
          "Female",
          "Female",
          "Female",
          "Female",
          "Female",
          "Female",
          "Female",
          "Female",
          "Female",
          "Female",
          "Female",
          "Female",
          "Female",
          "Female",
          "Female",
          "Female",
          "Female",
          "Female",
          "Female",
          "Female",
          "Female",
          "Female",
          "Female",
          "Female",
          "Female",
          "Female",
          "Female",
          "Female",
          "Female",
          "Female",
          "Female",
          "Female",
          "Female",
          "Female",
          "Female",
          "Female",
          "Female",
          "Female",
          "Female",
          "Female",
          "Female",
          "Female",
          "Female",
          "Female",
          "Female",
          "Female",
          "Female",
          "Female",
          "Female",
          "Female",
          "Female",
          "Female",
          "Female",
          "Female",
          "Female",
          "Female",
          "Female",
          "Female",
          "Female",
          "Female",
          "Female",
          "Female",
          "Female",
          "Female",
          "Female",
          "Female",
          "Female",
          "Female",
          "Female",
          "Female",
          "Female",
          "Female",
          "Female",
          "Female",
          "Female",
          "Female",
          "Female",
          "Female",
          "Female",
          "Female",
          "Female",
          "Female",
          "Female",
          "Female",
          "Female",
          "Female",
          "Female",
          "Female",
          "Female",
          "Female",
          "Female",
          "Female",
          "Female",
          "Female",
          "Female",
          "Female",
          "Female",
          "Female",
          "Female",
          "Female",
          "Female",
          "Female",
          "Female",
          "Female",
          "Female",
          "Female",
          "Female",
          "Female",
          "Female",
          "Female",
          "Female",
          "Female",
          "Female",
          "Female",
          "Female",
          "Female",
          "Female",
          "Female",
          "Female",
          "Female",
          "Female",
          "Female",
          "Female",
          "Female",
          "Female",
          "Female",
          "Female",
          "Female",
          "Female",
          "Female",
          "Female",
          "Female",
          "Female",
          "Female",
          "Female",
          "Female",
          "Female",
          "Female",
          "Female",
          "Female",
          "Female",
          "Female",
          "Female",
          "Female",
          "Female",
          "Female",
          "Female",
          "Female",
          "Female",
          "Female",
          "Female",
          "Female",
          "Female",
          "Female",
          "Female",
          "Female",
          "Female",
          "Female",
          "Female",
          "Female",
          "Female",
          "Female",
          "Female",
          "Female",
          "Female",
          "Female",
          "Female",
          "Female",
          "Female",
          "Female",
          "Female",
          "Female",
          "Female",
          "Female",
          "Female",
          "Female",
          "Female",
          "Female",
          "Female",
          "Female",
          "Female",
          "Female",
          "Female",
          "Female",
          "Female",
          "Female",
          "Female",
          "Female",
          "Female",
          "Female",
          "Female",
          "Female",
          "Female",
          "Female",
          "Female",
          "Female"
         ],
         "legendgroup": "Female",
         "marker": {
          "color": "#636efa",
          "pattern": {
           "shape": ""
          }
         },
         "name": "Female",
         "offsetgroup": "Female",
         "orientation": "v",
         "showlegend": true,
         "textposition": "auto",
         "type": "bar",
         "x": [
          "Electronic accessories",
          "Electronic accessories",
          "Home and lifestyle",
          "Health and beauty",
          "Food and beverages",
          "Fashion accessories",
          "Electronic accessories",
          "Health and beauty",
          "Sports and travel",
          "Health and beauty",
          "Home and lifestyle",
          "Home and lifestyle",
          "Fashion accessories",
          "Food and beverages",
          "Food and beverages",
          "Sports and travel",
          "Electronic accessories",
          "Health and beauty",
          "Home and lifestyle",
          "Sports and travel",
          "Food and beverages",
          "Electronic accessories",
          "Food and beverages",
          "Fashion accessories",
          "Food and beverages",
          "Fashion accessories",
          "Electronic accessories",
          "Home and lifestyle",
          "Sports and travel",
          "Sports and travel",
          "Health and beauty",
          "Fashion accessories",
          "Health and beauty",
          "Food and beverages",
          "Electronic accessories",
          "Electronic accessories",
          "Fashion accessories",
          "Food and beverages",
          "Health and beauty",
          "Health and beauty",
          "Food and beverages",
          "Food and beverages",
          "Sports and travel",
          "Health and beauty",
          "Home and lifestyle",
          "Sports and travel",
          "Sports and travel",
          "Electronic accessories",
          "Electronic accessories",
          "Food and beverages",
          "Sports and travel",
          "Health and beauty",
          "Fashion accessories",
          "Home and lifestyle",
          "Fashion accessories",
          "Food and beverages",
          "Electronic accessories",
          "Fashion accessories",
          "Home and lifestyle",
          "Sports and travel",
          "Fashion accessories",
          "Food and beverages",
          "Sports and travel",
          "Fashion accessories",
          "Sports and travel",
          "Sports and travel",
          "Health and beauty",
          "Electronic accessories",
          "Home and lifestyle",
          "Sports and travel",
          "Health and beauty",
          "Food and beverages",
          "Home and lifestyle",
          "Health and beauty",
          "Fashion accessories",
          "Fashion accessories",
          "Food and beverages",
          "Sports and travel",
          "Food and beverages",
          "Fashion accessories",
          "Sports and travel",
          "Home and lifestyle",
          "Home and lifestyle",
          "Home and lifestyle",
          "Fashion accessories",
          "Food and beverages",
          "Fashion accessories",
          "Home and lifestyle",
          "Food and beverages",
          "Sports and travel",
          "Electronic accessories",
          "Health and beauty",
          "Electronic accessories",
          "Home and lifestyle",
          "Fashion accessories",
          "Electronic accessories",
          "Food and beverages",
          "Sports and travel",
          "Sports and travel",
          "Electronic accessories",
          "Food and beverages",
          "Fashion accessories",
          "Sports and travel",
          "Electronic accessories",
          "Home and lifestyle",
          "Fashion accessories",
          "Electronic accessories",
          "Health and beauty",
          "Sports and travel",
          "Fashion accessories",
          "Electronic accessories",
          "Electronic accessories",
          "Sports and travel",
          "Electronic accessories",
          "Fashion accessories",
          "Fashion accessories",
          "Sports and travel",
          "Sports and travel",
          "Food and beverages",
          "Home and lifestyle",
          "Sports and travel",
          "Health and beauty",
          "Home and lifestyle",
          "Home and lifestyle",
          "Health and beauty",
          "Home and lifestyle",
          "Fashion accessories",
          "Home and lifestyle",
          "Sports and travel",
          "Health and beauty",
          "Sports and travel",
          "Food and beverages",
          "Home and lifestyle",
          "Electronic accessories",
          "Food and beverages",
          "Electronic accessories",
          "Home and lifestyle",
          "Electronic accessories",
          "Electronic accessories",
          "Sports and travel",
          "Home and lifestyle",
          "Electronic accessories",
          "Fashion accessories",
          "Food and beverages",
          "Health and beauty",
          "Electronic accessories",
          "Food and beverages",
          "Health and beauty",
          "Food and beverages",
          "Health and beauty",
          "Fashion accessories",
          "Electronic accessories",
          "Sports and travel",
          "Electronic accessories",
          "Food and beverages",
          "Health and beauty",
          "Health and beauty",
          "Food and beverages",
          "Fashion accessories",
          "Home and lifestyle",
          "Health and beauty",
          "Fashion accessories",
          "Fashion accessories",
          "Electronic accessories",
          "Food and beverages",
          "Fashion accessories",
          "Sports and travel",
          "Food and beverages",
          "Food and beverages",
          "Fashion accessories",
          "Electronic accessories",
          "Sports and travel",
          "Electronic accessories",
          "Fashion accessories",
          "Home and lifestyle",
          "Home and lifestyle",
          "Fashion accessories",
          "Home and lifestyle",
          "Electronic accessories",
          "Electronic accessories",
          "Food and beverages",
          "Food and beverages",
          "Food and beverages",
          "Health and beauty",
          "Fashion accessories",
          "Fashion accessories",
          "Fashion accessories",
          "Sports and travel",
          "Health and beauty",
          "Health and beauty",
          "Food and beverages",
          "Health and beauty",
          "Food and beverages",
          "Fashion accessories",
          "Fashion accessories",
          "Fashion accessories",
          "Home and lifestyle",
          "Fashion accessories",
          "Health and beauty",
          "Home and lifestyle",
          "Health and beauty",
          "Health and beauty",
          "Electronic accessories",
          "Food and beverages",
          "Electronic accessories",
          "Fashion accessories",
          "Food and beverages",
          "Home and lifestyle",
          "Electronic accessories",
          "Fashion accessories",
          "Electronic accessories",
          "Sports and travel",
          "Home and lifestyle",
          "Sports and travel",
          "Health and beauty",
          "Health and beauty",
          "Sports and travel",
          "Electronic accessories",
          "Food and beverages",
          "Fashion accessories",
          "Food and beverages",
          "Electronic accessories",
          "Food and beverages",
          "Sports and travel",
          "Food and beverages",
          "Sports and travel",
          "Health and beauty",
          "Electronic accessories",
          "Home and lifestyle",
          "Sports and travel",
          "Electronic accessories",
          "Sports and travel",
          "Electronic accessories",
          "Sports and travel",
          "Sports and travel",
          "Fashion accessories",
          "Home and lifestyle",
          "Fashion accessories",
          "Fashion accessories",
          "Health and beauty",
          "Home and lifestyle",
          "Electronic accessories",
          "Food and beverages",
          "Sports and travel",
          "Sports and travel",
          "Fashion accessories",
          "Sports and travel",
          "Sports and travel",
          "Food and beverages",
          "Home and lifestyle",
          "Sports and travel",
          "Home and lifestyle",
          "Fashion accessories",
          "Fashion accessories",
          "Electronic accessories",
          "Home and lifestyle",
          "Home and lifestyle",
          "Sports and travel",
          "Food and beverages",
          "Food and beverages",
          "Home and lifestyle",
          "Fashion accessories",
          "Fashion accessories",
          "Food and beverages",
          "Sports and travel",
          "Food and beverages",
          "Fashion accessories",
          "Sports and travel",
          "Electronic accessories",
          "Fashion accessories",
          "Health and beauty",
          "Fashion accessories",
          "Food and beverages",
          "Home and lifestyle",
          "Electronic accessories",
          "Food and beverages",
          "Sports and travel",
          "Fashion accessories",
          "Fashion accessories",
          "Sports and travel",
          "Home and lifestyle",
          "Health and beauty",
          "Health and beauty",
          "Fashion accessories",
          "Fashion accessories",
          "Sports and travel",
          "Home and lifestyle",
          "Sports and travel",
          "Sports and travel",
          "Sports and travel",
          "Fashion accessories",
          "Home and lifestyle",
          "Fashion accessories",
          "Sports and travel",
          "Fashion accessories",
          "Fashion accessories",
          "Food and beverages",
          "Electronic accessories",
          "Food and beverages",
          "Sports and travel",
          "Fashion accessories",
          "Food and beverages",
          "Food and beverages",
          "Home and lifestyle",
          "Fashion accessories",
          "Food and beverages",
          "Fashion accessories",
          "Electronic accessories",
          "Food and beverages",
          "Food and beverages",
          "Electronic accessories",
          "Food and beverages",
          "Sports and travel",
          "Health and beauty",
          "Electronic accessories",
          "Electronic accessories",
          "Fashion accessories",
          "Sports and travel",
          "Sports and travel",
          "Fashion accessories",
          "Food and beverages",
          "Sports and travel",
          "Fashion accessories",
          "Health and beauty",
          "Health and beauty",
          "Sports and travel",
          "Health and beauty",
          "Electronic accessories",
          "Sports and travel",
          "Food and beverages",
          "Electronic accessories",
          "Sports and travel",
          "Fashion accessories",
          "Sports and travel",
          "Home and lifestyle",
          "Sports and travel",
          "Food and beverages",
          "Sports and travel",
          "Fashion accessories",
          "Food and beverages",
          "Home and lifestyle",
          "Sports and travel",
          "Fashion accessories",
          "Fashion accessories",
          "Home and lifestyle",
          "Electronic accessories",
          "Home and lifestyle",
          "Electronic accessories",
          "Health and beauty",
          "Health and beauty",
          "Fashion accessories",
          "Fashion accessories",
          "Sports and travel",
          "Food and beverages",
          "Health and beauty",
          "Home and lifestyle",
          "Fashion accessories",
          "Home and lifestyle",
          "Sports and travel",
          "Sports and travel",
          "Food and beverages",
          "Home and lifestyle",
          "Home and lifestyle",
          "Fashion accessories",
          "Food and beverages",
          "Electronic accessories",
          "Fashion accessories",
          "Fashion accessories",
          "Electronic accessories",
          "Home and lifestyle",
          "Food and beverages",
          "Food and beverages",
          "Fashion accessories",
          "Health and beauty",
          "Home and lifestyle",
          "Fashion accessories",
          "Electronic accessories",
          "Home and lifestyle",
          "Sports and travel",
          "Health and beauty",
          "Sports and travel",
          "Food and beverages",
          "Food and beverages",
          "Sports and travel",
          "Fashion accessories",
          "Home and lifestyle",
          "Health and beauty",
          "Health and beauty",
          "Home and lifestyle",
          "Electronic accessories",
          "Home and lifestyle",
          "Sports and travel",
          "Electronic accessories",
          "Fashion accessories",
          "Electronic accessories",
          "Home and lifestyle",
          "Sports and travel",
          "Electronic accessories",
          "Health and beauty",
          "Fashion accessories",
          "Electronic accessories",
          "Sports and travel",
          "Electronic accessories",
          "Food and beverages",
          "Fashion accessories",
          "Home and lifestyle",
          "Health and beauty",
          "Sports and travel",
          "Sports and travel",
          "Health and beauty",
          "Electronic accessories",
          "Sports and travel",
          "Home and lifestyle",
          "Sports and travel",
          "Sports and travel",
          "Food and beverages",
          "Sports and travel",
          "Food and beverages",
          "Fashion accessories",
          "Fashion accessories",
          "Electronic accessories",
          "Health and beauty",
          "Fashion accessories",
          "Home and lifestyle",
          "Food and beverages",
          "Home and lifestyle",
          "Home and lifestyle",
          "Home and lifestyle",
          "Electronic accessories",
          "Health and beauty",
          "Electronic accessories",
          "Electronic accessories",
          "Electronic accessories",
          "Food and beverages",
          "Fashion accessories",
          "Home and lifestyle",
          "Food and beverages",
          "Electronic accessories",
          "Fashion accessories",
          "Health and beauty",
          "Electronic accessories",
          "Fashion accessories",
          "Electronic accessories",
          "Health and beauty",
          "Health and beauty",
          "Home and lifestyle",
          "Health and beauty",
          "Food and beverages",
          "Home and lifestyle",
          "Food and beverages",
          "Electronic accessories",
          "Home and lifestyle",
          "Food and beverages",
          "Electronic accessories",
          "Fashion accessories",
          "Electronic accessories",
          "Home and lifestyle",
          "Home and lifestyle",
          "Home and lifestyle",
          "Sports and travel",
          "Sports and travel",
          "Electronic accessories",
          "Health and beauty",
          "Electronic accessories",
          "Fashion accessories",
          "Food and beverages",
          "Home and lifestyle",
          "Health and beauty",
          "Sports and travel",
          "Health and beauty",
          "Food and beverages",
          "Home and lifestyle",
          "Electronic accessories",
          "Food and beverages",
          "Home and lifestyle",
          "Food and beverages",
          "Food and beverages",
          "Fashion accessories",
          "Home and lifestyle",
          "Food and beverages",
          "Fashion accessories",
          "Electronic accessories",
          "Home and lifestyle",
          "Health and beauty",
          "Electronic accessories",
          "Food and beverages",
          "Food and beverages",
          "Electronic accessories",
          "Food and beverages",
          "Sports and travel",
          "Fashion accessories",
          "Fashion accessories",
          "Health and beauty",
          "Food and beverages",
          "Sports and travel",
          "Electronic accessories",
          "Home and lifestyle"
         ],
         "xaxis": "x",
         "y": [
          80.22,
          433.692,
          772.38,
          76.146,
          172.746,
          60.816,
          246.4875,
          749.49,
          590.436,
          506.6355,
          84.63,
          441.756,
          184.107,
          463.89,
          417.564,
          71.526,
          575.316,
          461.328,
          91.056,
          435.456,
          829.08,
          394.632,
          189.0945,
          867.615,
          234.0975,
          75.054,
          722.232,
          759.675,
          77.931,
          520.4115,
          70.287,
          614.943,
          19.2465,
          152.838,
          478.233,
          437.325,
          189.0945,
          822.255,
          106.995,
          624.897,
          304.542,
          337.512,
          610.491,
          485.037,
          198.996,
          471.03,
          161.553,
          78.435,
          218.0115,
          321.111,
          34.629,
          309.3615,
          535.374,
          763.4655,
          85.113,
          115.08,
          836.304,
          474.348,
          688.6215,
          169.3125,
          299.8485,
          575.736,
          853.146,
          291.207,
          580.419,
          146.328,
          512.19,
          138.1275,
          216.846,
          942.9,
          720.3,
          31.9305,
          491.085,
          291.438,
          316.47,
          384.468,
          103.824,
          680.148,
          362.712,
          165.4485,
          90.699,
          793.716,
          293.202,
          242.676,
          154.392,
          829.71,
          78.0045,
          26.5545,
          374.7975,
          120.645,
          241.458,
          217.6335,
          629.8425,
          299.565,
          95.6655,
          942.4485,
          881.307,
          217.6335,
          130.0425,
          298.116,
          180.621,
          13.167,
          183.036,
          571.41,
          532.728,
          170.877,
          33.3585,
          794.6505,
          195.594,
          232.155,
          69.405,
          256.41,
          30.219,
          709.317,
          69.09,
          160.86,
          233.52,
          723.24,
          783.3,
          373.17,
          354.0075,
          44.352,
          203.553,
          25.263,
          628.173,
          229.11,
          400.764,
          587.664,
          16.107,
          200.214,
          224.4375,
          356.5485,
          697.368,
          65.604,
          76.356,
          272.58,
          93.0405,
          214.998,
          125.664,
          295.6905,
          745.836,
          83.412,
          172.011,
          74.7075,
          146.9475,
          820.365,
          66.402,
          218.0745,
          216.6885,
          41.391,
          324.2925,
          149.3625,
          365.085,
          150.0975,
          404.649,
          411.3795,
          565.215,
          509.4075,
          736.4385,
          749.7,
          141.75,
          1042.65,
          402.2655,
          31.752,
          374.388,
          394.275,
          1002.12,
          793.548,
          173.208,
          343.056,
          484.974,
          150.78,
          193.011,
          128.016,
          441.693,
          352.2225,
          507.675,
          334.341,
          99.33,
          55.881,
          523.3725,
          314.538,
          214.935,
          339.36,
          510.9615,
          253.512,
          398.475,
          548.73,
          83.727,
          406.875,
          284.9175,
          258.678,
          248.409,
          208.6875,
          718.7565,
          288.582,
          237.426,
          125.055,
          359.205,
          190.596,
          85.5855,
          120.162,
          185.367,
          121.59,
          264.7575,
          1020.705,
          65.7405,
          951.825,
          147.798,
          49.812,
          343.224,
          742.812,
          843.0345,
          140.385,
          20.1075,
          28.4235,
          41.076,
          470.673,
          333.9525,
          155.19,
          731.43,
          488.985,
          767.025,
          310.59,
          23.751,
          572.775,
          273.0525,
          103.782,
          527.751,
          168.21,
          338.31,
          174.615,
          344.4,
          388.29,
          207.858,
          431.445,
          734.076,
          72.87,
          206.43,
          212.688,
          127.26,
          132.762,
          568.512,
          103.0365,
          432.768,
          33.495,
          195.951,
          152.775,
          529.515,
          100.485,
          666.939,
          225.2775,
          398.958,
          54.0435,
          143.9865,
          523.971,
          235.872,
          479.9025,
          570.78,
          154.1295,
          148.68,
          77.658,
          306.81,
          551.124,
          84.756,
          74.76,
          308.91,
          270.585,
          416.178,
          513.2295,
          550.368,
          151.284,
          1034.46,
          228.123,
          356.328,
          852.705,
          517.965,
          621.243,
          586.971,
          543.753,
          430.71,
          269.934,
          326.256,
          195.258,
          75.936,
          226.065,
          178.164,
          47.859,
          236.88,
          440.937,
          193.4625,
          147.672,
          68.2395,
          343.413,
          381.3915,
          394.3275,
          209.118,
          30.408,
          935.2665,
          365.904,
          273.798,
          225.792,
          96.1905,
          695.2365,
          874.125,
          165.648,
          12.6945,
          48.51,
          92.5575,
          311.1885,
          743.82,
          609.168,
          32.529,
          351.603,
          49.4235,
          104.6745,
          277.6725,
          146.6325,
          135.3555,
          370.125,
          914.55,
          207.48,
          204.246,
          75.474,
          300.573,
          85.302,
          231.2415,
          477.54,
          470.988,
          308.574,
          41.454,
          36.5505,
          310.716,
          145.404,
          103.11,
          136.143,
          211.365,
          663.2955,
          539.343,
          497.07,
          458.6925,
          113.568,
          507.444,
          207.585,
          835.2855,
          180.6,
          317.226,
          733.6035,
          130.8825,
          187.32,
          110.124,
          187.866,
          856.4535,
          270.2595,
          239.4,
          383.523,
          93.744,
          596.82,
          150.423,
          266.028,
          40.341,
          55.2825,
          116.1405,
          93.744,
          143.22,
          182.91,
          267.3405,
          817.236,
          300.216,
          608.076,
          232.638,
          810.6,
          536.592,
          56.1225,
          801.864,
          239.589,
          401.688,
          72.009,
          401.268,
          631.1445,
          499.7265,
          55.041,
          151.515,
          397.992,
          32.151,
          369.684,
          53.34,
          57.6975,
          1022.385,
          97.881,
          63.9135,
          257.145,
          253.68,
          462.672,
          714.3255,
          325.374,
          195.678,
          210.966,
          18.6375,
          652.89,
          422.73,
          341.0925,
          408.408,
          446.964,
          333.984,
          100.128,
          216.4365,
          441.588,
          92.442,
          681.4395,
          779.31,
          99.54,
          299.3655,
          184.086,
          82.887,
          31.227,
          23.499,
          688.716,
          624.33,
          206.808,
          554.295,
          503.7375,
          345.0195,
          118.902,
          450.1035,
          90.5835,
          106.596,
          375.3645,
          250.7085,
          131.922,
          225.015,
          756.168,
          101.64,
          348.705,
          85.512,
          216.846,
          175.014,
          771.435,
          102.396,
          439.215,
          486.444,
          485.5725,
          423.738,
          145.5825,
          122.472,
          329.196,
          435.12,
          167.034,
          514.605,
          91.8225,
          235.746,
          782.208,
          313.74,
          223.587,
          397.614,
          82.719,
          338.2155,
          103.131,
          26.733,
          611.079,
          221.886,
          57.876,
          374.409,
          833.9625,
          175.035,
          781.62,
          397.845,
          579.8415,
          469.77,
          290.0835,
          360.927,
          479.64,
          690.018,
          222.012,
          68.985,
          263.97,
          88.368,
          312.8895,
          165.9,
          932.337,
          16.275,
          80.367,
          314.685,
          49.77,
          181.0725,
          888.615,
          313.572,
          26.7225,
          71.1585,
          921.186,
          649.299,
          334.4775,
          30.996,
          296.94,
          804.3,
          63.9975,
          1022.49
         ],
         "yaxis": "y"
        },
        {
         "alignmentgroup": "True",
         "hovertemplate": "<b>%{hovertext}</b><br><br>Gender=Male<br>Product line=%{x}<br>Total=%{y}<extra></extra>",
         "hovertext": [
          "Male",
          "Male",
          "Male",
          "Male",
          "Male",
          "Male",
          "Male",
          "Male",
          "Male",
          "Male",
          "Male",
          "Male",
          "Male",
          "Male",
          "Male",
          "Male",
          "Male",
          "Male",
          "Male",
          "Male",
          "Male",
          "Male",
          "Male",
          "Male",
          "Male",
          "Male",
          "Male",
          "Male",
          "Male",
          "Male",
          "Male",
          "Male",
          "Male",
          "Male",
          "Male",
          "Male",
          "Male",
          "Male",
          "Male",
          "Male",
          "Male",
          "Male",
          "Male",
          "Male",
          "Male",
          "Male",
          "Male",
          "Male",
          "Male",
          "Male",
          "Male",
          "Male",
          "Male",
          "Male",
          "Male",
          "Male",
          "Male",
          "Male",
          "Male",
          "Male",
          "Male",
          "Male",
          "Male",
          "Male",
          "Male",
          "Male",
          "Male",
          "Male",
          "Male",
          "Male",
          "Male",
          "Male",
          "Male",
          "Male",
          "Male",
          "Male",
          "Male",
          "Male",
          "Male",
          "Male",
          "Male",
          "Male",
          "Male",
          "Male",
          "Male",
          "Male",
          "Male",
          "Male",
          "Male",
          "Male",
          "Male",
          "Male",
          "Male",
          "Male",
          "Male",
          "Male",
          "Male",
          "Male",
          "Male",
          "Male",
          "Male",
          "Male",
          "Male",
          "Male",
          "Male",
          "Male",
          "Male",
          "Male",
          "Male",
          "Male",
          "Male",
          "Male",
          "Male",
          "Male",
          "Male",
          "Male",
          "Male",
          "Male",
          "Male",
          "Male",
          "Male",
          "Male",
          "Male",
          "Male",
          "Male",
          "Male",
          "Male",
          "Male",
          "Male",
          "Male",
          "Male",
          "Male",
          "Male",
          "Male",
          "Male",
          "Male",
          "Male",
          "Male",
          "Male",
          "Male",
          "Male",
          "Male",
          "Male",
          "Male",
          "Male",
          "Male",
          "Male",
          "Male",
          "Male",
          "Male",
          "Male",
          "Male",
          "Male",
          "Male",
          "Male",
          "Male",
          "Male",
          "Male",
          "Male",
          "Male",
          "Male",
          "Male",
          "Male",
          "Male",
          "Male",
          "Male",
          "Male",
          "Male",
          "Male",
          "Male",
          "Male",
          "Male",
          "Male",
          "Male",
          "Male",
          "Male",
          "Male",
          "Male",
          "Male",
          "Male",
          "Male",
          "Male",
          "Male",
          "Male",
          "Male",
          "Male",
          "Male",
          "Male",
          "Male",
          "Male",
          "Male",
          "Male",
          "Male",
          "Male",
          "Male",
          "Male",
          "Male",
          "Male",
          "Male",
          "Male",
          "Male",
          "Male",
          "Male",
          "Male",
          "Male",
          "Male",
          "Male",
          "Male",
          "Male",
          "Male",
          "Male",
          "Male",
          "Male",
          "Male",
          "Male",
          "Male",
          "Male",
          "Male",
          "Male",
          "Male",
          "Male",
          "Male",
          "Male",
          "Male",
          "Male",
          "Male",
          "Male",
          "Male",
          "Male",
          "Male",
          "Male",
          "Male",
          "Male",
          "Male",
          "Male",
          "Male",
          "Male",
          "Male",
          "Male",
          "Male",
          "Male",
          "Male",
          "Male",
          "Male",
          "Male",
          "Male",
          "Male",
          "Male",
          "Male",
          "Male",
          "Male",
          "Male",
          "Male",
          "Male",
          "Male",
          "Male",
          "Male",
          "Male",
          "Male",
          "Male",
          "Male",
          "Male",
          "Male",
          "Male",
          "Male",
          "Male",
          "Male",
          "Male",
          "Male",
          "Male",
          "Male",
          "Male",
          "Male",
          "Male",
          "Male",
          "Male",
          "Male",
          "Male",
          "Male",
          "Male",
          "Male",
          "Male",
          "Male",
          "Male",
          "Male",
          "Male",
          "Male",
          "Male",
          "Male",
          "Male",
          "Male",
          "Male",
          "Male",
          "Male",
          "Male",
          "Male",
          "Male",
          "Male",
          "Male",
          "Male",
          "Male",
          "Male",
          "Male",
          "Male",
          "Male",
          "Male",
          "Male",
          "Male",
          "Male",
          "Male",
          "Male",
          "Male",
          "Male",
          "Male",
          "Male",
          "Male",
          "Male",
          "Male",
          "Male",
          "Male",
          "Male",
          "Male",
          "Male",
          "Male",
          "Male",
          "Male",
          "Male",
          "Male",
          "Male",
          "Male",
          "Male",
          "Male",
          "Male",
          "Male",
          "Male",
          "Male",
          "Male",
          "Male",
          "Male",
          "Male",
          "Male",
          "Male",
          "Male",
          "Male",
          "Male",
          "Male",
          "Male",
          "Male",
          "Male",
          "Male",
          "Male",
          "Male",
          "Male",
          "Male",
          "Male",
          "Male",
          "Male",
          "Male",
          "Male",
          "Male",
          "Male",
          "Male",
          "Male",
          "Male",
          "Male",
          "Male",
          "Male",
          "Male",
          "Male",
          "Male",
          "Male",
          "Male",
          "Male",
          "Male",
          "Male",
          "Male",
          "Male",
          "Male",
          "Male",
          "Male",
          "Male",
          "Male",
          "Male",
          "Male",
          "Male",
          "Male",
          "Male",
          "Male",
          "Male",
          "Male",
          "Male",
          "Male",
          "Male",
          "Male",
          "Male",
          "Male",
          "Male",
          "Male",
          "Male",
          "Male",
          "Male",
          "Male",
          "Male",
          "Male",
          "Male",
          "Male",
          "Male",
          "Male",
          "Male",
          "Male",
          "Male",
          "Male",
          "Male",
          "Male",
          "Male",
          "Male",
          "Male",
          "Male",
          "Male",
          "Male",
          "Male",
          "Male",
          "Male",
          "Male",
          "Male",
          "Male",
          "Male",
          "Male",
          "Male",
          "Male",
          "Male",
          "Male",
          "Male",
          "Male",
          "Male",
          "Male",
          "Male",
          "Male",
          "Male",
          "Male",
          "Male",
          "Male",
          "Male",
          "Male",
          "Male",
          "Male",
          "Male",
          "Male",
          "Male",
          "Male",
          "Male",
          "Male",
          "Male",
          "Male",
          "Male",
          "Male",
          "Male",
          "Male",
          "Male",
          "Male",
          "Male",
          "Male",
          "Male",
          "Male",
          "Male",
          "Male",
          "Male",
          "Male",
          "Male",
          "Male",
          "Male",
          "Male",
          "Male",
          "Male",
          "Male",
          "Male",
          "Male",
          "Male",
          "Male",
          "Male",
          "Male",
          "Male",
          "Male",
          "Male",
          "Male",
          "Male",
          "Male",
          "Male",
          "Male",
          "Male",
          "Male",
          "Male",
          "Male",
          "Male",
          "Male",
          "Male",
          "Male"
         ],
         "legendgroup": "Male",
         "marker": {
          "color": "#EF553B",
          "pattern": {
           "shape": ""
          }
         },
         "name": "Male",
         "offsetgroup": "Male",
         "orientation": "v",
         "showlegend": true,
         "textposition": "auto",
         "type": "bar",
         "x": [
          "Home and lifestyle",
          "Health and beauty",
          "Sports and travel",
          "Electronic accessories",
          "Electronic accessories",
          "Food and beverages",
          "Sports and travel",
          "Food and beverages",
          "Electronic accessories",
          "Health and beauty",
          "Home and lifestyle",
          "Electronic accessories",
          "Sports and travel",
          "Fashion accessories",
          "Health and beauty",
          "Fashion accessories",
          "Sports and travel",
          "Sports and travel",
          "Health and beauty",
          "Sports and travel",
          "Home and lifestyle",
          "Home and lifestyle",
          "Health and beauty",
          "Health and beauty",
          "Electronic accessories",
          "Food and beverages",
          "Fashion accessories",
          "Home and lifestyle",
          "Home and lifestyle",
          "Health and beauty",
          "Electronic accessories",
          "Home and lifestyle",
          "Sports and travel",
          "Health and beauty",
          "Health and beauty",
          "Sports and travel",
          "Food and beverages",
          "Fashion accessories",
          "Home and lifestyle",
          "Fashion accessories",
          "Food and beverages",
          "Sports and travel",
          "Fashion accessories",
          "Food and beverages",
          "Sports and travel",
          "Health and beauty",
          "Health and beauty",
          "Electronic accessories",
          "Health and beauty",
          "Food and beverages",
          "Home and lifestyle",
          "Fashion accessories",
          "Fashion accessories",
          "Food and beverages",
          "Health and beauty",
          "Electronic accessories",
          "Fashion accessories",
          "Sports and travel",
          "Electronic accessories",
          "Home and lifestyle",
          "Fashion accessories",
          "Fashion accessories",
          "Home and lifestyle",
          "Sports and travel",
          "Sports and travel",
          "Home and lifestyle",
          "Electronic accessories",
          "Fashion accessories",
          "Sports and travel",
          "Sports and travel",
          "Health and beauty",
          "Health and beauty",
          "Home and lifestyle",
          "Health and beauty",
          "Sports and travel",
          "Fashion accessories",
          "Food and beverages",
          "Electronic accessories",
          "Home and lifestyle",
          "Health and beauty",
          "Sports and travel",
          "Sports and travel",
          "Food and beverages",
          "Sports and travel",
          "Food and beverages",
          "Health and beauty",
          "Home and lifestyle",
          "Fashion accessories",
          "Food and beverages",
          "Sports and travel",
          "Health and beauty",
          "Food and beverages",
          "Electronic accessories",
          "Electronic accessories",
          "Food and beverages",
          "Home and lifestyle",
          "Food and beverages",
          "Food and beverages",
          "Health and beauty",
          "Fashion accessories",
          "Food and beverages",
          "Sports and travel",
          "Health and beauty",
          "Food and beverages",
          "Home and lifestyle",
          "Home and lifestyle",
          "Home and lifestyle",
          "Electronic accessories",
          "Health and beauty",
          "Health and beauty",
          "Electronic accessories",
          "Health and beauty",
          "Home and lifestyle",
          "Electronic accessories",
          "Home and lifestyle",
          "Sports and travel",
          "Home and lifestyle",
          "Fashion accessories",
          "Electronic accessories",
          "Food and beverages",
          "Electronic accessories",
          "Food and beverages",
          "Health and beauty",
          "Electronic accessories",
          "Fashion accessories",
          "Health and beauty",
          "Health and beauty",
          "Fashion accessories",
          "Food and beverages",
          "Health and beauty",
          "Fashion accessories",
          "Home and lifestyle",
          "Home and lifestyle",
          "Home and lifestyle",
          "Fashion accessories",
          "Electronic accessories",
          "Food and beverages",
          "Food and beverages",
          "Fashion accessories",
          "Home and lifestyle",
          "Home and lifestyle",
          "Fashion accessories",
          "Electronic accessories",
          "Home and lifestyle",
          "Electronic accessories",
          "Electronic accessories",
          "Sports and travel",
          "Home and lifestyle",
          "Home and lifestyle",
          "Fashion accessories",
          "Fashion accessories",
          "Sports and travel",
          "Home and lifestyle",
          "Health and beauty",
          "Health and beauty",
          "Home and lifestyle",
          "Electronic accessories",
          "Electronic accessories",
          "Health and beauty",
          "Electronic accessories",
          "Home and lifestyle",
          "Home and lifestyle",
          "Fashion accessories",
          "Health and beauty",
          "Food and beverages",
          "Electronic accessories",
          "Sports and travel",
          "Fashion accessories",
          "Food and beverages",
          "Electronic accessories",
          "Health and beauty",
          "Health and beauty",
          "Home and lifestyle",
          "Sports and travel",
          "Food and beverages",
          "Food and beverages",
          "Health and beauty",
          "Electronic accessories",
          "Home and lifestyle",
          "Food and beverages",
          "Fashion accessories",
          "Food and beverages",
          "Sports and travel",
          "Fashion accessories",
          "Electronic accessories",
          "Sports and travel",
          "Electronic accessories",
          "Electronic accessories",
          "Electronic accessories",
          "Home and lifestyle",
          "Electronic accessories",
          "Sports and travel",
          "Food and beverages",
          "Food and beverages",
          "Home and lifestyle",
          "Home and lifestyle",
          "Electronic accessories",
          "Fashion accessories",
          "Sports and travel",
          "Fashion accessories",
          "Sports and travel",
          "Sports and travel",
          "Food and beverages",
          "Food and beverages",
          "Electronic accessories",
          "Home and lifestyle",
          "Electronic accessories",
          "Home and lifestyle",
          "Home and lifestyle",
          "Sports and travel",
          "Food and beverages",
          "Sports and travel",
          "Health and beauty",
          "Sports and travel",
          "Home and lifestyle",
          "Health and beauty",
          "Fashion accessories",
          "Fashion accessories",
          "Fashion accessories",
          "Health and beauty",
          "Sports and travel",
          "Fashion accessories",
          "Food and beverages",
          "Fashion accessories",
          "Sports and travel",
          "Sports and travel",
          "Home and lifestyle",
          "Food and beverages",
          "Food and beverages",
          "Fashion accessories",
          "Food and beverages",
          "Fashion accessories",
          "Electronic accessories",
          "Health and beauty",
          "Electronic accessories",
          "Electronic accessories",
          "Food and beverages",
          "Food and beverages",
          "Food and beverages",
          "Sports and travel",
          "Food and beverages",
          "Fashion accessories",
          "Health and beauty",
          "Health and beauty",
          "Electronic accessories",
          "Sports and travel",
          "Electronic accessories",
          "Food and beverages",
          "Sports and travel",
          "Home and lifestyle",
          "Fashion accessories",
          "Home and lifestyle",
          "Fashion accessories",
          "Sports and travel",
          "Sports and travel",
          "Home and lifestyle",
          "Sports and travel",
          "Electronic accessories",
          "Health and beauty",
          "Electronic accessories",
          "Sports and travel",
          "Health and beauty",
          "Home and lifestyle",
          "Home and lifestyle",
          "Sports and travel",
          "Health and beauty",
          "Food and beverages",
          "Fashion accessories",
          "Fashion accessories",
          "Sports and travel",
          "Health and beauty",
          "Fashion accessories",
          "Electronic accessories",
          "Home and lifestyle",
          "Home and lifestyle",
          "Home and lifestyle",
          "Health and beauty",
          "Electronic accessories",
          "Home and lifestyle",
          "Sports and travel",
          "Fashion accessories",
          "Electronic accessories",
          "Electronic accessories",
          "Home and lifestyle",
          "Food and beverages",
          "Electronic accessories",
          "Food and beverages",
          "Electronic accessories",
          "Fashion accessories",
          "Sports and travel",
          "Food and beverages",
          "Food and beverages",
          "Sports and travel",
          "Fashion accessories",
          "Food and beverages",
          "Food and beverages",
          "Health and beauty",
          "Food and beverages",
          "Sports and travel",
          "Health and beauty",
          "Fashion accessories",
          "Health and beauty",
          "Health and beauty",
          "Sports and travel",
          "Health and beauty",
          "Food and beverages",
          "Electronic accessories",
          "Food and beverages",
          "Home and lifestyle",
          "Fashion accessories",
          "Food and beverages",
          "Fashion accessories",
          "Sports and travel",
          "Food and beverages",
          "Sports and travel",
          "Electronic accessories",
          "Food and beverages",
          "Fashion accessories",
          "Sports and travel",
          "Health and beauty",
          "Home and lifestyle",
          "Sports and travel",
          "Electronic accessories",
          "Food and beverages",
          "Home and lifestyle",
          "Food and beverages",
          "Health and beauty",
          "Health and beauty",
          "Fashion accessories",
          "Electronic accessories",
          "Electronic accessories",
          "Home and lifestyle",
          "Health and beauty",
          "Fashion accessories",
          "Electronic accessories",
          "Electronic accessories",
          "Home and lifestyle",
          "Sports and travel",
          "Fashion accessories",
          "Fashion accessories",
          "Sports and travel",
          "Food and beverages",
          "Fashion accessories",
          "Food and beverages",
          "Health and beauty",
          "Fashion accessories",
          "Health and beauty",
          "Food and beverages",
          "Fashion accessories",
          "Home and lifestyle",
          "Sports and travel",
          "Food and beverages",
          "Health and beauty",
          "Home and lifestyle",
          "Electronic accessories",
          "Home and lifestyle",
          "Food and beverages",
          "Health and beauty",
          "Health and beauty",
          "Food and beverages",
          "Fashion accessories",
          "Sports and travel",
          "Food and beverages",
          "Fashion accessories",
          "Electronic accessories",
          "Fashion accessories",
          "Home and lifestyle",
          "Food and beverages",
          "Home and lifestyle",
          "Sports and travel",
          "Fashion accessories",
          "Health and beauty",
          "Fashion accessories",
          "Electronic accessories",
          "Food and beverages",
          "Health and beauty",
          "Electronic accessories",
          "Electronic accessories",
          "Home and lifestyle",
          "Home and lifestyle",
          "Food and beverages",
          "Home and lifestyle",
          "Fashion accessories",
          "Health and beauty",
          "Home and lifestyle",
          "Food and beverages",
          "Electronic accessories",
          "Health and beauty",
          "Sports and travel",
          "Food and beverages",
          "Health and beauty",
          "Sports and travel",
          "Sports and travel",
          "Electronic accessories",
          "Health and beauty",
          "Electronic accessories",
          "Electronic accessories",
          "Health and beauty",
          "Sports and travel",
          "Fashion accessories",
          "Health and beauty",
          "Electronic accessories",
          "Fashion accessories",
          "Health and beauty",
          "Home and lifestyle",
          "Sports and travel",
          "Fashion accessories",
          "Health and beauty",
          "Electronic accessories",
          "Food and beverages",
          "Health and beauty",
          "Food and beverages",
          "Electronic accessories",
          "Sports and travel",
          "Fashion accessories",
          "Electronic accessories",
          "Electronic accessories",
          "Health and beauty",
          "Health and beauty",
          "Fashion accessories",
          "Fashion accessories",
          "Sports and travel",
          "Electronic accessories",
          "Fashion accessories",
          "Electronic accessories",
          "Fashion accessories",
          "Electronic accessories",
          "Electronic accessories",
          "Fashion accessories",
          "Health and beauty",
          "Food and beverages",
          "Health and beauty",
          "Sports and travel",
          "Health and beauty",
          "Sports and travel",
          "Food and beverages",
          "Sports and travel",
          "Food and beverages",
          "Sports and travel",
          "Home and lifestyle",
          "Home and lifestyle",
          "Fashion accessories",
          "Electronic accessories",
          "Sports and travel",
          "Sports and travel",
          "Food and beverages",
          "Sports and travel",
          "Electronic accessories",
          "Electronic accessories",
          "Health and beauty",
          "Fashion accessories",
          "Health and beauty",
          "Food and beverages",
          "Home and lifestyle",
          "Food and beverages",
          "Health and beauty",
          "Fashion accessories",
          "Sports and travel",
          "Home and lifestyle",
          "Home and lifestyle",
          "Sports and travel",
          "Sports and travel",
          "Home and lifestyle",
          "Health and beauty",
          "Home and lifestyle",
          "Food and beverages",
          "Fashion accessories",
          "Health and beauty",
          "Health and beauty",
          "Electronic accessories",
          "Fashion accessories",
          "Home and lifestyle",
          "Health and beauty",
          "Home and lifestyle",
          "Food and beverages",
          "Electronic accessories",
          "Fashion accessories",
          "Electronic accessories",
          "Food and beverages",
          "Home and lifestyle",
          "Electronic accessories",
          "Home and lifestyle",
          "Fashion accessories",
          "Fashion accessories",
          "Food and beverages",
          "Food and beverages",
          "Health and beauty",
          "Food and beverages",
          "Home and lifestyle",
          "Health and beauty",
          "Electronic accessories",
          "Health and beauty",
          "Electronic accessories",
          "Health and beauty",
          "Electronic accessories",
          "Fashion accessories",
          "Health and beauty"
         ],
         "xaxis": "x",
         "y": [
          340.5255,
          489.048,
          634.3785,
          627.6165,
          107.142,
          453.495,
          457.443,
          172.2105,
          451.71,
          277.137,
          69.72,
          181.44,
          279.1845,
          35.196,
          235.2105,
          494.1825,
          737.7615,
          703.752,
          202.818,
          328.755,
          253.008,
          117.831,
          32.277,
          535.7205,
          119.259,
          671.79,
          16.2015,
          33.936,
          93.114,
          752.64,
          192.843,
          351.099,
          166.005,
          318.108,
          166.635,
          827.085,
          939.54,
          652.26,
          705.6315,
          463.428,
          161.7,
          256.7775,
          401.73,
          362.943,
          44.5935,
          608.202,
          94.2375,
          102.018,
          922.635,
          166.1625,
          521.01,
          51.1455,
          742.2975,
          367.038,
          223.0725,
          931.035,
          172.494,
          391.419,
          860.685,
          548.7615,
          115.185,
          53.928,
          112.224,
          419.832,
          944.622,
          536.844,
          550.935,
          284.193,
          545.055,
          609,
          950.25,
          277.788,
          603.624,
          272.664,
          254.016,
          786.618,
          484.5225,
          75.7785,
          263.97,
          918.729,
          588.357,
          66.8745,
          336.5565,
          160.44,
          418.95,
          357.588,
          1003.59,
          1039.29,
          323.064,
          510.972,
          367.5525,
          420.2625,
          175.14,
          333.207,
          166.236,
          319.788,
          186.228,
          465.444,
          273.42,
          472.311,
          323.148,
          162.75,
          288.204,
          56.952,
          195.174,
          77.7735,
          107.31,
          171.7275,
          91.77,
          174.3,
          451.3635,
          271.95,
          93.2925,
          247.8735,
          484.89,
          146.223,
          19.194,
          796.908,
          285.705,
          456.288,
          62.0025,
          90.825,
          655.5465,
          155.652,
          310.044,
          545.37,
          91.4025,
          94.1745,
          235.683,
          125.517,
          195.72,
          263.13,
          788.508,
          399.756,
          94.185,
          326.424,
          536.991,
          439.8975,
          369.495,
          99.75,
          494.76,
          137.004,
          69.6675,
          163.233,
          135.45,
          276.948,
          57.1725,
          148.974,
          297.108,
          352.5795,
          745.395,
          462.21,
          38.85,
          628.929,
          350.07,
          78.603,
          423.15,
          204.6975,
          190.155,
          121.128,
          493.794,
          252.042,
          209.622,
          40.9605,
          51.0405,
          530.67,
          503.559,
          145.593,
          208.677,
          392.6475,
          185.094,
          96.138,
          135.576,
          410.508,
          523.845,
          395.892,
          214.746,
          152.712,
          208.089,
          103.635,
          404.355,
          49.308,
          77.175,
          721.98,
          151.4835,
          140.6475,
          75.5475,
          191.247,
          379.9215,
          255.15,
          86.625,
          78.7185,
          680.064,
          209.559,
          461.286,
          276.948,
          203.175,
          265.104,
          701.8515,
          407.316,
          345.786,
          79.611,
          294.651,
          133.917,
          80.661,
          128.4255,
          181.818,
          194.124,
          14.679,
          282.492,
          72.3975,
          45.927,
          110.0925,
          81.396,
          427.812,
          100.9155,
          213.528,
          17.094,
          383.7645,
          390.7995,
          353.1675,
          145.068,
          90.867,
          702.219,
          937.818,
          348.306,
          214.137,
          71.568,
          91.56,
          13.419,
          290.43,
          144.081,
          138.663,
          26.25,
          87.234,
          833.595,
          37.6845,
          212.73,
          269.535,
          233.226,
          22.659,
          452.865,
          609.588,
          205.317,
          353.094,
          360.885,
          40.53,
          554.148,
          194.985,
          633.99,
          156.03,
          24.108,
          209.769,
          637.728,
          77.6685,
          145.74,
          92.8725,
          203.112,
          321.7725,
          731.6925,
          429.1665,
          288.015,
          206.7975,
          72.933,
          377.58,
          132.027,
          514.773,
          164.682,
          125.706,
          926.9505,
          160.209,
          728.112,
          240.975,
          122.5245,
          102.837,
          96.642,
          79.674,
          118.251,
          163.002,
          575.9775,
          180.4005,
          139.923,
          142.002,
          118.062,
          262.458,
          203.931,
          936.6,
          469.413,
          208.425,
          280.035,
          74.4555,
          152.019,
          451.0275,
          597.6285,
          253.26,
          133.434,
          145.971,
          85.743,
          198.639,
          217.182,
          625.905,
          76.755,
          293.139,
          304.92,
          46.683,
          164.43,
          87.234,
          814.38,
          133.35,
          32.1405,
          121.569,
          293.643,
          84.9765,
          708.225,
          457.38,
          461.5275,
          620.739,
          95.9175,
          127.827,
          867.09,
          167.895,
          673.995,
          246.6765,
          175.917,
          314.055,
          251.7165,
          697.935,
          212.7825,
          165.123,
          116.907,
          63.2625,
          182.952,
          442.323,
          35.3115,
          259.77,
          397.215,
          764.19,
          352.674,
          252.756,
          58.2225,
          125.979,
          181.881,
          588.42,
          196.14,
          282.576,
          175.917,
          618.975,
          305.55,
          45.108,
          667.38,
          153.048,
          404.544,
          510.615,
          261.198,
          657.531,
          1023.75,
          101.808,
          760.4415,
          527.5095,
          72.429,
          131.208,
          80.955,
          507.906,
          829.08,
          37.611,
          142.947,
          138.978,
          98.028,
          175.0455,
          732.27,
          408.492,
          176.4,
          20.685,
          557.718,
          56.406,
          860.475,
          616.98,
          769.104,
          887.922,
          408.7335,
          89.0715,
          79.149,
          684.915,
          597.0405,
          384.72,
          197.925,
          757.365,
          233.1,
          86.247,
          137.865,
          480.0285,
          98.049,
          132.5625,
          830.3715,
          183.12,
          548.163,
          603.876,
          190.4805,
          432.9885,
          48.7305,
          287.91,
          680.61,
          57.078,
          97.419,
          455.1225,
          144.963,
          495.3165,
          90.3,
          99.9075,
          284.592,
          403.872,
          247.59,
          222.138,
          10.6785,
          130.032,
          681.975,
          88.704,
          262.794,
          95.865,
          54.999,
          202.335,
          281.169,
          586.635,
          163.611,
          63.315,
          22.386,
          295.407,
          76.923,
          77.805,
          390.9465,
          177.408,
          362.817,
          26.796,
          106.5015,
          760.452,
          76.5765,
          271.278,
          182.427,
          561.078,
          97.818,
          548.184,
          54.9675,
          41.7375,
          335.895,
          335.013,
          92.295,
          807.66,
          148.995,
          317.835,
          832.944,
          446.439,
          629.16,
          331.128,
          193.074,
          84.7455,
          888.405,
          431.256,
          44.9925,
          217.2555,
          271.2885,
          92.7255,
          53.151,
          629.496,
          470.988,
          270.018,
          279.384,
          943.299,
          266.6475,
          74.088,
          176.925,
          56.469,
          188.0025,
          125.7165,
          415.233,
          477.1305,
          289.926,
          96.579,
          304.983,
          69.993,
          255.1815,
          640.038,
          252.252,
          180.873,
          104.832,
          167.58,
          250.278,
          244.23,
          33.432,
          69.111,
          734.706,
          708.3195,
          520.8,
          864.57,
          633.108,
          121.863,
          183.645,
          42.3675
         ],
         "yaxis": "y"
        }
       ],
       "layout": {
        "barmode": "relative",
        "legend": {
         "title": {
          "text": "Gender"
         },
         "tracegroupgap": 0
        },
        "margin": {
         "t": 60
        },
        "paper_bgcolor": "rgba(0, 0, 0, 0)",
        "plot_bgcolor": "rgba(0, 0, 0, 0)",
        "template": {
         "data": {
          "bar": [
           {
            "error_x": {
             "color": "#2a3f5f"
            },
            "error_y": {
             "color": "#2a3f5f"
            },
            "marker": {
             "line": {
              "color": "#E5ECF6",
              "width": 0.5
             },
             "pattern": {
              "fillmode": "overlay",
              "size": 10,
              "solidity": 0.2
             }
            },
            "type": "bar"
           }
          ],
          "barpolar": [
           {
            "marker": {
             "line": {
              "color": "#E5ECF6",
              "width": 0.5
             },
             "pattern": {
              "fillmode": "overlay",
              "size": 10,
              "solidity": 0.2
             }
            },
            "type": "barpolar"
           }
          ],
          "carpet": [
           {
            "aaxis": {
             "endlinecolor": "#2a3f5f",
             "gridcolor": "white",
             "linecolor": "white",
             "minorgridcolor": "white",
             "startlinecolor": "#2a3f5f"
            },
            "baxis": {
             "endlinecolor": "#2a3f5f",
             "gridcolor": "white",
             "linecolor": "white",
             "minorgridcolor": "white",
             "startlinecolor": "#2a3f5f"
            },
            "type": "carpet"
           }
          ],
          "choropleth": [
           {
            "colorbar": {
             "outlinewidth": 0,
             "ticks": ""
            },
            "type": "choropleth"
           }
          ],
          "contour": [
           {
            "colorbar": {
             "outlinewidth": 0,
             "ticks": ""
            },
            "colorscale": [
             [
              0,
              "#0d0887"
             ],
             [
              0.1111111111111111,
              "#46039f"
             ],
             [
              0.2222222222222222,
              "#7201a8"
             ],
             [
              0.3333333333333333,
              "#9c179e"
             ],
             [
              0.4444444444444444,
              "#bd3786"
             ],
             [
              0.5555555555555556,
              "#d8576b"
             ],
             [
              0.6666666666666666,
              "#ed7953"
             ],
             [
              0.7777777777777778,
              "#fb9f3a"
             ],
             [
              0.8888888888888888,
              "#fdca26"
             ],
             [
              1,
              "#f0f921"
             ]
            ],
            "type": "contour"
           }
          ],
          "contourcarpet": [
           {
            "colorbar": {
             "outlinewidth": 0,
             "ticks": ""
            },
            "type": "contourcarpet"
           }
          ],
          "heatmap": [
           {
            "colorbar": {
             "outlinewidth": 0,
             "ticks": ""
            },
            "colorscale": [
             [
              0,
              "#0d0887"
             ],
             [
              0.1111111111111111,
              "#46039f"
             ],
             [
              0.2222222222222222,
              "#7201a8"
             ],
             [
              0.3333333333333333,
              "#9c179e"
             ],
             [
              0.4444444444444444,
              "#bd3786"
             ],
             [
              0.5555555555555556,
              "#d8576b"
             ],
             [
              0.6666666666666666,
              "#ed7953"
             ],
             [
              0.7777777777777778,
              "#fb9f3a"
             ],
             [
              0.8888888888888888,
              "#fdca26"
             ],
             [
              1,
              "#f0f921"
             ]
            ],
            "type": "heatmap"
           }
          ],
          "heatmapgl": [
           {
            "colorbar": {
             "outlinewidth": 0,
             "ticks": ""
            },
            "colorscale": [
             [
              0,
              "#0d0887"
             ],
             [
              0.1111111111111111,
              "#46039f"
             ],
             [
              0.2222222222222222,
              "#7201a8"
             ],
             [
              0.3333333333333333,
              "#9c179e"
             ],
             [
              0.4444444444444444,
              "#bd3786"
             ],
             [
              0.5555555555555556,
              "#d8576b"
             ],
             [
              0.6666666666666666,
              "#ed7953"
             ],
             [
              0.7777777777777778,
              "#fb9f3a"
             ],
             [
              0.8888888888888888,
              "#fdca26"
             ],
             [
              1,
              "#f0f921"
             ]
            ],
            "type": "heatmapgl"
           }
          ],
          "histogram": [
           {
            "marker": {
             "pattern": {
              "fillmode": "overlay",
              "size": 10,
              "solidity": 0.2
             }
            },
            "type": "histogram"
           }
          ],
          "histogram2d": [
           {
            "colorbar": {
             "outlinewidth": 0,
             "ticks": ""
            },
            "colorscale": [
             [
              0,
              "#0d0887"
             ],
             [
              0.1111111111111111,
              "#46039f"
             ],
             [
              0.2222222222222222,
              "#7201a8"
             ],
             [
              0.3333333333333333,
              "#9c179e"
             ],
             [
              0.4444444444444444,
              "#bd3786"
             ],
             [
              0.5555555555555556,
              "#d8576b"
             ],
             [
              0.6666666666666666,
              "#ed7953"
             ],
             [
              0.7777777777777778,
              "#fb9f3a"
             ],
             [
              0.8888888888888888,
              "#fdca26"
             ],
             [
              1,
              "#f0f921"
             ]
            ],
            "type": "histogram2d"
           }
          ],
          "histogram2dcontour": [
           {
            "colorbar": {
             "outlinewidth": 0,
             "ticks": ""
            },
            "colorscale": [
             [
              0,
              "#0d0887"
             ],
             [
              0.1111111111111111,
              "#46039f"
             ],
             [
              0.2222222222222222,
              "#7201a8"
             ],
             [
              0.3333333333333333,
              "#9c179e"
             ],
             [
              0.4444444444444444,
              "#bd3786"
             ],
             [
              0.5555555555555556,
              "#d8576b"
             ],
             [
              0.6666666666666666,
              "#ed7953"
             ],
             [
              0.7777777777777778,
              "#fb9f3a"
             ],
             [
              0.8888888888888888,
              "#fdca26"
             ],
             [
              1,
              "#f0f921"
             ]
            ],
            "type": "histogram2dcontour"
           }
          ],
          "mesh3d": [
           {
            "colorbar": {
             "outlinewidth": 0,
             "ticks": ""
            },
            "type": "mesh3d"
           }
          ],
          "parcoords": [
           {
            "line": {
             "colorbar": {
              "outlinewidth": 0,
              "ticks": ""
             }
            },
            "type": "parcoords"
           }
          ],
          "pie": [
           {
            "automargin": true,
            "type": "pie"
           }
          ],
          "scatter": [
           {
            "fillpattern": {
             "fillmode": "overlay",
             "size": 10,
             "solidity": 0.2
            },
            "type": "scatter"
           }
          ],
          "scatter3d": [
           {
            "line": {
             "colorbar": {
              "outlinewidth": 0,
              "ticks": ""
             }
            },
            "marker": {
             "colorbar": {
              "outlinewidth": 0,
              "ticks": ""
             }
            },
            "type": "scatter3d"
           }
          ],
          "scattercarpet": [
           {
            "marker": {
             "colorbar": {
              "outlinewidth": 0,
              "ticks": ""
             }
            },
            "type": "scattercarpet"
           }
          ],
          "scattergeo": [
           {
            "marker": {
             "colorbar": {
              "outlinewidth": 0,
              "ticks": ""
             }
            },
            "type": "scattergeo"
           }
          ],
          "scattergl": [
           {
            "marker": {
             "colorbar": {
              "outlinewidth": 0,
              "ticks": ""
             }
            },
            "type": "scattergl"
           }
          ],
          "scattermapbox": [
           {
            "marker": {
             "colorbar": {
              "outlinewidth": 0,
              "ticks": ""
             }
            },
            "type": "scattermapbox"
           }
          ],
          "scatterpolar": [
           {
            "marker": {
             "colorbar": {
              "outlinewidth": 0,
              "ticks": ""
             }
            },
            "type": "scatterpolar"
           }
          ],
          "scatterpolargl": [
           {
            "marker": {
             "colorbar": {
              "outlinewidth": 0,
              "ticks": ""
             }
            },
            "type": "scatterpolargl"
           }
          ],
          "scatterternary": [
           {
            "marker": {
             "colorbar": {
              "outlinewidth": 0,
              "ticks": ""
             }
            },
            "type": "scatterternary"
           }
          ],
          "surface": [
           {
            "colorbar": {
             "outlinewidth": 0,
             "ticks": ""
            },
            "colorscale": [
             [
              0,
              "#0d0887"
             ],
             [
              0.1111111111111111,
              "#46039f"
             ],
             [
              0.2222222222222222,
              "#7201a8"
             ],
             [
              0.3333333333333333,
              "#9c179e"
             ],
             [
              0.4444444444444444,
              "#bd3786"
             ],
             [
              0.5555555555555556,
              "#d8576b"
             ],
             [
              0.6666666666666666,
              "#ed7953"
             ],
             [
              0.7777777777777778,
              "#fb9f3a"
             ],
             [
              0.8888888888888888,
              "#fdca26"
             ],
             [
              1,
              "#f0f921"
             ]
            ],
            "type": "surface"
           }
          ],
          "table": [
           {
            "cells": {
             "fill": {
              "color": "#EBF0F8"
             },
             "line": {
              "color": "white"
             }
            },
            "header": {
             "fill": {
              "color": "#C8D4E3"
             },
             "line": {
              "color": "white"
             }
            },
            "type": "table"
           }
          ]
         },
         "layout": {
          "annotationdefaults": {
           "arrowcolor": "#2a3f5f",
           "arrowhead": 0,
           "arrowwidth": 1
          },
          "autotypenumbers": "strict",
          "coloraxis": {
           "colorbar": {
            "outlinewidth": 0,
            "ticks": ""
           }
          },
          "colorscale": {
           "diverging": [
            [
             0,
             "#8e0152"
            ],
            [
             0.1,
             "#c51b7d"
            ],
            [
             0.2,
             "#de77ae"
            ],
            [
             0.3,
             "#f1b6da"
            ],
            [
             0.4,
             "#fde0ef"
            ],
            [
             0.5,
             "#f7f7f7"
            ],
            [
             0.6,
             "#e6f5d0"
            ],
            [
             0.7,
             "#b8e186"
            ],
            [
             0.8,
             "#7fbc41"
            ],
            [
             0.9,
             "#4d9221"
            ],
            [
             1,
             "#276419"
            ]
           ],
           "sequential": [
            [
             0,
             "#0d0887"
            ],
            [
             0.1111111111111111,
             "#46039f"
            ],
            [
             0.2222222222222222,
             "#7201a8"
            ],
            [
             0.3333333333333333,
             "#9c179e"
            ],
            [
             0.4444444444444444,
             "#bd3786"
            ],
            [
             0.5555555555555556,
             "#d8576b"
            ],
            [
             0.6666666666666666,
             "#ed7953"
            ],
            [
             0.7777777777777778,
             "#fb9f3a"
            ],
            [
             0.8888888888888888,
             "#fdca26"
            ],
            [
             1,
             "#f0f921"
            ]
           ],
           "sequentialminus": [
            [
             0,
             "#0d0887"
            ],
            [
             0.1111111111111111,
             "#46039f"
            ],
            [
             0.2222222222222222,
             "#7201a8"
            ],
            [
             0.3333333333333333,
             "#9c179e"
            ],
            [
             0.4444444444444444,
             "#bd3786"
            ],
            [
             0.5555555555555556,
             "#d8576b"
            ],
            [
             0.6666666666666666,
             "#ed7953"
            ],
            [
             0.7777777777777778,
             "#fb9f3a"
            ],
            [
             0.8888888888888888,
             "#fdca26"
            ],
            [
             1,
             "#f0f921"
            ]
           ]
          },
          "colorway": [
           "#636efa",
           "#EF553B",
           "#00cc96",
           "#ab63fa",
           "#FFA15A",
           "#19d3f3",
           "#FF6692",
           "#B6E880",
           "#FF97FF",
           "#FECB52"
          ],
          "font": {
           "color": "#2a3f5f"
          },
          "geo": {
           "bgcolor": "white",
           "lakecolor": "white",
           "landcolor": "#E5ECF6",
           "showlakes": true,
           "showland": true,
           "subunitcolor": "white"
          },
          "hoverlabel": {
           "align": "left"
          },
          "hovermode": "closest",
          "mapbox": {
           "style": "light"
          },
          "paper_bgcolor": "white",
          "plot_bgcolor": "#E5ECF6",
          "polar": {
           "angularaxis": {
            "gridcolor": "white",
            "linecolor": "white",
            "ticks": ""
           },
           "bgcolor": "#E5ECF6",
           "radialaxis": {
            "gridcolor": "white",
            "linecolor": "white",
            "ticks": ""
           }
          },
          "scene": {
           "xaxis": {
            "backgroundcolor": "#E5ECF6",
            "gridcolor": "white",
            "gridwidth": 2,
            "linecolor": "white",
            "showbackground": true,
            "ticks": "",
            "zerolinecolor": "white"
           },
           "yaxis": {
            "backgroundcolor": "#E5ECF6",
            "gridcolor": "white",
            "gridwidth": 2,
            "linecolor": "white",
            "showbackground": true,
            "ticks": "",
            "zerolinecolor": "white"
           },
           "zaxis": {
            "backgroundcolor": "#E5ECF6",
            "gridcolor": "white",
            "gridwidth": 2,
            "linecolor": "white",
            "showbackground": true,
            "ticks": "",
            "zerolinecolor": "white"
           }
          },
          "shapedefaults": {
           "line": {
            "color": "#2a3f5f"
           }
          },
          "ternary": {
           "aaxis": {
            "gridcolor": "white",
            "linecolor": "white",
            "ticks": ""
           },
           "baxis": {
            "gridcolor": "white",
            "linecolor": "white",
            "ticks": ""
           },
           "bgcolor": "#E5ECF6",
           "caxis": {
            "gridcolor": "white",
            "linecolor": "white",
            "ticks": ""
           }
          },
          "title": {
           "x": 0.05
          },
          "xaxis": {
           "automargin": true,
           "gridcolor": "white",
           "linecolor": "white",
           "ticks": "",
           "title": {
            "standoff": 15
           },
           "zerolinecolor": "white",
           "zerolinewidth": 2
          },
          "yaxis": {
           "automargin": true,
           "gridcolor": "white",
           "linecolor": "white",
           "ticks": "",
           "title": {
            "standoff": 15
           },
           "zerolinecolor": "white",
           "zerolinewidth": 2
          }
         }
        },
        "title": {
         "text": "city with more male shoppers"
        },
        "xaxis": {
         "anchor": "y",
         "domain": [
          0,
          1
         ],
         "title": {
          "text": "Product line"
         }
        },
        "yaxis": {
         "anchor": "x",
         "domain": [
          0,
          1
         ],
         "title": {
          "text": "Total"
         }
        }
       }
      }
     },
     "metadata": {},
     "output_type": "display_data"
    }
   ],
   "source": [
    "product = sales.groupby(['Product line', 'Gender']).count()['Total']\n",
    "\n",
    "fig = px.bar(sales, x = 'Product line', y = 'Total',\n",
    "                     hover_name = 'Gender',color = 'Gender')\n",
    "\n",
    "fig.update_layout({\n",
    "'plot_bgcolor': 'rgba(0, 0, 0, 0)',\n",
    "'paper_bgcolor': 'rgba(0, 0, 0, 0)',\n",
    "'title': 'city with more male shoppers'})\n",
    "\n",
    "fig.show()"
   ]
  },
  {
   "cell_type": "markdown",
   "id": "be22f6f9",
   "metadata": {},
   "source": [
    "6. What day of month makes the highest sales?"
   ]
  },
  {
   "cell_type": "code",
   "execution_count": 86,
   "id": "07794ddf",
   "metadata": {},
   "outputs": [
    {
     "data": {
      "text/plain": [
       "Invoice ID                         object\n",
       "Branch                             object\n",
       "City                               object\n",
       "Customer type                      object\n",
       "Gender                             object\n",
       "Product line                       object\n",
       "Unit price                        float64\n",
       "Quantity                            int64\n",
       "Tax 5%                            float64\n",
       "Total                             float64\n",
       "Date                       datetime64[ns]\n",
       "Time                       datetime64[ns]\n",
       "Payment                            object\n",
       "cogs                              float64\n",
       "gross margin percentage           float64\n",
       "gross income                      float64\n",
       "Rating                            float64\n",
       "dtype: object"
      ]
     },
     "execution_count": 86,
     "metadata": {},
     "output_type": "execute_result"
    }
   ],
   "source": [
    "sales[['Date','Time']] = sales[['Date','Time']].apply(pd.to_datetime)\n",
    "sales.dtypes"
   ]
  },
  {
   "cell_type": "code",
   "execution_count": 87,
   "id": "e4207216",
   "metadata": {},
   "outputs": [],
   "source": [
    "sales['Day'] = sales['Date'].dt.day"
   ]
  },
  {
   "cell_type": "code",
   "execution_count": 88,
   "id": "8e2ae02a",
   "metadata": {},
   "outputs": [
    {
     "data": {
      "text/html": [
       "<div>\n",
       "<style scoped>\n",
       "    .dataframe tbody tr th:only-of-type {\n",
       "        vertical-align: middle;\n",
       "    }\n",
       "\n",
       "    .dataframe tbody tr th {\n",
       "        vertical-align: top;\n",
       "    }\n",
       "\n",
       "    .dataframe thead th {\n",
       "        text-align: right;\n",
       "    }\n",
       "</style>\n",
       "<table border=\"1\" class=\"dataframe\">\n",
       "  <thead>\n",
       "    <tr style=\"text-align: right;\">\n",
       "      <th></th>\n",
       "      <th>Invoice ID</th>\n",
       "      <th>Branch</th>\n",
       "      <th>City</th>\n",
       "      <th>Customer type</th>\n",
       "      <th>Gender</th>\n",
       "      <th>Product line</th>\n",
       "      <th>Unit price</th>\n",
       "      <th>Quantity</th>\n",
       "      <th>Tax 5%</th>\n",
       "      <th>Total</th>\n",
       "      <th>Date</th>\n",
       "      <th>Time</th>\n",
       "      <th>Payment</th>\n",
       "      <th>cogs</th>\n",
       "      <th>gross margin percentage</th>\n",
       "      <th>gross income</th>\n",
       "      <th>Rating</th>\n",
       "      <th>Day</th>\n",
       "    </tr>\n",
       "  </thead>\n",
       "  <tbody>\n",
       "    <tr>\n",
       "      <th>1</th>\n",
       "      <td>226-31-3081</td>\n",
       "      <td>C</td>\n",
       "      <td>Naypyitaw</td>\n",
       "      <td>Normal</td>\n",
       "      <td>Female</td>\n",
       "      <td>Electronic accessories</td>\n",
       "      <td>15.28</td>\n",
       "      <td>5</td>\n",
       "      <td>4.0110</td>\n",
       "      <td>80.2200</td>\n",
       "      <td>2019-03-08</td>\n",
       "      <td>2024-02-07 10:29:00</td>\n",
       "      <td>Cash</td>\n",
       "      <td>76.40</td>\n",
       "      <td>4.761905</td>\n",
       "      <td>3.8200</td>\n",
       "      <td>9.6</td>\n",
       "      <td>8</td>\n",
       "    </tr>\n",
       "    <tr>\n",
       "      <th>2</th>\n",
       "      <td>631-41-3108</td>\n",
       "      <td>A</td>\n",
       "      <td>Yangon</td>\n",
       "      <td>Normal</td>\n",
       "      <td>Male</td>\n",
       "      <td>Home and lifestyle</td>\n",
       "      <td>46.33</td>\n",
       "      <td>7</td>\n",
       "      <td>16.2155</td>\n",
       "      <td>340.5255</td>\n",
       "      <td>2019-03-03</td>\n",
       "      <td>2024-02-07 13:23:00</td>\n",
       "      <td>Credit card</td>\n",
       "      <td>324.31</td>\n",
       "      <td>4.761905</td>\n",
       "      <td>16.2155</td>\n",
       "      <td>7.4</td>\n",
       "      <td>3</td>\n",
       "    </tr>\n",
       "    <tr>\n",
       "      <th>3</th>\n",
       "      <td>123-19-1176</td>\n",
       "      <td>A</td>\n",
       "      <td>Yangon</td>\n",
       "      <td>Member</td>\n",
       "      <td>Male</td>\n",
       "      <td>Health and beauty</td>\n",
       "      <td>58.22</td>\n",
       "      <td>8</td>\n",
       "      <td>23.2880</td>\n",
       "      <td>489.0480</td>\n",
       "      <td>2019-01-27</td>\n",
       "      <td>2024-02-07 20:33:00</td>\n",
       "      <td>Ewallet</td>\n",
       "      <td>465.76</td>\n",
       "      <td>4.761905</td>\n",
       "      <td>23.2880</td>\n",
       "      <td>8.4</td>\n",
       "      <td>27</td>\n",
       "    </tr>\n",
       "  </tbody>\n",
       "</table>\n",
       "</div>"
      ],
      "text/plain": [
       "    Invoice ID Branch       City Customer type  Gender  \\\n",
       "1  226-31-3081      C  Naypyitaw        Normal  Female   \n",
       "2  631-41-3108      A     Yangon        Normal    Male   \n",
       "3  123-19-1176      A     Yangon        Member    Male   \n",
       "\n",
       "             Product line  Unit price  Quantity   Tax 5%     Total       Date  \\\n",
       "1  Electronic accessories       15.28         5   4.0110   80.2200 2019-03-08   \n",
       "2      Home and lifestyle       46.33         7  16.2155  340.5255 2019-03-03   \n",
       "3       Health and beauty       58.22         8  23.2880  489.0480 2019-01-27   \n",
       "\n",
       "                 Time      Payment    cogs  gross margin percentage  \\\n",
       "1 2024-02-07 10:29:00         Cash   76.40                 4.761905   \n",
       "2 2024-02-07 13:23:00  Credit card  324.31                 4.761905   \n",
       "3 2024-02-07 20:33:00      Ewallet  465.76                 4.761905   \n",
       "\n",
       "   gross income  Rating  Day  \n",
       "1        3.8200     9.6    8  \n",
       "2       16.2155     7.4    3  \n",
       "3       23.2880     8.4   27  "
      ]
     },
     "execution_count": 88,
     "metadata": {},
     "output_type": "execute_result"
    }
   ],
   "source": [
    "sales.head(3)"
   ]
  },
  {
   "cell_type": "code",
   "execution_count": 89,
   "id": "90230f38",
   "metadata": {},
   "outputs": [
    {
     "name": "stderr",
     "output_type": "stream",
     "text": [
      "C:\\Users\\dittm\\AppData\\Local\\Temp\\ipykernel_8048\\1103660537.py:1: FutureWarning:\n",
      "\n",
      "The default value of numeric_only in DataFrameGroupBy.sum is deprecated. In a future version, numeric_only will default to False. Either specify numeric_only or select only columns which should be valid for the function.\n",
      "\n"
     ]
    },
    {
     "data": {
      "text/plain": [
       "Day\n",
       "1      9824.0835\n",
       "2     12646.7565\n",
       "3     12399.2295\n",
       "4      7957.6245\n",
       "5     11908.0500\n",
       "6      9612.2250\n",
       "7     11500.7130\n",
       "8     13503.7770\n",
       "9     13767.2850\n",
       "10     9865.2015\n",
       "11     9618.3675\n",
       "12    11861.3040\n",
       "13     5389.7235\n",
       "14    13635.3420\n",
       "15    15717.4605\n",
       "16     9947.3220\n",
       "17    10418.6145\n",
       "18     5569.3365\n",
       "19    14883.2355\n",
       "20    11820.0705\n",
       "21     5663.3535\n",
       "22     7326.2280\n",
       "23    12428.8185\n",
       "24    11601.9750\n",
       "25    11780.5695\n",
       "26     8828.1900\n",
       "27    13233.2970\n",
       "28     8800.9005\n",
       "29     7539.8085\n",
       "30     7045.3215\n",
       "31     5232.4965\n",
       "Name: Total, dtype: float64"
      ]
     },
     "execution_count": 89,
     "metadata": {},
     "output_type": "execute_result"
    }
   ],
   "source": [
    "day_sales = sales.groupby('Day').sum()['Total']\n",
    "day_sales"
   ]
  },
  {
   "cell_type": "code",
   "execution_count": 90,
   "id": "9d5ee232",
   "metadata": {},
   "outputs": [
    {
     "data": {
      "image/png": "[encoded data removed]",
      "text/plain": [
       "<Figure size 640x480 with 1 Axes>"
      ]
     },
     "metadata": {},
     "output_type": "display_data"
    }
   ],
   "source": [
    "day_sales.plot()\n",
    "plt.show()"
   ]
  },
  {
   "cell_type": "code",
   "execution_count": 91,
   "id": "6fc29b1d",
   "metadata": {},
   "outputs": [
    {
     "data": {
      "text/html": [
       "<div>\n",
       "<style scoped>\n",
       "    .dataframe tbody tr th:only-of-type {\n",
       "        vertical-align: middle;\n",
       "    }\n",
       "\n",
       "    .dataframe tbody tr th {\n",
       "        vertical-align: top;\n",
       "    }\n",
       "\n",
       "    .dataframe thead th {\n",
       "        text-align: right;\n",
       "    }\n",
       "</style>\n",
       "<table border=\"1\" class=\"dataframe\">\n",
       "  <thead>\n",
       "    <tr style=\"text-align: right;\">\n",
       "      <th></th>\n",
       "      <th>Day</th>\n",
       "      <th>Total</th>\n",
       "    </tr>\n",
       "  </thead>\n",
       "  <tbody>\n",
       "    <tr>\n",
       "      <th>0</th>\n",
       "      <td>1</td>\n",
       "      <td>9824.0835</td>\n",
       "    </tr>\n",
       "    <tr>\n",
       "      <th>1</th>\n",
       "      <td>2</td>\n",
       "      <td>12646.7565</td>\n",
       "    </tr>\n",
       "  </tbody>\n",
       "</table>\n",
       "</div>"
      ],
      "text/plain": [
       "   Day       Total\n",
       "0    1   9824.0835\n",
       "1    2  12646.7565"
      ]
     },
     "execution_count": 91,
     "metadata": {},
     "output_type": "execute_result"
    }
   ],
   "source": [
    "day_sales_df = day_sales.to_frame().reset_index()\n",
    "day_sales_df.head(2)"
   ]
  },
  {
   "cell_type": "code",
   "execution_count": 92,
   "id": "e70c8c02",
   "metadata": {},
   "outputs": [
    {
     "data": {
      "application/vnd.plotly.v1+json": {
       "config": {
        "plotlyServerURL": "https://plot.ly"
       },
       "data": [
        {
         "hovertemplate": "Day=%{x}<br>Total=%{y}<extra></extra>",
         "legendgroup": "",
         "line": {
          "color": "#636efa",
          "dash": "solid"
         },
         "marker": {
          "symbol": "circle"
         },
         "mode": "lines",
         "name": "",
         "orientation": "v",
         "showlegend": false,
         "type": "scatter",
         "x": [
          1,
          2,
          3,
          4,
          5,
          6,
          7,
          8,
          9,
          10,
          11,
          12,
          13,
          14,
          15,
          16,
          17,
          18,
          19,
          20,
          21,
          22,
          23,
          24,
          25,
          26,
          27,
          28,
          29,
          30,
          31
         ],
         "xaxis": "x",
         "y": [
          9824.0835,
          12646.7565,
          12399.2295,
          7957.6245,
          11908.05,
          9612.225,
          11500.713,
          13503.777,
          13767.285,
          9865.2015,
          9618.3675,
          11861.304,
          5389.7235,
          13635.342,
          15717.460500000001,
          9947.322,
          10418.6145,
          5569.336499999999,
          14883.2355,
          11820.0705,
          5663.3535,
          7326.228,
          12428.8185,
          11601.975,
          11780.5695,
          8828.19,
          13233.297,
          8800.9005,
          7539.8085,
          7045.3215,
          5232.4965
         ],
         "yaxis": "y"
        }
       ],
       "layout": {
        "legend": {
         "tracegroupgap": 0
        },
        "margin": {
         "t": 60
        },
        "template": {
         "data": {
          "bar": [
           {
            "error_x": {
             "color": "#2a3f5f"
            },
            "error_y": {
             "color": "#2a3f5f"
            },
            "marker": {
             "line": {
              "color": "#E5ECF6",
              "width": 0.5
             },
             "pattern": {
              "fillmode": "overlay",
              "size": 10,
              "solidity": 0.2
             }
            },
            "type": "bar"
           }
          ],
          "barpolar": [
           {
            "marker": {
             "line": {
              "color": "#E5ECF6",
              "width": 0.5
             },
             "pattern": {
              "fillmode": "overlay",
              "size": 10,
              "solidity": 0.2
             }
            },
            "type": "barpolar"
           }
          ],
          "carpet": [
           {
            "aaxis": {
             "endlinecolor": "#2a3f5f",
             "gridcolor": "white",
             "linecolor": "white",
             "minorgridcolor": "white",
             "startlinecolor": "#2a3f5f"
            },
            "baxis": {
             "endlinecolor": "#2a3f5f",
             "gridcolor": "white",
             "linecolor": "white",
             "minorgridcolor": "white",
             "startlinecolor": "#2a3f5f"
            },
            "type": "carpet"
           }
          ],
          "choropleth": [
           {
            "colorbar": {
             "outlinewidth": 0,
             "ticks": ""
            },
            "type": "choropleth"
           }
          ],
          "contour": [
           {
            "colorbar": {
             "outlinewidth": 0,
             "ticks": ""
            },
            "colorscale": [
             [
              0,
              "#0d0887"
             ],
             [
              0.1111111111111111,
              "#46039f"
             ],
             [
              0.2222222222222222,
              "#7201a8"
             ],
             [
              0.3333333333333333,
              "#9c179e"
             ],
             [
              0.4444444444444444,
              "#bd3786"
             ],
             [
              0.5555555555555556,
              "#d8576b"
             ],
             [
              0.6666666666666666,
              "#ed7953"
             ],
             [
              0.7777777777777778,
              "#fb9f3a"
             ],
             [
              0.8888888888888888,
              "#fdca26"
             ],
             [
              1,
              "#f0f921"
             ]
            ],
            "type": "contour"
           }
          ],
          "contourcarpet": [
           {
            "colorbar": {
             "outlinewidth": 0,
             "ticks": ""
            },
            "type": "contourcarpet"
           }
          ],
          "heatmap": [
           {
            "colorbar": {
             "outlinewidth": 0,
             "ticks": ""
            },
            "colorscale": [
             [
              0,
              "#0d0887"
             ],
             [
              0.1111111111111111,
              "#46039f"
             ],
             [
              0.2222222222222222,
              "#7201a8"
             ],
             [
              0.3333333333333333,
              "#9c179e"
             ],
             [
              0.4444444444444444,
              "#bd3786"
             ],
             [
              0.5555555555555556,
              "#d8576b"
             ],
             [
              0.6666666666666666,
              "#ed7953"
             ],
             [
              0.7777777777777778,
              "#fb9f3a"
             ],
             [
              0.8888888888888888,
              "#fdca26"
             ],
             [
              1,
              "#f0f921"
             ]
            ],
            "type": "heatmap"
           }
          ],
          "heatmapgl": [
           {
            "colorbar": {
             "outlinewidth": 0,
             "ticks": ""
            },
            "colorscale": [
             [
              0,
              "#0d0887"
             ],
             [
              0.1111111111111111,
              "#46039f"
             ],
             [
              0.2222222222222222,
              "#7201a8"
             ],
             [
              0.3333333333333333,
              "#9c179e"
             ],
             [
              0.4444444444444444,
              "#bd3786"
             ],
             [
              0.5555555555555556,
              "#d8576b"
             ],
             [
              0.6666666666666666,
              "#ed7953"
             ],
             [
              0.7777777777777778,
              "#fb9f3a"
             ],
             [
              0.8888888888888888,
              "#fdca26"
             ],
             [
              1,
              "#f0f921"
             ]
            ],
            "type": "heatmapgl"
           }
          ],
          "histogram": [
           {
            "marker": {
             "pattern": {
              "fillmode": "overlay",
              "size": 10,
              "solidity": 0.2
             }
            },
            "type": "histogram"
           }
          ],
          "histogram2d": [
           {
            "colorbar": {
             "outlinewidth": 0,
             "ticks": ""
            },
            "colorscale": [
             [
              0,
              "#0d0887"
             ],
             [
              0.1111111111111111,
              "#46039f"
             ],
             [
              0.2222222222222222,
              "#7201a8"
             ],
             [
              0.3333333333333333,
              "#9c179e"
             ],
             [
              0.4444444444444444,
              "#bd3786"
             ],
             [
              0.5555555555555556,
              "#d8576b"
             ],
             [
              0.6666666666666666,
              "#ed7953"
             ],
             [
              0.7777777777777778,
              "#fb9f3a"
             ],
             [
              0.8888888888888888,
              "#fdca26"
             ],
             [
              1,
              "#f0f921"
             ]
            ],
            "type": "histogram2d"
           }
          ],
          "histogram2dcontour": [
           {
            "colorbar": {
             "outlinewidth": 0,
             "ticks": ""
            },
            "colorscale": [
             [
              0,
              "#0d0887"
             ],
             [
              0.1111111111111111,
              "#46039f"
             ],
             [
              0.2222222222222222,
              "#7201a8"
             ],
             [
              0.3333333333333333,
              "#9c179e"
             ],
             [
              0.4444444444444444,
              "#bd3786"
             ],
             [
              0.5555555555555556,
              "#d8576b"
             ],
             [
              0.6666666666666666,
              "#ed7953"
             ],
             [
              0.7777777777777778,
              "#fb9f3a"
             ],
             [
              0.8888888888888888,
              "#fdca26"
             ],
             [
              1,
              "#f0f921"
             ]
            ],
            "type": "histogram2dcontour"
           }
          ],
          "mesh3d": [
           {
            "colorbar": {
             "outlinewidth": 0,
             "ticks": ""
            },
            "type": "mesh3d"
           }
          ],
          "parcoords": [
           {
            "line": {
             "colorbar": {
              "outlinewidth": 0,
              "ticks": ""
             }
            },
            "type": "parcoords"
           }
          ],
          "pie": [
           {
            "automargin": true,
            "type": "pie"
           }
          ],
          "scatter": [
           {
            "fillpattern": {
             "fillmode": "overlay",
             "size": 10,
             "solidity": 0.2
            },
            "type": "scatter"
           }
          ],
          "scatter3d": [
           {
            "line": {
             "colorbar": {
              "outlinewidth": 0,
              "ticks": ""
             }
            },
            "marker": {
             "colorbar": {
              "outlinewidth": 0,
              "ticks": ""
             }
            },
            "type": "scatter3d"
           }
          ],
          "scattercarpet": [
           {
            "marker": {
             "colorbar": {
              "outlinewidth": 0,
              "ticks": ""
             }
            },
            "type": "scattercarpet"
           }
          ],
          "scattergeo": [
           {
            "marker": {
             "colorbar": {
              "outlinewidth": 0,
              "ticks": ""
             }
            },
            "type": "scattergeo"
           }
          ],
          "scattergl": [
           {
            "marker": {
             "colorbar": {
              "outlinewidth": 0,
              "ticks": ""
             }
            },
            "type": "scattergl"
           }
          ],
          "scattermapbox": [
           {
            "marker": {
             "colorbar": {
              "outlinewidth": 0,
              "ticks": ""
             }
            },
            "type": "scattermapbox"
           }
          ],
          "scatterpolar": [
           {
            "marker": {
             "colorbar": {
              "outlinewidth": 0,
              "ticks": ""
             }
            },
            "type": "scatterpolar"
           }
          ],
          "scatterpolargl": [
           {
            "marker": {
             "colorbar": {
              "outlinewidth": 0,
              "ticks": ""
             }
            },
            "type": "scatterpolargl"
           }
          ],
          "scatterternary": [
           {
            "marker": {
             "colorbar": {
              "outlinewidth": 0,
              "ticks": ""
             }
            },
            "type": "scatterternary"
           }
          ],
          "surface": [
           {
            "colorbar": {
             "outlinewidth": 0,
             "ticks": ""
            },
            "colorscale": [
             [
              0,
              "#0d0887"
             ],
             [
              0.1111111111111111,
              "#46039f"
             ],
             [
              0.2222222222222222,
              "#7201a8"
             ],
             [
              0.3333333333333333,
              "#9c179e"
             ],
             [
              0.4444444444444444,
              "#bd3786"
             ],
             [
              0.5555555555555556,
              "#d8576b"
             ],
             [
              0.6666666666666666,
              "#ed7953"
             ],
             [
              0.7777777777777778,
              "#fb9f3a"
             ],
             [
              0.8888888888888888,
              "#fdca26"
             ],
             [
              1,
              "#f0f921"
             ]
            ],
            "type": "surface"
           }
          ],
          "table": [
           {
            "cells": {
             "fill": {
              "color": "#EBF0F8"
             },
             "line": {
              "color": "white"
             }
            },
            "header": {
             "fill": {
              "color": "#C8D4E3"
             },
             "line": {
              "color": "white"
             }
            },
            "type": "table"
           }
          ]
         },
         "layout": {
          "annotationdefaults": {
           "arrowcolor": "#2a3f5f",
           "arrowhead": 0,
           "arrowwidth": 1
          },
          "autotypenumbers": "strict",
          "coloraxis": {
           "colorbar": {
            "outlinewidth": 0,
            "ticks": ""
           }
          },
          "colorscale": {
           "diverging": [
            [
             0,
             "#8e0152"
            ],
            [
             0.1,
             "#c51b7d"
            ],
            [
             0.2,
             "#de77ae"
            ],
            [
             0.3,
             "#f1b6da"
            ],
            [
             0.4,
             "#fde0ef"
            ],
            [
             0.5,
             "#f7f7f7"
            ],
            [
             0.6,
             "#e6f5d0"
            ],
            [
             0.7,
             "#b8e186"
            ],
            [
             0.8,
             "#7fbc41"
            ],
            [
             0.9,
             "#4d9221"
            ],
            [
             1,
             "#276419"
            ]
           ],
           "sequential": [
            [
             0,
             "#0d0887"
            ],
            [
             0.1111111111111111,
             "#46039f"
            ],
            [
             0.2222222222222222,
             "#7201a8"
            ],
            [
             0.3333333333333333,
             "#9c179e"
            ],
            [
             0.4444444444444444,
             "#bd3786"
            ],
            [
             0.5555555555555556,
             "#d8576b"
            ],
            [
             0.6666666666666666,
             "#ed7953"
            ],
            [
             0.7777777777777778,
             "#fb9f3a"
            ],
            [
             0.8888888888888888,
             "#fdca26"
            ],
            [
             1,
             "#f0f921"
            ]
           ],
           "sequentialminus": [
            [
             0,
             "#0d0887"
            ],
            [
             0.1111111111111111,
             "#46039f"
            ],
            [
             0.2222222222222222,
             "#7201a8"
            ],
            [
             0.3333333333333333,
             "#9c179e"
            ],
            [
             0.4444444444444444,
             "#bd3786"
            ],
            [
             0.5555555555555556,
             "#d8576b"
            ],
            [
             0.6666666666666666,
             "#ed7953"
            ],
            [
             0.7777777777777778,
             "#fb9f3a"
            ],
            [
             0.8888888888888888,
             "#fdca26"
            ],
            [
             1,
             "#f0f921"
            ]
           ]
          },
          "colorway": [
           "#636efa",
           "#EF553B",
           "#00cc96",
           "#ab63fa",
           "#FFA15A",
           "#19d3f3",
           "#FF6692",
           "#B6E880",
           "#FF97FF",
           "#FECB52"
          ],
          "font": {
           "color": "#2a3f5f"
          },
          "geo": {
           "bgcolor": "white",
           "lakecolor": "white",
           "landcolor": "#E5ECF6",
           "showlakes": true,
           "showland": true,
           "subunitcolor": "white"
          },
          "hoverlabel": {
           "align": "left"
          },
          "hovermode": "closest",
          "mapbox": {
           "style": "light"
          },
          "paper_bgcolor": "white",
          "plot_bgcolor": "#E5ECF6",
          "polar": {
           "angularaxis": {
            "gridcolor": "white",
            "linecolor": "white",
            "ticks": ""
           },
           "bgcolor": "#E5ECF6",
           "radialaxis": {
            "gridcolor": "white",
            "linecolor": "white",
            "ticks": ""
           }
          },
          "scene": {
           "xaxis": {
            "backgroundcolor": "#E5ECF6",
            "gridcolor": "white",
            "gridwidth": 2,
            "linecolor": "white",
            "showbackground": true,
            "ticks": "",
            "zerolinecolor": "white"
           },
           "yaxis": {
            "backgroundcolor": "#E5ECF6",
            "gridcolor": "white",
            "gridwidth": 2,
            "linecolor": "white",
            "showbackground": true,
            "ticks": "",
            "zerolinecolor": "white"
           },
           "zaxis": {
            "backgroundcolor": "#E5ECF6",
            "gridcolor": "white",
            "gridwidth": 2,
            "linecolor": "white",
            "showbackground": true,
            "ticks": "",
            "zerolinecolor": "white"
           }
          },
          "shapedefaults": {
           "line": {
            "color": "#2a3f5f"
           }
          },
          "ternary": {
           "aaxis": {
            "gridcolor": "white",
            "linecolor": "white",
            "ticks": ""
           },
           "baxis": {
            "gridcolor": "white",
            "linecolor": "white",
            "ticks": ""
           },
           "bgcolor": "#E5ECF6",
           "caxis": {
            "gridcolor": "white",
            "linecolor": "white",
            "ticks": ""
           }
          },
          "title": {
           "x": 0.05
          },
          "xaxis": {
           "automargin": true,
           "gridcolor": "white",
           "linecolor": "white",
           "ticks": "",
           "title": {
            "standoff": 15
           },
           "zerolinecolor": "white",
           "zerolinewidth": 2
          },
          "yaxis": {
           "automargin": true,
           "gridcolor": "white",
           "linecolor": "white",
           "ticks": "",
           "title": {
            "standoff": 15
           },
           "zerolinecolor": "white",
           "zerolinewidth": 2
          }
         }
        },
        "xaxis": {
         "anchor": "y",
         "domain": [
          0,
          1
         ],
         "title": {
          "text": "Day"
         }
        },
        "yaxis": {
         "anchor": "x",
         "domain": [
          0,
          1
         ],
         "title": {
          "text": "Total"
         }
        }
       }
      }
     },
     "metadata": {},
     "output_type": "display_data"
    }
   ],
   "source": [
    "fig = px.line(day_sales_df, x='Day', y=\"Total\")\n",
    "fig.show()"
   ]
  },
  {
   "cell_type": "markdown",
   "id": "cc24b979",
   "metadata": {},
   "source": [
    "7. Which month makes the most sales?"
   ]
  },
  {
   "cell_type": "code",
   "execution_count": 93,
   "id": "e70263f1",
   "metadata": {},
   "outputs": [],
   "source": [
    "sales['Month'] = sales['Date'].dt.month"
   ]
  },
  {
   "cell_type": "code",
   "execution_count": 94,
   "id": "341d0f84",
   "metadata": {},
   "outputs": [
    {
     "data": {
      "text/html": [
       "<div>\n",
       "<style scoped>\n",
       "    .dataframe tbody tr th:only-of-type {\n",
       "        vertical-align: middle;\n",
       "    }\n",
       "\n",
       "    .dataframe tbody tr th {\n",
       "        vertical-align: top;\n",
       "    }\n",
       "\n",
       "    .dataframe thead th {\n",
       "        text-align: right;\n",
       "    }\n",
       "</style>\n",
       "<table border=\"1\" class=\"dataframe\">\n",
       "  <thead>\n",
       "    <tr style=\"text-align: right;\">\n",
       "      <th></th>\n",
       "      <th>Invoice ID</th>\n",
       "      <th>Branch</th>\n",
       "      <th>City</th>\n",
       "      <th>Customer type</th>\n",
       "      <th>Gender</th>\n",
       "      <th>Product line</th>\n",
       "      <th>Unit price</th>\n",
       "      <th>Quantity</th>\n",
       "      <th>Tax 5%</th>\n",
       "      <th>Total</th>\n",
       "      <th>Date</th>\n",
       "      <th>Time</th>\n",
       "      <th>Payment</th>\n",
       "      <th>cogs</th>\n",
       "      <th>gross margin percentage</th>\n",
       "      <th>gross income</th>\n",
       "      <th>Rating</th>\n",
       "      <th>Day</th>\n",
       "      <th>Month</th>\n",
       "    </tr>\n",
       "  </thead>\n",
       "  <tbody>\n",
       "    <tr>\n",
       "      <th>1</th>\n",
       "      <td>226-31-3081</td>\n",
       "      <td>C</td>\n",
       "      <td>Naypyitaw</td>\n",
       "      <td>Normal</td>\n",
       "      <td>Female</td>\n",
       "      <td>Electronic accessories</td>\n",
       "      <td>15.28</td>\n",
       "      <td>5</td>\n",
       "      <td>4.0110</td>\n",
       "      <td>80.2200</td>\n",
       "      <td>2019-03-08</td>\n",
       "      <td>2024-02-07 10:29:00</td>\n",
       "      <td>Cash</td>\n",
       "      <td>76.40</td>\n",
       "      <td>4.761905</td>\n",
       "      <td>3.8200</td>\n",
       "      <td>9.6</td>\n",
       "      <td>8</td>\n",
       "      <td>3</td>\n",
       "    </tr>\n",
       "    <tr>\n",
       "      <th>2</th>\n",
       "      <td>631-41-3108</td>\n",
       "      <td>A</td>\n",
       "      <td>Yangon</td>\n",
       "      <td>Normal</td>\n",
       "      <td>Male</td>\n",
       "      <td>Home and lifestyle</td>\n",
       "      <td>46.33</td>\n",
       "      <td>7</td>\n",
       "      <td>16.2155</td>\n",
       "      <td>340.5255</td>\n",
       "      <td>2019-03-03</td>\n",
       "      <td>2024-02-07 13:23:00</td>\n",
       "      <td>Credit card</td>\n",
       "      <td>324.31</td>\n",
       "      <td>4.761905</td>\n",
       "      <td>16.2155</td>\n",
       "      <td>7.4</td>\n",
       "      <td>3</td>\n",
       "      <td>3</td>\n",
       "    </tr>\n",
       "    <tr>\n",
       "      <th>3</th>\n",
       "      <td>123-19-1176</td>\n",
       "      <td>A</td>\n",
       "      <td>Yangon</td>\n",
       "      <td>Member</td>\n",
       "      <td>Male</td>\n",
       "      <td>Health and beauty</td>\n",
       "      <td>58.22</td>\n",
       "      <td>8</td>\n",
       "      <td>23.2880</td>\n",
       "      <td>489.0480</td>\n",
       "      <td>2019-01-27</td>\n",
       "      <td>2024-02-07 20:33:00</td>\n",
       "      <td>Ewallet</td>\n",
       "      <td>465.76</td>\n",
       "      <td>4.761905</td>\n",
       "      <td>23.2880</td>\n",
       "      <td>8.4</td>\n",
       "      <td>27</td>\n",
       "      <td>1</td>\n",
       "    </tr>\n",
       "    <tr>\n",
       "      <th>4</th>\n",
       "      <td>373-73-7910</td>\n",
       "      <td>A</td>\n",
       "      <td>Yangon</td>\n",
       "      <td>Normal</td>\n",
       "      <td>Male</td>\n",
       "      <td>Sports and travel</td>\n",
       "      <td>86.31</td>\n",
       "      <td>7</td>\n",
       "      <td>30.2085</td>\n",
       "      <td>634.3785</td>\n",
       "      <td>2019-02-08</td>\n",
       "      <td>2024-02-07 10:37:00</td>\n",
       "      <td>Ewallet</td>\n",
       "      <td>604.17</td>\n",
       "      <td>4.761905</td>\n",
       "      <td>30.2085</td>\n",
       "      <td>5.3</td>\n",
       "      <td>8</td>\n",
       "      <td>2</td>\n",
       "    </tr>\n",
       "    <tr>\n",
       "      <th>5</th>\n",
       "      <td>699-14-3026</td>\n",
       "      <td>C</td>\n",
       "      <td>Naypyitaw</td>\n",
       "      <td>Normal</td>\n",
       "      <td>Male</td>\n",
       "      <td>Electronic accessories</td>\n",
       "      <td>85.39</td>\n",
       "      <td>7</td>\n",
       "      <td>29.8865</td>\n",
       "      <td>627.6165</td>\n",
       "      <td>2019-03-25</td>\n",
       "      <td>2024-02-07 18:30:00</td>\n",
       "      <td>Ewallet</td>\n",
       "      <td>597.73</td>\n",
       "      <td>4.761905</td>\n",
       "      <td>29.8865</td>\n",
       "      <td>4.1</td>\n",
       "      <td>25</td>\n",
       "      <td>3</td>\n",
       "    </tr>\n",
       "  </tbody>\n",
       "</table>\n",
       "</div>"
      ],
      "text/plain": [
       "    Invoice ID Branch       City Customer type  Gender  \\\n",
       "1  226-31-3081      C  Naypyitaw        Normal  Female   \n",
       "2  631-41-3108      A     Yangon        Normal    Male   \n",
       "3  123-19-1176      A     Yangon        Member    Male   \n",
       "4  373-73-7910      A     Yangon        Normal    Male   \n",
       "5  699-14-3026      C  Naypyitaw        Normal    Male   \n",
       "\n",
       "             Product line  Unit price  Quantity   Tax 5%     Total       Date  \\\n",
       "1  Electronic accessories       15.28         5   4.0110   80.2200 2019-03-08   \n",
       "2      Home and lifestyle       46.33         7  16.2155  340.5255 2019-03-03   \n",
       "3       Health and beauty       58.22         8  23.2880  489.0480 2019-01-27   \n",
       "4       Sports and travel       86.31         7  30.2085  634.3785 2019-02-08   \n",
       "5  Electronic accessories       85.39         7  29.8865  627.6165 2019-03-25   \n",
       "\n",
       "                 Time      Payment    cogs  gross margin percentage  \\\n",
       "1 2024-02-07 10:29:00         Cash   76.40                 4.761905   \n",
       "2 2024-02-07 13:23:00  Credit card  324.31                 4.761905   \n",
       "3 2024-02-07 20:33:00      Ewallet  465.76                 4.761905   \n",
       "4 2024-02-07 10:37:00      Ewallet  604.17                 4.761905   \n",
       "5 2024-02-07 18:30:00      Ewallet  597.73                 4.761905   \n",
       "\n",
       "   gross income  Rating  Day  Month  \n",
       "1        3.8200     9.6    8      3  \n",
       "2       16.2155     7.4    3      3  \n",
       "3       23.2880     8.4   27      1  \n",
       "4       30.2085     5.3    8      2  \n",
       "5       29.8865     4.1   25      3  "
      ]
     },
     "execution_count": 94,
     "metadata": {},
     "output_type": "execute_result"
    }
   ],
   "source": [
    "sales.head()"
   ]
  },
  {
   "cell_type": "code",
   "execution_count": 95,
   "id": "0c3159e7",
   "metadata": {},
   "outputs": [
    {
     "name": "stderr",
     "output_type": "stream",
     "text": [
      "C:\\Users\\dittm\\AppData\\Local\\Temp\\ipykernel_8048\\3516225620.py:1: FutureWarning:\n",
      "\n",
      "The default value of numeric_only in DataFrameGroupBy.sum is deprecated. In a future version, numeric_only will default to False. Either specify numeric_only or select only columns which should be valid for the function.\n",
      "\n"
     ]
    },
    {
     "data": {
      "text/plain": [
       "Month\n",
       "1    115742.8965\n",
       "2     96877.7040\n",
       "3    108706.0800\n",
       "Name: Total, dtype: float64"
      ]
     },
     "execution_count": 95,
     "metadata": {},
     "output_type": "execute_result"
    }
   ],
   "source": [
    "month_sales = sales.groupby('Month').sum()['Total']\n",
    "month_sales"
   ]
  },
  {
   "cell_type": "code",
   "execution_count": 96,
   "id": "f50fb1f6",
   "metadata": {},
   "outputs": [
    {
     "data": {
      "image/png": "[encoded data removed]",
      "text/plain": [
       "<Figure size 640x480 with 1 Axes>"
      ]
     },
     "metadata": {},
     "output_type": "display_data"
    }
   ],
   "source": [
    "month_sales.plot(kind = 'bar')\n",
    "plt.show()"
   ]
  },
  {
   "cell_type": "code",
   "execution_count": null,
   "id": "2fd13fa9",
   "metadata": {},
   "outputs": [],
   "source": []
  },
  {
   "cell_type": "markdown",
   "id": "305463c2",
   "metadata": {},
   "source": [
    "8. Find the highest unit price in the product line.\n"
   ]
  },
  {
   "cell_type": "code",
   "execution_count": 97,
   "id": "21ac0769",
   "metadata": {},
   "outputs": [
    {
     "data": {
      "image/png": "[encoded data removed]",
      "text/plain": [
       "<Figure size 640x480 with 1 Axes>"
      ]
     },
     "metadata": {},
     "output_type": "display_data"
    }
   ],
   "source": [
    "unitprice_max = sales.groupby(\"Product line\").max()[\"Unit price\"]\n",
    "unitprice_max.plot(kind = 'bar')\n",
    "plt.show()"
   ]
  },
  {
   "cell_type": "markdown",
   "id": "e1508517",
   "metadata": {},
   "source": [
    "9. Find the most popular payment method used by customers"
   ]
  },
  {
   "cell_type": "code",
   "execution_count": 98,
   "id": "b7dc8da6",
   "metadata": {},
   "outputs": [
    {
     "data": {
      "text/plain": [
       "<Axes: ylabel='Payment'>"
      ]
     },
     "execution_count": 98,
     "metadata": {},
     "output_type": "execute_result"
    },
    {
     "data": {
      "image/png": "[encoded data removed]",
      "text/plain": [
       "<Figure size 640x480 with 1 Axes>"
      ]
     },
     "metadata": {},
     "output_type": "display_data"
    }
   ],
   "source": [
    "sales['Payment'].value_counts().plot(kind='pie')"
   ]
  },
  {
   "cell_type": "code",
   "execution_count": 99,
   "id": "06d3b9ec",
   "metadata": {},
   "outputs": [],
   "source": [
    "df_payment = sales['Payment']"
   ]
  },
  {
   "cell_type": "code",
   "execution_count": 100,
   "id": "a5062715",
   "metadata": {},
   "outputs": [],
   "source": [
    "df_payment = df_payment.reset_index()"
   ]
  },
  {
   "cell_type": "code",
   "execution_count": 101,
   "id": "ad896fbb",
   "metadata": {},
   "outputs": [
    {
     "data": {
      "application/vnd.plotly.v1+json": {
       "config": {
        "plotlyServerURL": "https://plot.ly"
       },
       "data": [
        {
         "customdata": [
          [
           "Cash"
          ],
          [
           "Credit card"
          ],
          [
           "Ewallet"
          ],
          [
           "Ewallet"
          ],
          [
           "Ewallet"
          ],
          [
           "Ewallet"
          ],
          [
           "Ewallet"
          ],
          [
           "Credit card"
          ],
          [
           "Credit card"
          ],
          [
           "Ewallet"
          ],
          [
           "Cash"
          ],
          [
           "Ewallet"
          ],
          [
           "Ewallet"
          ],
          [
           "Cash"
          ],
          [
           "Cash"
          ],
          [
           "Credit card"
          ],
          [
           "Credit card"
          ],
          [
           "Credit card"
          ],
          [
           "Ewallet"
          ],
          [
           "Ewallet"
          ],
          [
           "Ewallet"
          ],
          [
           "Credit card"
          ],
          [
           "Ewallet"
          ],
          [
           "Ewallet"
          ],
          [
           "Credit card"
          ],
          [
           "Cash"
          ],
          [
           "Credit card"
          ],
          [
           "Cash"
          ],
          [
           "Cash"
          ],
          [
           "Credit card"
          ],
          [
           "Cash"
          ],
          [
           "Cash"
          ],
          [
           "Credit card"
          ],
          [
           "Ewallet"
          ],
          [
           "Ewallet"
          ],
          [
           "Ewallet"
          ],
          [
           "Ewallet"
          ],
          [
           "Ewallet"
          ],
          [
           "Cash"
          ],
          [
           "Ewallet"
          ],
          [
           "Cash"
          ],
          [
           "Cash"
          ],
          [
           "Cash"
          ],
          [
           "Cash"
          ],
          [
           "Cash"
          ],
          [
           "Credit card"
          ],
          [
           "Ewallet"
          ],
          [
           "Credit card"
          ],
          [
           "Ewallet"
          ],
          [
           "Cash"
          ],
          [
           "Cash"
          ],
          [
           "Ewallet"
          ],
          [
           "Credit card"
          ],
          [
           "Ewallet"
          ],
          [
           "Cash"
          ],
          [
           "Cash"
          ],
          [
           "Ewallet"
          ],
          [
           "Cash"
          ],
          [
           "Cash"
          ],
          [
           "Credit card"
          ],
          [
           "Ewallet"
          ],
          [
           "Ewallet"
          ],
          [
           "Credit card"
          ],
          [
           "Cash"
          ],
          [
           "Cash"
          ],
          [
           "Ewallet"
          ],
          [
           "Ewallet"
          ],
          [
           "Cash"
          ],
          [
           "Cash"
          ],
          [
           "Credit card"
          ],
          [
           "Cash"
          ],
          [
           "Ewallet"
          ],
          [
           "Cash"
          ],
          [
           "Ewallet"
          ],
          [
           "Credit card"
          ],
          [
           "Credit card"
          ],
          [
           "Credit card"
          ],
          [
           "Ewallet"
          ],
          [
           "Cash"
          ],
          [
           "Credit card"
          ],
          [
           "Ewallet"
          ],
          [
           "Ewallet"
          ],
          [
           "Credit card"
          ],
          [
           "Cash"
          ],
          [
           "Ewallet"
          ],
          [
           "Cash"
          ],
          [
           "Credit card"
          ],
          [
           "Cash"
          ],
          [
           "Cash"
          ],
          [
           "Cash"
          ],
          [
           "Ewallet"
          ],
          [
           "Ewallet"
          ],
          [
           "Credit card"
          ],
          [
           "Credit card"
          ],
          [
           "Ewallet"
          ],
          [
           "Ewallet"
          ],
          [
           "Cash"
          ],
          [
           "Ewallet"
          ],
          [
           "Cash"
          ],
          [
           "Cash"
          ],
          [
           "Cash"
          ],
          [
           "Cash"
          ],
          [
           "Cash"
          ],
          [
           "Cash"
          ],
          [
           "Ewallet"
          ],
          [
           "Credit card"
          ],
          [
           "Cash"
          ],
          [
           "Cash"
          ],
          [
           "Cash"
          ],
          [
           "Ewallet"
          ],
          [
           "Credit card"
          ],
          [
           "Cash"
          ],
          [
           "Ewallet"
          ],
          [
           "Credit card"
          ],
          [
           "Credit card"
          ],
          [
           "Ewallet"
          ],
          [
           "Ewallet"
          ],
          [
           "Ewallet"
          ],
          [
           "Ewallet"
          ],
          [
           "Credit card"
          ],
          [
           "Credit card"
          ],
          [
           "Credit card"
          ],
          [
           "Credit card"
          ],
          [
           "Ewallet"
          ],
          [
           "Credit card"
          ],
          [
           "Cash"
          ],
          [
           "Credit card"
          ],
          [
           "Ewallet"
          ],
          [
           "Ewallet"
          ],
          [
           "Cash"
          ],
          [
           "Cash"
          ],
          [
           "Cash"
          ],
          [
           "Credit card"
          ],
          [
           "Ewallet"
          ],
          [
           "Cash"
          ],
          [
           "Credit card"
          ],
          [
           "Cash"
          ],
          [
           "Cash"
          ],
          [
           "Ewallet"
          ],
          [
           "Credit card"
          ],
          [
           "Cash"
          ],
          [
           "Cash"
          ],
          [
           "Credit card"
          ],
          [
           "Ewallet"
          ],
          [
           "Credit card"
          ],
          [
           "Ewallet"
          ],
          [
           "Credit card"
          ],
          [
           "Credit card"
          ],
          [
           "Credit card"
          ],
          [
           "Credit card"
          ],
          [
           "Credit card"
          ],
          [
           "Credit card"
          ],
          [
           "Ewallet"
          ],
          [
           "Cash"
          ],
          [
           "Credit card"
          ],
          [
           "Cash"
          ],
          [
           "Ewallet"
          ],
          [
           "Ewallet"
          ],
          [
           "Ewallet"
          ],
          [
           "Credit card"
          ],
          [
           "Cash"
          ],
          [
           "Credit card"
          ],
          [
           "Ewallet"
          ],
          [
           "Credit card"
          ],
          [
           "Ewallet"
          ],
          [
           "Cash"
          ],
          [
           "Credit card"
          ],
          [
           "Cash"
          ],
          [
           "Credit card"
          ],
          [
           "Ewallet"
          ],
          [
           "Credit card"
          ],
          [
           "Cash"
          ],
          [
           "Credit card"
          ],
          [
           "Ewallet"
          ],
          [
           "Ewallet"
          ],
          [
           "Credit card"
          ],
          [
           "Credit card"
          ],
          [
           "Ewallet"
          ],
          [
           "Ewallet"
          ],
          [
           "Cash"
          ],
          [
           "Cash"
          ],
          [
           "Ewallet"
          ],
          [
           "Ewallet"
          ],
          [
           "Credit card"
          ],
          [
           "Ewallet"
          ],
          [
           "Ewallet"
          ],
          [
           "Cash"
          ],
          [
           "Ewallet"
          ],
          [
           "Credit card"
          ],
          [
           "Credit card"
          ],
          [
           "Ewallet"
          ],
          [
           "Cash"
          ],
          [
           "Ewallet"
          ],
          [
           "Credit card"
          ],
          [
           "Cash"
          ],
          [
           "Cash"
          ],
          [
           "Ewallet"
          ],
          [
           "Credit card"
          ],
          [
           "Credit card"
          ],
          [
           "Credit card"
          ],
          [
           "Cash"
          ],
          [
           "Cash"
          ],
          [
           "Ewallet"
          ],
          [
           "Credit card"
          ],
          [
           "Ewallet"
          ],
          [
           "Credit card"
          ],
          [
           "Ewallet"
          ],
          [
           "Ewallet"
          ],
          [
           "Credit card"
          ],
          [
           "Ewallet"
          ],
          [
           "Cash"
          ],
          [
           "Ewallet"
          ],
          [
           "Credit card"
          ],
          [
           "Cash"
          ],
          [
           "Credit card"
          ],
          [
           "Cash"
          ],
          [
           "Cash"
          ],
          [
           "Ewallet"
          ],
          [
           "Credit card"
          ],
          [
           "Ewallet"
          ],
          [
           "Ewallet"
          ],
          [
           "Cash"
          ],
          [
           "Cash"
          ],
          [
           "Cash"
          ],
          [
           "Credit card"
          ],
          [
           "Ewallet"
          ],
          [
           "Ewallet"
          ],
          [
           "Cash"
          ],
          [
           "Ewallet"
          ],
          [
           "Cash"
          ],
          [
           "Credit card"
          ],
          [
           "Cash"
          ],
          [
           "Cash"
          ],
          [
           "Ewallet"
          ],
          [
           "Ewallet"
          ],
          [
           "Credit card"
          ],
          [
           "Credit card"
          ],
          [
           "Cash"
          ],
          [
           "Ewallet"
          ],
          [
           "Credit card"
          ],
          [
           "Credit card"
          ],
          [
           "Credit card"
          ],
          [
           "Cash"
          ],
          [
           "Credit card"
          ],
          [
           "Cash"
          ],
          [
           "Cash"
          ],
          [
           "Ewallet"
          ],
          [
           "Credit card"
          ],
          [
           "Credit card"
          ],
          [
           "Ewallet"
          ],
          [
           "Credit card"
          ],
          [
           "Credit card"
          ],
          [
           "Cash"
          ],
          [
           "Cash"
          ],
          [
           "Cash"
          ],
          [
           "Credit card"
          ],
          [
           "Ewallet"
          ],
          [
           "Ewallet"
          ],
          [
           "Credit card"
          ],
          [
           "Ewallet"
          ],
          [
           "Ewallet"
          ],
          [
           "Cash"
          ],
          [
           "Cash"
          ],
          [
           "Ewallet"
          ],
          [
           "Credit card"
          ],
          [
           "Credit card"
          ],
          [
           "Cash"
          ],
          [
           "Credit card"
          ],
          [
           "Ewallet"
          ],
          [
           "Ewallet"
          ],
          [
           "Cash"
          ],
          [
           "Credit card"
          ],
          [
           "Cash"
          ],
          [
           "Ewallet"
          ],
          [
           "Cash"
          ],
          [
           "Cash"
          ],
          [
           "Ewallet"
          ],
          [
           "Cash"
          ],
          [
           "Credit card"
          ],
          [
           "Credit card"
          ],
          [
           "Credit card"
          ],
          [
           "Cash"
          ],
          [
           "Ewallet"
          ],
          [
           "Cash"
          ],
          [
           "Cash"
          ],
          [
           "Cash"
          ],
          [
           "Cash"
          ],
          [
           "Credit card"
          ],
          [
           "Cash"
          ],
          [
           "Credit card"
          ],
          [
           "Ewallet"
          ],
          [
           "Cash"
          ],
          [
           "Cash"
          ],
          [
           "Ewallet"
          ],
          [
           "Cash"
          ],
          [
           "Cash"
          ],
          [
           "Ewallet"
          ],
          [
           "Cash"
          ],
          [
           "Cash"
          ],
          [
           "Credit card"
          ],
          [
           "Credit card"
          ],
          [
           "Cash"
          ],
          [
           "Credit card"
          ],
          [
           "Cash"
          ],
          [
           "Ewallet"
          ],
          [
           "Cash"
          ],
          [
           "Cash"
          ],
          [
           "Ewallet"
          ],
          [
           "Cash"
          ],
          [
           "Cash"
          ],
          [
           "Ewallet"
          ],
          [
           "Credit card"
          ],
          [
           "Cash"
          ],
          [
           "Cash"
          ],
          [
           "Cash"
          ],
          [
           "Cash"
          ],
          [
           "Cash"
          ],
          [
           "Credit card"
          ],
          [
           "Ewallet"
          ],
          [
           "Cash"
          ],
          [
           "Cash"
          ],
          [
           "Ewallet"
          ],
          [
           "Cash"
          ],
          [
           "Credit card"
          ],
          [
           "Ewallet"
          ],
          [
           "Cash"
          ],
          [
           "Cash"
          ],
          [
           "Credit card"
          ],
          [
           "Cash"
          ],
          [
           "Cash"
          ],
          [
           "Credit card"
          ],
          [
           "Cash"
          ],
          [
           "Credit card"
          ],
          [
           "Ewallet"
          ],
          [
           "Credit card"
          ],
          [
           "Ewallet"
          ],
          [
           "Cash"
          ],
          [
           "Credit card"
          ],
          [
           "Credit card"
          ],
          [
           "Credit card"
          ],
          [
           "Ewallet"
          ],
          [
           "Cash"
          ],
          [
           "Ewallet"
          ],
          [
           "Cash"
          ],
          [
           "Ewallet"
          ],
          [
           "Cash"
          ],
          [
           "Cash"
          ],
          [
           "Cash"
          ],
          [
           "Credit card"
          ],
          [
           "Credit card"
          ],
          [
           "Cash"
          ],
          [
           "Credit card"
          ],
          [
           "Cash"
          ],
          [
           "Cash"
          ],
          [
           "Credit card"
          ],
          [
           "Credit card"
          ],
          [
           "Cash"
          ],
          [
           "Ewallet"
          ],
          [
           "Cash"
          ],
          [
           "Credit card"
          ],
          [
           "Cash"
          ],
          [
           "Ewallet"
          ],
          [
           "Cash"
          ],
          [
           "Cash"
          ],
          [
           "Cash"
          ],
          [
           "Cash"
          ],
          [
           "Cash"
          ],
          [
           "Cash"
          ],
          [
           "Credit card"
          ],
          [
           "Cash"
          ],
          [
           "Credit card"
          ],
          [
           "Ewallet"
          ],
          [
           "Cash"
          ],
          [
           "Credit card"
          ],
          [
           "Ewallet"
          ],
          [
           "Credit card"
          ],
          [
           "Ewallet"
          ],
          [
           "Ewallet"
          ],
          [
           "Credit card"
          ],
          [
           "Credit card"
          ],
          [
           "Cash"
          ],
          [
           "Cash"
          ],
          [
           "Ewallet"
          ],
          [
           "Ewallet"
          ],
          [
           "Cash"
          ],
          [
           "Cash"
          ],
          [
           "Credit card"
          ],
          [
           "Ewallet"
          ],
          [
           "Credit card"
          ],
          [
           "Cash"
          ],
          [
           "Cash"
          ],
          [
           "Ewallet"
          ],
          [
           "Credit card"
          ],
          [
           "Ewallet"
          ],
          [
           "Ewallet"
          ],
          [
           "Ewallet"
          ],
          [
           "Cash"
          ],
          [
           "Credit card"
          ],
          [
           "Cash"
          ],
          [
           "Credit card"
          ],
          [
           "Credit card"
          ],
          [
           "Ewallet"
          ],
          [
           "Ewallet"
          ],
          [
           "Ewallet"
          ],
          [
           "Credit card"
          ],
          [
           "Credit card"
          ],
          [
           "Cash"
          ],
          [
           "Ewallet"
          ],
          [
           "Ewallet"
          ],
          [
           "Cash"
          ],
          [
           "Ewallet"
          ],
          [
           "Cash"
          ],
          [
           "Ewallet"
          ],
          [
           "Ewallet"
          ],
          [
           "Ewallet"
          ],
          [
           "Credit card"
          ],
          [
           "Ewallet"
          ],
          [
           "Ewallet"
          ],
          [
           "Cash"
          ],
          [
           "Ewallet"
          ],
          [
           "Cash"
          ],
          [
           "Credit card"
          ],
          [
           "Credit card"
          ],
          [
           "Cash"
          ],
          [
           "Cash"
          ],
          [
           "Cash"
          ],
          [
           "Credit card"
          ],
          [
           "Cash"
          ],
          [
           "Ewallet"
          ],
          [
           "Credit card"
          ],
          [
           "Ewallet"
          ],
          [
           "Ewallet"
          ],
          [
           "Credit card"
          ],
          [
           "Credit card"
          ],
          [
           "Ewallet"
          ],
          [
           "Ewallet"
          ],
          [
           "Credit card"
          ],
          [
           "Ewallet"
          ],
          [
           "Credit card"
          ],
          [
           "Cash"
          ],
          [
           "Credit card"
          ],
          [
           "Credit card"
          ],
          [
           "Ewallet"
          ],
          [
           "Cash"
          ],
          [
           "Credit card"
          ],
          [
           "Credit card"
          ],
          [
           "Credit card"
          ],
          [
           "Credit card"
          ],
          [
           "Credit card"
          ],
          [
           "Cash"
          ],
          [
           "Cash"
          ],
          [
           "Ewallet"
          ],
          [
           "Ewallet"
          ],
          [
           "Cash"
          ],
          [
           "Cash"
          ],
          [
           "Credit card"
          ],
          [
           "Cash"
          ],
          [
           "Cash"
          ],
          [
           "Credit card"
          ],
          [
           "Cash"
          ],
          [
           "Credit card"
          ],
          [
           "Cash"
          ],
          [
           "Cash"
          ],
          [
           "Credit card"
          ],
          [
           "Credit card"
          ],
          [
           "Credit card"
          ],
          [
           "Cash"
          ],
          [
           "Ewallet"
          ],
          [
           "Cash"
          ],
          [
           "Ewallet"
          ],
          [
           "Cash"
          ],
          [
           "Credit card"
          ],
          [
           "Cash"
          ],
          [
           "Cash"
          ],
          [
           "Credit card"
          ],
          [
           "Credit card"
          ],
          [
           "Ewallet"
          ],
          [
           "Ewallet"
          ],
          [
           "Ewallet"
          ],
          [
           "Cash"
          ],
          [
           "Cash"
          ],
          [
           "Ewallet"
          ],
          [
           "Cash"
          ],
          [
           "Credit card"
          ],
          [
           "Ewallet"
          ],
          [
           "Cash"
          ],
          [
           "Ewallet"
          ],
          [
           "Cash"
          ],
          [
           "Ewallet"
          ],
          [
           "Ewallet"
          ],
          [
           "Credit card"
          ],
          [
           "Ewallet"
          ],
          [
           "Credit card"
          ],
          [
           "Ewallet"
          ],
          [
           "Cash"
          ],
          [
           "Cash"
          ],
          [
           "Cash"
          ],
          [
           "Cash"
          ],
          [
           "Cash"
          ],
          [
           "Credit card"
          ],
          [
           "Ewallet"
          ],
          [
           "Ewallet"
          ],
          [
           "Cash"
          ],
          [
           "Credit card"
          ],
          [
           "Ewallet"
          ],
          [
           "Cash"
          ],
          [
           "Credit card"
          ],
          [
           "Cash"
          ],
          [
           "Credit card"
          ],
          [
           "Credit card"
          ],
          [
           "Ewallet"
          ],
          [
           "Ewallet"
          ],
          [
           "Cash"
          ],
          [
           "Credit card"
          ],
          [
           "Ewallet"
          ],
          [
           "Ewallet"
          ],
          [
           "Credit card"
          ],
          [
           "Ewallet"
          ],
          [
           "Credit card"
          ],
          [
           "Credit card"
          ],
          [
           "Cash"
          ],
          [
           "Credit card"
          ],
          [
           "Cash"
          ],
          [
           "Credit card"
          ],
          [
           "Ewallet"
          ],
          [
           "Credit card"
          ],
          [
           "Ewallet"
          ],
          [
           "Credit card"
          ],
          [
           "Cash"
          ],
          [
           "Ewallet"
          ],
          [
           "Credit card"
          ],
          [
           "Ewallet"
          ],
          [
           "Ewallet"
          ],
          [
           "Ewallet"
          ],
          [
           "Ewallet"
          ],
          [
           "Credit card"
          ],
          [
           "Ewallet"
          ],
          [
           "Credit card"
          ],
          [
           "Ewallet"
          ],
          [
           "Ewallet"
          ],
          [
           "Credit card"
          ],
          [
           "Credit card"
          ],
          [
           "Credit card"
          ],
          [
           "Credit card"
          ],
          [
           "Ewallet"
          ],
          [
           "Ewallet"
          ],
          [
           "Credit card"
          ],
          [
           "Cash"
          ],
          [
           "Cash"
          ],
          [
           "Ewallet"
          ],
          [
           "Cash"
          ],
          [
           "Cash"
          ],
          [
           "Credit card"
          ],
          [
           "Cash"
          ],
          [
           "Credit card"
          ],
          [
           "Cash"
          ],
          [
           "Ewallet"
          ],
          [
           "Ewallet"
          ],
          [
           "Ewallet"
          ],
          [
           "Cash"
          ],
          [
           "Credit card"
          ],
          [
           "Ewallet"
          ],
          [
           "Ewallet"
          ],
          [
           "Cash"
          ],
          [
           "Credit card"
          ],
          [
           "Credit card"
          ],
          [
           "Cash"
          ],
          [
           "Credit card"
          ],
          [
           "Ewallet"
          ],
          [
           "Credit card"
          ],
          [
           "Cash"
          ],
          [
           "Ewallet"
          ],
          [
           "Credit card"
          ],
          [
           "Credit card"
          ],
          [
           "Ewallet"
          ],
          [
           "Cash"
          ],
          [
           "Ewallet"
          ],
          [
           "Cash"
          ],
          [
           "Ewallet"
          ],
          [
           "Cash"
          ],
          [
           "Cash"
          ],
          [
           "Credit card"
          ],
          [
           "Credit card"
          ],
          [
           "Ewallet"
          ],
          [
           "Credit card"
          ],
          [
           "Ewallet"
          ],
          [
           "Cash"
          ],
          [
           "Cash"
          ],
          [
           "Credit card"
          ],
          [
           "Ewallet"
          ],
          [
           "Cash"
          ],
          [
           "Ewallet"
          ],
          [
           "Cash"
          ],
          [
           "Credit card"
          ],
          [
           "Credit card"
          ],
          [
           "Ewallet"
          ],
          [
           "Cash"
          ],
          [
           "Ewallet"
          ],
          [
           "Ewallet"
          ],
          [
           "Credit card"
          ],
          [
           "Ewallet"
          ],
          [
           "Ewallet"
          ],
          [
           "Cash"
          ],
          [
           "Cash"
          ],
          [
           "Ewallet"
          ],
          [
           "Credit card"
          ],
          [
           "Ewallet"
          ],
          [
           "Ewallet"
          ],
          [
           "Credit card"
          ],
          [
           "Cash"
          ],
          [
           "Cash"
          ],
          [
           "Credit card"
          ],
          [
           "Ewallet"
          ],
          [
           "Ewallet"
          ],
          [
           "Cash"
          ],
          [
           "Ewallet"
          ],
          [
           "Credit card"
          ],
          [
           "Ewallet"
          ],
          [
           "Credit card"
          ],
          [
           "Cash"
          ],
          [
           "Credit card"
          ],
          [
           "Credit card"
          ],
          [
           "Cash"
          ],
          [
           "Cash"
          ],
          [
           "Ewallet"
          ],
          [
           "Cash"
          ],
          [
           "Ewallet"
          ],
          [
           "Credit card"
          ],
          [
           "Credit card"
          ],
          [
           "Ewallet"
          ],
          [
           "Credit card"
          ],
          [
           "Ewallet"
          ],
          [
           "Credit card"
          ],
          [
           "Credit card"
          ],
          [
           "Credit card"
          ],
          [
           "Cash"
          ],
          [
           "Cash"
          ],
          [
           "Ewallet"
          ],
          [
           "Ewallet"
          ],
          [
           "Ewallet"
          ],
          [
           "Ewallet"
          ],
          [
           "Credit card"
          ],
          [
           "Ewallet"
          ],
          [
           "Ewallet"
          ],
          [
           "Cash"
          ],
          [
           "Cash"
          ],
          [
           "Cash"
          ],
          [
           "Cash"
          ],
          [
           "Ewallet"
          ],
          [
           "Cash"
          ],
          [
           "Cash"
          ],
          [
           "Ewallet"
          ],
          [
           "Credit card"
          ],
          [
           "Credit card"
          ],
          [
           "Credit card"
          ],
          [
           "Ewallet"
          ],
          [
           "Cash"
          ],
          [
           "Credit card"
          ],
          [
           "Cash"
          ],
          [
           "Credit card"
          ],
          [
           "Credit card"
          ],
          [
           "Credit card"
          ],
          [
           "Cash"
          ],
          [
           "Ewallet"
          ],
          [
           "Ewallet"
          ],
          [
           "Ewallet"
          ],
          [
           "Ewallet"
          ],
          [
           "Credit card"
          ],
          [
           "Ewallet"
          ],
          [
           "Cash"
          ],
          [
           "Ewallet"
          ],
          [
           "Credit card"
          ],
          [
           "Credit card"
          ],
          [
           "Cash"
          ],
          [
           "Credit card"
          ],
          [
           "Cash"
          ],
          [
           "Ewallet"
          ],
          [
           "Ewallet"
          ],
          [
           "Cash"
          ],
          [
           "Credit card"
          ],
          [
           "Ewallet"
          ],
          [
           "Ewallet"
          ],
          [
           "Ewallet"
          ],
          [
           "Credit card"
          ],
          [
           "Credit card"
          ],
          [
           "Cash"
          ],
          [
           "Cash"
          ],
          [
           "Cash"
          ],
          [
           "Cash"
          ],
          [
           "Ewallet"
          ],
          [
           "Cash"
          ],
          [
           "Cash"
          ],
          [
           "Cash"
          ],
          [
           "Cash"
          ],
          [
           "Ewallet"
          ],
          [
           "Ewallet"
          ],
          [
           "Credit card"
          ],
          [
           "Ewallet"
          ],
          [
           "Ewallet"
          ],
          [
           "Credit card"
          ],
          [
           "Credit card"
          ],
          [
           "Cash"
          ],
          [
           "Cash"
          ],
          [
           "Cash"
          ],
          [
           "Ewallet"
          ],
          [
           "Cash"
          ],
          [
           "Ewallet"
          ],
          [
           "Ewallet"
          ],
          [
           "Cash"
          ],
          [
           "Ewallet"
          ],
          [
           "Ewallet"
          ],
          [
           "Ewallet"
          ],
          [
           "Ewallet"
          ],
          [
           "Credit card"
          ],
          [
           "Credit card"
          ],
          [
           "Credit card"
          ],
          [
           "Credit card"
          ],
          [
           "Cash"
          ],
          [
           "Cash"
          ],
          [
           "Credit card"
          ],
          [
           "Cash"
          ],
          [
           "Ewallet"
          ],
          [
           "Cash"
          ],
          [
           "Credit card"
          ],
          [
           "Credit card"
          ],
          [
           "Ewallet"
          ],
          [
           "Cash"
          ],
          [
           "Credit card"
          ],
          [
           "Ewallet"
          ],
          [
           "Ewallet"
          ],
          [
           "Ewallet"
          ],
          [
           "Ewallet"
          ],
          [
           "Credit card"
          ],
          [
           "Credit card"
          ],
          [
           "Ewallet"
          ],
          [
           "Ewallet"
          ],
          [
           "Cash"
          ],
          [
           "Cash"
          ],
          [
           "Ewallet"
          ],
          [
           "Ewallet"
          ],
          [
           "Ewallet"
          ],
          [
           "Credit card"
          ],
          [
           "Cash"
          ],
          [
           "Credit card"
          ],
          [
           "Credit card"
          ],
          [
           "Credit card"
          ],
          [
           "Cash"
          ],
          [
           "Ewallet"
          ],
          [
           "Credit card"
          ],
          [
           "Ewallet"
          ],
          [
           "Ewallet"
          ],
          [
           "Ewallet"
          ],
          [
           "Credit card"
          ],
          [
           "Ewallet"
          ],
          [
           "Cash"
          ],
          [
           "Ewallet"
          ],
          [
           "Ewallet"
          ],
          [
           "Credit card"
          ],
          [
           "Credit card"
          ],
          [
           "Ewallet"
          ],
          [
           "Ewallet"
          ],
          [
           "Credit card"
          ],
          [
           "Ewallet"
          ],
          [
           "Credit card"
          ],
          [
           "Cash"
          ],
          [
           "Cash"
          ],
          [
           "Cash"
          ],
          [
           "Ewallet"
          ],
          [
           "Credit card"
          ],
          [
           "Ewallet"
          ],
          [
           "Credit card"
          ],
          [
           "Cash"
          ],
          [
           "Credit card"
          ],
          [
           "Credit card"
          ],
          [
           "Cash"
          ],
          [
           "Cash"
          ],
          [
           "Ewallet"
          ],
          [
           "Cash"
          ],
          [
           "Ewallet"
          ],
          [
           "Credit card"
          ],
          [
           "Cash"
          ],
          [
           "Ewallet"
          ],
          [
           "Credit card"
          ],
          [
           "Ewallet"
          ],
          [
           "Credit card"
          ],
          [
           "Credit card"
          ],
          [
           "Ewallet"
          ],
          [
           "Credit card"
          ],
          [
           "Credit card"
          ],
          [
           "Credit card"
          ],
          [
           "Credit card"
          ],
          [
           "Credit card"
          ],
          [
           "Ewallet"
          ],
          [
           "Cash"
          ],
          [
           "Cash"
          ],
          [
           "Credit card"
          ],
          [
           "Ewallet"
          ],
          [
           "Ewallet"
          ],
          [
           "Ewallet"
          ],
          [
           "Ewallet"
          ],
          [
           "Cash"
          ],
          [
           "Cash"
          ],
          [
           "Cash"
          ],
          [
           "Credit card"
          ],
          [
           "Cash"
          ],
          [
           "Cash"
          ],
          [
           "Ewallet"
          ],
          [
           "Ewallet"
          ],
          [
           "Credit card"
          ],
          [
           "Credit card"
          ],
          [
           "Cash"
          ],
          [
           "Cash"
          ],
          [
           "Ewallet"
          ],
          [
           "Cash"
          ],
          [
           "Ewallet"
          ],
          [
           "Credit card"
          ],
          [
           "Credit card"
          ],
          [
           "Ewallet"
          ],
          [
           "Credit card"
          ],
          [
           "Cash"
          ],
          [
           "Cash"
          ],
          [
           "Credit card"
          ],
          [
           "Credit card"
          ],
          [
           "Credit card"
          ],
          [
           "Credit card"
          ],
          [
           "Cash"
          ],
          [
           "Credit card"
          ],
          [
           "Cash"
          ],
          [
           "Cash"
          ],
          [
           "Cash"
          ],
          [
           "Ewallet"
          ],
          [
           "Ewallet"
          ],
          [
           "Cash"
          ],
          [
           "Ewallet"
          ],
          [
           "Credit card"
          ],
          [
           "Cash"
          ],
          [
           "Ewallet"
          ],
          [
           "Cash"
          ],
          [
           "Cash"
          ],
          [
           "Credit card"
          ],
          [
           "Credit card"
          ],
          [
           "Cash"
          ],
          [
           "Credit card"
          ],
          [
           "Ewallet"
          ],
          [
           "Credit card"
          ],
          [
           "Cash"
          ],
          [
           "Cash"
          ],
          [
           "Cash"
          ],
          [
           "Ewallet"
          ],
          [
           "Ewallet"
          ],
          [
           "Ewallet"
          ],
          [
           "Ewallet"
          ],
          [
           "Cash"
          ],
          [
           "Cash"
          ],
          [
           "Cash"
          ],
          [
           "Cash"
          ],
          [
           "Cash"
          ],
          [
           "Ewallet"
          ],
          [
           "Ewallet"
          ],
          [
           "Credit card"
          ],
          [
           "Cash"
          ],
          [
           "Cash"
          ],
          [
           "Ewallet"
          ],
          [
           "Ewallet"
          ],
          [
           "Credit card"
          ],
          [
           "Credit card"
          ],
          [
           "Ewallet"
          ],
          [
           "Credit card"
          ],
          [
           "Cash"
          ],
          [
           "Cash"
          ],
          [
           "Credit card"
          ],
          [
           "Ewallet"
          ],
          [
           "Cash"
          ],
          [
           "Cash"
          ],
          [
           "Credit card"
          ],
          [
           "Ewallet"
          ],
          [
           "Ewallet"
          ],
          [
           "Credit card"
          ],
          [
           "Credit card"
          ],
          [
           "Ewallet"
          ],
          [
           "Cash"
          ],
          [
           "Cash"
          ],
          [
           "Ewallet"
          ],
          [
           "Ewallet"
          ],
          [
           "Ewallet"
          ],
          [
           "Ewallet"
          ],
          [
           "Cash"
          ],
          [
           "Cash"
          ],
          [
           "Credit card"
          ],
          [
           "Cash"
          ],
          [
           "Credit card"
          ],
          [
           "Credit card"
          ],
          [
           "Ewallet"
          ],
          [
           "Cash"
          ],
          [
           "Ewallet"
          ],
          [
           "Credit card"
          ],
          [
           "Ewallet"
          ],
          [
           "Credit card"
          ],
          [
           "Cash"
          ],
          [
           "Ewallet"
          ],
          [
           "Cash"
          ],
          [
           "Credit card"
          ],
          [
           "Credit card"
          ],
          [
           "Ewallet"
          ],
          [
           "Credit card"
          ],
          [
           "Credit card"
          ],
          [
           "Ewallet"
          ],
          [
           "Cash"
          ],
          [
           "Ewallet"
          ],
          [
           "Cash"
          ],
          [
           "Cash"
          ],
          [
           "Credit card"
          ],
          [
           "Cash"
          ],
          [
           "Ewallet"
          ],
          [
           "Ewallet"
          ],
          [
           "Credit card"
          ],
          [
           "Ewallet"
          ],
          [
           "Cash"
          ],
          [
           "Credit card"
          ],
          [
           "Credit card"
          ],
          [
           "Ewallet"
          ],
          [
           "Ewallet"
          ],
          [
           "Credit card"
          ],
          [
           "Credit card"
          ],
          [
           "Credit card"
          ],
          [
           "Ewallet"
          ],
          [
           "Ewallet"
          ],
          [
           "Credit card"
          ],
          [
           "Ewallet"
          ],
          [
           "Ewallet"
          ],
          [
           "Ewallet"
          ],
          [
           "Ewallet"
          ],
          [
           "Ewallet"
          ],
          [
           "Cash"
          ],
          [
           "Cash"
          ],
          [
           "Ewallet"
          ],
          [
           "Ewallet"
          ],
          [
           "Cash"
          ],
          [
           "Ewallet"
          ],
          [
           "Credit card"
          ],
          [
           "Cash"
          ],
          [
           "Credit card"
          ],
          [
           "Credit card"
          ],
          [
           "Ewallet"
          ],
          [
           "Ewallet"
          ],
          [
           "Ewallet"
          ],
          [
           "Ewallet"
          ],
          [
           "Ewallet"
          ],
          [
           "Ewallet"
          ],
          [
           "Cash"
          ],
          [
           "Cash"
          ],
          [
           "Cash"
          ],
          [
           "Cash"
          ],
          [
           "Cash"
          ],
          [
           "Cash"
          ],
          [
           "Cash"
          ],
          [
           "Cash"
          ],
          [
           "Credit card"
          ],
          [
           "Cash"
          ],
          [
           "Credit card"
          ],
          [
           "Credit card"
          ],
          [
           "Ewallet"
          ],
          [
           "Credit card"
          ],
          [
           "Cash"
          ],
          [
           "Credit card"
          ],
          [
           "Credit card"
          ],
          [
           "Cash"
          ],
          [
           "Cash"
          ],
          [
           "Cash"
          ],
          [
           "Credit card"
          ],
          [
           "Cash"
          ],
          [
           "Ewallet"
          ],
          [
           "Credit card"
          ],
          [
           "Credit card"
          ],
          [
           "Cash"
          ],
          [
           "Cash"
          ],
          [
           "Ewallet"
          ],
          [
           "Cash"
          ],
          [
           "Cash"
          ],
          [
           "Cash"
          ],
          [
           "Cash"
          ],
          [
           "Cash"
          ],
          [
           "Ewallet"
          ],
          [
           "Ewallet"
          ],
          [
           "Credit card"
          ],
          [
           "Ewallet"
          ],
          [
           "Credit card"
          ],
          [
           "Credit card"
          ],
          [
           "Ewallet"
          ],
          [
           "Ewallet"
          ],
          [
           "Ewallet"
          ],
          [
           "Ewallet"
          ],
          [
           "Ewallet"
          ],
          [
           "Ewallet"
          ]
         ],
         "domain": {
          "x": [
           0,
           1
          ],
          "y": [
           0,
           1
          ]
         },
         "hovertemplate": "index=%{label}<br>Payment=%{customdata[0]}<extra></extra>",
         "labels": [
          1,
          2,
          3,
          4,
          5,
          6,
          7,
          8,
          9,
          10,
          11,
          12,
          13,
          14,
          15,
          16,
          17,
          18,
          19,
          20,
          21,
          22,
          23,
          24,
          25,
          26,
          27,
          28,
          29,
          30,
          31,
          32,
          33,
          34,
          35,
          36,
          37,
          38,
          39,
          40,
          41,
          42,
          43,
          44,
          45,
          46,
          47,
          48,
          49,
          50,
          51,
          52,
          53,
          54,
          55,
          56,
          57,
          58,
          59,
          60,
          61,
          62,
          63,
          64,
          65,
          66,
          67,
          68,
          69,
          70,
          71,
          72,
          73,
          74,
          75,
          76,
          77,
          78,
          79,
          80,
          81,
          82,
          83,
          84,
          85,
          86,
          87,
          88,
          89,
          90,
          91,
          92,
          93,
          94,
          95,
          96,
          97,
          98,
          99,
          100,
          101,
          102,
          103,
          104,
          105,
          106,
          107,
          108,
          109,
          110,
          111,
          112,
          113,
          114,
          115,
          116,
          117,
          118,
          119,
          120,
          121,
          122,
          123,
          124,
          125,
          126,
          127,
          128,
          129,
          130,
          131,
          132,
          133,
          134,
          135,
          136,
          137,
          138,
          139,
          140,
          141,
          142,
          143,
          144,
          145,
          146,
          147,
          148,
          149,
          150,
          151,
          152,
          153,
          154,
          155,
          156,
          157,
          158,
          159,
          160,
          161,
          162,
          163,
          164,
          165,
          166,
          167,
          168,
          169,
          170,
          171,
          172,
          173,
          174,
          175,
          176,
          177,
          178,
          179,
          180,
          181,
          182,
          183,
          184,
          185,
          186,
          187,
          188,
          189,
          190,
          191,
          192,
          193,
          194,
          195,
          196,
          197,
          198,
          199,
          200,
          201,
          202,
          203,
          204,
          205,
          206,
          207,
          208,
          209,
          210,
          211,
          212,
          213,
          214,
          215,
          216,
          217,
          218,
          219,
          220,
          221,
          222,
          223,
          224,
          225,
          226,
          227,
          228,
          229,
          230,
          231,
          232,
          233,
          234,
          235,
          236,
          237,
          238,
          239,
          240,
          241,
          242,
          243,
          244,
          245,
          246,
          247,
          248,
          249,
          250,
          251,
          252,
          253,
          254,
          255,
          256,
          257,
          258,
          259,
          260,
          261,
          262,
          263,
          264,
          265,
          266,
          267,
          268,
          269,
          270,
          271,
          272,
          273,
          274,
          275,
          276,
          277,
          278,
          279,
          280,
          281,
          282,
          283,
          284,
          285,
          286,
          287,
          288,
          289,
          290,
          291,
          292,
          293,
          294,
          295,
          296,
          297,
          298,
          299,
          300,
          301,
          302,
          303,
          304,
          305,
          306,
          307,
          308,
          309,
          310,
          311,
          312,
          313,
          314,
          315,
          316,
          317,
          318,
          319,
          320,
          321,
          322,
          323,
          324,
          325,
          326,
          327,
          328,
          329,
          330,
          331,
          332,
          333,
          334,
          335,
          336,
          337,
          338,
          339,
          340,
          341,
          342,
          343,
          344,
          345,
          346,
          347,
          348,
          349,
          350,
          351,
          352,
          353,
          354,
          355,
          356,
          357,
          358,
          359,
          360,
          361,
          362,
          363,
          364,
          365,
          366,
          367,
          368,
          369,
          370,
          371,
          372,
          373,
          374,
          375,
          376,
          377,
          378,
          379,
          380,
          381,
          382,
          383,
          384,
          385,
          386,
          387,
          388,
          389,
          390,
          391,
          392,
          393,
          394,
          395,
          396,
          397,
          398,
          399,
          400,
          401,
          402,
          403,
          404,
          405,
          406,
          407,
          408,
          409,
          410,
          411,
          412,
          413,
          414,
          415,
          416,
          417,
          418,
          419,
          420,
          421,
          422,
          423,
          424,
          425,
          426,
          427,
          428,
          429,
          430,
          431,
          432,
          433,
          434,
          435,
          436,
          437,
          438,
          439,
          440,
          441,
          442,
          443,
          444,
          445,
          446,
          447,
          448,
          449,
          450,
          451,
          452,
          453,
          454,
          455,
          456,
          457,
          458,
          459,
          460,
          461,
          462,
          463,
          464,
          465,
          466,
          467,
          468,
          469,
          470,
          471,
          472,
          473,
          474,
          475,
          476,
          477,
          478,
          479,
          480,
          481,
          482,
          483,
          484,
          485,
          486,
          487,
          488,
          489,
          490,
          491,
          492,
          493,
          494,
          495,
          496,
          497,
          498,
          499,
          500,
          501,
          502,
          503,
          504,
          505,
          506,
          507,
          508,
          509,
          510,
          511,
          512,
          513,
          514,
          515,
          516,
          517,
          518,
          519,
          520,
          521,
          522,
          523,
          524,
          525,
          526,
          527,
          528,
          529,
          530,
          531,
          532,
          533,
          534,
          535,
          536,
          537,
          538,
          539,
          540,
          541,
          542,
          543,
          544,
          545,
          546,
          547,
          548,
          549,
          550,
          551,
          552,
          553,
          554,
          555,
          556,
          557,
          558,
          559,
          560,
          561,
          562,
          563,
          564,
          565,
          566,
          567,
          568,
          569,
          570,
          571,
          572,
          573,
          574,
          575,
          576,
          577,
          578,
          579,
          580,
          581,
          582,
          583,
          584,
          585,
          587,
          588,
          589,
          590,
          591,
          592,
          593,
          594,
          595,
          596,
          597,
          598,
          599,
          600,
          601,
          602,
          603,
          604,
          605,
          606,
          607,
          608,
          609,
          610,
          611,
          612,
          613,
          614,
          615,
          616,
          617,
          618,
          619,
          620,
          621,
          622,
          623,
          624,
          625,
          626,
          627,
          628,
          629,
          630,
          631,
          632,
          633,
          634,
          635,
          636,
          637,
          638,
          639,
          640,
          641,
          642,
          643,
          644,
          645,
          646,
          647,
          648,
          649,
          650,
          651,
          652,
          653,
          654,
          655,
          656,
          657,
          658,
          659,
          660,
          661,
          662,
          663,
          664,
          665,
          666,
          667,
          668,
          669,
          670,
          671,
          672,
          673,
          674,
          675,
          676,
          677,
          678,
          679,
          680,
          681,
          682,
          683,
          684,
          685,
          686,
          687,
          688,
          689,
          690,
          691,
          692,
          693,
          694,
          695,
          696,
          697,
          698,
          699,
          700,
          701,
          702,
          703,
          704,
          705,
          706,
          707,
          708,
          709,
          710,
          711,
          712,
          713,
          714,
          715,
          717,
          718,
          719,
          720,
          721,
          722,
          723,
          724,
          725,
          726,
          727,
          728,
          729,
          730,
          731,
          732,
          733,
          734,
          735,
          736,
          737,
          738,
          739,
          740,
          741,
          742,
          743,
          744,
          745,
          746,
          747,
          748,
          749,
          750,
          751,
          752,
          753,
          754,
          755,
          756,
          757,
          758,
          759,
          760,
          761,
          762,
          763,
          764,
          765,
          766,
          767,
          768,
          769,
          770,
          771,
          772,
          773,
          774,
          775,
          776,
          777,
          778,
          779,
          780,
          781,
          782,
          783,
          784,
          785,
          786,
          787,
          788,
          789,
          790,
          791,
          792,
          793,
          794,
          795,
          796,
          797,
          798,
          799,
          800,
          801,
          802,
          803,
          804,
          805,
          806,
          807,
          808,
          809,
          810,
          811,
          812,
          813,
          814,
          815,
          816,
          817,
          818,
          819,
          820,
          821,
          822,
          823,
          824,
          825,
          826,
          827,
          828,
          829,
          830,
          831,
          832,
          833,
          834,
          835,
          836,
          837,
          838,
          839,
          840,
          841,
          842,
          843,
          844,
          845,
          846,
          847,
          848,
          849,
          850,
          851,
          852,
          853,
          854,
          855,
          856,
          857,
          858,
          859,
          860,
          861,
          862,
          863,
          864,
          865,
          866,
          867,
          869,
          870,
          871,
          873,
          874,
          875,
          876,
          877,
          878,
          879,
          880,
          881,
          882,
          883,
          884,
          885,
          886,
          887,
          888,
          889,
          890,
          891,
          892,
          893,
          894,
          895,
          896,
          897,
          899,
          900,
          901,
          902,
          903,
          904,
          905,
          906,
          907,
          908,
          909,
          910,
          911,
          912,
          913,
          914,
          915,
          916,
          917,
          918,
          919,
          920,
          921,
          922,
          923,
          924,
          925,
          926,
          927,
          928,
          929,
          930,
          931,
          932,
          933,
          934,
          935,
          936,
          937,
          938,
          939,
          940,
          941,
          942,
          943,
          944,
          945,
          946,
          947,
          948,
          949,
          950,
          951,
          952,
          953,
          954,
          955,
          956,
          957,
          958,
          959,
          960,
          961,
          962,
          964,
          965,
          966,
          967,
          968,
          969,
          970,
          971,
          972,
          974,
          975,
          976,
          977,
          978,
          979,
          980,
          981,
          982,
          983,
          984,
          985,
          986,
          988,
          0,
          1,
          2,
          3,
          4,
          5,
          6,
          7,
          8,
          9,
          10,
          11,
          12,
          13
         ],
         "legendgroup": "",
         "marker": {
          "colors": [
           "#ab63fa",
           "#FFA15A",
           "#19d3f3",
           "#19d3f3",
           "#19d3f3",
           "#19d3f3",
           "#19d3f3",
           "#FFA15A",
           "#FFA15A",
           "#19d3f3",
           "#ab63fa",
           "#19d3f3",
           "#19d3f3",
           "#ab63fa",
           "#ab63fa",
           "#FFA15A",
           "#FFA15A",
           "#FFA15A",
           "#19d3f3",
           "#19d3f3",
           "#19d3f3",
           "#FFA15A",
           "#19d3f3",
           "#19d3f3",
           "#FFA15A",
           "#ab63fa",
           "#FFA15A",
           "#ab63fa",
           "#ab63fa",
           "#FFA15A",
           "#ab63fa",
           "#ab63fa",
           "#FFA15A",
           "#19d3f3",
           "#19d3f3",
           "#19d3f3",
           "#19d3f3",
           "#19d3f3",
           "#ab63fa",
           "#19d3f3",
           "#ab63fa",
           "#ab63fa",
           "#ab63fa",
           "#ab63fa",
           "#ab63fa",
           "#FFA15A",
           "#19d3f3",
           "#FFA15A",
           "#19d3f3",
           "#ab63fa",
           "#ab63fa",
           "#19d3f3",
           "#FFA15A",
           "#19d3f3",
           "#ab63fa",
           "#ab63fa",
           "#19d3f3",
           "#ab63fa",
           "#ab63fa",
           "#FFA15A",
           "#19d3f3",
           "#19d3f3",
           "#FFA15A",
           "#ab63fa",
           "#ab63fa",
           "#19d3f3",
           "#19d3f3",
           "#ab63fa",
           "#ab63fa",
           "#FFA15A",
           "#ab63fa",
           "#19d3f3",
           "#ab63fa",
           "#19d3f3",
           "#FFA15A",
           "#FFA15A",
           "#FFA15A",
           "#19d3f3",
           "#ab63fa",
           "#FFA15A",
           "#19d3f3",
           "#19d3f3",
           "#FFA15A",
           "#ab63fa",
           "#19d3f3",
           "#ab63fa",
           "#FFA15A",
           "#ab63fa",
           "#ab63fa",
           "#ab63fa",
           "#19d3f3",
           "#19d3f3",
           "#FFA15A",
           "#FFA15A",
           "#19d3f3",
           "#19d3f3",
           "#ab63fa",
           "#19d3f3",
           "#ab63fa",
           "#ab63fa",
           "#ab63fa",
           "#ab63fa",
           "#ab63fa",
           "#ab63fa",
           "#19d3f3",
           "#FFA15A",
           "#ab63fa",
           "#ab63fa",
           "#ab63fa",
           "#19d3f3",
           "#FFA15A",
           "#ab63fa",
           "#19d3f3",
           "#FFA15A",
           "#FFA15A",
           "#19d3f3",
           "#19d3f3",
           "#19d3f3",
           "#19d3f3",
           "#FFA15A",
           "#FFA15A",
           "#FFA15A",
           "#FFA15A",
           "#19d3f3",
           "#FFA15A",
           "#ab63fa",
           "#FFA15A",
           "#19d3f3",
           "#19d3f3",
           "#ab63fa",
           "#ab63fa",
           "#ab63fa",
           "#FFA15A",
           "#19d3f3",
           "#ab63fa",
           "#FFA15A",
           "#ab63fa",
           "#ab63fa",
           "#19d3f3",
           "#FFA15A",
           "#ab63fa",
           "#ab63fa",
           "#FFA15A",
           "#19d3f3",
           "#FFA15A",
           "#19d3f3",
           "#FFA15A",
           "#FFA15A",
           "#FFA15A",
           "#FFA15A",
           "#FFA15A",
           "#FFA15A",
           "#19d3f3",
           "#ab63fa",
           "#FFA15A",
           "#ab63fa",
           "#19d3f3",
           "#19d3f3",
           "#19d3f3",
           "#FFA15A",
           "#ab63fa",
           "#FFA15A",
           "#19d3f3",
           "#FFA15A",
           "#19d3f3",
           "#ab63fa",
           "#FFA15A",
           "#ab63fa",
           "#FFA15A",
           "#19d3f3",
           "#FFA15A",
           "#ab63fa",
           "#FFA15A",
           "#19d3f3",
           "#19d3f3",
           "#FFA15A",
           "#FFA15A",
           "#19d3f3",
           "#19d3f3",
           "#ab63fa",
           "#ab63fa",
           "#19d3f3",
           "#19d3f3",
           "#FFA15A",
           "#19d3f3",
           "#19d3f3",
           "#ab63fa",
           "#19d3f3",
           "#FFA15A",
           "#FFA15A",
           "#19d3f3",
           "#ab63fa",
           "#19d3f3",
           "#FFA15A",
           "#ab63fa",
           "#ab63fa",
           "#19d3f3",
           "#FFA15A",
           "#FFA15A",
           "#FFA15A",
           "#ab63fa",
           "#ab63fa",
           "#19d3f3",
           "#FFA15A",
           "#19d3f3",
           "#FFA15A",
           "#19d3f3",
           "#19d3f3",
           "#FFA15A",
           "#19d3f3",
           "#ab63fa",
           "#19d3f3",
           "#FFA15A",
           "#ab63fa",
           "#FFA15A",
           "#ab63fa",
           "#ab63fa",
           "#19d3f3",
           "#FFA15A",
           "#19d3f3",
           "#19d3f3",
           "#ab63fa",
           "#ab63fa",
           "#ab63fa",
           "#FFA15A",
           "#19d3f3",
           "#19d3f3",
           "#ab63fa",
           "#19d3f3",
           "#ab63fa",
           "#FFA15A",
           "#ab63fa",
           "#ab63fa",
           "#19d3f3",
           "#19d3f3",
           "#FFA15A",
           "#FFA15A",
           "#ab63fa",
           "#19d3f3",
           "#FFA15A",
           "#FFA15A",
           "#FFA15A",
           "#ab63fa",
           "#FFA15A",
           "#ab63fa",
           "#ab63fa",
           "#19d3f3",
           "#FFA15A",
           "#FFA15A",
           "#19d3f3",
           "#FFA15A",
           "#FFA15A",
           "#ab63fa",
           "#ab63fa",
           "#ab63fa",
           "#FFA15A",
           "#19d3f3",
           "#19d3f3",
           "#FFA15A",
           "#19d3f3",
           "#19d3f3",
           "#ab63fa",
           "#ab63fa",
           "#19d3f3",
           "#FFA15A",
           "#FFA15A",
           "#ab63fa",
           "#FFA15A",
           "#19d3f3",
           "#19d3f3",
           "#ab63fa",
           "#FFA15A",
           "#ab63fa",
           "#19d3f3",
           "#ab63fa",
           "#ab63fa",
           "#19d3f3",
           "#ab63fa",
           "#FFA15A",
           "#FFA15A",
           "#FFA15A",
           "#ab63fa",
           "#19d3f3",
           "#ab63fa",
           "#ab63fa",
           "#ab63fa",
           "#ab63fa",
           "#FFA15A",
           "#ab63fa",
           "#FFA15A",
           "#19d3f3",
           "#ab63fa",
           "#ab63fa",
           "#19d3f3",
           "#ab63fa",
           "#ab63fa",
           "#19d3f3",
           "#ab63fa",
           "#ab63fa",
           "#FFA15A",
           "#FFA15A",
           "#ab63fa",
           "#FFA15A",
           "#ab63fa",
           "#19d3f3",
           "#ab63fa",
           "#ab63fa",
           "#19d3f3",
           "#ab63fa",
           "#ab63fa",
           "#19d3f3",
           "#FFA15A",
           "#ab63fa",
           "#ab63fa",
           "#ab63fa",
           "#ab63fa",
           "#ab63fa",
           "#FFA15A",
           "#19d3f3",
           "#ab63fa",
           "#ab63fa",
           "#19d3f3",
           "#ab63fa",
           "#FFA15A",
           "#19d3f3",
           "#ab63fa",
           "#ab63fa",
           "#FFA15A",
           "#ab63fa",
           "#ab63fa",
           "#FFA15A",
           "#ab63fa",
           "#FFA15A",
           "#19d3f3",
           "#FFA15A",
           "#19d3f3",
           "#ab63fa",
           "#FFA15A",
           "#FFA15A",
           "#FFA15A",
           "#19d3f3",
           "#ab63fa",
           "#19d3f3",
           "#ab63fa",
           "#19d3f3",
           "#ab63fa",
           "#ab63fa",
           "#ab63fa",
           "#FFA15A",
           "#FFA15A",
           "#ab63fa",
           "#FFA15A",
           "#ab63fa",
           "#ab63fa",
           "#FFA15A",
           "#FFA15A",
           "#ab63fa",
           "#19d3f3",
           "#ab63fa",
           "#FFA15A",
           "#ab63fa",
           "#19d3f3",
           "#ab63fa",
           "#ab63fa",
           "#ab63fa",
           "#ab63fa",
           "#ab63fa",
           "#ab63fa",
           "#FFA15A",
           "#ab63fa",
           "#FFA15A",
           "#19d3f3",
           "#ab63fa",
           "#FFA15A",
           "#19d3f3",
           "#FFA15A",
           "#19d3f3",
           "#19d3f3",
           "#FFA15A",
           "#FFA15A",
           "#ab63fa",
           "#ab63fa",
           "#19d3f3",
           "#19d3f3",
           "#ab63fa",
           "#ab63fa",
           "#FFA15A",
           "#19d3f3",
           "#FFA15A",
           "#ab63fa",
           "#ab63fa",
           "#19d3f3",
           "#FFA15A",
           "#19d3f3",
           "#19d3f3",
           "#19d3f3",
           "#ab63fa",
           "#FFA15A",
           "#ab63fa",
           "#FFA15A",
           "#FFA15A",
           "#19d3f3",
           "#19d3f3",
           "#19d3f3",
           "#FFA15A",
           "#FFA15A",
           "#ab63fa",
           "#19d3f3",
           "#19d3f3",
           "#ab63fa",
           "#19d3f3",
           "#ab63fa",
           "#19d3f3",
           "#19d3f3",
           "#19d3f3",
           "#FFA15A",
           "#19d3f3",
           "#19d3f3",
           "#ab63fa",
           "#19d3f3",
           "#ab63fa",
           "#FFA15A",
           "#FFA15A",
           "#ab63fa",
           "#ab63fa",
           "#ab63fa",
           "#FFA15A",
           "#ab63fa",
           "#19d3f3",
           "#FFA15A",
           "#19d3f3",
           "#19d3f3",
           "#FFA15A",
           "#FFA15A",
           "#19d3f3",
           "#19d3f3",
           "#FFA15A",
           "#19d3f3",
           "#FFA15A",
           "#ab63fa",
           "#FFA15A",
           "#FFA15A",
           "#19d3f3",
           "#ab63fa",
           "#FFA15A",
           "#FFA15A",
           "#FFA15A",
           "#FFA15A",
           "#FFA15A",
           "#ab63fa",
           "#ab63fa",
           "#19d3f3",
           "#19d3f3",
           "#ab63fa",
           "#ab63fa",
           "#FFA15A",
           "#ab63fa",
           "#ab63fa",
           "#FFA15A",
           "#ab63fa",
           "#FFA15A",
           "#ab63fa",
           "#ab63fa",
           "#FFA15A",
           "#FFA15A",
           "#FFA15A",
           "#ab63fa",
           "#19d3f3",
           "#ab63fa",
           "#19d3f3",
           "#ab63fa",
           "#FFA15A",
           "#ab63fa",
           "#ab63fa",
           "#FFA15A",
           "#FFA15A",
           "#19d3f3",
           "#19d3f3",
           "#19d3f3",
           "#ab63fa",
           "#ab63fa",
           "#19d3f3",
           "#ab63fa",
           "#FFA15A",
           "#19d3f3",
           "#ab63fa",
           "#19d3f3",
           "#ab63fa",
           "#19d3f3",
           "#19d3f3",
           "#FFA15A",
           "#19d3f3",
           "#FFA15A",
           "#19d3f3",
           "#ab63fa",
           "#ab63fa",
           "#ab63fa",
           "#ab63fa",
           "#ab63fa",
           "#FFA15A",
           "#19d3f3",
           "#19d3f3",
           "#ab63fa",
           "#FFA15A",
           "#19d3f3",
           "#ab63fa",
           "#FFA15A",
           "#ab63fa",
           "#FFA15A",
           "#FFA15A",
           "#19d3f3",
           "#19d3f3",
           "#ab63fa",
           "#FFA15A",
           "#19d3f3",
           "#19d3f3",
           "#FFA15A",
           "#19d3f3",
           "#FFA15A",
           "#FFA15A",
           "#ab63fa",
           "#FFA15A",
           "#ab63fa",
           "#FFA15A",
           "#19d3f3",
           "#FFA15A",
           "#19d3f3",
           "#FFA15A",
           "#ab63fa",
           "#19d3f3",
           "#FFA15A",
           "#19d3f3",
           "#19d3f3",
           "#19d3f3",
           "#19d3f3",
           "#FFA15A",
           "#19d3f3",
           "#FFA15A",
           "#19d3f3",
           "#19d3f3",
           "#FFA15A",
           "#FFA15A",
           "#FFA15A",
           "#FFA15A",
           "#19d3f3",
           "#19d3f3",
           "#FFA15A",
           "#ab63fa",
           "#ab63fa",
           "#19d3f3",
           "#ab63fa",
           "#ab63fa",
           "#FFA15A",
           "#ab63fa",
           "#FFA15A",
           "#ab63fa",
           "#19d3f3",
           "#19d3f3",
           "#19d3f3",
           "#ab63fa",
           "#FFA15A",
           "#19d3f3",
           "#19d3f3",
           "#ab63fa",
           "#FFA15A",
           "#FFA15A",
           "#ab63fa",
           "#FFA15A",
           "#19d3f3",
           "#FFA15A",
           "#ab63fa",
           "#19d3f3",
           "#FFA15A",
           "#FFA15A",
           "#19d3f3",
           "#ab63fa",
           "#19d3f3",
           "#ab63fa",
           "#19d3f3",
           "#ab63fa",
           "#ab63fa",
           "#FFA15A",
           "#FFA15A",
           "#19d3f3",
           "#FFA15A",
           "#19d3f3",
           "#ab63fa",
           "#ab63fa",
           "#FFA15A",
           "#19d3f3",
           "#ab63fa",
           "#19d3f3",
           "#ab63fa",
           "#FFA15A",
           "#FFA15A",
           "#19d3f3",
           "#ab63fa",
           "#19d3f3",
           "#19d3f3",
           "#FFA15A",
           "#19d3f3",
           "#19d3f3",
           "#ab63fa",
           "#ab63fa",
           "#19d3f3",
           "#FFA15A",
           "#19d3f3",
           "#19d3f3",
           "#FFA15A",
           "#ab63fa",
           "#ab63fa",
           "#FFA15A",
           "#19d3f3",
           "#19d3f3",
           "#ab63fa",
           "#19d3f3",
           "#FFA15A",
           "#19d3f3",
           "#FFA15A",
           "#ab63fa",
           "#FFA15A",
           "#FFA15A",
           "#ab63fa",
           "#ab63fa",
           "#19d3f3",
           "#ab63fa",
           "#19d3f3",
           "#FFA15A",
           "#FFA15A",
           "#19d3f3",
           "#FFA15A",
           "#19d3f3",
           "#FFA15A",
           "#FFA15A",
           "#FFA15A",
           "#ab63fa",
           "#ab63fa",
           "#19d3f3",
           "#19d3f3",
           "#19d3f3",
           "#19d3f3",
           "#FFA15A",
           "#19d3f3",
           "#19d3f3",
           "#ab63fa",
           "#ab63fa",
           "#ab63fa",
           "#ab63fa",
           "#19d3f3",
           "#ab63fa",
           "#ab63fa",
           "#19d3f3",
           "#FFA15A",
           "#FFA15A",
           "#FFA15A",
           "#19d3f3",
           "#ab63fa",
           "#FFA15A",
           "#ab63fa",
           "#FFA15A",
           "#FFA15A",
           "#FFA15A",
           "#ab63fa",
           "#19d3f3",
           "#19d3f3",
           "#19d3f3",
           "#19d3f3",
           "#FFA15A",
           "#19d3f3",
           "#ab63fa",
           "#19d3f3",
           "#FFA15A",
           "#FFA15A",
           "#ab63fa",
           "#FFA15A",
           "#ab63fa",
           "#19d3f3",
           "#19d3f3",
           "#ab63fa",
           "#FFA15A",
           "#19d3f3",
           "#19d3f3",
           "#19d3f3",
           "#FFA15A",
           "#FFA15A",
           "#ab63fa",
           "#ab63fa",
           "#ab63fa",
           "#ab63fa",
           "#19d3f3",
           "#ab63fa",
           "#ab63fa",
           "#ab63fa",
           "#ab63fa",
           "#19d3f3",
           "#19d3f3",
           "#FFA15A",
           "#19d3f3",
           "#19d3f3",
           "#FFA15A",
           "#FFA15A",
           "#ab63fa",
           "#ab63fa",
           "#ab63fa",
           "#19d3f3",
           "#ab63fa",
           "#19d3f3",
           "#19d3f3",
           "#ab63fa",
           "#19d3f3",
           "#19d3f3",
           "#19d3f3",
           "#19d3f3",
           "#FFA15A",
           "#FFA15A",
           "#FFA15A",
           "#FFA15A",
           "#ab63fa",
           "#ab63fa",
           "#FFA15A",
           "#ab63fa",
           "#19d3f3",
           "#ab63fa",
           "#FFA15A",
           "#FFA15A",
           "#19d3f3",
           "#ab63fa",
           "#FFA15A",
           "#19d3f3",
           "#19d3f3",
           "#19d3f3",
           "#19d3f3",
           "#FFA15A",
           "#FFA15A",
           "#19d3f3",
           "#19d3f3",
           "#ab63fa",
           "#ab63fa",
           "#19d3f3",
           "#19d3f3",
           "#19d3f3",
           "#FFA15A",
           "#ab63fa",
           "#FFA15A",
           "#FFA15A",
           "#FFA15A",
           "#ab63fa",
           "#19d3f3",
           "#FFA15A",
           "#19d3f3",
           "#19d3f3",
           "#19d3f3",
           "#FFA15A",
           "#19d3f3",
           "#ab63fa",
           "#19d3f3",
           "#19d3f3",
           "#FFA15A",
           "#FFA15A",
           "#19d3f3",
           "#19d3f3",
           "#FFA15A",
           "#19d3f3",
           "#FFA15A",
           "#ab63fa",
           "#ab63fa",
           "#ab63fa",
           "#19d3f3",
           "#FFA15A",
           "#19d3f3",
           "#FFA15A",
           "#ab63fa",
           "#FFA15A",
           "#FFA15A",
           "#ab63fa",
           "#ab63fa",
           "#19d3f3",
           "#ab63fa",
           "#19d3f3",
           "#FFA15A",
           "#ab63fa",
           "#19d3f3",
           "#FFA15A",
           "#19d3f3",
           "#FFA15A",
           "#FFA15A",
           "#19d3f3",
           "#FFA15A",
           "#FFA15A",
           "#FFA15A",
           "#FFA15A",
           "#FFA15A",
           "#19d3f3",
           "#ab63fa",
           "#ab63fa",
           "#FFA15A",
           "#19d3f3",
           "#19d3f3",
           "#19d3f3",
           "#19d3f3",
           "#ab63fa",
           "#ab63fa",
           "#ab63fa",
           "#FFA15A",
           "#ab63fa",
           "#ab63fa",
           "#19d3f3",
           "#19d3f3",
           "#FFA15A",
           "#FFA15A",
           "#ab63fa",
           "#ab63fa",
           "#19d3f3",
           "#ab63fa",
           "#19d3f3",
           "#FFA15A",
           "#FFA15A",
           "#19d3f3",
           "#FFA15A",
           "#ab63fa",
           "#ab63fa",
           "#FFA15A",
           "#FFA15A",
           "#FFA15A",
           "#FFA15A",
           "#ab63fa",
           "#FFA15A",
           "#ab63fa",
           "#ab63fa",
           "#ab63fa",
           "#19d3f3",
           "#19d3f3",
           "#ab63fa",
           "#19d3f3",
           "#FFA15A",
           "#ab63fa",
           "#19d3f3",
           "#ab63fa",
           "#ab63fa",
           "#FFA15A",
           "#FFA15A",
           "#ab63fa",
           "#FFA15A",
           "#19d3f3",
           "#FFA15A",
           "#ab63fa",
           "#ab63fa",
           "#ab63fa",
           "#19d3f3",
           "#19d3f3",
           "#19d3f3",
           "#19d3f3",
           "#ab63fa",
           "#ab63fa",
           "#ab63fa",
           "#ab63fa",
           "#ab63fa",
           "#19d3f3",
           "#19d3f3",
           "#FFA15A",
           "#ab63fa",
           "#ab63fa",
           "#19d3f3",
           "#19d3f3",
           "#FFA15A",
           "#FFA15A",
           "#19d3f3",
           "#FFA15A",
           "#ab63fa",
           "#ab63fa",
           "#FFA15A",
           "#19d3f3",
           "#ab63fa",
           "#ab63fa",
           "#FFA15A",
           "#19d3f3",
           "#19d3f3",
           "#FFA15A",
           "#FFA15A",
           "#19d3f3",
           "#ab63fa",
           "#ab63fa",
           "#19d3f3",
           "#19d3f3",
           "#19d3f3",
           "#19d3f3",
           "#ab63fa",
           "#ab63fa",
           "#FFA15A",
           "#ab63fa",
           "#FFA15A",
           "#FFA15A",
           "#19d3f3",
           "#ab63fa",
           "#19d3f3",
           "#FFA15A",
           "#19d3f3",
           "#FFA15A",
           "#ab63fa",
           "#19d3f3",
           "#ab63fa",
           "#FFA15A",
           "#FFA15A",
           "#19d3f3",
           "#FFA15A",
           "#FFA15A",
           "#19d3f3",
           "#ab63fa",
           "#19d3f3",
           "#ab63fa",
           "#ab63fa",
           "#FFA15A",
           "#ab63fa",
           "#19d3f3",
           "#19d3f3",
           "#FFA15A",
           "#19d3f3",
           "#ab63fa",
           "#FFA15A",
           "#FFA15A",
           "#19d3f3",
           "#19d3f3",
           "#FFA15A",
           "#FFA15A",
           "#FFA15A",
           "#19d3f3",
           "#19d3f3",
           "#FFA15A",
           "#19d3f3",
           "#19d3f3",
           "#19d3f3",
           "#19d3f3",
           "#19d3f3",
           "#ab63fa",
           "#ab63fa",
           "#19d3f3",
           "#19d3f3",
           "#ab63fa",
           "#19d3f3",
           "#FFA15A",
           "#ab63fa",
           "#FFA15A",
           "#FFA15A",
           "#19d3f3",
           "#19d3f3",
           "#19d3f3",
           "#19d3f3",
           "#19d3f3",
           "#19d3f3",
           "#ab63fa",
           "#ab63fa",
           "#ab63fa",
           "#ab63fa",
           "#ab63fa",
           "#ab63fa",
           "#ab63fa",
           "#ab63fa",
           "#FFA15A",
           "#ab63fa",
           "#FFA15A",
           "#FFA15A",
           "#19d3f3",
           "#FFA15A",
           "#ab63fa",
           "#FFA15A",
           "#FFA15A",
           "#ab63fa",
           "#ab63fa",
           "#ab63fa",
           "#FFA15A",
           "#ab63fa",
           "#19d3f3",
           "#FFA15A",
           "#FFA15A",
           "#ab63fa",
           "#ab63fa",
           "#19d3f3",
           "#ab63fa",
           "#ab63fa",
           "#ab63fa",
           "#ab63fa",
           "#ab63fa",
           "#19d3f3",
           "#19d3f3",
           "#FFA15A",
           "#19d3f3",
           "#FFA15A",
           "#FFA15A",
           "#19d3f3",
           "#19d3f3",
           "#19d3f3",
           "#19d3f3",
           "#19d3f3",
           "#19d3f3"
          ]
         },
         "name": "",
         "showlegend": true,
         "type": "pie",
         "values": [
          "Cash",
          "Credit card",
          "Ewallet",
          "Ewallet",
          "Ewallet",
          "Ewallet",
          "Ewallet",
          "Credit card",
          "Credit card",
          "Ewallet",
          "Cash",
          "Ewallet",
          "Ewallet",
          "Cash",
          "Cash",
          "Credit card",
          "Credit card",
          "Credit card",
          "Ewallet",
          "Ewallet",
          "Ewallet",
          "Credit card",
          "Ewallet",
          "Ewallet",
          "Credit card",
          "Cash",
          "Credit card",
          "Cash",
          "Cash",
          "Credit card",
          "Cash",
          "Cash",
          "Credit card",
          "Ewallet",
          "Ewallet",
          "Ewallet",
          "Ewallet",
          "Ewallet",
          "Cash",
          "Ewallet",
          "Cash",
          "Cash",
          "Cash",
          "Cash",
          "Cash",
          "Credit card",
          "Ewallet",
          "Credit card",
          "Ewallet",
          "Cash",
          "Cash",
          "Ewallet",
          "Credit card",
          "Ewallet",
          "Cash",
          "Cash",
          "Ewallet",
          "Cash",
          "Cash",
          "Credit card",
          "Ewallet",
          "Ewallet",
          "Credit card",
          "Cash",
          "Cash",
          "Ewallet",
          "Ewallet",
          "Cash",
          "Cash",
          "Credit card",
          "Cash",
          "Ewallet",
          "Cash",
          "Ewallet",
          "Credit card",
          "Credit card",
          "Credit card",
          "Ewallet",
          "Cash",
          "Credit card",
          "Ewallet",
          "Ewallet",
          "Credit card",
          "Cash",
          "Ewallet",
          "Cash",
          "Credit card",
          "Cash",
          "Cash",
          "Cash",
          "Ewallet",
          "Ewallet",
          "Credit card",
          "Credit card",
          "Ewallet",
          "Ewallet",
          "Cash",
          "Ewallet",
          "Cash",
          "Cash",
          "Cash",
          "Cash",
          "Cash",
          "Cash",
          "Ewallet",
          "Credit card",
          "Cash",
          "Cash",
          "Cash",
          "Ewallet",
          "Credit card",
          "Cash",
          "Ewallet",
          "Credit card",
          "Credit card",
          "Ewallet",
          "Ewallet",
          "Ewallet",
          "Ewallet",
          "Credit card",
          "Credit card",
          "Credit card",
          "Credit card",
          "Ewallet",
          "Credit card",
          "Cash",
          "Credit card",
          "Ewallet",
          "Ewallet",
          "Cash",
          "Cash",
          "Cash",
          "Credit card",
          "Ewallet",
          "Cash",
          "Credit card",
          "Cash",
          "Cash",
          "Ewallet",
          "Credit card",
          "Cash",
          "Cash",
          "Credit card",
          "Ewallet",
          "Credit card",
          "Ewallet",
          "Credit card",
          "Credit card",
          "Credit card",
          "Credit card",
          "Credit card",
          "Credit card",
          "Ewallet",
          "Cash",
          "Credit card",
          "Cash",
          "Ewallet",
          "Ewallet",
          "Ewallet",
          "Credit card",
          "Cash",
          "Credit card",
          "Ewallet",
          "Credit card",
          "Ewallet",
          "Cash",
          "Credit card",
          "Cash",
          "Credit card",
          "Ewallet",
          "Credit card",
          "Cash",
          "Credit card",
          "Ewallet",
          "Ewallet",
          "Credit card",
          "Credit card",
          "Ewallet",
          "Ewallet",
          "Cash",
          "Cash",
          "Ewallet",
          "Ewallet",
          "Credit card",
          "Ewallet",
          "Ewallet",
          "Cash",
          "Ewallet",
          "Credit card",
          "Credit card",
          "Ewallet",
          "Cash",
          "Ewallet",
          "Credit card",
          "Cash",
          "Cash",
          "Ewallet",
          "Credit card",
          "Credit card",
          "Credit card",
          "Cash",
          "Cash",
          "Ewallet",
          "Credit card",
          "Ewallet",
          "Credit card",
          "Ewallet",
          "Ewallet",
          "Credit card",
          "Ewallet",
          "Cash",
          "Ewallet",
          "Credit card",
          "Cash",
          "Credit card",
          "Cash",
          "Cash",
          "Ewallet",
          "Credit card",
          "Ewallet",
          "Ewallet",
          "Cash",
          "Cash",
          "Cash",
          "Credit card",
          "Ewallet",
          "Ewallet",
          "Cash",
          "Ewallet",
          "Cash",
          "Credit card",
          "Cash",
          "Cash",
          "Ewallet",
          "Ewallet",
          "Credit card",
          "Credit card",
          "Cash",
          "Ewallet",
          "Credit card",
          "Credit card",
          "Credit card",
          "Cash",
          "Credit card",
          "Cash",
          "Cash",
          "Ewallet",
          "Credit card",
          "Credit card",
          "Ewallet",
          "Credit card",
          "Credit card",
          "Cash",
          "Cash",
          "Cash",
          "Credit card",
          "Ewallet",
          "Ewallet",
          "Credit card",
          "Ewallet",
          "Ewallet",
          "Cash",
          "Cash",
          "Ewallet",
          "Credit card",
          "Credit card",
          "Cash",
          "Credit card",
          "Ewallet",
          "Ewallet",
          "Cash",
          "Credit card",
          "Cash",
          "Ewallet",
          "Cash",
          "Cash",
          "Ewallet",
          "Cash",
          "Credit card",
          "Credit card",
          "Credit card",
          "Cash",
          "Ewallet",
          "Cash",
          "Cash",
          "Cash",
          "Cash",
          "Credit card",
          "Cash",
          "Credit card",
          "Ewallet",
          "Cash",
          "Cash",
          "Ewallet",
          "Cash",
          "Cash",
          "Ewallet",
          "Cash",
          "Cash",
          "Credit card",
          "Credit card",
          "Cash",
          "Credit card",
          "Cash",
          "Ewallet",
          "Cash",
          "Cash",
          "Ewallet",
          "Cash",
          "Cash",
          "Ewallet",
          "Credit card",
          "Cash",
          "Cash",
          "Cash",
          "Cash",
          "Cash",
          "Credit card",
          "Ewallet",
          "Cash",
          "Cash",
          "Ewallet",
          "Cash",
          "Credit card",
          "Ewallet",
          "Cash",
          "Cash",
          "Credit card",
          "Cash",
          "Cash",
          "Credit card",
          "Cash",
          "Credit card",
          "Ewallet",
          "Credit card",
          "Ewallet",
          "Cash",
          "Credit card",
          "Credit card",
          "Credit card",
          "Ewallet",
          "Cash",
          "Ewallet",
          "Cash",
          "Ewallet",
          "Cash",
          "Cash",
          "Cash",
          "Credit card",
          "Credit card",
          "Cash",
          "Credit card",
          "Cash",
          "Cash",
          "Credit card",
          "Credit card",
          "Cash",
          "Ewallet",
          "Cash",
          "Credit card",
          "Cash",
          "Ewallet",
          "Cash",
          "Cash",
          "Cash",
          "Cash",
          "Cash",
          "Cash",
          "Credit card",
          "Cash",
          "Credit card",
          "Ewallet",
          "Cash",
          "Credit card",
          "Ewallet",
          "Credit card",
          "Ewallet",
          "Ewallet",
          "Credit card",
          "Credit card",
          "Cash",
          "Cash",
          "Ewallet",
          "Ewallet",
          "Cash",
          "Cash",
          "Credit card",
          "Ewallet",
          "Credit card",
          "Cash",
          "Cash",
          "Ewallet",
          "Credit card",
          "Ewallet",
          "Ewallet",
          "Ewallet",
          "Cash",
          "Credit card",
          "Cash",
          "Credit card",
          "Credit card",
          "Ewallet",
          "Ewallet",
          "Ewallet",
          "Credit card",
          "Credit card",
          "Cash",
          "Ewallet",
          "Ewallet",
          "Cash",
          "Ewallet",
          "Cash",
          "Ewallet",
          "Ewallet",
          "Ewallet",
          "Credit card",
          "Ewallet",
          "Ewallet",
          "Cash",
          "Ewallet",
          "Cash",
          "Credit card",
          "Credit card",
          "Cash",
          "Cash",
          "Cash",
          "Credit card",
          "Cash",
          "Ewallet",
          "Credit card",
          "Ewallet",
          "Ewallet",
          "Credit card",
          "Credit card",
          "Ewallet",
          "Ewallet",
          "Credit card",
          "Ewallet",
          "Credit card",
          "Cash",
          "Credit card",
          "Credit card",
          "Ewallet",
          "Cash",
          "Credit card",
          "Credit card",
          "Credit card",
          "Credit card",
          "Credit card",
          "Cash",
          "Cash",
          "Ewallet",
          "Ewallet",
          "Cash",
          "Cash",
          "Credit card",
          "Cash",
          "Cash",
          "Credit card",
          "Cash",
          "Credit card",
          "Cash",
          "Cash",
          "Credit card",
          "Credit card",
          "Credit card",
          "Cash",
          "Ewallet",
          "Cash",
          "Ewallet",
          "Cash",
          "Credit card",
          "Cash",
          "Cash",
          "Credit card",
          "Credit card",
          "Ewallet",
          "Ewallet",
          "Ewallet",
          "Cash",
          "Cash",
          "Ewallet",
          "Cash",
          "Credit card",
          "Ewallet",
          "Cash",
          "Ewallet",
          "Cash",
          "Ewallet",
          "Ewallet",
          "Credit card",
          "Ewallet",
          "Credit card",
          "Ewallet",
          "Cash",
          "Cash",
          "Cash",
          "Cash",
          "Cash",
          "Credit card",
          "Ewallet",
          "Ewallet",
          "Cash",
          "Credit card",
          "Ewallet",
          "Cash",
          "Credit card",
          "Cash",
          "Credit card",
          "Credit card",
          "Ewallet",
          "Ewallet",
          "Cash",
          "Credit card",
          "Ewallet",
          "Ewallet",
          "Credit card",
          "Ewallet",
          "Credit card",
          "Credit card",
          "Cash",
          "Credit card",
          "Cash",
          "Credit card",
          "Ewallet",
          "Credit card",
          "Ewallet",
          "Credit card",
          "Cash",
          "Ewallet",
          "Credit card",
          "Ewallet",
          "Ewallet",
          "Ewallet",
          "Ewallet",
          "Credit card",
          "Ewallet",
          "Credit card",
          "Ewallet",
          "Ewallet",
          "Credit card",
          "Credit card",
          "Credit card",
          "Credit card",
          "Ewallet",
          "Ewallet",
          "Credit card",
          "Cash",
          "Cash",
          "Ewallet",
          "Cash",
          "Cash",
          "Credit card",
          "Cash",
          "Credit card",
          "Cash",
          "Ewallet",
          "Ewallet",
          "Ewallet",
          "Cash",
          "Credit card",
          "Ewallet",
          "Ewallet",
          "Cash",
          "Credit card",
          "Credit card",
          "Cash",
          "Credit card",
          "Ewallet",
          "Credit card",
          "Cash",
          "Ewallet",
          "Credit card",
          "Credit card",
          "Ewallet",
          "Cash",
          "Ewallet",
          "Cash",
          "Ewallet",
          "Cash",
          "Cash",
          "Credit card",
          "Credit card",
          "Ewallet",
          "Credit card",
          "Ewallet",
          "Cash",
          "Cash",
          "Credit card",
          "Ewallet",
          "Cash",
          "Ewallet",
          "Cash",
          "Credit card",
          "Credit card",
          "Ewallet",
          "Cash",
          "Ewallet",
          "Ewallet",
          "Credit card",
          "Ewallet",
          "Ewallet",
          "Cash",
          "Cash",
          "Ewallet",
          "Credit card",
          "Ewallet",
          "Ewallet",
          "Credit card",
          "Cash",
          "Cash",
          "Credit card",
          "Ewallet",
          "Ewallet",
          "Cash",
          "Ewallet",
          "Credit card",
          "Ewallet",
          "Credit card",
          "Cash",
          "Credit card",
          "Credit card",
          "Cash",
          "Cash",
          "Ewallet",
          "Cash",
          "Ewallet",
          "Credit card",
          "Credit card",
          "Ewallet",
          "Credit card",
          "Ewallet",
          "Credit card",
          "Credit card",
          "Credit card",
          "Cash",
          "Cash",
          "Ewallet",
          "Ewallet",
          "Ewallet",
          "Ewallet",
          "Credit card",
          "Ewallet",
          "Ewallet",
          "Cash",
          "Cash",
          "Cash",
          "Cash",
          "Ewallet",
          "Cash",
          "Cash",
          "Ewallet",
          "Credit card",
          "Credit card",
          "Credit card",
          "Ewallet",
          "Cash",
          "Credit card",
          "Cash",
          "Credit card",
          "Credit card",
          "Credit card",
          "Cash",
          "Ewallet",
          "Ewallet",
          "Ewallet",
          "Ewallet",
          "Credit card",
          "Ewallet",
          "Cash",
          "Ewallet",
          "Credit card",
          "Credit card",
          "Cash",
          "Credit card",
          "Cash",
          "Ewallet",
          "Ewallet",
          "Cash",
          "Credit card",
          "Ewallet",
          "Ewallet",
          "Ewallet",
          "Credit card",
          "Credit card",
          "Cash",
          "Cash",
          "Cash",
          "Cash",
          "Ewallet",
          "Cash",
          "Cash",
          "Cash",
          "Cash",
          "Ewallet",
          "Ewallet",
          "Credit card",
          "Ewallet",
          "Ewallet",
          "Credit card",
          "Credit card",
          "Cash",
          "Cash",
          "Cash",
          "Ewallet",
          "Cash",
          "Ewallet",
          "Ewallet",
          "Cash",
          "Ewallet",
          "Ewallet",
          "Ewallet",
          "Ewallet",
          "Credit card",
          "Credit card",
          "Credit card",
          "Credit card",
          "Cash",
          "Cash",
          "Credit card",
          "Cash",
          "Ewallet",
          "Cash",
          "Credit card",
          "Credit card",
          "Ewallet",
          "Cash",
          "Credit card",
          "Ewallet",
          "Ewallet",
          "Ewallet",
          "Ewallet",
          "Credit card",
          "Credit card",
          "Ewallet",
          "Ewallet",
          "Cash",
          "Cash",
          "Ewallet",
          "Ewallet",
          "Ewallet",
          "Credit card",
          "Cash",
          "Credit card",
          "Credit card",
          "Credit card",
          "Cash",
          "Ewallet",
          "Credit card",
          "Ewallet",
          "Ewallet",
          "Ewallet",
          "Credit card",
          "Ewallet",
          "Cash",
          "Ewallet",
          "Ewallet",
          "Credit card",
          "Credit card",
          "Ewallet",
          "Ewallet",
          "Credit card",
          "Ewallet",
          "Credit card",
          "Cash",
          "Cash",
          "Cash",
          "Ewallet",
          "Credit card",
          "Ewallet",
          "Credit card",
          "Cash",
          "Credit card",
          "Credit card",
          "Cash",
          "Cash",
          "Ewallet",
          "Cash",
          "Ewallet",
          "Credit card",
          "Cash",
          "Ewallet",
          "Credit card",
          "Ewallet",
          "Credit card",
          "Credit card",
          "Ewallet",
          "Credit card",
          "Credit card",
          "Credit card",
          "Credit card",
          "Credit card",
          "Ewallet",
          "Cash",
          "Cash",
          "Credit card",
          "Ewallet",
          "Ewallet",
          "Ewallet",
          "Ewallet",
          "Cash",
          "Cash",
          "Cash",
          "Credit card",
          "Cash",
          "Cash",
          "Ewallet",
          "Ewallet",
          "Credit card",
          "Credit card",
          "Cash",
          "Cash",
          "Ewallet",
          "Cash",
          "Ewallet",
          "Credit card",
          "Credit card",
          "Ewallet",
          "Credit card",
          "Cash",
          "Cash",
          "Credit card",
          "Credit card",
          "Credit card",
          "Credit card",
          "Cash",
          "Credit card",
          "Cash",
          "Cash",
          "Cash",
          "Ewallet",
          "Ewallet",
          "Cash",
          "Ewallet",
          "Credit card",
          "Cash",
          "Ewallet",
          "Cash",
          "Cash",
          "Credit card",
          "Credit card",
          "Cash",
          "Credit card",
          "Ewallet",
          "Credit card",
          "Cash",
          "Cash",
          "Cash",
          "Ewallet",
          "Ewallet",
          "Ewallet",
          "Ewallet",
          "Cash",
          "Cash",
          "Cash",
          "Cash",
          "Cash",
          "Ewallet",
          "Ewallet",
          "Credit card",
          "Cash",
          "Cash",
          "Ewallet",
          "Ewallet",
          "Credit card",
          "Credit card",
          "Ewallet",
          "Credit card",
          "Cash",
          "Cash",
          "Credit card",
          "Ewallet",
          "Cash",
          "Cash",
          "Credit card",
          "Ewallet",
          "Ewallet",
          "Credit card",
          "Credit card",
          "Ewallet",
          "Cash",
          "Cash",
          "Ewallet",
          "Ewallet",
          "Ewallet",
          "Ewallet",
          "Cash",
          "Cash",
          "Credit card",
          "Cash",
          "Credit card",
          "Credit card",
          "Ewallet",
          "Cash",
          "Ewallet",
          "Credit card",
          "Ewallet",
          "Credit card",
          "Cash",
          "Ewallet",
          "Cash",
          "Credit card",
          "Credit card",
          "Ewallet",
          "Credit card",
          "Credit card",
          "Ewallet",
          "Cash",
          "Ewallet",
          "Cash",
          "Cash",
          "Credit card",
          "Cash",
          "Ewallet",
          "Ewallet",
          "Credit card",
          "Ewallet",
          "Cash",
          "Credit card",
          "Credit card",
          "Ewallet",
          "Ewallet",
          "Credit card",
          "Credit card",
          "Credit card",
          "Ewallet",
          "Ewallet",
          "Credit card",
          "Ewallet",
          "Ewallet",
          "Ewallet",
          "Ewallet",
          "Ewallet",
          "Cash",
          "Cash",
          "Ewallet",
          "Ewallet",
          "Cash",
          "Ewallet",
          "Credit card",
          "Cash",
          "Credit card",
          "Credit card",
          "Ewallet",
          "Ewallet",
          "Ewallet",
          "Ewallet",
          "Ewallet",
          "Ewallet",
          "Cash",
          "Cash",
          "Cash",
          "Cash",
          "Cash",
          "Cash",
          "Cash",
          "Cash",
          "Credit card",
          "Cash",
          "Credit card",
          "Credit card",
          "Ewallet",
          "Credit card",
          "Cash",
          "Credit card",
          "Credit card",
          "Cash",
          "Cash",
          "Cash",
          "Credit card",
          "Cash",
          "Ewallet",
          "Credit card",
          "Credit card",
          "Cash",
          "Cash",
          "Ewallet",
          "Cash",
          "Cash",
          "Cash",
          "Cash",
          "Cash",
          "Ewallet",
          "Ewallet",
          "Credit card",
          "Ewallet",
          "Credit card",
          "Credit card",
          "Ewallet",
          "Ewallet",
          "Ewallet",
          "Ewallet",
          "Ewallet",
          "Ewallet"
         ]
        }
       ],
       "layout": {
        "legend": {
         "tracegroupgap": 0
        },
        "margin": {
         "t": 60
        },
        "template": {
         "data": {
          "bar": [
           {
            "error_x": {
             "color": "#2a3f5f"
            },
            "error_y": {
             "color": "#2a3f5f"
            },
            "marker": {
             "line": {
              "color": "#E5ECF6",
              "width": 0.5
             },
             "pattern": {
              "fillmode": "overlay",
              "size": 10,
              "solidity": 0.2
             }
            },
            "type": "bar"
           }
          ],
          "barpolar": [
           {
            "marker": {
             "line": {
              "color": "#E5ECF6",
              "width": 0.5
             },
             "pattern": {
              "fillmode": "overlay",
              "size": 10,
              "solidity": 0.2
             }
            },
            "type": "barpolar"
           }
          ],
          "carpet": [
           {
            "aaxis": {
             "endlinecolor": "#2a3f5f",
             "gridcolor": "white",
             "linecolor": "white",
             "minorgridcolor": "white",
             "startlinecolor": "#2a3f5f"
            },
            "baxis": {
             "endlinecolor": "#2a3f5f",
             "gridcolor": "white",
             "linecolor": "white",
             "minorgridcolor": "white",
             "startlinecolor": "#2a3f5f"
            },
            "type": "carpet"
           }
          ],
          "choropleth": [
           {
            "colorbar": {
             "outlinewidth": 0,
             "ticks": ""
            },
            "type": "choropleth"
           }
          ],
          "contour": [
           {
            "colorbar": {
             "outlinewidth": 0,
             "ticks": ""
            },
            "colorscale": [
             [
              0,
              "#0d0887"
             ],
             [
              0.1111111111111111,
              "#46039f"
             ],
             [
              0.2222222222222222,
              "#7201a8"
             ],
             [
              0.3333333333333333,
              "#9c179e"
             ],
             [
              0.4444444444444444,
              "#bd3786"
             ],
             [
              0.5555555555555556,
              "#d8576b"
             ],
             [
              0.6666666666666666,
              "#ed7953"
             ],
             [
              0.7777777777777778,
              "#fb9f3a"
             ],
             [
              0.8888888888888888,
              "#fdca26"
             ],
             [
              1,
              "#f0f921"
             ]
            ],
            "type": "contour"
           }
          ],
          "contourcarpet": [
           {
            "colorbar": {
             "outlinewidth": 0,
             "ticks": ""
            },
            "type": "contourcarpet"
           }
          ],
          "heatmap": [
           {
            "colorbar": {
             "outlinewidth": 0,
             "ticks": ""
            },
            "colorscale": [
             [
              0,
              "#0d0887"
             ],
             [
              0.1111111111111111,
              "#46039f"
             ],
             [
              0.2222222222222222,
              "#7201a8"
             ],
             [
              0.3333333333333333,
              "#9c179e"
             ],
             [
              0.4444444444444444,
              "#bd3786"
             ],
             [
              0.5555555555555556,
              "#d8576b"
             ],
             [
              0.6666666666666666,
              "#ed7953"
             ],
             [
              0.7777777777777778,
              "#fb9f3a"
             ],
             [
              0.8888888888888888,
              "#fdca26"
             ],
             [
              1,
              "#f0f921"
             ]
            ],
            "type": "heatmap"
           }
          ],
          "heatmapgl": [
           {
            "colorbar": {
             "outlinewidth": 0,
             "ticks": ""
            },
            "colorscale": [
             [
              0,
              "#0d0887"
             ],
             [
              0.1111111111111111,
              "#46039f"
             ],
             [
              0.2222222222222222,
              "#7201a8"
             ],
             [
              0.3333333333333333,
              "#9c179e"
             ],
             [
              0.4444444444444444,
              "#bd3786"
             ],
             [
              0.5555555555555556,
              "#d8576b"
             ],
             [
              0.6666666666666666,
              "#ed7953"
             ],
             [
              0.7777777777777778,
              "#fb9f3a"
             ],
             [
              0.8888888888888888,
              "#fdca26"
             ],
             [
              1,
              "#f0f921"
             ]
            ],
            "type": "heatmapgl"
           }
          ],
          "histogram": [
           {
            "marker": {
             "pattern": {
              "fillmode": "overlay",
              "size": 10,
              "solidity": 0.2
             }
            },
            "type": "histogram"
           }
          ],
          "histogram2d": [
           {
            "colorbar": {
             "outlinewidth": 0,
             "ticks": ""
            },
            "colorscale": [
             [
              0,
              "#0d0887"
             ],
             [
              0.1111111111111111,
              "#46039f"
             ],
             [
              0.2222222222222222,
              "#7201a8"
             ],
             [
              0.3333333333333333,
              "#9c179e"
             ],
             [
              0.4444444444444444,
              "#bd3786"
             ],
             [
              0.5555555555555556,
              "#d8576b"
             ],
             [
              0.6666666666666666,
              "#ed7953"
             ],
             [
              0.7777777777777778,
              "#fb9f3a"
             ],
             [
              0.8888888888888888,
              "#fdca26"
             ],
             [
              1,
              "#f0f921"
             ]
            ],
            "type": "histogram2d"
           }
          ],
          "histogram2dcontour": [
           {
            "colorbar": {
             "outlinewidth": 0,
             "ticks": ""
            },
            "colorscale": [
             [
              0,
              "#0d0887"
             ],
             [
              0.1111111111111111,
              "#46039f"
             ],
             [
              0.2222222222222222,
              "#7201a8"
             ],
             [
              0.3333333333333333,
              "#9c179e"
             ],
             [
              0.4444444444444444,
              "#bd3786"
             ],
             [
              0.5555555555555556,
              "#d8576b"
             ],
             [
              0.6666666666666666,
              "#ed7953"
             ],
             [
              0.7777777777777778,
              "#fb9f3a"
             ],
             [
              0.8888888888888888,
              "#fdca26"
             ],
             [
              1,
              "#f0f921"
             ]
            ],
            "type": "histogram2dcontour"
           }
          ],
          "mesh3d": [
           {
            "colorbar": {
             "outlinewidth": 0,
             "ticks": ""
            },
            "type": "mesh3d"
           }
          ],
          "parcoords": [
           {
            "line": {
             "colorbar": {
              "outlinewidth": 0,
              "ticks": ""
             }
            },
            "type": "parcoords"
           }
          ],
          "pie": [
           {
            "automargin": true,
            "type": "pie"
           }
          ],
          "scatter": [
           {
            "fillpattern": {
             "fillmode": "overlay",
             "size": 10,
             "solidity": 0.2
            },
            "type": "scatter"
           }
          ],
          "scatter3d": [
           {
            "line": {
             "colorbar": {
              "outlinewidth": 0,
              "ticks": ""
             }
            },
            "marker": {
             "colorbar": {
              "outlinewidth": 0,
              "ticks": ""
             }
            },
            "type": "scatter3d"
           }
          ],
          "scattercarpet": [
           {
            "marker": {
             "colorbar": {
              "outlinewidth": 0,
              "ticks": ""
             }
            },
            "type": "scattercarpet"
           }
          ],
          "scattergeo": [
           {
            "marker": {
             "colorbar": {
              "outlinewidth": 0,
              "ticks": ""
             }
            },
            "type": "scattergeo"
           }
          ],
          "scattergl": [
           {
            "marker": {
             "colorbar": {
              "outlinewidth": 0,
              "ticks": ""
             }
            },
            "type": "scattergl"
           }
          ],
          "scattermapbox": [
           {
            "marker": {
             "colorbar": {
              "outlinewidth": 0,
              "ticks": ""
             }
            },
            "type": "scattermapbox"
           }
          ],
          "scatterpolar": [
           {
            "marker": {
             "colorbar": {
              "outlinewidth": 0,
              "ticks": ""
             }
            },
            "type": "scatterpolar"
           }
          ],
          "scatterpolargl": [
           {
            "marker": {
             "colorbar": {
              "outlinewidth": 0,
              "ticks": ""
             }
            },
            "type": "scatterpolargl"
           }
          ],
          "scatterternary": [
           {
            "marker": {
             "colorbar": {
              "outlinewidth": 0,
              "ticks": ""
             }
            },
            "type": "scatterternary"
           }
          ],
          "surface": [
           {
            "colorbar": {
             "outlinewidth": 0,
             "ticks": ""
            },
            "colorscale": [
             [
              0,
              "#0d0887"
             ],
             [
              0.1111111111111111,
              "#46039f"
             ],
             [
              0.2222222222222222,
              "#7201a8"
             ],
             [
              0.3333333333333333,
              "#9c179e"
             ],
             [
              0.4444444444444444,
              "#bd3786"
             ],
             [
              0.5555555555555556,
              "#d8576b"
             ],
             [
              0.6666666666666666,
              "#ed7953"
             ],
             [
              0.7777777777777778,
              "#fb9f3a"
             ],
             [
              0.8888888888888888,
              "#fdca26"
             ],
             [
              1,
              "#f0f921"
             ]
            ],
            "type": "surface"
           }
          ],
          "table": [
           {
            "cells": {
             "fill": {
              "color": "#EBF0F8"
             },
             "line": {
              "color": "white"
             }
            },
            "header": {
             "fill": {
              "color": "#C8D4E3"
             },
             "line": {
              "color": "white"
             }
            },
            "type": "table"
           }
          ]
         },
         "layout": {
          "annotationdefaults": {
           "arrowcolor": "#2a3f5f",
           "arrowhead": 0,
           "arrowwidth": 1
          },
          "autotypenumbers": "strict",
          "coloraxis": {
           "colorbar": {
            "outlinewidth": 0,
            "ticks": ""
           }
          },
          "colorscale": {
           "diverging": [
            [
             0,
             "#8e0152"
            ],
            [
             0.1,
             "#c51b7d"
            ],
            [
             0.2,
             "#de77ae"
            ],
            [
             0.3,
             "#f1b6da"
            ],
            [
             0.4,
             "#fde0ef"
            ],
            [
             0.5,
             "#f7f7f7"
            ],
            [
             0.6,
             "#e6f5d0"
            ],
            [
             0.7,
             "#b8e186"
            ],
            [
             0.8,
             "#7fbc41"
            ],
            [
             0.9,
             "#4d9221"
            ],
            [
             1,
             "#276419"
            ]
           ],
           "sequential": [
            [
             0,
             "#0d0887"
            ],
            [
             0.1111111111111111,
             "#46039f"
            ],
            [
             0.2222222222222222,
             "#7201a8"
            ],
            [
             0.3333333333333333,
             "#9c179e"
            ],
            [
             0.4444444444444444,
             "#bd3786"
            ],
            [
             0.5555555555555556,
             "#d8576b"
            ],
            [
             0.6666666666666666,
             "#ed7953"
            ],
            [
             0.7777777777777778,
             "#fb9f3a"
            ],
            [
             0.8888888888888888,
             "#fdca26"
            ],
            [
             1,
             "#f0f921"
            ]
           ],
           "sequentialminus": [
            [
             0,
             "#0d0887"
            ],
            [
             0.1111111111111111,
             "#46039f"
            ],
            [
             0.2222222222222222,
             "#7201a8"
            ],
            [
             0.3333333333333333,
             "#9c179e"
            ],
            [
             0.4444444444444444,
             "#bd3786"
            ],
            [
             0.5555555555555556,
             "#d8576b"
            ],
            [
             0.6666666666666666,
             "#ed7953"
            ],
            [
             0.7777777777777778,
             "#fb9f3a"
            ],
            [
             0.8888888888888888,
             "#fdca26"
            ],
            [
             1,
             "#f0f921"
            ]
           ]
          },
          "colorway": [
           "#636efa",
           "#EF553B",
           "#00cc96",
           "#ab63fa",
           "#FFA15A",
           "#19d3f3",
           "#FF6692",
           "#B6E880",
           "#FF97FF",
           "#FECB52"
          ],
          "font": {
           "color": "#2a3f5f"
          },
          "geo": {
           "bgcolor": "white",
           "lakecolor": "white",
           "landcolor": "#E5ECF6",
           "showlakes": true,
           "showland": true,
           "subunitcolor": "white"
          },
          "hoverlabel": {
           "align": "left"
          },
          "hovermode": "closest",
          "mapbox": {
           "style": "light"
          },
          "paper_bgcolor": "white",
          "plot_bgcolor": "#E5ECF6",
          "polar": {
           "angularaxis": {
            "gridcolor": "white",
            "linecolor": "white",
            "ticks": ""
           },
           "bgcolor": "#E5ECF6",
           "radialaxis": {
            "gridcolor": "white",
            "linecolor": "white",
            "ticks": ""
           }
          },
          "scene": {
           "xaxis": {
            "backgroundcolor": "#E5ECF6",
            "gridcolor": "white",
            "gridwidth": 2,
            "linecolor": "white",
            "showbackground": true,
            "ticks": "",
            "zerolinecolor": "white"
           },
           "yaxis": {
            "backgroundcolor": "#E5ECF6",
            "gridcolor": "white",
            "gridwidth": 2,
            "linecolor": "white",
            "showbackground": true,
            "ticks": "",
            "zerolinecolor": "white"
           },
           "zaxis": {
            "backgroundcolor": "#E5ECF6",
            "gridcolor": "white",
            "gridwidth": 2,
            "linecolor": "white",
            "showbackground": true,
            "ticks": "",
            "zerolinecolor": "white"
           }
          },
          "shapedefaults": {
           "line": {
            "color": "#2a3f5f"
           }
          },
          "ternary": {
           "aaxis": {
            "gridcolor": "white",
            "linecolor": "white",
            "ticks": ""
           },
           "baxis": {
            "gridcolor": "white",
            "linecolor": "white",
            "ticks": ""
           },
           "bgcolor": "#E5ECF6",
           "caxis": {
            "gridcolor": "white",
            "linecolor": "white",
            "ticks": ""
           }
          },
          "title": {
           "x": 0.05
          },
          "xaxis": {
           "automargin": true,
           "gridcolor": "white",
           "linecolor": "white",
           "ticks": "",
           "title": {
            "standoff": 15
           },
           "zerolinecolor": "white",
           "zerolinewidth": 2
          },
          "yaxis": {
           "automargin": true,
           "gridcolor": "white",
           "linecolor": "white",
           "ticks": "",
           "title": {
            "standoff": 15
           },
           "zerolinecolor": "white",
           "zerolinewidth": 2
          }
         }
        }
       }
      }
     },
     "metadata": {},
     "output_type": "display_data"
    }
   ],
   "source": [
    "\n",
    "fig = px.pie(df_payment, values = 'Payment', names = 'index',color = 'Payment',\n",
    "color_discrete_map={\n",
    "    'Thur':'lightcyan','Fri':'cyan','Sat':'royalblue'\n",
    "})\n",
    "\n",
    "fig.show()"
   ]
  },
  {
   "cell_type": "markdown",
   "id": "cf7ceadc",
   "metadata": {},
   "source": [
    "10. Find the payment method that lead to the most amount of money per branch"
   ]
  },
  {
   "cell_type": "code",
   "execution_count": 102,
   "id": "3f4e0be0",
   "metadata": {},
   "outputs": [
    {
     "name": "stderr",
     "output_type": "stream",
     "text": [
      "C:\\Users\\dittm\\AppData\\Local\\Temp\\ipykernel_8048\\3554024100.py:1: FutureWarning:\n",
      "\n",
      "The default value of numeric_only in DataFrameGroupBy.sum is deprecated. In a future version, numeric_only will default to False. Either specify numeric_only or select only columns which should be valid for the function.\n",
      "\n"
     ]
    }
   ],
   "source": [
    "payment = sales.groupby(['Branch', 'Payment']).sum()['Total']"
   ]
  },
  {
   "cell_type": "code",
   "execution_count": 103,
   "id": "eaa4387f",
   "metadata": {},
   "outputs": [],
   "source": [
    "payment = payment.to_frame().reset_index()"
   ]
  },
  {
   "cell_type": "code",
   "execution_count": 104,
   "id": "b388505c",
   "metadata": {},
   "outputs": [
    {
     "data": {
      "application/vnd.plotly.v1+json": {
       "config": {
        "plotlyServerURL": "https://plot.ly"
       },
       "data": [
        {
         "alignmentgroup": "True",
         "hovertemplate": "Branch=%{x}<br>Total=%{y}<extra></extra>",
         "legendgroup": "",
         "marker": {
          "color": "#636efa",
          "pattern": {
           "shape": ""
          }
         },
         "name": "",
         "offsetgroup": "",
         "orientation": "v",
         "showlegend": false,
         "textposition": "auto",
         "type": "bar",
         "x": [
          " ",
          "A",
          "A",
          "A",
          "B",
          "B",
          "B",
          "C",
          "C",
          "C"
         ],
         "xaxis": "x",
         "y": [
          433.692,
          33572.511,
          33094.7505,
          37816.4745,
          35339.4615,
          37344.8565,
          33513.354,
          42788.0565,
          30327.465,
          37096.059
         ],
         "yaxis": "y"
        }
       ],
       "layout": {
        "barmode": "relative",
        "legend": {
         "tracegroupgap": 0
        },
        "margin": {
         "t": 60
        },
        "template": {
         "data": {
          "bar": [
           {
            "error_x": {
             "color": "#2a3f5f"
            },
            "error_y": {
             "color": "#2a3f5f"
            },
            "marker": {
             "line": {
              "color": "#E5ECF6",
              "width": 0.5
             },
             "pattern": {
              "fillmode": "overlay",
              "size": 10,
              "solidity": 0.2
             }
            },
            "type": "bar"
           }
          ],
          "barpolar": [
           {
            "marker": {
             "line": {
              "color": "#E5ECF6",
              "width": 0.5
             },
             "pattern": {
              "fillmode": "overlay",
              "size": 10,
              "solidity": 0.2
             }
            },
            "type": "barpolar"
           }
          ],
          "carpet": [
           {
            "aaxis": {
             "endlinecolor": "#2a3f5f",
             "gridcolor": "white",
             "linecolor": "white",
             "minorgridcolor": "white",
             "startlinecolor": "#2a3f5f"
            },
            "baxis": {
             "endlinecolor": "#2a3f5f",
             "gridcolor": "white",
             "linecolor": "white",
             "minorgridcolor": "white",
             "startlinecolor": "#2a3f5f"
            },
            "type": "carpet"
           }
          ],
          "choropleth": [
           {
            "colorbar": {
             "outlinewidth": 0,
             "ticks": ""
            },
            "type": "choropleth"
           }
          ],
          "contour": [
           {
            "colorbar": {
             "outlinewidth": 0,
             "ticks": ""
            },
            "colorscale": [
             [
              0,
              "#0d0887"
             ],
             [
              0.1111111111111111,
              "#46039f"
             ],
             [
              0.2222222222222222,
              "#7201a8"
             ],
             [
              0.3333333333333333,
              "#9c179e"
             ],
             [
              0.4444444444444444,
              "#bd3786"
             ],
             [
              0.5555555555555556,
              "#d8576b"
             ],
             [
              0.6666666666666666,
              "#ed7953"
             ],
             [
              0.7777777777777778,
              "#fb9f3a"
             ],
             [
              0.8888888888888888,
              "#fdca26"
             ],
             [
              1,
              "#f0f921"
             ]
            ],
            "type": "contour"
           }
          ],
          "contourcarpet": [
           {
            "colorbar": {
             "outlinewidth": 0,
             "ticks": ""
            },
            "type": "contourcarpet"
           }
          ],
          "heatmap": [
           {
            "colorbar": {
             "outlinewidth": 0,
             "ticks": ""
            },
            "colorscale": [
             [
              0,
              "#0d0887"
             ],
             [
              0.1111111111111111,
              "#46039f"
             ],
             [
              0.2222222222222222,
              "#7201a8"
             ],
             [
              0.3333333333333333,
              "#9c179e"
             ],
             [
              0.4444444444444444,
              "#bd3786"
             ],
             [
              0.5555555555555556,
              "#d8576b"
             ],
             [
              0.6666666666666666,
              "#ed7953"
             ],
             [
              0.7777777777777778,
              "#fb9f3a"
             ],
             [
              0.8888888888888888,
              "#fdca26"
             ],
             [
              1,
              "#f0f921"
             ]
            ],
            "type": "heatmap"
           }
          ],
          "heatmapgl": [
           {
            "colorbar": {
             "outlinewidth": 0,
             "ticks": ""
            },
            "colorscale": [
             [
              0,
              "#0d0887"
             ],
             [
              0.1111111111111111,
              "#46039f"
             ],
             [
              0.2222222222222222,
              "#7201a8"
             ],
             [
              0.3333333333333333,
              "#9c179e"
             ],
             [
              0.4444444444444444,
              "#bd3786"
             ],
             [
              0.5555555555555556,
              "#d8576b"
             ],
             [
              0.6666666666666666,
              "#ed7953"
             ],
             [
              0.7777777777777778,
              "#fb9f3a"
             ],
             [
              0.8888888888888888,
              "#fdca26"
             ],
             [
              1,
              "#f0f921"
             ]
            ],
            "type": "heatmapgl"
           }
          ],
          "histogram": [
           {
            "marker": {
             "pattern": {
              "fillmode": "overlay",
              "size": 10,
              "solidity": 0.2
             }
            },
            "type": "histogram"
           }
          ],
          "histogram2d": [
           {
            "colorbar": {
             "outlinewidth": 0,
             "ticks": ""
            },
            "colorscale": [
             [
              0,
              "#0d0887"
             ],
             [
              0.1111111111111111,
              "#46039f"
             ],
             [
              0.2222222222222222,
              "#7201a8"
             ],
             [
              0.3333333333333333,
              "#9c179e"
             ],
             [
              0.4444444444444444,
              "#bd3786"
             ],
             [
              0.5555555555555556,
              "#d8576b"
             ],
             [
              0.6666666666666666,
              "#ed7953"
             ],
             [
              0.7777777777777778,
              "#fb9f3a"
             ],
             [
              0.8888888888888888,
              "#fdca26"
             ],
             [
              1,
              "#f0f921"
             ]
            ],
            "type": "histogram2d"
           }
          ],
          "histogram2dcontour": [
           {
            "colorbar": {
             "outlinewidth": 0,
             "ticks": ""
            },
            "colorscale": [
             [
              0,
              "#0d0887"
             ],
             [
              0.1111111111111111,
              "#46039f"
             ],
             [
              0.2222222222222222,
              "#7201a8"
             ],
             [
              0.3333333333333333,
              "#9c179e"
             ],
             [
              0.4444444444444444,
              "#bd3786"
             ],
             [
              0.5555555555555556,
              "#d8576b"
             ],
             [
              0.6666666666666666,
              "#ed7953"
             ],
             [
              0.7777777777777778,
              "#fb9f3a"
             ],
             [
              0.8888888888888888,
              "#fdca26"
             ],
             [
              1,
              "#f0f921"
             ]
            ],
            "type": "histogram2dcontour"
           }
          ],
          "mesh3d": [
           {
            "colorbar": {
             "outlinewidth": 0,
             "ticks": ""
            },
            "type": "mesh3d"
           }
          ],
          "parcoords": [
           {
            "line": {
             "colorbar": {
              "outlinewidth": 0,
              "ticks": ""
             }
            },
            "type": "parcoords"
           }
          ],
          "pie": [
           {
            "automargin": true,
            "type": "pie"
           }
          ],
          "scatter": [
           {
            "fillpattern": {
             "fillmode": "overlay",
             "size": 10,
             "solidity": 0.2
            },
            "type": "scatter"
           }
          ],
          "scatter3d": [
           {
            "line": {
             "colorbar": {
              "outlinewidth": 0,
              "ticks": ""
             }
            },
            "marker": {
             "colorbar": {
              "outlinewidth": 0,
              "ticks": ""
             }
            },
            "type": "scatter3d"
           }
          ],
          "scattercarpet": [
           {
            "marker": {
             "colorbar": {
              "outlinewidth": 0,
              "ticks": ""
             }
            },
            "type": "scattercarpet"
           }
          ],
          "scattergeo": [
           {
            "marker": {
             "colorbar": {
              "outlinewidth": 0,
              "ticks": ""
             }
            },
            "type": "scattergeo"
           }
          ],
          "scattergl": [
           {
            "marker": {
             "colorbar": {
              "outlinewidth": 0,
              "ticks": ""
             }
            },
            "type": "scattergl"
           }
          ],
          "scattermapbox": [
           {
            "marker": {
             "colorbar": {
              "outlinewidth": 0,
              "ticks": ""
             }
            },
            "type": "scattermapbox"
           }
          ],
          "scatterpolar": [
           {
            "marker": {
             "colorbar": {
              "outlinewidth": 0,
              "ticks": ""
             }
            },
            "type": "scatterpolar"
           }
          ],
          "scatterpolargl": [
           {
            "marker": {
             "colorbar": {
              "outlinewidth": 0,
              "ticks": ""
             }
            },
            "type": "scatterpolargl"
           }
          ],
          "scatterternary": [
           {
            "marker": {
             "colorbar": {
              "outlinewidth": 0,
              "ticks": ""
             }
            },
            "type": "scatterternary"
           }
          ],
          "surface": [
           {
            "colorbar": {
             "outlinewidth": 0,
             "ticks": ""
            },
            "colorscale": [
             [
              0,
              "#0d0887"
             ],
             [
              0.1111111111111111,
              "#46039f"
             ],
             [
              0.2222222222222222,
              "#7201a8"
             ],
             [
              0.3333333333333333,
              "#9c179e"
             ],
             [
              0.4444444444444444,
              "#bd3786"
             ],
             [
              0.5555555555555556,
              "#d8576b"
             ],
             [
              0.6666666666666666,
              "#ed7953"
             ],
             [
              0.7777777777777778,
              "#fb9f3a"
             ],
             [
              0.8888888888888888,
              "#fdca26"
             ],
             [
              1,
              "#f0f921"
             ]
            ],
            "type": "surface"
           }
          ],
          "table": [
           {
            "cells": {
             "fill": {
              "color": "#EBF0F8"
             },
             "line": {
              "color": "white"
             }
            },
            "header": {
             "fill": {
              "color": "#C8D4E3"
             },
             "line": {
              "color": "white"
             }
            },
            "type": "table"
           }
          ]
         },
         "layout": {
          "annotationdefaults": {
           "arrowcolor": "#2a3f5f",
           "arrowhead": 0,
           "arrowwidth": 1
          },
          "autotypenumbers": "strict",
          "coloraxis": {
           "colorbar": {
            "outlinewidth": 0,
            "ticks": ""
           }
          },
          "colorscale": {
           "diverging": [
            [
             0,
             "#8e0152"
            ],
            [
             0.1,
             "#c51b7d"
            ],
            [
             0.2,
             "#de77ae"
            ],
            [
             0.3,
             "#f1b6da"
            ],
            [
             0.4,
             "#fde0ef"
            ],
            [
             0.5,
             "#f7f7f7"
            ],
            [
             0.6,
             "#e6f5d0"
            ],
            [
             0.7,
             "#b8e186"
            ],
            [
             0.8,
             "#7fbc41"
            ],
            [
             0.9,
             "#4d9221"
            ],
            [
             1,
             "#276419"
            ]
           ],
           "sequential": [
            [
             0,
             "#0d0887"
            ],
            [
             0.1111111111111111,
             "#46039f"
            ],
            [
             0.2222222222222222,
             "#7201a8"
            ],
            [
             0.3333333333333333,
             "#9c179e"
            ],
            [
             0.4444444444444444,
             "#bd3786"
            ],
            [
             0.5555555555555556,
             "#d8576b"
            ],
            [
             0.6666666666666666,
             "#ed7953"
            ],
            [
             0.7777777777777778,
             "#fb9f3a"
            ],
            [
             0.8888888888888888,
             "#fdca26"
            ],
            [
             1,
             "#f0f921"
            ]
           ],
           "sequentialminus": [
            [
             0,
             "#0d0887"
            ],
            [
             0.1111111111111111,
             "#46039f"
            ],
            [
             0.2222222222222222,
             "#7201a8"
            ],
            [
             0.3333333333333333,
             "#9c179e"
            ],
            [
             0.4444444444444444,
             "#bd3786"
            ],
            [
             0.5555555555555556,
             "#d8576b"
            ],
            [
             0.6666666666666666,
             "#ed7953"
            ],
            [
             0.7777777777777778,
             "#fb9f3a"
            ],
            [
             0.8888888888888888,
             "#fdca26"
            ],
            [
             1,
             "#f0f921"
            ]
           ]
          },
          "colorway": [
           "#636efa",
           "#EF553B",
           "#00cc96",
           "#ab63fa",
           "#FFA15A",
           "#19d3f3",
           "#FF6692",
           "#B6E880",
           "#FF97FF",
           "#FECB52"
          ],
          "font": {
           "color": "#2a3f5f"
          },
          "geo": {
           "bgcolor": "white",
           "lakecolor": "white",
           "landcolor": "#E5ECF6",
           "showlakes": true,
           "showland": true,
           "subunitcolor": "white"
          },
          "hoverlabel": {
           "align": "left"
          },
          "hovermode": "closest",
          "mapbox": {
           "style": "light"
          },
          "paper_bgcolor": "white",
          "plot_bgcolor": "#E5ECF6",
          "polar": {
           "angularaxis": {
            "gridcolor": "white",
            "linecolor": "white",
            "ticks": ""
           },
           "bgcolor": "#E5ECF6",
           "radialaxis": {
            "gridcolor": "white",
            "linecolor": "white",
            "ticks": ""
           }
          },
          "scene": {
           "xaxis": {
            "backgroundcolor": "#E5ECF6",
            "gridcolor": "white",
            "gridwidth": 2,
            "linecolor": "white",
            "showbackground": true,
            "ticks": "",
            "zerolinecolor": "white"
           },
           "yaxis": {
            "backgroundcolor": "#E5ECF6",
            "gridcolor": "white",
            "gridwidth": 2,
            "linecolor": "white",
            "showbackground": true,
            "ticks": "",
            "zerolinecolor": "white"
           },
           "zaxis": {
            "backgroundcolor": "#E5ECF6",
            "gridcolor": "white",
            "gridwidth": 2,
            "linecolor": "white",
            "showbackground": true,
            "ticks": "",
            "zerolinecolor": "white"
           }
          },
          "shapedefaults": {
           "line": {
            "color": "#2a3f5f"
           }
          },
          "ternary": {
           "aaxis": {
            "gridcolor": "white",
            "linecolor": "white",
            "ticks": ""
           },
           "baxis": {
            "gridcolor": "white",
            "linecolor": "white",
            "ticks": ""
           },
           "bgcolor": "#E5ECF6",
           "caxis": {
            "gridcolor": "white",
            "linecolor": "white",
            "ticks": ""
           }
          },
          "title": {
           "x": 0.05
          },
          "xaxis": {
           "automargin": true,
           "gridcolor": "white",
           "linecolor": "white",
           "ticks": "",
           "title": {
            "standoff": 15
           },
           "zerolinecolor": "white",
           "zerolinewidth": 2
          },
          "yaxis": {
           "automargin": true,
           "gridcolor": "white",
           "linecolor": "white",
           "ticks": "",
           "title": {
            "standoff": 15
           },
           "zerolinecolor": "white",
           "zerolinewidth": 2
          }
         }
        },
        "xaxis": {
         "anchor": "y",
         "domain": [
          0,
          1
         ],
         "title": {
          "text": "Branch"
         }
        },
        "yaxis": {
         "anchor": "x",
         "domain": [
          0,
          1
         ],
         "title": {
          "text": "Total"
         }
        }
       }
      }
     },
     "metadata": {},
     "output_type": "display_data"
    }
   ],
   "source": [
    "fig = px.bar (payment, x='Branch', y='Total')\n",
    "fig.show()"
   ]
  },
  {
   "cell_type": "markdown",
   "id": "af8e2c52",
   "metadata": {},
   "source": [
    "### Let's save our dataset\n",
    "\n",
    "\n",
    "Pickle files are serialized data structures that allow you to maintain data state across sessions and they're often used in data science workflows.\n",
    "\n",
    "We want to save our dataframe as is now, after we've cleaned the duplicates and missing entries and then load it to the next notebook we'll be using. For that, we're using the ```to_pickle()``` function:\n",
    "\n"
   ]
  },
  {
   "cell_type": "code",
   "execution_count": 105,
   "id": "6a923505",
   "metadata": {},
   "outputs": [],
   "source": [
    "sales.to_pickle('sales.pkl')"
   ]
  },
  {
   "cell_type": "markdown",
   "id": "040d87ea",
   "metadata": {},
   "source": [
    "Now, the file calles 'sales.pkl' should appear in our folder."
   ]
  },
  {
   "cell_type": "markdown",
   "id": "8eab1a61",
   "metadata": {},
   "source": [
    "### References and literature"
   ]
  },
  {
   "cell_type": "markdown",
   "id": "b59fe74a",
   "metadata": {},
   "source": [
    "- Source of dataset - https://www.kaggle.com/datasets/aungpyaeap/supermarket-sales\n",
    "- W3Schools Pandas Tutorial - https://www.w3schools.com/python/pandas/default.asp\n",
    "- Data Science Handbook: https://jakevdp.github.io/PythonDataScienceHandbook/\n",
    "- more EDA on this dataset - https://www.kaggle.com/code/bharadwajnalla/sales-exploratory-data-analysis\n",
    "- good tutorial on Meidum - https://medium.com/ds-notes/learning-python-pandas-in-minutes-part-1-basics-f24463da1a18\n",
    "- good tutorial on GitHub - https://github.com/alod83/data-science"
   ]
  }
 ],
 "metadata": {
  "kernelspec": {
   "display_name": "Python 3 (ipykernel)",
   "language": "python",
   "name": "python3"
  },
  "language_info": {
   "codemirror_mode": {
    "name": "ipython",
    "version": 3
   },
   "file_extension": ".py",
   "mimetype": "text/x-python",
   "name": "python",
   "nbconvert_exporter": "python",
   "pygments_lexer": "ipython3",
   "version": "3.10.9"
  }
 },
 "nbformat": 4,
 "nbformat_minor": 5
}
