{
 "cells": [
  {
   "cell_type": "markdown",
   "metadata": {},
   "source": [
    "# Shakespeare & Company Analysis\n",
    "\n",
    "---\n",
    "\n",
    "## Historical Context\n",
    "\n",
    "[Shakespeare and Company Project](https://shakespeareandco.princeton.edu/)\n",
    "\n",
    "In 1919, Sylvia Beach (1887–1962), an American expatriate, established an English-language bookshop and lending library on the Left Bank in Paris. Named Shakespeare and Company, it became a vibrant hub of expatriate literary and intellectual life. In 1922, Beach gained international fame by publishing James Joyce’s *Ulysses* under the Shakespeare and Company imprint.\n",
    "\n",
    "For over two decades, the bookshop and lending library offered a diverse collection ranging from avant-garde poetry to philosophy and even birth control manuals. Despite its cultural significance, the bookshop closed in 1941 during the German occupation of France. Although Shakespeare and Company never reopened, Beach continued to loan books from her apartment until her passing in 1962.\n",
    "\n",
    "The Shakespeare and Company Project leverages Beach’s meticulously kept records to illuminate the reading practices of prominent 20th-century writers and countless other artists, intellectuals, and students who lived in Paris during the interwar years.\n",
    "\n",
    "---\n",
    "\n",
    "## Thesis\n",
    "\n",
    "This Master's thesis addresses the following research question:\n",
    "\n",
    "**What patterns of literary influence and social connectivity emerge from the borrowing activity among author-members of the Shakespeare and Company lending library in the early 20th century?**\n",
    "\n",
    "### Definition of Author-Members\n",
    "Author-members are defined as individuals who had at least one book, authored solely by them, available in the Shakespeare and Company lending library.\n",
    "\n",
    "---\n",
    "\n",
    "## Notebook Overview\n",
    "\n",
    "This notebook includes the following analyses:\n",
    "\n",
    "### 01_intersection.ipynb\n",
    "- **Intersection:** Identification of shared characteristics among author-members.\n",
    "\n",
    "### 02_geospatial-analysis.ipynb\n",
    "- **By Continent:** Distribution of author-members across continents.\n",
    "- **In and Around Paris:** Locations of author-members within Paris and its surroundings.\n",
    "- **Shared Addresses:** Exploration of shared addresses to identify potential connections.\n",
    "\n",
    "### 03_statistical-analysis.ipynb\n",
    "- **Nationalities:** Examination of author-member national origins.\n",
    "- **Books:** Quantification of books authored by author-members available in the library.\n",
    "\n",
    "### 04_network-analysis.ipynb\n",
    "- **All Books:** Borrowing activity across the entire collection, with network metrics calculated.\n",
    "- **Author-Member Books:** Focused analysis of borrowing activity involving books authored by author-members, with corresponding network metrics.\n",
    "\n",
    "These notebooks serve as a tool to explore and visualize the complex social and literary networks that characterized Shakespeare and Company in the early 20th century."
   ]
  }
 ],
 "metadata": {
  "kernelspec": {
   "display_name": "base",
   "language": "python",
   "name": "python3"
  },
  "language_info": {
   "codemirror_mode": {
    "name": "ipython",
    "version": 3
   },
   "file_extension": ".py",
   "mimetype": "text/x-python",
   "name": "python",
   "nbconvert_exporter": "python",
   "pygments_lexer": "ipython3",
   "version": "3.10.9"
  }
 },
 "nbformat": 4,
 "nbformat_minor": 2
}
