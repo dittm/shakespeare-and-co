{
 "cells": [
  {
   "cell_type": "markdown",
   "metadata": {},
   "source": [
    "This notebook involves the extraction of the intersection between authors and members of the Shakespeare and Company lending library.\n",
    "\n",
    "Necessary libraries are imported:"
   ]
  },
  {
   "cell_type": "code",
   "execution_count": 49,
   "metadata": {
    "ExecuteTime": {
     "end_time": "2024-12-14T12:32:00.288862800Z",
     "start_time": "2024-12-14T12:31:58.638861Z"
    }
   },
   "outputs": [],
   "source": [
    "import matplotlib.pyplot as plt # for plotting\n",
    "import pandas as pd # for data manipulation\n",
    "from matplotlib_venn import venn2 # for venn diagram"
   ]
  },
  {
   "cell_type": "markdown",
   "metadata": {},
   "source": [
    "Next, the `books` and `members` datasets from Princeton University's Shakespeare and Company Project are loaded. The `books` dataset contains information about the books in the library of Shakespeare and Company. The `members` dataset contains information about the members of the library."
   ]
  },
  {
   "cell_type": "code",
   "execution_count": 50,
   "metadata": {
    "ExecuteTime": {
     "end_time": "2024-12-14T12:32:00.741156800Z",
     "start_time": "2024-12-14T12:32:00.288862800Z"
    }
   },
   "outputs": [],
   "source": [
    "books = pd.read_csv('../data/raw/SCoData_books_v1.2_2022_01.csv',\n",
    "                    encoding='utf-8',\n",
    "                    dtype={'year': 'Int32'})\n",
    "\n",
    "members = pd.read_csv(\n",
    "    '../data/raw/SCoData_members_v1.2_2022_01.csv',\n",
    "    encoding='utf-8',\n",
    "    dtype={'birth_year': 'Int32', 'death_year': 'Int32'}\n",
    ")"
   ]
  },
  {
   "cell_type": "code",
   "execution_count": 51,
   "metadata": {
    "ExecuteTime": {
     "end_time": "2024-12-14T12:32:00.882575700Z",
     "start_time": "2024-12-14T12:32:00.741156800Z"
    }
   },
   "outputs": [
    {
     "name": "stdout",
     "output_type": "stream",
     "text": [
      "Index(['uri', 'title', 'author', 'editor', 'translator', 'introduction',\n",
      "       'illustrator', 'photographer', 'year', 'format', 'uncertain',\n",
      "       'ebook_url', 'volumes_issues', 'notes', 'event_count', 'borrow_count',\n",
      "       'purchase_count', 'circulation_years', 'updated'],\n",
      "      dtype='object')\n"
     ]
    }
   ],
   "source": [
    "print(books.columns)"
   ]
  },
  {
   "cell_type": "code",
   "execution_count": 52,
   "metadata": {},
   "outputs": [
    {
     "name": "stdout",
     "output_type": "stream",
     "text": [
      "Index(['uri', 'name', 'sort_name', 'title', 'gender', 'is_organization',\n",
      "       'has_card', 'birth_year', 'death_year', 'membership_years', 'viaf_url',\n",
      "       'wikipedia_url', 'nationalities', 'addresses', 'postal_codes',\n",
      "       'arrondissements', 'coordinates', 'notes', 'updated'],\n",
      "      dtype='object')\n"
     ]
    }
   ],
   "source": [
    "print(members.columns)"
   ]
  },
  {
   "cell_type": "markdown",
   "metadata": {},
   "source": [
    "## Authors"
   ]
  },
  {
   "cell_type": "markdown",
   "metadata": {},
   "source": [
    "In the next steps, the authors will be identified. The authors are the people who wrote the books that are in the Shakespeare and Company lending library. The authors are identified by the `author` field in the `books` DataFrame."
   ]
  },
  {
   "cell_type": "code",
   "execution_count": 53,
   "metadata": {
    "ExecuteTime": {
     "end_time": "2024-12-14T12:32:00.898745Z",
     "start_time": "2024-12-14T12:32:00.780115700Z"
    }
   },
   "outputs": [
    {
     "name": "stdout",
     "output_type": "stream",
     "text": [
      "(1883, 1)\n",
      "            author\n",
      "0   Malory, Thomas\n",
      "1     More, Thomas\n",
      "2   Norton, Thomas\n",
      "3       Lyly, John\n",
      "4  Spenser, Edmund\n"
     ]
    }
   ],
   "source": [
    "# Filter books of format 'Book', select the 'author' column, drop missing values and duplicates\n",
    "filtered_authors = (\n",
    "    books.loc[books['format'] == 'Book', ['author']]\n",
    "    .dropna(subset=['author'])\n",
    "    .drop_duplicates(subset=['author'])\n",
    ")\n",
    "\n",
    "# Retain only rows with a single author by excluding entries that contain a semicolon\n",
    "# This means that only authors that solely wrote a book by themselves are included\n",
    "unique_authors = filtered_authors[\n",
    "    ~filtered_authors['author'].str.contains(';')\n",
    "].reset_index(drop=True)\n",
    "\n",
    "# Output the shape and content of the resulting DataFrame\n",
    "print(unique_authors.shape)\n",
    "print(unique_authors.head(5))"
   ]
  },
  {
   "cell_type": "markdown",
   "metadata": {},
   "source": [
    "## Members"
   ]
  },
  {
   "cell_type": "markdown",
   "metadata": {},
   "source": [
    "In the next step, the members will be identified. The members are the people who were registered at the Shakespeare and Company lending library. The members are identified by the `sort_name` field in the `members` DataFrame."
   ]
  },
  {
   "cell_type": "code",
   "execution_count": 54,
   "metadata": {
    "ExecuteTime": {
     "end_time": "2024-12-14T12:32:01.104512Z",
     "start_time": "2024-12-14T12:32:00.898745Z"
    }
   },
   "outputs": [
    {
     "name": "stdout",
     "output_type": "stream",
     "text": [
      "(5235, 1)\n",
      "           sort_name\n",
      "0   Abbott, Berenice\n",
      "1  Abbott, Mrs. Paul\n",
      "2              Abdul\n",
      "3   Abel, Ernst Otto\n",
      "4             Abelin\n"
     ]
    }
   ],
   "source": [
    "# Select the 'sort_name' column, filter out missing values, and remove duplicate entries\n",
    "unique_members = (\n",
    "    members.loc[members['sort_name']\n",
    "    .notna(), ['sort_name']]\n",
    ")\n",
    "\n",
    "# Output the shape and content of the resulting DataFrame\n",
    "print(unique_members.shape)\n",
    "print(unique_members.head(5))"
   ]
  },
  {
   "cell_type": "markdown",
   "metadata": {},
   "source": [
    "## Intersection: Authors and Members"
   ]
  },
  {
   "cell_type": "markdown",
   "metadata": {},
   "source": [
    "Now the intersection between authors and members will be identified to extract the authors who were also members of the Shakespeare and Company lending library. The intersection is identified by the `author` field in the `books` DataFrame and the `sort_name` field in the `members` DataFrame."
   ]
  },
  {
   "cell_type": "code",
   "execution_count": 55,
   "metadata": {
    "ExecuteTime": {
     "end_time": "2024-12-14T12:32:01.104512Z",
     "start_time": "2024-12-14T12:32:00.941020800Z"
    }
   },
   "outputs": [
    {
     "name": "stdout",
     "output_type": "stream",
     "text": [
      "Number of detected intersections: 84\n",
      "Number of lines: 84\n",
      "Number of columns: 19\n"
     ]
    }
   ],
   "source": [
    "# Compute the intersection between unique authors and unique members using pandas Index\n",
    "intersection_names = pd.Index(unique_authors['author']).intersection(unique_members['sort_name'])\n",
    "\n",
    "# Filter the members DataFrame to retain only those entries whose 'sort_name' is in the intersection\n",
    "author_is_member = members[members['sort_name'].isin(intersection_names)]\n",
    "\n",
    "# Reset the index of the resulting DataFrame\n",
    "author_is_member = author_is_member.reset_index(drop=True)\n",
    "\n",
    "# Output verification information\n",
    "print(f\"Number of detected intersections: {len(intersection_names)}\")\n",
    "print(f\"Number of lines: {author_is_member.shape[0]}\")\n",
    "print(f\"Number of columns: {author_is_member.shape[1]}\")"
   ]
  },
  {
   "cell_type": "markdown",
   "metadata": {},
   "source": [
    "The `author_is_member` DataFrame contains the authors who were also members of the Shakespeare and Company lending library. It has the following columns:"
   ]
  },
  {
   "cell_type": "code",
   "execution_count": 56,
   "metadata": {},
   "outputs": [
    {
     "name": "stdout",
     "output_type": "stream",
     "text": [
      "Index(['uri', 'name', 'sort_name', 'title', 'gender', 'is_organization',\n",
      "       'has_card', 'birth_year', 'death_year', 'membership_years', 'viaf_url',\n",
      "       'wikipedia_url', 'nationalities', 'addresses', 'postal_codes',\n",
      "       'arrondissements', 'coordinates', 'notes', 'updated'],\n",
      "      dtype='object')\n"
     ]
    }
   ],
   "source": [
    "print(author_is_member.columns)"
   ]
  },
  {
   "cell_type": "markdown",
   "metadata": {},
   "source": [
    "(These columns are identical with the columns of Princeton's `member` DataFrame.)"
   ]
  },
  {
   "cell_type": "markdown",
   "metadata": {},
   "source": [
    "For reusability purposes, the `author_is_member` DataFrame is saved as a CSV file and will build the basis for further analysis."
   ]
  },
  {
   "cell_type": "code",
   "execution_count": 57,
   "metadata": {},
   "outputs": [],
   "source": [
    "# Export the DataFrame to CSV\n",
    "author_is_member.to_csv(\n",
    "    '../data/processed/table-data/01_author_is_member.csv',\n",
    "    index=False,\n",
    "    encoding='utf-8'\n",
    ")"
   ]
  },
  {
   "cell_type": "markdown",
   "metadata": {},
   "source": [
    "To get a better understanding who author-members were, the names of the author-members are extracted and saved in a txt file. The txt file lists the names of the author-members in alphabetical order."
   ]
  },
  {
   "cell_type": "code",
   "execution_count": 58,
   "metadata": {},
   "outputs": [
    {
     "name": "stdout",
     "output_type": "stream",
     "text": [
      "0        Richard Aldington\n",
      "1     Margaret C. Anderson\n",
      "2           George Antheil\n",
      "3             Louis Aragon\n",
      "4              Nathan Asch\n",
      "              ...         \n",
      "79            Anna Wickham\n",
      "80         Thornton Wilder\n",
      "81         Margaret Wilson\n",
      "82            Romer Wilson\n",
      "83          Richard Wright\n",
      "Name: name, Length: 84, dtype: object\n"
     ]
    }
   ],
   "source": [
    "# Extract the 'name' column from the DataFrame\n",
    "author_is_member_names = author_is_member['name']\n",
    "\n",
    "print(author_is_member_names)\n",
    "\n",
    "# Open the target file and write each name on a new line.\n",
    "# AM in the file name refers to 'Author-Member'\n",
    "with open('../data/processed/table-data/01_AM_names.txt', 'w', encoding='utf-8') as f:\n",
    "    for name in author_is_member_names:\n",
    "        f.write(name + '\\n')"
   ]
  },
  {
   "cell_type": "markdown",
   "metadata": {},
   "source": [
    "The next step is to create a Venn diagram to visualize the intersection between authors and members. The Venn diagram shows the number of authors, the number of members, and the number of author-members."
   ]
  },
  {
   "cell_type": "code",
   "execution_count": 59,
   "metadata": {
    "ExecuteTime": {
     "end_time": "2024-12-14T12:32:01.357561800Z",
     "start_time": "2024-12-14T12:32:00.961876800Z"
    }
   },
   "outputs": [
    {
     "data": {
      "image/png": "[encoded data removed]",
      "text/plain": [
       "<Figure size 640x480 with 1 Axes>"
      ]
     },
     "metadata": {},
     "output_type": "display_data"
    }
   ],
   "source": [
    "# Calculate the number of elements exclusive to each set and the intersection\n",
    "authors_only = len(unique_authors) - len(intersection_names)\n",
    "members_only = len(unique_members) - len(intersection_names)\n",
    "common = len(intersection_names)\n",
    "\n",
    "# Create the Venn diagram with customized colors and transparency\n",
    "venn_diagram = venn2(subsets=(authors_only, members_only, common),\n",
    "                     set_labels=('Authors', 'Members'),\n",
    "                     set_colors=('#0072B2', '#E69F00'),\n",
    "                     alpha=0.6)\n",
    "\n",
    "# Customize the subset labels by setting font size and color\n",
    "for subset_label in venn_diagram.subset_labels:\n",
    "    if subset_label is not None:\n",
    "        subset_label.set_fontsize(12)\n",
    "        subset_label.set_color('black')\n",
    "\n",
    "# Set the title of the diagram\n",
    "plt.title(\"Venn Diagram of Authors and Members\", fontsize=16, fontweight='bold')\n",
    "\n",
    "# Save the figure\n",
    "# AM in the file name refers to 'Author-Member'\n",
    "plt.savefig('../data/processed/figure-images/01_venn_AM.png', dpi=300)\n",
    "\n",
    "# Display the final Venn diagram\n",
    "plt.show()"
   ]
  },
  {
   "cell_type": "markdown",
   "metadata": {},
   "source": [
    "The following calculates the author-member intersection relative to the number of authors and members, respectively."
   ]
  },
  {
   "cell_type": "code",
   "execution_count": 60,
   "metadata": {},
   "outputs": [
    {
     "name": "stdout",
     "output_type": "stream",
     "text": [
      "Percent of the intersection relative to authors: 4.46%\n",
      "Percent of the intersection relative to members: 1.60%\n"
     ]
    }
   ],
   "source": [
    "# Calculate the size of the intersection set\n",
    "intersection_size = len(intersection_names)\n",
    "\n",
    "# Calculate the percentages\n",
    "percent_intersection_authors = (intersection_size / len(unique_authors)) * 100\n",
    "percent_intersection_members = (intersection_size / len(unique_members)) * 100\n",
    "\n",
    "# Print the results\n",
    "print(f'Percent of the intersection relative to authors: {percent_intersection_authors:.2f}%')\n",
    "print(f'Percent of the intersection relative to members: {percent_intersection_members:.2f}%')"
   ]
  }
 ],
 "metadata": {
  "kernelspec": {
   "display_name": "base",
   "language": "python",
   "name": "python3"
  },
  "language_info": {
   "codemirror_mode": {
    "name": "ipython",
    "version": 3
   },
   "file_extension": ".py",
   "mimetype": "text/x-python",
   "name": "python",
   "nbconvert_exporter": "python",
   "pygments_lexer": "ipython3",
   "version": "3.10.9"
  }
 },
 "nbformat": 4,
 "nbformat_minor": 2
}
