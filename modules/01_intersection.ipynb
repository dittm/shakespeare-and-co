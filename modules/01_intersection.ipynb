{
 "cells": [
  {
   "cell_type": "markdown",
   "metadata": {},
   "source": [
    "This notebook involves the intersection of authors and members of the Shakespeare and Company lending library."
   ]
  },
  {
   "cell_type": "code",
   "execution_count": 1,
   "metadata": {
    "ExecuteTime": {
     "end_time": "2024-12-14T12:32:00.288862800Z",
     "start_time": "2024-12-14T12:31:58.638861Z"
    }
   },
   "outputs": [],
   "source": [
    "import matplotlib.pyplot as plt\n",
    "import pandas as pd\n",
    "from matplotlib_venn import venn2"
   ]
  },
  {
   "cell_type": "code",
   "execution_count": 2,
   "metadata": {
    "ExecuteTime": {
     "end_time": "2024-12-14T12:32:00.741156800Z",
     "start_time": "2024-12-14T12:32:00.288862800Z"
    }
   },
   "outputs": [],
   "source": [
    "books = pd.read_csv('../data/raw/SCoData_books_v1.2_2022_01.csv', encoding='utf-8', dtype={'year': 'Int32'})\n",
    "members = pd.read_csv('../data/raw/SCoData_members_v1.2_2022_01.csv', encoding='utf-8')"
   ]
  },
  {
   "cell_type": "code",
   "execution_count": 3,
   "metadata": {
    "ExecuteTime": {
     "end_time": "2024-12-14T12:32:00.882575700Z",
     "start_time": "2024-12-14T12:32:00.741156800Z"
    }
   },
   "outputs": [
    {
     "data": {
      "text/plain": [
       "Index(['uri', 'title', 'author', 'editor', 'translator', 'introduction',\n",
       "       'illustrator', 'photographer', 'year', 'format', 'uncertain',\n",
       "       'ebook_url', 'volumes_issues', 'notes', 'event_count', 'borrow_count',\n",
       "       'purchase_count', 'circulation_years', 'updated'],\n",
       "      dtype='object')"
      ]
     },
     "execution_count": 3,
     "metadata": {},
     "output_type": "execute_result"
    }
   ],
   "source": [
    "books.columns"
   ]
  },
  {
   "cell_type": "code",
   "execution_count": 4,
   "metadata": {},
   "outputs": [
    {
     "data": {
      "text/plain": [
       "Index(['uri', 'name', 'sort_name', 'title', 'gender', 'is_organization',\n",
       "       'has_card', 'birth_year', 'death_year', 'membership_years', 'viaf_url',\n",
       "       'wikipedia_url', 'nationalities', 'addresses', 'postal_codes',\n",
       "       'arrondissements', 'coordinates', 'notes', 'updated'],\n",
       "      dtype='object')"
      ]
     },
     "execution_count": 4,
     "metadata": {},
     "output_type": "execute_result"
    }
   ],
   "source": [
    "members.columns"
   ]
  },
  {
   "cell_type": "markdown",
   "metadata": {},
   "source": [
    "## Authors"
   ]
  },
  {
   "cell_type": "markdown",
   "metadata": {},
   "source": [
    "In the next steps, the authors will be identified."
   ]
  },
  {
   "cell_type": "code",
   "execution_count": 5,
   "metadata": {
    "ExecuteTime": {
     "end_time": "2024-12-14T12:32:00.898745Z",
     "start_time": "2024-12-14T12:32:00.780115700Z"
    }
   },
   "outputs": [
    {
     "data": {
      "text/plain": [
       "(1995, 1)"
      ]
     },
     "execution_count": 5,
     "metadata": {},
     "output_type": "execute_result"
    }
   ],
   "source": [
    "# Filter books of format 'Book', select relevant columns, and split authors into lists\n",
    "book_authors = (\n",
    "    books[books['format'] == 'Book'][['author']]  # Filter only books, selecting 'author' column\n",
    "    .dropna(subset=['author'])  # Drop rows with missing authors specifically\n",
    ")\n",
    "\n",
    "# Exploding the 'author' column to create a new row for each author per book\n",
    "exploded_authors = book_authors.explode('author')\n",
    "\n",
    "# Remove duplicates to get only unique authors\n",
    "unique_authors = exploded_authors.drop_duplicates(subset=['author'])\n",
    "\n",
    "# Display a sample of the resulting DataFrame to verify the result\n",
    "unique_authors.sample(10)\n",
    "unique_authors.shape"
   ]
  },
  {
   "cell_type": "markdown",
   "metadata": {},
   "source": [
    "## Members"
   ]
  },
  {
   "cell_type": "markdown",
   "metadata": {},
   "source": [
    "In the next step, the members will be identified."
   ]
  },
  {
   "cell_type": "code",
   "execution_count": 6,
   "metadata": {
    "ExecuteTime": {
     "end_time": "2024-12-14T12:32:01.104512Z",
     "start_time": "2024-12-14T12:32:00.898745Z"
    }
   },
   "outputs": [
    {
     "data": {
      "text/plain": [
       "(4804, 1)"
      ]
     },
     "execution_count": 6,
     "metadata": {},
     "output_type": "execute_result"
    }
   ],
   "source": [
    "# Filter members and remove duplicates in one step\n",
    "member_filtered = members[['sort_name']].dropna().drop_duplicates(subset=['sort_name'])\n",
    "\n",
    "# Verify the shape of the filtered and deduplicated data\n",
    "member_filtered.shape\n",
    "\n",
    "# unique_members is now simply the same as member_filtered\n",
    "unique_members = member_filtered\n",
    "\n",
    "# Verify the shape of the unique members\n",
    "unique_members.shape"
   ]
  },
  {
   "cell_type": "markdown",
   "metadata": {},
   "source": [
    "## Intersection: Authors and Members"
   ]
  },
  {
   "cell_type": "markdown",
   "metadata": {},
   "source": [
    "Now the intersection between authors and members will be identified to extract the authors who were also members of the Shakespeare and Company lending library."
   ]
  },
  {
   "cell_type": "code",
   "execution_count": 7,
   "metadata": {
    "ExecuteTime": {
     "end_time": "2024-12-14T12:32:01.104512Z",
     "start_time": "2024-12-14T12:32:00.941020800Z"
    }
   },
   "outputs": [
    {
     "name": "stdout",
     "output_type": "stream",
     "text": [
      "Intersection count: 84\n",
      "Matched members shape: (84, 19)\n"
     ]
    }
   ],
   "source": [
    "# Extract unique authors and members\n",
    "unique_authors = set(unique_authors['author'])\n",
    "unique_members = set(unique_members['sort_name'])\n",
    "\n",
    "# Calculate the intersection\n",
    "intersection_names = unique_authors.intersection(unique_members)\n",
    "\n",
    "# Create a DataFrame from the intersection\n",
    "intersection_df = pd.DataFrame({'name': list(intersection_names)})\n",
    "\n",
    "# Merge to get all columns for matched members\n",
    "member_is_author = members[members['sort_name'].isin(intersection_df['name'])]\n",
    "\n",
    "# Display shapes for debugging/verification\n",
    "print(f\"Intersection count: {len(intersection_names)}\")\n",
    "print(f\"Matched members shape: {member_is_author.shape}\")"
   ]
  },
  {
   "cell_type": "code",
   "execution_count": 8,
   "metadata": {},
   "outputs": [
    {
     "data": {
      "text/plain": [
       "Index(['uri', 'name', 'sort_name', 'title', 'gender', 'is_organization',\n",
       "       'has_card', 'birth_year', 'death_year', 'membership_years', 'viaf_url',\n",
       "       'wikipedia_url', 'nationalities', 'addresses', 'postal_codes',\n",
       "       'arrondissements', 'coordinates', 'notes', 'updated'],\n",
       "      dtype='object')"
      ]
     },
     "execution_count": 8,
     "metadata": {},
     "output_type": "execute_result"
    }
   ],
   "source": [
    "member_is_author.columns"
   ]
  },
  {
   "cell_type": "markdown",
   "metadata": {},
   "source": [
    "Now saving the member_is_author data to a csv file."
   ]
  },
  {
   "cell_type": "code",
   "execution_count": 9,
   "metadata": {},
   "outputs": [],
   "source": [
    "member_is_author.to_csv('../data/member_is_author.csv', index=False) "
   ]
  },
  {
   "cell_type": "markdown",
   "metadata": {},
   "source": [
    "The next step is to create a Venn diagram to visualize the intersection between authors and members."
   ]
  },
  {
   "cell_type": "code",
   "execution_count": 10,
   "metadata": {
    "ExecuteTime": {
     "end_time": "2024-12-14T12:32:01.357561800Z",
     "start_time": "2024-12-14T12:32:00.961876800Z"
    }
   },
   "outputs": [
    {
     "data": {
      "image/png": "[encoded data removed]",
      "text/plain": [
       "<Figure size 640x480 with 1 Axes>"
      ]
     },
     "metadata": {},
     "output_type": "display_data"
    }
   ],
   "source": [
    "# Create the Venn diagram for authors with customized colors and modern style\n",
    "venn = venn2(subsets=(len(unique_authors) - len(intersection_names), \n",
    "                     len(unique_members) - len(intersection_names), \n",
    "                     len(intersection_names)),\n",
    "             set_labels=('Authors', 'Members'),\n",
    "             set_colors=('darkgray', 'mediumpurple'),\n",
    "             alpha=0.6)\n",
    "\n",
    "# Customize the subset labels\n",
    "for subset in venn.subset_labels:\n",
    "    if subset is not None:\n",
    "        subset.set_fontsize(12)\n",
    "        subset.set_color('black')\n",
    "\n",
    "# Display the plot\n",
    "plt.title(\"Venn Diagram of Authors and Members\", fontsize=16, fontweight='bold')\n",
    "plt.show()"
   ]
  },
  {
   "cell_type": "code",
   "execution_count": 11,
   "metadata": {},
   "outputs": [
    {
     "name": "stdout",
     "output_type": "stream",
     "text": [
      "Percent of the intersection relative to authors: 4.21%\n",
      "Percent of the intersection relative to members: 1.75%\n"
     ]
    }
   ],
   "source": [
    "# Calculate the size of the intersection set\n",
    "intersection_size = len(intersection_names)\n",
    "\n",
    "# Calculate the percentages\n",
    "percent_intersection_authors = (intersection_size / len(unique_authors)) * 100\n",
    "percent_intersection_members = (intersection_size / len(unique_members)) * 100\n",
    "\n",
    "# Print the results\n",
    "print(f'Percent of the intersection relative to authors: {percent_intersection_authors:.2f}%')\n",
    "print(f'Percent of the intersection relative to members: {percent_intersection_members:.2f}%')"
   ]
  }
 ],
 "metadata": {
  "kernelspec": {
   "display_name": "base",
   "language": "python",
   "name": "python3"
  },
  "language_info": {
   "codemirror_mode": {
    "name": "ipython",
    "version": 3
   },
   "file_extension": ".py",
   "mimetype": "text/x-python",
   "name": "python",
   "nbconvert_exporter": "python",
   "pygments_lexer": "ipython3",
   "version": "3.10.9"
  }
 },
 "nbformat": 4,
 "nbformat_minor": 2
}
